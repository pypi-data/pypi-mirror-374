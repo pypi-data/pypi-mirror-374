{
 "cells": [
  {
   "cell_type": "markdown",
   "id": "79602ebd",
   "metadata": {},
   "source": [
    "Generating a basic image with `ufig` can be done by building up a context of the `ivy` workflow engine. Then, at least two plugins need to be called to compute the PSF at each object and render the image."
   ]
  },
  {
   "cell_type": "code",
   "execution_count": null,
   "id": "2abdb2c8",
   "metadata": {},
   "outputs": [],
   "source": [
    "import ivy\n",
    "import numpy as np\n",
    "\n",
    "ctx = ivy.context.create_ctx(\n",
    "    parameters=ivy.load_configs(\"ufig.config.common\")\n",
    ")\n",
    "\n",
    "ctx.parameters.catalog_precision=np.float32\n",
    "ctx.parameters.size_x = 100\n",
    "ctx.parameters.size_y = 100\n",
    "\n",
    "ctx.numgalaxies = 3\n",
    "ctx.galaxies = ivy.context.create_ctx(\n",
    "    x=np.array([10, 40, 70]),\n",
    "    y=np.array([30, 80, 20]),\n",
    "    nphot=np.array([1e4, 1e5, 1e3]),\n",
    "    r50=np.array([3, 5, 1]),\n",
    "    sersic_n=np.array([1, 2, 3]),\n",
    "    e1=np.array([-0.1, 0.1, 0]),\n",
    "    e2=np.array([-0.5, 0.3, 0.2]),\n",
    "    psf_beta=2,\n",
    "    psf_e1=np.array([0.0, 0.0, 0.0]),\n",
    "    psf_e2=np.array([0.0, 0.0, 0.0]),\n",
    "    psf_f1=np.array([0.0, 0.0, 0.0]),\n",
    "    psf_f2=np.array([0.0, 0.0, 0.0]),\n",
    "    psf_g1=np.array([0.0, 0.0, 0.0]),\n",
    "    psf_g2=np.array([0.0, 0.0, 0.0]),\n",
    "    psf_kurtosis=np.array([0.0, 0.0, 0.0]),\n",
    "    \n",
    ")\n",
    "\n",
    "ctx.image = np.zeros((ctx.parameters.size_x, ctx.parameters.size_y))\n",
    "ctx.current_filter=\"i\""
   ]
  },
  {
   "cell_type": "code",
   "execution_count": null,
   "id": "e258820d",
   "metadata": {},
   "outputs": [],
   "source": [
    "from ufig.plugins import render_galaxies_flexion, add_psf\n",
    "\n",
    "plugin_psf = add_psf.Plugin(ctx)\n",
    "plugin_psf()\n",
    "\n",
    "plugin_rendering = render_galaxies_flexion.Plugin(ctx)\n",
    "plugin_rendering()\n"
   ]
  },
  {
   "cell_type": "code",
   "execution_count": null,
   "id": "46ccf205",
   "metadata": {},
   "outputs": [],
   "source": [
    "from astropy.io import fits\n",
    "from astropy.visualization import ImageNormalize, LogStretch\n",
    "from astropy.visualization.mpl_normalize import ImageNormalize\n",
    "from astropy.visualization import PercentileInterval\n",
    "import matplotlib.pyplot as plt\n",
    "\n",
    "interval = PercentileInterval(95)\n",
    "vmin, vmax = interval.get_limits(ctx.image)\n",
    "norm = ImageNormalize(vmin=vmin, vmax=vmax, stretch=LogStretch())\n",
    "\n",
    "# Plot the first image\n",
    "plt.imshow(ctx.image, cmap='gray', norm=norm)"
   ]
  },
  {
   "cell_type": "code",
   "execution_count": null,
   "id": "8c3f81b4",
   "metadata": {},
   "outputs": [],
   "source": []
  }
 ],
 "metadata": {
  "kernelspec": {
   "display_name": "Python (myenv)",
   "language": "python",
   "name": "myenv"
  },
  "language_info": {
   "codemirror_mode": {
    "name": "ipython",
    "version": 3
   },
   "file_extension": ".py",
   "mimetype": "text/x-python",
   "name": "python",
   "nbconvert_exporter": "python",
   "pygments_lexer": "ipython3",
   "version": "3.12.6"
  },
  "toc": {
   "base_numbering": 1,
   "nav_menu": {},
   "number_sections": true,
   "sideBar": true,
   "skip_h1_title": false,
   "title_cell": "Table of Contents",
   "title_sidebar": "Contents",
   "toc_cell": false,
   "toc_position": {},
   "toc_section_display": true,
   "toc_window_display": false
  }
 },
 "nbformat": 4,
 "nbformat_minor": 5
}
