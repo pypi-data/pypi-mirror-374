{
 "cells": [
  {
   "cell_type": "markdown",
   "id": "b2d1833b",
   "metadata": {},
   "source": [
    "In the following tutorial, we will describe briefly how `ufig` can be used to generate astronomical images based from catalogs. In all the examples, we use the `ivy` workflow engine."
   ]
  },
  {
   "cell_type": "markdown",
   "id": "0f4d88b5",
   "metadata": {},
   "source": [
    "# Predefinied catalog"
   ]
  },
  {
   "cell_type": "code",
   "execution_count": null,
   "id": "f3008e41",
   "metadata": {},
   "outputs": [],
   "source": [
    "import ivy\n",
    "import numpy as np\n",
    "\n",
    "ctx = ivy.context.create_ctx(\n",
    "    parameters=ivy.load_configs(\"ufig.config.common\")\n",
    ")\n",
    "\n",
    "ctx.parameters.catalog_precision=np.float32\n",
    "ctx.parameters.size_x = 100\n",
    "ctx.parameters.size_y = 100\n",
    "\n",
    "ctx.numgalaxies = 3\n",
    "ctx.galaxies = ivy.context.create_ctx(\n",
    "    x=np.array([10, 40, 70]),\n",
    "    y=np.array([30, 80, 20]),\n",
    "    nphot=np.array([1e4, 1e5, 1e3]),\n",
    "    r50=np.array([3, 5, 1]),\n",
    "    sersic_n=np.array([1, 2, 3]),\n",
    "    e1=np.array([-0.1, 0.1, 0]),\n",
    "    e2=np.array([-0.5, 0.3, 0.2]),\n",
    "    psf_beta=2,\n",
    "    psf_e1=np.array([0.0, 0.0, 0.0]),\n",
    "    psf_e2=np.array([0.0, 0.0, 0.0]),\n",
    "    psf_f1=np.array([0.0, 0.0, 0.0]),\n",
    "    psf_f2=np.array([0.0, 0.0, 0.0]),\n",
    "    psf_g1=np.array([0.0, 0.0, 0.0]),\n",
    "    psf_g2=np.array([0.0, 0.0, 0.0]),\n",
    "    psf_kurtosis=np.array([0.0, 0.0, 0.0]),\n",
    "    \n",
    ")\n",
    "\n",
    "ctx.image = np.zeros((ctx.parameters.size_x, ctx.parameters.size_y))\n",
    "ctx.current_filter=\"i\""
   ]
  },
  {
   "cell_type": "code",
   "execution_count": null,
   "id": "1ce08cdc",
   "metadata": {},
   "outputs": [],
   "source": [
    "from ufig.plugins import render_galaxies_flexion, add_psf\n",
    "\n",
    "plugin_psf = add_psf.Plugin(ctx)\n",
    "plugin_psf()\n",
    "\n",
    "plugin_rendering = render_galaxies_flexion.Plugin(ctx)\n",
    "plugin_rendering()\n"
   ]
  },
  {
   "cell_type": "code",
   "execution_count": null,
   "id": "9452aaec",
   "metadata": {},
   "outputs": [],
   "source": [
    "from astropy.io import fits\n",
    "from astropy.visualization import ImageNormalize, LogStretch\n",
    "from astropy.visualization.mpl_normalize import ImageNormalize\n",
    "from astropy.visualization import PercentileInterval\n",
    "import matplotlib.pyplot as plt\n",
    "\n",
    "interval = PercentileInterval(95)\n",
    "vmin, vmax = interval.get_limits(ctx.image)\n",
    "norm = ImageNormalize(vmin=vmin, vmax=vmax, stretch=LogStretch())\n",
    "\n",
    "# Plot the first image\n",
    "plt.imshow(ctx.image, cmap='gray', norm=norm)"
   ]
  },
  {
   "cell_type": "markdown",
   "id": "ca45d47f",
   "metadata": {},
   "source": [
    "# Catalog from ucat"
   ]
  },
  {
   "cell_type": "markdown",
   "id": "85620d35",
   "metadata": {},
   "source": [
    "Instead of creating a catalog by hand, we can also generate the galaxy catalog from `ucat` based on some galaxy population model. Building the context as above might become complex now, it is much easier to define everything in a config file and run this file."
   ]
  },
  {
   "cell_type": "markdown",
   "id": "c7337f1c",
   "metadata": {},
   "source": [
    "## Basic config file "
   ]
  },
  {
   "cell_type": "markdown",
   "id": "1062caec",
   "metadata": {},
   "source": [
    "A basic config file to simulate (and save) images in 5 bands based on some default galaxy population parameters might look like this:"
   ]
  },
  {
   "cell_type": "code",
   "execution_count": null,
   "id": "0b97a470",
   "metadata": {},
   "outputs": [],
   "source": [
    "import os\n",
    "\n",
    "import numpy as np\n",
    "import galsbi.ucat.config.common\n",
    "import ufig.config.common\n",
    "from cosmo_torrent import data_path\n",
    "from ivy.loop import Loop\n",
    "from ufig.workflow_util import FiltersStopCriteria\n",
    "\n",
    "# Import all common settings from ucat and ufig\n",
    "for name in [name for name in dir(galsbi.ucat.config.common) if not name.startswith(\"__\")]:\n",
    "    globals()[name] = getattr(galsbi.ucat.config.common, name)\n",
    "for name in [name for name in dir(ufig.config.common) if not name.startswith(\"__\")]:\n",
    "    globals()[name] = getattr(ufig.config.common, name)\n",
    "\n",
    "    \n",
    "pixscale = 0.168\n",
    "size_x = 1000\n",
    "size_y = 1000\n",
    "ra0 = 0\n",
    "dec0 = 0\n",
    "\n",
    "# Define the filters\n",
    "filters = [\"g\", \"r\", \"i\"]\n",
    "filters_full_names = {\n",
    "    \"B\": \"SuprimeCam_B\",\n",
    "    \"g\": \"HSC_g\",\n",
    "    \"r\": \"HSC_r2\",\n",
    "    \"i\": \"HSC_i2\",\n",
    "}\n",
    "\n",
    "# Define the plugins that should be used\n",
    "plugins = [\n",
    "    \"ufig.plugins.multi_band_setup\",\n",
    "    \"ucat.plugins.sample_galaxies\",\n",
    "    Loop(\n",
    "        [\n",
    "            \"ufig.plugins.single_band_setup\",\n",
    "            \"ufig.plugins.add_psf\",\n",
    "            \"ufig.plugins.render_galaxies_flexion\",\n",
    "            \"ufig.plugins.write_image\",\n",
    "        ],\n",
    "        stop=FiltersStopCriteria(),\n",
    "    ),\n",
    "    \"ivy.plugin.show_stats\",\n",
    "]\n",
    "\n",
    "filters_file_name = os.path.join(\n",
    "    data_path(\"HSC_tables\"), \"HSC_filters_collection_yfix.h5\"\n",
    ")\n",
    "n_templates = 5\n",
    "templates_file_name = os.path.join(\n",
    "    data_path(\"template_BlantonRoweis07\"), \"template_spectra_BlantonRoweis07.h5\"\n",
    ")\n",
    "extinction_map_file_name = os.path.join(\n",
    "    data_path(\"lambda_sfd_ebv\"), \"lambda_sfd_ebv.fits\"\n",
    ")\n",
    "magnitude_calculation = \"table\"\n",
    "templates_int_tables_file_name = os.path.join(\n",
    "    data_path(\"HSC_tables\"), \"HSC_template_integrals_yfix.h5\"\n",
    ")a"
   ]
  },
  {
   "cell_type": "markdown",
   "id": "1ff23be7",
   "metadata": {},
   "source": [
    "The loop is used such that the psf and the rendering of the image is done for all filter bands separately while the plugins outside the loop are called only once for all filter bands. For more information on how to create a realistic galaxy sample, we refer to the documentation of `ucat` and the documentation of `galsbi`. This config file can be directly ran with `ivy.execute`"
   ]
  },
  {
   "cell_type": "code",
   "execution_count": null,
   "id": "9cf86d51",
   "metadata": {
    "scrolled": true
   },
   "outputs": [],
   "source": [
    "ctx = ivy.execute(\"basic_config\")"
   ]
  },
  {
   "cell_type": "code",
   "execution_count": null,
   "id": "55d705b1",
   "metadata": {},
   "outputs": [],
   "source": [
    "interval = PercentileInterval(95)\n",
    "hdul = fits.open(\"ufig_i.fits\")\n",
    "data = hdul[0].data + 1# to normalize\n",
    "hdul.close()\n",
    "\n",
    "vmin, vmax = interval.get_limits(data)\n",
    "norm = ImageNormalize(vmin=vmin, vmax=vmax, stretch=LogStretch())\n",
    "\n",
    "\n",
    "fig, axs = plt.subplots(1, 3, figsize=(6, 3), sharex=True, sharey=True)\n",
    "for i, f in enumerate([\"g\", \"r\", \"i\"]):\n",
    "    hdul = fits.open(f\"ufig_{f}.fits\")\n",
    "    d = hdul[0].data + 1\n",
    "    hdul.close()\n",
    "    axs[i].set_title(f)\n",
    "    axs[i].imshow(d, cmap='gray', norm=norm)"
   ]
  },
  {
   "cell_type": "markdown",
   "id": "41f817fd",
   "metadata": {},
   "source": [
    "## Advanced config files "
   ]
  },
  {
   "cell_type": "markdown",
   "id": "56491ece",
   "metadata": {},
   "source": [
    "The above example is not rendering any stars or including background effects. A more advanced config file can include these additional effects:"
   ]
  },
  {
   "cell_type": "code",
   "execution_count": null,
   "id": "f283e551",
   "metadata": {},
   "outputs": [],
   "source": [
    "import os\n",
    "\n",
    "import numpy as np\n",
    "import galsbi.ucat.config.common\n",
    "import ufig.config.common\n",
    "from cosmo_torrent import data_path\n",
    "from ivy.loop import Loop\n",
    "from ufig.workflow_util import FiltersStopCriteria\n",
    "\n",
    "# Import all common settings from ucat and ufig\n",
    "for name in [name for name in dir(galsbi.ucat.config.common) if not name.startswith(\"__\")]:\n",
    "    globals()[name] = getattr(galsbi.ucat.config.common, name)\n",
    "for name in [name for name in dir(ufig.config.common) if not name.startswith(\"__\")]:\n",
    "    globals()[name] = getattr(ufig.config.common, name)\n",
    "\n",
    "    \n",
    "pixscale = 0.168\n",
    "size_x = 1000\n",
    "size_y = 1000\n",
    "ra0 = 0\n",
    "dec0 = 0\n",
    "\n",
    "# Define the filters\n",
    "filters = [\"g\", \"r\", \"i\"]\n",
    "filters_full_names = {\n",
    "    \"B\": \"SuprimeCam_B\",\n",
    "    \"g\": \"HSC_g\",\n",
    "    \"r\": \"HSC_r2\",\n",
    "    \"i\": \"HSC_i2\",\n",
    "}\n",
    "\n",
    "# Define the plugins that should be used\n",
    "plugins = [\n",
    "    \"ufig.plugins.multi_band_setup\",\n",
    "    \"galsbi.ucat.plugins.sample_galaxies\",\n",
    "    \"ufig.plugins.draw_stars_besancon_map\",\n",
    "    Loop(\n",
    "        [\n",
    "            \"ufig.plugins.single_band_setup\",\n",
    "            \"ufig.plugins.background_noise\",\n",
    "            \"ufig.plugins.resample\",\n",
    "            \"ufig.plugins.add_psf\",\n",
    "            \n",
    "            \"ufig.plugins.render_galaxies_flexion\",\n",
    "            \"ufig.plugins.render_stars_photon\",\n",
    "            \"ufig.plugins.convert_photons_to_adu\",\n",
    "            \"ufig.plugins.saturate_pixels\",\n",
    "            \"ufig.plugins.write_image\",\n",
    "        ],\n",
    "        stop=FiltersStopCriteria(),\n",
    "    ),\n",
    "    \"ivy.plugin.show_stats\",\n",
    "]\n",
    "\n",
    "star_catalogue_type = \"besancon_map\"\n",
    "besancon_map_path = os.path.join(\n",
    "    data_path(\"besancon_HSC\"), \"besancon_HSC.h5\"\n",
    ")\n",
    "\n",
    "filters_file_name = os.path.join(\n",
    "    data_path(\"HSC_tables\"), \"HSC_filters_collection_yfix.h5\"\n",
    ")\n",
    "n_templates = 5\n",
    "templates_file_name = os.path.join(\n",
    "    data_path(\"template_BlantonRoweis07\"), \"template_spectra_BlantonRoweis07.h5\"\n",
    ")\n",
    "extinction_map_file_name = os.path.join(\n",
    "    data_path(\"lambda_sfd_ebv\"), \"lambda_sfd_ebv.fits\"\n",
    ")\n",
    "magnitude_calculation = \"table\"\n",
    "templates_int_tables_file_name = os.path.join(\n",
    "    data_path(\"HSC_tables\"), \"HSC_template_integrals_yfix.h5\"\n",
    ")"
   ]
  },
  {
   "cell_type": "code",
   "execution_count": null,
   "id": "9ead24c6",
   "metadata": {},
   "outputs": [],
   "source": [
    "ctx = ivy.execute(\"advanced_config\")"
   ]
  },
  {
   "cell_type": "code",
   "execution_count": null,
   "id": "0b8c17fd",
   "metadata": {},
   "outputs": [],
   "source": [
    "interval = PercentileInterval(95)\n",
    "hdul = fits.open(\"ufig_i.fits\")\n",
    "data = hdul[0].data\n",
    "hdul.close()\n",
    "\n",
    "vmin, vmax = interval.get_limits(data)\n",
    "norm = ImageNormalize(vmin=vmin, vmax=vmax, stretch=LogStretch())\n",
    "\n",
    "\n",
    "fig, axs = plt.subplots(1, 3, figsize=(6, 3), sharex=True, sharey=True)\n",
    "for i, f in enumerate([\"g\", \"r\", \"i\"]):\n",
    "    hdul = fits.open(f\"ufig_{f}.fits\")\n",
    "    d = hdul[0].data\n",
    "    hdul.close()\n",
    "    axs[i].set_title(f)\n",
    "    axs[i].imshow(d, cmap='gray', norm=norm)"
   ]
  },
  {
   "cell_type": "markdown",
   "id": "d327ddfb",
   "metadata": {},
   "source": [
    "## Further features"
   ]
  },
  {
   "cell_type": "markdown",
   "id": "223404d5",
   "metadata": {},
   "source": [
    "`ufig` offers additional features that are not covered in this tutorial. Some of the most relevant plugins are listed below:\n",
    "- run `SExtractor` on the generated image with `run_sextractor` or `run_sextractor_forced_photometry`\n",
    "- run an emulator instead of SExtractor with `run_emulator`\n",
    "- add flags to the image by `add_generic_stamp_flags`\n",
    "- match the `SExtractor` objects with the `ucat` objects by `match_sextractor_catalog_multiband_read` or `match_sextractor_seg_catalog_multiband_read`\n",
    "- save the catalog with `write_catalog`"
   ]
  },
  {
   "cell_type": "markdown",
   "id": "14c848f9",
   "metadata": {},
   "source": [
    "# Adapting ufig to your workflow"
   ]
  },
  {
   "cell_type": "raw",
   "id": "48f249f0",
   "metadata": {},
   "source": [
    "The easiest way to adapt ``ufig`` to your workflow is by using a customized config file. Check out all the different parameters and their discription in ``ufig.config.common``. If you require new features, writing a new plugin is straightforward. A template plugin is shown below\n",
    "\n",
    ".. code-block:: python\n",
    "    :caption: new_plugin.py\n",
    "\n",
    "    from ivy.plugin.base_plugin import BasePlugin\n",
    "\n",
    "    class Plugin(BasePlugin):\n",
    "        def __call__(self):\n",
    "\n",
    "            # accessing all parameters from the config by calling the context\n",
    "            par = self.ctx.parameters\n",
    "\n",
    "            # implement new functionality\n",
    "\n",
    "\n",
    "        def __str__(self):\n",
    "            return \"new plugin doing something\"\n",
    "\n",
    "\n",
    "If you want to adapt the scripts that generate the intrinsic catalog, have a look at the documentation of ``ucat``.\n",
    "\n",
    "To use a galaxy population model that is constrained by data, you can\n",
    "use the ``galsbi`` interface. It is possible to use your custom\n",
    "config files within the ``galsbi`` module but still using the parameters\n",
    "of one of the galaxy population model. For more information of how to\n",
    "use ``ufig`` with ``galsbi`` see the documentation of ``galsbi``."
   ]
  },
  {
   "cell_type": "code",
   "execution_count": null,
   "id": "d59dd124",
   "metadata": {},
   "outputs": [],
   "source": []
  }
 ],
 "metadata": {
  "kernelspec": {
   "display_name": "Python (myenv)",
   "language": "python",
   "name": "myenv"
  },
  "language_info": {
   "codemirror_mode": {
    "name": "ipython",
    "version": 3
   },
   "file_extension": ".py",
   "mimetype": "text/x-python",
   "name": "python",
   "nbconvert_exporter": "python",
   "pygments_lexer": "ipython3",
   "version": "3.12.6"
  },
  "toc": {
   "base_numbering": 1,
   "nav_menu": {},
   "number_sections": true,
   "sideBar": true,
   "skip_h1_title": false,
   "title_cell": "Table of Contents",
   "title_sidebar": "Contents",
   "toc_cell": false,
   "toc_position": {},
   "toc_section_display": true,
   "toc_window_display": false
  }
 },
 "nbformat": 4,
 "nbformat_minor": 5
}
