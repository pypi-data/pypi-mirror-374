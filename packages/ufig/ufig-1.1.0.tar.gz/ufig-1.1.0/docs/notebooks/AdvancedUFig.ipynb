{
 "cells": [
  {
   "cell_type": "markdown",
   "id": "0d32a688",
   "metadata": {},
   "source": [
    "Instead of specifying all objects yourself, one can use `galsbi.ucat` to generate a galaxy catalog that is then rendered by `ufig`. The best way to run such a script is by using a config file."
   ]
  },
  {
   "cell_type": "markdown",
   "id": "438ffea0",
   "metadata": {},
   "source": [
    "# Basic config file "
   ]
  },
  {
   "cell_type": "markdown",
   "id": "ba3bf4a8",
   "metadata": {},
   "source": [
    "A basic config file to simulate (and save) images in 5 bands based on some default galaxy population parameters might look like this:"
   ]
  },
  {
   "cell_type": "code",
   "execution_count": null,
   "id": "871a7f83",
   "metadata": {},
   "outputs": [],
   "source": [
    "import os\n",
    "\n",
    "import numpy as np\n",
    "import galsbi.ucat.config.common\n",
    "import ufig.config.common\n",
    "from cosmo_torrent import data_path\n",
    "from ivy.loop import Loop\n",
    "from ufig.workflow_util import FiltersStopCriteria\n",
    "\n",
    "# Import all common settings from ucat and ufig\n",
    "for name in [name for name in dir(galsbi.ucat.config.common) if not name.startswith(\"__\")]:\n",
    "    globals()[name] = getattr(galsbi.ucat.config.common, name)\n",
    "for name in [name for name in dir(ufig.config.common) if not name.startswith(\"__\")]:\n",
    "    globals()[name] = getattr(ufig.config.common, name)\n",
    "\n",
    "    \n",
    "pixscale = 0.168\n",
    "size_x = 1000\n",
    "size_y = 1000\n",
    "ra0 = 0\n",
    "dec0 = 0\n",
    "\n",
    "# Define the filters\n",
    "filters = [\"g\", \"r\", \"i\"]\n",
    "filters_full_names = {\n",
    "    \"B\": \"SuprimeCam_B\",\n",
    "    \"g\": \"HSC_g\",\n",
    "    \"r\": \"HSC_r2\",\n",
    "    \"i\": \"HSC_i2\",\n",
    "}\n",
    "\n",
    "# Define the plugins that should be used\n",
    "plugins = [\n",
    "    \"ufig.plugins.multi_band_setup\",\n",
    "    \"galsbi.ucat.plugins.sample_galaxies\",\n",
    "    Loop(\n",
    "        [\n",
    "            \"ufig.plugins.single_band_setup\",\n",
    "            \"ufig.plugins.add_psf\",\n",
    "            \"ufig.plugins.render_galaxies_flexion\",\n",
    "            \"ufig.plugins.write_image\",\n",
    "        ],\n",
    "        stop=FiltersStopCriteria(),\n",
    "    ),\n",
    "    \"ivy.plugin.show_stats\",\n",
    "]\n",
    "\n",
    "filters_file_name = os.path.join(\n",
    "    data_path(\"HSC_tables\"), \"HSC_filters_collection_yfix.h5\"\n",
    ")\n",
    "n_templates = 5\n",
    "templates_file_name = os.path.join(\n",
    "    data_path(\"template_BlantonRoweis07\"), \"template_spectra_BlantonRoweis07.h5\"\n",
    ")\n",
    "extinction_map_file_name = os.path.join(\n",
    "    data_path(\"lambda_sfd_ebv\"), \"lambda_sfd_ebv.fits\"\n",
    ")\n",
    "magnitude_calculation = \"table\"\n",
    "templates_int_tables_file_name = os.path.join(\n",
    "    data_path(\"HSC_tables\"), \"HSC_template_integrals_yfix.h5\"\n",
    ")"
   ]
  },
  {
   "cell_type": "markdown",
   "id": "afb964ad",
   "metadata": {},
   "source": [
    "The loop is used such that the psf and the rendering of the image is done for all filter bands separately while the plugins outside the loop are called only once for all filter bands. For more information on how to create a realistic galaxy sample, we refer to the documentation of `ucat` and the documentation of `galsbi`. This config file can be directly ran with `ivy.execute`"
   ]
  },
  {
   "cell_type": "code",
   "execution_count": null,
   "id": "8dc03e06",
   "metadata": {},
   "outputs": [],
   "source": [
    "import ivy\n",
    "\n",
    "ctx = ivy.execute(\"basic_config\")"
   ]
  },
  {
   "cell_type": "code",
   "execution_count": null,
   "id": "9db23500",
   "metadata": {},
   "outputs": [],
   "source": [
    "from astropy.io import fits\n",
    "from astropy.visualization import ImageNormalize, LogStretch\n",
    "from astropy.visualization.mpl_normalize import ImageNormalize\n",
    "from astropy.visualization import PercentileInterval\n",
    "import matplotlib.pyplot as plt\n",
    "\n",
    "interval = PercentileInterval(95)\n",
    "hdul = fits.open(\"ufig_i.fits\")\n",
    "data = hdul[0].data + 1# to normalize\n",
    "hdul.close()\n",
    "\n",
    "vmin, vmax = interval.get_limits(data)\n",
    "norm = ImageNormalize(vmin=vmin, vmax=vmax, stretch=LogStretch())\n",
    "\n",
    "\n",
    "fig, axs = plt.subplots(1, 3, figsize=(6, 3), sharex=True, sharey=True)\n",
    "for i, f in enumerate([\"g\", \"r\", \"i\"]):\n",
    "    hdul = fits.open(f\"ufig_{f}.fits\")\n",
    "    d = hdul[0].data + 1\n",
    "    hdul.close()\n",
    "    axs[i].set_title(f)\n",
    "    axs[i].imshow(d, cmap='gray', norm=norm)"
   ]
  },
  {
   "cell_type": "markdown",
   "id": "499cc483",
   "metadata": {},
   "source": [
    "# Advanced config files "
   ]
  },
  {
   "cell_type": "markdown",
   "id": "cd8139de",
   "metadata": {},
   "source": [
    "The above example is not rendering any stars or including background effects. A more advanced config file can include these additional effects:"
   ]
  },
  {
   "cell_type": "code",
   "execution_count": null,
   "id": "dffdf8b9",
   "metadata": {},
   "outputs": [],
   "source": [
    "import os\n",
    "\n",
    "import numpy as np\n",
    "import galsbi.ucat.config.common\n",
    "import ufig.config.common\n",
    "from cosmo_torrent import data_path\n",
    "from ivy.loop import Loop\n",
    "from ufig.workflow_util import FiltersStopCriteria\n",
    "\n",
    "# Import all common settings from ucat and ufig\n",
    "for name in [name for name in dir(ucat.config.common) if not name.startswith(\"__\")]:\n",
    "    globals()[name] = getattr(ucat.config.common, name)\n",
    "for name in [name for name in dir(ufig.config.common) if not name.startswith(\"__\")]:\n",
    "    globals()[name] = getattr(ufig.config.common, name)\n",
    "\n",
    "    \n",
    "pixscale = 0.168\n",
    "size_x = 1000\n",
    "size_y = 1000\n",
    "ra0 = 0\n",
    "dec0 = 0\n",
    "\n",
    "# Define the filters\n",
    "filters = [\"g\", \"r\", \"i\"]\n",
    "filters_full_names = {\n",
    "    \"B\": \"SuprimeCam_B\",\n",
    "    \"g\": \"HSC_g\",\n",
    "    \"r\": \"HSC_r2\",\n",
    "    \"i\": \"HSC_i2\",\n",
    "}\n",
    "\n",
    "# Define the plugins that should be used\n",
    "plugins = [\n",
    "    \"ufig.plugins.multi_band_setup\",\n",
    "    \"galsbi.ucat.plugins.sample_galaxies\",\n",
    "    \"ufig.plugins.draw_stars_besancon_map\",\n",
    "    Loop(\n",
    "        [\n",
    "            \"ufig.plugins.single_band_setup\",\n",
    "            \"ufig.plugins.background_noise\",\n",
    "            \"ufig.plugins.resample\",\n",
    "            \"ufig.plugins.add_psf\",\n",
    "            \n",
    "            \"ufig.plugins.render_galaxies_flexion\",\n",
    "            \"ufig.plugins.render_stars_photon\",\n",
    "            \"ufig.plugins.convert_photons_to_adu\",\n",
    "            \"ufig.plugins.saturate_pixels\",\n",
    "            \"ufig.plugins.write_image\",\n",
    "        ],\n",
    "        stop=FiltersStopCriteria(),\n",
    "    ),\n",
    "    \"ivy.plugin.show_stats\",\n",
    "]\n",
    "\n",
    "star_catalogue_type = \"besancon_map\"\n",
    "besancon_map_path = os.path.join(\n",
    "    data_path(\"besancon_HSC\"), \"besancon_HSC.h5\"\n",
    ")\n",
    "\n",
    "filters_file_name = os.path.join(\n",
    "    data_path(\"HSC_tables\"), \"HSC_filters_collection_yfix.h5\"\n",
    ")\n",
    "n_templates = 5\n",
    "templates_file_name = os.path.join(\n",
    "    data_path(\"template_BlantonRoweis07\"), \"template_spectra_BlantonRoweis07.h5\"\n",
    ")\n",
    "extinction_map_file_name = os.path.join(\n",
    "    data_path(\"lambda_sfd_ebv\"), \"lambda_sfd_ebv.fits\"\n",
    ")\n",
    "magnitude_calculation = \"table\"\n",
    "templates_int_tables_file_name = os.path.join(\n",
    "    data_path(\"HSC_tables\"), \"HSC_template_integrals_yfix.h5\"\n",
    ")"
   ]
  },
  {
   "cell_type": "code",
   "execution_count": null,
   "id": "87c134d4",
   "metadata": {},
   "outputs": [],
   "source": [
    "ctx = ivy.execute(\"advanced_config\")"
   ]
  },
  {
   "cell_type": "code",
   "execution_count": null,
   "id": "f6bd0071",
   "metadata": {},
   "outputs": [],
   "source": [
    "interval = PercentileInterval(95)\n",
    "hdul = fits.open(\"ufig_i.fits\")\n",
    "data = hdul[0].data\n",
    "hdul.close()\n",
    "\n",
    "vmin, vmax = interval.get_limits(data)\n",
    "norm = ImageNormalize(vmin=vmin, vmax=vmax, stretch=LogStretch())\n",
    "\n",
    "\n",
    "fig, axs = plt.subplots(1, 3, figsize=(6, 3), sharex=True, sharey=True)\n",
    "for i, f in enumerate([\"g\", \"r\", \"i\"]):\n",
    "    hdul = fits.open(f\"ufig_{f}.fits\")\n",
    "    d = hdul[0].data\n",
    "    hdul.close()\n",
    "    axs[i].set_title(f)\n",
    "    axs[i].imshow(d, cmap='gray', norm=norm)"
   ]
  },
  {
   "cell_type": "markdown",
   "id": "6162dbdc",
   "metadata": {},
   "source": [
    "# Run SExtractor"
   ]
  },
  {
   "cell_type": "markdown",
   "id": "c1afda41",
   "metadata": {},
   "source": [
    "To run SExtractor on the image, one just has to add the `ufig.plugins.run_sextractor_forced_photometry` or `ufig.plugins.run_sextractor` to the config file. Then a catalog with all detected objects will be saved. Plotting the catalog reveals a sharp peak in the size around the PSF size (mainly driven by the stars). The configuration of the source extraction can be adapted, see `ufig.config.common` for the default values.\n"
   ]
  },
  {
   "cell_type": "code",
   "execution_count": null,
   "id": "5876faab",
   "metadata": {
    "scrolled": true
   },
   "outputs": [],
   "source": [
    "from cosmic_toolbox import arraytools as at\n",
    "from trianglechain import TriangleChain\n",
    "from cosmic_toolbox import colors\n",
    "\n",
    "\n",
    "colors.set_cycle()\n",
    "\n",
    "ctx = ivy.execute(\"sextractor_config\")\n",
    "cat = at.load_hdf_cols(\"ufig_r_forced_photo.sexcat\")"
   ]
  },
  {
   "cell_type": "code",
   "execution_count": null,
   "id": "1734eb13",
   "metadata": {},
   "outputs": [],
   "source": [
    "tri = TriangleChain(\n",
    "    params=[\"MAG_AUTO\", \"FLUX_RADIUS\", \"ELLIPTICITY\"],\n",
    "    ranges={\"MAG_AUTO\": [14, 27], \"FLUX_RADIUS\": [1,10], \"ELLIPTICITY\": [0,1]},\n",
    "    histograms_1D_density=False,\n",
    "    fill=True\n",
    ")\n",
    "tri.contour_cl(cat, label=\"all objects\")\n",
    "tri.contour_cl(cat[cat[\"CLASS_STAR\"]>0.9], label=\"stars\", show_legend=True)"
   ]
  },
  {
   "cell_type": "markdown",
   "id": "2d409959",
   "metadata": {},
   "source": [
    "# Further features"
   ]
  },
  {
   "cell_type": "markdown",
   "id": "52ce9c2f",
   "metadata": {},
   "source": [
    "`ufig` offers additional features that are not covered in this tutorial. Some of the most relevant plugins are listed below:\n",
    "- run an emulator instead of SExtractor with `run_emulator`\n",
    "- add flags to the image by `add_generic_stamp_flags`\n",
    "- match the `SExtractor` objects with the `galsbi` objects by `match_sextractor_catalog_multiband_read` or `match_sextractor_seg_catalog_multiband_read`\n",
    "- save the catalog with `write_catalog`"
   ]
  },
  {
   "cell_type": "markdown",
   "id": "485c7abc",
   "metadata": {},
   "source": [
    "# Adapting ufig to your workflow"
   ]
  },
  {
   "cell_type": "raw",
   "id": "5f3343d2",
   "metadata": {},
   "source": [
    "The easiest way to adapt ``ufig`` to your workflow is by using a customized config file. Check out all the different parameters and their discription in ``ufig.config.common``. If you require new features, writing a new plugin is straightforward. A template plugin is shown below\n",
    "\n",
    ".. code-block:: python\n",
    "    :caption: new_plugin.py\n",
    "\n",
    "    from ivy.plugin.base_plugin import BasePlugin\n",
    "\n",
    "    class Plugin(BasePlugin):\n",
    "        def __call__(self):\n",
    "\n",
    "            # accessing all parameters from the config by calling the context\n",
    "            par = self.ctx.parameters\n",
    "\n",
    "            # implement new functionality\n",
    "\n",
    "\n",
    "        def __str__(self):\n",
    "            return \"new plugin doing something\"\n",
    "\n",
    "\n",
    "If you want to adapt the scripts that generate the intrinsic catalog, have a look at the documentation of ``ucat``.\n",
    "\n",
    "To use a galaxy population model that is constrained by data, you can\n",
    "use the ``galsbi`` interface. It is possible to use your custom\n",
    "config files within the ``galsbi`` module but still using the parameters\n",
    "of one of the galaxy population model. For more information of how to\n",
    "use ``ufig`` with ``galsbi`` see the documentation of ``galsbi``."
   ]
  },
  {
   "cell_type": "code",
   "execution_count": null,
   "id": "71804d7b",
   "metadata": {},
   "outputs": [],
   "source": []
  }
 ],
 "metadata": {
  "kernelspec": {
   "display_name": "Python (myenv)",
   "language": "python",
   "name": "myenv"
  },
  "language_info": {
   "codemirror_mode": {
    "name": "ipython",
    "version": 3
   },
   "file_extension": ".py",
   "mimetype": "text/x-python",
   "name": "python",
   "nbconvert_exporter": "python",
   "pygments_lexer": "ipython3",
   "version": "3.12.6"
  },
  "toc": {
   "base_numbering": 1,
   "nav_menu": {},
   "number_sections": true,
   "sideBar": true,
   "skip_h1_title": false,
   "title_cell": "Table of Contents",
   "title_sidebar": "Contents",
   "toc_cell": false,
   "toc_position": {},
   "toc_section_display": true,
   "toc_window_display": false
  }
 },
 "nbformat": 4,
 "nbformat_minor": 5
}
