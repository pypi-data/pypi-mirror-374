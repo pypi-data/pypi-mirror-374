{
 "cells": [
  {
   "cell_type": "markdown",
   "id": "6658913c",
   "metadata": {},
   "source": [
    "### 赫赫,,,这是一个简要的 `PyPI` 库 `MassFunc` 的使用手册\n",
    "#### 先来安装 `pip install massfunc` 直接下载最新版本,,,一般不会有依赖冲突\n",
    "#### 然后我们导入这个包,,,导入完之后我们要创建实例来把函数存放在实例里面(为什么要创建实例?因为我们的函数是在类里面存储的..为什么要存储到类里面? 这是一套很标准化的方法,,,我们提前把流程写好,,以至于我们可以创建实例直接调用..为什么不直接调用而要创建实例?因为创建实例可以易于调参数,,在step1我们会有这个过程)"
   ]
  },
  {
   "cell_type": "code",
   "execution_count": null,
   "id": "02758db5",
   "metadata": {},
   "outputs": [],
   "source": [
    "### Step 1. 导入我们的包\n",
    "import massfunc as mf\n",
    "\n",
    "\n",
    "# 创建SFRD类的实例\n",
    "''' SFRD是一个继承了CosmologySet, Mass_func, Collapse_fraction的类,所以你可以在SFRD这个类里面用这个\n",
    " module的所有函数,所以从易用性来考虑,,,你直接创建SFRD的实例就可以了,,,所有函数已经包含在里面了'''\n",
    "# SFRD这个类有四个参数,每个参数都有默认值: h=0.674, omegam=0.315, ns=0.965,sigma8=0.811\n",
    "\n",
    "# 如果有调整参数的需求,你可以像这样,,,需要调整几个参数调整几个,,,不需要就不输入\n",
    "\n",
    "cosmo = mf.SFRD(h=0.7, omegam=0.3, ns=1.0, sigma8=0.9)\n",
    "# cosmo = mf.SFRD(h=0.7, omegam=0.3)  比如这个就是修改了h和omegam,,其他两个参数保持默认\n",
    "\n",
    "# 只需要输入这些,其他的参数会自动计算,比如 `omegab`, `rhoc`, `rhom`, and `H0` etc.\n",
    "print('------------------------------')\n",
    "print(f'omegam: {cosmo.omegam}')\n",
    "print(f'omegab: {cosmo.omegab}')\n",
    "print(f'rhom: {cosmo.rhom}')\n",
    "print(f'H0: {cosmo.H0u}')\n",
    "print('------------------------------')\n",
    "\n",
    "# 不输入参数就像这样,,,我们的默认参数是基于Planck18,,,所以原则上讲,大部分情况下不需要调整参数\n",
    "cosmo_default = mf.SFRD()\n",
    "print('------------------------------')\n",
    "print(f'omegam: {cosmo_default.omegam}')\n",
    "print(f'omegab: {cosmo_default.omegab}')\n",
    "print(f'rhom: {cosmo_default.rhom}')\n",
    "print(f'H0: {cosmo_default.H0u}')\n",
    "print('------------------------------')"
   ]
  },
  {
   "cell_type": "markdown",
   "id": "bb703760",
   "metadata": {},
   "source": [
    "### 接下来是函数的使用方法"
   ]
  },
  {
   "cell_type": "code",
   "execution_count": null,
   "id": "17e6b71f",
   "metadata": {},
   "outputs": [],
   "source": [
    "from latexofme import scicount\n",
    "from IPython.display import display, Math\n",
    "print(scicount(1600/14400))\n",
    "display(Math(scicount(1600/14400)))"
   ]
  },
  {
   "cell_type": "code",
   "execution_count": null,
   "id": "faebc991",
   "metadata": {},
   "outputs": [],
   "source": [
    "# 简单的使用方法 of `Mass_func` class\n",
    "# 岳斌老师代码里面所有函数我都写进去了,,,都可以调用,,注意一下函数名字就行\n",
    "import numpy as np\n",
    "import matplotlib.pyplot as plt\n",
    "\n",
    "dz = cosmo_default.Dz(10)  # z=10时的线性增长因子\n",
    "print('------------------------------')\n",
    "print(f'Linear growth factor at z=10: {dz}')\n",
    "print('------------------------------')\n",
    "\n",
    "# `sigma2_interpolation`方法将计算线性物质功率谱和密度场的方差\n",
    "M_h = np.logspace(0, 18, 100)  # 插值质量范围从1到10^18太阳质量\n",
    "sigma2 = cosmo_default.sigma2_interpolation(M_h)   # 插值函数将快速计算\n",
    "'''超出插值范围的点可以直接调用sigma2函数,,,不要用插值,,这时候就需要你自己写一个质量函数了,,\n",
    "但是不需要带前面那一套流程,可以直接调用cosmo.sigma2(M)放到你的质量函数里面,详情见你的mf的eps2\n",
    "就这样写\n",
    "'''\n",
    "plt.figure(figsize=(10, 6),dpi=300)\n",
    "plt.loglog(M_h, sigma2, label='Variance of density field')\n",
    "plt.xlabel('Mass (M_sun)')\n",
    "plt.ylabel('Sigma^2')\n",
    "plt.title('Variance of Density Field')\n",
    "plt.legend()\n"
   ]
  },
  {
   "cell_type": "code",
   "execution_count": null,
   "id": "39dc00be",
   "metadata": {},
   "outputs": [],
   "source": [
    "# Here is the dsig2_dm and its interplotation\n",
    "import matplotlib.pyplot as plt\n",
    "import numpy as np\n",
    "\n",
    "M_h = np.logspace(8, 16, 100)  # Mass range from 10^8 to 10^16 solar masses\n",
    "dsig2_dm = abs(cosmo_default.dsig2dm_interpolation(M_h))  # The derivative of\n",
    "# why use abs? Because the derivative is negative, it can't be log-log plot\n",
    "\n",
    "plt.figure(figsize=(10, 6), dpi=300)\n",
    "plt.loglog(M_h, dsig2_dm, label='dSigma^2/dM')\n",
    "plt.xlabel('Mass (M_sun)')\n",
    "plt.ylabel('dSigma^2/dM')\n",
    "plt.title('Derivative of Variance of Density Field')\n",
    "plt.legend()"
   ]
  },
  {
   "cell_type": "code",
   "execution_count": null,
   "id": "9ac8d8f6",
   "metadata": {},
   "outputs": [],
   "source": [
    "# Here is the plot of the mass function\n",
    "import matplotlib.pyplot as plt\n",
    "import numpy as np\n",
    "\n",
    "M_h = np.logspace(8, 16, 100)  # Mass range from 10^8 to 10^16 solar masses\n",
    "mf_ps = cosmo_default.dndmps(M_h,z=10)  # Calculate the P-S mass function\n",
    "mf_st = cosmo_default.dndmst(M_h,z=10)  # Calculate the S-T mass function\n",
    "\n",
    "plt.figure(figsize=(10, 6), dpi=300)\n",
    "plt.loglog(M_h, mf_ps, label='Press-Schechter Mass Function', color='blue')\n",
    "plt.loglog(M_h, mf_st, label='Sheth-Tormen Mass Function', color='orange')\n",
    "plt.xlabel('Mass (M_sun)')\n",
    "plt.ylabel('dN/dM')\n",
    "plt.title('Mass Function Comparison')\n",
    "plt.legend()"
   ]
  },
  {
   "cell_type": "code",
   "execution_count": null,
   "id": "97208438",
   "metadata": {},
   "outputs": [],
   "source": [
    "# Here is the eps plot\n",
    "import matplotlib.pyplot as plt\n",
    "import numpy as np\n",
    "\n",
    "M_h = np.logspace(10, 16, 100)  # Mass range from 10^8 to 10^16 solar masses\n",
    "M_min = cosmo_default.M_vir(0.61,1e4,10.0)  # Minimum mass at redshift z=10\n",
    "eps = cosmo_default.dndmeps(M=M_min,Mr=M_h,deltar=1.0,z=10.0)  # Calculate the eps\n",
    "\n",
    "plt.figure(figsize=(10, 6), dpi=300)\n",
    "plt.loglog(M_h, eps, label='EPS Mass Function')\n",
    "plt.xlabel('Mass (M_sun)')\n",
    "plt.ylabel('EPS Mass Function')\n",
    "plt.title('EPS Mass Function')\n",
    "plt.legend()"
   ]
  }
 ],
 "metadata": {
  "kernelspec": {
   "display_name": "Python 3",
   "language": "python",
   "name": "python3"
  },
  "language_info": {
   "codemirror_mode": {
    "name": "ipython",
    "version": 3
   },
   "file_extension": ".py",
   "mimetype": "text/x-python",
   "name": "python",
   "nbconvert_exporter": "python",
   "pygments_lexer": "ipython3",
   "version": "3.10.18"
  }
 },
 "nbformat": 4,
 "nbformat_minor": 5
}
