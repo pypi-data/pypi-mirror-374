{
 "cells": [
  {
   "cell_type": "markdown",
   "metadata": {},
   "source": [
    "# Visualization"
   ]
  },
  {
   "cell_type": "markdown",
   "metadata": {},
   "source": []
  },
  {
   "cell_type": "code",
   "execution_count": null,
   "metadata": {},
   "outputs": [],
   "source": [
    "#|default_exp doc"
   ]
  },
  {
   "cell_type": "code",
   "execution_count": null,
   "metadata": {},
   "outputs": [],
   "source": [
    "#| hide\n",
    "%load_ext autoreload\n",
    "%autoreload 2"
   ]
  },
  {
   "cell_type": "code",
   "execution_count": null,
   "metadata": {},
   "outputs": [],
   "source": [
    "#| export \n",
    "\n",
    "from IPython.display import Image, display, HTML,SVG,display_pretty\n",
    "from stringdale.core import jinja_render\n",
    "from docstring_parser import parse\n",
    "import inspect\n",
    "from deepmerge import always_merger\n",
    "from nbdev.doclinks import NbdevLookup\n"
   ]
  },
  {
   "cell_type": "markdown",
   "metadata": {},
   "source": [
    "## Get object documentation data"
   ]
  },
  {
   "cell_type": "code",
   "execution_count": null,
   "metadata": {},
   "outputs": [],
   "source": [
    "from stringdale import Define,V,DiagramSchema,Diagram, Condition,JsonRenderer"
   ]
  },
  {
   "cell_type": "code",
   "execution_count": null,
   "metadata": {},
   "outputs": [],
   "source": [
    "#| export\n",
    "def clean_sig_data(obj):\n",
    "    sig = inspect.signature(obj)\n",
    "    clean_data = {'params':{},\n",
    "     'signature':str(sig)\n",
    "    }\n",
    "    for key, param in sig.parameters.items():\n",
    "        p_dat = {}\n",
    "        if param.annotation != inspect._empty:\n",
    "            p_dat['type'] = param.annotation\n",
    "        if param.default != inspect._empty:\n",
    "            p_dat['default'] = param.default\n",
    "        clean_data['params'][key] = p_dat\n",
    "    if sig.return_annotation != inspect._empty:\n",
    "        clean_data['returns'] = {\n",
    "            'type': sig.return_annotation,\n",
    "        }\n",
    "    return clean_data\n",
    "    "
   ]
  },
  {
   "cell_type": "code",
   "execution_count": null,
   "metadata": {},
   "outputs": [
    {
     "data": {
      "text/plain": [
       "{'params': {'name': {'type': str},\n",
       "  'func': {'type': typing.Callable, 'default': None},\n",
       "  'inputs': {'type': typing.Any, 'default': None},\n",
       "  'outputs': {'default': None},\n",
       "  'is_break': {'type': bool, 'default': False},\n",
       "  'for_each': {'type': typing.Optional[typing.List[str]], 'default': None},\n",
       "  'filter': {'type': bool, 'default': False},\n",
       "  'flat': {'type': bool, 'default': False},\n",
       "  'as_start': {'type': bool, 'default': False},\n",
       "  'as_end': {'type': bool, 'default': False}},\n",
       " 'signature': '(name: str, func: Callable = None, inputs: Any = None, outputs=None, is_break: bool = False, for_each: Optional[List[str]] = None, filter: bool = False, flat: bool = False, as_start: bool = False, as_end: bool = False) -> None',\n",
       " 'returns': {'type': None}}"
      ]
     },
     "execution_count": null,
     "metadata": {},
     "output_type": "execute_result"
    }
   ],
   "source": [
    "clean_sig_data(V)"
   ]
  },
  {
   "cell_type": "code",
   "execution_count": null,
   "metadata": {},
   "outputs": [
    {
     "data": {
      "text/plain": [
       "{'params': {'json_obj': {}, 'kwargs': {}}, 'signature': '(json_obj, **kwargs)'}"
      ]
     },
     "execution_count": null,
     "metadata": {},
     "output_type": "execute_result"
    }
   ],
   "source": [
    "clean_sig_data(JsonRenderer)"
   ]
  },
  {
   "cell_type": "code",
   "execution_count": null,
   "metadata": {},
   "outputs": [
    {
     "data": {
      "text/plain": [
       "{'params': {'self': {}, 'kwargs': {}}, 'signature': '(self, **kwargs)'}"
      ]
     },
     "execution_count": null,
     "metadata": {},
     "output_type": "execute_result"
    }
   ],
   "source": [
    "clean_sig_data(JsonRenderer.__call__)"
   ]
  },
  {
   "cell_type": "code",
   "execution_count": null,
   "metadata": {},
   "outputs": [],
   "source": [
    "#| export\n",
    "def clean_doc_data(obj):\n",
    "    doc = parse(obj.__doc__)\n",
    "    clean_data = {\n",
    "        'description': doc.description,\n",
    "        'params':{},\n",
    "        'param_order':[p.arg_name for p in doc.params]\n",
    "    }\n",
    "    for p in doc.params:\n",
    "        p_dat = {'name':p.arg_name}\n",
    "        if p.type_name != inspect._empty:\n",
    "            p_dat['type'] = p.type_name\n",
    "        if p.default != inspect._empty:\n",
    "            p_dat['default'] = p.default\n",
    "        if p.description != inspect._empty:\n",
    "            p_dat['description'] = p.description\n",
    "        clean_data['params'][p.arg_name] = p_dat\n",
    "        \n",
    "    if doc.returns:\n",
    "        r_dat = {}\n",
    "        if doc.returns.type_name != inspect._empty:\n",
    "            r_dat['type'] = doc.returns.type_name\n",
    "        if doc.returns.description != inspect._empty:\n",
    "            r_dat['description'] = doc.returns.description\n",
    "        clean_data['returns'] = r_dat\n",
    "    return clean_data"
   ]
  },
  {
   "cell_type": "code",
   "execution_count": null,
   "metadata": {},
   "outputs": [
    {
     "data": {
      "text/plain": [
       "{'description': 'Add a vertex (node) to the current diagram.\\n',\n",
       " 'params': {'name': {'name': 'name',\n",
       "   'type': 'str',\n",
       "   'default': None,\n",
       "   'description': 'Name of the node'},\n",
       "  'func': {'name': 'func',\n",
       "   'type': 'callable',\n",
       "   'default': None,\n",
       "   'description': 'Function to execute at this node. If None, node acts as a passthrough'},\n",
       "  'inputs': {'name': 'inputs',\n",
       "   'type': 'List[str]',\n",
       "   'default': None,\n",
       "   'description': 'List of input edge descriptors. Each descriptor can be either:\\n- A string in format \"source_node.source_port->target_port\" \\n- A tuple (edge_descriptor, condition_func) for conditional edges'},\n",
       "  'outputs': {'name': 'outputs',\n",
       "   'type': 'List[str]',\n",
       "   'default': None,\n",
       "   'description': 'List of output edge descriptors. Each descriptor can be either:\\n- A string in format \"source_port->target_node.target_port\"\\n- A tuple (edge_descriptor, condition_func) for conditional edges'},\n",
       "  'is_break': {'name': 'is_break',\n",
       "   'type': 'bool',\n",
       "   'default': None,\n",
       "   'description': 'If True, execution will pause at this node. Not allowed in flow scopes'},\n",
       "  'for_each': {'name': 'for_each',\n",
       "   'type': 'List[str|int]',\n",
       "   'default': None,\n",
       "   'description': 'List of input keys to iterate over. \\nUsed for batching operations in Flow diagrams.\\nIf provided, the node will be executed once for each product of items in the input list.\\nThis for each keys must get iteratbles from the input edges.'},\n",
       "  'filter': {'name': 'filter',\n",
       "   'type': 'bool',\n",
       "   'default': None,\n",
       "   'description': 'Used for batching operations in Flow diagrams. \\nIf True, falsy node outputs will be filtered out. \\nCannot be used with flat=True'},\n",
       "  'flat': {'name': 'flat',\n",
       "   'type': 'bool',\n",
       "   'default': None,\n",
       "   'description': 'Used for batching operations in Flow diagrams.\\nIf True, node output lists will be flattened into a single list.\\nCannot be used with filter=True'},\n",
       "  'as_start': {'name': 'as_start',\n",
       "   'type': 'bool',\n",
       "   'default': None,\n",
       "   'description': \"If True, marks this node as the diagram's start node\"},\n",
       "  'as_end': {'name': 'as_end',\n",
       "   'type': 'bool',\n",
       "   'default': None,\n",
       "   'description': \"If True, marks this node as the diagram's end node\"}},\n",
       " 'param_order': ['name',\n",
       "  'func',\n",
       "  'inputs',\n",
       "  'outputs',\n",
       "  'is_break',\n",
       "  'for_each',\n",
       "  'filter',\n",
       "  'flat',\n",
       "  'as_start',\n",
       "  'as_end'],\n",
       " 'returns': {'type': 'str', 'description': 'Name of the created node'}}"
      ]
     },
     "execution_count": null,
     "metadata": {},
     "output_type": "execute_result"
    }
   ],
   "source": [
    "clean_doc_data(V)"
   ]
  },
  {
   "cell_type": "code",
   "execution_count": null,
   "metadata": {},
   "outputs": [],
   "source": [
    "#| export\n",
    "def get_methods(cls,include=None):\n",
    "    if include is None:\n",
    "        include = [method for method in dir(cls) if callable(getattr(cls, method)) and not method.startswith(\"_\")] #+ ['__call__']\n",
    "    included_methods = [method for method in include if callable(getattr(cls, method,None))]\n",
    "    return included_methods\n"
   ]
  },
  {
   "cell_type": "code",
   "execution_count": null,
   "metadata": {},
   "outputs": [
    {
     "data": {
      "text/plain": [
       "['draw',\n",
       " 'factor_diagram',\n",
       " 'get_input_only_state_keys',\n",
       " 'has_breakpoints',\n",
       " 'post_def']"
      ]
     },
     "execution_count": null,
     "metadata": {},
     "output_type": "execute_result"
    }
   ],
   "source": [
    "get_methods(DiagramSchema)"
   ]
  },
  {
   "cell_type": "code",
   "execution_count": null,
   "metadata": {},
   "outputs": [],
   "source": [
    "#| export\n",
    "lookup_table = NbdevLookup()\n",
    "\n",
    "def get_source_link(obj):\n",
    "    try:\n",
    "        return lookup_table[obj.__qualname__][2]\n",
    "    except:\n",
    "        return None"
   ]
  },
  {
   "cell_type": "code",
   "execution_count": null,
   "metadata": {},
   "outputs": [],
   "source": [
    "from stringdale.tools import google_search"
   ]
  },
  {
   "cell_type": "code",
   "execution_count": null,
   "metadata": {},
   "outputs": [
    {
     "data": {
      "text/plain": [
       "{'params': {'q': {'type': str},\n",
       "  'location': {'type': str, 'default': 'Austin, Texas'},\n",
       "  'engine': {'type': str, 'default': 'google_scholar'}},\n",
       " 'signature': \"(q: str, location: str = 'Austin, Texas', engine: str = 'google_scholar')\"}"
      ]
     },
     "execution_count": null,
     "metadata": {},
     "output_type": "execute_result"
    }
   ],
   "source": [
    "clean_sig_data(google_search.func)"
   ]
  },
  {
   "cell_type": "code",
   "execution_count": null,
   "metadata": {},
   "outputs": [],
   "source": [
    "#| export\n",
    "def escape_dunder(name):\n",
    "    return name.replace('__','\\\\_\\\\_')\n",
    "\n",
    "\n",
    "def clean_obj_data(obj):\n",
    "    merged_data = always_merger.merge(clean_doc_data(obj),clean_sig_data(obj))\n",
    "    merged_data['name'] = escape_dunder(obj.__name__)\n",
    "    merged_data['clean_name'] = obj.__name__\n",
    "    merged_data['source'] = get_source_link(obj)\n",
    "    merged_data['params'] = [merged_data['params'][name] for name in merged_data['param_order']]\n",
    "    return merged_data"
   ]
  },
  {
   "cell_type": "code",
   "execution_count": null,
   "metadata": {},
   "outputs": [
    {
     "data": {
      "text/plain": [
       "{'description': 'Add a vertex (node) to the current diagram.\\n',\n",
       " 'params': [{'name': 'name',\n",
       "   'type': str,\n",
       "   'default': None,\n",
       "   'description': 'Name of the node'},\n",
       "  {'name': 'func',\n",
       "   'type': typing.Callable,\n",
       "   'default': None,\n",
       "   'description': 'Function to execute at this node. If None, node acts as a passthrough'},\n",
       "  {'name': 'inputs',\n",
       "   'type': typing.Any,\n",
       "   'default': None,\n",
       "   'description': 'List of input edge descriptors. Each descriptor can be either:\\n- A string in format \"source_node.source_port->target_port\" \\n- A tuple (edge_descriptor, condition_func) for conditional edges'},\n",
       "  {'name': 'outputs',\n",
       "   'type': 'List[str]',\n",
       "   'default': None,\n",
       "   'description': 'List of output edge descriptors. Each descriptor can be either:\\n- A string in format \"source_port->target_node.target_port\"\\n- A tuple (edge_descriptor, condition_func) for conditional edges'},\n",
       "  {'name': 'is_break',\n",
       "   'type': bool,\n",
       "   'default': False,\n",
       "   'description': 'If True, execution will pause at this node. Not allowed in flow scopes'},\n",
       "  {'name': 'for_each',\n",
       "   'type': typing.Optional[typing.List[str]],\n",
       "   'default': None,\n",
       "   'description': 'List of input keys to iterate over. \\nUsed for batching operations in Flow diagrams.\\nIf provided, the node will be executed once for each product of items in the input list.\\nThis for each keys must get iteratbles from the input edges.'},\n",
       "  {'name': 'filter',\n",
       "   'type': bool,\n",
       "   'default': False,\n",
       "   'description': 'Used for batching operations in Flow diagrams. \\nIf True, falsy node outputs will be filtered out. \\nCannot be used with flat=True'},\n",
       "  {'name': 'flat',\n",
       "   'type': bool,\n",
       "   'default': False,\n",
       "   'description': 'Used for batching operations in Flow diagrams.\\nIf True, node output lists will be flattened into a single list.\\nCannot be used with filter=True'},\n",
       "  {'name': 'as_start',\n",
       "   'type': bool,\n",
       "   'default': False,\n",
       "   'description': \"If True, marks this node as the diagram's start node\"},\n",
       "  {'name': 'as_end',\n",
       "   'type': bool,\n",
       "   'default': False,\n",
       "   'description': \"If True, marks this node as the diagram's end node\"}],\n",
       " 'param_order': ['name',\n",
       "  'func',\n",
       "  'inputs',\n",
       "  'outputs',\n",
       "  'is_break',\n",
       "  'for_each',\n",
       "  'filter',\n",
       "  'flat',\n",
       "  'as_start',\n",
       "  'as_end'],\n",
       " 'returns': {'type': None, 'description': 'Name of the created node'},\n",
       " 'signature': '(name: str, func: Callable = None, inputs: Any = None, outputs=None, is_break: bool = False, for_each: Optional[List[str]] = None, filter: bool = False, flat: bool = False, as_start: bool = False, as_end: bool = False) -> None',\n",
       " 'name': 'V',\n",
       " 'clean_name': 'V',\n",
       " 'source': 'https://github.com/DeanLight/stringdale/blob/main/stringdale/diagrams_old.py'}"
      ]
     },
     "execution_count": null,
     "metadata": {},
     "output_type": "execute_result"
    }
   ],
   "source": [
    "clean_obj_data(V)"
   ]
  },
  {
   "cell_type": "code",
   "execution_count": null,
   "metadata": {},
   "outputs": [],
   "source": [
    "#| export\n",
    "\n",
    "def clean_class(cls,methods=None):\n",
    "    methods = get_methods(cls,methods)\n",
    "    methods_data = [clean_obj_data(getattr(cls,method)) for method in methods]\n",
    "    return {\n",
    "        **clean_obj_data(cls),\n",
    "        'methods':methods_data\n",
    "    }"
   ]
  },
  {
   "cell_type": "code",
   "execution_count": null,
   "metadata": {},
   "outputs": [
    {
     "data": {
      "text/plain": [
       "{'description': 'A class for rendering JSON objects with nested jinja2 templates.\\n\\nAllows setting template variables both during init and when calling the object.',\n",
       " 'params': [{'name': 'json_obj',\n",
       "   'type': None,\n",
       "   'default': None,\n",
       "   'description': 'A JSON object to render.'},\n",
       "  {'name': '**kwargs',\n",
       "   'type': None,\n",
       "   'default': None,\n",
       "   'description': 'Context variables to use in the rendering.'}],\n",
       " 'param_order': ['json_obj', '**kwargs'],\n",
       " 'returns': {'type': None, 'description': 'A rendered JSON object.'},\n",
       " 'signature': '(json_obj, **kwargs)',\n",
       " 'name': 'JsonRenderer',\n",
       " 'clean_name': 'JsonRenderer',\n",
       " 'source': 'https://github.com/DeanLight/stringdale/blob/main/stringdale/utils.py',\n",
       " 'methods': [{'description': None,\n",
       "   'params': [],\n",
       "   'param_order': [],\n",
       "   'signature': '(self, **kwargs)',\n",
       "   'name': '\\\\_\\\\_call\\\\_\\\\_',\n",
       "   'clean_name': '__call__',\n",
       "   'source': 'https://github.com/DeanLight/stringdale/blob/main/stringdale/utils.py'}]}"
      ]
     },
     "execution_count": null,
     "metadata": {},
     "output_type": "execute_result"
    }
   ],
   "source": [
    "clean_class(JsonRenderer,methods=['__call__'])"
   ]
  },
  {
   "cell_type": "markdown",
   "metadata": {},
   "source": [
    "## Rendering to markdown"
   ]
  },
  {
   "cell_type": "code",
   "execution_count": null,
   "metadata": {},
   "outputs": [],
   "source": [
    "#| export\n",
    "from IPython.display import Markdown,display\n",
    "from stringdale.core import jinja_render"
   ]
  },
  {
   "cell_type": "markdown",
   "metadata": {},
   "source": [
    "### Functions"
   ]
  },
  {
   "cell_type": "code",
   "execution_count": null,
   "metadata": {},
   "outputs": [],
   "source": [
    "#| export\n",
    "function_doc_template = \"\"\"\n",
    "### {{name}}\n",
    "\n",
    "<p align=\"right\"> <a href=\"{{source}}\">source</a> </p>\n",
    "\n",
    "> **Signature:** `{{clean_name}}{{signature}}`\n",
    "\n",
    "{{description}}\n",
    "\n",
    "| Parameter | Type | Default | Description |\n",
    "|-----------|------|---------|-------------|\n",
    "{%  for param in params -%}\n",
    "| {{param.name}} | {{param.type}} | {{param.default}} | {{param.description | replace('\\n', '') | safe }} |\n",
    "{%  endfor %}\n",
    "{%- if returns -%}\n",
    "| :Returns: | {{returns.type}} | - | {{returns.description | replace('\\n', '<br>') | safe }} |\n",
    "{%  endif %}\n",
    "\n",
    "\"\"\""
   ]
  },
  {
   "cell_type": "code",
   "execution_count": null,
   "metadata": {},
   "outputs": [],
   "source": [
    "func_data = clean_obj_data(V)\n",
    "# print(jinja_render(function_doc_template,func_data))"
   ]
  },
  {
   "cell_type": "code",
   "execution_count": null,
   "metadata": {},
   "outputs": [
    {
     "data": {
      "text/markdown": [
       "\n",
       "### V\n",
       "\n",
       "<p align=\"right\"> <a href=\"https://github.com/DeanLight/stringdale/blob/main/stringdale/diagrams_old.py\">source</a> </p>\n",
       "\n",
       "> **Signature:** `V(name: str, func: Callable = None, inputs: Any = None, outputs=None, is_break: bool = False, for_each: Optional[List[str]] = None, filter: bool = False, flat: bool = False, as_start: bool = False, as_end: bool = False) -> None`\n",
       "\n",
       "Add a vertex (node) to the current diagram.\n",
       "\n",
       "\n",
       "| Parameter | Type | Default | Description |\n",
       "|-----------|------|---------|-------------|\n",
       "| name | <class 'str'> | None | Name of the node |\n",
       "| func | typing.Callable | None | Function to execute at this node. If None, node acts as a passthrough |\n",
       "| inputs | typing.Any | None | List of input edge descriptors. Each descriptor can be either:- A string in format \"source_node.source_port->target_port\" - A tuple (edge_descriptor, condition_func) for conditional edges |\n",
       "| outputs | List[str] | None | List of output edge descriptors. Each descriptor can be either:- A string in format \"source_port->target_node.target_port\"- A tuple (edge_descriptor, condition_func) for conditional edges |\n",
       "| is_break | <class 'bool'> | False | If True, execution will pause at this node. Not allowed in flow scopes |\n",
       "| for_each | typing.Optional[typing.List[str]] | None | List of input keys to iterate over. Used for batching operations in Flow diagrams.If provided, the node will be executed once for each product of items in the input list.This for each keys must get iteratbles from the input edges. |\n",
       "| filter | <class 'bool'> | False | Used for batching operations in Flow diagrams. If True, falsy node outputs will be filtered out. Cannot be used with flat=True |\n",
       "| flat | <class 'bool'> | False | Used for batching operations in Flow diagrams.If True, node output lists will be flattened into a single list.Cannot be used with filter=True |\n",
       "| as_start | <class 'bool'> | False | If True, marks this node as the diagram's start node |\n",
       "| as_end | <class 'bool'> | False | If True, marks this node as the diagram's end node |\n",
       "| :Returns: | None | - | Name of the created node |\n",
       "\n"
      ],
      "text/plain": [
       "<IPython.core.display.Markdown object>"
      ]
     },
     "metadata": {},
     "output_type": "display_data"
    }
   ],
   "source": [
    "display(Markdown(jinja_render(function_doc_template,func_data)))"
   ]
  },
  {
   "cell_type": "markdown",
   "metadata": {},
   "source": [
    "### Classes"
   ]
  },
  {
   "cell_type": "code",
   "execution_count": null,
   "metadata": {},
   "outputs": [],
   "source": [
    "#| export\n",
    "\n",
    "class_doc_template = \"\"\"\n",
    "### {{name}}\n",
    "<p align=\"right\"> <a href=\"{{source}}\">source</a> </p>\n",
    "\n",
    "> **Signature:** `{{clean_name}}{{signature}}`\n",
    "\n",
    "{{description}}\n",
    "\n",
    "| Parameter | Type | Default | Description |\n",
    "|-----------|------|---------|-------------|\n",
    "{%  for param in params -%}\n",
    "| {{param.name}} | {{param.type}} | {{param.default}} | {{param.description | replace('\\n', '') | safe }} |\n",
    "{%  endfor %}\n",
    "{%- if returns -%}\n",
    "| :Returns: | {{returns.type}} | - | {{returns.description | replace('\\n', '<br>') | safe }} |\n",
    "{%  endif %}\n",
    "\n",
    "{% for method in methods %}\n",
    "#### {{ method.name }}\n",
    "\n",
    "{{method.description}}\n",
    "> **Signature:** `{{clean_name}}.{{method.clean_name}}{{method.signature}}`\n",
    "\n",
    "| Parameter | Type | Default | Description |\n",
    "|-----------|------|---------|-------------|\n",
    "{%  for param in method.params -%}\n",
    "| {{param.name}} | {{param.type}} | {{param.default}} | {{param.description | replace('\\n', '') | safe }} |\n",
    "{%  endfor -%}\n",
    "{% if returns -%}\n",
    "| :Returns: | {{returns.type}} | - | {{returns.description | replace('\\n', '<br>') | safe }} |\n",
    "{%  endif %}\n",
    "\n",
    "{% endfor %}\n",
    "\"\"\""
   ]
  },
  {
   "cell_type": "code",
   "execution_count": null,
   "metadata": {},
   "outputs": [
    {
     "data": {
      "text/plain": [
       "{'description': 'A class for rendering JSON objects with nested jinja2 templates.\\n\\nAllows setting template variables both during init and when calling the object.',\n",
       " 'params': [{'name': 'json_obj',\n",
       "   'type': None,\n",
       "   'default': None,\n",
       "   'description': 'A JSON object to render.'},\n",
       "  {'name': '**kwargs',\n",
       "   'type': None,\n",
       "   'default': None,\n",
       "   'description': 'Context variables to use in the rendering.'}],\n",
       " 'param_order': ['json_obj', '**kwargs'],\n",
       " 'returns': {'type': None, 'description': 'A rendered JSON object.'},\n",
       " 'signature': '(json_obj, **kwargs)',\n",
       " 'name': 'JsonRenderer',\n",
       " 'clean_name': 'JsonRenderer',\n",
       " 'source': 'https://github.com/DeanLight/stringdale/blob/main/stringdale/utils.py',\n",
       " 'methods': []}"
      ]
     },
     "execution_count": null,
     "metadata": {},
     "output_type": "execute_result"
    }
   ],
   "source": [
    "class_data = clean_class(JsonRenderer)\n",
    "class_data\n"
   ]
  },
  {
   "cell_type": "code",
   "execution_count": null,
   "metadata": {},
   "outputs": [
    {
     "name": "stdout",
     "output_type": "stream",
     "text": [
      "\n",
      "### JsonRenderer\n",
      "<p align=\"right\"> <a href=\"https://github.com/DeanLight/stringdale/blob/main/stringdale/utils.py\">source</a> </p>\n",
      "\n",
      "> **Signature:** `JsonRenderer(json_obj, **kwargs)`\n",
      "\n",
      "A class for rendering JSON objects with nested jinja2 templates.\n",
      "\n",
      "Allows setting template variables both during init and when calling the object.\n",
      "\n",
      "| Parameter | Type | Default | Description |\n",
      "|-----------|------|---------|-------------|\n",
      "| json_obj | None | None | A JSON object to render. |\n",
      "| **kwargs | None | None | Context variables to use in the rendering. |\n",
      "| :Returns: | None | - | A rendered JSON object. |\n",
      "\n",
      "\n",
      "\n"
     ]
    }
   ],
   "source": [
    "print(jinja_render(class_doc_template,params=class_data))"
   ]
  },
  {
   "cell_type": "code",
   "execution_count": null,
   "metadata": {},
   "outputs": [
    {
     "data": {
      "text/markdown": [
       "\n",
       "### JsonRenderer\n",
       "<p align=\"right\"> <a href=\"https://github.com/DeanLight/stringdale/blob/main/stringdale/utils.py\">source</a> </p>\n",
       "\n",
       "> **Signature:** `JsonRenderer(json_obj, **kwargs)`\n",
       "\n",
       "A class for rendering JSON objects with nested jinja2 templates.\n",
       "\n",
       "Allows setting template variables both during init and when calling the object.\n",
       "\n",
       "| Parameter | Type | Default | Description |\n",
       "|-----------|------|---------|-------------|\n",
       "| json_obj | None | None | A JSON object to render. |\n",
       "| **kwargs | None | None | Context variables to use in the rendering. |\n",
       "| :Returns: | None | - | A rendered JSON object. |\n",
       "\n",
       "\n"
      ],
      "text/plain": [
       "<IPython.core.display.Markdown object>"
      ]
     },
     "metadata": {},
     "output_type": "display_data"
    }
   ],
   "source": [
    "display(Markdown(jinja_render(class_doc_template,params=class_data)))"
   ]
  },
  {
   "cell_type": "markdown",
   "metadata": {},
   "source": [
    "### All together"
   ]
  },
  {
   "cell_type": "code",
   "execution_count": null,
   "metadata": {},
   "outputs": [],
   "source": [
    "#| export\n",
    "def show_doc(obj,methods=None):\n",
    "    if inspect.isfunction(obj):\n",
    "        data = clean_obj_data(obj)\n",
    "        md = jinja_render(function_doc_template,data)\n",
    "        \n",
    "    elif inspect.isclass(obj):\n",
    "        data = clean_class(obj,methods=methods)\n",
    "        md = jinja_render(class_doc_template,data)\n",
    "\n",
    "    else:\n",
    "        raise ValueError(f\"Unsupported object type: {type(obj)}\")\n",
    "    \n",
    "    display(Markdown(md))"
   ]
  },
  {
   "cell_type": "code",
   "execution_count": null,
   "metadata": {},
   "outputs": [
    {
     "data": {
      "text/markdown": [
       "\n",
       "### V\n",
       "\n",
       "<p align=\"right\"> <a href=\"https://github.com/DeanLight/stringdale/blob/main/stringdale/diagrams_old.py\">source</a> </p>\n",
       "\n",
       "> **Signature:** `V(name: str, func: Callable = None, inputs: Any = None, outputs=None, is_break: bool = False, for_each: Optional[List[str]] = None, filter: bool = False, flat: bool = False, as_start: bool = False, as_end: bool = False) -> None`\n",
       "\n",
       "Add a vertex (node) to the current diagram.\n",
       "\n",
       "\n",
       "| Parameter | Type | Default | Description |\n",
       "|-----------|------|---------|-------------|\n",
       "| name | <class 'str'> | None | Name of the node |\n",
       "| func | typing.Callable | None | Function to execute at this node. If None, node acts as a passthrough |\n",
       "| inputs | typing.Any | None | List of input edge descriptors. Each descriptor can be either:- A string in format \"source_node.source_port->target_port\" - A tuple (edge_descriptor, condition_func) for conditional edges |\n",
       "| outputs | List[str] | None | List of output edge descriptors. Each descriptor can be either:- A string in format \"source_port->target_node.target_port\"- A tuple (edge_descriptor, condition_func) for conditional edges |\n",
       "| is_break | <class 'bool'> | False | If True, execution will pause at this node. Not allowed in flow scopes |\n",
       "| for_each | typing.Optional[typing.List[str]] | None | List of input keys to iterate over. Used for batching operations in Flow diagrams.If provided, the node will be executed once for each product of items in the input list.This for each keys must get iteratbles from the input edges. |\n",
       "| filter | <class 'bool'> | False | Used for batching operations in Flow diagrams. If True, falsy node outputs will be filtered out. Cannot be used with flat=True |\n",
       "| flat | <class 'bool'> | False | Used for batching operations in Flow diagrams.If True, node output lists will be flattened into a single list.Cannot be used with filter=True |\n",
       "| as_start | <class 'bool'> | False | If True, marks this node as the diagram's start node |\n",
       "| as_end | <class 'bool'> | False | If True, marks this node as the diagram's end node |\n",
       "| :Returns: | None | - | Name of the created node |\n",
       "\n"
      ],
      "text/plain": [
       "<IPython.core.display.Markdown object>"
      ]
     },
     "metadata": {},
     "output_type": "display_data"
    },
    {
     "data": {
      "text/markdown": [
       "\n",
       "### JsonRenderer\n",
       "<p align=\"right\"> <a href=\"https://github.com/DeanLight/stringdale/blob/main/stringdale/utils.py\">source</a> </p>\n",
       "\n",
       "> **Signature:** `JsonRenderer(json_obj, **kwargs)`\n",
       "\n",
       "A class for rendering JSON objects with nested jinja2 templates.\n",
       "\n",
       "Allows setting template variables both during init and when calling the object.\n",
       "\n",
       "| Parameter | Type | Default | Description |\n",
       "|-----------|------|---------|-------------|\n",
       "| json_obj | None | None | A JSON object to render. |\n",
       "| **kwargs | None | None | Context variables to use in the rendering. |\n",
       "| :Returns: | None | - | A rendered JSON object. |\n",
       "\n",
       "\n",
       "\n",
       "#### \\_\\_call\\_\\_\n",
       "\n",
       "None\n",
       "> **Signature:** `JsonRenderer.__call__(self, **kwargs)`\n",
       "\n",
       "| Parameter | Type | Default | Description |\n",
       "|-----------|------|---------|-------------|\n",
       "| :Returns: | None | - | A rendered JSON object. |\n",
       "\n",
       "\n",
       "\n",
       "#### \\_\\_str\\_\\_\n",
       "\n",
       "None\n",
       "> **Signature:** `JsonRenderer.__str__(self)`\n",
       "\n",
       "| Parameter | Type | Default | Description |\n",
       "|-----------|------|---------|-------------|\n",
       "| :Returns: | None | - | A rendered JSON object. |\n",
       "\n",
       "\n"
      ],
      "text/plain": [
       "<IPython.core.display.Markdown object>"
      ]
     },
     "metadata": {},
     "output_type": "display_data"
    }
   ],
   "source": [
    "show_doc(V)\n",
    "show_doc(JsonRenderer,methods=['__call__','__str__'])\n"
   ]
  },
  {
   "cell_type": "markdown",
   "metadata": {},
   "source": [
    "# Export"
   ]
  },
  {
   "cell_type": "code",
   "execution_count": null,
   "metadata": {},
   "outputs": [],
   "source": [
    "#|hide\n",
    "import nbdev; nbdev.nbdev_export()\n",
    "     "
   ]
  }
 ],
 "metadata": {
  "kernelspec": {
   "display_name": "python3",
   "language": "python",
   "name": "python3"
  }
 },
 "nbformat": 4,
 "nbformat_minor": 4
}
