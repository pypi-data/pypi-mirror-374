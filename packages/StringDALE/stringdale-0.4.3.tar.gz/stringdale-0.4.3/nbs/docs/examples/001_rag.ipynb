{
 "cells": [
  {
   "cell_type": "markdown",
   "metadata": {},
   "source": [
    "## RAG Agent\n",
    "\n"
   ]
  },
  {
   "cell_type": "code",
   "execution_count": null,
   "metadata": {},
   "outputs": [],
   "source": [
    "#| hide\n",
    "%load_ext autoreload\n",
    "%autoreload 2\n"
   ]
  },
  {
   "cell_type": "code",
   "execution_count": null,
   "metadata": {},
   "outputs": [
    {
     "data": {
      "text/plain": [
       "True"
      ]
     },
     "execution_count": null,
     "metadata": {},
     "output_type": "execute_result"
    }
   ],
   "source": [
    "# | hide\n",
    "from stringdale.core import get_git_root, load_env, checkLogs, json_render\n",
    "\n",
    "load_env()"
   ]
  },
  {
   "cell_type": "code",
   "execution_count": null,
   "metadata": {},
   "outputs": [],
   "source": [
    "from stringdale import V,E,Define\n",
    "from stringdale.chat import Chat\n",
    "from stringdale.db import ChromaClient"
   ]
  },
  {
   "cell_type": "code",
   "execution_count": null,
   "metadata": {},
   "outputs": [],
   "source": [
    "chroma_client = ChromaClient()"
   ]
  },
  {
   "cell_type": "code",
   "execution_count": null,
   "metadata": {},
   "outputs": [
    {
     "data": {
      "text/plain": [
       "[{'id': 'dog1',\n",
       "  'text': 'The Golden Retriever is a friendly, intelligent breed known for its golden coat. They make excellent family pets and are great with children.',\n",
       "  'metadata': {'breed': 'Golden Retriever'}},\n",
       " {'id': 'dog2',\n",
       "  'text': 'German Shepherds are loyal, protective dogs often used in police work. They are highly trainable and good at various tasks.',\n",
       "  'metadata': {'breed': 'German Shepherd'}},\n",
       " {'id': 'dog3',\n",
       "  'text': 'The Golden Retriever is a friendly, intelligent breed with a beautiful golden coat. They are wonderful family pets that get along well with kids.',\n",
       "  'metadata': {'breed': 'Golden Retriever'}},\n",
       " {'id': 'dog4',\n",
       "  'text': 'Huskies are energetic working dogs bred for cold climates. They have thick fur and often blue eyes.',\n",
       "  'metadata': {'breed': 'Husky'}},\n",
       " {'id': 'dog5',\n",
       "  'text': 'Siberian Huskies are active working dogs that thrive in cold weather. They are known for their thick coats and striking blue eyes.',\n",
       "  'metadata': {'breed': 'Husky'}}]"
      ]
     },
     "execution_count": null,
     "metadata": {},
     "output_type": "execute_result"
    }
   ],
   "source": [
    "dog_docs = [\n",
    "    {\n",
    "        'id': 'dog1',\n",
    "        'text': 'The Golden Retriever is a friendly, intelligent breed known for its golden coat. They make excellent family pets and are great with children.',\n",
    "        'metadata': {'breed': 'Golden Retriever'}\n",
    "    },\n",
    "    {\n",
    "        'id': 'dog2', \n",
    "        'text': 'German Shepherds are loyal, protective dogs often used in police work. They are highly trainable and good at various tasks.',\n",
    "        'metadata': {'breed': 'German Shepherd'}\n",
    "    },\n",
    "    {\n",
    "        'id': 'dog3',\n",
    "        'text': 'The Golden Retriever is a friendly, intelligent breed with a beautiful golden coat. They are wonderful family pets that get along well with kids.',\n",
    "        'metadata': {'breed': 'Golden Retriever'}  # Near duplicate of dog1\n",
    "    },\n",
    "    {\n",
    "        'id': 'dog4',\n",
    "        'text': 'Huskies are energetic working dogs bred for cold climates. They have thick fur and often blue eyes.',\n",
    "        'metadata': {'breed': 'Husky'}\n",
    "    },\n",
    "    {\n",
    "        'id': 'dog5',\n",
    "        'text': 'Siberian Huskies are active working dogs that thrive in cold weather. They are known for their thick coats and striking blue eyes.',\n",
    "        'metadata': {'breed': 'Husky'}  # Near duplicate of dog4\n",
    "    }\n",
    "]\n",
    "\n",
    "# Add documents to index\n",
    "chroma_client.add_collection(\"dog_docs\",exists_ok=True)\n",
    "chroma_client.upsert(collection_name=\"dog_docs\",docs=dog_docs)"
   ]
  },
  {
   "cell_type": "code",
   "execution_count": null,
   "metadata": {},
   "outputs": [
    {
     "data": {
      "text/plain": [
       "Chat(model='gpt-4o-mini', required_keys={'docs', 'question'}, seed=42)"
      ]
     },
     "execution_count": null,
     "metadata": {},
     "output_type": "execute_result"
    }
   ],
   "source": [
    "rag_chat = Chat(\n",
    "    model='gpt-4o-mini',\n",
    "    messages=[\n",
    "        {'role':'system','content':'''\n",
    "            You are a helpful assistant that answers questions about dogs.\n",
    "            I found the following documents that may be relevant to the user's question:\n",
    "            {% for doc in docs %}\n",
    "            {{doc['text']}}\n",
    "            {% endfor %}\n",
    "            '''},\n",
    "        {'role':'user','content':'{{question}}'},\n",
    "    ]\n",
    ")\n",
    "rag_chat"
   ]
  },
  {
   "cell_type": "code",
   "execution_count": null,
   "metadata": {},
   "outputs": [
    {
     "data": {
      "image/svg+xml": [
       "<?xml version=\"1.0\" encoding=\"UTF-8\" standalone=\"no\"?>\n",
       "<!DOCTYPE svg PUBLIC \"-//W3C//DTD SVG 1.1//EN\"\n",
       " \"http://www.w3.org/Graphics/SVG/1.1/DTD/svg11.dtd\">\n",
       "<!-- Generated by graphviz version 12.2.1 (20241206.2353)\n",
       " -->\n",
       "<!-- Title: RAG Agent Pages: 1 -->\n",
       "<svg width=\"610pt\" height=\"137pt\"\n",
       " viewBox=\"0.00 0.00 609.50 137.25\" xmlns=\"http://www.w3.org/2000/svg\" xmlns:xlink=\"http://www.w3.org/1999/xlink\">\n",
       "<g id=\"graph0\" class=\"graph\" transform=\"scale(1 1) rotate(0) translate(4 133.25)\">\n",
       "<title>RAG Agent</title>\n",
       "<polygon fill=\"white\" stroke=\"none\" points=\"-4,4 -4,-133.25 605.5,-133.25 605.5,4 -4,4\"/>\n",
       "<text text-anchor=\"middle\" x=\"300.75\" y=\"-111.95\" font-family=\"Times,serif\" font-size=\"14.00\">RAG Agent</text>\n",
       "<!-- node_0 -->\n",
       "<g id=\"node1\" class=\"node\">\n",
       "<title>node_0</title>\n",
       "<polygon fill=\"#ececff\" stroke=\"#9370db\" points=\"263.5,-104.75 127.5,-104.75 127.5,-63.75 263.5,-63.75 263.5,-104.75\"/>\n",
       "<text text-anchor=\"middle\" x=\"195.5\" y=\"-87.45\" font-family=\"Times,serif\" font-size=\"14.00\">get_docs[</text>\n",
       "<text text-anchor=\"middle\" x=\"195.5\" y=\"-70.95\" font-family=\"Times,serif\" font-size=\"14.00\">ChromaClient.query ]</text>\n",
       "</g>\n",
       "<!-- node_2 -->\n",
       "<g id=\"node3\" class=\"node\">\n",
       "<title>node_2</title>\n",
       "<polygon fill=\"#ececff\" stroke=\"#9370db\" points=\"510.5,-90.5 348.25,-90.5 348.25,0 510.5,0 510.5,-90.5\"/>\n",
       "<text text-anchor=\"middle\" x=\"429.38\" y=\"-73.2\" font-family=\"Times,serif\" font-size=\"14.00\">chat[</text>\n",
       "<text text-anchor=\"middle\" x=\"429.38\" y=\"-56.7\" font-family=\"Times,serif\" font-size=\"14.00\">Chat(model=&#39;gpt&#45;4o&#45;mini&#39;,</text>\n",
       "<text text-anchor=\"middle\" x=\"429.38\" y=\"-40.2\" font-family=\"Times,serif\" font-size=\"14.00\">required_keys={&#39;docs&#39;,</text>\n",
       "<text text-anchor=\"middle\" x=\"429.38\" y=\"-23.7\" font-family=\"Times,serif\" font-size=\"14.00\">&#39;question&#39;},</text>\n",
       "<text text-anchor=\"middle\" x=\"429.38\" y=\"-7.2\" font-family=\"Times,serif\" font-size=\"14.00\">seed=42) ]</text>\n",
       "</g>\n",
       "<!-- node_0&#45;&gt;node_2 -->\n",
       "<g id=\"edge1\" class=\"edge\">\n",
       "<title>node_0&#45;&gt;node_2</title>\n",
       "<path fill=\"none\" stroke=\"black\" d=\"M263.88,-72.92C286.72,-69.08 312.64,-64.72 337.03,-60.61\"/>\n",
       "<polygon fill=\"black\" stroke=\"black\" points=\"337.34,-64.11 346.62,-59 336.17,-57.21 337.34,-64.11\"/>\n",
       "<text text-anchor=\"middle\" x=\"305.88\" y=\"-72.59\" font-family=\"Times,serif\" font-size=\"14.00\">. &#45;&gt; docs</text>\n",
       "</g>\n",
       "<!-- node_1 -->\n",
       "<g id=\"node2\" class=\"node\">\n",
       "<title>node_1</title>\n",
       "<polygon fill=\"#ececff\" stroke=\"#9370db\" points=\"54,-69.25 0,-69.25 0,-33.25 54,-33.25 54,-69.25\"/>\n",
       "<text text-anchor=\"middle\" x=\"27\" y=\"-46.2\" font-family=\"Times,serif\" font-size=\"14.00\">Start</text>\n",
       "</g>\n",
       "<!-- node_1&#45;&gt;node_0 -->\n",
       "<g id=\"edge2\" class=\"edge\">\n",
       "<title>node_1&#45;&gt;node_0</title>\n",
       "<path fill=\"none\" stroke=\"black\" d=\"M54.38,-56.48C71.17,-59.81 93.87,-64.3 116.1,-68.71\"/>\n",
       "<polygon fill=\"black\" stroke=\"black\" points=\"115.32,-72.13 125.81,-70.64 116.68,-65.26 115.32,-72.13\"/>\n",
       "<text text-anchor=\"middle\" x=\"90.75\" y=\"-69.96\" font-family=\"Times,serif\" font-size=\"14.00\">. &#45;&gt; **</text>\n",
       "</g>\n",
       "<!-- node_1&#45;&gt;node_2 -->\n",
       "<g id=\"edge3\" class=\"edge\">\n",
       "<title>node_1&#45;&gt;node_2</title>\n",
       "<path fill=\"none\" stroke=\"black\" d=\"M54.1,-47.06C74.12,-44.07 102.48,-40.32 127.5,-38.75 197.55,-34.37 276.94,-36.37 336.57,-39.27\"/>\n",
       "<polygon fill=\"black\" stroke=\"black\" points=\"336.17,-42.76 346.34,-39.77 336.52,-35.76 336.17,-42.76\"/>\n",
       "<text text-anchor=\"middle\" x=\"195.5\" y=\"-41.95\" font-family=\"Times,serif\" font-size=\"14.00\">query &#45;&gt; question</text>\n",
       "</g>\n",
       "<!-- node_3 -->\n",
       "<g id=\"node4\" class=\"node\">\n",
       "<title>node_3</title>\n",
       "<polygon fill=\"#ececff\" stroke=\"#9370db\" points=\"601.5,-63.25 547.5,-63.25 547.5,-27.25 601.5,-27.25 601.5,-63.25\"/>\n",
       "<text text-anchor=\"middle\" x=\"574.5\" y=\"-40.2\" font-family=\"Times,serif\" font-size=\"14.00\">End</text>\n",
       "</g>\n",
       "<!-- node_2&#45;&gt;node_3 -->\n",
       "<g id=\"edge4\" class=\"edge\">\n",
       "<title>node_2&#45;&gt;node_3</title>\n",
       "<path fill=\"none\" stroke=\"black\" d=\"M510.72,-45.25C519.44,-45.25 527.98,-45.25 535.82,-45.25\"/>\n",
       "<polygon fill=\"black\" stroke=\"black\" points=\"535.59,-48.75 545.59,-45.25 535.59,-41.75 535.59,-48.75\"/>\n",
       "</g>\n",
       "</g>\n",
       "</svg>\n"
      ],
      "text/plain": [
       "<graphviz.graphs.Digraph>"
      ]
     },
     "metadata": {},
     "output_type": "display_data"
    }
   ],
   "source": [
    "with Define('RAG Agent',type='flow') as RAG:\n",
    "    V('get_docs',chroma_client.query,\n",
    "        inputs=['Start(**)'],\n",
    "    )\n",
    "    V('chat',rag_chat,\n",
    "        inputs=['get_docs(docs)','Start(question=query)'],\n",
    "        outputs=['End']\n",
    "    )\n",
    "    \n",
    "RAG.draw()"
   ]
  },
  {
   "cell_type": "code",
   "execution_count": null,
   "metadata": {},
   "outputs": [
    {
     "name": "stdout",
     "output_type": "stream",
     "text": [
      "Node Start:\n",
      "{ 'input': { 'collection_name': 'dog_docs',\n",
      "             'k': 2,\n",
      "             'query': 'tell me some stuff about golden retrievers'},\n",
      "  'output': { 'collection_name': 'dog_docs',\n",
      "              'k': 2,\n",
      "              'query': 'tell me some stuff about golden retrievers'}}\n",
      "================================================================================\n",
      "Node get_docs:\n",
      "{ 'input': { 'collection_name': 'dog_docs',\n",
      "             'k': 2,\n",
      "             'query': 'tell me some stuff about golden retrievers'},\n",
      "  'output': [ { 'distance': 0.6993070840835571,\n",
      "                'id': 'dog3',\n",
      "                'metadata': {'breed': 'Golden Retriever'},\n",
      "                'text': 'The Golden Retriever is a friendly, intelligent breed '\n",
      "                        'with a beautiful golden coat. They are wonderful '\n",
      "                        'family pets that get along well with kids.'},\n",
      "              { 'distance': 0.7122190594673157,\n",
      "                'id': 'dog1',\n",
      "                'metadata': {'breed': 'Golden Retriever'},\n",
      "                'text': 'The Golden Retriever is a friendly, intelligent breed '\n",
      "                        'known for its golden coat. They make excellent family '\n",
      "                        'pets and are great with children.'}]}\n",
      "================================================================================\n",
      "Node chat:\n",
      "{ 'input': { 'docs': [ { 'distance': 0.6993070840835571,\n",
      "                         'id': 'dog3',\n",
      "                         'metadata': {'breed': 'Golden Retriever'},\n",
      "                         'text': 'The Golden Retriever is a friendly, '\n",
      "                                 'intelligent breed with a beautiful golden '\n",
      "                                 'coat. They are wonderful family pets that '\n",
      "                                 'get along well with kids.'},\n",
      "                       { 'distance': 0.7122190594673157,\n",
      "                         'id': 'dog1',\n",
      "                         'metadata': {'breed': 'Golden Retriever'},\n",
      "                         'text': 'The Golden Retriever is a friendly, '\n",
      "                                 'intelligent breed known for its golden coat. '\n",
      "                                 'They make excellent family pets and are '\n",
      "                                 'great with children.'}],\n",
      "             'question': 'tell me some stuff about golden retrievers'},\n",
      "  'output': { 'content': 'The Golden Retriever is a friendly and intelligent '\n",
      "                         'breed known for its beautiful golden coat. They make '\n",
      "                         'excellent family pets and are particularly good with '\n",
      "                         'children, making them wonderful companions for '\n",
      "                         'families.',\n",
      "              'meta': {'input_tokens': 198, 'output_tokens': 42},\n",
      "              'role': 'assistant'}}\n",
      "================================================================================\n",
      "Node End:\n",
      "{ 'input': { 0: { 'content': 'The Golden Retriever is a friendly and '\n",
      "                             'intelligent breed known for its beautiful golden '\n",
      "                             'coat. They make excellent family pets and are '\n",
      "                             'particularly good with children, making them '\n",
      "                             'wonderful companions for families.',\n",
      "                  'meta': {'input_tokens': 198, 'output_tokens': 42},\n",
      "                  'role': 'assistant'}},\n",
      "  'output': { 'content': 'The Golden Retriever is a friendly and intelligent '\n",
      "                         'breed known for its beautiful golden coat. They make '\n",
      "                         'excellent family pets and are particularly good with '\n",
      "                         'children, making them wonderful companions for '\n",
      "                         'families.',\n",
      "              'meta': {'input_tokens': 198, 'output_tokens': 42},\n",
      "              'role': 'assistant'}}\n",
      "================================================================================\n"
     ]
    },
    {
     "data": {
      "text/plain": [
       "{'role': 'assistant',\n",
       " 'content': 'The Golden Retriever is a friendly and intelligent breed known for its beautiful golden coat. They make excellent family pets and are particularly good with children, making them wonderful companions for families.',\n",
       " 'meta': {'input_tokens': 198, 'output_tokens': 42}}"
      ]
     },
     "execution_count": null,
     "metadata": {},
     "output_type": "execute_result"
    }
   ],
   "source": [
    "d=RAG()\n",
    "for trace in d.run({'query':'tell me some stuff about golden retrievers','collection_name':'dog_docs','k':2}):\n",
    "    trace.pprint()\n",
    "\n",
    "d.output\n"
   ]
  }
 ],
 "metadata": {
  "kernelspec": {
   "display_name": "python3",
   "language": "python",
   "name": "python3"
  }
 },
 "nbformat": 4,
 "nbformat_minor": 2
}
