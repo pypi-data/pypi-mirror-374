{
 "cells": [
  {
   "cell_type": "code",
   "execution_count": null,
   "metadata": {},
   "outputs": [],
   "source": [
    "# | hide\n",
    "%load_ext autoreload\n",
    "%autoreload 2"
   ]
  },
  {
   "cell_type": "markdown",
   "metadata": {},
   "source": [
    "# Hello World"
   ]
  },
  {
   "cell_type": "markdown",
   "metadata": {},
   "source": [
    "## RAG example"
   ]
  },
  {
   "cell_type": "markdown",
   "metadata": {},
   "source": [
    "Working with stringdale Involves three steps:\n",
    "\n",
    "* Bringing your functions\n",
    "* Defining a diagram schema\n",
    "* Running the a diagram instance\n",
    "\n",
    "Lets look at an example step by step."
   ]
  },
  {
   "cell_type": "markdown",
   "metadata": {},
   "source": [
    "### Bring your functions"
   ]
  },
  {
   "cell_type": "markdown",
   "metadata": {},
   "source": [
    "First, let us import some basic llm functions, we built some thin wrappers:\n",
    "\n",
    "* `Chat` wraps [instructor](https://python.useinstructor.com/) using [jinja2](https://jinja.palletsprojects.com/en/stable/) to make templating prompts simpler.\n",
    "* `ChromaClient` wraps [ChromaDB](https://docs.trychroma.com/docs/overview/introduction) so that are queries are returned as a list of dicts.\n",
    "\n",
    "These functions are just for instruction purposes, you should build your own around the SDKs of the tools suited to your specific LLM needs."
   ]
  },
  {
   "cell_type": "code",
   "execution_count": null,
   "metadata": {},
   "outputs": [],
   "source": [
    "from stringdale.chat import Chat\n",
    "from stringdale.db import ChromaClient\n"
   ]
  },
  {
   "cell_type": "markdown",
   "metadata": {},
   "source": [
    "Lets make an example vector db:"
   ]
  },
  {
   "cell_type": "code",
   "execution_count": null,
   "metadata": {},
   "outputs": [
    {
     "data": {
      "text/plain": [
       "[{'id': 'dog2',\n",
       "  'text': 'German Shepherds are loyal, protective dogs often used in police work. They are highly trainable and good at various tasks.',\n",
       "  'metadata': {'breed': 'German Shepherd'},\n",
       "  'distance': 1.1108803749084473},\n",
       " {'id': 'dog4',\n",
       "  'text': 'Huskies are energetic working dogs bred for cold climates. They have thick fur and often blue eyes.',\n",
       "  'metadata': {'breed': 'Husky'},\n",
       "  'distance': 1.40901517868042},\n",
       " {'id': 'dog1',\n",
       "  'text': 'The Golden Retriever is a friendly, intelligent breed known for its golden coat. They make excellent family pets and are great with children.',\n",
       "  'metadata': {'breed': 'Golden Retriever'},\n",
       "  'distance': 1.4540519714355469}]"
      ]
     },
     "execution_count": null,
     "metadata": {},
     "output_type": "execute_result"
    }
   ],
   "source": [
    "chroma_client = ChromaClient()\n",
    "\n",
    "dog_docs = [\n",
    "    {\n",
    "        'id': 'dog1',\n",
    "        'text': 'The Golden Retriever is a friendly, intelligent breed known for its golden coat. They make excellent family pets and are great with children.',\n",
    "        'metadata': {'breed': 'Golden Retriever'}\n",
    "    },\n",
    "    {\n",
    "        'id': 'dog2', \n",
    "        'text': 'German Shepherds are loyal, protective dogs often used in police work. They are highly trainable and good at various tasks.',\n",
    "        'metadata': {'breed': 'German Shepherd'}\n",
    "    },\n",
    "    {\n",
    "        'id': 'dog3',\n",
    "        'text': 'The Golden Retriever is a friendly, intelligent breed with a beautiful golden coat. They are wonderful family pets that get along well with kids.',\n",
    "        'metadata': {'breed': 'Golden Retriever'}  \n",
    "    },\n",
    "    {\n",
    "        'id': 'dog4',\n",
    "        'text': 'Huskies are energetic working dogs bred for cold climates. They have thick fur and often blue eyes.',\n",
    "        'metadata': {'breed': 'Husky'}\n",
    "    },\n",
    "    {\n",
    "        'id': 'dog5',\n",
    "        'text': 'Siberian Huskies are active working dogs that thrive in cold weather. They are known for their thick coats and striking blue eyes.',\n",
    "        'metadata': {'breed': 'Husky'} \n",
    "    }\n",
    "]\n",
    "\n",
    "chroma_client.add_collection(\"dog_docs\",exists_ok=True)\n",
    "chroma_client.upsert(collection_name=\"dog_docs\",docs=dog_docs)\n",
    "chroma_client.query(query='the name of the dog is german something...',collection_name='dog_docs',k=3)"
   ]
  },
  {
   "cell_type": "code",
   "execution_count": null,
   "metadata": {},
   "outputs": [
    {
     "data": {
      "text/plain": [
       "Chat(model='gpt-4o-mini', required_keys={'docs', 'question'}, seed=42)"
      ]
     },
     "execution_count": null,
     "metadata": {},
     "output_type": "execute_result"
    }
   ],
   "source": [
    "rag_chat = Chat(\n",
    "    model='gpt-4o-mini',\n",
    "    messages=[\n",
    "        {'role':'system','content':'''\n",
    "            You are a helpful assistant that answers questions about dogs.\n",
    "            I found the following documents that may be relevant to the user's question:\n",
    "            {% for doc in docs %}\n",
    "            {{doc['text']}}\n",
    "            {% endfor %}\n",
    "            '''},\n",
    "        {'role':'user','content':'{{question}}'},\n",
    "    ]\n",
    ")\n",
    "rag_chat"
   ]
  },
  {
   "cell_type": "code",
   "execution_count": null,
   "metadata": {},
   "outputs": [
    {
     "data": {
      "text/plain": [
       "{'role': 'assistant',\n",
       " 'content': 'The dog you are referring to is likely a German Shepherd.',\n",
       " 'meta': {'input_tokens': 171, 'output_tokens': 19}}"
      ]
     },
     "execution_count": null,
     "metadata": {},
     "output_type": "execute_result"
    }
   ],
   "source": [
    "await rag_chat(question='the name of the dog is german something...',docs=[\n",
    "    {'text': 'German Shepherds are loyal, protective dogs often used in police work. They are highly trainable and good at various tasks.'}\n",
    "])"
   ]
  },
  {
   "cell_type": "markdown",
   "metadata": {},
   "source": [
    "### Define your diagram"
   ]
  },
  {
   "cell_type": "code",
   "execution_count": null,
   "metadata": {},
   "outputs": [],
   "source": [
    "from stringdale import V,E,Define"
   ]
  },
  {
   "cell_type": "markdown",
   "metadata": {},
   "source": [
    "We define a diagram as follows:"
   ]
  },
  {
   "cell_type": "code",
   "execution_count": null,
   "metadata": {},
   "outputs": [],
   "source": [
    "with Define('RAG Agent',type='flow') as RAG:\n",
    "\n",
    "    # each node has a name and an optional function\n",
    "    V('get_docs',chroma_client.query)\n",
    "    V('chat',rag_chat)\n",
    "    # nodes that have no function are called \"pass through\" nodes\n",
    "    # they simply collect outputs passed to them into a dict\n",
    "    # Start and End are created automatically as pass through nodes if not defined otherwise\n",
    "    V('Start')\n",
    "    V('End')\n",
    "    \n",
    "    # we can define edges using the E function\n",
    "    # edges are defined via a 'source->target(port_mapping)' syntax\n",
    "    # we cover the port mapping syntax in depth in the next tutorial\n",
    "    E('Start->get_docs(**)')   \n",
    "    E('get_docs->chat(docs=.)')\n",
    "    E('Start->chat(question=query)')\n",
    "    E('chat->End')"
   ]
  },
  {
   "cell_type": "markdown",
   "metadata": {},
   "source": [
    "The `RAG` object we got from the `Define` context manager is a Diagram Schema"
   ]
  },
  {
   "cell_type": "code",
   "execution_count": null,
   "metadata": {},
   "outputs": [
    {
     "data": {
      "text/plain": [
       "<stringdale.base.DiagramSchema>"
      ]
     },
     "execution_count": null,
     "metadata": {},
     "output_type": "execute_result"
    }
   ],
   "source": [
    "RAG"
   ]
  },
  {
   "cell_type": "markdown",
   "metadata": {},
   "source": [
    "You can draw the diagram using the draw method"
   ]
  },
  {
   "cell_type": "code",
   "execution_count": null,
   "metadata": {},
   "outputs": [
    {
     "data": {
      "image/svg+xml": [
       "<?xml version=\"1.0\" encoding=\"UTF-8\" standalone=\"no\"?>\n",
       "<!DOCTYPE svg PUBLIC \"-//W3C//DTD SVG 1.1//EN\"\n",
       " \"http://www.w3.org/Graphics/SVG/1.1/DTD/svg11.dtd\">\n",
       "<!-- Generated by graphviz version 12.2.1 (20241206.2353)\n",
       " -->\n",
       "<!-- Title: RAG Agent Pages: 1 -->\n",
       "<svg width=\"610pt\" height=\"137pt\"\n",
       " viewBox=\"0.00 0.00 609.50 137.25\" xmlns=\"http://www.w3.org/2000/svg\" xmlns:xlink=\"http://www.w3.org/1999/xlink\">\n",
       "<g id=\"graph0\" class=\"graph\" transform=\"scale(1 1) rotate(0) translate(4 133.25)\">\n",
       "<title>RAG Agent</title>\n",
       "<polygon fill=\"white\" stroke=\"none\" points=\"-4,4 -4,-133.25 605.5,-133.25 605.5,4 -4,4\"/>\n",
       "<text text-anchor=\"middle\" x=\"300.75\" y=\"-111.95\" font-family=\"Times,serif\" font-size=\"14.00\">RAG Agent</text>\n",
       "<!-- node_0 -->\n",
       "<g id=\"node1\" class=\"node\">\n",
       "<title>node_0</title>\n",
       "<polygon fill=\"#ececff\" stroke=\"#9370db\" points=\"263.5,-104.75 127.5,-104.75 127.5,-63.75 263.5,-63.75 263.5,-104.75\"/>\n",
       "<text text-anchor=\"middle\" x=\"195.5\" y=\"-87.45\" font-family=\"Times,serif\" font-size=\"14.00\">get_docs[</text>\n",
       "<text text-anchor=\"middle\" x=\"195.5\" y=\"-70.95\" font-family=\"Times,serif\" font-size=\"14.00\">ChromaClient.query ]</text>\n",
       "</g>\n",
       "<!-- node_1 -->\n",
       "<g id=\"node2\" class=\"node\">\n",
       "<title>node_1</title>\n",
       "<polygon fill=\"#ececff\" stroke=\"#9370db\" points=\"510.5,-90.5 348.25,-90.5 348.25,0 510.5,0 510.5,-90.5\"/>\n",
       "<text text-anchor=\"middle\" x=\"429.38\" y=\"-73.2\" font-family=\"Times,serif\" font-size=\"14.00\">chat[</text>\n",
       "<text text-anchor=\"middle\" x=\"429.38\" y=\"-56.7\" font-family=\"Times,serif\" font-size=\"14.00\">Chat(model=&#39;gpt&#45;4o&#45;mini&#39;,</text>\n",
       "<text text-anchor=\"middle\" x=\"429.38\" y=\"-40.2\" font-family=\"Times,serif\" font-size=\"14.00\">required_keys={&#39;docs&#39;,</text>\n",
       "<text text-anchor=\"middle\" x=\"429.38\" y=\"-23.7\" font-family=\"Times,serif\" font-size=\"14.00\">&#39;question&#39;},</text>\n",
       "<text text-anchor=\"middle\" x=\"429.38\" y=\"-7.2\" font-family=\"Times,serif\" font-size=\"14.00\">seed=42) ]</text>\n",
       "</g>\n",
       "<!-- node_0&#45;&gt;node_1 -->\n",
       "<g id=\"edge1\" class=\"edge\">\n",
       "<title>node_0&#45;&gt;node_1</title>\n",
       "<path fill=\"none\" stroke=\"black\" d=\"M263.88,-72.92C286.72,-69.08 312.64,-64.72 337.03,-60.61\"/>\n",
       "<polygon fill=\"black\" stroke=\"black\" points=\"337.34,-64.11 346.62,-59 336.17,-57.21 337.34,-64.11\"/>\n",
       "<text text-anchor=\"middle\" x=\"305.88\" y=\"-72.59\" font-family=\"Times,serif\" font-size=\"14.00\">. &#45;&gt; docs</text>\n",
       "</g>\n",
       "<!-- node_3 -->\n",
       "<g id=\"node4\" class=\"node\">\n",
       "<title>node_3</title>\n",
       "<polygon fill=\"#ececff\" stroke=\"#9370db\" points=\"601.5,-63.25 547.5,-63.25 547.5,-27.25 601.5,-27.25 601.5,-63.25\"/>\n",
       "<text text-anchor=\"middle\" x=\"574.5\" y=\"-40.2\" font-family=\"Times,serif\" font-size=\"14.00\">End</text>\n",
       "</g>\n",
       "<!-- node_1&#45;&gt;node_3 -->\n",
       "<g id=\"edge2\" class=\"edge\">\n",
       "<title>node_1&#45;&gt;node_3</title>\n",
       "<path fill=\"none\" stroke=\"black\" d=\"M510.72,-45.25C519.44,-45.25 527.98,-45.25 535.82,-45.25\"/>\n",
       "<polygon fill=\"black\" stroke=\"black\" points=\"535.59,-48.75 545.59,-45.25 535.59,-41.75 535.59,-48.75\"/>\n",
       "</g>\n",
       "<!-- node_2 -->\n",
       "<g id=\"node3\" class=\"node\">\n",
       "<title>node_2</title>\n",
       "<polygon fill=\"#ececff\" stroke=\"#9370db\" points=\"54,-69.25 0,-69.25 0,-33.25 54,-33.25 54,-69.25\"/>\n",
       "<text text-anchor=\"middle\" x=\"27\" y=\"-46.2\" font-family=\"Times,serif\" font-size=\"14.00\">Start</text>\n",
       "</g>\n",
       "<!-- node_2&#45;&gt;node_0 -->\n",
       "<g id=\"edge3\" class=\"edge\">\n",
       "<title>node_2&#45;&gt;node_0</title>\n",
       "<path fill=\"none\" stroke=\"black\" d=\"M54.38,-56.48C71.17,-59.81 93.87,-64.3 116.1,-68.71\"/>\n",
       "<polygon fill=\"black\" stroke=\"black\" points=\"115.32,-72.13 125.81,-70.64 116.68,-65.26 115.32,-72.13\"/>\n",
       "<text text-anchor=\"middle\" x=\"90.75\" y=\"-69.96\" font-family=\"Times,serif\" font-size=\"14.00\">. &#45;&gt; **</text>\n",
       "</g>\n",
       "<!-- node_2&#45;&gt;node_1 -->\n",
       "<g id=\"edge4\" class=\"edge\">\n",
       "<title>node_2&#45;&gt;node_1</title>\n",
       "<path fill=\"none\" stroke=\"black\" d=\"M54.1,-47.06C74.12,-44.07 102.48,-40.32 127.5,-38.75 197.55,-34.37 276.94,-36.37 336.57,-39.27\"/>\n",
       "<polygon fill=\"black\" stroke=\"black\" points=\"336.17,-42.76 346.34,-39.77 336.52,-35.76 336.17,-42.76\"/>\n",
       "<text text-anchor=\"middle\" x=\"195.5\" y=\"-41.95\" font-family=\"Times,serif\" font-size=\"14.00\">query &#45;&gt; question</text>\n",
       "</g>\n",
       "</g>\n",
       "</svg>\n"
      ],
      "text/plain": [
       "<graphviz.graphs.Digraph>"
      ]
     },
     "metadata": {},
     "output_type": "display_data"
    }
   ],
   "source": [
    "RAG.draw()"
   ]
  },
  {
   "cell_type": "markdown",
   "metadata": {},
   "source": [
    "You can also define incoming and outgoing edges within the node definition:"
   ]
  },
  {
   "cell_type": "code",
   "execution_count": null,
   "metadata": {},
   "outputs": [
    {
     "data": {
      "image/svg+xml": [
       "<?xml version=\"1.0\" encoding=\"UTF-8\" standalone=\"no\"?>\n",
       "<!DOCTYPE svg PUBLIC \"-//W3C//DTD SVG 1.1//EN\"\n",
       " \"http://www.w3.org/Graphics/SVG/1.1/DTD/svg11.dtd\">\n",
       "<!-- Generated by graphviz version 12.2.1 (20241206.2353)\n",
       " -->\n",
       "<!-- Title: RAG Agent Pages: 1 -->\n",
       "<svg width=\"610pt\" height=\"137pt\"\n",
       " viewBox=\"0.00 0.00 609.50 137.25\" xmlns=\"http://www.w3.org/2000/svg\" xmlns:xlink=\"http://www.w3.org/1999/xlink\">\n",
       "<g id=\"graph0\" class=\"graph\" transform=\"scale(1 1) rotate(0) translate(4 133.25)\">\n",
       "<title>RAG Agent</title>\n",
       "<polygon fill=\"white\" stroke=\"none\" points=\"-4,4 -4,-133.25 605.5,-133.25 605.5,4 -4,4\"/>\n",
       "<text text-anchor=\"middle\" x=\"300.75\" y=\"-111.95\" font-family=\"Times,serif\" font-size=\"14.00\">RAG Agent</text>\n",
       "<!-- node_0 -->\n",
       "<g id=\"node1\" class=\"node\">\n",
       "<title>node_0</title>\n",
       "<polygon fill=\"#ececff\" stroke=\"#9370db\" points=\"263.5,-104.75 127.5,-104.75 127.5,-63.75 263.5,-63.75 263.5,-104.75\"/>\n",
       "<text text-anchor=\"middle\" x=\"195.5\" y=\"-87.45\" font-family=\"Times,serif\" font-size=\"14.00\">get_docs[</text>\n",
       "<text text-anchor=\"middle\" x=\"195.5\" y=\"-70.95\" font-family=\"Times,serif\" font-size=\"14.00\">ChromaClient.query ]</text>\n",
       "</g>\n",
       "<!-- node_2 -->\n",
       "<g id=\"node3\" class=\"node\">\n",
       "<title>node_2</title>\n",
       "<polygon fill=\"#ececff\" stroke=\"#9370db\" points=\"510.5,-90.5 348.25,-90.5 348.25,0 510.5,0 510.5,-90.5\"/>\n",
       "<text text-anchor=\"middle\" x=\"429.38\" y=\"-73.2\" font-family=\"Times,serif\" font-size=\"14.00\">chat[</text>\n",
       "<text text-anchor=\"middle\" x=\"429.38\" y=\"-56.7\" font-family=\"Times,serif\" font-size=\"14.00\">Chat(model=&#39;gpt&#45;4o&#45;mini&#39;,</text>\n",
       "<text text-anchor=\"middle\" x=\"429.38\" y=\"-40.2\" font-family=\"Times,serif\" font-size=\"14.00\">required_keys={&#39;docs&#39;,</text>\n",
       "<text text-anchor=\"middle\" x=\"429.38\" y=\"-23.7\" font-family=\"Times,serif\" font-size=\"14.00\">&#39;question&#39;},</text>\n",
       "<text text-anchor=\"middle\" x=\"429.38\" y=\"-7.2\" font-family=\"Times,serif\" font-size=\"14.00\">seed=42) ]</text>\n",
       "</g>\n",
       "<!-- node_0&#45;&gt;node_2 -->\n",
       "<g id=\"edge1\" class=\"edge\">\n",
       "<title>node_0&#45;&gt;node_2</title>\n",
       "<path fill=\"none\" stroke=\"black\" d=\"M263.88,-72.92C286.72,-69.08 312.64,-64.72 337.03,-60.61\"/>\n",
       "<polygon fill=\"black\" stroke=\"black\" points=\"337.34,-64.11 346.62,-59 336.17,-57.21 337.34,-64.11\"/>\n",
       "<text text-anchor=\"middle\" x=\"305.88\" y=\"-72.59\" font-family=\"Times,serif\" font-size=\"14.00\">. &#45;&gt; docs</text>\n",
       "</g>\n",
       "<!-- node_1 -->\n",
       "<g id=\"node2\" class=\"node\">\n",
       "<title>node_1</title>\n",
       "<polygon fill=\"#ececff\" stroke=\"#9370db\" points=\"54,-69.25 0,-69.25 0,-33.25 54,-33.25 54,-69.25\"/>\n",
       "<text text-anchor=\"middle\" x=\"27\" y=\"-46.2\" font-family=\"Times,serif\" font-size=\"14.00\">Start</text>\n",
       "</g>\n",
       "<!-- node_1&#45;&gt;node_0 -->\n",
       "<g id=\"edge2\" class=\"edge\">\n",
       "<title>node_1&#45;&gt;node_0</title>\n",
       "<path fill=\"none\" stroke=\"black\" d=\"M54.38,-56.48C71.17,-59.81 93.87,-64.3 116.1,-68.71\"/>\n",
       "<polygon fill=\"black\" stroke=\"black\" points=\"115.32,-72.13 125.81,-70.64 116.68,-65.26 115.32,-72.13\"/>\n",
       "<text text-anchor=\"middle\" x=\"90.75\" y=\"-69.96\" font-family=\"Times,serif\" font-size=\"14.00\">. &#45;&gt; **</text>\n",
       "</g>\n",
       "<!-- node_1&#45;&gt;node_2 -->\n",
       "<g id=\"edge3\" class=\"edge\">\n",
       "<title>node_1&#45;&gt;node_2</title>\n",
       "<path fill=\"none\" stroke=\"black\" d=\"M54.1,-47.06C74.12,-44.07 102.48,-40.32 127.5,-38.75 197.55,-34.37 276.94,-36.37 336.57,-39.27\"/>\n",
       "<polygon fill=\"black\" stroke=\"black\" points=\"336.17,-42.76 346.34,-39.77 336.52,-35.76 336.17,-42.76\"/>\n",
       "<text text-anchor=\"middle\" x=\"195.5\" y=\"-41.95\" font-family=\"Times,serif\" font-size=\"14.00\">query &#45;&gt; question</text>\n",
       "</g>\n",
       "<!-- node_3 -->\n",
       "<g id=\"node4\" class=\"node\">\n",
       "<title>node_3</title>\n",
       "<polygon fill=\"#ececff\" stroke=\"#9370db\" points=\"601.5,-63.25 547.5,-63.25 547.5,-27.25 601.5,-27.25 601.5,-63.25\"/>\n",
       "<text text-anchor=\"middle\" x=\"574.5\" y=\"-40.2\" font-family=\"Times,serif\" font-size=\"14.00\">End</text>\n",
       "</g>\n",
       "<!-- node_2&#45;&gt;node_3 -->\n",
       "<g id=\"edge4\" class=\"edge\">\n",
       "<title>node_2&#45;&gt;node_3</title>\n",
       "<path fill=\"none\" stroke=\"black\" d=\"M510.72,-45.25C519.44,-45.25 527.98,-45.25 535.82,-45.25\"/>\n",
       "<polygon fill=\"black\" stroke=\"black\" points=\"535.59,-48.75 545.59,-45.25 535.59,-41.75 535.59,-48.75\"/>\n",
       "</g>\n",
       "</g>\n",
       "</svg>\n"
      ],
      "text/plain": [
       "<graphviz.graphs.Digraph>"
      ]
     },
     "metadata": {},
     "output_type": "display_data"
    }
   ],
   "source": [
    "with Define('RAG Agent',type='flow') as RAG:\n",
    "    V('get_docs',chroma_client.query,\n",
    "        #inputs are defined using the 'source(port_mapping)' syntax\n",
    "        #outputs can be likewise defined using the 'target(port_mapping) syntax\n",
    "        inputs=['Start(**)'],\n",
    "    )\n",
    "    V('chat',rag_chat,\n",
    "        inputs=['get_docs(docs)','Start(question=query)'],\n",
    "        outputs=['End']\n",
    "    )\n",
    "    \n",
    "RAG.draw()"
   ]
  },
  {
   "cell_type": "markdown",
   "metadata": {},
   "source": [
    "### Running a diagram"
   ]
  },
  {
   "cell_type": "markdown",
   "metadata": {},
   "source": [
    "We can get a instance of a diagram that can be run by calling the schema object."
   ]
  },
  {
   "cell_type": "code",
   "execution_count": null,
   "metadata": {},
   "outputs": [
    {
     "data": {
      "text/plain": [
       "<stringdale.base.Diagram>"
      ]
     },
     "execution_count": null,
     "metadata": {},
     "output_type": "execute_result"
    }
   ],
   "source": [
    "d = RAG()\n",
    "d\n"
   ]
  },
  {
   "cell_type": "markdown",
   "metadata": {},
   "source": [
    "The most common way to run a diagram is using the `run` or `arun` methods, which allows us to handle traces of each nodes however we want within the for loop, avoiding the need for complex callback mechanisms."
   ]
  },
  {
   "cell_type": "code",
   "execution_count": null,
   "metadata": {},
   "outputs": [
    {
     "name": "stdout",
     "output_type": "stream",
     "text": [
      "Node Start:\n",
      "{ 'input': { 'collection_name': 'dog_docs',\n",
      "             'k': 2,\n",
      "             'query': 'tell me some stuff about golden retrievers'},\n",
      "  'output': { 'collection_name': 'dog_docs',\n",
      "              'k': 2,\n",
      "              'query': 'tell me some stuff about golden retrievers'}}\n",
      "================================================================================\n",
      "Node get_docs:\n",
      "{ 'input': { 'collection_name': 'dog_docs',\n",
      "             'k': 2,\n",
      "             'query': 'tell me some stuff about golden retrievers'},\n",
      "  'output': [ { 'distance': 0.6993070840835571,\n",
      "                'id': 'dog3',\n",
      "                'metadata': {'breed': 'Golden Retriever'},\n",
      "                'text': 'The Golden Retriever is a friendly, intelligent breed '\n",
      "                        'with a beautiful golden coat. They are wonderful '\n",
      "                        'family pets that get along well with kids.'},\n",
      "              { 'distance': 0.7122190594673157,\n",
      "                'id': 'dog1',\n",
      "                'metadata': {'breed': 'Golden Retriever'},\n",
      "                'text': 'The Golden Retriever is a friendly, intelligent breed '\n",
      "                        'known for its golden coat. They make excellent family '\n",
      "                        'pets and are great with children.'}]}\n",
      "================================================================================\n",
      "Node chat:\n",
      "{ 'input': { 'docs': [ { 'distance': 0.6993070840835571,\n",
      "                         'id': 'dog3',\n",
      "                         'metadata': {'breed': 'Golden Retriever'},\n",
      "                         'text': 'The Golden Retriever is a friendly, '\n",
      "                                 'intelligent breed with a beautiful golden '\n",
      "                                 'coat. They are wonderful family pets that '\n",
      "                                 'get along well with kids.'},\n",
      "                       { 'distance': 0.7122190594673157,\n",
      "                         'id': 'dog1',\n",
      "                         'metadata': {'breed': 'Golden Retriever'},\n",
      "                         'text': 'The Golden Retriever is a friendly, '\n",
      "                                 'intelligent breed known for its golden coat. '\n",
      "                                 'They make excellent family pets and are '\n",
      "                                 'great with children.'}],\n",
      "             'question': 'tell me some stuff about golden retrievers'},\n",
      "  'output': { 'content': 'The Golden Retriever is a friendly and intelligent '\n",
      "                         'breed known for its beautiful golden coat. They make '\n",
      "                         'excellent family pets and are particularly good with '\n",
      "                         'children, making them wonderful companions for '\n",
      "                         'families.',\n",
      "              'meta': {'input_tokens': 198, 'output_tokens': 42},\n",
      "              'role': 'assistant'}}\n",
      "================================================================================\n",
      "Node End:\n",
      "{ 'input': { 0: { 'content': 'The Golden Retriever is a friendly and '\n",
      "                             'intelligent breed known for its beautiful golden '\n",
      "                             'coat. They make excellent family pets and are '\n",
      "                             'particularly good with children, making them '\n",
      "                             'wonderful companions for families.',\n",
      "                  'meta': {'input_tokens': 198, 'output_tokens': 42},\n",
      "                  'role': 'assistant'}},\n",
      "  'output': { 'content': 'The Golden Retriever is a friendly and intelligent '\n",
      "                         'breed known for its beautiful golden coat. They make '\n",
      "                         'excellent family pets and are particularly good with '\n",
      "                         'children, making them wonderful companions for '\n",
      "                         'families.',\n",
      "              'meta': {'input_tokens': 198, 'output_tokens': 42},\n",
      "              'role': 'assistant'}}\n",
      "================================================================================\n"
     ]
    },
    {
     "data": {
      "text/plain": [
       "{'role': 'assistant',\n",
       " 'content': 'The Golden Retriever is a friendly and intelligent breed known for its beautiful golden coat. They make excellent family pets and are particularly good with children, making them wonderful companions for families.',\n",
       " 'meta': {'input_tokens': 198, 'output_tokens': 42}}"
      ]
     },
     "execution_count": null,
     "metadata": {},
     "output_type": "execute_result"
    }
   ],
   "source": [
    "for trace in d.run({'query':'tell me some stuff about golden retrievers','collection_name':'dog_docs','k':2}):\n",
    "    # we can use pprint for easy debugging\n",
    "    trace.pprint()\n",
    "    pass\n",
    "\n",
    "# after running a diagram, we can access the output using the output attribute\n",
    "d.output\n"
   ]
  },
  {
   "cell_type": "markdown",
   "metadata": {},
   "source": [
    "## The Details"
   ]
  },
  {
   "cell_type": "markdown",
   "metadata": {},
   "source": [
    "Nodes can be any callable, including function objects and class methods.\n",
    "Nodes should be pure functions, meaning that they do not remember how they were called in the past.\n",
    "\n",
    "For rare use-cases requiring stateful nodes, see the stateful nodes tutorial."
   ]
  },
  {
   "cell_type": "code",
   "execution_count": null,
   "metadata": {},
   "outputs": [],
   "source": [
    "def add(a,b):\n",
    "    return a+b\n",
    "\n",
    "class Pow():\n",
    "    def __init__(self,power):\n",
    "        self.power = power\n",
    "    def __call__(self,a):\n",
    "        return a**self.power\n",
    "    def __str__(self):\n",
    "        return f'Pow({self.power})'"
   ]
  },
  {
   "cell_type": "code",
   "execution_count": null,
   "metadata": {},
   "outputs": [
    {
     "data": {
      "image/svg+xml": [
       "<?xml version=\"1.0\" encoding=\"UTF-8\" standalone=\"no\"?>\n",
       "<!DOCTYPE svg PUBLIC \"-//W3C//DTD SVG 1.1//EN\"\n",
       " \"http://www.w3.org/Graphics/SVG/1.1/DTD/svg11.dtd\">\n",
       "<!-- Generated by graphviz version 12.2.1 (20241206.2353)\n",
       " -->\n",
       "<!-- Title: hello world Pages: 1 -->\n",
       "<svg width=\"429pt\" height=\"123pt\"\n",
       " viewBox=\"0.00 0.00 429.00 122.50\" xmlns=\"http://www.w3.org/2000/svg\" xmlns:xlink=\"http://www.w3.org/1999/xlink\">\n",
       "<g id=\"graph0\" class=\"graph\" transform=\"scale(1 1) rotate(0) translate(4 118.5)\">\n",
       "<title>hello world</title>\n",
       "<polygon fill=\"white\" stroke=\"none\" points=\"-4,4 -4,-118.5 425,-118.5 425,4 -4,4\"/>\n",
       "<text text-anchor=\"middle\" x=\"210.5\" y=\"-97.2\" font-family=\"Times,serif\" font-size=\"14.00\">hello world</text>\n",
       "<!-- node_0 -->\n",
       "<g id=\"node1\" class=\"node\">\n",
       "<title>node_0</title>\n",
       "<polygon fill=\"#ececff\" stroke=\"#9370db\" points=\"217,-90 145.5,-90 145.5,-54 217,-54 217,-90\"/>\n",
       "<text text-anchor=\"middle\" x=\"181.25\" y=\"-66.95\" font-family=\"Times,serif\" font-size=\"14.00\">add[ add ]</text>\n",
       "</g>\n",
       "<!-- node_2 -->\n",
       "<g id=\"node3\" class=\"node\">\n",
       "<title>node_2</title>\n",
       "<polygon fill=\"#ececff\" stroke=\"#9370db\" points=\"421,-63 367,-63 367,-27 421,-27 421,-63\"/>\n",
       "<text text-anchor=\"middle\" x=\"394\" y=\"-39.95\" font-family=\"Times,serif\" font-size=\"14.00\">End</text>\n",
       "</g>\n",
       "<!-- node_0&#45;&gt;node_2 -->\n",
       "<g id=\"edge1\" class=\"edge\">\n",
       "<title>node_0&#45;&gt;node_2</title>\n",
       "<path fill=\"none\" stroke=\"black\" d=\"M217.05,-67.54C255.28,-62.64 316.43,-54.81 355.64,-49.79\"/>\n",
       "<polygon fill=\"black\" stroke=\"black\" points=\"355.84,-53.29 365.31,-48.55 354.95,-46.35 355.84,-53.29\"/>\n",
       "<text text-anchor=\"middle\" x=\"301\" y=\"-65.7\" font-family=\"Times,serif\" font-size=\"14.00\">. &#45;&gt; add_result</text>\n",
       "</g>\n",
       "<!-- node_1 -->\n",
       "<g id=\"node2\" class=\"node\">\n",
       "<title>node_1</title>\n",
       "<polygon fill=\"#ececff\" stroke=\"#9370db\" points=\"54,-63 0,-63 0,-27 54,-27 54,-63\"/>\n",
       "<text text-anchor=\"middle\" x=\"27\" y=\"-39.95\" font-family=\"Times,serif\" font-size=\"14.00\">Start</text>\n",
       "</g>\n",
       "<!-- node_1&#45;&gt;node_0 -->\n",
       "<g id=\"edge2\" class=\"edge\">\n",
       "<title>node_1&#45;&gt;node_0</title>\n",
       "<path fill=\"none\" stroke=\"black\" d=\"M54.17,-49.64C76.02,-53.52 107.7,-59.13 133.83,-63.77\"/>\n",
       "<polygon fill=\"black\" stroke=\"black\" points=\"133.07,-67.19 143.53,-65.49 134.3,-60.3 133.07,-67.19\"/>\n",
       "<text text-anchor=\"middle\" x=\"90.75\" y=\"-62.51\" font-family=\"Times,serif\" font-size=\"14.00\">. &#45;&gt; **</text>\n",
       "</g>\n",
       "<!-- node_3 -->\n",
       "<g id=\"node4\" class=\"node\">\n",
       "<title>node_3</title>\n",
       "<polygon fill=\"#ececff\" stroke=\"#9370db\" points=\"235,-36 127.5,-36 127.5,0 235,0 235,-36\"/>\n",
       "<text text-anchor=\"middle\" x=\"181.25\" y=\"-12.95\" font-family=\"Times,serif\" font-size=\"14.00\">square[ Pow(2) ]</text>\n",
       "</g>\n",
       "<!-- node_1&#45;&gt;node_3 -->\n",
       "<g id=\"edge3\" class=\"edge\">\n",
       "<title>node_1&#45;&gt;node_3</title>\n",
       "<path fill=\"none\" stroke=\"black\" d=\"M54.37,-36.84C60.14,-35.25 66.25,-33.7 72,-32.5 86.06,-29.58 101.28,-27.11 115.74,-25.09\"/>\n",
       "<polygon fill=\"black\" stroke=\"black\" points=\"116.19,-28.57 125.64,-23.77 115.26,-21.63 116.19,-28.57\"/>\n",
       "<text text-anchor=\"middle\" x=\"90.75\" y=\"-35.7\" font-family=\"Times,serif\" font-size=\"14.00\">b &#45;&gt; a</text>\n",
       "</g>\n",
       "<!-- node_3&#45;&gt;node_2 -->\n",
       "<g id=\"edge4\" class=\"edge\">\n",
       "<title>node_3&#45;&gt;node_2</title>\n",
       "<path fill=\"none\" stroke=\"black\" d=\"M235.27,-18.69C268.26,-19.93 311.42,-23.02 349,-30.5 351.28,-30.95 353.61,-31.49 355.94,-32.08\"/>\n",
       "<polygon fill=\"black\" stroke=\"black\" points=\"354.72,-35.38 365.3,-34.78 356.66,-28.65 354.72,-35.38\"/>\n",
       "<text text-anchor=\"middle\" x=\"301\" y=\"-33.7\" font-family=\"Times,serif\" font-size=\"14.00\">. &#45;&gt; square_result</text>\n",
       "</g>\n",
       "</g>\n",
       "</svg>\n"
      ],
      "text/plain": [
       "<graphviz.graphs.Digraph>"
      ]
     },
     "metadata": {},
     "output_type": "display_data"
    }
   ],
   "source": [
    "with Define('hello world') as Schema:\n",
    "    \n",
    "    V('add',add,inputs=['Start(**=.)'],outputs=['End(add_result=.)'])\n",
    "    V('square',Pow(2),inputs=['Start(a=b)'],outputs=['End(square_result=.)'])\n",
    "Schema.draw()"
   ]
  },
  {
   "cell_type": "markdown",
   "metadata": {},
   "source": [
    "## Different ways of Running Diagrams"
   ]
  },
  {
   "cell_type": "markdown",
   "metadata": {},
   "source": [
    "We can run diagrams end-to-end like so:"
   ]
  },
  {
   "cell_type": "markdown",
   "metadata": {},
   "source": [
    "### running without side effects"
   ]
  },
  {
   "cell_type": "code",
   "execution_count": null,
   "metadata": {},
   "outputs": [
    {
     "data": {
      "text/plain": [
       "{'add_result': 3, 'square_result': 4}"
      ]
     },
     "execution_count": null,
     "metadata": {},
     "output_type": "execute_result"
    }
   ],
   "source": [
    "d=Schema()\n",
    "d.run_all({'a':1,'b':2})"
   ]
  },
  {
   "cell_type": "markdown",
   "metadata": {},
   "source": [
    "### Running with synchronous side effects"
   ]
  },
  {
   "cell_type": "markdown",
   "metadata": {},
   "source": [
    "but in most cases, we would like to monitor the traces of each nodes, which is why we usually run it like so:"
   ]
  },
  {
   "cell_type": "code",
   "execution_count": null,
   "metadata": {},
   "outputs": [
    {
     "name": "stdout",
     "output_type": "stream",
     "text": [
      "Node Start:\n",
      "{'input': {'a': 1, 'b': 2}, 'output': {'a': 1, 'b': 2}}\n",
      "================================================================================\n",
      "Node add:\n",
      "{'input': {'a': 1, 'b': 2}, 'output': 3}\n",
      "================================================================================\n",
      "Node square:\n",
      "{'input': {'a': 2}, 'output': 4}\n",
      "================================================================================\n",
      "Node End:\n",
      "{ 'input': {'add_result': 3, 'square_result': 4},\n",
      "  'output': {'add_result': 3, 'square_result': 4}}\n",
      "================================================================================\n"
     ]
    }
   ],
   "source": [
    "d=Schema()\n",
    "for trace in d.run({'a':1,'b':2}):\n",
    "    # put here any side affect you want\n",
    "    trace.pprint()"
   ]
  },
  {
   "cell_type": "markdown",
   "metadata": {},
   "source": [
    "Accessing the output via the output attribute of our diagram"
   ]
  },
  {
   "cell_type": "code",
   "execution_count": null,
   "metadata": {},
   "outputs": [
    {
     "data": {
      "text/plain": [
       "{'add_result': 3, 'square_result': 4}"
      ]
     },
     "execution_count": null,
     "metadata": {},
     "output_type": "execute_result"
    }
   ],
   "source": [
    "d.output"
   ]
  },
  {
   "cell_type": "markdown",
   "metadata": {},
   "source": [
    "### Running async functions is transparent"
   ]
  },
  {
   "cell_type": "markdown",
   "metadata": {},
   "source": [
    "stringdale works with transparently with both sync and async functions.\n",
    "For example:"
   ]
  },
  {
   "cell_type": "code",
   "execution_count": null,
   "metadata": {},
   "outputs": [],
   "source": [
    "import time\n",
    "import timeit\n",
    "import asyncio"
   ]
  },
  {
   "cell_type": "code",
   "execution_count": null,
   "metadata": {},
   "outputs": [],
   "source": [
    "async def async_add(a,b):\n",
    "    await asyncio.sleep(0.1)\n",
    "    return a+b\n",
    "\n",
    "class AsyncPow():\n",
    "    def __init__(self,power):\n",
    "        self.power = power\n",
    "    async def __call__(self,a):\n",
    "        await asyncio.sleep(0.1)\n",
    "        return a**self.power\n",
    "    def __str__(self):\n",
    "        return f'AsyncPow({self.power})'"
   ]
  },
  {
   "cell_type": "markdown",
   "metadata": {},
   "source": [
    "Can be used exactly the same as the sync versions:"
   ]
  },
  {
   "cell_type": "code",
   "execution_count": null,
   "metadata": {},
   "outputs": [
    {
     "data": {
      "image/svg+xml": [
       "<?xml version=\"1.0\" encoding=\"UTF-8\" standalone=\"no\"?>\n",
       "<!DOCTYPE svg PUBLIC \"-//W3C//DTD SVG 1.1//EN\"\n",
       " \"http://www.w3.org/Graphics/SVG/1.1/DTD/svg11.dtd\">\n",
       "<!-- Generated by graphviz version 12.2.1 (20241206.2353)\n",
       " -->\n",
       "<!-- Title: hello world Pages: 1 -->\n",
       "<svg width=\"455pt\" height=\"128pt\"\n",
       " viewBox=\"0.00 0.00 454.50 128.00\" xmlns=\"http://www.w3.org/2000/svg\" xmlns:xlink=\"http://www.w3.org/1999/xlink\">\n",
       "<g id=\"graph0\" class=\"graph\" transform=\"scale(1 1) rotate(0) translate(4 124)\">\n",
       "<title>hello world</title>\n",
       "<polygon fill=\"white\" stroke=\"none\" points=\"-4,4 -4,-124 450.5,-124 450.5,4 -4,4\"/>\n",
       "<text text-anchor=\"middle\" x=\"223.25\" y=\"-102.7\" font-family=\"Times,serif\" font-size=\"14.00\">hello world</text>\n",
       "<!-- node_0 -->\n",
       "<g id=\"node1\" class=\"node\">\n",
       "<title>node_0</title>\n",
       "<polygon fill=\"#ececff\" stroke=\"#9370db\" points=\"248.5,-95.5 139.5,-95.5 139.5,-59.5 248.5,-59.5 248.5,-95.5\"/>\n",
       "<text text-anchor=\"middle\" x=\"194\" y=\"-72.45\" font-family=\"Times,serif\" font-size=\"14.00\">add[ async_add ]</text>\n",
       "</g>\n",
       "<!-- node_2 -->\n",
       "<g id=\"node3\" class=\"node\">\n",
       "<title>node_2</title>\n",
       "<polygon fill=\"#ececff\" stroke=\"#9370db\" points=\"446.5,-66.5 392.5,-66.5 392.5,-30.5 446.5,-30.5 446.5,-66.5\"/>\n",
       "<text text-anchor=\"middle\" x=\"419.5\" y=\"-43.45\" font-family=\"Times,serif\" font-size=\"14.00\">End</text>\n",
       "</g>\n",
       "<!-- node_0&#45;&gt;node_2 -->\n",
       "<g id=\"edge1\" class=\"edge\">\n",
       "<title>node_0&#45;&gt;node_2</title>\n",
       "<path fill=\"none\" stroke=\"black\" d=\"M248.82,-70.52C289.73,-65.21 344.96,-58.04 381.13,-53.35\"/>\n",
       "<polygon fill=\"black\" stroke=\"black\" points=\"381.2,-56.87 390.67,-52.11 380.3,-49.93 381.2,-56.87\"/>\n",
       "<text text-anchor=\"middle\" x=\"326.5\" y=\"-69.65\" font-family=\"Times,serif\" font-size=\"14.00\">. &#45;&gt; add_result</text>\n",
       "</g>\n",
       "<!-- node_1 -->\n",
       "<g id=\"node2\" class=\"node\">\n",
       "<title>node_1</title>\n",
       "<polygon fill=\"#ececff\" stroke=\"#9370db\" points=\"54,-66.5 0,-66.5 0,-30.5 54,-30.5 54,-66.5\"/>\n",
       "<text text-anchor=\"middle\" x=\"27\" y=\"-43.45\" font-family=\"Times,serif\" font-size=\"14.00\">Start</text>\n",
       "</g>\n",
       "<!-- node_1&#45;&gt;node_0 -->\n",
       "<g id=\"edge2\" class=\"edge\">\n",
       "<title>node_1&#45;&gt;node_0</title>\n",
       "<path fill=\"none\" stroke=\"black\" d=\"M54.14,-53.1C74.01,-56.59 102.23,-61.55 128.05,-66.08\"/>\n",
       "<polygon fill=\"black\" stroke=\"black\" points=\"127.37,-69.52 137.83,-67.8 128.59,-62.62 127.37,-69.52\"/>\n",
       "<text text-anchor=\"middle\" x=\"90.75\" y=\"-65.33\" font-family=\"Times,serif\" font-size=\"14.00\">. &#45;&gt; **</text>\n",
       "</g>\n",
       "<!-- node_3 -->\n",
       "<g id=\"node4\" class=\"node\">\n",
       "<title>node_3</title>\n",
       "<polygon fill=\"#ececff\" stroke=\"#9370db\" points=\"260.5,-41 127.5,-41 127.5,0 260.5,0 260.5,-41\"/>\n",
       "<text text-anchor=\"middle\" x=\"194\" y=\"-23.7\" font-family=\"Times,serif\" font-size=\"14.00\">square[ AsyncPow(2)</text>\n",
       "<text text-anchor=\"middle\" x=\"194\" y=\"-7.2\" font-family=\"Times,serif\" font-size=\"14.00\">]</text>\n",
       "</g>\n",
       "<!-- node_1&#45;&gt;node_3 -->\n",
       "<g id=\"edge3\" class=\"edge\">\n",
       "<title>node_1&#45;&gt;node_3</title>\n",
       "<path fill=\"none\" stroke=\"black\" d=\"M54.28,-38.86C60.06,-37.01 66.18,-35.27 72,-34 86.15,-30.91 101.4,-28.51 116.14,-26.65\"/>\n",
       "<polygon fill=\"black\" stroke=\"black\" points=\"116.27,-30.16 125.78,-25.51 115.44,-23.21 116.27,-30.16\"/>\n",
       "<text text-anchor=\"middle\" x=\"90.75\" y=\"-37.2\" font-family=\"Times,serif\" font-size=\"14.00\">b &#45;&gt; a</text>\n",
       "</g>\n",
       "<!-- node_3&#45;&gt;node_2 -->\n",
       "<g id=\"edge4\" class=\"edge\">\n",
       "<title>node_3&#45;&gt;node_2</title>\n",
       "<path fill=\"none\" stroke=\"black\" d=\"M260.74,-21.62C294.94,-23.16 337.26,-26.58 374.5,-34 376.78,-34.45 379.11,-34.99 381.44,-35.59\"/>\n",
       "<polygon fill=\"black\" stroke=\"black\" points=\"380.22,-38.88 390.8,-38.28 382.16,-32.15 380.22,-38.88\"/>\n",
       "<text text-anchor=\"middle\" x=\"326.5\" y=\"-37.2\" font-family=\"Times,serif\" font-size=\"14.00\">. &#45;&gt; square_result</text>\n",
       "</g>\n",
       "</g>\n",
       "</svg>\n"
      ],
      "text/plain": [
       "<graphviz.graphs.Digraph>"
      ]
     },
     "metadata": {},
     "output_type": "display_data"
    }
   ],
   "source": [
    "with Define('hello world') as Schema:\n",
    "    V('add',async_add,inputs=['Start(**=.)'],outputs=['End(add_result=.)'])\n",
    "    V('square',AsyncPow(2),inputs=['Start(a=b)'],outputs=['End(square_result=.)'])\n",
    "Schema.draw()"
   ]
  },
  {
   "cell_type": "code",
   "execution_count": null,
   "metadata": {},
   "outputs": [
    {
     "name": "stdout",
     "output_type": "stream",
     "text": [
      "Node Start:\n",
      "{'input': {'a': 1, 'b': 2}, 'output': {'a': 1, 'b': 2}}\n",
      "================================================================================\n",
      "Node add:\n",
      "{'input': {'a': 1, 'b': 2}, 'output': 3}\n",
      "================================================================================\n",
      "Node square:\n",
      "{'input': {'a': 2}, 'output': 4}\n",
      "================================================================================\n",
      "Node End:\n",
      "{ 'input': {'add_result': 3, 'square_result': 4},\n",
      "  'output': {'add_result': 3, 'square_result': 4}}\n",
      "================================================================================\n"
     ]
    }
   ],
   "source": [
    "d=Schema()\n",
    "start_time = timeit.default_timer()\n",
    "for trace in d.run({'a':1,'b':2}):\n",
    "    trace.pprint()\n",
    "end_time = timeit.default_timer()\n"
   ]
  },
  {
   "cell_type": "markdown",
   "metadata": {},
   "source": [
    "Note that these functions were run asynchronously"
   ]
  },
  {
   "cell_type": "code",
   "execution_count": null,
   "metadata": {},
   "outputs": [
    {
     "name": "stdout",
     "output_type": "stream",
     "text": [
      "Time taken: 0.11 seconds\n"
     ]
    }
   ],
   "source": [
    "print(f'Time taken: {end_time-start_time:.2f} seconds')\n"
   ]
  },
  {
   "cell_type": "markdown",
   "metadata": {},
   "source": [
    "### Async side effects"
   ]
  },
  {
   "cell_type": "markdown",
   "metadata": {},
   "source": [
    "If we want some asynchronous side effects, like logging our traces to our server, for example with this mock class:"
   ]
  },
  {
   "cell_type": "code",
   "execution_count": null,
   "metadata": {},
   "outputs": [],
   "source": [
    "class Logserver():\n",
    "    def __init__(self):\n",
    "        self.logs=[]\n",
    "    async def log(self,trace):\n",
    "        self.logs.append(trace)\n",
    "        # time.sleep(0.5)\n",
    "        await asyncio.sleep(0.1)\n",
    "        return trace.pretty_name()\n",
    "        "
   ]
  },
  {
   "cell_type": "markdown",
   "metadata": {},
   "source": [
    "We can use the asynchronous `arun` method."
   ]
  },
  {
   "cell_type": "code",
   "execution_count": null,
   "metadata": {},
   "outputs": [
    {
     "data": {
      "text/plain": [
       "['Start', 'square', 'add', 'End']"
      ]
     },
     "execution_count": null,
     "metadata": {},
     "output_type": "execute_result"
    }
   ],
   "source": [
    "logserver = Logserver()\n",
    "logs = []\n",
    "\n",
    "start_time = timeit.default_timer()\n",
    "\n",
    "async for trace in d.arun({'a':1,'b':2}):\n",
    "    log_task = logserver.log(trace)\n",
    "    logs.append(log_task)\n",
    "\n",
    "res = await asyncio.gather(*logs)\n",
    "\n",
    "end_time = timeit.default_timer()\n",
    "res"
   ]
  },
  {
   "cell_type": "code",
   "execution_count": null,
   "metadata": {},
   "outputs": [
    {
     "name": "stdout",
     "output_type": "stream",
     "text": [
      "Time taken: 0.21 seconds\n"
     ]
    }
   ],
   "source": [
    "print(f'Time taken: {end_time-start_time:.2f} seconds')"
   ]
  }
 ],
 "metadata": {
  "kernelspec": {
   "display_name": "python3",
   "language": "python",
   "name": "python3"
  }
 },
 "nbformat": 4,
 "nbformat_minor": 2
}
