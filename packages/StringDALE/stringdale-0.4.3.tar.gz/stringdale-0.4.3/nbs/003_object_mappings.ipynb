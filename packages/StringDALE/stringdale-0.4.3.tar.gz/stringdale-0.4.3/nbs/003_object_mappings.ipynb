{
 "cells": [
  {
   "cell_type": "markdown",
   "metadata": {},
   "source": [
    "# Object mappings"
   ]
  },
  {
   "cell_type": "markdown",
   "metadata": {},
   "source": [
    "## Imports"
   ]
  },
  {
   "cell_type": "code",
   "execution_count": null,
   "metadata": {},
   "outputs": [],
   "source": [
    "# |default_exp mappings"
   ]
  },
  {
   "cell_type": "code",
   "execution_count": null,
   "metadata": {},
   "outputs": [],
   "source": [
    "# | hide\n",
    "%load_ext autoreload\n",
    "%autoreload 2"
   ]
  },
  {
   "cell_type": "code",
   "execution_count": null,
   "metadata": {},
   "outputs": [],
   "source": [
    "# | hide\n",
    "from stringdale.core import get_git_root, load_env, checkLogs\n",
    "import pytest\n",
    "import nest_asyncio\n"
   ]
  },
  {
   "cell_type": "code",
   "execution_count": null,
   "metadata": {},
   "outputs": [],
   "source": [
    "\n",
    "#| hide\n",
    "load_env()\n",
    "nest_asyncio.apply()"
   ]
  },
  {
   "cell_type": "code",
   "execution_count": null,
   "metadata": {},
   "outputs": [],
   "source": [
    "# | export\n",
    "import os\n",
    "import enum\n",
    "from pathlib import Path\n",
    "from copy import deepcopy\n",
    "import itertools\n",
    "import functools\n",
    "from enum import Enum\n",
    "from parse import parse\n",
    "from typing import Any\n",
    "from copy import deepcopy,copy\n",
    "\n",
    "\n",
    "from collections import defaultdict,OrderedDict\n",
    "from contextlib import ExitStack\n",
    "from singleton_decorator import singleton\n",
    "\n",
    "from pprint import pprint\n",
    "from pydantic import BaseModel\n",
    "from pydantic_core import SchemaValidator\n",
    "\n",
    "from typing import Optional,Union,List,Dict,Any,Literal\n",
    "\n",
    "import networkx as nx\n",
    "from networkx.readwrite import json_graph\n",
    "from fastcore.basics import patch\n",
    "from tqdm.auto import tqdm\n",
    "import logging\n"
   ]
  },
  {
   "cell_type": "code",
   "execution_count": null,
   "metadata": {},
   "outputs": [],
   "source": [
    "#| export\n",
    "logger = logging.getLogger(__name__)"
   ]
  },
  {
   "cell_type": "code",
   "execution_count": null,
   "metadata": {},
   "outputs": [],
   "source": [
    "import asyncio\n",
    "# ! pip install nest_asyncio\n"
   ]
  },
  {
   "cell_type": "code",
   "execution_count": null,
   "metadata": {},
   "outputs": [],
   "source": [
    "# | export\n",
    "from stringdale.core import jinja_render,checkLogs,maybe_await,_duplicates\n",
    "\n",
    "from textwrap import dedent\n",
    "from parse import parse\n",
    "import re\n",
    "import itertools as it\n",
    "import types\n",
    "import uuid\n",
    "import time\n",
    "import json"
   ]
  },
  {
   "cell_type": "markdown",
   "metadata": {},
   "source": [
    "## Accessing nested objects"
   ]
  },
  {
   "cell_type": "code",
   "execution_count": null,
   "metadata": {},
   "outputs": [],
   "source": [
    "#| export\n",
    "def access_object(obj, attr_path, missing_ok=False):\n",
    "    \"\"\"Access an attribute or item of an object, using a path of attribute/item names.\n",
    "    \n",
    "    Args:\n",
    "        obj: The object to access\n",
    "        attr_path: A string or tuple/list of strings representing the path to the attribute/item\n",
    "        missing_ok: If True, return None if the attribute/item is not found\n",
    "    \"\"\"\n",
    "    if isinstance(attr_path, str):\n",
    "        attr_path = (attr_path,)\n",
    "    elif isinstance(attr_path, (tuple, list)):\n",
    "        pass\n",
    "    else:\n",
    "        raise ValueError(f\"Invalid attribute path {attr_path}, must be a string or a tuple/list of strings\")\n",
    "\n",
    "    inner_obj = obj\n",
    "    for attribute_name in attr_path:\n",
    "        if attribute_name == \".\":\n",
    "            continue  # Keep current object\n",
    "        elif attribute_name == \"**\":\n",
    "            if isinstance(inner_obj, dict):\n",
    "                continue  # Keep current dict\n",
    "            else:\n",
    "                inner_obj = vars(inner_obj)\n",
    "                continue\n",
    "        \n",
    "        # Try both attribute and item access\n",
    "        attr_error = item_error = None\n",
    "        try:\n",
    "            inner_obj = getattr(inner_obj, attribute_name)\n",
    "            continue  # If successful, continue to next attribute\n",
    "        except (AttributeError, TypeError) as e:\n",
    "            attr_error = e\n",
    "        \n",
    "        try:\n",
    "            inner_obj = inner_obj[attribute_name]\n",
    "            continue  # If successful, continue to next attribute\n",
    "        except (KeyError, IndexError, TypeError) as e:\n",
    "            item_error = e\n",
    "        \n",
    "        # If both attempts failed\n",
    "        if missing_ok:\n",
    "            return None\n",
    "        else:\n",
    "            raise ValueError(f\"When navigating path\\n{attr_path} on object\\n{obj}:\\n\"\n",
    "                           f\"attribute '{attribute_name}' is not a valid attribute or item of subobject:\\n{inner_obj}\")\n",
    "    \n",
    "    return inner_obj"
   ]
  },
  {
   "cell_type": "markdown",
   "metadata": {},
   "source": [
    "### Tests"
   ]
  },
  {
   "cell_type": "code",
   "execution_count": null,
   "metadata": {},
   "outputs": [],
   "source": [
    "# Test access_object function\n",
    "test_dict = {\n",
    "    'a': {\n",
    "        'b': {\n",
    "            'c': 1\n",
    "        }\n",
    "    },\n",
    "    'list': [1, 2, 3],\n",
    "    'mixed': {\n",
    "        'list': [{'x': 1}, {'x': 2}]\n",
    "    }\n",
    "}\n",
    "\n",
    "class TestObj:\n",
    "    def __init__(self):\n",
    "        self.x = 1\n",
    "        self.y = {'z': 2}\n",
    "\n",
    "test_obj = TestObj()\n",
    "\n",
    "# Test dictionary access\n",
    "assert access_object(test_dict, ('a', 'b', 'c')) == 1\n",
    "\n",
    "# Test list access\n",
    "assert access_object(test_dict, ['list', 1]) == 2\n",
    "\n",
    "# Test mixed nested access\n",
    "assert access_object(test_dict, ['mixed', 'list', 0, 'x']) == 1\n",
    "\n",
    "# Test object attribute access\n",
    "assert access_object(test_obj, 'x') == 1\n",
    "assert access_object(test_obj, ('y','z')) == 2\n",
    "\n",
    "# Test missing_ok parameter\n",
    "assert access_object(test_dict, 'missing', missing_ok=True) is None\n",
    "assert access_object(test_dict, 'a.missing', missing_ok=True) is None\n",
    "\n",
    "# Test error cases\n",
    "with pytest.raises(ValueError, match=\"Invalid attribute path\"):\n",
    "    access_object(test_dict, 123)\n",
    "\n",
    "with pytest.raises(ValueError, match=\"attribute 'missing' is not a valid attribute\"):\n",
    "    access_object(test_dict, 'missing', missing_ok=False)\n",
    "\n",
    "with pytest.raises(ValueError, match=\"attribute 'a.missing' is not a valid attribute\"):\n",
    "    access_object(test_dict, 'a.missing', missing_ok=False)"
   ]
  },
  {
   "cell_type": "code",
   "execution_count": null,
   "metadata": {},
   "outputs": [],
   "source": [
    "# Test access_object function\n",
    "test_dict = {\n",
    "    'a': {\n",
    "        'b': {\n",
    "            'c': 1\n",
    "        }\n",
    "    },\n",
    "    'list': [1, 2, 3],\n",
    "    'mixed': {\n",
    "        'list': [{'x': 1}, {'x': 2}]\n",
    "    }\n",
    "}\n",
    "\n",
    "class TestObj:\n",
    "    def __init__(self):\n",
    "        self.x = 1\n",
    "        self.y = {'z': 2}\n",
    "        self.d = {'a': 3}\n",
    "\n",
    "test_obj = TestObj()\n",
    "\n",
    "# Test ** syntax for getting all attributes/items\n",
    "assert access_object(test_dict, '**') == test_dict\n",
    "assert access_object(test_obj, '**') == {'x': 1, 'y': {'z': 2}, 'd': {'a': 3}}\n",
    "\n",
    "# Test . syntax for accessing current object\n",
    "assert access_object(test_dict, '.') == test_dict\n",
    "assert access_object(test_obj, '.') == test_obj\n",
    "\n",
    "# Test combining . and ** \n",
    "assert access_object(test_obj, ('.', '**')) == {'x': 1, 'y': {'z': 2}, 'd': {'a': 3}}\n"
   ]
  },
  {
   "cell_type": "code",
   "execution_count": null,
   "metadata": {},
   "outputs": [],
   "source": [
    "from pydantic import BaseModel"
   ]
  },
  {
   "cell_type": "code",
   "execution_count": null,
   "metadata": {},
   "outputs": [],
   "source": [
    "class TestModel(BaseModel):\n",
    "    x: int\n",
    "    d: dict[str,int]\n",
    "\n",
    "test_model = TestModel(x=1,d={'a':2})\n",
    "assert access_object(test_model, '**') == {'x': 1, 'd': {'a': 2}}\n",
    "\n",
    "nested_model = {\n",
    "    'foo': 'bar',\n",
    "    'mod':test_model\n",
    "}\n",
    "assert access_object(nested_model, ('mod','x')) == 1"
   ]
  },
  {
   "cell_type": "markdown",
   "metadata": {},
   "source": [
    "## Set access"
   ]
  },
  {
   "cell_type": "code",
   "execution_count": null,
   "metadata": {},
   "outputs": [],
   "source": [
    "#| export\n",
    "def set_access(obj, attr_path, value):\n",
    "    \"\"\"set an attribute or item of an object, using a path of attribute/item names.\n",
    "    \n",
    "    Args:\n",
    "        obj: The object to set\n",
    "        attr_path: A string or tuple/list of strings representing the path to the attribute/item\n",
    "        value: The value to set\n",
    "    \"\"\"\n",
    "    sub_obj = obj\n",
    "    for attr in attr_path[:-1]:\n",
    "        if attr not in sub_obj:\n",
    "            sub_obj[attr] = {}\n",
    "        sub_obj = sub_obj[attr]\n",
    "    sub_obj[attr_path[-1]] = value"
   ]
  },
  {
   "cell_type": "markdown",
   "metadata": {},
   "source": [
    "### Tests\n"
   ]
  },
  {
   "cell_type": "code",
   "execution_count": null,
   "metadata": {},
   "outputs": [],
   "source": [
    "obj = {'a':1,'b':2,'c':{'d':3,'e':4}}\n",
    "set_access(obj,('c','f','g'),5)\n",
    "assert obj == {'a': 1, 'b': 2, 'c': {'d': 3, 'e': 4, 'f': {'g': 5}}}\n",
    "\n",
    "\n"
   ]
  },
  {
   "cell_type": "markdown",
   "metadata": {},
   "source": [
    "## mapping dicts utilities"
   ]
  },
  {
   "cell_type": "code",
   "execution_count": null,
   "metadata": {},
   "outputs": [],
   "source": [
    "#| export\n",
    "\n",
    "def assert_keys_contiguous(list_of_keys):\n",
    "    numbers = sorted(key for key in list_of_keys if isinstance(key,int))\n",
    "    if len(numbers) > 0 and numbers[0] != 0:\n",
    "        return False\n",
    "    return all(numbers[i+1] - numbers[i] == 1 \n",
    "                for i in range(len(numbers)-1))\n",
    "\n"
   ]
  },
  {
   "cell_type": "code",
   "execution_count": null,
   "metadata": {},
   "outputs": [],
   "source": [
    "input_ = {'x':1,\n",
    "        'y':2,'z':3\n",
    "        }.keys()\n",
    "assert assert_keys_contiguous(input_)\n",
    "\n",
    "\n",
    "input_ = {0:1,\n",
    "        1:2,'z':3\n",
    "        }.keys()\n",
    "assert assert_keys_contiguous(input_)\n",
    "\n",
    "input_ = {0:1,\n",
    "        2:2,'z':3\n",
    "        }.keys()\n",
    "assert not assert_keys_contiguous(input_)"
   ]
  },
  {
   "cell_type": "code",
   "execution_count": null,
   "metadata": {},
   "outputs": [],
   "source": [
    "#| export\n",
    "def object_to_args_kwargs(input):\n",
    "    arg_keys = sorted([i for i in input.keys() if isinstance(i,int)])\n",
    "    args = [input[i] for i in arg_keys]\n",
    "    kwargs = {k:v for k,v in input.items() if not isinstance(k,int)}\n",
    "    return args,kwargs\n"
   ]
  },
  {
   "cell_type": "code",
   "execution_count": null,
   "metadata": {},
   "outputs": [],
   "source": [
    "input_ = {0:1,\n",
    "        2:2,'z':3\n",
    "        }\n",
    "args,kwargs = object_to_args_kwargs(input_)\n",
    "assert args == [1,2]\n",
    "assert kwargs == {'z':3}"
   ]
  },
  {
   "cell_type": "markdown",
   "metadata": {},
   "source": [
    "## Mapping objects"
   ]
  },
  {
   "cell_type": "code",
   "execution_count": null,
   "metadata": {},
   "outputs": [],
   "source": [
    "#| export\n",
    "def map_object(obj,mapping):\n",
    "    \"\"\"Map an object according to a mapping.\n",
    "    \n",
    "    Args:\n",
    "        obj: The object to map\n",
    "        mapping: A mapping of the form {key: accessor}\n",
    "    Returns:\n",
    "        A dict with the mapped values\n",
    "    \"\"\"\n",
    "    mapped_dict = {}\n",
    "    for key,access_path in mapping.items():\n",
    "        if key == '_':\n",
    "            continue\n",
    "        elif access_path == '_' or '_' in access_path:\n",
    "            raise ValueError(f\"Invalid access path {access_path}, must not contain '_'\")\n",
    "        elif key == \"**\":\n",
    "            mapped_dict.update(access_object(obj,access_path))\n",
    "        else:\n",
    "            mapped_dict[key] = access_object(obj,access_path)\n",
    "    return mapped_dict"
   ]
  },
  {
   "cell_type": "code",
   "execution_count": null,
   "metadata": {},
   "outputs": [],
   "source": [
    "obj = {'a':1,'b':2,'c':{'d':3,'e':4}}\n",
    "mapping = {'x':'a','y':'.','z':('c','d'),'**':'**'}\n",
    "mapped_dict = map_object(obj,mapping)\n",
    "assert mapped_dict == {'x': 1,\n",
    " 'y': {'a': 1, 'b': 2, 'c': {'d': 3, 'e': 4}},\n",
    " 'z': 3,\n",
    " 'a': 1,\n",
    " 'b': 2,\n",
    " 'c': {'d': 3, 'e': 4}}"
   ]
  },
  {
   "cell_type": "code",
   "execution_count": null,
   "metadata": {},
   "outputs": [],
   "source": [
    "#| export\n",
    "def append_dicts(dict_list: list[dict]) -> dict:\n",
    "    \"\"\"Combine multiple dictionaries with the same keys into a single dictionary where each value is a list.\n",
    "    \n",
    "    Args:\n",
    "        dict_list: List of dictionaries with the same keys\n",
    "        \n",
    "    Returns:\n",
    "        A dictionary where each key maps to a list of values from the input dictionaries\n",
    "        \n",
    "    Example:\n",
    "        >>> dicts = [{'a': 1, 'b': 2}, {'a': 3, 'b': 4}]\n",
    "        >>> append_dicts(dicts)\n",
    "        {'a': [1, 3], 'b': [2, 4]}\n",
    "    \"\"\"\n",
    "    if not dict_list:\n",
    "        return {}\n",
    "    \n",
    "    result = defaultdict(list)\n",
    "    for d in dict_list:\n",
    "        for key, value in d.items():\n",
    "            result[key].append(value)\n",
    "    \n",
    "    return dict(result)"
   ]
  },
  {
   "cell_type": "code",
   "execution_count": null,
   "metadata": {},
   "outputs": [],
   "source": [
    "#| export\n",
    "def multi_map(obj_dict,mappings_dict,as_list_keys=None):\n",
    "    \"\"\"Map a dictionary of objects according to a dictionary of mappings.\n",
    "    \n",
    "    Args:\n",
    "        obj_dict: A dictionary of objects to map {obj_name:obj}\n",
    "        mappings_dict: A dictionary of mappings of the form {mapping_name:mapping}\n",
    "    Returns:\n",
    "        A dictionary that is the union of the mapped objects {obj_name:mapped_obj}\n",
    "        If a key is present in multiple mappings, the value from the last mapping will be used.\n",
    "        If an obj referenced in the mapping dict is not found in the obj_dict, it will be skipped.\n",
    "    \"\"\"\n",
    "    if as_list_keys is None:\n",
    "        as_list_keys = set()\n",
    "    mapped_dict = {}\n",
    "    for mapping_name,mapping in mappings_dict.items():\n",
    "        if not mapping_name in obj_dict:\n",
    "            continue\n",
    "        if mapping_name in as_list_keys:\n",
    "            sub_objects_list = [map_object(obj,mapping) for obj in obj_dict[mapping_name]]\n",
    "            sub_obj = append_dicts(sub_objects_list)\n",
    "        else:\n",
    "            sub_obj = map_object(obj_dict[mapping_name],mapping)\n",
    "\n",
    "        mapped_dict.update(sub_obj)\n",
    "    return mapped_dict"
   ]
  },
  {
   "cell_type": "code",
   "execution_count": null,
   "metadata": {},
   "outputs": [],
   "source": [
    "objects = {'obj1':{'a':1,'b':2,'c':{'d':3,'e':4}}}\n",
    "mappings = {'obj1':{'x':'a','y':'b','z':('c','d'),'**':'**'}}\n",
    "assert multi_map(objects,mappings) == {'x': 1, 'y': 2, 'z': 3, 'a': 1, 'b': 2, 'c': {'d': 3, 'e': 4}}\n",
    "\n",
    "\n",
    "objects = {'obj1':{'a':1,'b':2,'c':3},'obj2':{'a':4,'b':5,'c':6}}\n",
    "mappings = {'obj1':{0:'a'},'obj2':{'y':'a','z':'b','**':'**'}}\n",
    "assert multi_map(objects,mappings) == {0: 1, 'y': 4, 'z': 5, 'a': 4, 'b': 5, 'c': 6}\n",
    "\n",
    "objects = {'obj1':{'a':1,'b':2,'c':3},'obj2':{'a':4,'b':5,'c':6}}\n",
    "mappings = {'obj1':{'_':'a'},'obj2':{'y':'a'}}\n",
    "\n",
    "out = multi_map(objects,mappings)\n",
    "assert out == {'y': 4},out\n"
   ]
  },
  {
   "cell_type": "code",
   "execution_count": null,
   "metadata": {},
   "outputs": [],
   "source": [
    "objects = {'obj1':[{'a':1,'b':2,'c':3},{'a':10,'b':20,'c':30}],'obj2':{'a':4,'b':5,'c':6}}\n",
    "mappings = {'obj1':{'c':'a','d':'b'},'obj2':{'y':'a'}}\n",
    "\n",
    "out = multi_map(objects,mappings,as_list_keys={'obj1'})\n",
    "assert out == {'c': [1, 10], 'd': [2, 20], 'y': 4},out"
   ]
  },
  {
   "cell_type": "markdown",
   "metadata": {},
   "source": [
    "## Declerative map syntax"
   ]
  },
  {
   "cell_type": "code",
   "execution_count": null,
   "metadata": {},
   "outputs": [],
   "source": [
    "#| export\n",
    "from lark import Lark, Transformer\n",
    "\n",
    "\n",
    "_EDGE_GRAMMAR = \"\"\"\n",
    "    %import common.WS\n",
    "    %ignore WS\n",
    "    NAME: /[a-zA-Z0-9_<>]+/  \n",
    "    \n",
    "    accessor_step : NAME \n",
    "        | \"**\" -> kwargs_accessor\n",
    "        | \".\" -> self_accessor\n",
    "        | \"_\" -> underscore\n",
    "\n",
    "    accessor: accessor_step (\".\" accessor_step)*\n",
    "\n",
    "    accessor_assignment: accessor \"=\" accessor\n",
    "\n",
    "    state: (\"state\"|\"State\") \"/\" NAME\n",
    "\n",
    "    map_key: NAME\n",
    "        | \"**\" -> kwargs_map_key\n",
    "\n",
    "    single_map: map_key -> implicit_map\n",
    "        | map_key \"=\" accessor -> keyword_map\n",
    "\n",
    "    mapping_expr: single_map \n",
    "        | \"(\" single_map (\",\" single_map)* \")\"\n",
    "\n",
    "    edge: NAME \"->\" NAME ( mapping_expr )?\n",
    "        | NAME \"->\" state ( mapping_expr )? -> write_edge\n",
    "        | state \"->\" NAME ( mapping_expr )? -> read_edge\n",
    "    \n",
    "\n",
    "    implicit_edge: NAME ( mapping_expr )?\n",
    "        | state ( mapping_expr )? -> implicit_state_edge\n",
    "\n",
    "\"\"\"\n"
   ]
  },
  {
   "cell_type": "code",
   "execution_count": null,
   "metadata": {},
   "outputs": [],
   "source": [
    "#|export\n",
    "class _EdgeTransformer(Transformer):\n",
    "    def NAME(self, item):\n",
    "        try:\n",
    "            return int(item)\n",
    "        except:\n",
    "            return str(item)\n",
    "\n",
    "    def accessor_step(self, items):\n",
    "        return items[0]\n",
    "\n",
    "    def map_key(self, items):\n",
    "        return items[0]\n",
    "\n",
    "    def kwargs_map_key(self, items):\n",
    "        return '**'\n",
    "\n",
    "    def self_accessor(self, items):\n",
    "        return '.'\n",
    "\n",
    "    def kwargs_accessor(self, items):\n",
    "        return '**'\n",
    "\n",
    "    def underscore(self, items):\n",
    "        return '_'\n",
    "\n",
    "    def accessor(self, items):\n",
    "        return tuple(items)\n",
    "\n",
    "    def accessor_assignment(self, items):\n",
    "        return items[0],items[1]\n",
    "\n",
    "    def implicit_map(self, items):\n",
    "        name = items[0]\n",
    "        return {name:('.',)}\n",
    "\n",
    "    def keyword_map(self, items):\n",
    "        name, accessor = items\n",
    "        return {name:accessor}\n",
    "\n",
    "\n",
    "\n",
    "    def mapping_expr(self, items):\n",
    "        mapping_dict = {}\n",
    "        for item in items:\n",
    "            mapping_dict.update(item)\n",
    "        return mapping_dict\n",
    "\n",
    "    def state(self,items):\n",
    "        return items[0] # return the key\n",
    "\n",
    "    def _default_mapping(self,):\n",
    "        return {0:('.',)}\n",
    "\n",
    "\n",
    "    def edge(self,items):\n",
    "        return {\n",
    "                'edge_type':'edge',\n",
    "                'source_node':items[0],\n",
    "                'target_node':items[1],\n",
    "                'mapping':items[2] if len(items) == 3 else self._default_mapping()\n",
    "            }\n",
    "\n",
    "    def read_edge(self,items):\n",
    "        return {\n",
    "            'edge_type':'read_edge',\n",
    "            'source_node':items[0],\n",
    "            'target_node':items[1],\n",
    "            'mapping':items[2] if len(items) == 3 else self._default_mapping()\n",
    "        }\n",
    "\n",
    "    def write_edge(self,items):\n",
    "        return {\n",
    "            'edge_type':'write_edge',\n",
    "            'source_node':items[0],\n",
    "            'target_node':items[1],\n",
    "            'mapping':items[2] if len(items) == 3 else self._default_mapping()\n",
    "        }\n",
    "\n",
    "    def implicit_edge(self,items):\n",
    "        return {\n",
    "            'edge_type':'implicit_edge',\n",
    "            'node':items[0],\n",
    "            'mapping':items[1] if len(items) == 2 else self._default_mapping()\n",
    "        }\n",
    "    \n",
    "    def implicit_state_edge(self,items):\n",
    "        return {\n",
    "            'edge_type':'implicit_state_edge',\n",
    "            'node':items[0],\n",
    "            'mapping':items[1] if len(items) == 2 else self._default_mapping()\n",
    "        }\n",
    "    "
   ]
  },
  {
   "cell_type": "code",
   "execution_count": null,
   "metadata": {},
   "outputs": [],
   "source": [
    "#| export\n",
    "from lark.visitors import VisitError"
   ]
  },
  {
   "cell_type": "code",
   "execution_count": null,
   "metadata": {},
   "outputs": [],
   "source": [
    "#| export\n",
    "lark_edge_parser = Lark(_EDGE_GRAMMAR, parser='lalr',start=['edge','implicit_edge','mapping_expr','accessor_assignment'])\n",
    "\n",
    "def parse_edge_descriptor(edge_str:str,start='edge'):\n",
    " \n",
    "    try:\n",
    "        tree = lark_edge_parser.parse(edge_str, start=start)\n",
    "    except Exception as e:\n",
    "        raise SyntaxError(f\"Edge string '{edge_str}' in not formatted correctly\\n\"\n",
    "            f\"{e}\"\n",
    "        ) \n",
    "\n",
    "    try:\n",
    "        transformed = _EdgeTransformer().transform(tree)\n",
    "    except Exception as e:\n",
    "        raise ValueError(f\"Transformation error when parsing edge '{edge_str}'. Parse tree:\\n{tree.pretty()}\\n\"\n",
    "            f\"{e}\"\n",
    "        ) \n",
    "\n",
    "    return transformed    \n",
    "\n"
   ]
  },
  {
   "cell_type": "code",
   "execution_count": null,
   "metadata": {},
   "outputs": [],
   "source": [
    "# Regular edge tests\n",
    "out = parse_edge_descriptor('x ->y')\n",
    "assert out == {'edge_type':'edge','source_node': 'x', 'target_node': 'y', 'mapping': {0: ('.',)}}, out\n",
    "\n",
    "out = parse_edge_descriptor('node1->node2 (in=out)')\n",
    "assert out == {'edge_type':'edge','source_node': 'node1', 'target_node': 'node2', 'mapping': {'in': ('out',)}} , out\n",
    "\n",
    "out = parse_edge_descriptor('node1->node2 (first,second)')\n",
    "assert out == {'edge_type':'edge','source_node': 'node1', 'target_node': 'node2', 'mapping': {'first': ('.',),'second': ('.',)}} , out\n",
    "\n",
    "out = parse_edge_descriptor('node1->node2 (0=out)')\n",
    "assert out == {'edge_type':'edge','source_node': 'node1', 'target_node': 'node2', 'mapping': {0: ('out',)}} , out\n",
    "\n",
    "\n",
    "out = parse_edge_descriptor(\"x -> y  (c,**,a=b)\")\n",
    "assert out == {'edge_type':'edge','source_node': 'x',\n",
    " 'target_node': 'y',\n",
    " 'mapping': {'c': ('.',), '**': ('.',), 'a': ('b',)}}\n",
    "\n",
    "out = parse_edge_descriptor(\"x -> y  (d=**,a=b,**=c.**)\")\n",
    "assert out == {'edge_type':'edge','source_node': 'x', 'target_node': 'y', 'mapping': {'d': ('**',), 'a': ('b',), '**': ('c', '**')}},out\n"
   ]
  },
  {
   "cell_type": "code",
   "execution_count": null,
   "metadata": {},
   "outputs": [],
   "source": [
    "\n",
    "\n",
    "with pytest.raises(SyntaxError, match=\"not formatted correctly\"):\n",
    "    parse_edge_descriptor('invalid->format->')\n",
    "\n",
    "out = parse_edge_descriptor(\"x (a=b)\",start='implicit_edge')\n",
    "assert out == {'edge_type':'implicit_edge','node': 'x', 'mapping': {'a': ('b',)}}\n",
    "\n",
    "out = parse_edge_descriptor(\"(a=b)\",start='mapping_expr')\n",
    "assert out == {'a': ('b',)}\n",
    "\n",
    "\n",
    "out = parse_edge_descriptor(\"0=a.b.c\",start='mapping_expr')\n",
    "assert out ==  {0: ('a', 'b', 'c')},out\n",
    "\n",
    "out = parse_edge_descriptor(\"**=a\",start='mapping_expr')\n",
    "assert out ==  {'**': ('a',)},out"
   ]
  },
  {
   "cell_type": "code",
   "execution_count": null,
   "metadata": {},
   "outputs": [],
   "source": [
    "# Test state edges\n",
    "out = parse_edge_descriptor('x -> state/key')\n",
    "assert out == {'edge_type': 'write_edge', 'source_node': 'x', 'target_node': 'key', 'mapping': {0: ('.',)}}, out\n",
    "\n",
    "out = parse_edge_descriptor('state/key -> x')\n",
    "assert out == {'edge_type': 'read_edge', 'source_node': 'key', 'target_node': 'x', 'mapping': {0: ('.',)}}, out\n",
    "\n",
    "out = parse_edge_descriptor('x -> State/key (0=c.d,a=b)')\n",
    "assert out == {'edge_type': 'write_edge', 'source_node': 'x', 'target_node': 'key', 'mapping': {0: ('c', 'd'), 'a': ('b',)}}, out\n",
    "\n",
    "# Test implicit state edges\n",
    "out = parse_edge_descriptor('state/key', start='implicit_edge')\n",
    "assert out == {'edge_type': 'implicit_state_edge', 'node': 'key', 'mapping': {0: ('.',)}}, out\n",
    "\n",
    "out = parse_edge_descriptor('State/key (0=c.d,a=b)', start='implicit_edge')\n",
    "assert out == {'edge_type': 'implicit_state_edge', 'node': 'key', 'mapping': {0: ('c', 'd'), 'a': ('b',)}}, out"
   ]
  },
  {
   "cell_type": "code",
   "execution_count": null,
   "metadata": {},
   "outputs": [],
   "source": [
    "out = parse_edge_descriptor('State/key(_)', start='implicit_edge')\n",
    "assert out == {'edge_type': 'implicit_state_edge', 'node': 'key', 'mapping': {'_': ('.',)}}, out\n",
    "\n"
   ]
  },
  {
   "cell_type": "code",
   "execution_count": null,
   "metadata": {},
   "outputs": [],
   "source": [
    "out = parse_edge_descriptor('a.b.cs=d.e.f',start='accessor_assignment')\n",
    "assert out == (('a', 'b', 'cs'), ('d', 'e', 'f'))"
   ]
  },
  {
   "cell_type": "markdown",
   "metadata": {},
   "source": [
    "## Export"
   ]
  },
  {
   "cell_type": "code",
   "execution_count": null,
   "metadata": {},
   "outputs": [],
   "source": [
    "# |hide\n",
    "import nbdev\n",
    "\n",
    "nbdev.nbdev_export()"
   ]
  }
 ],
 "metadata": {
  "kernelspec": {
   "display_name": "python3",
   "language": "python",
   "name": "python3"
  }
 },
 "nbformat": 4,
 "nbformat_minor": 2
}
