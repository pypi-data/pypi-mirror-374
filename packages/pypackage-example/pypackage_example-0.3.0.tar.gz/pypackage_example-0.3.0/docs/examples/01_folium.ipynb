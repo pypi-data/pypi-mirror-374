{
 "cells": [
  {
   "cell_type": "markdown",
   "id": "0",
   "metadata": {},
   "source": [
    "### Testing Custom Folium and Ipyleaflet classes\n",
    "\n",
    "[![Open In Colab](https://colab.research.google.com/assets/colab-badge.svg)](https://colab.research.google.com/github/gthlor/pypackage_example/blob/main/docs/examples/01_folium.ipynb)\n"
   ]
  },
  {
   "cell_type": "code",
   "execution_count": null,
   "id": "1",
   "metadata": {},
   "outputs": [],
   "source": [
    "#!pip install pypackage_example"
   ]
  },
  {
   "cell_type": "code",
   "execution_count": null,
   "id": "2",
   "metadata": {},
   "outputs": [],
   "source": [
    "# import my custom package and modules\n",
    "\n",
    "import pypackage_example as pl\n",
    "import pypackage_example.foliumap as flp\n",
    "\n",
    "# import folium\n",
    "# import ipyleaflet\n",
    "# import geopandas as gpd"
   ]
  },
  {
   "cell_type": "markdown",
   "id": "3",
   "metadata": {},
   "source": [
    "#### Testing pypackage_example (built on ipyleaflet)"
   ]
  },
  {
   "cell_type": "code",
   "execution_count": null,
   "id": "4",
   "metadata": {},
   "outputs": [],
   "source": [
    "m = pl.LeafletMap()\n",
    "m.add_basemap2(basemap=\"Esri.WorldImagery\")\n",
    "m"
   ]
  },
  {
   "cell_type": "code",
   "execution_count": null,
   "id": "5",
   "metadata": {},
   "outputs": [],
   "source": [
    "# just a list of URLs to try\n",
    "\n",
    "# url = \"https://github.com/opengeos/datasets/releases/download/us/us_southeast.geojson\"\n",
    "# url = \"https://github.com/opengeos/datasets/releases/download/us/us_southeast.gpkg\"\n",
    "# url = 'https://github.com/opengeos/datasets/releases/download/us/us_regions.gpkg'\n",
    "# url = r\"C:\\Users\\loren\\Downloads\\us_counties\\us_counties.shp\"        # this won't work because it's in my local machine\n",
    "# url = r\"C:\\Users\\loren\\Desktop\\xf_paper\\area_bianca_background.gpkg\" # this won't work because it's in my local machine\n",
    "url = \"https://github.com/opengeos/datasets/releases/download/us/us_southeast.zip\""
   ]
  },
  {
   "cell_type": "markdown",
   "id": "6",
   "metadata": {},
   "source": [
    "##### add vector layer from URL"
   ]
  },
  {
   "cell_type": "code",
   "execution_count": null,
   "id": "7",
   "metadata": {},
   "outputs": [],
   "source": [
    "m = pl.LeafletMap()\n",
    "m.add_vector(\n",
    "    url,\n",
    "    name=\"Countries\",\n",
    "    zoom_to_layer=True,\n",
    "    style={\"color\": \"green\", \"fillOpacity\": 0.6},\n",
    ")\n",
    "m.add_layer_control()\n",
    "m"
   ]
  },
  {
   "cell_type": "markdown",
   "id": "8",
   "metadata": {},
   "source": [
    "#### Testing pypackage_example.folium (built on folium)"
   ]
  },
  {
   "cell_type": "markdown",
   "id": "9",
   "metadata": {},
   "source": [
    "##### add vector and layer control panel"
   ]
  },
  {
   "cell_type": "code",
   "execution_count": null,
   "id": "10",
   "metadata": {},
   "outputs": [],
   "source": [
    "m2 = flp.FoliumMap()\n",
    "m2.add_vector(url)\n",
    "m2.add_layer_control()\n",
    "m2"
   ]
  },
  {
   "cell_type": "markdown",
   "id": "11",
   "metadata": {},
   "source": [
    "##### adding a split map "
   ]
  },
  {
   "cell_type": "code",
   "execution_count": null,
   "id": "12",
   "metadata": {},
   "outputs": [],
   "source": [
    "m3 = flp.FoliumMap()\n",
    "m3.add_vector(url)\n",
    "m3.add_split_map(left_layer=\"OpenStreetMap\", right_layer=\"ESRI.WorldImagery\")\n",
    "m3"
   ]
  }
 ],
 "metadata": {
  "kernelspec": {
   "display_name": "geo",
   "language": "python",
   "name": "python3"
  },
  "language_info": {
   "codemirror_mode": {
    "name": "ipython",
    "version": 3
   },
   "file_extension": ".py",
   "mimetype": "text/x-python",
   "name": "python",
   "nbconvert_exporter": "python",
   "pygments_lexer": "ipython3",
   "version": "3.12.11"
  }
 },
 "nbformat": 4,
 "nbformat_minor": 5
}
