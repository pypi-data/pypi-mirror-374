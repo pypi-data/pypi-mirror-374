{
 "cells": [
  {
   "cell_type": "markdown",
   "id": "dfda8e7a",
   "metadata": {},
   "source": [
    "# IBTrACS Data Processing\n",
    "\n",
    "This notebook demos how to use the functions in `src/ocha_lens/datasources/ibtracs.py`"
   ]
  },
  {
   "cell_type": "code",
   "execution_count": null,
   "id": "95d39deb",
   "metadata": {},
   "outputs": [],
   "source": [
    "import ocha_lens as lens"
   ]
  },
  {
   "cell_type": "markdown",
   "id": "258b1db6",
   "metadata": {},
   "source": [
    "Load in the IBTrACS NetCDF file. Here you can set the `dataset` to `ALL`, `ACTIVE`, or `last3years`. "
   ]
  },
  {
   "cell_type": "code",
   "execution_count": 2,
   "id": "a5bbb18a",
   "metadata": {},
   "outputs": [],
   "source": [
    "ds = lens.ibtracs.load_ibtracs(dataset=\"last3years\")"
   ]
  },
  {
   "cell_type": "markdown",
   "id": "f7858899",
   "metadata": {},
   "source": [
    "Parse the `Dataset` to get storm-level metadata.  "
   ]
  },
  {
   "cell_type": "code",
   "execution_count": 3,
   "id": "d0072d6b",
   "metadata": {},
   "outputs": [],
   "source": [
    "df_storm = lens.ibtracs.get_storms(ds)"
   ]
  },
  {
   "cell_type": "markdown",
   "id": "74ab4fd0",
   "metadata": {},
   "source": [
    "Now parse the `Dataset` to get the track-level dataframes. "
   ]
  },
  {
   "cell_type": "code",
   "execution_count": 4,
   "id": "b162d426",
   "metadata": {},
   "outputs": [],
   "source": [
    "gdf_tracks = lens.ibtracs.get_tracks(ds)"
   ]
  }
 ],
 "metadata": {
  "kernelspec": {
   "display_name": "venv",
   "language": "python",
   "name": "python3"
  },
  "language_info": {
   "codemirror_mode": {
    "name": "ipython",
    "version": 3
   },
   "file_extension": ".py",
   "mimetype": "text/x-python",
   "name": "python",
   "nbconvert_exporter": "python",
   "pygments_lexer": "ipython3",
   "version": "3.12.10"
  }
 },
 "nbformat": 4,
 "nbformat_minor": 5
}
