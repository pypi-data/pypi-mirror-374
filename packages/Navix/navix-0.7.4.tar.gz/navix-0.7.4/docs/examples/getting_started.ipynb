{
    "cells": [
        {
            "cell_type": "markdown",
            "metadata": {},
            "source": [
                "# NAVIX 101\n",
                "\n",
                "This tutorial will guide you through the basics of using NAVIX. You will learn:\n",
                "- [How to create a `navix.Environment`](#creating-an-environment),\n",
                "- [A vanilla, suboptimal interaction with it](#the-environment-interface),\n",
                "- [How to `jax.jit` compile the environment for faster execution](#optimizing-with-jax)\n",
                "- [How to run batched simulations](#batched-environments)"
            ]
        },
        {
            "cell_type": "markdown",
            "metadata": {},
            "source": [
                "## Installation\n",
                "\n",
                "For a full guide on how to install NAVIX and its dependencies, please refer to the [official installation guide](../install/index.html)\n",
                "For a quickstart, you can install NAVIX via pip:\n",
                "```bash\n",
                "pip install navix\n",
                "```\n",
                "\n",
                "This will provide a standard CPU-based JAX installation. If you want to use a GPU, please [install JAX](https://github.com/google/jax/?tab=readme-ov-file#installation) with the appropriate backend."
            ]
        },
        {
            "cell_type": "markdown",
            "metadata": {},
            "source": [
                "## Creating an Environment\n",
                "\n",
                "NAVIX provides a variety of MiniGrid environments.\n",
                "You can find an exhaustive list [here](../home/environments.html). \n",
                "If the environment you are looking for is not listed, please open an new [feature request](https://github.com/epignatelli/navix/issues/new?assignees=&labels=enhancement&template=feature_request.md).\n",
                "\n",
                "Now, let's create a simple DoorKey environment. The syntax is similar to the usual `gym.make`."
            ]
        },
        {
            "cell_type": "code",
            "execution_count": 1,
            "metadata": {},
            "outputs": [
                {
                    "name": "stdout",
                    "output_type": "stream",
                    "text": [
                        "(64, 64, 3)\n"
                    ]
                },
                {
                    "data": {
                        "image/png": "[encoded data removed]",
                        "text/plain": [
                            "<Figure size 640x480 with 1 Axes>"
                        ]
                    },
                    "metadata": {},
                    "output_type": "display_data"
                }
            ],
            "source": [
                "import matplotlib.pyplot as plt\n",
                "import jax\n",
                "import jax.numpy as jnp\n",
                "import navix as nx\n",
                "\n",
                "# Create the environment\n",
                "env = nx.make('Navix-DoorKey-8x8-v0', observation_fn=nx.observations.rgb)\n",
                "key = jax.random.PRNGKey(0)\n",
                "timestep = env.reset(key)\n",
                "\n",
                "def render(obs, title):\n",
                "    plt.imshow(obs)\n",
                "    plt.title(title)\n",
                "    plt.axis('off')\n",
                "    plt.show()\n",
                "\n",
                "print(timestep.observation.shape)\n",
                "render(timestep.observation, \"Initial observation\")"
            ]
        },
        {
            "cell_type": "markdown",
            "metadata": {},
            "source": [
                "**Take-home message:**\n",
                "1. To sample an initial environment state (`timestep`), we need to pass the `key` (seed) argument to the environment constructor. This is because NAVIX uses JAX's PRNGKey to generate random numbers. You can read more here\n",
                "2. `env.reset` returns a [`navix.Timestep`]() object, which contains all the useful information."
            ]
        },
        {
            "cell_type": "markdown",
            "metadata": {},
            "source": [
                "## The environment interface\n",
                "\n",
                "We can now simulate a sequence of actions in the environment. For this example, we'll make the agent take random actions."
            ]
        },
        {
            "cell_type": "code",
            "execution_count": 3,
            "metadata": {},
            "outputs": [
                {
                    "data": {
                        "image/png": "[encoded data removed]",
                        "text/plain": [
                            "<Figure size 640x480 with 1 Axes>"
                        ]
                    },
                    "metadata": {},
                    "output_type": "display_data"
                }
            ],
            "source": [
                "def unroll(key, num_steps=5):\n",
                "    timestep = env.reset(key)\n",
                "    actions = jax.random.randint(key, (num_steps,), 0, env.action_space.n)\n",
                "\n",
                "    steps = [timestep]\n",
                "    for action in actions:\n",
                "        timestep = env.step(timestep, action)\n",
                "        steps.append(timestep)\n",
                "\n",
                "    return steps\n",
                "\n",
                "# Unroll and print steps\n",
                "steps = unroll(key, num_steps=5)\n",
                "render(steps[-1].observation, \"Last observation\")\n"
            ]
        },
        {
            "cell_type": "markdown",
            "metadata": {},
            "source": [
                "**Take home message:**\n",
                "1. `env.step`, take two arguments: the current state of the environment (the `timestep`), and the action to take, and returns the new environment state.\n",
                "2. Despite `env.step` being stochastic, it does not take a `key` argument. This is because NAVIX manages the PRNGKey internally.\n",
                "3. You can still sample different environments by sampling different `keys` when creating the environment.\n",
                "\n",
                "This way of using NAVIX is suboptimal (and probably slower than using `gym`), as it does not take advantage of JAX's JIT compiler. We'll see how to do that in the next section."
            ]
        },
        {
            "cell_type": "markdown",
            "metadata": {},
            "source": [
                "## `Optimizing with JAX`\n",
                "\n",
                "One of the major perks of NAVIX is its performance optimization capabilities through JAX. We can use JAX's `jit` and `vmap` to compile and parallelize our simulation code.\n",
                "We can compile the `step` function to make it faster. This is done by using the `jax.jit` decorator."
            ]
        },
        {
            "cell_type": "markdown",
            "metadata": {},
            "source": [
                "### JIT Compilation"
            ]
        },
        {
            "cell_type": "code",
            "execution_count": 4,
            "metadata": {},
            "outputs": [
                {
                    "data": {
                        "image/png": "[encoded data removed]",
                        "text/plain": [
                            "<Figure size 640x480 with 1 Axes>"
                        ]
                    },
                    "metadata": {},
                    "output_type": "display_data"
                }
            ],
            "source": [
                "@jax.jit\n",
                "def env_step_jit(timestep, action):\n",
                "    return env.step(timestep, action)\n",
                "\n",
                "def unroll_jit_step(key, num_steps=10):\n",
                "    timestep = env.reset(key)\n",
                "    actions = jax.random.randint(key, (num_steps,), 0, env.action_space.n)\n",
                "\n",
                "    steps = [timestep]\n",
                "    for action in actions:\n",
                "        timestep = env_step_jit(timestep, action)\n",
                "        steps.append(timestep)\n",
                "\n",
                "    return steps\n",
                "\n",
                "# Example usage\n",
                "steps = unroll_jit_step(key, num_steps=10)\n",
                "render(steps[-1].observation, \"Last observation\")"
            ]
        },
        {
            "cell_type": "markdown",
            "metadata": {},
            "source": [
                "Let's compare the two head to head."
            ]
        },
        {
            "cell_type": "code",
            "execution_count": 5,
            "metadata": {},
            "outputs": [
                {
                    "name": "stdout",
                    "output_type": "stream",
                    "text": [
                        "27.4 s ± 130 ms per loop (mean ± std. dev. of 3 runs, 1 loop each)\n"
                    ]
                }
            ],
            "source": [
                "%timeit -n 1 -r 3 unroll(key, num_steps=10)"
            ]
        },
        {
            "cell_type": "code",
            "execution_count": 6,
            "metadata": {},
            "outputs": [
                {
                    "name": "stdout",
                    "output_type": "stream",
                    "text": [
                        "328 ns ± 153 ns per loop (mean ± std. dev. of 3 runs, 1 loop each)\n"
                    ]
                }
            ],
            "source": [
                "%timeit -n 1 -r 3 lambda: unroll_jit_step(key, num_steps=10)[-1].block_until_ready()"
            ]
        },
        {
            "cell_type": "markdown",
            "metadata": {},
            "source": [
                "Notice that it's roughly in the order of $10^9$ times faster compared to its unjitted counterpart.\n",
                "\n",
                "But that's not the end of the story.\n",
                "We can go even further and `jit` the whole simulation loop, which improves performance even more."
            ]
        },
        {
            "cell_type": "code",
            "execution_count": 3,
            "metadata": {},
            "outputs": [
                {
                    "data": {
                        "image/png": "[encoded data removed]",
                        "text/plain": [
                            "<Figure size 640x480 with 1 Axes>"
                        ]
                    },
                    "metadata": {},
                    "output_type": "display_data"
                }
            ],
            "source": [
                "def unroll_scan(key, num_steps=10):\n",
                "    timestep = env.reset(key)\n",
                "    actions = jax.random.randint(key, (num_steps,), 0, env.action_space.n)\n",
                "\n",
                "    timestep, _ = jax.lax.scan(\n",
                "        lambda timestep, action: (env.step(timestep, action), ()),\n",
                "        timestep,\n",
                "        actions,\n",
                "        unroll=10,\n",
                "    )\n",
                "    return timestep\n",
                "\n",
                "\n",
                "# Example usage\n",
                "unroll_jit_loop = jax.jit(unroll_scan, static_argnums=(1,))\n",
                "timestep = unroll_jit_loop(key, num_steps=10)\n",
                "render(timestep.observation, \"Last observation\")"
            ]
        },
        {
            "cell_type": "code",
            "execution_count": 11,
            "metadata": {},
            "outputs": [
                {
                    "name": "stdout",
                    "output_type": "stream",
                    "text": [
                        "40.5 ms ± 1.49 ms per loop (mean ± std. dev. of 5 runs, 10 loops each)\n"
                    ]
                }
            ],
            "source": [
                "%timeit -n 10 -r 5 unroll_jit_step(key, num_steps=10)"
            ]
        },
        {
            "cell_type": "code",
            "execution_count": 12,
            "metadata": {},
            "outputs": [
                {
                    "name": "stdout",
                    "output_type": "stream",
                    "text": [
                        "353 µs ± 71.3 µs per loop (mean ± std. dev. of 5 runs, 10 loops each)\n"
                    ]
                }
            ],
            "source": [
                "%timeit -n 10 -r 5 unroll_jit_loop(key, num_steps=10).t.block_until_ready()"
            ]
        },
        {
            "cell_type": "markdown",
            "metadata": {},
            "source": [
                "We improved the performance by three more orders of magnitude, and we are at $10^12$.\n",
                "This is because we are now compiling the whole simulation loop, not just the `step` function.\n",
                "\n",
                "That's still not the end of the story. We can improve the performance even more by using `jax.vmap` to parallelize multiple environment simulations."
            ]
        },
        {
            "cell_type": "markdown",
            "metadata": {},
            "source": [
                "### Batched environments\n",
                "\n",
                "We can run multiple simulations in parallel using `vmap`."
            ]
        },
        {
            "cell_type": "code",
            "execution_count": 10,
            "metadata": {},
            "outputs": [],
            "source": [
                "# Let's compile the function ahead of time\n",
                "num_envs = 32\n",
                "keys = jax.random.split(key, num_envs)\n",
                "unroll_batched = jax.jit(jax.vmap(unroll_scan, in_axes=(0, None)), static_argnums=(1,)).lower(keys, 10).compile()"
            ]
        },
        {
            "cell_type": "code",
            "execution_count": 17,
            "metadata": {},
            "outputs": [
                {
                    "data": {
                        "image/png": "[encoded data removed]",
                        "text/plain": [
                            "<Figure size 640x480 with 1 Axes>"
                        ]
                    },
                    "metadata": {},
                    "output_type": "display_data"
                },
                {
                    "name": "stdout",
                    "output_type": "stream",
                    "text": [
                        "Batch size of the results 32\n"
                    ]
                }
            ],
            "source": [
                "# and run it\n",
                "last_steps = unroll_batched(keys)\n",
                "render(last_steps.observation[0], \"Last observation of env 0\")\n",
                "print(\"Batch size of the results\", last_steps.reward.shape[0])"
            ]
        },
        {
            "cell_type": "markdown",
            "metadata": {},
            "source": [
                "We can benchmark the performance of the batched simulation as well."
            ]
        },
        {
            "cell_type": "code",
            "execution_count": 19,
            "metadata": {},
            "outputs": [
                {
                    "name": "stdout",
                    "output_type": "stream",
                    "text": [
                        "686 µs ± 215 µs per loop (mean ± std. dev. of 5 runs, 10 loops each)\n"
                    ]
                }
            ],
            "source": [
                "%timeit -n 10 -r 5 unroll_batched(keys).t.block_until_ready()"
            ]
        },
        {
            "cell_type": "markdown",
            "metadata": {},
            "source": [
                "Which takes roughly twice as long as the single simulation. An increment of $16\\times$, roughly."
            ]
        },
        {
            "cell_type": "markdown",
            "metadata": {},
            "source": [
                "And we can scale this up to as many simulations as we want.\n",
                "We get to **32768 environments** on a NVIDIA A100 GPU 80Gb.\n",
                "\n",
                "Feel free to scale this up if you are GPU-richer."
            ]
        },
        {
            "cell_type": "code",
            "execution_count": 29,
            "metadata": {},
            "outputs": [],
            "source": [
                "# Let's compile the function ahead of time\n",
                "num_envs = 32768\n",
                "keys = jax.random.split(key, num_envs)\n",
                "unroll_batched = jax.jit(jax.vmap(unroll_scan, in_axes=(0, None)), static_argnums=(1,)).lower(keys, 10).compile()"
            ]
        },
        {
            "cell_type": "code",
            "execution_count": 30,
            "metadata": {},
            "outputs": [
                {
                    "name": "stdout",
                    "output_type": "stream",
                    "text": [
                        "8.46 ms ± 1.06 ms per loop (mean ± std. dev. of 5 runs, 10 loops each)\n"
                    ]
                }
            ],
            "source": [
                "%timeit -n 10 -r 5 unroll_batched(keys).t.block_until_ready()"
            ]
        },
        {
            "cell_type": "markdown",
            "metadata": {},
            "source": [
                "That's a $(32768 * 10) / 0.00846 = 387,218,045$ : a bit less than $400M$ frames per second."
            ]
        },
        {
            "cell_type": "markdown",
            "metadata": {},
            "source": [
                "## Conclusion\n",
                "\n",
                "This tutorial demonstrated the basic usage and key features of NAVIX, including environment creation, running simulations, performance optimization with JAX.\n",
                "We wet from running a single environment in around 27s, to running 32768 environment in roughly around 8ms, with a throughput of **400M fps**.\n",
                "In comparison, MiniGrid runs at roughly **3K fps**.\n",
                "\n",
                "Check the [NAVIX paper](TODO) for more details on the performance of NAVIX.\n",
                "For more advanced usage and examples, refer to the [NAVIX examples](https://github.com/epignatelli/navix/examples).\n",
                "\n",
                "[In the next tutorial](ppo.html) we will see how to train a simple PPO agent on a NAVIX environment."
            ]
        },
        {
            "cell_type": "markdown",
            "metadata": {},
            "source": []
        }
    ],
    "metadata": {
        "kernelspec": {
            "display_name": "Python 3",
            "language": "python",
            "name": "python3"
        },
        "language_info": {
            "codemirror_mode": {
                "name": "ipython",
                "version": 3
            },
            "file_extension": ".py",
            "mimetype": "text/x-python",
            "name": "python",
            "nbconvert_exporter": "python",
            "pygments_lexer": "ipython3",
            "version": "3.10.12"
        }
    },
    "nbformat": 4,
    "nbformat_minor": 4
}
