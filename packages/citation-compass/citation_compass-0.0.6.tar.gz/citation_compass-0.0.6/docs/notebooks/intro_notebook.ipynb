{
 "cells": [
  {
   "cell_type": "markdown",
   "id": "textblock1",
   "metadata": {
    "cell_marker": "\"\"\""
   },
   "source": [
    "# Introduction to CitationCompass\n",
    "\n",
    "CitationCompass is a lightweight package for annotating and extracting citable portions of scientific code from Python modules. It is meant for authors of a codebase to make discovery of citable blocks of code easier (as opposed to being designed to analyze un-annotated code).  In this tutorial we examine the different ways authors can inject citation information."
   ]
  },
  {
   "cell_type": "code",
   "execution_count": null,
   "id": "4de747ed",
   "metadata": {},
   "outputs": [],
   "source": [
    "import citation_compass as cc"
   ]
  },
  {
   "cell_type": "markdown",
   "id": "1bdbd6da",
   "metadata": {},
   "source": [
    "## Extracting Citations\n",
    "\n",
    "Before we demonstrate approaches to annotate the citable blocks of code, let's look at how the user will access them. CitationCompass provides two mechanisms: retrieving everything that has been annotated (`get_all_citations()`) and retrieving annotated items that have been used (`get_used_citations()`). Both of these functions return a list of strings.\n",
    "\n",
    "Throughout the notebook we use corresponding wrapper functions `print_all_citations()` and `print_used_citations()` that display the same information in a user readable format. \n",
    "\n",
    "We start by adding an annotated function (we will cover the details of how this works later in the notebook) so we have something to retrieve."
   ]
  },
  {
   "cell_type": "code",
   "execution_count": null,
   "id": "407db058",
   "metadata": {},
   "outputs": [],
   "source": [
    "@cc.cite_function\n",
    "def my_function():\n",
    "    \"\"\"This is my function.\n",
    "\n",
    "    Citation: CitationCompass 2025\n",
    "    \"\"\"\n",
    "    return 0"
   ]
  },
  {
   "cell_type": "markdown",
   "id": "a25c541c",
   "metadata": {},
   "source": [
    "We can then look at the list of all citations and the list of used citations:"
   ]
  },
  {
   "cell_type": "code",
   "execution_count": null,
   "id": "27a2d9af",
   "metadata": {},
   "outputs": [],
   "source": [
    "def print_citations_state():\n",
    "    \"\"\"Helper function to print the state of the citations.\"\"\"\n",
    "    print(\"\\nALL\\n---\\n\")\n",
    "    cc.print_all_citations()\n",
    "    print(\"\\nUSED\\n----\\n\")\n",
    "    cc.print_used_citations()\n",
    "\n",
    "\n",
    "print_citations_state()"
   ]
  },
  {
   "cell_type": "markdown",
   "id": "d3145b54",
   "metadata": {},
   "source": [
    "As we can see the function has been included in the list of all citations, but not the list of used citations. This changes if we call the function (which means it has been used)."
   ]
  },
  {
   "cell_type": "code",
   "execution_count": null,
   "id": "2843758e",
   "metadata": {},
   "outputs": [],
   "source": [
    "_ = my_function()\n",
    "print_citations_state()"
   ]
  },
  {
   "cell_type": "markdown",
   "id": "d4349a8d",
   "metadata": {},
   "source": [
    "## Citation Formats\n",
    "\n",
    "Each citation is displayed as the thing to cite, including module and name information, and then the citation string. By default CitationCompass will parse the object's docstring.  The extractor looks for sections denoted by keywords 'citation', 'citations', 'reference', or 'references'. These citation sections can be provided in either numpy or Google format.\n",
    "\n",
    "Underlined delimited section sections look for section delimiters of the form \"keyword\\n-------\" with at least 2 dashes making up the underline. The citation section includes all text until the end of the string or the next section header."
   ]
  },
  {
   "cell_type": "markdown",
   "id": "65fdbd56",
   "metadata": {},
   "source": [
    "## Citing Functions and Methods\n",
    "\n",
    "As we saw above, an author can annotate a function using the `@cite_function` decorator. Cited functions will be included on the all citations list when they are defined (imported) and the used citation list when they are first called. Despite the name containing the word \"function\", this decorator also works with class methods.\n",
    "\n",
    "We can add another function (with a more complex docstring) and see how that impacts the citations."
   ]
  },
  {
   "cell_type": "code",
   "execution_count": null,
   "id": "9cbb34a5",
   "metadata": {},
   "outputs": [],
   "source": [
    "@cc.cite_function\n",
    "def my_function_2(x):\n",
    "    \"\"\"This is my second function.\n",
    "\n",
    "    Citation\n",
    "    --------\n",
    "    CitationCompass\n",
    "    February 2025\n",
    "\n",
    "    Parameters\n",
    "    ----------\n",
    "    x : int\n",
    "        This is an integer\n",
    "\n",
    "    Returns\n",
    "    -------\n",
    "    int\n",
    "        The same integer\n",
    "    \"\"\"\n",
    "    return x\n",
    "\n",
    "\n",
    "print_citations_state()"
   ]
  },
  {
   "cell_type": "markdown",
   "id": "84a06b37",
   "metadata": {},
   "source": [
    "Note that both functions are listed in the \"all\" list, but only the first appears in the \"used\" list.\n",
    "\n",
    "Since wrapping a function (in order to track when it is used) adds a little bit of overhead, users may wish to switch off this capability for functions that are called many times. Users can do this by adding a `track_used=False` parameter to the decorator. This will automatically add the function to the \"used\" list (whether or not it is actually used), so the citation does not get missed."
   ]
  },
  {
   "cell_type": "code",
   "execution_count": null,
   "id": "c5aa11fa",
   "metadata": {},
   "outputs": [],
   "source": [
    "@cc.cite_function(track_used=False)\n",
    "def my_function_4(x):\n",
    "    \"\"\"This is my second function.\n",
    "    Citation: CitationCompass\n",
    "    \"\"\"\n",
    "    return x\n",
    "\n",
    "\n",
    "print_citations_state()"
   ]
  },
  {
   "cell_type": "markdown",
   "id": "603a9766",
   "metadata": {},
   "source": [
    "## Citing Classes\n",
    "\n",
    "An author can annotate a class by inheriting from CitationCompass's `CiteClass` class. Cited classes will be included on the all citations list when they are defined and the used citation list when the first object is instantiated."
   ]
  },
  {
   "cell_type": "code",
   "execution_count": null,
   "id": "117fd423",
   "metadata": {},
   "outputs": [],
   "source": [
    "class ExampleClass(cc.CiteClass):\n",
    "    \"\"\"My Example class.\n",
    "\n",
    "    Citation: Citation here\n",
    "    \"\"\"\n",
    "\n",
    "    def __init__(self):\n",
    "        self.x = 0\n",
    "\n",
    "\n",
    "print_citations_state()"
   ]
  },
  {
   "cell_type": "markdown",
   "id": "4163ccb8",
   "metadata": {},
   "source": [
    "We add the class to the \"used\" list as soon as we create the first instance."
   ]
  },
  {
   "cell_type": "code",
   "execution_count": null,
   "id": "fdb9b171",
   "metadata": {},
   "outputs": [],
   "source": [
    "obj = ExampleClass()\n",
    "print_citations_state()"
   ]
  },
  {
   "cell_type": "markdown",
   "id": "80dbadf6",
   "metadata": {},
   "source": [
    "## Citing Modules\n",
    "\n",
    "An author can add an annotation for a module (or submodule) by adding `cite_module(__name__)` function to the module's file. This will automatically determine the name of the current (sub)module and mark it for citation. The module is added to **both** the \"all\" and \"used\" list when the `cite_module` function is called, which can depend on how the end user imports the code. If the user is importing indvidual functions, the `cite_module` function may not be evaluated. As such, the author may want to include `cite_module(__name__)` in the modules `__init__.py`.```"
   ]
  },
  {
   "cell_type": "code",
   "execution_count": null,
   "id": "8d7a9c6d",
   "metadata": {},
   "outputs": [],
   "source": [
    "cc.cite_module(\"citation_compass\", \"CitationCompass, 2025\")\n",
    "print_citations_state()"
   ]
  },
  {
   "cell_type": "markdown",
   "id": "87e9f692",
   "metadata": {},
   "source": [
    "Author's can also mark imported modules for citation by passing in a string with the name of that module, such as `cite_module(\"astropy\")`. This allows authors to call out modules they use and know can be cited."
   ]
  },
  {
   "cell_type": "markdown",
   "id": "81b01999",
   "metadata": {},
   "source": [
    "## Adding Citations Inline\n",
    "\n",
    "If the block of code that needs to be cited does not naturally fit into one of the use cases above (class, function, etc.), an author can manually insert a citation using `cite_inline(name, citation_text)`. The name must be a unique tag for this citation and the citation text can be anything the author wants to display to the end user."
   ]
  },
  {
   "cell_type": "code",
   "execution_count": null,
   "id": "8ba3df1b",
   "metadata": {},
   "outputs": [],
   "source": [
    "cc.cite_inline(\"my_citation\", \"This is my custom citation.\")\n",
    "print_citations_state()"
   ]
  },
  {
   "cell_type": "markdown",
   "id": "adc73542",
   "metadata": {},
   "source": [
    "Manual citations are marked as used as soon as they are inserted (the line of code is executed)."
   ]
  },
  {
   "cell_type": "markdown",
   "id": "1b882c14",
   "metadata": {},
   "source": [
    "## Citing Objects\n",
    "\n",
    "An author can cite an instantiated object using the `cite_object(obj)` function. Note that we do not expect this to be a typical use case. Most users will want to use a class-level citation instead. However citing an object can be used with objects from external packages. Cited objects will be referenced by the object's class information. Cited objects are added to both the all citations and used citations list as soon as the `cite_object` function is called.\n",
    "\n",
    "For example we could cite Python's list. Since list's docstring does not contain any of our citation labels, it just appends the docstring itself."
   ]
  },
  {
   "cell_type": "code",
   "execution_count": null,
   "id": "b3ee0a68",
   "metadata": {},
   "outputs": [],
   "source": [
    "my_list = [1, 2, 3]\n",
    "cc.cite_object(my_list)\n",
    "print_citations_state()"
   ]
  },
  {
   "cell_type": "markdown",
   "id": "808138d6",
   "metadata": {},
   "source": [
    "## Citation Contexts\n",
    "\n",
    "Users might sometimes want only the citations for elements of code used within a given block of code.  CitationCompass provides a context manager that can perform tracking within a subset of code."
   ]
  },
  {
   "cell_type": "code",
   "execution_count": null,
   "id": "8b55d926",
   "metadata": {},
   "outputs": [],
   "source": [
    "with cc.CitationContext(\"sub_context\") as context:\n",
    "    print(f\"At the context start: {context.get_citations()}\")\n",
    "    _ = my_function()\n",
    "    print(f\"At the context end: {context.get_citations()}\")"
   ]
  },
  {
   "cell_type": "markdown",
   "id": "c57ed211",
   "metadata": {},
   "source": [
    "The context specific list is automatically cleaned up after the `with` block.\n",
    "\n",
    "Note that only some citations are tracked at time of use. For example, citations to modules or functions with `track_used=False` will not show up within this context. Therefore care needs to be taken when using a context manager."
   ]
  },
  {
   "cell_type": "code",
   "execution_count": null,
   "id": "16d4a379",
   "metadata": {},
   "outputs": [],
   "source": [
    "with cc.CitationContext(\"sub_context\") as context:\n",
    "    print(f\"At the context start: {context.get_citations()}\")\n",
    "    _ = my_function_4(4)\n",
    "    print(f\"At the context end: {context.get_citations()}\")"
   ]
  },
  {
   "cell_type": "markdown",
   "id": "a4d6d71d",
   "metadata": {},
   "source": [
    "Citation context managers can be assigned arbitrary (unique) labels and can be nested."
   ]
  },
  {
   "cell_type": "markdown",
   "id": "05e000c2",
   "metadata": {},
   "source": [
    "## Duplicate Citation Keys\n",
    "\n",
    "Ideally the keys for every citable object should be unique. CitationCompass tries to ensure this for most automatically generated citations by including package information in the key for classes and functions. However there can still be collisions, especially when citations are manually added. In case of a duplicate key with a non-duplicate citation text, CitationCompass will append the citation information so that it all shows up.\n",
    "\n",
    "Let's start by looking at what happens if we try to re-add the exact same (key, text) combination."
   ]
  },
  {
   "cell_type": "code",
   "execution_count": null,
   "id": "0efcd05e",
   "metadata": {},
   "outputs": [],
   "source": [
    "with cc.CitationContext(\"sub_context2\") as context:\n",
    "    for i in range(5):\n",
    "        cc.cite_inline(\"my_repeated_citation\", \"This is my custom citation.\")\n",
    "        print(f\"After {i + 1} cite_inline: {context.get_citations()}\")"
   ]
  },
  {
   "cell_type": "markdown",
   "id": "974dbc85",
   "metadata": {},
   "source": [
    "Nothing changes with the repeared calls. But if we add different citation text, we see an expanded entry."
   ]
  },
  {
   "cell_type": "code",
   "execution_count": null,
   "id": "00dabc7e",
   "metadata": {},
   "outputs": [],
   "source": [
    "with cc.CitationContext(\"sub_context3\") as context:\n",
    "    for i in range(5):\n",
    "        cc.cite_inline(\"my_numbered_citation\", f\"citation text {i}\")\n",
    "        print(f\"After {i + 1} cite_inline: {context.get_citations()}\")\n",
    "\n",
    "    cc.cite_inline(\"my_numbered_citation\", \"citation text 0\")\n",
    "    print(f\"After re-adding call 0 cite_inline: {context.get_citations()}\")"
   ]
  },
  {
   "cell_type": "markdown",
   "id": "8b6ecead",
   "metadata": {},
   "source": [
    "We continue to expand the citation string to include the new information when it is not a repeat of anything that has been previously added."
   ]
  },
  {
   "cell_type": "markdown",
   "id": "5dc3f891",
   "metadata": {},
   "source": [
    "## Conclusion\n",
    "\n",
    "CitationCompass is designed for a package's author to annotate their code and include functionality for retrieving the citations annotated. For example a command line tool may include a flag `--show_citations` that displays the citations (all or used) at the end of the run.\n",
    "\n",
    "While CitationCompass will also pull in annotations from imported packages that also use CitationCompass, we recommend that the code author's err on the side of being comprehensive in case the sub-package changes approach."
   ]
  }
 ],
 "metadata": {
  "jupytext": {
   "cell_markers": "\"\"\""
  },
  "kernelspec": {
   "display_name": "citation",
   "language": "python",
   "name": "python3"
  },
  "language_info": {
   "codemirror_mode": {
    "name": "ipython",
    "version": 3
   },
   "file_extension": ".py",
   "mimetype": "text/x-python",
   "name": "python",
   "nbconvert_exporter": "python",
   "pygments_lexer": "ipython3",
   "version": "3.10.4"
  }
 },
 "nbformat": 4,
 "nbformat_minor": 5
}
