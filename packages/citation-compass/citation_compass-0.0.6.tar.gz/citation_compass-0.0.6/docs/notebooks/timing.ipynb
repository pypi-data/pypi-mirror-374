{
 "cells": [
  {
   "cell_type": "markdown",
   "metadata": {},
   "source": [
    "# Timing\n",
    "\n",
    "Function decorators can add overhead by effectively wrapping the function and adding another layer to the call stack. In this notebook, we examine the cost of using the `@cite_function` wrapper.\n",
    "\n",
    "We start by creating three functions. The first function is not wrapped and provides a baseline. The second function is fully wrapped. The third function does not track whether the function is used (saving time of a nested function call), but rather adds it to the \"used\" list by default."
   ]
  },
  {
   "cell_type": "code",
   "execution_count": null,
   "metadata": {},
   "outputs": [],
   "source": [
    "import citation_compass as cc\n",
    "\n",
    "\n",
    "def test_func1():\n",
    "    \"\"\"A test function without a citation\"\"\"\n",
    "    return 1\n",
    "\n",
    "\n",
    "@cc.cite_function(\"test_func2\")\n",
    "def test_func2():\n",
    "    \"\"\"A test function with a citation\"\"\"\n",
    "    return 1\n",
    "\n",
    "\n",
    "@cc.cite_function(\"test_func3\", track_used=False)\n",
    "def test_func3():\n",
    "    \"\"\"A test function with a citation that will not be tracked\"\"\"\n",
    "    return 1"
   ]
  },
  {
   "cell_type": "code",
   "execution_count": null,
   "metadata": {},
   "outputs": [],
   "source": [
    "%%timeit\n",
    "test_func1()"
   ]
  },
  {
   "cell_type": "code",
   "execution_count": null,
   "metadata": {},
   "outputs": [],
   "source": [
    "%%timeit\n",
    "test_func2()"
   ]
  },
  {
   "cell_type": "code",
   "execution_count": null,
   "metadata": {},
   "outputs": [],
   "source": [
    "%%timeit\n",
    "test_func3()"
   ]
  },
  {
   "cell_type": "markdown",
   "metadata": {},
   "source": [
    "These functions give the *most* extreme case of overhead, because the cost of the function's operations themselves are negligible. For real world use cases, cited functions are likely to be computational heavy so that the overhead of the wrapper is mitigated.\n",
    "\n",
    "Let's consider two slight more complicated functions. As we can see, the percentage of cost that is overhead is smaller."
   ]
  },
  {
   "cell_type": "code",
   "execution_count": null,
   "metadata": {},
   "outputs": [],
   "source": [
    "import math\n",
    "\n",
    "\n",
    "def test_func3(a, b, c):\n",
    "    \"\"\"A test function without a citation\"\"\"\n",
    "    inner = b**2 - 4 * a * c\n",
    "    if inner < 0:\n",
    "        return None\n",
    "    else:\n",
    "        return (-b + math.sqrt(inner)) / (2 * a), (-b - math.sqrt(inner)) / (2 * a)\n",
    "\n",
    "\n",
    "@cc.cite_function(\"test_func4\")\n",
    "def test_func4(a, b, c):\n",
    "    \"\"\"A test function with a citation\"\"\"\n",
    "    inner = b**2 - 4 * a * c\n",
    "    if inner < 0:\n",
    "        return None\n",
    "    else:\n",
    "        return (-b + math.sqrt(inner)) / (2 * a), (-b - math.sqrt(inner)) / (2 * a)"
   ]
  },
  {
   "cell_type": "code",
   "execution_count": null,
   "metadata": {},
   "outputs": [],
   "source": [
    "%%timeit\n",
    "test_func3(1, -9, 20)"
   ]
  },
  {
   "cell_type": "code",
   "execution_count": null,
   "metadata": {},
   "outputs": [],
   "source": [
    "%%timeit\n",
    "test_func4(1, -9, 20)"
   ]
  }
 ],
 "metadata": {
  "kernelspec": {
   "display_name": "citation",
   "language": "python",
   "name": "python3"
  },
  "language_info": {
   "codemirror_mode": {
    "name": "ipython",
    "version": 3
   },
   "file_extension": ".py",
   "mimetype": "text/x-python",
   "name": "python",
   "nbconvert_exporter": "python",
   "pygments_lexer": "ipython3",
   "version": "3.10.4"
  }
 },
 "nbformat": 4,
 "nbformat_minor": 2
}
