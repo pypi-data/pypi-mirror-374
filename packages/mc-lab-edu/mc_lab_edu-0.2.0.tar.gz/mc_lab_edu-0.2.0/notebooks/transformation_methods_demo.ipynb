{
 "cells": [
  {
   "cell_type": "markdown",
   "id": "0d258b05",
   "metadata": {},
   "source": [
    "# Transformation Methods — Examples 3.1 and 3.2\n",
    "\n",
    "This notebook demonstrates sampling using:\n",
    "- Example 3.1: Exponential via inverse CDF\n",
    "- Example 3.2: Cauchy via tangent transform"
   ]
  },
  {
   "cell_type": "code",
   "execution_count": null,
   "id": "1ea5b6c2",
   "metadata": {},
   "outputs": [],
   "source": [
    "import matplotlib.pyplot as plt\n",
    "import numpy as np\n",
    "\n",
    "from mc_lab.transformation_methods import (\n",
    "    sample_cauchy_via_tangent,\n",
    "    sample_exponential_via_inverse,\n",
    ")"
   ]
  },
  {
   "cell_type": "markdown",
   "id": "bd328441",
   "metadata": {},
   "source": [
    "## Example 3.1: Exponential via inverse CDF\n",
    "If U ~ Uniform(0,1), then X = -ln(1-U)/lambda ~ Exponential(rate=lambda)."
   ]
  },
  {
   "cell_type": "code",
   "execution_count": null,
   "id": "e3e3d719",
   "metadata": {},
   "outputs": [],
   "source": [
    "# Draw samples\n",
    "n = 100_000\n",
    "rate = 2.0\n",
    "x = sample_exponential_via_inverse(n, rate=rate, random_state=42)\n",
    "\n",
    "# Plot histogram and overlay theoretical PDF\n",
    "bins = 80\n",
    "fig, ax = plt.subplots(1, 2, figsize=(12, 4))\n",
    "ax[0].hist(x, bins=bins, density=True, alpha=0.6, color=\"C0\")\n",
    "xs = np.linspace(0, np.quantile(x, 0.99), 400)\n",
    "pdf = rate * np.exp(-rate * xs)\n",
    "ax[0].plot(xs, pdf, \"r-\", lw=2, label=\"Exp PDF\")\n",
    "ax[0].set_title(\"Exponential samples (hist) with PDF overlay\")\n",
    "ax[0].set_xlabel(\"x\")\n",
    "ax[0].set_ylabel(\"density\")\n",
    "ax[0].legend()\n",
    "\n",
    "# Empirical CDF vs theory\n",
    "xs2 = np.linspace(0, np.quantile(x, 0.999), 400)\n",
    "ecdf_x = np.sort(x)\n",
    "ecdf_y = np.arange(1, n + 1) / n\n",
    "ax[1].plot(ecdf_x, ecdf_y, label=\"Empirical CDF\")\n",
    "cdf = 1.0 - np.exp(-rate * xs2)\n",
    "ax[1].plot(xs2, cdf, \"r--\", label=\"Theoretical CDF\")\n",
    "ax[1].set_title(\"Exponential empirical vs theoretical CDF\")\n",
    "ax[1].set_xlabel(\"x\")\n",
    "ax[1].set_ylabel(\"F(x)\")\n",
    "ax[1].legend()\n",
    "plt.tight_layout()\n",
    "plt.show()\n",
    "\n",
    "print(\"Sample mean ~\", x.mean(), \"; theory =\", 1.0 / rate)\n",
    "print(\n",
    "    \"P(X <= 1/rate) empirical ~\", np.mean(x <= 1.0 / rate), \"; theory ~\", 1 - np.e**-1\n",
    ")"
   ]
  },
  {
   "cell_type": "markdown",
   "id": "59df7357",
   "metadata": {},
   "source": [
    "## Example 3.2: Cauchy via tangent transform\n",
    "If U ~ Uniform(0,1), then X = tan(π (U - 1/2)) ~ Cauchy(0,1).\n",
    "More generally X = loc + scale * tan(π (U - 1/2))."
   ]
  },
  {
   "cell_type": "code",
   "execution_count": null,
   "id": "70ea92c5",
   "metadata": {},
   "outputs": [],
   "source": [
    "# Draw samples\n",
    "n = 200_000\n",
    "loc, scale = 0.0, 1.5\n",
    "y = sample_cauchy_via_tangent(n, location=loc, scale=scale, random_state=7)\n",
    "\n",
    "# Plot histogram (truncated range to visualize heavy tails)\n",
    "q = 0.99\n",
    "cut = np.quantile(np.abs(y - loc), q)\n",
    "mask = np.abs(y - loc) <= cut\n",
    "fig, ax = plt.subplots(1, 2, figsize=(12, 4))\n",
    "ax[0].hist(y[mask], bins=200, density=True, alpha=0.6, color=\"C1\")\n",
    "xs = np.linspace(loc - cut, loc + cut, 400)\n",
    "pdf = (1 / np.pi) * (scale / (scale**2 + (xs - loc) ** 2))\n",
    "ax[0].plot(xs, pdf, \"k-\", lw=2, label=\"Cauchy PDF\")\n",
    "ax[0].set_title(\"Cauchy samples (truncated) with PDF overlay\")\n",
    "ax[0].set_xlabel(\"x\")\n",
    "ax[0].set_ylabel(\"density\")\n",
    "ax[0].legend()\n",
    "\n",
    "# Check the 50% mass within one scale from loc\n",
    "frac = np.mean(np.abs(y - loc) <= scale)\n",
    "ax[1].bar([\"Empirical\"], [frac], color=\"C2\")\n",
    "ax[1].hlines(0.5, -0.5, 0.5, colors=\"r\", linestyles=\"--\", label=\"Theory 0.5\")\n",
    "ax[1].set_ylim(0, 1)\n",
    "ax[1].set_title(\"Mass within +/- scale of location\")\n",
    "ax[1].legend()\n",
    "plt.tight_layout()\n",
    "plt.show()\n",
    "\n",
    "print(\"Median (empirical) ~\", np.median(y), \"; location =\", loc)\n",
    "print(\"P(|X-loc| <= scale) empirical ~\", frac, \"; theory = 0.5\")"
   ]
  }
 ],
 "metadata": {
  "language_info": {
   "name": "python"
  }
 },
 "nbformat": 4,
 "nbformat_minor": 5
}
