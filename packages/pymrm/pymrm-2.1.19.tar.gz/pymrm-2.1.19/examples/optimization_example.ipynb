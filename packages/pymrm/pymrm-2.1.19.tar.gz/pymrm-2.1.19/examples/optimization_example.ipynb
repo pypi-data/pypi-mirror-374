{
 "cells": [
  {
   "cell_type": "code",
   "execution_count": 1,
   "id": "d1d51504",
   "metadata": {},
   "outputs": [
    {
     "name": "stdout",
     "output_type": "stream",
     "text": [
      "Solution SciPy root:\n",
      "  message: The solution converged.\n",
      " success: True\n",
      "  status: 1\n",
      "     fun: [ 2.220e-16  0.000e+00]\n",
      "       x: [ 4.472e-01  4.472e-01]\n",
      "  method: hybr\n",
      "    nfev: 8\n",
      "    njev: 1\n",
      "    fjac: [[-8.769e-01 -4.807e-01]\n",
      "           [ 4.807e-01 -8.769e-01]]\n",
      "       r: [-2.080e+00 -1.841e+00  2.150e+00]\n",
      "     qtf: [-3.263e-10  1.789e-10]\n",
      "\n",
      "Solution pymrm newton:\n",
      "  message: The solution converged\n",
      " success: True\n",
      "     fun: [ 4.155e-10  0.000e+00]\n",
      "       x: [ 4.472e-01  4.472e-01]\n",
      "     nit: 4\n",
      "     jac: <Compressed Sparse Column sparse array of dtype 'float64'\n",
      "          \twith 4 stored elements and shape (2, 2)>\n",
      "            Coords\tValues\n",
      "            (0, 0)\t1.7888563824043469\n",
      "            (1, 0)\t1.0\n",
      "            (0, 1)\t2.683284573495498\n",
      "            (1, 1)\t-1.0\n",
      "\n"
     ]
    }
   ],
   "source": [
    "from pymrm import NumJac, newton\n",
    "import scipy.optimize as optim\n",
    "import numpy as np\n",
    "\n",
    "\n",
    "# Define the objective function and its Jacobian\n",
    "numjac = NumJac((2,))\n",
    "\n",
    "def fun(x, a, b):\n",
    "    return np.array([a * x[0] ** 2 + b * x[1] ** 2 - 1, x[0] - x[1]])\n",
    "\n",
    "# Initial guess\n",
    "x0 = np.array([0.5, 0.5])\n",
    "args = (2,3)\n",
    "\n",
    "# Solve the system\n",
    "def wrapper_fun(x, *args):\n",
    "    g, Jac = numjac(lambda x: fun(x, *args), x)\n",
    "    return g, Jac.toarray()\n",
    "\n",
    "sol = optim.root(wrapper_fun, x0, args=args, jac=True)\n",
    "print(f\"Solution SciPy root:\\n {sol}\\n\")\n",
    "\n",
    "sol2 = newton(lambda x: numjac(lambda x: fun(x, *args), x), x0)\n",
    "print(f\"Solution pymrm newton:\\n {sol2}\\n\")"
   ]
  }
 ],
 "metadata": {
  "kernelspec": {
   "display_name": "mrm",
   "language": "python",
   "name": "python3"
  },
  "language_info": {
   "codemirror_mode": {
    "name": "ipython",
    "version": 3
   },
   "file_extension": ".py",
   "mimetype": "text/x-python",
   "name": "python",
   "nbconvert_exporter": "python",
   "pygments_lexer": "ipython3",
   "version": "3.12.3"
  }
 },
 "nbformat": 4,
 "nbformat_minor": 5
}
