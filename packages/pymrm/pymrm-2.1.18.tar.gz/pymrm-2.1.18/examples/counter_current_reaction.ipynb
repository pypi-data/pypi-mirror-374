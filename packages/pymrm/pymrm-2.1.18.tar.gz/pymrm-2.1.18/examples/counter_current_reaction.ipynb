{
 "cells": [
  {
   "cell_type": "markdown",
   "id": "7b8bd294",
   "metadata": {},
   "source": [
    "# Counter-current convection and reaction\n",
    "\n",
    "Reaction: $A+B\\rightarrow *$\n",
    "\n",
    "$\\frac{\\partial c_A}{\\partial t} + \\mathrm{div}(v_A \\, c_A) = -k \\, c_A c_B$\n",
    "\n",
    "$\\frac{\\partial c_B}{\\partial t} + \\mathrm{div}(v_B \\, c_B) = -k \\, c_A c_B$\n",
    "\n",
    "with boundary conditions: $c_A(0)=1$, $\\frac{\\partial c_A(L)}{\\partial n} = 0$, $\\frac{\\partial c_B(0)}{\\partial n} = 0$, $c_B(L)=1$\n",
    "\n",
    "Notes: \n",
    "- Counter-current flow is implemented by taking $v_B$ negative and setting the proper boundary conditions.\n",
    "- With $|v_A| > |v_B|$ and same inlet concentrations not all $A$ will react away.\n",
    "- For high reaction rate coefficient $k$, there is only a thin boundary layer where $B$ is present. If this boundary layer is not resolved the result is incorrect. Uncomment the non-uniform mesh for high $k$.\n",
    "- This is a numerically tough problem for high reaction rates. Note that TVD deferred correction is currently off, i.e. the upwind scheme is used. TVD seems to decrease robustness."
   ]
  },
  {
   "cell_type": "code",
   "execution_count": 7,
   "id": "c3456619",
   "metadata": {},
   "outputs": [
    {
     "data": {
      "text/plain": [
       "'progress: 100 out of 100'"
      ]
     },
     "metadata": {},
     "output_type": "display_data"
    },
    {
     "data": {
      "image/png": "[encoded data removed]",
      "text/plain": [
       "<Figure size 640x480 with 1 Axes>"
      ]
     },
     "metadata": {},
     "output_type": "display_data"
    }
   ],
   "source": [
    "import numpy as np\n",
    "import scipy as sp\n",
    "from scipy.sparse import linalg as sla\n",
    "import matplotlib.pyplot as plt\n",
    "from IPython.display import clear_output, display\n",
    "from pymrm import non_uniform_grid, construct_convflux_upwind, construct_div, NumJac, interp_cntr_to_stagg_tvd, upwind, minmod\n",
    "\n",
    "# physical parameters and boundary conditions\n",
    "num_c = 2\n",
    "L = 1.0\n",
    "k = 100\n",
    "v = [[1,-0.5]]\n",
    "bc_L = {'a': [[0,1]], 'b': [[1,0]], 'd': [[1, 0]]}\n",
    "bc_R = {'a': [[1,0]], 'b': [[0,1]], 'd': [[0, 1]]}\n",
    "\n",
    "# Reaction function\n",
    "def reaction(c, k):\n",
    "    f = np.empty_like(c)\n",
    "    r = k * c[:, 0] * c[:, 1]\n",
    "    f[:, 0] = -r\n",
    "    f[:, 1] = -r\n",
    "    return f\n",
    "\n",
    "# numerical parameters\n",
    "dt = 1\n",
    "num_time_steps = 100\n",
    "num_inner_iter = 2\n",
    "num_x = 100\n",
    "\n",
    "bc = (bc_L, bc_R)\n",
    "shape = (num_x, num_c)\n",
    "#x_f = np.linspace(0, L, num_x+1)\n",
    "x_f = non_uniform_grid(0, L, shape[0]+1, 0.05*L, 0.75)\n",
    "x_c = 0.5*(x_f[:-1] + x_f[1:])\n",
    "\n",
    "Conv, conv_bc = construct_convflux_upwind(shape, x_f, x_c, bc, v, axis=0)\n",
    "Div = construct_div(shape, x_f, nu=0, axis=0)\n",
    "g_const = (Div @ conv_bc)\n",
    "Jac_const = sp.sparse.eye(np.prod(shape), format='csc')/dt + Div @ Conv\n",
    "numjac_react = NumJac(shape, axes_blocks=[-1])\n",
    "\n",
    "c = np.zeros(shape)\n",
    "for i in range(num_time_steps):\n",
    "    c_old = c\n",
    "    for j in range(num_inner_iter):\n",
    "        f_react, Jac_react = numjac_react(lambda c: reaction(c, k), c)\n",
    "        Jac = Jac_const - Jac_react\n",
    "        Jac_lu = sla.splu(Jac)\n",
    "        c_f, dc_f = interp_cntr_to_stagg_tvd(c, x_f, x_c, bc, v, upwind, axis=0)\n",
    "#        c_f, dc_f = interp_cntr_to_stagg_tvd(c, x_f, x_c, bc, v, minmod, axis=0)\n",
    "        g_conv_deferred = Div @ (v*dc_f).reshape((-1,1))\n",
    "        g = -c_old.reshape(-1,1)/dt + Jac_const @ c.reshape(-1,1) + g_conv_deferred + g_const -f_react.reshape(-1,1)\n",
    "        c -= Jac_lu.solve(g).reshape(c.shape)\n",
    "    clear_output(wait=True)\n",
    "    display(f'progress: {i+1} out of {num_time_steps}')\n",
    "    \n",
    "fig, ax = plt.subplots()\n",
    "line0, = ax.plot(x_c, c[:, 0])\n",
    "line1, = ax.plot(x_c, c[:, 1])\n",
    "ax.set_xlabel('Position')\n",
    "ax.set_ylabel('Concentration')\n",
    "fig.canvas.draw()\n"
   ]
  }
 ],
 "metadata": {
  "kernelspec": {
   "display_name": "mrm",
   "language": "python",
   "name": "python3"
  },
  "language_info": {
   "codemirror_mode": {
    "name": "ipython",
    "version": 3
   },
   "file_extension": ".py",
   "mimetype": "text/x-python",
   "name": "python",
   "nbconvert_exporter": "python",
   "pygments_lexer": "ipython3",
   "version": "3.12.3"
  }
 },
 "nbformat": 4,
 "nbformat_minor": 5
}
