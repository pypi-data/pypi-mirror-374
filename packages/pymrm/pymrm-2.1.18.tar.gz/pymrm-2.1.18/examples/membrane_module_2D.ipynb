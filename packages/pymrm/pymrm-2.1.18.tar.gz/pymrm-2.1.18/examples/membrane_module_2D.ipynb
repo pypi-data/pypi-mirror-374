{
 "cells": [
  {
   "cell_type": "markdown",
   "id": "7b8bd294",
   "metadata": {},
   "source": [
    "# Membrane Model\n",
    "\n",
    "This notebook demonstrates a 2D membrane model with a shell-in-tube geometry. The model simulates counter-current plug flow with radial diffusion. A membrane separates the inner retentate side and the outer annular permeate side, allowing a substance to permeate through.\n",
    "\n",
    "The purpose of this example is to illustrate how to couple submodels using either explicit or fully implicit coupling methods. The governing equations and boundary conditions are provided below.\n",
    "\n",
    "## Governing Equation\n",
    "\n",
    "The governing equation for both the retentate and permeate sides is:\n",
    "\n",
    "$\\frac{\\partial c}{\\partial t} + \\mathrm{div}_z (v \\, c) - \\mathrm{div}_r (D \\, \\mathrm{div}_r(c))  = 0$\n",
    "\n",
    "## Boundary Conditions\n",
    "\n",
    "At the membrane interface, the boundary conditions are:\n",
    "\n",
    "$D \\frac{\\partial c_\\mathrm{ret}}{\\partial n} = P \\, (c_\\mathrm{perm} - c_\\mathrm{ret})$, and $\\frac{R_\\mathrm{perm}}{R_\\mathrm{ret}} D \\frac{\\partial c_\\mathrm{perm}}{\\partial n} =  P \\, (c_\\mathrm{ret} - c_\\mathrm{perm})$.\n",
    "\n",
    "The notebook is divided into sections for parameter initialization, explicit coupling, and implicit coupling, with detailed comments to guide the user."
   ]
  },
  {
   "cell_type": "code",
   "execution_count": 1,
   "id": "c3456619",
   "metadata": {},
   "outputs": [],
   "source": [
    "# Import necessary libraries\n",
    "import numpy as np\n",
    "from matplotlib import pyplot as plt\n",
    "import scipy.sparse.linalg as sla\n",
    "from pymrm import construct_grad, construct_div, update_csc_array_indices, construct_convflux_upwind, construct_interface_matrices\n",
    "\n",
    "# Define physical parameters\n",
    "L = 0.2  # Length of the membrane module (m)\n",
    "D = 1e-4  # Diffusion coefficient (m^2/s)\n",
    "P = 0.002  # Permeability of the membrane (m/s)\n",
    "c_in = 1.0  # Inlet concentration (mol/m^3)\n",
    "v_ret = 1e-1  # Retentate velocity (m/s)\n",
    "v_perm = 1e-1  # Permeate velocity (m/s)\n",
    "R_ret = 5e-3  # Inner radius of the retentate side (m)\n",
    "R_perm = R_ret + 5e-4  # Inner radius of the permeate side (m)\n",
    "R_out = 7e-3  # Outer radius of the permeate side (m)\n",
    "\n",
    "# Define discretization parameters\n",
    "num_z = 100  # Number of grid points in the axial direction\n",
    "num_r_perm = 30  # Number of grid points in the radial direction (permeate)\n",
    "num_r_ret = 30  # Number of grid points in the radial direction (retentate)\n",
    "dz = L/num_z  # Axial grid spacing\n",
    "\n",
    "# Generate grid points\n",
    "z_f = np.linspace(0, L, num_z+1)  # Axial face grid points\n",
    "z_c = 0.5*(z_f[1:] + z_f[:-1])  # Axial cell-centered grid points\n",
    "r_f_ret = np.linspace(0, R_ret, num_r_ret+1)  # Radial face grid points (retentate)\n",
    "r_c_ret = 0.5*(r_f_ret[1:] + r_f_ret[:-1])  # Radial cell-centered grid points (retentate)\n",
    "r_f_perm = np.linspace(R_perm, R_out, num_r_perm+1)  # Radial face grid points (permeate)\n",
    "r_c_perm = 0.5*(r_f_perm[1:] + r_f_perm[:-1])  # Radial cell-centered grid points (permeate)\n",
    "\n",
    "# Define boundary conditions\n",
    "bc_neumann = {'a': 1, 'b': 0, 'd': 0}  # Neumann boundary condition\n",
    "bc_dirichlet = {'a': 0, 'b': 1, 'd': 1}  # Dirichlet boundary condition\n",
    "\n",
    "# Define shapes for matrices\n",
    "shape_ret = (num_z, num_r_ret)  # Shape of the retentate domain\n",
    "shape_perm = (num_z, num_r_perm)  # Shape of the permeate domain\n",
    "shape_d = (num_z, 1)  # Shape for boundary condition vectors\n",
    "\n",
    "# Construct divergence matrices for retentate and permeate domains\n",
    "div_ret_mat_z = construct_div(shape_ret, z_f, axis=0, nu=0)  # Axial divergence (retentate)\n",
    "div_ret_mat_r = construct_div(shape_ret, r_f_ret, axis=1, nu=1)  # Radial divergence (retentate)\n",
    "div_perm_mat_z = construct_div(shape_perm, z_f, axis=0, nu=0)  # Axial divergence (permeate)\n",
    "div_perm_mat_r = construct_div(shape_perm, r_f_perm, axis=1, nu=1)  # Radial divergence (permeate)\n",
    "\n",
    "# Construct convection flux matrices for retentate and permeate domains\n",
    "conv_ret_mat, conv_ret_bc = construct_convflux_upwind(shape_ret, z_f, z_c, (bc_dirichlet, bc_neumann), v_ret, axis=0)\n",
    "conv_ret_bc *= c_in  # Apply inlet concentration to boundary condition\n",
    "conv_perm_mat, conv_perm_bc = construct_convflux_upwind(shape_perm, z_f, z_c, (bc_neumann, bc_dirichlet), -v_perm, axis=0)\n",
    "conv_perm_bc *= 0.0  # No inlet concentration for permeate"
   ]
  },
  {
   "cell_type": "markdown",
   "id": "5bffe380",
   "metadata": {},
   "source": [
    "## Function to Compute and Print Mass Balances\n",
    "\n",
    "This function calculates the mass flow rates at the inlet, outlet, and membrane interface for both the retentate and permeate sides. It also checks the overall mass balance to ensure conservation of mass."
   ]
  },
  {
   "cell_type": "code",
   "execution_count": 2,
   "id": "c0f3fbf3",
   "metadata": {},
   "outputs": [],
   "source": [
    "from pymrm import compute_boundary_values\n",
    "\n",
    "def print_balances(c_ret, c_perm, c_b_ret, c_b_perm):\n",
    "    # Compute boundary values for retentate and permeate sides\n",
    "    c_in_ret, _, c_out_ret, _  = compute_boundary_values(c_ret, z_f, z_c, ({'a':0, 'b': 1, 'd':c_in}, bc_neumann), axis=0)\n",
    "    c_out_perm, _, c_in_perm, _  = compute_boundary_values(c_perm, z_f, z_c, (bc_neumann, {'a':0, 'b': 1, 'd':0}), axis=0)\n",
    "\n",
    "    # Compute cross-sectional areas for radial and axial directions\n",
    "    dA_r_ret = np.pi*(r_f_ret[1:]**2 - r_f_ret[:-1]**2).reshape((1,-1))\n",
    "    dA_r_perm = np.pi*(r_f_perm[1:]**2 - r_f_perm[:-1]**2).reshape((1,-1))\n",
    "    dA_z_ret = 2*np.pi*R_ret*(z_f[1:] - z_f[:-1]).reshape((-1,1))\n",
    "    dA_z_perm = 2*np.pi*R_perm*(z_f[1:] - z_f[:-1]).reshape((-1,1))\n",
    "\n",
    "    # Compute gradients at the membrane interface\n",
    "    _, _, _, grad_mem_ret  = compute_boundary_values(c_ret, r_f_ret, r_c_ret, (bc_neumann, {'a':0, 'b': 1, 'd':c_b_ret}), axis=1)\n",
    "    _ , grad_mem_perm, _, _  = compute_boundary_values(c_perm, r_f_perm, r_c_perm, ({'a':0, 'b': 1, 'd':c_b_perm}, bc_neumann), axis=1)\n",
    "\n",
    "    # Compute flow rates\n",
    "    flow_in_ret = v_ret*np.sum(c_in_ret*dA_r_ret, axis=1).reshape(())\n",
    "    flow_out_ret = v_ret*np.sum(c_out_ret*dA_r_ret, axis=1).reshape(())\n",
    "    flow_in_perm = v_perm*np.sum(c_in_perm*dA_r_perm, axis=1).reshape(())\n",
    "    flow_out_perm = v_perm*np.sum(c_out_perm*dA_r_perm, axis=1).reshape(())\n",
    "    flow_mem_ret = -D*np.sum(grad_mem_ret*dA_z_ret, axis=0).reshape(())\n",
    "    flow_mem_perm = -D*np.sum(grad_mem_perm*dA_z_perm, axis=0).reshape(())\n",
    "\n",
    "    # Print mass balances\n",
    "    print(f\"retentate side: inlet molar flow = {flow_in_ret:.5e}, membrane molar flow out = {flow_mem_ret:.5e}, outlet molar flow = {flow_out_ret:.5e}\")\n",
    "    print(f\"retentate balance: {flow_in_ret - flow_mem_ret - flow_out_ret:.5e}\")\n",
    "    print(f\"permeate side:  inlet molar flow = {flow_in_perm:.5e}, membrane molar flow in  = {flow_mem_perm:.5e}, outlet molar flow = {flow_out_perm:.5e}\")\n",
    "    print(f\"permeate balance: {flow_in_perm + flow_mem_perm - flow_out_perm:.5e}\")\n",
    "    print(f\"overall balance: {flow_in_ret + flow_in_perm - flow_out_ret - flow_out_perm:.5e}\")"
   ]
  },
  {
   "cell_type": "markdown",
   "id": "c0c5e5c6",
   "metadata": {},
   "source": [
    "## Explicit Coupling\n",
    "\n",
    "In this section, the retentate and permeate submodels are coupled explicitly. The coupling is achieved by iteratively updating the boundary conditions at the membrane interface."
   ]
  },
  {
   "cell_type": "code",
   "execution_count": 3,
   "id": "d87fbf86",
   "metadata": {},
   "outputs": [
    {
     "data": {
      "image/png": "[encoded data removed]",
      "text/plain": [
       "<Figure size 640x480 with 2 Axes>"
      ]
     },
     "metadata": {},
     "output_type": "display_data"
    },
    {
     "name": "stdout",
     "output_type": "stream",
     "text": [
      "retentate side: inlet molar flow = 7.85398e-06, membrane molar flow out = 4.27200e-06, outlet molar flow = 3.58198e-06\n",
      "retentate balance: 3.51519e-20\n",
      "permeate side:  inlet molar flow = 0.00000e+00, membrane molar flow in  = 4.27200e-06, outlet molar flow = 4.27200e-06\n",
      "permeate balance: -9.56463e-14\n",
      "overall balance: 6.52794e-14\n"
     ]
    }
   ],
   "source": [
    "# Explicit coupling\n",
    "from pymrm import compute_boundary_values\n",
    "import copy\n",
    "\n",
    "num_iter = 20  # Number of iterations for the explicit coupling\n",
    "c_ret = np.zeros(shape_ret)\n",
    "c_perm = np.zeros(shape_perm)\n",
    "c_b_ret = np.zeros((num_z, 1))\n",
    "c_b_perm = np.zeros((num_z, 1))\n",
    "\n",
    "bc_mem_ret = {'a': D, 'b': P, 'd': P}\n",
    "bc_r_ret = (bc_neumann, bc_mem_ret)\n",
    "bc_mem_perm = {'a': R_perm/R_ret*D, 'b': P, 'd': P}\n",
    "bc_r_perm = (bc_mem_perm, bc_neumann)\n",
    "\n",
    "grad_ret_mat, _, grad_ret_bc = construct_grad(shape_ret, r_f_ret, r_c_ret, bc_r_ret, axis = 1, shapes_d = (None, shape_d))\n",
    "grad_perm_mat, grad_perm_bc, _ = construct_grad(shape_perm, r_f_perm, r_c_perm, bc_r_perm, axis = 1, shapes_d = (shape_d, None))\n",
    "\n",
    "jac_ret_mat = div_ret_mat_z @ conv_ret_mat - D*div_ret_mat_r @ grad_ret_mat\n",
    "jac_ret_lu = sla.splu(jac_ret_mat)\n",
    "jac_perm_mat = div_perm_mat_z @ conv_perm_mat - D*div_perm_mat_r @ grad_perm_mat\n",
    "jac_perm_lu = sla.splu(jac_perm_mat)\n",
    "\n",
    "rhs_ret_bc_const = -div_ret_mat_z @ conv_ret_bc\n",
    "rhs_perm_bc_const = -div_perm_mat_z @ conv_perm_bc\n",
    "jac_ret_bc = D*div_ret_mat_r @ grad_ret_bc\n",
    "jac_perm_bc = D*div_perm_mat_r @ grad_perm_bc\n",
    "bc_r_ret_interp = copy.deepcopy(bc_r_ret)\n",
    "bc_r_perm_interp = copy.deepcopy(bc_r_perm)\n",
    "\n",
    "for i in range(num_iter):\n",
    "    bc_r_perm_interp[0]['d'] = bc_r_perm[0]['d']*c_b_ret\n",
    "    c_b_perm, _, _, _ = compute_boundary_values(c_perm, r_f_perm, r_c_perm, bc_r_perm_interp, axis=1)\n",
    "    rhs_ret_bc = rhs_ret_bc_const + jac_ret_bc @ c_b_perm.reshape(-1,1)\n",
    "    c_ret[:]   = jac_ret_lu.solve(rhs_ret_bc).reshape(shape_ret)\n",
    "    \n",
    "    bc_r_ret_interp[1]['d'] = bc_r_ret[1]['d']*c_b_perm\n",
    "    _, _, c_b_ret, _  = compute_boundary_values(c_ret, r_f_ret, r_c_ret, bc_r_ret_interp, axis=1)\n",
    "    rhs_perm_bc= rhs_perm_bc_const +  jac_perm_bc @ c_b_ret.reshape(-1,1)\n",
    "    c_perm[:]  = jac_perm_lu.solve(rhs_perm_bc).reshape(shape_perm)\n",
    "    \n",
    "\n",
    "plt.pcolormesh(z_f, r_f_ret, c_ret.transpose(), shading='flat', cmap='viridis', vmin=0, vmax=c_in)\n",
    "plt.pcolormesh(z_f, r_f_perm, c_perm.transpose(), shading='flat', cmap='viridis', vmin=0, vmax=c_in)\n",
    "\n",
    "plt.colorbar()\n",
    "plt.show()\n",
    "\n",
    "_, _, c_b_ret, _  = compute_boundary_values(c_ret, r_f_ret, r_c_ret, bc_r_ret_interp, axis=1)\n",
    "c_b_perm, _, _, _ = compute_boundary_values(c_perm, r_f_perm, r_c_perm, bc_r_perm_interp, axis=1)\n",
    "print_balances(c_ret, c_perm, c_b_ret, c_b_perm)"
   ]
  },
  {
   "cell_type": "markdown",
   "id": "513e48cb",
   "metadata": {},
   "source": [
    "## Implicit Coupling\n",
    "\n",
    "In this section, the retentate and permeate submodels are coupled implicitly. The coupling is achieved by solving a single system of equations that includes the interface conditions."
   ]
  },
  {
   "cell_type": "code",
   "execution_count": 4,
   "id": "d32edd59",
   "metadata": {},
   "outputs": [
    {
     "data": {
      "image/png": "[encoded data removed]",
      "text/plain": [
       "<Figure size 640x480 with 2 Axes>"
      ]
     },
     "metadata": {},
     "output_type": "display_data"
    },
    {
     "name": "stdout",
     "output_type": "stream",
     "text": [
      "retentate side: inlet molar flow = 7.85398e-06, membrane molar flow out = 4.27200e-06, outlet molar flow = 3.58198e-06\n",
      "retentate balance: -3.45166e-19\n",
      "permeate side:  inlet molar flow = 0.00000e+00, membrane molar flow in  = 4.27200e-06, outlet molar flow = 4.27200e-06\n",
      "permeate balance: -7.64363e-18\n",
      "overall balance: -1.00873e-17\n"
     ]
    }
   ],
   "source": [
    "# Implicit coupling\n",
    "c_all = np.zeros((num_z, num_r_ret + num_r_perm))\n",
    "c_ret = c_all[:, :num_r_ret]\n",
    "c_perm = c_all[:, num_r_ret:]\n",
    "c_vect = c_all.reshape((-1,1))\n",
    "\n",
    "shape_ret = c_ret.shape\n",
    "shape_perm = c_perm.shape\n",
    "shape_d = (num_z, 1)\n",
    "\n",
    "# interface conditions:\n",
    "ic_1 = {'a':(D,0), 'b':(P,-P), 'd':0}\n",
    "ic_2 = {'a':(0,R_perm/R_ret*D), 'b':(-P,P), 'd':0}\n",
    "interf_mat_ret, _, interf_mat_perm, _ = construct_interface_matrices((shape_ret, shape_perm), (r_f_ret, r_f_perm), ic=(ic_1, ic_2), axis=1)\n",
    "\n",
    "grad_ret_mat_coupled, _, grad_ret_bc_coupled = construct_grad(shape_ret, r_f_ret, r_c_ret, bc = (bc_neumann, bc_dirichlet), axis = 1, shapes_d = (None, shape_d))\n",
    "jac_ret_mat_coupled = div_ret_mat_z @ conv_ret_mat - D*div_ret_mat_r @ grad_ret_mat_coupled\n",
    "rhs_ret_bc_coupled  = -div_ret_mat_z @ conv_ret_bc\n",
    "rhs_ret_ic  = D*div_ret_mat_r @ grad_ret_bc_coupled\n",
    "jac_ret_ic  = -D*div_ret_mat_r @ grad_ret_bc_coupled @ interf_mat_ret\n",
    "jac_ret_mat_coupled = update_csc_array_indices(jac_ret_mat_coupled, shape_ret, c_all.shape, offset=None)\n",
    "rhs_ret_ic = update_csc_array_indices(rhs_ret_ic, (shape_ret, None), (c_all.shape, None), offset=None)\n",
    "jac_ret_ic = update_csc_array_indices(jac_ret_ic, (shape_ret, None), (c_all.shape, None), offset=None)\n",
    "rhs_ret_bc_coupled = update_csc_array_indices(rhs_ret_bc_coupled, (shape_ret, None), (c_all.shape, None), offset=None)\n",
    "\n",
    "grad_perm_mat_coupled, grad_perm_bc_coupled, _ = construct_grad(shape_perm, r_f_perm, r_c_perm, bc=(bc_dirichlet, bc_neumann), axis = 1, shapes_d = (shape_d, None))\n",
    "jac_perm_mat_coupled = div_perm_mat_z @ conv_perm_mat - D*div_perm_mat_r @ grad_perm_mat_coupled\n",
    "rhs_perm_bc_coupled  = -div_perm_mat_z @ conv_perm_bc*0\n",
    "rhs_perm_ic  = D*div_perm_mat_r @ grad_perm_bc_coupled\n",
    "jac_perm_ic  = -D*div_perm_mat_r @ grad_perm_bc_coupled @ interf_mat_perm\n",
    "jac_perm_mat_coupled = update_csc_array_indices(jac_perm_mat_coupled, shape_perm, c_all.shape, offset=(0,shape_ret[1]))\n",
    "rhs_perm_ic = update_csc_array_indices(rhs_perm_ic, (shape_perm, None), (c_all.shape, None), offset=((0,shape_ret[1]),None))\n",
    "jac_perm_ic = update_csc_array_indices(jac_perm_ic, (shape_perm, None), (c_all.shape, None), offset=((0,shape_ret[1]),None))\n",
    "rhs_perm_bc_coupled = update_csc_array_indices(rhs_perm_bc_coupled, (shape_perm, None), (c_all.shape, None), offset=((0,shape_ret[1]),None))\n",
    "\n",
    "jac_coupled = jac_ret_mat_coupled + jac_perm_mat_coupled + jac_ret_ic + jac_perm_ic\n",
    "jac_coupled_lu = sla.splu(jac_coupled)\n",
    "rhs_coupled = rhs_ret_bc_coupled + rhs_perm_bc_coupled\n",
    "rhs = rhs_coupled.toarray()\n",
    "\n",
    "c_all[:] = jac_coupled_lu.solve(rhs).reshape(c_all.shape)\n",
    "c_b_ret = interf_mat_ret @ c_vect\n",
    "c_b_perm = interf_mat_perm @ c_vect\n",
    "\n",
    "plt.pcolormesh(z_f, r_f_ret, c_ret.transpose(), shading='flat', cmap='viridis', vmin=0, vmax=c_in)\n",
    "plt.pcolormesh(z_f, r_f_perm, c_perm.transpose(), shading='flat', cmap='viridis', vmin=0, vmax=c_in)\n",
    "plt.colorbar()\n",
    "plt.show()\n",
    "\n",
    "c_b_ret = interf_mat_ret @ c_vect\n",
    "c_b_perm = interf_mat_perm @ c_vect\n",
    "print_balances(c_ret, c_perm, c_b_ret, c_b_perm)"
   ]
  }
 ],
 "metadata": {
  "kernelspec": {
   "display_name": "mrm",
   "language": "python",
   "name": "python3"
  },
  "language_info": {
   "codemirror_mode": {
    "name": "ipython",
    "version": 3
   },
   "file_extension": ".py",
   "mimetype": "text/x-python",
   "name": "python",
   "nbconvert_exporter": "python",
   "pygments_lexer": "ipython3",
   "version": "3.12.8"
  }
 },
 "nbformat": 4,
 "nbformat_minor": 5
}
