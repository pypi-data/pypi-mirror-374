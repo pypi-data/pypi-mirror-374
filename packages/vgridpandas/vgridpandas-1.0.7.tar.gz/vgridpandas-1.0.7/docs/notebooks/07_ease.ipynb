{
 "cells": [
  {
   "cell_type": "markdown",
   "id": "0",
   "metadata": {},
   "source": [
    "## EASEPandas key features\n",
    "\n",
    "You can try out vgridpandas by using the cloud-computing platforms below without having to install anything on your computer:\n",
    "\n",
    "[![image](https://colab.research.google.com/assets/colab-badge.svg)](https://colab.research.google.com/github/opengeoshub/vgridpandas/blob/main/docs/notebooks/07_ease.ipynb)\n",
    "[![image](https://mybinder.org/badge_logo.svg)](https://mybinder.org/v2/gh/opengeoshub/vgridpandas/HEAD?filepath=docs/notebooks/07_ease.ipynb)\n",
    "[![image](https://studiolab.sagemaker.aws/studiolab.svg)](https://studiolab.sagemaker.aws/import/github/opengeoshub/vgridpandas/blob/main/docs/notebooks/07_ease.ipynb)\n",
    "[![image](https://jupyterlite.rtfd.io/en/latest/_static/badge.svg)](https://demo.gishub.vn/lab/index.html?path=notebooks/vgridpandas/07_ease.ipynb)\n",
    "\n",
    "Full VgridPandas DGGS documentation is available at [vgridpandas document](https://vgridpandas.gishub.vn).\n",
    "\n",
    "To work with Vgrid in Python or CLI, use [vgrid](https://pypi.org/project/vgrid/) package. Full Vgrid DGGS documentation is available at [vgrid document](https://vgrid.gishub.vn).\n",
    "\n",
    "To work with Vgrid DGGS in QGIS, install the [Vgrid Plugin](https://plugins.qgis.org/plugins/vgridtools/).\n",
    "\n",
    "To visualize DGGS in Maplibre GL JS, try the [vgrid-maplibre](https://www.npmjs.com/package/vgrid-maplibre) library.\n",
    "\n",
    "For an interactive demo, visit the [Vgrid Homepage](https://vgrid.vn)."
   ]
  },
  {
   "cell_type": "markdown",
   "id": "1",
   "metadata": {},
   "source": [
    "### Install vgridpandas\n",
    "Uncomment the following line to install [vgridpandas](https://pypi.org/project/vgridpandas/)."
   ]
  },
  {
   "cell_type": "code",
   "execution_count": 1,
   "id": "2",
   "metadata": {},
   "outputs": [],
   "source": [
    "# %pip install vgridpandas"
   ]
  },
  {
   "cell_type": "markdown",
   "id": "dc855c53",
   "metadata": {},
   "source": [
    "### Latlon to EASE-DGGS"
   ]
  },
  {
   "cell_type": "code",
   "execution_count": 2,
   "id": "4",
   "metadata": {},
   "outputs": [
    {
     "data": {
      "text/html": [
       "<div>\n",
       "<style scoped>\n",
       "    .dataframe tbody tr th:only-of-type {\n",
       "        vertical-align: middle;\n",
       "    }\n",
       "\n",
       "    .dataframe tbody tr th {\n",
       "        vertical-align: top;\n",
       "    }\n",
       "\n",
       "    .dataframe thead th {\n",
       "        text-align: right;\n",
       "    }\n",
       "</style>\n",
       "<table border=\"1\" class=\"dataframe\">\n",
       "  <thead>\n",
       "    <tr style=\"text-align: right;\">\n",
       "      <th></th>\n",
       "      <th>lon</th>\n",
       "      <th>lat</th>\n",
       "      <th>passenger_count</th>\n",
       "      <th>ease</th>\n",
       "      <th>ease_res</th>\n",
       "    </tr>\n",
       "  </thead>\n",
       "  <tbody>\n",
       "    <tr>\n",
       "      <th>0</th>\n",
       "      <td>-73.993896</td>\n",
       "      <td>40.750111</td>\n",
       "      <td>1</td>\n",
       "      <td>L6.070283.13.01.20.89.78.88</td>\n",
       "      <td>6</td>\n",
       "    </tr>\n",
       "    <tr>\n",
       "      <th>1</th>\n",
       "      <td>-73.976425</td>\n",
       "      <td>40.739811</td>\n",
       "      <td>1</td>\n",
       "      <td>L6.070283.13.11.02.86.77.82</td>\n",
       "      <td>6</td>\n",
       "    </tr>\n",
       "    <tr>\n",
       "      <th>2</th>\n",
       "      <td>-73.968704</td>\n",
       "      <td>40.754246</td>\n",
       "      <td>5</td>\n",
       "      <td>L6.070283.13.02.20.44.71.66</td>\n",
       "      <td>6</td>\n",
       "    </tr>\n",
       "    <tr>\n",
       "      <th>3</th>\n",
       "      <td>-73.863060</td>\n",
       "      <td>40.769581</td>\n",
       "      <td>5</td>\n",
       "      <td>L6.070284.10.02.01.96.80.71</td>\n",
       "      <td>6</td>\n",
       "    </tr>\n",
       "    <tr>\n",
       "      <th>4</th>\n",
       "      <td>-73.945541</td>\n",
       "      <td>40.779423</td>\n",
       "      <td>1</td>\n",
       "      <td>L6.070283.13.02.02.06.34.29</td>\n",
       "      <td>6</td>\n",
       "    </tr>\n",
       "  </tbody>\n",
       "</table>\n",
       "</div>"
      ],
      "text/plain": [
       "         lon        lat  passenger_count                         ease  \\\n",
       "0 -73.993896  40.750111                1  L6.070283.13.01.20.89.78.88   \n",
       "1 -73.976425  40.739811                1  L6.070283.13.11.02.86.77.82   \n",
       "2 -73.968704  40.754246                5  L6.070283.13.02.20.44.71.66   \n",
       "3 -73.863060  40.769581                5  L6.070284.10.02.01.96.80.71   \n",
       "4 -73.945541  40.779423                1  L6.070283.13.02.02.06.34.29   \n",
       "\n",
       "   ease_res  \n",
       "0         6  \n",
       "1         6  \n",
       "2         6  \n",
       "3         6  \n",
       "4         6  "
      ]
     },
     "execution_count": 2,
     "metadata": {},
     "output_type": "execute_result"
    }
   ],
   "source": [
    "import pandas as pd\n",
    "from vgridpandas import easepandas\n",
    "df = pd.read_csv('https://github.com/uber-web/kepler.gl-data/raw/master/nyctrips/data.csv')\n",
    "df = df.head(100)\n",
    "df = df.rename({'pickup_longitude': 'lon', 'pickup_latitude': 'lat'}, axis=1)[['lon', 'lat', 'passenger_count']]\n",
    "resolution = 6\n",
    "df = df.ease.latlon2ease(resolution)\n",
    "df.head()"
   ]
  },
  {
   "cell_type": "markdown",
   "id": "dc45a732",
   "metadata": {},
   "source": [
    "### EASE-DGGS to geo boundary"
   ]
  },
  {
   "cell_type": "code",
   "execution_count": 3,
   "id": "5fbf48a2",
   "metadata": {},
   "outputs": [
    {
     "data": {
      "text/html": [
       "<div>\n",
       "<style scoped>\n",
       "    .dataframe tbody tr th:only-of-type {\n",
       "        vertical-align: middle;\n",
       "    }\n",
       "\n",
       "    .dataframe tbody tr th {\n",
       "        vertical-align: top;\n",
       "    }\n",
       "\n",
       "    .dataframe thead th {\n",
       "        text-align: right;\n",
       "    }\n",
       "</style>\n",
       "<table border=\"1\" class=\"dataframe\">\n",
       "  <thead>\n",
       "    <tr style=\"text-align: right;\">\n",
       "      <th></th>\n",
       "      <th>lon</th>\n",
       "      <th>lat</th>\n",
       "      <th>passenger_count</th>\n",
       "      <th>ease</th>\n",
       "      <th>ease_res</th>\n",
       "      <th>geometry</th>\n",
       "    </tr>\n",
       "  </thead>\n",
       "  <tbody>\n",
       "    <tr>\n",
       "      <th>0</th>\n",
       "      <td>-73.993896</td>\n",
       "      <td>40.750111</td>\n",
       "      <td>1</td>\n",
       "      <td>L6.070283.13.01.20.89.78.88</td>\n",
       "      <td>6</td>\n",
       "      <td>POLYGON ((-73.9939 40.7501, -73.99389 40.7501,...</td>\n",
       "    </tr>\n",
       "    <tr>\n",
       "      <th>1</th>\n",
       "      <td>-73.976425</td>\n",
       "      <td>40.739811</td>\n",
       "      <td>1</td>\n",
       "      <td>L6.070283.13.11.02.86.77.82</td>\n",
       "      <td>6</td>\n",
       "      <td>POLYGON ((-73.97643 40.7398, -73.97642 40.7398...</td>\n",
       "    </tr>\n",
       "    <tr>\n",
       "      <th>2</th>\n",
       "      <td>-73.968704</td>\n",
       "      <td>40.754246</td>\n",
       "      <td>5</td>\n",
       "      <td>L6.070283.13.02.20.44.71.66</td>\n",
       "      <td>6</td>\n",
       "      <td>POLYGON ((-73.96871 40.75424, -73.9687 40.7542...</td>\n",
       "    </tr>\n",
       "    <tr>\n",
       "      <th>3</th>\n",
       "      <td>-73.863060</td>\n",
       "      <td>40.769581</td>\n",
       "      <td>5</td>\n",
       "      <td>L6.070284.10.02.01.96.80.71</td>\n",
       "      <td>6</td>\n",
       "      <td>POLYGON ((-73.86306 40.76958, -73.86305 40.769...</td>\n",
       "    </tr>\n",
       "    <tr>\n",
       "      <th>4</th>\n",
       "      <td>-73.945541</td>\n",
       "      <td>40.779423</td>\n",
       "      <td>1</td>\n",
       "      <td>L6.070283.13.02.02.06.34.29</td>\n",
       "      <td>6</td>\n",
       "      <td>POLYGON ((-73.94555 40.77941, -73.94554 40.779...</td>\n",
       "    </tr>\n",
       "  </tbody>\n",
       "</table>\n",
       "</div>"
      ],
      "text/plain": [
       "         lon        lat  passenger_count                         ease  \\\n",
       "0 -73.993896  40.750111                1  L6.070283.13.01.20.89.78.88   \n",
       "1 -73.976425  40.739811                1  L6.070283.13.11.02.86.77.82   \n",
       "2 -73.968704  40.754246                5  L6.070283.13.02.20.44.71.66   \n",
       "3 -73.863060  40.769581                5  L6.070284.10.02.01.96.80.71   \n",
       "4 -73.945541  40.779423                1  L6.070283.13.02.02.06.34.29   \n",
       "\n",
       "   ease_res                                           geometry  \n",
       "0         6  POLYGON ((-73.9939 40.7501, -73.99389 40.7501,...  \n",
       "1         6  POLYGON ((-73.97643 40.7398, -73.97642 40.7398...  \n",
       "2         6  POLYGON ((-73.96871 40.75424, -73.9687 40.7542...  \n",
       "3         6  POLYGON ((-73.86306 40.76958, -73.86305 40.769...  \n",
       "4         6  POLYGON ((-73.94555 40.77941, -73.94554 40.779...  "
      ]
     },
     "execution_count": 3,
     "metadata": {},
     "output_type": "execute_result"
    }
   ],
   "source": [
    "df = df.ease.ease2geo()\n",
    "df.head()"
   ]
  },
  {
   "cell_type": "markdown",
   "id": "d170eb4a",
   "metadata": {},
   "source": [
    "### (Multi)Linestring/ (Multi)Polygon to EASE-DGGS"
   ]
  },
  {
   "cell_type": "code",
   "execution_count": 6,
   "id": "11dfe313",
   "metadata": {},
   "outputs": [
    {
     "data": {
      "text/plain": [
       "<Axes: >"
      ]
     },
     "execution_count": 6,
     "metadata": {},
     "output_type": "execute_result"
    },
    {
     "data": {
      "image/png": "[encoded data removed]",
      "text/plain": [
       "<Figure size 640x480 with 1 Axes>"
      ]
     },
     "metadata": {},
     "output_type": "display_data"
    }
   ],
   "source": [
    "from vgridpandas import easepandas\n",
    "import geopandas as gpd\n",
    "\n",
    "gdf = gpd.read_file('https://raw.githubusercontent.com/opengeoshub/vopendata/refs/heads/main/shape/polygon.geojson')\n",
    "resolution = 4\n",
    "gdf_polyfill = gdf.ease.polyfill(resolution, compact = False, predicate = \"intersects\", explode = False)\n",
    "gdf_polyfill = gdf_polyfill.ease.ease2geo()\n",
    "gdf_polyfill.plot(edgecolor = \"white\")"
   ]
  },
  {
   "cell_type": "markdown",
   "id": "d02ea1c8",
   "metadata": {},
   "source": [
    "### EASE-DGGS point binning"
   ]
  },
  {
   "cell_type": "code",
   "execution_count": 5,
   "id": "2e0408e6",
   "metadata": {},
   "outputs": [
    {
     "data": {
      "text/plain": [
       "<Axes: >"
      ]
     },
     "execution_count": 5,
     "metadata": {},
     "output_type": "execute_result"
    },
    {
     "data": {
      "image/png": "[encoded data removed]",
      "text/plain": [
       "<Figure size 640x480 with 2 Axes>"
      ]
     },
     "metadata": {},
     "output_type": "display_data"
    }
   ],
   "source": [
    "import pandas as pd\n",
    "from vgridpandas import easepandas\n",
    "resolution = 4\n",
    "df = pd.read_csv(\"https://raw.githubusercontent.com/opengeoshub/vopendata/refs/heads/main/csv/dist1_pois.csv\")\n",
    "# df = gpd.read_file(\"https://raw.githubusercontent.com/opengeoshub/vopendata/refs/heads/main/shape/dist1_pois.geojson\")\n",
    "stats = \"count\"\n",
    "df_bin = df.ease.easebin(resolution=resolution, stats = stats, \n",
    "                                # numeric_column=\"confidence\",\n",
    "                                # category_column=\"category\",\n",
    "                                return_geometry=True)\n",
    "df_bin.plot(\n",
    "    column=stats,        # numeric column to base the colors on\n",
    "    cmap='Spectral_r',        # color scheme (matplotlib colormap)\n",
    "    legend=True,  \n",
    "    linewidth=0.2          # boundary width (optional)\n",
    ")"
   ]
  }
 ],
 "metadata": {
  "kernelspec": {
   "display_name": ".venv",
   "language": "python",
   "name": "python3"
  },
  "language_info": {
   "codemirror_mode": {
    "name": "ipython",
    "version": 3
   },
   "file_extension": ".py",
   "mimetype": "text/x-python",
   "name": "python",
   "nbconvert_exporter": "python",
   "pygments_lexer": "ipython3",
   "version": "3.12.11"
  }
 },
 "nbformat": 4,
 "nbformat_minor": 5
}
