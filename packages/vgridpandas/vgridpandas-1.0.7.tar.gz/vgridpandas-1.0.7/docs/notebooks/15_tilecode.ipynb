{
 "cells": [
  {
   "cell_type": "markdown",
   "id": "0",
   "metadata": {},
   "source": [
    "## TilecodePandas key features\n",
    "\n",
    "You can try out vgridpandas by using the cloud-computing platforms below without having to install anything on your computer:\n",
    "\n",
    "[![image](https://colab.research.google.com/assets/colab-badge.svg)](https://colab.research.google.com/github/opengeoshub/vgridpandas/blob/main/docs/notebooks/15_tilecode.ipynb)\n",
    "[![image](https://mybinder.org/badge_logo.svg)](https://mybinder.org/v2/gh/opengeoshub/vgridpandas/HEAD?filepath=docs/notebooks/15_tilecode.ipynb)\n",
    "[![image](https://studiolab.sagemaker.aws/studiolab.svg)](https://studiolab.sagemaker.aws/import/github/opengeoshub/vgridpandas/blob/main/docs/notebooks/15_tilecode.ipynb)\n",
    "[![image](https://jupyterlite.rtfd.io/en/latest/_static/badge.svg)](https://demo.gishub.vn/lab/index.html?path=notebooks/vgridpandas/15_tilecode.ipynb)\n",
    "\n",
    "Full VgridPandas DGGS documentation is available at [vgridpandas document](https://vgridpandas.gishub.vn).\n",
    "\n",
    "To work with Vgrid in Python or CLI, use [vgrid](https://pypi.org/project/vgrid/) package. Full Vgrid DGGS documentation is available at [vgrid document](https://vgrid.gishub.vn).\n",
    "\n",
    "To work with Vgrid DGGS in QGIS, install the [Vgrid Plugin](https://plugins.qgis.org/plugins/vgridtools/).\n",
    "\n",
    "To visualize DGGS in Maplibre GL JS, try the [vgrid-maplibre](https://www.npmjs.com/package/vgrid-maplibre) library.\n",
    "\n",
    "For an interactive demo, visit the [Vgrid Homepage](https://vgrid.vn)."
   ]
  },
  {
   "cell_type": "markdown",
   "id": "1",
   "metadata": {},
   "source": [
    "### Install vgridpandas\n",
    "Uncomment the following line to install [vgridpandas](https://pypi.org/project/vgridpandas/)."
   ]
  },
  {
   "cell_type": "code",
   "execution_count": 1,
   "id": "2",
   "metadata": {},
   "outputs": [],
   "source": [
    "# %pip install vgridpandas"
   ]
  },
  {
   "cell_type": "markdown",
   "id": "dc855c53",
   "metadata": {},
   "source": [
    "### Latlon to Tilecode"
   ]
  },
  {
   "cell_type": "code",
   "execution_count": 2,
   "id": "4",
   "metadata": {},
   "outputs": [
    {
     "data": {
      "text/html": [
       "<div>\n",
       "<style scoped>\n",
       "    .dataframe tbody tr th:only-of-type {\n",
       "        vertical-align: middle;\n",
       "    }\n",
       "\n",
       "    .dataframe tbody tr th {\n",
       "        vertical-align: top;\n",
       "    }\n",
       "\n",
       "    .dataframe thead th {\n",
       "        text-align: right;\n",
       "    }\n",
       "</style>\n",
       "<table border=\"1\" class=\"dataframe\">\n",
       "  <thead>\n",
       "    <tr style=\"text-align: right;\">\n",
       "      <th></th>\n",
       "      <th>lon</th>\n",
       "      <th>lat</th>\n",
       "      <th>passenger_count</th>\n",
       "      <th>tilecode</th>\n",
       "      <th>tilecode_res</th>\n",
       "    </tr>\n",
       "  </thead>\n",
       "  <tbody>\n",
       "    <tr>\n",
       "      <th>0</th>\n",
       "      <td>-73.993896</td>\n",
       "      <td>40.750111</td>\n",
       "      <td>1</td>\n",
       "      <td>z10x301y384</td>\n",
       "      <td>10</td>\n",
       "    </tr>\n",
       "    <tr>\n",
       "      <th>1</th>\n",
       "      <td>-73.976425</td>\n",
       "      <td>40.739811</td>\n",
       "      <td>1</td>\n",
       "      <td>z10x301y384</td>\n",
       "      <td>10</td>\n",
       "    </tr>\n",
       "    <tr>\n",
       "      <th>2</th>\n",
       "      <td>-73.968704</td>\n",
       "      <td>40.754246</td>\n",
       "      <td>5</td>\n",
       "      <td>z10x301y384</td>\n",
       "      <td>10</td>\n",
       "    </tr>\n",
       "    <tr>\n",
       "      <th>3</th>\n",
       "      <td>-73.863060</td>\n",
       "      <td>40.769581</td>\n",
       "      <td>5</td>\n",
       "      <td>z10x301y384</td>\n",
       "      <td>10</td>\n",
       "    </tr>\n",
       "    <tr>\n",
       "      <th>4</th>\n",
       "      <td>-73.945541</td>\n",
       "      <td>40.779423</td>\n",
       "      <td>1</td>\n",
       "      <td>z10x301y384</td>\n",
       "      <td>10</td>\n",
       "    </tr>\n",
       "  </tbody>\n",
       "</table>\n",
       "</div>"
      ],
      "text/plain": [
       "         lon        lat  passenger_count     tilecode  tilecode_res\n",
       "0 -73.993896  40.750111                1  z10x301y384            10\n",
       "1 -73.976425  40.739811                1  z10x301y384            10\n",
       "2 -73.968704  40.754246                5  z10x301y384            10\n",
       "3 -73.863060  40.769581                5  z10x301y384            10\n",
       "4 -73.945541  40.779423                1  z10x301y384            10"
      ]
     },
     "execution_count": 2,
     "metadata": {},
     "output_type": "execute_result"
    }
   ],
   "source": [
    "import pandas as pd\n",
    "from vgridpandas import tilecodepandas          \n",
    "df = pd.read_csv('https://github.com/uber-web/kepler.gl-data/raw/master/nyctrips/data.csv')\n",
    "df = df.head(100)\n",
    "df = df.rename({'pickup_longitude': 'lon', 'pickup_latitude': 'lat'}, axis=1)[['lon', 'lat', 'passenger_count']]\n",
    "resolution = 10\n",
    "df = df.tilecode.latlon2tilecode(resolution)\n",
    "df.head()"
   ]
  },
  {
   "cell_type": "markdown",
   "id": "dc45a732",
   "metadata": {},
   "source": [
    "### Tilecode to geo boundary"
   ]
  },
  {
   "cell_type": "code",
   "execution_count": 3,
   "id": "5fbf48a2",
   "metadata": {},
   "outputs": [
    {
     "data": {
      "text/html": [
       "<div>\n",
       "<style scoped>\n",
       "    .dataframe tbody tr th:only-of-type {\n",
       "        vertical-align: middle;\n",
       "    }\n",
       "\n",
       "    .dataframe tbody tr th {\n",
       "        vertical-align: top;\n",
       "    }\n",
       "\n",
       "    .dataframe thead th {\n",
       "        text-align: right;\n",
       "    }\n",
       "</style>\n",
       "<table border=\"1\" class=\"dataframe\">\n",
       "  <thead>\n",
       "    <tr style=\"text-align: right;\">\n",
       "      <th></th>\n",
       "      <th>lon</th>\n",
       "      <th>lat</th>\n",
       "      <th>passenger_count</th>\n",
       "      <th>tilecode</th>\n",
       "      <th>tilecode_res</th>\n",
       "      <th>geometry</th>\n",
       "    </tr>\n",
       "  </thead>\n",
       "  <tbody>\n",
       "    <tr>\n",
       "      <th>0</th>\n",
       "      <td>-73.993896</td>\n",
       "      <td>40.750111</td>\n",
       "      <td>1</td>\n",
       "      <td>z10x301y384</td>\n",
       "      <td>10</td>\n",
       "      <td>POLYGON ((-74.17969 40.71396, -73.82812 40.713...</td>\n",
       "    </tr>\n",
       "    <tr>\n",
       "      <th>1</th>\n",
       "      <td>-73.976425</td>\n",
       "      <td>40.739811</td>\n",
       "      <td>1</td>\n",
       "      <td>z10x301y384</td>\n",
       "      <td>10</td>\n",
       "      <td>POLYGON ((-74.17969 40.71396, -73.82812 40.713...</td>\n",
       "    </tr>\n",
       "    <tr>\n",
       "      <th>2</th>\n",
       "      <td>-73.968704</td>\n",
       "      <td>40.754246</td>\n",
       "      <td>5</td>\n",
       "      <td>z10x301y384</td>\n",
       "      <td>10</td>\n",
       "      <td>POLYGON ((-74.17969 40.71396, -73.82812 40.713...</td>\n",
       "    </tr>\n",
       "    <tr>\n",
       "      <th>3</th>\n",
       "      <td>-73.863060</td>\n",
       "      <td>40.769581</td>\n",
       "      <td>5</td>\n",
       "      <td>z10x301y384</td>\n",
       "      <td>10</td>\n",
       "      <td>POLYGON ((-74.17969 40.71396, -73.82812 40.713...</td>\n",
       "    </tr>\n",
       "    <tr>\n",
       "      <th>4</th>\n",
       "      <td>-73.945541</td>\n",
       "      <td>40.779423</td>\n",
       "      <td>1</td>\n",
       "      <td>z10x301y384</td>\n",
       "      <td>10</td>\n",
       "      <td>POLYGON ((-74.17969 40.71396, -73.82812 40.713...</td>\n",
       "    </tr>\n",
       "  </tbody>\n",
       "</table>\n",
       "</div>"
      ],
      "text/plain": [
       "         lon        lat  passenger_count     tilecode  tilecode_res  \\\n",
       "0 -73.993896  40.750111                1  z10x301y384            10   \n",
       "1 -73.976425  40.739811                1  z10x301y384            10   \n",
       "2 -73.968704  40.754246                5  z10x301y384            10   \n",
       "3 -73.863060  40.769581                5  z10x301y384            10   \n",
       "4 -73.945541  40.779423                1  z10x301y384            10   \n",
       "\n",
       "                                            geometry  \n",
       "0  POLYGON ((-74.17969 40.71396, -73.82812 40.713...  \n",
       "1  POLYGON ((-74.17969 40.71396, -73.82812 40.713...  \n",
       "2  POLYGON ((-74.17969 40.71396, -73.82812 40.713...  \n",
       "3  POLYGON ((-74.17969 40.71396, -73.82812 40.713...  \n",
       "4  POLYGON ((-74.17969 40.71396, -73.82812 40.713...  "
      ]
     },
     "execution_count": 3,
     "metadata": {},
     "output_type": "execute_result"
    }
   ],
   "source": [
    "df = df.tilecode.tilecode2geo()\n",
    "df.head()"
   ]
  },
  {
   "cell_type": "markdown",
   "id": "a75d0385",
   "metadata": {},
   "source": [
    "### (Multi)Linestring/ (Multi)Polygon to Tilecode"
   ]
  },
  {
   "cell_type": "code",
   "execution_count": 4,
   "id": "12711ad2",
   "metadata": {},
   "outputs": [
    {
     "data": {
      "text/plain": [
       "<Axes: >"
      ]
     },
     "execution_count": 4,
     "metadata": {},
     "output_type": "execute_result"
    },
    {
     "data": {
      "image/png": "[encoded data removed]",
      "text/plain": [
       "<Figure size 640x480 with 1 Axes>"
      ]
     },
     "metadata": {},
     "output_type": "display_data"
    }
   ],
   "source": [
    "import geopandas as gpd\n",
    "from vgridpandas import geohashpandas\n",
    "\n",
    "gdf = gpd.read_file('https://raw.githubusercontent.com/opengeoshub/vopendata/refs/heads/main/shape/polygon.geojson')\n",
    "resolution = 18\n",
    "gdf_polyfill = gdf.tilecode.polyfill(resolution, predicate = \"intersects\", compact = True)\n",
    "gdf_polyfill = gdf_polyfill.tilecode.tilecode2geo(tilecode_column = \"tilecode\")\n",
    "gdf_polyfill.plot(edgecolor='white')"
   ]
  },
  {
   "cell_type": "markdown",
   "id": "880cd3e8",
   "metadata": {},
   "source": [
    "### Tilecode point binning"
   ]
  },
  {
   "cell_type": "code",
   "execution_count": 5,
   "id": "c1fa657c",
   "metadata": {},
   "outputs": [
    {
     "data": {
      "text/plain": [
       "<Axes: >"
      ]
     },
     "execution_count": 5,
     "metadata": {},
     "output_type": "execute_result"
    },
    {
     "data": {
      "image/png": "[encoded data removed]",
      "text/plain": [
       "<Figure size 640x480 with 2 Axes>"
      ]
     },
     "metadata": {},
     "output_type": "display_data"
    }
   ],
   "source": [
    "from vgridpandas import tilecodepandas\n",
    "import geopandas as gpd\n",
    "\n",
    "# df = pd.read_csv(\"https://raw.githubusercontent.com/opengeoshub/vopendata/refs/heads/main/csv/dist1_pois.csv\")\n",
    "df = gpd.read_file(\"https://raw.githubusercontent.com/opengeoshub/vopendata/refs/heads/main/shape/dist1_pois.geojson\")\n",
    "resolution = 18\n",
    "stats = \"count\"\n",
    "df_bin = df.tilecode.tilecodebin(resolution=resolution, stats = stats, \n",
    "                                # numeric_column=\"confidence\",\n",
    "                                # category_column=\"category\",\n",
    "                                return_geometry=True)\n",
    "df_bin.plot(        \n",
    "    column=stats,        # numeric column to base the colors on\n",
    "    cmap='Spectral_r',        # color scheme (matplotlib colormap)\n",
    "    legend=True,  \n",
    "    linewidth=0.2          # boundary width (optional)\n",
    ")"
   ]
  }
 ],
 "metadata": {
  "kernelspec": {
   "display_name": ".venv",
   "language": "python",
   "name": "python3"
  },
  "language_info": {
   "codemirror_mode": {
    "name": "ipython",
    "version": 3
   },
   "file_extension": ".py",
   "mimetype": "text/x-python",
   "name": "python",
   "nbconvert_exporter": "python",
   "pygments_lexer": "ipython3",
   "version": "3.12.11"
  }
 },
 "nbformat": 4,
 "nbformat_minor": 5
}
