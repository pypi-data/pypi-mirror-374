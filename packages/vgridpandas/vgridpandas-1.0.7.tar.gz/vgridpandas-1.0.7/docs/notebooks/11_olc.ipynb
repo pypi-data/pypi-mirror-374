{
 "cells": [
  {
   "cell_type": "markdown",
   "id": "0",
   "metadata": {},
   "source": [
    "## OLCPandas key features\n",
    "\n",
    "You can try out vgridpandas by using the cloud-computing platforms below without having to install anything on your computer:\n",
    "\n",
    "[![image](https://colab.research.google.com/assets/colab-badge.svg)](https://colab.research.google.com/github/opengeoshub/vgridpandas/blob/main/docs/notebooks/11_olc.ipynb)\n",
    "[![image](https://mybinder.org/badge_logo.svg)](https://mybinder.org/v2/gh/opengeoshub/vgridpandas/HEAD?filepath=docs/notebooks/11_olc.ipynb)\n",
    "[![image](https://studiolab.sagemaker.aws/studiolab.svg)](https://studiolab.sagemaker.aws/import/github/opengeoshub/vgridpandas/blob/main/docs/notebooks/11_olc.ipynb)\n",
    "[![image](https://jupyterlite.rtfd.io/en/latest/_static/badge.svg)](https://demo.gishub.vn/lab/index.html?path=notebooks/vgridpandas/11_olc.ipynb)\n",
    "\n",
    "Full VgridPandas DGGS documentation is available at [vgridpandas document](https://vgridpandas.gishub.vn).\n",
    "\n",
    "To work with Vgrid in Python or CLI, use [vgrid](https://pypi.org/project/vgrid/) package. Full Vgrid DGGS documentation is available at [vgrid document](https://vgrid.gishub.vn).\n",
    "\n",
    "To work with Vgrid DGGS in QGIS, install the [Vgrid Plugin](https://plugins.qgis.org/plugins/vgridtools/).\n",
    "\n",
    "To visualize DGGS in Maplibre GL JS, try the [vgrid-maplibre](https://www.npmjs.com/package/vgrid-maplibre) library.\n",
    "\n",
    "For an interactive demo, visit the [Vgrid Homepage](https://vgrid.vn)."
   ]
  },
  {
   "cell_type": "markdown",
   "id": "1",
   "metadata": {},
   "source": [
    "### Install vgridpandas\n",
    "Uncomment the following line to install [vgridpandas](https://pypi.org/project/vgridpandas/)."
   ]
  },
  {
   "cell_type": "code",
   "execution_count": 1,
   "id": "2",
   "metadata": {},
   "outputs": [],
   "source": [
    "# %pip install vgridpandas"
   ]
  },
  {
   "cell_type": "markdown",
   "id": "dc855c53",
   "metadata": {},
   "source": [
    "### Latlon to OLC"
   ]
  },
  {
   "cell_type": "code",
   "execution_count": 2,
   "id": "4",
   "metadata": {},
   "outputs": [
    {
     "data": {
      "text/html": [
       "<div>\n",
       "<style scoped>\n",
       "    .dataframe tbody tr th:only-of-type {\n",
       "        vertical-align: middle;\n",
       "    }\n",
       "\n",
       "    .dataframe tbody tr th {\n",
       "        vertical-align: top;\n",
       "    }\n",
       "\n",
       "    .dataframe thead th {\n",
       "        text-align: right;\n",
       "    }\n",
       "</style>\n",
       "<table border=\"1\" class=\"dataframe\">\n",
       "  <thead>\n",
       "    <tr style=\"text-align: right;\">\n",
       "      <th></th>\n",
       "      <th>lon</th>\n",
       "      <th>lat</th>\n",
       "      <th>passenger_count</th>\n",
       "      <th>olc</th>\n",
       "      <th>olc_res</th>\n",
       "    </tr>\n",
       "  </thead>\n",
       "  <tbody>\n",
       "    <tr>\n",
       "      <th>0</th>\n",
       "      <td>-73.993896</td>\n",
       "      <td>40.750111</td>\n",
       "      <td>1</td>\n",
       "      <td>87G8Q224+2C</td>\n",
       "      <td>10</td>\n",
       "    </tr>\n",
       "    <tr>\n",
       "      <th>1</th>\n",
       "      <td>-73.976425</td>\n",
       "      <td>40.739811</td>\n",
       "      <td>1</td>\n",
       "      <td>87G8P2QF+WC</td>\n",
       "      <td>10</td>\n",
       "    </tr>\n",
       "    <tr>\n",
       "      <th>2</th>\n",
       "      <td>-73.968704</td>\n",
       "      <td>40.754246</td>\n",
       "      <td>5</td>\n",
       "      <td>87G8Q23J+MG</td>\n",
       "      <td>10</td>\n",
       "    </tr>\n",
       "    <tr>\n",
       "      <th>3</th>\n",
       "      <td>-73.863060</td>\n",
       "      <td>40.769581</td>\n",
       "      <td>5</td>\n",
       "      <td>87G8Q49P+RQ</td>\n",
       "      <td>10</td>\n",
       "    </tr>\n",
       "    <tr>\n",
       "      <th>4</th>\n",
       "      <td>-73.945541</td>\n",
       "      <td>40.779423</td>\n",
       "      <td>1</td>\n",
       "      <td>87G8Q3H3+QQ</td>\n",
       "      <td>10</td>\n",
       "    </tr>\n",
       "  </tbody>\n",
       "</table>\n",
       "</div>"
      ],
      "text/plain": [
       "         lon        lat  passenger_count          olc  olc_res\n",
       "0 -73.993896  40.750111                1  87G8Q224+2C       10\n",
       "1 -73.976425  40.739811                1  87G8P2QF+WC       10\n",
       "2 -73.968704  40.754246                5  87G8Q23J+MG       10\n",
       "3 -73.863060  40.769581                5  87G8Q49P+RQ       10\n",
       "4 -73.945541  40.779423                1  87G8Q3H3+QQ       10"
      ]
     },
     "execution_count": 2,
     "metadata": {},
     "output_type": "execute_result"
    }
   ],
   "source": [
    "import pandas as pd\n",
    "from vgridpandas import olcpandas       \n",
    "df = pd.read_csv('https://github.com/uber-web/kepler.gl-data/raw/master/nyctrips/data.csv')\n",
    "df = df.head(100)\n",
    "df = df.rename({'pickup_longitude': 'lon', 'pickup_latitude': 'lat'}, axis=1)[['lon', 'lat', 'passenger_count']]\n",
    "resolution = 10\n",
    "df = df.olc.latlon2olc(resolution)\n",
    "df.head()"
   ]
  },
  {
   "cell_type": "markdown",
   "id": "dc45a732",
   "metadata": {},
   "source": [
    "### OLC to geo boundary"
   ]
  },
  {
   "cell_type": "code",
   "execution_count": 3,
   "id": "5fbf48a2",
   "metadata": {},
   "outputs": [
    {
     "data": {
      "text/html": [
       "<div>\n",
       "<style scoped>\n",
       "    .dataframe tbody tr th:only-of-type {\n",
       "        vertical-align: middle;\n",
       "    }\n",
       "\n",
       "    .dataframe tbody tr th {\n",
       "        vertical-align: top;\n",
       "    }\n",
       "\n",
       "    .dataframe thead th {\n",
       "        text-align: right;\n",
       "    }\n",
       "</style>\n",
       "<table border=\"1\" class=\"dataframe\">\n",
       "  <thead>\n",
       "    <tr style=\"text-align: right;\">\n",
       "      <th></th>\n",
       "      <th>lon</th>\n",
       "      <th>lat</th>\n",
       "      <th>passenger_count</th>\n",
       "      <th>olc</th>\n",
       "      <th>olc_res</th>\n",
       "      <th>geometry</th>\n",
       "    </tr>\n",
       "  </thead>\n",
       "  <tbody>\n",
       "    <tr>\n",
       "      <th>0</th>\n",
       "      <td>-73.993896</td>\n",
       "      <td>40.750111</td>\n",
       "      <td>1</td>\n",
       "      <td>87G8Q224+2C</td>\n",
       "      <td>10</td>\n",
       "      <td>POLYGON ((-73.994 40.75, -73.99388 40.75, -73....</td>\n",
       "    </tr>\n",
       "    <tr>\n",
       "      <th>1</th>\n",
       "      <td>-73.976425</td>\n",
       "      <td>40.739811</td>\n",
       "      <td>1</td>\n",
       "      <td>87G8P2QF+WC</td>\n",
       "      <td>10</td>\n",
       "      <td>POLYGON ((-73.9765 40.73975, -73.97638 40.7397...</td>\n",
       "    </tr>\n",
       "    <tr>\n",
       "      <th>2</th>\n",
       "      <td>-73.968704</td>\n",
       "      <td>40.754246</td>\n",
       "      <td>5</td>\n",
       "      <td>87G8Q23J+MG</td>\n",
       "      <td>10</td>\n",
       "      <td>POLYGON ((-73.96875 40.75412, -73.96862 40.754...</td>\n",
       "    </tr>\n",
       "    <tr>\n",
       "      <th>3</th>\n",
       "      <td>-73.863060</td>\n",
       "      <td>40.769581</td>\n",
       "      <td>5</td>\n",
       "      <td>87G8Q49P+RQ</td>\n",
       "      <td>10</td>\n",
       "      <td>POLYGON ((-73.86312 40.7695, -73.863 40.7695, ...</td>\n",
       "    </tr>\n",
       "    <tr>\n",
       "      <th>4</th>\n",
       "      <td>-73.945541</td>\n",
       "      <td>40.779423</td>\n",
       "      <td>1</td>\n",
       "      <td>87G8Q3H3+QQ</td>\n",
       "      <td>10</td>\n",
       "      <td>POLYGON ((-73.94562 40.77938, -73.9455 40.7793...</td>\n",
       "    </tr>\n",
       "  </tbody>\n",
       "</table>\n",
       "</div>"
      ],
      "text/plain": [
       "         lon        lat  passenger_count          olc  olc_res  \\\n",
       "0 -73.993896  40.750111                1  87G8Q224+2C       10   \n",
       "1 -73.976425  40.739811                1  87G8P2QF+WC       10   \n",
       "2 -73.968704  40.754246                5  87G8Q23J+MG       10   \n",
       "3 -73.863060  40.769581                5  87G8Q49P+RQ       10   \n",
       "4 -73.945541  40.779423                1  87G8Q3H3+QQ       10   \n",
       "\n",
       "                                            geometry  \n",
       "0  POLYGON ((-73.994 40.75, -73.99388 40.75, -73....  \n",
       "1  POLYGON ((-73.9765 40.73975, -73.97638 40.7397...  \n",
       "2  POLYGON ((-73.96875 40.75412, -73.96862 40.754...  \n",
       "3  POLYGON ((-73.86312 40.7695, -73.863 40.7695, ...  \n",
       "4  POLYGON ((-73.94562 40.77938, -73.9455 40.7793...  "
      ]
     },
     "execution_count": 3,
     "metadata": {},
     "output_type": "execute_result"
    }
   ],
   "source": [
    "df = df.olc.olc2geo()\n",
    "df.head()\n"
   ]
  },
  {
   "cell_type": "markdown",
   "id": "17f16b04",
   "metadata": {},
   "source": [
    "### (Multi)Linestring/ (Multi)Polygon to OLC"
   ]
  },
  {
   "cell_type": "code",
   "execution_count": 13,
   "id": "a637ea55",
   "metadata": {},
   "outputs": [
    {
     "data": {
      "text/plain": [
       "<Axes: >"
      ]
     },
     "execution_count": 13,
     "metadata": {},
     "output_type": "execute_result"
    },
    {
     "data": {
      "image/png": "[encoded data removed]",
      "text/plain": [
       "<Figure size 640x480 with 1 Axes>"
      ]
     },
     "metadata": {},
     "output_type": "display_data"
    }
   ],
   "source": [
    "import geopandas as gpd\n",
    "from vgridpandas import olcpandas\n",
    "\n",
    "gdf = gpd.read_file('https://raw.githubusercontent.com/opengeoshub/vopendata/refs/heads/main/shape/polygon2.geojson')\n",
    "resolution = 10\n",
    "gdf_polyfill = gdf.olc.polyfill(resolution, predicate = \"intersects\", compact = True)\n",
    "gdf_polyfill.head()\n",
    "gdf_polyfill = gdf_polyfill.olc.olc2geo()\n",
    "gdf_polyfill.plot(edgecolor = \"white\")"
   ]
  },
  {
   "cell_type": "markdown",
   "id": "86b61e78",
   "metadata": {},
   "source": [
    "### OLC point binning"
   ]
  },
  {
   "cell_type": "code",
   "execution_count": 5,
   "id": "2ec554ad",
   "metadata": {},
   "outputs": [
    {
     "data": {
      "text/plain": [
       "<Axes: >"
      ]
     },
     "execution_count": 5,
     "metadata": {},
     "output_type": "execute_result"
    },
    {
     "data": {
      "image/png": "[encoded data removed]",
      "text/plain": [
       "<Figure size 640x480 with 2 Axes>"
      ]
     },
     "metadata": {},
     "output_type": "display_data"
    }
   ],
   "source": [
    "from vgridpandas import olcpandas\n",
    "# df = pd.read_csv(\"https://raw.githubusercontent.com/opengeoshub/vopendata/refs/heads/main/csv/dist1_pois.csv\")\n",
    "df = gpd.read_file(\"https://raw.githubusercontent.com/opengeoshub/vopendata/refs/heads/main/shape/dist1_pois.geojson\")\n",
    "resolution = 8\n",
    "stats = \"count\"\n",
    "df_bin = df.olc.olcbin(resolution=resolution, stats = stats, \n",
    "                                # numeric_column=\"confidence\",\n",
    "                                # category_column=\"category\",\n",
    "                                return_geometry=True)\n",
    "df_bin.plot(        \n",
    "    column=stats,        # numeric column to base the colors on\n",
    "    cmap='Spectral_r',        # color scheme (matplotlib colormap)\n",
    "    legend=True,  \n",
    "    linewidth=0.2          # boundary width (optional)\n",
    ")\n"
   ]
  }
 ],
 "metadata": {
  "kernelspec": {
   "display_name": ".venv",
   "language": "python",
   "name": "python3"
  },
  "language_info": {
   "codemirror_mode": {
    "name": "ipython",
    "version": 3
   },
   "file_extension": ".py",
   "mimetype": "text/x-python",
   "name": "python",
   "nbconvert_exporter": "python",
   "pygments_lexer": "ipython3",
   "version": "3.12.11"
  }
 },
 "nbformat": 4,
 "nbformat_minor": 5
}
