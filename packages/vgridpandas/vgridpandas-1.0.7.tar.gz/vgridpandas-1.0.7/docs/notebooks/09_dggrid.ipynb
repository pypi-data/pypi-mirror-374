{
 "cells": [
  {
   "cell_type": "markdown",
   "id": "0",
   "metadata": {},
   "source": [
    "## DGGRIDPandas key features\n",
    "\n",
    "You can try out vgridpandas by using the cloud-computing platforms below without having to install anything on your computer:\n",
    "\n",
    "[![image](https://colab.research.google.com/assets/colab-badge.svg)](https://colab.research.google.com/github/opengeoshub/vgridpandas/blob/main/docs/notebooks/09_dggrid.ipynb)\n",
    "[![image](https://mybinder.org/badge_logo.svg)](https://mybinder.org/v2/gh/opengeoshub/vgridpandas/HEAD?filepath=docs/notebooks/09_dggrid.ipynb)\n",
    "[![image](https://studiolab.sagemaker.aws/studiolab.svg)](https://studiolab.sagemaker.aws/import/github/opengeoshub/vgridpandas/blob/main/docs/notebooks/09_dggrid.ipynb)\n",
    "[![image](https://jupyterlite.rtfd.io/en/latest/_static/badge.svg)](https://demo.gishub.vn/lab/index.html?path=notebooks/vgridpandas/09_dggrid.ipynb)\n",
    "\n",
    "Full VgridPandas DGGS documentation is available at [vgridpandas document](https://vgridpandas.gishub.vn).\n",
    "\n",
    "To work with Vgrid in Python or CLI, use [vgrid](https://pypi.org/project/vgrid/) package. Full Vgrid DGGS documentation is available at [vgrid document](https://vgrid.gishub.vn).\n",
    "\n",
    "To work with Vgrid DGGS in QGIS, install the [Vgrid Plugin](https://plugins.qgis.org/plugins/vgridtools/).\n",
    "\n",
    "To visualize DGGS in Maplibre GL JS, try the [vgrid-maplibre](https://www.npmjs.com/package/vgrid-maplibre) library.\n",
    "\n",
    "For an interactive demo, visit the [Vgrid Homepage](https://vgrid.vn)."
   ]
  },
  {
   "cell_type": "markdown",
   "id": "1",
   "metadata": {},
   "source": [
    "### Install vgridpandas\n",
    "Uncomment the following line to install [vgridpandas](https://pypi.org/project/vgridpandas/)."
   ]
  },
  {
   "cell_type": "code",
   "execution_count": 1,
   "id": "2",
   "metadata": {},
   "outputs": [],
   "source": [
    "# %pip install vgridpandas"
   ]
  },
  {
   "cell_type": "markdown",
   "id": "77fac384",
   "metadata": {},
   "source": [
    "### Download a portable version of DGGRID and start a DGGRID instance"
   ]
  },
  {
   "cell_type": "code",
   "execution_count": 2,
   "id": "1007734e",
   "metadata": {},
   "outputs": [],
   "source": [
    "from dggrid4py import tool, DGGRIDv7\n",
    "\n",
    "dggrid_exec = tool.get_portable_executable(\".\")\n",
    "\n",
    "dggrid_instance = DGGRIDv7(\n",
    "    executable=dggrid_exec,\n",
    "    working_dir=\".\",\n",
    "    capture_logs=False,\n",
    "    silent=True,\n",
    "    has_gdal=False,\n",
    "    tmp_geo_out_legacy=True,\n",
    "    debug=False,\n",
    ")"
   ]
  },
  {
   "cell_type": "markdown",
   "id": "dc855c53",
   "metadata": {},
   "source": [
    "### Latlon to DGGRID"
   ]
  },
  {
   "cell_type": "code",
   "execution_count": null,
   "id": "4",
   "metadata": {},
   "outputs": [],
   "source": [
    "import pandas as pd\n",
    "from vgridpandas import dggridpandas\n",
    "df = pd.read_csv('https://github.com/uber-web/kepler.gl-data/raw/master/nyctrips/data.csv')\n",
    "df = df.head(100)\n",
    "df = df.rename({'pickup_longitude': 'lon', 'pickup_latitude': 'lat'}, axis=1)[['lon', 'lat', 'passenger_count']]\n",
    "resolution = 18\n",
    "dggs_type = \"ISEA3H\"  # choose one from ['CUSTOM', 'SUPERFUND', 'PLANETRISK', 'ISEA3H', 'ISEA4H', 'ISEA4T', 'ISEA4D', 'ISEA43H', 'ISEA7H', 'IGEO7', 'FULLER3H', 'FULLER4H', 'FULLER4T', 'FULLER4D', 'FULLER43H', 'FULLER7H']\n",
    "address_type = \"SEQNUM\"\n",
    "# \"Q2DI\",  # quad number and (i, j) coordinates on that quad\n",
    "# \"SEQNUM\",  # DGGS index - linear address (1 to size-of-DGG), not supported for parameter input_address_type if dggs_aperture_type is SEQUENCE\n",
    "# \"PLANE\",  # (x, y) coordinates on unfolded ISEA plane,  only supported for parameter output_address_type;\n",
    "# \"Q2DD\",  # quad number and (x, y) coordinates on that quad\n",
    "# \"PROJTRI\",  # PROJTRI - triangle number and (x, y) coordinates within that triangle on the ISEA plane\n",
    "# \"VERTEX2DD\",  # vertex number, triangle number, and (x, y) coordinates on ISEA plane\n",
    "# \"Z3\",  # hexadecimal characters index system Z3 especially usefull for ISEA3H\n",
    "# \"Z3_STRING\",  # numerical digits representation of Z3 (as characters, not an integer)\n",
    "# \"Z7\",  # hexadecimal characters index system Z7 especially usefull for ISEA7H, also in preset IGEO7\n",
    "# \"Z7_STRING\",  # numerical digits representation of Z7 (as characters, not an integer)\n",
    "# \"ZORDER\",  # index system ZORDER especially usefull for ISEA3H, ISEA4H and mixed aperture\n",
    "# \"ZORDER_STRING\",  # numerical digits representation of ZORDER (as characters, not an integer)\n",
    "df = df.dggrid.latlon2dggrid(dggrid_instance,dggs_type, resolution,set_index=False, address_type=address_type)\n",
    "df.head()"
   ]
  },
  {
   "cell_type": "markdown",
   "id": "dc45a732",
   "metadata": {},
   "source": [
    "### DGGRID to geo boundary"
   ]
  },
  {
   "cell_type": "code",
   "execution_count": null,
   "id": "5fbf48a2",
   "metadata": {},
   "outputs": [],
   "source": [
    "df = df.dggrid.dggrid2geo(dggrid_instance, dggs_type, resolution)\n",
    "df.head()"
   ]
  }
 ],
 "metadata": {
  "kernelspec": {
   "display_name": ".venv",
   "language": "python",
   "name": "python3"
  },
  "language_info": {
   "codemirror_mode": {
    "name": "ipython",
    "version": 3
   },
   "file_extension": ".py",
   "mimetype": "text/x-python",
   "name": "python",
   "nbconvert_exporter": "python",
   "pygments_lexer": "ipython3",
   "version": "3.12.11"
  }
 },
 "nbformat": 4,
 "nbformat_minor": 5
}
