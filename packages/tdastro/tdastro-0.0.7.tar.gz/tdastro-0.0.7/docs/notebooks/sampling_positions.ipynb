{
 "cells": [
  {
   "cell_type": "markdown",
   "metadata": {},
   "source": [
    "# Sampling (RA, dec)\n",
    "\n",
    "TDAstro provides multiple mechanisms for sampling (RA, dec). In this notebook we discuss several of the approaches and their relative tradeoffs."
   ]
  },
  {
   "cell_type": "code",
   "execution_count": null,
   "metadata": {},
   "outputs": [],
   "source": [
    "import matplotlib.pyplot as plt\n",
    "import numpy as np\n",
    "\n",
    "from tdastro.math_nodes.ra_dec_sampler import (\n",
    "    ObsTableRADECSampler,\n",
    "    ObsTableUniformRADECSampler,\n",
    "    UniformRADEC,\n",
    ")\n",
    "from tdastro.obstable.opsim import OpSim"
   ]
  },
  {
   "cell_type": "markdown",
   "metadata": {},
   "source": [
    "## Uniform Sampling\n",
    "\n",
    "The simplest sampling approach is to uniformly sample (RA, dec) from the unit sphere. The `UniformRADEC` node does exactly this."
   ]
  },
  {
   "cell_type": "code",
   "execution_count": null,
   "metadata": {},
   "outputs": [],
   "source": [
    "uniform_sampler = UniformRADEC(node_label=\"uniform\")\n",
    "(ra, dec) = uniform_sampler.generate(num_samples=500)\n",
    "\n",
    "plt.scatter(ra, dec, s=1)\n",
    "plt.show()"
   ]
  },
  {
   "cell_type": "markdown",
   "metadata": {},
   "source": [
    "However this approach has limited use when simulating a specific survey. Depending on the survey's coverage, a significant number of (RA, dec) points may fall outside the viewing area.\n",
    "\n",
    "## Sampling from a Survey\n",
    "\n",
    "We can sample (RA, dec) coordinates from a survey (an `ObsTable` object) in two ways. First we could sample a pointing from the survey and then a point from that field of view. Second, we could sample uniformly from the region coverage by the survey.\n",
    "\n",
    "We consider each of these approaches below.\n",
    "\n",
    "### Sampling Pointings\n",
    "\n",
    "Sampling pointings from the survey provides a visit-weighted sampling of positions covered by the survey. For concreteness let's start with a survey that visits two fields: one centered at (45.0, -15.0) and the other at (315.0, 15.0). The first field is visited once and the second field is visited four times on four consecutive nights."
   ]
  },
  {
   "cell_type": "code",
   "execution_count": null,
   "metadata": {},
   "outputs": [],
   "source": [
    "values = {\n",
    "    \"observationStartMJD\": np.array([0.0, 1.0, 2.0, 3.0, 4.0]),\n",
    "    \"fieldRA\": np.array([45.0, 315.0, 315.0, 315.0, 315.0]),\n",
    "    \"fieldDec\": np.array([-15.0, 15.0, 15.0, 15.0, 15.0]),\n",
    "    \"zp_nJy\": np.ones(5),\n",
    "}\n",
    "opsim = OpSim(values, radius=30.0)"
   ]
  },
  {
   "cell_type": "markdown",
   "metadata": {},
   "source": [
    "We can sample from these pointings using the `ObsTableRADECSampler` node."
   ]
  },
  {
   "cell_type": "code",
   "execution_count": null,
   "metadata": {},
   "outputs": [],
   "source": [
    "pointing_sampler = ObsTableRADECSampler(opsim, radius=30.0, node_label=\"opsim\")\n",
    "(ra, dec, time) = pointing_sampler.generate(num_samples=100)\n",
    "\n",
    "plt.scatter(ra, dec, s=1)\n",
    "plt.show()"
   ]
  },
  {
   "cell_type": "markdown",
   "metadata": {},
   "source": [
    "As we can see, the field centered in the Northern hemisphere is sampled significantly more than the one centered in the Southern hemisphere.\n",
    "\n",
    "### Sampling Coverage\n",
    "\n",
    "If we instead would like to sample uniformly from the area covered by the survey, we have two options. The `ObsTableUniformRADECSampler` uses rejection sampling to generate positions. This approach can be slow for surveys with small coverage. However, since it requires no pre-computation, it is a viable option for generating a small number of samples from a survey with high coverage."
   ]
  },
  {
   "cell_type": "code",
   "execution_count": null,
   "metadata": {},
   "outputs": [],
   "source": [
    "coverage_sampler1 = ObsTableUniformRADECSampler(opsim, radius=30.0, node_label=\"coverage1\")\n",
    "(ra, dec) = coverage_sampler1.generate(num_samples=100)\n",
    "\n",
    "plt.scatter(ra, dec, s=1)\n",
    "plt.show()"
   ]
  },
  {
   "cell_type": "markdown",
   "metadata": {},
   "source": [
    "## Linking (RA, dec) to Models\n",
    "\n",
    "To be useful, the (RA, dec) locations that we generate must be linked into our model objects. To support this all the generators above produce a pair of named outputs \"ra\" and \"dec\". This means we can use TDAstro's reference functionality to set the object's position based on the samples."
   ]
  },
  {
   "cell_type": "code",
   "execution_count": null,
   "metadata": {},
   "outputs": [],
   "source": [
    "from tdastro.models.basic_models import ConstantSEDModel\n",
    "\n",
    "model = ConstantSEDModel(\n",
    "    ra=uniform_sampler.ra,\n",
    "    dec=uniform_sampler.dec,\n",
    "    brightness=100.0,\n",
    "    node_label=\"source\",\n",
    ")\n",
    "state = model.sample_parameters(num_samples=10)\n",
    "print(state)"
   ]
  }
 ],
 "metadata": {
  "kernelspec": {
   "display_name": "tdastro",
   "language": "python",
   "name": "python3"
  },
  "language_info": {
   "codemirror_mode": {
    "name": "ipython",
    "version": 3
   },
   "file_extension": ".py",
   "mimetype": "text/x-python",
   "name": "python",
   "nbconvert_exporter": "python",
   "pygments_lexer": "ipython3",
   "version": "3.10.4"
  }
 },
 "nbformat": 4,
 "nbformat_minor": 2
}
