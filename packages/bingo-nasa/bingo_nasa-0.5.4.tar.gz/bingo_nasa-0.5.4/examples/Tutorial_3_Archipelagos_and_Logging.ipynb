{
 "cells": [
  {
   "cell_type": "markdown",
   "id": "c76bd51a",
   "metadata": {},
   "source": [
    "# Bingo Tutorial 3: Archipelagos and Logging\n",
    "\n",
    "## Goal: Use an archipelago in evolution to find a list of numbers with zero magnitude. Also use logging to track the progress of evolution."
   ]
  },
  {
   "cell_type": "markdown",
   "id": "9c6fad38",
   "metadata": {},
   "source": [
    "### Pre-Requisites\n",
    "\n",
    "It is assumed that the reader is familiar with the setup of the [second tutorial](tutorial_2.html) before continuing."
   ]
  },
  {
   "cell_type": "markdown",
   "id": "ca93813e",
   "metadata": {},
   "source": [
    "### Zero Min Problem Setup\n",
    "\n",
    "We will be working with the same problem from the second tutorial; finding a list of numbers with zero magnitude through genetic optimization. So, the setup is roughly the same."
   ]
  },
  {
   "cell_type": "markdown",
   "id": "778c820a",
   "metadata": {},
   "source": [
    "#### Chromosome Generator"
   ]
  },
  {
   "cell_type": "code",
   "execution_count": null,
   "id": "2e6a610a",
   "metadata": {},
   "outputs": [],
   "source": [
    "import numpy as np\n",
    "from bingo.chromosomes.multiple_floats import MultipleFloatChromosomeGenerator\n",
    "\n",
    "VALUE_LIST_SIZE = 8\n",
    "np.random.seed(0)\n",
    "\n",
    "def get_random_float():\n",
    "    return np.random.random_sample()\n",
    "\n",
    "generator = MultipleFloatChromosomeGenerator(get_random_float, VALUE_LIST_SIZE, [1, 3, 4])"
   ]
  },
  {
   "cell_type": "markdown",
   "id": "b7f30dea",
   "metadata": {},
   "source": [
    "#### Chromosome Variation"
   ]
  },
  {
   "cell_type": "code",
   "execution_count": null,
   "id": "3bef8aae",
   "metadata": {},
   "outputs": [],
   "source": [
    "from bingo.chromosomes.multiple_values import SinglePointCrossover\n",
    "from bingo.chromosomes.multiple_values import SinglePointMutation\n",
    "\n",
    "crossover = SinglePointCrossover()\n",
    "mutation = SinglePointMutation(get_random_float)"
   ]
  },
  {
   "cell_type": "markdown",
   "id": "a9f599f2",
   "metadata": {},
   "source": [
    "#### Fitness and Evaluation"
   ]
  },
  {
   "cell_type": "code",
   "execution_count": null,
   "id": "e10c62be",
   "metadata": {},
   "outputs": [],
   "source": [
    "from bingo.evaluation.fitness_function import FitnessFunction\n",
    "from bingo.local_optimizers.scipy_optimizer import ScipyOptimizer\n",
    "from bingo.local_optimizers.local_opt_fitness import LocalOptFitnessFunction\n",
    "from bingo.evaluation.evaluation import Evaluation\n",
    "\n",
    "class ZeroMinFitnessFunction(FitnessFunction):\n",
    "    def __call__(self, individual):\n",
    "        return np.linalg.norm(individual.values)\n",
    "\n",
    "                              \n",
    "fitness = ZeroMinFitnessFunction()\n",
    "optimizer = ScipyOptimizer(fitness)\n",
    "local_opt_fitness = LocalOptFitnessFunction(fitness, optimizer)\n",
    "evaluator = Evaluation(local_opt_fitness) # evaluates a population (list of chromosomes)"
   ]
  },
  {
   "cell_type": "markdown",
   "id": "80467d71",
   "metadata": {},
   "source": [
    "#### Selection"
   ]
  },
  {
   "cell_type": "code",
   "execution_count": null,
   "id": "8933fd5b",
   "metadata": {},
   "outputs": [],
   "source": [
    "from bingo.selection.tournament import Tournament\n",
    "\n",
    "GOAL_POPULATION_SIZE = 25\n",
    "\n",
    "selection = Tournament(GOAL_POPULATION_SIZE)"
   ]
  },
  {
   "cell_type": "markdown",
   "id": "c6f0d566",
   "metadata": {},
   "source": [
    "#### Evolutionary Algorithm"
   ]
  },
  {
   "cell_type": "code",
   "execution_count": null,
   "id": "c86a77ac",
   "metadata": {},
   "outputs": [],
   "source": [
    "from bingo.evolutionary_algorithms.mu_plus_lambda import MuPlusLambda\n",
    "\n",
    "MUTATION_PROBABILITY = 0.4\n",
    "CROSSOVER_PROBABILITY = 0.4\n",
    "NUM_OFFSPRING = GOAL_POPULATION_SIZE\n",
    "\n",
    "evo_alg = MuPlusLambda(evaluator,\n",
    "                       selection,\n",
    "                       crossover,\n",
    "                       mutation,\n",
    "                       CROSSOVER_PROBABILITY,\n",
    "                       MUTATION_PROBABILITY,\n",
    "                       NUM_OFFSPRING)"
   ]
  },
  {
   "cell_type": "markdown",
   "id": "ddc1f8ff",
   "metadata": {},
   "source": [
    "#### Hall of Fame"
   ]
  },
  {
   "cell_type": "code",
   "execution_count": null,
   "id": "edfdc3fc",
   "metadata": {},
   "outputs": [],
   "source": [
    "from bingo.stats.hall_of_fame import HallOfFame\n",
    "\n",
    "def similar_mfcs(mfc_1, mfc_2):\n",
    "    \"\"\"identifies if two MultpleFloatChromosomes have similar values\"\"\"\n",
    "    difference_in_values = 0\n",
    "    for i, j in zip(mfc_1.values, mfc_2.values):\n",
    "        difference_in_values += abs(i - j)\n",
    "    return difference_in_values < 1e-4\n",
    "\n",
    "hof = HallOfFame(max_size=5, similarity_function=similar_mfcs)"
   ]
  },
  {
   "cell_type": "markdown",
   "id": "429ba9d8",
   "metadata": {},
   "source": [
    "### Evolutionary Optimizer: Archipelago\n",
    "\n",
    "In this experiment, we will use a different evolutionary optimizer than tutorial 2. Tutorial 2 uses an `Island` to coordinate the evolutionary process. However, we will be using an `Archipelago`, to do the evolution. An `Archipelago` is an `EvolutionaryOptimizer` (an object that starts and progresses the evolutionary process) which performs evolution on multiple `Island`s and periodically will migrate the populations of randomly selected pairs of `Island`s.\n",
    "\n",
    "There are currently two `Archipelago`s implemented in Bingo: a `SerialArchipelago` which performs evolution on islands consecutively, and a `ParallelArchipelago` which will perform evolution on each island in parallel.\n",
    "\n",
    "Here we'll be using a `SerialArchipelago`, which takes an `Island` to use in the `Archipelago`, the total number of islands in the `Archipelago`, and an optional `HallOfFame`."
   ]
  },
  {
   "cell_type": "markdown",
   "id": "4d0b30af",
   "metadata": {},
   "source": [
    "#### Setting Up the Island\n",
    "\n",
    "We can setup an `Island` in the same way we did in tutorial 2, but note that we're leaving the `HallOfFame` out in favor of putting it in the `Archipelago`."
   ]
  },
  {
   "cell_type": "code",
   "execution_count": null,
   "id": "f5c55a6d",
   "metadata": {},
   "outputs": [],
   "source": [
    "from bingo.evolutionary_optimizers.island import Island\n",
    "\n",
    "POPULATION_SIZE = 10\n",
    "\n",
    "island = Island(evo_alg, generator, POPULATION_SIZE)"
   ]
  },
  {
   "cell_type": "markdown",
   "id": "0ed39e7b",
   "metadata": {},
   "source": [
    "#### Setting Up the Archipelago\n",
    "\n",
    "As mentioned before, we're using a `SerialArchipelago` which requires an `Island` and optionally takes a total number of `Island`s and `HallOfFame`."
   ]
  },
  {
   "cell_type": "code",
   "execution_count": null,
   "id": "d267f475",
   "metadata": {},
   "outputs": [],
   "source": [
    "from bingo.evolutionary_optimizers.serial_archipelago import SerialArchipelago\n",
    "\n",
    "archipelago = SerialArchipelago(island, num_islands=4, hall_of_fame=hof)"
   ]
  },
  {
   "cell_type": "markdown",
   "id": "7e4c3d9b",
   "metadata": {},
   "source": [
    "### Logging\n",
    "\n",
    "Before we start evolution, we can setup a log using `configure_logging` to log the progress of evolution. `configure_logging` takes an optional `verbosity` (\"quiet\", \"standard\", \"detailed\", \"debug\", or an integer (0 - 100) that corresponds to typical python log level); an optional `module` which will show a module's name when logging output if set to `True`; an optional `timestamp` which will show the time stamp on each log entry if set to `True`; an optional `stats_file` which is a str of the path to a file that will be used to log evolution stats; and an optional `logfile` which is a str of the path of a file that will be used for non-stats logs."
   ]
  },
  {
   "cell_type": "code",
   "execution_count": null,
   "id": "6f68381c",
   "metadata": {},
   "outputs": [],
   "source": [
    "import tempfile\n",
    "from bingo.util.log import configure_logging\n",
    "\n",
    "temp_file = tempfile.NamedTemporaryFile(mode=\"w+\", delete=False)\n",
    "# close file so we can use it for logging\n",
    "temp_file.close()\n",
    "\n",
    "configure_logging(verbosity=\"standard\", logfile=temp_file.name)"
   ]
  },
  {
   "cell_type": "markdown",
   "id": "94311787",
   "metadata": {},
   "source": [
    "You can also use Python's standard logging module for logging. See the [logging module's docs](https://docs.python.org/3/library/logging.html) for more details."
   ]
  },
  {
   "cell_type": "markdown",
   "id": "0f4be108",
   "metadata": {},
   "source": [
    "### Evolution\n",
    "\n",
    "As mentioned in the previous tutorial, there are two mechanisms for performing evolution in Bingo. An `Archipelago` can be evolved in the same way as an `Island`, either by\n",
    "\n",
    "1) Manually stepping through a set number of generations"
   ]
  },
  {
   "cell_type": "code",
   "execution_count": null,
   "id": "320e6b22",
   "metadata": {},
   "outputs": [],
   "source": [
    "print(\"Archipelago age:\", archipelago.generational_age,\n",
    "      \" with best fitness:\", archipelago.get_best_fitness())\n",
    "\n",
    "archipelago.evolve(num_generations=10)\n",
    "\n",
    "print(\"Archipelago age:\", archipelago.generational_age,\n",
    "      \" with best fitness:\", archipelago.get_best_fitness())"
   ]
  },
  {
   "cell_type": "markdown",
   "id": "876ff6b2",
   "metadata": {},
   "source": [
    "or by\n",
    "\n",
    "2) Evolving until convergence criteria are met"
   ]
  },
  {
   "cell_type": "code",
   "execution_count": null,
   "id": "8e27afc2",
   "metadata": {},
   "outputs": [],
   "source": [
    "archipelago.evolve_until_convergence(max_generations=1000,\n",
    "                                fitness_threshold=0.05)\n",
    "\n",
    "print(\"Archipelago age:\", archipelago.generational_age,\n",
    "      \" with best fitness:\", archipelago.get_best_fitness(), \"\\n\")\n",
    "print(\"Best indv: \", archipelago.get_best_individual())"
   ]
  },
  {
   "cell_type": "markdown",
   "id": "3273a07a",
   "metadata": {},
   "source": [
    "### Getting the Best Individuals\n",
    "\n",
    "After evolution is finished, we can use the `HallOfFame` in the same way as in the previous tutorial."
   ]
  },
  {
   "cell_type": "code",
   "execution_count": null,
   "id": "51d647a9",
   "metadata": {},
   "outputs": [],
   "source": [
    "print(\"RANK      FITNESS\")\n",
    "for i, member in enumerate(hof):\n",
    "    print(\" \", i, \" \", member.fitness)"
   ]
  },
  {
   "cell_type": "markdown",
   "id": "13b18563",
   "metadata": {},
   "source": [
    "### Viewing the Log\n",
    "\n",
    "We can view the contents of our log to see more detailed information on what happened during the evolution."
   ]
  },
  {
   "cell_type": "code",
   "execution_count": null,
   "id": "d494685a",
   "metadata": {},
   "outputs": [],
   "source": [
    "with open(temp_file.name, \"r\") as f:\n",
    "    print(f.read())"
   ]
  },
  {
   "cell_type": "markdown",
   "id": "1a78c059",
   "metadata": {},
   "source": [
    "Finally, let's delete the log to cleanup (specific to a temporary file)."
   ]
  },
  {
   "cell_type": "code",
   "execution_count": null,
   "id": "9382d841",
   "metadata": {},
   "outputs": [],
   "source": [
    "import os\n",
    "import logging\n",
    "\n",
    "# stop using temp file\n",
    "logger = logging.getLogger()\n",
    "logger.handlers = []\n",
    "\n",
    "temp_file.close()\n",
    "os.unlink(temp_file.name)"
   ]
  },
  {
   "cell_type": "markdown",
   "id": "c7455876",
   "metadata": {},
   "source": [
    "### Animation of Evolution"
   ]
  },
  {
   "cell_type": "code",
   "execution_count": null,
   "id": "9e99403b",
   "metadata": {},
   "outputs": [],
   "source": [
    "# Reinitialize and rerun archipelago while documenting best individual\n",
    "archipelago = SerialArchipelago(island, num_islands=4)\n",
    "best_indv_values = []\n",
    "best_indv_values.append(archipelago.get_best_individual().values)\n",
    "for i in range(50):\n",
    "    archipelago.evolve(1)\n",
    "    best_indv_values.append(archipelago.get_best_individual().values)"
   ]
  },
  {
   "cell_type": "code",
   "execution_count": null,
   "id": "7814fa38",
   "metadata": {},
   "outputs": [],
   "source": [
    "import matplotlib.pyplot as plt\n",
    "import matplotlib.animation as animation\n",
    "\n",
    "def animate_data(list_of_best_indv_values):\n",
    "    fig, ax = plt.subplots()\n",
    "\n",
    "    num_generations = len(list_of_best_indv_values)\n",
    "    x = np.arange(0, len(list_of_best_indv_values[0]))\n",
    "    y = list_of_best_indv_values\n",
    "    zero = [0]*len(x)\n",
    "    polygon = ax.fill_between(x, zero, y[0], color='b', alpha=0.3)\n",
    "    points, = ax.plot(x, y[0], 'bs')\n",
    "    points.set_label('Generation :' + str(0))\n",
    "    legend = ax.legend(loc='upper right', shadow=True)\n",
    "\n",
    "\n",
    "    def animate(i):\n",
    "        for artist in ax.collections:\n",
    "            artist.remove()\n",
    "        polygon = ax.fill_between(x, zero, y[i], color='b', alpha=0.3)\n",
    "        points.set_ydata(y[i])  # update the data\n",
    "        points.set_label('Generation :' + str(i))\n",
    "        legend = ax.legend(loc='upper right')\n",
    "        return points, polygon, legend\n",
    "\n",
    "\n",
    "    # Init only required for blitting to give a clean slate.\n",
    "    def init():\n",
    "        points.set_ydata(np.ma.array(x, mask=True))\n",
    "        return points, polygon, points\n",
    "\n",
    "    plt.xlabel('Chromosome Value Index', fontsize=15)\n",
    "    plt.ylabel('Value Magnitude', fontsize=15)\n",
    "    plt.title(\"Values of Best Individual in Archipelago\", fontsize=15)\n",
    "    plt.ylim(-0.01,0.5)\n",
    "    ax.tick_params(axis='y', labelsize=15)\n",
    "    ax.tick_params(axis='x', labelsize=15)\n",
    "    \n",
    "    plt.close()\n",
    "\n",
    "    return animation.FuncAnimation(fig, animate, num_generations, init_func=init,\n",
    "                                   interval=250, blit=True)"
   ]
  },
  {
   "cell_type": "code",
   "execution_count": null,
   "id": "a4bd6419",
   "metadata": {},
   "outputs": [],
   "source": [
    "from IPython.display import HTML\n",
    "HTML(animate_data(best_indv_values).to_jshtml())"
   ]
  }
 ],
 "metadata": {
  "kernelspec": {
   "display_name": "Python 3 (ipykernel)",
   "language": "python",
   "name": "python3"
  },
  "language_info": {
   "codemirror_mode": {
    "name": "ipython",
    "version": 3
   },
   "file_extension": ".py",
   "mimetype": "text/x-python",
   "name": "python",
   "nbconvert_exporter": "python",
   "pygments_lexer": "ipython3",
   "version": "3.8.13"
  },
  "pycharm": {
   "stem_cell": {
    "cell_type": "raw",
    "metadata": {
     "collapsed": false
    },
    "source": []
   }
  }
 },
 "nbformat": 4,
 "nbformat_minor": 5
}
