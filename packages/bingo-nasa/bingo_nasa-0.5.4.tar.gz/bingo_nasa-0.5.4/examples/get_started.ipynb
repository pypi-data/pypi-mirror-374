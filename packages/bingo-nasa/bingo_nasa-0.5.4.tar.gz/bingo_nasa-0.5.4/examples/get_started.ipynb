{
 "cells": [
  {
   "cell_type": "markdown",
   "id": "9f7ef421",
   "metadata": {},
   "source": [
    "# Get Started\n",
    "\n",
    "## Installation\n",
    "\n",
    "If you haven't already, check out the [installation guide](installation.html) to get Bingo setup."
   ]
  },
  {
   "cell_type": "markdown",
   "id": "a58a4445",
   "metadata": {},
   "source": [
    "## Running an Example\n",
    "\n",
    "Let's run a quick example to ensure that the installation works properly."
   ]
  },
  {
   "cell_type": "markdown",
   "id": "6b71e835",
   "metadata": {},
   "source": [
    "### Creating Training Data"
   ]
  },
  {
   "cell_type": "code",
   "execution_count": null,
   "id": "48d75055",
   "metadata": {},
   "outputs": [],
   "source": [
    "import numpy as np\n",
    "X = np.linspace(-10, 10).reshape((-1, 1))\n",
    "y = 3.0 * X ** 2 - 2.0 * X"
   ]
  },
  {
   "cell_type": "markdown",
   "id": "0d15c5df",
   "metadata": {},
   "source": [
    "### Visualizing Training Data"
   ]
  },
  {
   "cell_type": "code",
   "execution_count": null,
   "id": "fc78aad4",
   "metadata": {},
   "outputs": [],
   "source": [
    "import matplotlib.pyplot as plt\n",
    "plt.scatter(X, y)\n",
    "plt.xlabel(\"X_0\")\n",
    "plt.ylabel(\"y\")\n",
    "plt.title(\"Training Data\")\n",
    "plt.show()"
   ]
  },
  {
   "cell_type": "markdown",
   "id": "932425bf",
   "metadata": {},
   "source": [
    "### Fitting a Model"
   ]
  },
  {
   "cell_type": "code",
   "execution_count": null,
   "id": "3f74d9ae",
   "metadata": {
    "scrolled": true
   },
   "outputs": [],
   "source": [
    "from bingo.symbolic_regression.symbolic_regressor import SymbolicRegressor\n",
    "regressor = SymbolicRegressor()\n",
    "regressor.fit(X, y)\n",
    "print(\"Found model:\", regressor.get_best_individual())\n",
    "pred_y = regressor.predict(X)"
   ]
  },
  {
   "cell_type": "markdown",
   "id": "c0aabecd",
   "metadata": {},
   "source": [
    "### Visualizing the Model's Predictions"
   ]
  },
  {
   "cell_type": "code",
   "execution_count": null,
   "id": "fe1e5d37",
   "metadata": {},
   "outputs": [],
   "source": [
    "plt.scatter(X, y)\n",
    "plt.scatter(X, pred_y)\n",
    "plt.xlabel(\"X_0\")\n",
    "plt.ylabel(\"y\")\n",
    "plt.legend([\"actual\", \"predicted\"])\n",
    "plt.show()"
   ]
  }
 ],
 "metadata": {
  "kernelspec": {
   "display_name": "Python 3 (ipykernel)",
   "language": "python",
   "name": "python3"
  },
  "language_info": {
   "codemirror_mode": {
    "name": "ipython",
    "version": 3
   },
   "file_extension": ".py",
   "mimetype": "text/x-python",
   "name": "python",
   "nbconvert_exporter": "python",
   "pygments_lexer": "ipython3",
   "version": "3.10.5"
  }
 },
 "nbformat": 4,
 "nbformat_minor": 5
}
