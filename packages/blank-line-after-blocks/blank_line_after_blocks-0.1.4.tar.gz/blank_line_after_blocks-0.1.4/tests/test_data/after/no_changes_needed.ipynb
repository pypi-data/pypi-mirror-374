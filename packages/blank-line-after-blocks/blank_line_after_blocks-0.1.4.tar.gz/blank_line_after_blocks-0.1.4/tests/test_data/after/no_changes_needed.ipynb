{
 "cells": [
  {
   "cell_type": "markdown",
   "id": "cell-0",
   "metadata": {},
   "source": [
    "# Test case for code that shouldn't be modified"
   ]
  },
  {
   "cell_type": "code",
   "execution_count": null,
   "id": "cell-1",
   "metadata": {},
   "outputs": [],
   "source": [
    "def simple_function():\n",
    "    return 'hello world'"
   ]
  },
  {
   "cell_type": "code",
   "execution_count": null,
   "id": "cell-2",
   "metadata": {},
   "outputs": [],
   "source": [
    "def another_function():\n",
    "    x = 1\n",
    "    y = 2\n",
    "    return x + y"
   ]
  },
  {
   "cell_type": "code",
   "execution_count": null,
   "id": "cell-3",
   "metadata": {},
   "outputs": [],
   "source": [
    "class SimpleClass:\n",
    "    def __init__(self, value):\n",
    "        self.value = value\n",
    "\n",
    "    def get_value(self):\n",
    "        return self.value"
   ]
  },
  {
   "cell_type": "code",
   "execution_count": null,
   "id": "cell-4",
   "metadata": {},
   "outputs": [],
   "source": [
    "# Module level code\n",
    "CONSTANT = 42\n",
    "variable = 'test'\n",
    "\n",
    "# Function calls\n",
    "result1 = simple_function()\n",
    "result2 = another_function()\n",
    "\n",
    "# Object creation\n",
    "obj = SimpleClass(10)\n",
    "value = obj.get_value()\n",
    "\n",
    "print(f'Results: {result1}, {result2}, {value}')"
   ]
  }
 ],
 "metadata": {
  "kernelspec": {
   "display_name": "Python 3",
   "language": "python",
   "name": "python3"
  },
  "language_info": {
   "codemirror_mode": {
    "name": "ipython",
    "version": 3
   },
   "file_extension": ".py",
   "mimetype": "text/x-python",
   "name": "python",
   "nbconvert_exporter": "python",
   "pygments_lexer": "ipython3",
   "version": "3.8.5"
  }
 },
 "nbformat": 4,
 "nbformat_minor": 5
}
