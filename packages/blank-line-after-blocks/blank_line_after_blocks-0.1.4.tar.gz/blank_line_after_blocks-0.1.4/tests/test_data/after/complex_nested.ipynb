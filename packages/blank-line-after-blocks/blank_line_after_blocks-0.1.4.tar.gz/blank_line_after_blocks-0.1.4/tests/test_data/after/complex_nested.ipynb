{
 "cells": [
  {
   "cell_type": "markdown",
   "id": "cell-0",
   "metadata": {},
   "source": [
    "# Test case for complex nested structures"
   ]
  },
  {
   "cell_type": "code",
   "execution_count": null,
   "id": "cell-1",
   "metadata": {},
   "outputs": [],
   "source": [
    "class DataProcessor:\n",
    "    def __init__(self, data):\n",
    "        self.data = data\n",
    "        self.processed = []"
   ]
  },
  {
   "cell_type": "code",
   "execution_count": null,
   "id": "cell-2",
   "metadata": {},
   "outputs": [],
   "source": [
    "def process_all(self):\n",
    "    for item in self.data:\n",
    "        if isinstance(item, dict):\n",
    "            try:\n",
    "                if 'required_field' in item:\n",
    "                    with open(item['file_path']) as f:\n",
    "                        content = f.read()\n",
    "\n",
    "                    processed_item = self.transform_data(content, item)\n",
    "                    self.processed.append(processed_item)\n",
    "                else:\n",
    "                    print('Missing required field')\n",
    "            except FileNotFoundError:\n",
    "                print(f\"File not found: {item.get('file_path', 'unknown')}\")\n",
    "            except Exception as e:\n",
    "                print(f'Error processing item: {e}')\n",
    "            finally:\n",
    "                item['processed'] = True\n",
    "        else:\n",
    "            if item is not None:\n",
    "                self.processed.append(str(item))\n",
    "\n",
    "    return self.processed\n",
    "\n",
    "# Add method to class\n",
    "DataProcessor.process_all = process_all"
   ]
  },
  {
   "cell_type": "code",
   "execution_count": null,
   "id": "cell-3",
   "metadata": {},
   "outputs": [],
   "source": [
    "def transform_data(self, content, metadata):\n",
    "    if content.strip():\n",
    "        try:\n",
    "            result = {\n",
    "                'content': content,\n",
    "                'length': len(content),\n",
    "                'metadata': metadata\n",
    "            }\n",
    "            return result\n",
    "        except Exception:\n",
    "            return None\n",
    "\n",
    "    return {'empty': True}\n",
    "\n",
    "# Add method to class\n",
    "DataProcessor.transform_data = transform_data"
   ]
  },
  {
   "cell_type": "code",
   "execution_count": null,
   "id": "cell-4",
   "metadata": {},
   "outputs": [],
   "source": [
    "# Usage example\n",
    "data = [\n",
    "    {'file_path': 'test1.txt', 'required_field': True},\n",
    "    {'file_path': 'test2.txt', 'required_field': True},\n",
    "    'simple_string',\n",
    "    None\n",
    "]\n",
    "processor = DataProcessor(data)\n",
    "results = processor.process_all()\n",
    "for result in results:\n",
    "    print(result)"
   ]
  }
 ],
 "metadata": {
  "kernelspec": {
   "display_name": "Python 3",
   "language": "python",
   "name": "python3"
  },
  "language_info": {
   "codemirror_mode": {
    "name": "ipython",
    "version": 3
   },
   "file_extension": ".py",
   "mimetype": "text/x-python",
   "name": "python",
   "nbconvert_exporter": "python",
   "pygments_lexer": "ipython3",
   "version": "3.8.5"
  }
 },
 "nbformat": 4,
 "nbformat_minor": 5
}
