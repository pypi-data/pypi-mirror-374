{
 "cells": [
  {
   "cell_type": "markdown",
   "id": "cell-0",
   "metadata": {},
   "source": [
    "# Test case for edge cases and special scenarios"
   ]
  },
  {
   "cell_type": "code",
   "execution_count": null,
   "id": "cell-1",
   "metadata": {},
   "outputs": [],
   "source": [
    "# Single line if\n",
    "if True: print('one liner')"
   ]
  },
  {
   "cell_type": "code",
   "execution_count": null,
   "id": "cell-2",
   "metadata": {},
   "outputs": [],
   "source": [
    "# Empty blocks\n",
    "def empty_conditions(x):\n",
    "    if x > 0:\n",
    "        pass\n",
    "\n",
    "    print('after if')\n",
    "\n",
    "    while x > 0:\n",
    "        x -= 1\n",
    "\n",
    "    print('after while')\n",
    "\n",
    "    for i in range(1):\n",
    "        pass\n",
    "\n",
    "    print('after for')"
   ]
  },
  {
   "cell_type": "code",
   "execution_count": null,
   "id": "cell-3",
   "metadata": {},
   "outputs": [],
   "source": [
    "# Nested in class\n",
    "class TestClass:\n",
    "    def method(self):\n",
    "        try:\n",
    "            if self.condition():\n",
    "                with self.get_context():\n",
    "                    self.do_work()\n",
    "\n",
    "                self.cleanup()\n",
    "        except Exception as e:\n",
    "            self.handle_error(e)\n",
    "\n",
    "        print('method complete')\n",
    "\n",
    "    def condition(self):\n",
    "        return True\n",
    "\n",
    "    def get_context(self):\n",
    "        return open('test.txt', 'w')\n",
    "\n",
    "    def do_work(self):\n",
    "        pass\n",
    "\n",
    "    def cleanup(self):\n",
    "        pass\n",
    "\n",
    "    def handle_error(self, error):\n",
    "        print(f'Error: {error}')"
   ]
  },
  {
   "cell_type": "code",
   "execution_count": null,
   "id": "cell-4",
   "metadata": {},
   "outputs": [],
   "source": [
    "# Edge case: blocks at end of file\n",
    "def final_function():\n",
    "    if True:\n",
    "        print('final block')"
   ]
  }
 ],
 "metadata": {
  "kernelspec": {
   "display_name": "Python 3",
   "language": "python",
   "name": "python3"
  },
  "language_info": {
   "codemirror_mode": {
    "name": "ipython",
    "version": 3
   },
   "file_extension": ".py",
   "mimetype": "text/x-python",
   "name": "python",
   "nbconvert_exporter": "python",
   "pygments_lexer": "ipython3",
   "version": "3.8.5"
  }
 },
 "nbformat": 4,
 "nbformat_minor": 5
}
