{
 "cells": [
  {
   "cell_type": "markdown",
   "id": "cell-0",
   "metadata": {},
   "source": [
    "# Test case for loops and with statements"
   ]
  },
  {
   "cell_type": "code",
   "execution_count": null,
   "id": "cell-1",
   "metadata": {},
   "outputs": [],
   "source": [
    "import json"
   ]
  },
  {
   "cell_type": "code",
   "execution_count": null,
   "id": "cell-2",
   "metadata": {},
   "outputs": [],
   "source": [
    "def process_files(filenames):\n",
    "    results = []\n",
    "    for filename in filenames:\n",
    "        try:\n",
    "            with open(filename) as f:\n",
    "                data = json.load(f)\n",
    "\n",
    "            results.append(data)\n",
    "        except FileNotFoundError:\n",
    "            print(f'File {filename} not found')\n",
    "        except json.JSONDecodeError:\n",
    "            print(f'Invalid JSON in {filename}')\n",
    "\n",
    "    return results"
   ]
  },
  {
   "cell_type": "code",
   "execution_count": null,
   "id": "cell-3",
   "metadata": {},
   "outputs": [],
   "source": [
    "def count_items(items, threshold=10):\n",
    "    count = 0\n",
    "    while count < threshold:\n",
    "        for item in items:\n",
    "            if item > count:\n",
    "                print(f'Found item {item} > {count}')\n",
    "                count += 1\n",
    "                break\n",
    "        else:\n",
    "            print('No more items found')\n",
    "            break\n",
    "\n",
    "    return count"
   ]
  },
  {
   "cell_type": "code",
   "execution_count": null,
   "id": "cell-4",
   "metadata": {},
   "outputs": [],
   "source": [
    "files = ['data1.json', 'data2.json']\n",
    "data = process_files(files)\n",
    "result = count_items([1, 5, 10, 15, 20])\n",
    "print(f'Final count: {result}')"
   ]
  }
 ],
 "metadata": {
  "kernelspec": {
   "display_name": "Python 3",
   "language": "python",
   "name": "python3"
  },
  "language_info": {
   "codemirror_mode": {
    "name": "ipython",
    "version": 3
   },
   "file_extension": ".py",
   "mimetype": "text/x-python",
   "name": "python",
   "nbconvert_exporter": "python",
   "pygments_lexer": "ipython3",
   "version": "3.8.5"
  }
 },
 "nbformat": 4,
 "nbformat_minor": 5
}
