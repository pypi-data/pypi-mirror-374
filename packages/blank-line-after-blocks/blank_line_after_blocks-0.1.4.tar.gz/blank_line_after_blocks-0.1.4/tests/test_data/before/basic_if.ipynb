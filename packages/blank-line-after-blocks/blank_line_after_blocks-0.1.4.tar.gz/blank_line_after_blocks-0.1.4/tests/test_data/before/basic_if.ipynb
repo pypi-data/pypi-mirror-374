{
 "cells": [
  {
   "cell_type": "markdown",
   "id": "cell-0",
   "metadata": {},
   "source": [
    "# Test case for basic if statements"
   ]
  },
  {
   "cell_type": "code",
   "execution_count": null,
   "id": "cell-1",
   "metadata": {},
   "outputs": [],
   "source": [
    "def process_data(data):\n",
    "    if data:\n",
    "        print('Processing data')\n",
    "        result = data * 2\n",
    "        return result\n",
    "    print('No data to process')\n",
    "    return None"
   ]
  },
  {
   "metadata": {},
   "cell_type": "code",
   "outputs": [],
   "execution_count": null,
   "source": [
    "def process_data_with_comment(data):\n",
    "    if data:\n",
    "        print('Processing data')\n",
    "        result = data * 2\n",
    "        return result\n",
    "        # Already a comment; no new line is added\n",
    "    print('No data to process')\n",
    "    return None"
   ],
   "id": "9ec718d400e05378"
  },
  {
   "cell_type": "code",
   "execution_count": null,
   "id": "cell-2",
   "metadata": {},
   "outputs": [],
   "source": [
    "def main():\n",
    "    items = [1, 2, 3, 4, 5]\n",
    "    for item in items:\n",
    "        if item % 2 == 0:\n",
    "            print(f'Even: {item}')\n",
    "        else:\n",
    "            print(f'Odd: {item}')\n",
    "    print('Done processing items')"
   ]
  },
  {
   "cell_type": "code",
   "execution_count": null,
   "id": "cell-3",
   "metadata": {},
   "outputs": [],
   "source": [
    "if __name__ == '__main__':\n",
    "    main()"
   ]
  }
 ],
 "metadata": {
  "kernelspec": {
   "display_name": "Python 3",
   "language": "python",
   "name": "python3"
  },
  "language_info": {
   "codemirror_mode": {
    "name": "ipython",
    "version": 3
   },
   "file_extension": ".py",
   "mimetype": "text/x-python",
   "name": "python",
   "nbconvert_exporter": "python",
   "pygments_lexer": "ipython3",
   "version": "3.8.5"
  }
 },
 "nbformat": 4,
 "nbformat_minor": 5
}
