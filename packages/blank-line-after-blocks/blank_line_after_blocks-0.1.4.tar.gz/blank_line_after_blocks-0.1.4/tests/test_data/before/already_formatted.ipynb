{
 "cells": [
  {
   "cell_type": "markdown",
   "id": "cell-0",
   "metadata": {},
   "source": [
    "# Test case for code that's already properly formatted"
   ]
  },
  {
   "cell_type": "code",
   "execution_count": null,
   "id": "cell-1",
   "metadata": {},
   "outputs": [],
   "source": [
    "def process_items(items):\n",
    "    results = []\n",
    "\n",
    "    for item in items:\n",
    "        if item > 0:\n",
    "            results.append(item * 2)\n",
    "\n",
    "        else:\n",
    "            results.append(0)\n",
    "\n",
    "    return results"
   ]
  },
  {
   "cell_type": "code",
   "execution_count": null,
   "id": "cell-2",
   "metadata": {},
   "outputs": [],
   "source": [
    "def handle_errors():\n",
    "    try:\n",
    "        with open('nonexistent.txt') as f:\n",
    "            data = f.read()\n",
    "\n",
    "        return data\n",
    "    except FileNotFoundError:\n",
    "        print('File not found')\n",
    "        return None"
   ]
  },
  {
   "cell_type": "code",
   "execution_count": null,
   "id": "cell-3",
   "metadata": {},
   "outputs": [],
   "source": [
    "def main():\n",
    "    data = [1, -2, 3, -4, 5]\n",
    "    processed = process_items(data)\n",
    "\n",
    "    while processed:\n",
    "        item = processed.pop(0)\n",
    "        if item > 5:\n",
    "            print(f'Large item: {item}')\n",
    "\n",
    "        else:\n",
    "            print(f'Small item: {item}')\n",
    "\n",
    "    print('All done!')"
   ]
  },
  {
   "cell_type": "code",
   "execution_count": null,
   "id": "cell-4",
   "metadata": {},
   "outputs": [],
   "source": [
    "if __name__ == '__main__':\n",
    "    main()"
   ]
  }
 ],
 "metadata": {
  "kernelspec": {
   "display_name": "Python 3",
   "language": "python",
   "name": "python3"
  },
  "language_info": {
   "codemirror_mode": {
    "name": "ipython",
    "version": 3
   },
   "file_extension": ".py",
   "mimetype": "text/x-python",
   "name": "python",
   "nbconvert_exporter": "python",
   "pygments_lexer": "ipython3",
   "version": "3.8.5"
  }
 },
 "nbformat": 4,
 "nbformat_minor": 5
}
