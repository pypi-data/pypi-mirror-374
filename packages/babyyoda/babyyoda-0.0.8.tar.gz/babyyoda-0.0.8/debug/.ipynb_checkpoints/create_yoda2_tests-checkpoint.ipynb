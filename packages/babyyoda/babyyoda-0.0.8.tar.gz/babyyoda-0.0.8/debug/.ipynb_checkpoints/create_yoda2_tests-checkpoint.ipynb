{
 "cells": [
  {
   "cell_type": "code",
   "execution_count": 1,
   "id": "afa242f1-a982-4ae5-9915-73151f0adf19",
   "metadata": {},
   "outputs": [],
   "source": [
    "import yoda"
   ]
  },
  {
   "cell_type": "code",
   "execution_count": 2,
   "id": "2e702678-f4ca-4f6c-83b5-605075d6c2db",
   "metadata": {},
   "outputs": [],
   "source": [
    "h =yoda.Histo1D(10, 0, 10, title=\"test\")\n",
    "for i in range(-2,12,1):\n",
    "    for _ in range(abs(i)):\n",
    "        h.fill(i)"
   ]
  },
  {
   "cell_type": "code",
   "execution_count": 3,
   "id": "65f5d336-baec-44a8-a844-93d758f68568",
   "metadata": {},
   "outputs": [],
   "source": [
    "yoda.write([h],\"test_histo1d_v2.yoda\")"
   ]
  },
  {
   "cell_type": "code",
   "execution_count": 4,
   "id": "549d08c6-7f81-4994-8dc9-2459f744a14c",
   "metadata": {},
   "outputs": [],
   "source": [
    "h =yoda.Histo2D(10, 0, 10,10, 0, 10, title=\"test\")\n",
    "w=0\n",
    "for i in range(-2,12,1):\n",
    "    for j in range(-2,12,1):\n",
    "        w+=1\n",
    "        h.fill(i,j,w)"
   ]
  },
  {
   "cell_type": "code",
   "execution_count": 5,
   "id": "a1948b81-557b-4b0f-86b6-e1a9f2db00e0",
   "metadata": {},
   "outputs": [],
   "source": [
    "yoda.write([h],\"test_histo2d_v2.yoda\")"
   ]
  },
  {
   "cell_type": "code",
   "execution_count": null,
   "id": "03172e6a-b354-460b-9e77-a7b4da24ed2a",
   "metadata": {},
   "outputs": [],
   "source": []
  }
 ],
 "metadata": {
  "kernelspec": {
   "display_name": "Python 3 (ipykernel)",
   "language": "python",
   "name": "python3"
  },
  "language_info": {
   "codemirror_mode": {
    "name": "ipython",
    "version": 3
   },
   "file_extension": ".py",
   "mimetype": "text/x-python",
   "name": "python",
   "nbconvert_exporter": "python",
   "pygments_lexer": "ipython3",
   "version": "3.12.6"
  }
 },
 "nbformat": 4,
 "nbformat_minor": 5
}
