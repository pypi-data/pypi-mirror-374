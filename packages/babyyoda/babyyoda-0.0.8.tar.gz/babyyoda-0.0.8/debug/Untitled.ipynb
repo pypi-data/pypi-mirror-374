{
 "cells": [
  {
   "cell_type": "code",
   "execution_count": 1,
   "id": "675f1972-4479-4684-9201-9781affafd71",
   "metadata": {},
   "outputs": [],
   "source": [
    "import yoda as yd\n",
    "\n",
    "import babyyoda as by"
   ]
  },
  {
   "cell_type": "code",
   "execution_count": 2,
   "id": "d2f9b427-f300-4d81-aa03-c7e2473564bd",
   "metadata": {},
   "outputs": [
    {
     "name": "stdout",
     "output_type": "stream",
     "text": [
      "Warning: <class 'babyyoda.histo2D.Histo2D'> is not allowed to get flow bins, flow bin option set to None\n"
     ]
    },
    {
     "data": {
      "image/png": "[encoded data removed]",
      "text/plain": [
       "<Figure size 684.8x480 with 2 Axes>"
      ]
     },
     "metadata": {},
     "output_type": "display_data"
    }
   ],
   "source": [
    "h = by.Histo2D(2, 0, 10, 2, 0, 10)\n",
    "h"
   ]
  },
  {
   "cell_type": "code",
   "execution_count": 3,
   "id": "2707406c-b066-4bb6-8e2b-27d6ce2856f1",
   "metadata": {},
   "outputs": [
    {
     "name": "stdout",
     "output_type": "stream",
     "text": [
      "Warning: <class 'babyyoda.histo2D.Histo2D'> is not allowed to get flow bins, flow bin option set to None\n"
     ]
    },
    {
     "data": {
      "image/png": "[encoded data removed]",
      "text/plain": [
       "<Figure size 684.8x480 with 2 Axes>"
      ]
     },
     "metadata": {},
     "output_type": "display_data"
    }
   ],
   "source": [
    "i = 0.0\n",
    "for x in range(-1, 20, 5):\n",
    "    for y in range(-1, 20, 5):\n",
    "        h.fill(x, y, weight=i)\n",
    "        i += 1\n",
    "h.plot(binwnorm=False)"
   ]
  },
  {
   "cell_type": "code",
   "execution_count": 8,
   "id": "d766c7d8-e5f8-42b6-8d7f-6a3e633f2dac",
   "metadata": {},
   "outputs": [
    {
     "data": {
      "text/plain": [
       "16"
      ]
     },
     "execution_count": 8,
     "metadata": {},
     "output_type": "execute_result"
    }
   ],
   "source": [
    "len(h.bins(True))"
   ]
  },
  {
   "cell_type": "code",
   "execution_count": 4,
   "id": "77e4a0f1-64fb-4843-b25c-18f735a901e9",
   "metadata": {},
   "outputs": [],
   "source": [
    "yd.write([h.target], \"test2.yoda\")"
   ]
  },
  {
   "cell_type": "code",
   "execution_count": 5,
   "id": "380ada5f-71bc-4076-b09a-e0bbf4b9c7b8",
   "metadata": {},
   "outputs": [
    {
     "data": {
      "text/plain": [
       "7.0"
      ]
     },
     "execution_count": 5,
     "metadata": {},
     "output_type": "execute_result"
    }
   ],
   "source": [
    "h.binAt(2, 5).sumW()"
   ]
  },
  {
   "cell_type": "code",
   "execution_count": 6,
   "id": "2a765697-d1f2-4879-9bf0-5a8abfe2963d",
   "metadata": {},
   "outputs": [
    {
     "ename": "IndexError",
     "evalue": "index 12 is out of bounds for axis 0 with size 4",
     "output_type": "error",
     "traceback": [
      "\u001b[0;31m---------------------------------------------------------------------------\u001b[0m",
      "\u001b[0;31mIndexError\u001b[0m                                Traceback (most recent call last)",
      "Cell \u001b[0;32mIn[6], line 1\u001b[0m\n\u001b[0;32m----> 1\u001b[0m \u001b[43mh\u001b[49m\u001b[43m[\u001b[49m\u001b[38;5;241;43m2\u001b[39;49m\u001b[43m,\u001b[49m\u001b[43m \u001b[49m\u001b[38;5;241;43m5\u001b[39;49m\u001b[43m]\u001b[49m\u001b[38;5;241m.\u001b[39msumW()\n",
      "File \u001b[0;32m~/.local/lib/python3.12/site-packages/babyyoda/histo2D.py:192\u001b[0m, in \u001b[0;36mHisto2D.__getitem__\u001b[0;34m(self, slices)\u001b[0m\n\u001b[1;32m    190\u001b[0m ix, iy \u001b[38;5;241m=\u001b[39m \u001b[38;5;28mself\u001b[39m\u001b[38;5;241m.\u001b[39m__get_indices(slices)\n\u001b[1;32m    191\u001b[0m \u001b[38;5;28;01mif\u001b[39;00m \u001b[38;5;28misinstance\u001b[39m(ix, \u001b[38;5;28mint\u001b[39m) \u001b[38;5;129;01mand\u001b[39;00m \u001b[38;5;28misinstance\u001b[39m(iy, \u001b[38;5;28mint\u001b[39m):\n\u001b[0;32m--> 192\u001b[0m     \u001b[38;5;28;01mreturn\u001b[39;00m \u001b[38;5;28;43mself\u001b[39;49m\u001b[38;5;241;43m.\u001b[39;49m\u001b[43m__get_by_indices\u001b[49m\u001b[43m(\u001b[49m\u001b[43mix\u001b[49m\u001b[43m,\u001b[49m\u001b[43m \u001b[49m\u001b[43miy\u001b[49m\u001b[43m)\u001b[49m\n\u001b[1;32m    193\u001b[0m ix, iy \u001b[38;5;241m=\u001b[39m slices\n\u001b[1;32m    194\u001b[0m sc \u001b[38;5;241m=\u001b[39m \u001b[38;5;28mself\u001b[39m\u001b[38;5;241m.\u001b[39mclone()\n",
      "File \u001b[0;32m~/.local/lib/python3.12/site-packages/babyyoda/histo2D.py:152\u001b[0m, in \u001b[0;36mHisto2D.__get_by_indices\u001b[0;34m(self, ix, iy)\u001b[0m\n\u001b[1;32m    151\u001b[0m \u001b[38;5;28;01mdef\u001b[39;00m \u001b[38;5;21m__get_by_indices\u001b[39m(\u001b[38;5;28mself\u001b[39m, ix, iy):\n\u001b[0;32m--> 152\u001b[0m     \u001b[38;5;28;01mreturn\u001b[39;00m \u001b[38;5;28;43mself\u001b[39;49m\u001b[38;5;241;43m.\u001b[39;49m\u001b[43mbins\u001b[49m\u001b[43m(\u001b[49m\u001b[43m)\u001b[49m\u001b[43m[\u001b[49m\n\u001b[1;32m    153\u001b[0m \u001b[43m        \u001b[49m\u001b[38;5;28;43mself\u001b[39;49m\u001b[38;5;241;43m.\u001b[39;49m\u001b[43m__single_index\u001b[49m\u001b[43m(\u001b[49m\u001b[43mix\u001b[49m\u001b[43m,\u001b[49m\u001b[43m \u001b[49m\u001b[43miy\u001b[49m\u001b[43m)\u001b[49m\n\u001b[1;32m    154\u001b[0m \u001b[43m    \u001b[49m\u001b[43m]\u001b[49m\n",
      "\u001b[0;31mIndexError\u001b[0m: index 12 is out of bounds for axis 0 with size 4"
     ]
    }
   ],
   "source": [
    "h[2, 5].sumW()"
   ]
  },
  {
   "cell_type": "code",
   "execution_count": null,
   "id": "a4e6242f-23d6-4717-94b8-c35f513c1dfc",
   "metadata": {},
   "outputs": [],
   "source": [
    "h[by.loc(2), by.loc(5)].sumW()"
   ]
  },
  {
   "cell_type": "code",
   "execution_count": null,
   "id": "113a87ff-1135-42ee-9f2e-d2a089a163b2",
   "metadata": {},
   "outputs": [],
   "source": [
    "from babyyoda.grogu.histo2d_v2 import GROGU_HISTO2D_V2\n",
    "from babyyoda.histo2D import Histo2D\n",
    "from babyyoda.util import loc"
   ]
  },
  {
   "cell_type": "code",
   "execution_count": null,
   "id": "b51dce74-2b89-4abc-94e4-c37369f04f9d",
   "metadata": {},
   "outputs": [],
   "source": [
    "def create_histo2d():\n",
    "    import yoda as yd\n",
    "\n",
    "    h = yd.Histo2D(10, 0, 10, 10, 0, 10, title=\"test\")\n",
    "\n",
    "    g = GROGU_HISTO2D_V2(\n",
    "        d_title=\"test\",\n",
    "        d_bins=[\n",
    "            GROGU_HISTO2D_V2.Bin(\n",
    "                d_xmin=hb.xMin(), d_xmax=hb.xMax(), d_ymin=hb.yMin(), d_ymax=hb.yMax()\n",
    "            )\n",
    "            for hb in h.bins()\n",
    "        ],\n",
    "        d_underflow=GROGU_HISTO2D_V2.Bin(),\n",
    "        d_overflow=GROGU_HISTO2D_V2.Bin(),\n",
    "    )\n",
    "\n",
    "    for i in range(12):\n",
    "        for j in range(12):\n",
    "            for _ in range(i * j):\n",
    "                h.fill(i, j)\n",
    "                g.fill(i, j)\n",
    "    return Histo2D(h), Histo2D(g)"
   ]
  },
  {
   "cell_type": "code",
   "execution_count": null,
   "id": "218d38e8-129f-4825-b241-bace660bc799",
   "metadata": {},
   "outputs": [],
   "source": [
    "h, g = create_histo2d()"
   ]
  },
  {
   "cell_type": "code",
   "execution_count": null,
   "id": "ce251732-1254-4eb3-9419-418a5c75ea9b",
   "metadata": {},
   "outputs": [],
   "source": [
    "h[loc(3), loc(4)].sumWX()"
   ]
  },
  {
   "cell_type": "code",
   "execution_count": null,
   "id": "171736b9-913b-45fb-ba98-6ed898bb82fe",
   "metadata": {},
   "outputs": [],
   "source": [
    "h.binAt(3, 4).sumWX()"
   ]
  },
  {
   "cell_type": "code",
   "execution_count": null,
   "id": "c83ce7bf-9f5a-4059-a36a-a639cf170d3d",
   "metadata": {},
   "outputs": [],
   "source": [
    "h"
   ]
  },
  {
   "cell_type": "code",
   "execution_count": null,
   "id": "6ac5be2a-5383-4275-a07f-0521bb07ae37",
   "metadata": {},
   "outputs": [],
   "source": [
    "g"
   ]
  },
  {
   "cell_type": "code",
   "execution_count": null,
   "id": "ca32c001-bde4-4bed-9e7a-700e19d7411e",
   "metadata": {},
   "outputs": [],
   "source": []
  }
 ],
 "metadata": {
  "kernelspec": {
   "display_name": "Python 3 (ipykernel)",
   "language": "python",
   "name": "python3"
  },
  "language_info": {
   "codemirror_mode": {
    "name": "ipython",
    "version": 3
   },
   "file_extension": ".py",
   "mimetype": "text/x-python",
   "name": "python",
   "nbconvert_exporter": "python",
   "pygments_lexer": "ipython3",
   "version": "3.12.6"
  }
 },
 "nbformat": 4,
 "nbformat_minor": 5
}
