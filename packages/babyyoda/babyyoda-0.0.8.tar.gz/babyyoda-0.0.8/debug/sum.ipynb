{
 "cells": [
  {
   "cell_type": "code",
   "execution_count": 2,
   "id": "1fbfc0cd-d412-4df3-8586-aa87fa82590f",
   "metadata": {},
   "outputs": [],
   "source": [
    "import boost_histogram as bh\n",
    "\n",
    "# Compose axis however you like; this is a 2D histogram\n",
    "hist = bh.Histogram(bh.axis.Regular(2, 0, 1), bh.axis.Regular(4, 0.0, 1.0))\n",
    "\n",
    "# Filling can be done with arrays, one per dimension\n",
    "hist.fill([0.3, 0.5, 0.2], [0.1, 0.4, 0.9])\n",
    "\n",
    "# NumPy array view into histogram counts, no overflow bins\n",
    "counts = hist.view()\n"
   ]
  },
  {
   "cell_type": "code",
   "execution_count": 31,
   "id": "9f684d4a-7aaa-4e88-850b-1dd9e27393cd",
   "metadata": {},
   "outputs": [
    {
     "data": {
      "image/png": "[encoded data removed]",
      "text/plain": [
       "<Figure size 640x480 with 2 Axes>"
      ]
     },
     "metadata": {},
     "output_type": "display_data"
    }
   ],
   "source": [
    "#!/usr/bin/env python3\n",
    "\n",
    "from __future__ import annotations\n",
    "\n",
    "import functools\n",
    "import operator\n",
    "\n",
    "import matplotlib.pyplot as plt\n",
    "import numpy as np\n",
    "\n",
    "import boost_histogram as bh\n",
    "\n",
    "# Make a 2D histogram\n",
    "hist = bh.Histogram(bh.axis.Regular(10, -3, 3), bh.axis.Regular(10, -3, 3))\n",
    "\n",
    "# Fill with Gaussian random values\n",
    "hist.fill(np.random.normal(size=1_000_000), np.random.normal(size=1_000_000))\n",
    "\n",
    "# Compute the areas of each bin\n",
    "areas = functools.reduce(operator.mul, hist.axes.widths)\n",
    "\n",
    "# Compute the density\n",
    "density = hist.view() / hist.sum() / areas\n",
    "\n",
    "# Make the plot\n",
    "fig, ax = plt.subplots()\n",
    "mesh = ax.pcolormesh(*hist.axes.edges.T, density.T)\n",
    "fig.colorbar(mesh)\n",
    "plt.savefig(\"simple_density.png\")"
   ]
  },
  {
   "cell_type": "code",
   "execution_count": 32,
   "id": "72d80307-ebf8-4d6f-a6a7-6e61e6c61f92",
   "metadata": {},
   "outputs": [
    {
     "ename": "AttributeError",
     "evalue": "property 'kind' of 'Histogram' object has no setter",
     "output_type": "error",
     "traceback": [
      "\u001b[0;31m---------------------------------------------------------------------------\u001b[0m",
      "\u001b[0;31mAttributeError\u001b[0m                            Traceback (most recent call last)",
      "Cell \u001b[0;32mIn[32], line 1\u001b[0m\n\u001b[0;32m----> 1\u001b[0m \u001b[43mhist\u001b[49m\u001b[38;5;241;43m.\u001b[39;49m\u001b[43mkind\u001b[49m \u001b[38;5;241m=\u001b[39m \u001b[38;5;124m\"\u001b[39m\u001b[38;5;124mMEAN\u001b[39m\u001b[38;5;124m\"\u001b[39m\n\u001b[1;32m      2\u001b[0m hist[\u001b[38;5;241m0\u001b[39m,\u001b[38;5;241m0\u001b[39m]\n",
      "\u001b[0;31mAttributeError\u001b[0m: property 'kind' of 'Histogram' object has no setter"
     ]
    }
   ],
   "source": [
    "hist.kind = \"MEAN\"\n",
    "hist[0,0]"
   ]
  },
  {
   "cell_type": "code",
   "execution_count": 33,
   "id": "96a9af87-4ed7-4b45-a1fb-04ba3dcc4c52",
   "metadata": {},
   "outputs": [
    {
     "data": {
      "text/plain": [
       "array([[4.9000e+01, 1.9200e+02, 5.3900e+02, 1.0520e+03, 1.5130e+03,\n",
       "        1.5300e+03, 1.0670e+03, 5.5400e+02, 2.0500e+02, 4.9000e+01],\n",
       "       [1.8000e+02, 8.1000e+02, 2.1830e+03, 4.4690e+03, 6.2270e+03,\n",
       "        6.2850e+03, 4.3180e+03, 2.2120e+03, 7.8400e+02, 1.9700e+02],\n",
       "       [5.6800e+02, 2.2360e+03, 6.2160e+03, 1.2515e+04, 1.7859e+04,\n",
       "        1.7969e+04, 1.2615e+04, 6.2480e+03, 2.1780e+03, 6.0200e+02],\n",
       "       [1.1410e+03, 4.3880e+03, 1.2646e+04, 2.5283e+04, 3.5871e+04,\n",
       "        3.6271e+04, 2.5325e+04, 1.2665e+04, 4.3910e+03, 1.0970e+03],\n",
       "       [1.5620e+03, 6.0710e+03, 1.7891e+04, 3.5789e+04, 5.0586e+04,\n",
       "        5.0710e+04, 3.5953e+04, 1.7798e+04, 6.1940e+03, 1.5030e+03],\n",
       "       [1.5110e+03, 6.3500e+03, 1.7915e+04, 3.6091e+04, 5.1003e+04,\n",
       "        5.1099e+04, 3.5946e+04, 1.7781e+04, 6.2810e+03, 1.4940e+03],\n",
       "       [1.0950e+03, 4.3990e+03, 1.2495e+04, 2.5369e+04, 3.6052e+04,\n",
       "        3.6020e+04, 2.5528e+04, 1.2709e+04, 4.4650e+03, 1.1150e+03],\n",
       "       [5.6000e+02, 2.0630e+03, 6.2870e+03, 1.2583e+04, 1.7945e+04,\n",
       "        1.7816e+04, 1.2576e+04, 6.2000e+03, 2.1820e+03, 5.4200e+02],\n",
       "       [1.7500e+02, 7.6400e+02, 2.1560e+03, 4.4230e+03, 6.2880e+03,\n",
       "        6.3980e+03, 4.3510e+03, 2.1960e+03, 7.4800e+02, 1.7800e+02],\n",
       "       [4.4000e+01, 1.6700e+02, 5.2100e+02, 1.0440e+03, 1.5470e+03,\n",
       "        1.5690e+03, 1.0980e+03, 5.4900e+02, 2.0300e+02, 5.4000e+01]])"
      ]
     },
     "execution_count": 33,
     "metadata": {},
     "output_type": "execute_result"
    }
   ],
   "source": [
    "hist.values()"
   ]
  },
  {
   "cell_type": "code",
   "execution_count": 34,
   "id": "85916313-3b74-45ce-abb6-b12e5cdf363f",
   "metadata": {},
   "outputs": [
    {
     "data": {
      "text/plain": [
       "<Kind.COUNT: 'COUNT'>"
      ]
     },
     "execution_count": 34,
     "metadata": {},
     "output_type": "execute_result"
    }
   ],
   "source": [
    "hist.kind"
   ]
  },
  {
   "cell_type": "code",
   "execution_count": null,
   "id": "d6ff0090-3076-4131-a8bb-fe4c7c0a5dd0",
   "metadata": {},
   "outputs": [],
   "source": []
  }
 ],
 "metadata": {
  "kernelspec": {
   "display_name": "Python 3 (ipykernel)",
   "language": "python",
   "name": "python3"
  },
  "language_info": {
   "codemirror_mode": {
    "name": "ipython",
    "version": 3
   },
   "file_extension": ".py",
   "mimetype": "text/x-python",
   "name": "python",
   "nbconvert_exporter": "python",
   "pygments_lexer": "ipython3",
   "version": "3.12.6"
  }
 },
 "nbformat": 4,
 "nbformat_minor": 5
}
