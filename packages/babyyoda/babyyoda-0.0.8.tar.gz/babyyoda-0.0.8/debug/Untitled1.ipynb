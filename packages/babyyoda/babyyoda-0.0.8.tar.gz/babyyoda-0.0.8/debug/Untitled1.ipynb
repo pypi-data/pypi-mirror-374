{
 "cells": [
  {
   "cell_type": "code",
   "execution_count": 1,
   "id": "67d91e63-9065-4e42-a024-ead3967ae847",
   "metadata": {},
   "outputs": [],
   "source": [
    "import yoda"
   ]
  },
  {
   "cell_type": "code",
   "execution_count": 31,
   "id": "1571d580-6aa6-4e6d-8ad8-28913a568225",
   "metadata": {},
   "outputs": [],
   "source": [
    "def init():\n",
    "    # Simple 2D histogram, 1 entry per bin, some overflows that should not matter\n",
    "    h = yoda.Histo2D(20, 0, 20, 10, 0, 10, title=\"test\")\n",
    "    w = 0\n",
    "    for i in range(-10, 22):\n",
    "        for j in range(-10, 22):\n",
    "            w += 1\n",
    "            h.fill(i, j, w)\n",
    "    return h\n",
    "\n",
    "\n",
    "def print_it(h):\n",
    "    # show entries per bin\n",
    "    for j in range(len(h.yEdges()) - 1):\n",
    "        for i in range(len(h.xEdges()) - 1):\n",
    "            print(\n",
    "                h.bins(includeOverflows=False)[\n",
    "                    i + j * (len(h.xEdges()) - 1)\n",
    "                ].numEntries(),\n",
    "                end=\" \",\n",
    "            )\n",
    "        print()"
   ]
  },
  {
   "cell_type": "code",
   "execution_count": 32,
   "id": "c71707a5-e46b-4b19-80ec-83f890be9ebc",
   "metadata": {},
   "outputs": [
    {
     "name": "stdout",
     "output_type": "stream",
     "text": [
      "1.0 1.0 1.0 1.0 1.0 1.0 1.0 1.0 1.0 1.0 1.0 1.0 1.0 1.0 1.0 1.0 1.0 1.0 1.0 1.0 \n",
      "1.0 1.0 1.0 1.0 1.0 1.0 1.0 1.0 1.0 1.0 1.0 1.0 1.0 1.0 1.0 1.0 1.0 1.0 1.0 1.0 \n",
      "1.0 1.0 1.0 1.0 1.0 1.0 1.0 1.0 1.0 1.0 1.0 1.0 1.0 1.0 1.0 1.0 1.0 1.0 1.0 1.0 \n",
      "1.0 1.0 1.0 1.0 1.0 1.0 1.0 1.0 1.0 1.0 1.0 1.0 1.0 1.0 1.0 1.0 1.0 1.0 1.0 1.0 \n",
      "1.0 1.0 1.0 1.0 1.0 1.0 1.0 1.0 1.0 1.0 1.0 1.0 1.0 1.0 1.0 1.0 1.0 1.0 1.0 1.0 \n",
      "1.0 1.0 1.0 1.0 1.0 1.0 1.0 1.0 1.0 1.0 1.0 1.0 1.0 1.0 1.0 1.0 1.0 1.0 1.0 1.0 \n",
      "1.0 1.0 1.0 1.0 1.0 1.0 1.0 1.0 1.0 1.0 1.0 1.0 1.0 1.0 1.0 1.0 1.0 1.0 1.0 1.0 \n",
      "1.0 1.0 1.0 1.0 1.0 1.0 1.0 1.0 1.0 1.0 1.0 1.0 1.0 1.0 1.0 1.0 1.0 1.0 1.0 1.0 \n",
      "1.0 1.0 1.0 1.0 1.0 1.0 1.0 1.0 1.0 1.0 1.0 1.0 1.0 1.0 1.0 1.0 1.0 1.0 1.0 1.0 \n",
      "1.0 1.0 1.0 1.0 1.0 1.0 1.0 1.0 1.0 1.0 1.0 1.0 1.0 1.0 1.0 1.0 1.0 1.0 1.0 1.0 \n"
     ]
    }
   ],
   "source": [
    "h = init()\n",
    "print_it(h)"
   ]
  },
  {
   "cell_type": "code",
   "execution_count": 33,
   "id": "68ef32a5-e66a-4d88-af06-4c3f25969c4a",
   "metadata": {},
   "outputs": [
    {
     "name": "stdout",
     "output_type": "stream",
     "text": [
      "1.0 1.0 1.0 1.0 1.0 1.0 1.0 1.0 1.0 1.0 1.0 1.0 1.0 1.0 1.0 1.0 1.0 1.0 1.0 1.0 \n",
      "1.0 1.0 1.0 1.0 1.0 1.0 1.0 1.0 1.0 1.0 1.0 1.0 1.0 1.0 1.0 1.0 1.0 1.0 1.0 1.0 \n",
      "3.0 3.0 3.0 3.0 3.0 3.0 3.0 3.0 3.0 3.0 3.0 3.0 3.0 3.0 3.0 3.0 3.0 3.0 3.0 3.0 \n",
      "3.0 3.0 3.0 3.0 3.0 3.0 3.0 3.0 3.0 3.0 3.0 3.0 3.0 3.0 3.0 3.0 3.0 3.0 3.0 3.0 \n",
      "1.0 1.0 1.0 1.0 1.0 1.0 1.0 1.0 1.0 1.0 1.0 1.0 1.0 1.0 1.0 1.0 1.0 1.0 1.0 1.0 \n",
      "1.0 1.0 1.0 1.0 1.0 1.0 1.0 1.0 1.0 1.0 1.0 1.0 1.0 1.0 1.0 1.0 1.0 1.0 1.0 1.0 \n"
     ]
    }
   ],
   "source": [
    "h = init()\n",
    "h.rebinYBy(3, 3, 9)\n",
    "print_it(h)"
   ]
  },
  {
   "cell_type": "code",
   "execution_count": 34,
   "id": "a1c7857a-acbd-4fbf-970f-a5fd45f652f2",
   "metadata": {},
   "outputs": [
    {
     "name": "stdout",
     "output_type": "stream",
     "text": [
      "1.0 1.0 2.0 2.0 1.0 1.0 1.0 1.0 1.0 1.0 1.0 1.0 1.0 1.0 1.0 1.0 \n",
      "1.0 1.0 2.0 3.0 2.0 1.0 1.0 1.0 1.0 1.0 1.0 1.0 1.0 1.0 1.0 1.0 \n",
      "1.0 1.0 2.0 3.0 1.0 2.0 1.0 1.0 1.0 1.0 1.0 1.0 1.0 1.0 1.0 1.0 \n",
      "1.0 1.0 2.0 2.0 1.0 1.0 3.0 1.0 1.0 1.0 1.0 1.0 1.0 1.0 1.0 1.0 \n",
      "1.0 1.0 2.0 2.0 2.0 1.0 1.0 2.0 1.0 1.0 1.0 1.0 1.0 1.0 1.0 1.0 \n",
      "1.0 1.0 2.0 2.0 1.0 2.0 1.0 1.0 2.0 1.0 1.0 1.0 1.0 1.0 1.0 1.0 \n",
      "1.0 1.0 2.0 2.0 1.0 1.0 2.0 1.0 1.0 2.0 1.0 1.0 1.0 1.0 1.0 1.0 \n",
      "1.0 1.0 2.0 2.0 1.0 1.0 1.0 2.0 1.0 1.0 2.0 1.0 1.0 1.0 1.0 1.0 \n",
      "1.0 1.0 2.0 2.0 1.0 1.0 1.0 1.0 2.0 1.0 1.0 2.0 1.0 1.0 1.0 1.0 \n",
      "1.0 1.0 2.0 2.0 1.0 1.0 1.0 1.0 1.0 2.0 1.0 1.0 2.0 1.0 1.0 1.0 \n"
     ]
    }
   ],
   "source": [
    "h = init()\n",
    "h.rebinXBy(3, 3, 9)\n",
    "print_it(h)"
   ]
  },
  {
   "cell_type": "code",
   "execution_count": null,
   "id": "f2b9c6c7-6bdc-4e43-afd1-18cd27d153b0",
   "metadata": {},
   "outputs": [],
   "source": []
  },
  {
   "cell_type": "code",
   "execution_count": null,
   "id": "a4c0a7e9-0a7d-4938-b882-cabed11ddb12",
   "metadata": {},
   "outputs": [],
   "source": []
  },
  {
   "cell_type": "code",
   "execution_count": null,
   "id": "dfec2f0c-b150-4004-a2b8-7ea5aeac5de9",
   "metadata": {},
   "outputs": [],
   "source": []
  }
 ],
 "metadata": {
  "kernelspec": {
   "display_name": "Python 3 (ipykernel)",
   "language": "python",
   "name": "python3"
  },
  "language_info": {
   "codemirror_mode": {
    "name": "ipython",
    "version": 3
   },
   "file_extension": ".py",
   "mimetype": "text/x-python",
   "name": "python",
   "nbconvert_exporter": "python",
   "pygments_lexer": "ipython3",
   "version": "3.12.6"
  }
 },
 "nbformat": 4,
 "nbformat_minor": 5
}
