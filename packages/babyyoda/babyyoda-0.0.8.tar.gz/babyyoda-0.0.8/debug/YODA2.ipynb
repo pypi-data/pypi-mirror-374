{
 "cells": [
  {
   "cell_type": "code",
   "execution_count": 4,
   "id": "cef24b79-6311-4a90-8d88-2301a719e3c5",
   "metadata": {},
   "outputs": [],
   "source": [
    "import yoda\n",
    "\n",
    "from babyyoda.Histo1D import HISTO1D\n",
    "\n",
    "\n",
    "def get_histo1d():\n",
    "    h = yoda.Histo1D(10, 0, 10, title=\"test\")\n",
    "    for i in range(12):\n",
    "        for _ in range(i):\n",
    "            h.fill(i)\n",
    "    h = HISTO1D(h)\n",
    "    h.underflow().fill(-1)\n",
    "    h.overflow().fill(10)\n",
    "    return h"
   ]
  },
  {
   "cell_type": "code",
   "execution_count": 5,
   "id": "2c5912c4-00e5-4667-a21c-ecb7d7b34e3a",
   "metadata": {},
   "outputs": [],
   "source": [
    "h = get_histo1d()"
   ]
  },
  {
   "cell_type": "code",
   "execution_count": 6,
   "id": "2b48134d-3d5c-46a8-a3ae-181f5e67847d",
   "metadata": {},
   "outputs": [
    {
     "data": {
      "image/png": "[encoded data removed]",
      "text/plain": [
       "<Figure size 640x480 with 1 Axes>"
      ]
     },
     "metadata": {},
     "output_type": "display_data"
    }
   ],
   "source": [
    "h"
   ]
  },
  {
   "cell_type": "code",
   "execution_count": 7,
   "id": "894a7667-c16b-42ab-8fe3-2c5f6842422e",
   "metadata": {},
   "outputs": [],
   "source": [
    "yoda.write([h.target], \"test.yoda\")"
   ]
  },
  {
   "cell_type": "code",
   "execution_count": 8,
   "id": "860a6dcd-2426-4eb7-ba9e-192005d53805",
   "metadata": {},
   "outputs": [],
   "source": [
    "b = h.target.bins()[0]"
   ]
  },
  {
   "cell_type": "code",
   "execution_count": 9,
   "id": "8db7286c-e980-4945-8887-aee777224b44",
   "metadata": {},
   "outputs": [
    {
     "data": {
      "text/plain": [
       "0.5"
      ]
     },
     "execution_count": 9,
     "metadata": {},
     "output_type": "execute_result"
    }
   ],
   "source": [
    "b.xMid()"
   ]
  },
  {
   "cell_type": "code",
   "execution_count": 10,
   "id": "992db612-1c23-4138-bd89-78e0d4e77648",
   "metadata": {},
   "outputs": [],
   "source": [
    "from babyyoda import grogu"
   ]
  },
  {
   "cell_type": "code",
   "execution_count": 12,
   "id": "3645df71-7cce-4019-9dee-c37b7ef5c15a",
   "metadata": {},
   "outputs": [],
   "source": [
    "gg = grogu.read(\"test.yoda\")"
   ]
  },
  {
   "cell_type": "code",
   "execution_count": 14,
   "id": "f5f113e7-7785-4a20-955f-527abdd5f805",
   "metadata": {},
   "outputs": [],
   "source": [
    "g = gg[\"/\"]"
   ]
  },
  {
   "cell_type": "code",
   "execution_count": 16,
   "id": "a4480963-c365-490a-91b7-557f87d21367",
   "metadata": {},
   "outputs": [
    {
     "ename": "AttributeError",
     "evalue": "'Bin' object has no attribute 'sumw'",
     "output_type": "error",
     "traceback": [
      "\u001b[0;31m---------------------------------------------------------------------------\u001b[0m",
      "\u001b[0;31mAttributeError\u001b[0m                            Traceback (most recent call last)",
      "Cell \u001b[0;32mIn[16], line 1\u001b[0m\n\u001b[0;32m----> 1\u001b[0m \u001b[43mg\u001b[49m\u001b[38;5;241;43m.\u001b[39;49m\u001b[43mto_string\u001b[49m\u001b[43m(\u001b[49m\u001b[43m)\u001b[49m\n",
      "File \u001b[0;32m~/.local/lib/python3.12/site-packages/babyyoda/grogu/histo1d_v3.py:310\u001b[0m, in \u001b[0;36mGROGU_HISTO1D_V3.to_string\u001b[0;34m(self)\u001b[0m\n\u001b[1;32m    300\u001b[0m header \u001b[38;5;241m=\u001b[39m (\n\u001b[1;32m    301\u001b[0m     \u001b[38;5;124mf\u001b[39m\u001b[38;5;124m\"\u001b[39m\u001b[38;5;124mBEGIN YODA_HISTO1D_V3 \u001b[39m\u001b[38;5;132;01m{\u001b[39;00m\u001b[38;5;28mself\u001b[39m\u001b[38;5;241m.\u001b[39md_key\u001b[38;5;132;01m}\u001b[39;00m\u001b[38;5;130;01m\\n\u001b[39;00m\u001b[38;5;124m\"\u001b[39m\n\u001b[1;32m    302\u001b[0m     \u001b[38;5;124mf\u001b[39m\u001b[38;5;124m\"\u001b[39m\u001b[38;5;124mPath: \u001b[39m\u001b[38;5;132;01m{\u001b[39;00m\u001b[38;5;28mself\u001b[39m\u001b[38;5;241m.\u001b[39md_path\u001b[38;5;132;01m}\u001b[39;00m\u001b[38;5;130;01m\\n\u001b[39;00m\u001b[38;5;124m\"\u001b[39m\n\u001b[0;32m   (...)\u001b[0m\n\u001b[1;32m    305\u001b[0m     \u001b[38;5;124m\"\u001b[39m\u001b[38;5;124m---\u001b[39m\u001b[38;5;130;01m\\n\u001b[39;00m\u001b[38;5;124m\"\u001b[39m\n\u001b[1;32m    306\u001b[0m )\n\u001b[1;32m    308\u001b[0m \u001b[38;5;66;03m# Add the sumw and other info (we assume it's present in the metadata but you could also compute)\u001b[39;00m\n\u001b[1;32m    309\u001b[0m stats \u001b[38;5;241m=\u001b[39m (\n\u001b[0;32m--> 310\u001b[0m     \u001b[38;5;124mf\u001b[39m\u001b[38;5;124m\"\u001b[39m\u001b[38;5;124m# Mean: \u001b[39m\u001b[38;5;132;01m{\u001b[39;00m\u001b[38;5;28msum\u001b[39m(b\u001b[38;5;241m.\u001b[39md_sumwx\u001b[38;5;250m \u001b[39m\u001b[38;5;28;01mfor\u001b[39;00m\u001b[38;5;250m \u001b[39mb\u001b[38;5;250m \u001b[39m\u001b[38;5;129;01min\u001b[39;00m\u001b[38;5;250m \u001b[39m\u001b[38;5;28mself\u001b[39m\u001b[38;5;241m.\u001b[39md_bins)\u001b[38;5;250m \u001b[39m\u001b[38;5;241m/\u001b[39m\u001b[38;5;250m \u001b[39m\u001b[38;5;28;43msum\u001b[39;49m\u001b[43m(\u001b[49m\u001b[43mb\u001b[49m\u001b[38;5;241;43m.\u001b[39;49m\u001b[43msumw\u001b[49m\u001b[38;5;250;43m \u001b[39;49m\u001b[38;5;28;43;01mfor\u001b[39;49;00m\u001b[38;5;250;43m \u001b[39;49m\u001b[43mb\u001b[49m\u001b[38;5;250;43m \u001b[39;49m\u001b[38;5;129;43;01min\u001b[39;49;00m\u001b[38;5;250;43m \u001b[39;49m\u001b[38;5;28;43mself\u001b[39;49m\u001b[38;5;241;43m.\u001b[39;49m\u001b[43md_bins\u001b[49m\u001b[43m)\u001b[49m\u001b[38;5;132;01m:\u001b[39;00m\u001b[38;5;124m.6e\u001b[39m\u001b[38;5;132;01m}\u001b[39;00m\u001b[38;5;130;01m\\n\u001b[39;00m\u001b[38;5;124m\"\u001b[39m\n\u001b[1;32m    311\u001b[0m     \u001b[38;5;124mf\u001b[39m\u001b[38;5;124m\"\u001b[39m\u001b[38;5;124m# Integral: \u001b[39m\u001b[38;5;132;01m{\u001b[39;00m\u001b[38;5;28msum\u001b[39m(b\u001b[38;5;241m.\u001b[39md_sumw\u001b[38;5;250m \u001b[39m\u001b[38;5;28;01mfor\u001b[39;00m\u001b[38;5;250m \u001b[39mb\u001b[38;5;250m \u001b[39m\u001b[38;5;129;01min\u001b[39;00m\u001b[38;5;250m \u001b[39m\u001b[38;5;28mself\u001b[39m\u001b[38;5;241m.\u001b[39md_bins)\u001b[38;5;132;01m:\u001b[39;00m\u001b[38;5;124m.6e\u001b[39m\u001b[38;5;132;01m}\u001b[39;00m\u001b[38;5;130;01m\\n\u001b[39;00m\u001b[38;5;124m\"\u001b[39m\n\u001b[1;32m    312\u001b[0m )\n\u001b[1;32m    314\u001b[0m edges \u001b[38;5;241m=\u001b[39m \u001b[38;5;124mf\u001b[39m\u001b[38;5;124m\"\u001b[39m\u001b[38;5;124mEdges(A1): [\u001b[39m\u001b[38;5;132;01m{\u001b[39;00m\u001b[38;5;124m'\u001b[39m\u001b[38;5;124m, \u001b[39m\u001b[38;5;124m'\u001b[39m\u001b[38;5;241m.\u001b[39mjoin(\u001b[38;5;28mstr\u001b[39m(e)\u001b[38;5;250m \u001b[39m\u001b[38;5;28;01mfor\u001b[39;00m\u001b[38;5;250m \u001b[39me\u001b[38;5;250m \u001b[39m\u001b[38;5;129;01min\u001b[39;00m\u001b[38;5;250m \u001b[39m\u001b[38;5;28mself\u001b[39m\u001b[38;5;241m.\u001b[39md_edges)\u001b[38;5;132;01m}\u001b[39;00m\u001b[38;5;124m]\u001b[39m\u001b[38;5;130;01m\\n\u001b[39;00m\u001b[38;5;124m\"\u001b[39m\n\u001b[1;32m    315\u001b[0m \u001b[38;5;66;03m# Add the bin data\u001b[39;00m\n",
      "File \u001b[0;32m~/.local/lib/python3.12/site-packages/babyyoda/grogu/histo1d_v3.py:310\u001b[0m, in \u001b[0;36m<genexpr>\u001b[0;34m(.0)\u001b[0m\n\u001b[1;32m    300\u001b[0m header \u001b[38;5;241m=\u001b[39m (\n\u001b[1;32m    301\u001b[0m     \u001b[38;5;124mf\u001b[39m\u001b[38;5;124m\"\u001b[39m\u001b[38;5;124mBEGIN YODA_HISTO1D_V3 \u001b[39m\u001b[38;5;132;01m{\u001b[39;00m\u001b[38;5;28mself\u001b[39m\u001b[38;5;241m.\u001b[39md_key\u001b[38;5;132;01m}\u001b[39;00m\u001b[38;5;130;01m\\n\u001b[39;00m\u001b[38;5;124m\"\u001b[39m\n\u001b[1;32m    302\u001b[0m     \u001b[38;5;124mf\u001b[39m\u001b[38;5;124m\"\u001b[39m\u001b[38;5;124mPath: \u001b[39m\u001b[38;5;132;01m{\u001b[39;00m\u001b[38;5;28mself\u001b[39m\u001b[38;5;241m.\u001b[39md_path\u001b[38;5;132;01m}\u001b[39;00m\u001b[38;5;130;01m\\n\u001b[39;00m\u001b[38;5;124m\"\u001b[39m\n\u001b[0;32m   (...)\u001b[0m\n\u001b[1;32m    305\u001b[0m     \u001b[38;5;124m\"\u001b[39m\u001b[38;5;124m---\u001b[39m\u001b[38;5;130;01m\\n\u001b[39;00m\u001b[38;5;124m\"\u001b[39m\n\u001b[1;32m    306\u001b[0m )\n\u001b[1;32m    308\u001b[0m \u001b[38;5;66;03m# Add the sumw and other info (we assume it's present in the metadata but you could also compute)\u001b[39;00m\n\u001b[1;32m    309\u001b[0m stats \u001b[38;5;241m=\u001b[39m (\n\u001b[0;32m--> 310\u001b[0m     \u001b[38;5;124mf\u001b[39m\u001b[38;5;124m\"\u001b[39m\u001b[38;5;124m# Mean: \u001b[39m\u001b[38;5;132;01m{\u001b[39;00m\u001b[38;5;28msum\u001b[39m(b\u001b[38;5;241m.\u001b[39md_sumwx\u001b[38;5;250m \u001b[39m\u001b[38;5;28;01mfor\u001b[39;00m\u001b[38;5;250m \u001b[39mb\u001b[38;5;250m \u001b[39m\u001b[38;5;129;01min\u001b[39;00m\u001b[38;5;250m \u001b[39m\u001b[38;5;28mself\u001b[39m\u001b[38;5;241m.\u001b[39md_bins)\u001b[38;5;250m \u001b[39m\u001b[38;5;241m/\u001b[39m\u001b[38;5;250m \u001b[39m\u001b[38;5;28msum\u001b[39m(\u001b[43mb\u001b[49m\u001b[38;5;241;43m.\u001b[39;49m\u001b[43msumw\u001b[49m\u001b[38;5;250m \u001b[39m\u001b[38;5;28;01mfor\u001b[39;00m\u001b[38;5;250m \u001b[39mb\u001b[38;5;250m \u001b[39m\u001b[38;5;129;01min\u001b[39;00m\u001b[38;5;250m \u001b[39m\u001b[38;5;28mself\u001b[39m\u001b[38;5;241m.\u001b[39md_bins)\u001b[38;5;132;01m:\u001b[39;00m\u001b[38;5;124m.6e\u001b[39m\u001b[38;5;132;01m}\u001b[39;00m\u001b[38;5;130;01m\\n\u001b[39;00m\u001b[38;5;124m\"\u001b[39m\n\u001b[1;32m    311\u001b[0m     \u001b[38;5;124mf\u001b[39m\u001b[38;5;124m\"\u001b[39m\u001b[38;5;124m# Integral: \u001b[39m\u001b[38;5;132;01m{\u001b[39;00m\u001b[38;5;28msum\u001b[39m(b\u001b[38;5;241m.\u001b[39md_sumw\u001b[38;5;250m \u001b[39m\u001b[38;5;28;01mfor\u001b[39;00m\u001b[38;5;250m \u001b[39mb\u001b[38;5;250m \u001b[39m\u001b[38;5;129;01min\u001b[39;00m\u001b[38;5;250m \u001b[39m\u001b[38;5;28mself\u001b[39m\u001b[38;5;241m.\u001b[39md_bins)\u001b[38;5;132;01m:\u001b[39;00m\u001b[38;5;124m.6e\u001b[39m\u001b[38;5;132;01m}\u001b[39;00m\u001b[38;5;130;01m\\n\u001b[39;00m\u001b[38;5;124m\"\u001b[39m\n\u001b[1;32m    312\u001b[0m )\n\u001b[1;32m    314\u001b[0m edges \u001b[38;5;241m=\u001b[39m \u001b[38;5;124mf\u001b[39m\u001b[38;5;124m\"\u001b[39m\u001b[38;5;124mEdges(A1): [\u001b[39m\u001b[38;5;132;01m{\u001b[39;00m\u001b[38;5;124m'\u001b[39m\u001b[38;5;124m, \u001b[39m\u001b[38;5;124m'\u001b[39m\u001b[38;5;241m.\u001b[39mjoin(\u001b[38;5;28mstr\u001b[39m(e)\u001b[38;5;250m \u001b[39m\u001b[38;5;28;01mfor\u001b[39;00m\u001b[38;5;250m \u001b[39me\u001b[38;5;250m \u001b[39m\u001b[38;5;129;01min\u001b[39;00m\u001b[38;5;250m \u001b[39m\u001b[38;5;28mself\u001b[39m\u001b[38;5;241m.\u001b[39md_edges)\u001b[38;5;132;01m}\u001b[39;00m\u001b[38;5;124m]\u001b[39m\u001b[38;5;130;01m\\n\u001b[39;00m\u001b[38;5;124m\"\u001b[39m\n\u001b[1;32m    315\u001b[0m \u001b[38;5;66;03m# Add the bin data\u001b[39;00m\n",
      "\u001b[0;31mAttributeError\u001b[0m: 'Bin' object has no attribute 'sumw'"
     ]
    }
   ],
   "source": [
    "g.to_string()"
   ]
  },
  {
   "cell_type": "code",
   "execution_count": 29,
   "id": "b416531d-ce1d-4ec1-b4c9-f6ccc47d0ad5",
   "metadata": {},
   "outputs": [],
   "source": [
    "h = yoda.Histo1D(10, 0, 10)"
   ]
  },
  {
   "cell_type": "code",
   "execution_count": 30,
   "id": "fd05f306-67bd-462f-90f0-b3c759fb4a22",
   "metadata": {},
   "outputs": [
    {
     "data": {
      "text/plain": [
       "[0.0, 1.0, 2.0, 3.0, 4.0, 5.0, 6.0, 7.0, 8.0, 9.0, 10.0]"
      ]
     },
     "execution_count": 30,
     "metadata": {},
     "output_type": "execute_result"
    }
   ],
   "source": [
    "h.xEdges()"
   ]
  },
  {
   "cell_type": "code",
   "execution_count": 31,
   "id": "0e7c5762-e776-4ec2-89b0-b046468eb6a7",
   "metadata": {},
   "outputs": [],
   "source": [
    "h.rebinXBy(3, begin=2, end=7)"
   ]
  },
  {
   "cell_type": "code",
   "execution_count": 32,
   "id": "49d76a40-8a00-427b-a1e9-21bb5711b9a1",
   "metadata": {},
   "outputs": [
    {
     "data": {
      "text/plain": [
       "[0.0, 1.0, 4.0, 7.0, 8.0, 9.0, 10.0]"
      ]
     },
     "execution_count": 32,
     "metadata": {},
     "output_type": "execute_result"
    }
   ],
   "source": [
    "h.xEdges()"
   ]
  },
  {
   "cell_type": "code",
   "execution_count": 33,
   "id": "4ed3f7f5-6805-4d5b-8569-15a23c514a21",
   "metadata": {},
   "outputs": [
    {
     "data": {
      "text/plain": [
       "array([<Dbn1D(mean=None, stddev=None)>, <Dbn1D(mean=None, stddev=None)>,\n",
       "       <Dbn1D(mean=None, stddev=None)>, <Dbn1D(mean=None, stddev=None)>,\n",
       "       <Dbn1D(mean=None, stddev=None)>, <Dbn1D(mean=None, stddev=None)>],\n",
       "      dtype=object)"
      ]
     },
     "execution_count": 33,
     "metadata": {},
     "output_type": "execute_result"
    }
   ],
   "source": [
    "h.bins()"
   ]
  },
  {
   "cell_type": "code",
   "execution_count": null,
   "id": "364ee9b2-0c6e-4bb6-a932-cc36f32bcf1f",
   "metadata": {},
   "outputs": [],
   "source": []
  }
 ],
 "metadata": {
  "kernelspec": {
   "display_name": "Python 3 (ipykernel)",
   "language": "python",
   "name": "python3"
  },
  "language_info": {
   "codemirror_mode": {
    "name": "ipython",
    "version": 3
   },
   "file_extension": ".py",
   "mimetype": "text/x-python",
   "name": "python",
   "nbconvert_exporter": "python",
   "pygments_lexer": "ipython3",
   "version": "3.12.6"
  }
 },
 "nbformat": 4,
 "nbformat_minor": 5
}
