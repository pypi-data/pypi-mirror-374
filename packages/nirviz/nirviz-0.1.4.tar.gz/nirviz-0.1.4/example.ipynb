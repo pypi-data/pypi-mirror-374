{
 "cells": [
  {
   "cell_type": "code",
   "execution_count": null,
   "id": "e6489ed2",
   "metadata": {
    "collapsed": false,
    "jupyter": {
     "outputs_hidden": false
    }
   },
   "outputs": [],
   "source": [
    "import nir\n",
    "import nirviz\n",
    "import importlib\n",
    "importlib.reload(nirviz)\n",
    "import numpy as np\n",
    "\n",
    "print(f\"nirviz style file location: {nirviz.visualize.default_style_file()}\")"
   ]
  },
  {
   "cell_type": "code",
   "execution_count": null,
   "id": "f20f2f04-b905-4398-8134-4b8c529a4097",
   "metadata": {
    "collapsed": false
   },
   "outputs": [],
   "source": [
    "w = np.random.randn(2, 2)\n",
    "graph = nir.NIRGraph.from_list(nir.Linear(weight=w), nir.Linear(weight=w))\n",
    "viz = nirviz.visualize(graph)\n",
    "viz.show()"
   ]
  },
  {
   "cell_type": "code",
   "execution_count": null,
   "id": "dc7287c0-888d-4d1a-a149-a0620866fd1b",
   "metadata": {
    "collapsed": false,
    "jupyter": {
     "outputs_hidden": false
    }
   },
   "outputs": [],
   "source": [
    "import snntorch as snn\n",
    "import torch\n",
    "\n",
    "importlib.reload(snn)\n",
    "importlib.reload(nirviz)\n",
    "import numpy as np\n",
    "\n",
    "lif1 = snn.Leaky(beta=0.9, init_hidden=True)\n",
    "lif2 = snn.Leaky(beta=0.9, init_hidden=True, output=True)\n",
    "\n",
    "# Create a network\n",
    "snntorch_network = torch.nn.Sequential(\n",
    "    torch.nn.Flatten(),\n",
    "    torch.nn.Linear(784, 500),\n",
    "    lif1,\n",
    "    torch.nn.Linear(500, 10),\n",
    "    lif2\n",
    ")\n",
    "\n",
    "sample_data = torch.randn(1, 784)\n",
    "\n",
    "# Export to nir\n",
    "nir_model = snn.export_to_nir(snntorch_network, sample_data)\n",
    "\n",
    "viz = nirviz.visualize(nir_model)\n",
    "viz.show()"
   ]
  },
  {
   "cell_type": "code",
   "execution_count": null,
   "id": "bef33566-65eb-4c5f-b227-c65f5aec2224",
   "metadata": {
    "collapsed": false,
    "jupyter": {
     "outputs_hidden": false
    }
   },
   "outputs": [],
   "source": [
    "a = np.random.randn(2)\n",
    "ir = nir.NIRGraph(\n",
    "    nodes={\n",
    "        \"input\": nir.Input(input_type=np.array([2])),\n",
    "        \"affine1\": nir.Affine(weight=np.zeros((2,2)), bias=False),\n",
    "        \"cu1\": nir.CubaLIF(tau_mem=a, tau_syn=a, r=a, v_leak=a, v_threshold=a, v_reset=a),\n",
    "        \"affine_rec\": nir.Affine(weight=np.zeros((2,2)), bias=False),\n",
    "        \"affine2\": nir.Affine(weight=np.zeros((2,2)), bias=False),\n",
    "        \"cu2\": nir.CubaLIF(tau_mem=a, tau_syn=a, r=a, v_leak=a, v_threshold=a, v_reset=a),\n",
    "        \"output\": nir.Output(output_type=np.array([2]))\n",
    "    },\n",
    "    edges=[(\"input\", \"affine1\"), (\"affine1\", \"cu1\"), (\"affine_rec\", \"cu1\"),  (\"cu1\", \"affine_rec\"), (\"cu1\", \"affine2\"), (\"affine2\", \"cu2\"), (\"cu2\", \"output\")])\n",
    "\n",
    "nir.write(\"./srnn.nir\", ir)\n",
    "\n",
    "viz = nirviz.visualize(ir)\n",
    "viz.show()\n",
    "viz.to_image().save(\"./img/srnn.png\")"
   ]
  },
  {
   "cell_type": "code",
   "execution_count": null,
   "id": "771a1f1e-f538-4eb1-992e-a05b87f6e5d5",
   "metadata": {
    "collapsed": false
   },
   "outputs": [],
   "source": [
    "import nir\n",
    "import nirviz\n",
    "import numpy as np\n",
    "\n",
    "a = np.random.randn(2)\n",
    "\n",
    "cuba_params = {'type': 'CubaLIF', 'tau_mem': a, 'tau_syn': a, 'r': a, 'v_leak': a, 'v_threshold': a}\n",
    "affine_params = {'type': 'Affine', 'weight': np.zeros((2,2)), 'bias': False}\n",
    "\n",
    "ir = nir.NIRGraph(\n",
    "    nodes={\n",
    "        \"input\": nir.Input(input_type=np.array([2])),\n",
    "        \"affine1\": nir.Affine.from_dict(affine_params),\n",
    "        \"cu1\": nir.CubaLIF.from_dict(cuba_params),\n",
    "        \"affine_rec\": nir.Affine.from_dict(affine_params),\n",
    "        \"affine2\": nir.Affine.from_dict(affine_params),\n",
    "        \"cu2\": nir.CubaLIF.from_dict(cuba_params),\n",
    "        \"output\": nir.Output(output_type=np.array([2]))\n",
    "    },\n",
    "    edges=[(\"input\", \"affine1\"), (\"affine1\", \"cu1\"), (\"affine_rec\", \"cu1\"),  (\"cu1\", \"affine_rec\"), (\"cu1\", \"affine2\"), (\"affine2\", \"cu2\"), (\"cu2\", \"output\")])\n",
    "\n",
    "\n",
    "\n",
    "viz = nirviz.visualize(ir)\n",
    "viz.show()\n"
   ]
  }
 ],
 "metadata": {
  "kernelspec": {
   "argv": [
    "python",
    "-m",
    "ipykernel_launcher",
    "-f",
    "{connection_file}"
   ],
   "display_name": "Python 3 (ipykernel)",
   "env": null,
   "interrupt_mode": "signal",
   "language": "python",
   "metadata": {
    "debugger": true
   },
   "name": "python3"
  },
  "language_info": {
   "codemirror_mode": {
    "name": "ipython",
    "version": 3
   },
   "file_extension": ".py",
   "mimetype": "text/x-python",
   "name": "python",
   "nbconvert_exporter": "python",
   "pygments_lexer": "ipython3",
   "version": "3.12.3"
  },
  "name": "example.ipynb"
 },
 "nbformat": 4,
 "nbformat_minor": 5
}
