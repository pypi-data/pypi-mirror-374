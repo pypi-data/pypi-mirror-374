{
 "cells": [
  {
   "cell_type": "code",
   "execution_count": 1,
   "id": "3406b7b3",
   "metadata": {},
   "outputs": [
    {
     "name": "stderr",
     "output_type": "stream",
     "text": [
      "Skipped loading modules with pytorch-lightning dependency, missing a dependency. No module named 'pytorch_lightning'\n",
      "Skipped loading some Jax models, missing a dependency. No module named 'jax'\n"
     ]
    }
   ],
   "source": [
    "import pickle\n",
    "import numpy as np\n",
    "import deepchem as dc\n",
    "from sklearn.feature_selection import VarianceThreshold\n",
    "import pandas as pd\n",
    "import seaborn as sns\n",
    "import matplotlib.pyplot as plt"
   ]
  },
  {
   "cell_type": "code",
   "execution_count": 2,
   "id": "054582b3",
   "metadata": {},
   "outputs": [],
   "source": [
    "def featurizer(featname, data, plant):\n",
    "    if featname == \"MACCS\":\n",
    "        featurizer_maccs = dc.feat.MACCSKeysFingerprint()\n",
    "        data_features = featurizer_maccs.featurize(data['smiles'])\n",
    "        plant_features = featurizer_maccs.featurize(plant['SMILES'])\n",
    "\n",
    "        vt = VarianceThreshold(threshold=(.98 * (1 - .98)))\n",
    "        data_selected = vt.fit_transform(data_features)\n",
    "        mask = vt.get_support(indices=True)\n",
    "        plant_selected = plant_features[:, mask]\n",
    "        dataset = dc.data.NumpyDataset(data_selected, data['class'])\n",
    "    \n",
    "    elif featname == \"RDkit\":\n",
    "        featurizer_rdkit = dc.feat.RDKitDescriptors()\n",
    "        data_features = featurizer_rdkit.featurize(data['smiles'])\n",
    "        plant_features = featurizer_rdkit.featurize(plant['SMILES'])\n",
    "\n",
    "        vt = VarianceThreshold(threshold=(.98 * (1 - .98)))\n",
    "        data_selected = vt.fit_transform(data_features)\n",
    "        mask = vt.get_support(indices=True)\n",
    "        plant_selected = plant_features[:, mask]\n",
    "        dataset = dc.data.NumpyDataset(data_selected, data['class'])\n",
    "    \n",
    "    else:\n",
    "        raise ValueError(\"Unsupported feature type\")\n",
    "\n",
    "    return dataset, plant_selected"
   ]
  },
  {
   "cell_type": "code",
   "execution_count": null,
   "id": "6ccf3ba3",
   "metadata": {},
   "outputs": [],
   "source": [
    "data = pd.read_csv('../data/GABAA.csv',encoding='gb18030')\n",
    "new_data = pd.read_excel('../data/application_domain.xlsx',sheet_name='Removes rdkit error SMILES')\n",
    "\n",
    "new_maccs, plant_maccs = featurizer('MACCS', data, new_data)\n",
    "new_rdkit, plant_rdkit = featurizer('RDkit', data, new_data)"
   ]
  }
 ],
 "metadata": {
  "kernelspec": {
   "display_name": "bittersweet",
   "language": "python",
   "name": "bittersweet"
  },
  "language_info": {
   "codemirror_mode": {
    "name": "ipython",
    "version": 3
   },
   "file_extension": ".py",
   "mimetype": "text/x-python",
   "name": "python",
   "nbconvert_exporter": "python",
   "pygments_lexer": "ipython3",
   "version": "3.8.16"
  }
 },
 "nbformat": 4,
 "nbformat_minor": 5
}
