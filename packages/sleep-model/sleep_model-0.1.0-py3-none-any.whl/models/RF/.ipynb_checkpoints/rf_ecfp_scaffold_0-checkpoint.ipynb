{
 "cells": [
  {
   "cell_type": "code",
   "execution_count": 1,
   "id": "ecc7c8e8",
   "metadata": {},
   "outputs": [
    {
     "name": "stderr",
     "output_type": "stream",
     "text": [
      "Skipped loading some Tensorflow models, missing a dependency. No module named 'tensorflow'\n",
      "Skipped loading modules with pytorch-geometric dependency, missing a dependency. No module named 'torch_geometric'\n",
      "Skipped loading modules with pytorch-geometric dependency, missing a dependency. cannot import name 'DMPNN' from 'deepchem.models.torch_models' (D:\\anaconda\\envs\\PI3K\\lib\\site-packages\\deepchem\\models\\torch_models\\__init__.py)\n",
      "Skipped loading modules with pytorch-lightning dependency, missing a dependency. No module named 'pytorch_lightning'\n",
      "Skipped loading some Jax models, missing a dependency. No module named 'jax'\n"
     ]
    }
   ],
   "source": [
    "import deepchem as dc\n",
    "import pandas as pd\n",
    "import numpy as np\n",
    "from rdkit import Chem\n",
    "\n",
    "from sklearn.ensemble import RandomForestClassifier\n",
    "from sklearn.model_selection import GridSearchCV,KFold\n",
    "\n",
    "from sklearn.metrics import make_scorer\n",
    "from sklearn.metrics import confusion_matrix\n",
    "from sklearn.metrics import roc_auc_score\n",
    "from sklearn.metrics import f1_score\n",
    "from sklearn.metrics import balanced_accuracy_score\n",
    "from sklearn.metrics import matthews_corrcoef"
   ]
  },
  {
   "cell_type": "code",
   "execution_count": 2,
   "id": "9fccf3ea",
   "metadata": {},
   "outputs": [],
   "source": [
    "data = pd.read_csv('../../data/refined_gabaa.csv')"
   ]
  },
  {
   "cell_type": "markdown",
   "id": "fd9ea61e",
   "metadata": {},
   "source": [
    "# Feature extraction & Data splitting"
   ]
  },
  {
   "cell_type": "code",
   "execution_count": 3,
   "id": "bbaf0558",
   "metadata": {},
   "outputs": [],
   "source": [
    "featurizer = dc.feat.CircularFingerprint(size=1024,radius=4)\n",
    "X = featurizer.featurize(data['smiles'])\n",
    "Y = data['label']\n",
    "dataset = dc.data.DiskDataset.from_numpy(X=X,y=Y,ids=data['smiles'])"
   ]
  },
  {
   "cell_type": "code",
   "execution_count": 4,
   "id": "aa1cc6e5",
   "metadata": {},
   "outputs": [],
   "source": [
    "splitter = dc.splits.ScaffoldSplitter()\n",
    "train_dataset,test_dataset = splitter.train_test_split(dataset=dataset,frac_train=0.7,seed=100)"
   ]
  },
  {
   "cell_type": "markdown",
   "id": "a9466420",
   "metadata": {},
   "source": [
    "# GridSearchCV"
   ]
  },
  {
   "cell_type": "code",
   "execution_count": 6,
   "id": "3b49417b",
   "metadata": {},
   "outputs": [],
   "source": [
    "scoring = {\n",
    "          'F1':make_scorer(f1_score),\n",
    "          'AUC':make_scorer(roc_auc_score),\n",
    "           'BA':make_scorer(balanced_accuracy_score),\n",
    "           'MCC':make_scorer(matthews_corrcoef)\n",
    "}\n",
    "\n",
    "rf_param_grid = {'n_estimators':[150,200,250,300,350,400,450,500],\n",
    "              'max_depth':[20,30,40,50,60,70,80,90,100,110],\n",
    "            'max_features':[\"auto\", \"sqrt\", \"log2\"]}\n",
    "    \n",
    "    \n",
    "rf_classifier = RandomForestClassifier()\n",
    "cv = KFold(n_splits=5, shuffle=True, random_state=100)\n",
    "\n",
    "rf_gs = GridSearchCV(\n",
    "                    rf_classifier,\n",
    "                   rf_param_grid,\n",
    "                 scoring = scoring,\n",
    "                  cv = cv,\n",
    "                 n_jobs = -1,\n",
    "               refit = 'F1',\n",
    "           return_train_score = True)\n",
    "\n",
    "rf_gs_fit = rf_gs.fit(train_dataset.X, train_dataset.y.ravel())"
   ]
  },
  {
   "cell_type": "code",
   "execution_count": 7,
   "id": "06ee8bff",
   "metadata": {},
   "outputs": [],
   "source": [
    "val_F1 = rf_gs.best_score_\n",
    "val_AUC = rf_gs.cv_results_['mean_test_AUC'][rf_gs.best_index_]\n",
    "val_BA = rf_gs.cv_results_['mean_test_BA'][rf_gs.best_index_]\n",
    "val_MCC = rf_gs.cv_results_['mean_test_MCC'][rf_gs.best_index_]"
   ]
  },
  {
   "cell_type": "markdown",
   "id": "2d58b588",
   "metadata": {},
   "source": [
    "# GridSearchCV_Result"
   ]
  },
  {
   "cell_type": "code",
   "execution_count": 8,
   "id": "e2caeb3e",
   "metadata": {},
   "outputs": [
    {
     "name": "stdout",
     "output_type": "stream",
     "text": [
      "Best parameters:  {'max_depth': 110, 'max_features': 'sqrt', 'n_estimators': 250}\n",
      "Best score (F1):  0.8060329585810784\n",
      "AUC:  0.8527627651219966\n",
      "BA:  0.8527627651219966\n",
      "MCC:  0.7208078000305711\n"
     ]
    }
   ],
   "source": [
    "print('Best parameters: ', rf_gs.best_params_)\n",
    "print('Best score (F1): ', rf_gs.best_score_)\n",
    "print('AUC: ', rf_gs.cv_results_['mean_test_AUC'][rf_gs.best_index_])\n",
    "print('BA: ', rf_gs.cv_results_['mean_test_BA'][rf_gs.best_index_])\n",
    "print('MCC: ',rf_gs.cv_results_['mean_test_MCC'][rf_gs.best_index_])"
   ]
  },
  {
   "cell_type": "code",
   "execution_count": 9,
   "id": "fe84f2c8",
   "metadata": {},
   "outputs": [
    {
     "data": {
      "text/plain": [
       "RandomForestClassifier(max_depth=110, max_features='sqrt', n_estimators=250)"
      ]
     },
     "execution_count": 9,
     "metadata": {},
     "output_type": "execute_result"
    }
   ],
   "source": [
    "rf_model = rf_gs_fit.best_estimator_\n",
    "rf_model"
   ]
  },
  {
   "cell_type": "markdown",
   "id": "d0bb4b4e",
   "metadata": {},
   "source": [
    "# Evaluate model"
   ]
  },
  {
   "cell_type": "code",
   "execution_count": 10,
   "id": "87015b34",
   "metadata": {},
   "outputs": [],
   "source": [
    "y_test_pred_proba = rf_model.predict_proba(test_dataset.X)"
   ]
  },
  {
   "cell_type": "code",
   "execution_count": 11,
   "id": "7f6f6c94",
   "metadata": {},
   "outputs": [],
   "source": [
    "y_test_pred = rf_model.predict(test_dataset.X)"
   ]
  },
  {
   "cell_type": "code",
   "execution_count": 14,
   "id": "390697bc",
   "metadata": {},
   "outputs": [],
   "source": [
    "rf_test_pred_list = []\n",
    "for test_score in y_test_pred_proba:\n",
    "    test_score = test_score[1]\n",
    "    rf_test_pred_list.append(test_score)"
   ]
  },
  {
   "cell_type": "code",
   "execution_count": 15,
   "id": "932325cb",
   "metadata": {},
   "outputs": [],
   "source": [
    "rf_test_pred_array = np.array(rf_test_pred_list)"
   ]
  },
  {
   "cell_type": "code",
   "execution_count": 24,
   "id": "e4d22b33",
   "metadata": {},
   "outputs": [
    {
     "data": {
      "text/plain": [
       "array([[153,  25],\n",
       "       [165, 230]], dtype=int64)"
      ]
     },
     "execution_count": 24,
     "metadata": {},
     "output_type": "execute_result"
    }
   ],
   "source": [
    "confusion_matrix(test_dataset.y, y_test_pred)"
   ]
  },
  {
   "cell_type": "code",
   "execution_count": 22,
   "id": "33da1624",
   "metadata": {},
   "outputs": [],
   "source": [
    "tn, fp, fn, tp = confusion_matrix(test_dataset.y, y_test_pred).ravel()"
   ]
  },
  {
   "cell_type": "code",
   "execution_count": 26,
   "id": "c990b3d0",
   "metadata": {},
   "outputs": [
    {
     "name": "stdout",
     "output_type": "stream",
     "text": [
      "TN: 153\n",
      "FP: 25\n",
      "FN: 165\n",
      "TP: 230\n"
     ]
    }
   ],
   "source": [
    "print('TN:', tn)\n",
    "print('FP:', fp)\n",
    "print('FN:', fn)\n",
    "print('TP:', tp)"
   ]
  },
  {
   "cell_type": "code",
   "execution_count": 27,
   "id": "354fca97",
   "metadata": {},
   "outputs": [],
   "source": [
    "test_F1 = f1_score(test_dataset.y,np.round(rf_test_pred_array))\n",
    "test_AUC = roc_auc_score(test_dataset.y,rf_test_pred_list)\n",
    "test_BA =  balanced_accuracy_score(test_dataset.y,np.round(rf_test_pred_array))\n",
    "test_MCC = matthews_corrcoef(test_dataset.y,np.round(rf_test_pred_array))"
   ]
  },
  {
   "cell_type": "markdown",
   "id": "fd501f3a",
   "metadata": {},
   "source": [
    "# Finall result"
   ]
  },
  {
   "cell_type": "code",
   "execution_count": 28,
   "id": "1dc26a3e",
   "metadata": {},
   "outputs": [],
   "source": [
    "rf_performance_dataset = {\n",
    "    'F1':[val_F1,test_F1],\n",
    "    'AUC':[val_AUC,test_AUC],\n",
    "    'BA':[val_BA,test_BA],\n",
    "    'MCC':[val_MCC,test_MCC],\n",
    "}"
   ]
  },
  {
   "cell_type": "code",
   "execution_count": 29,
   "id": "e729b8d4",
   "metadata": {},
   "outputs": [
    {
     "data": {
      "text/html": [
       "<div>\n",
       "<style scoped>\n",
       "    .dataframe tbody tr th:only-of-type {\n",
       "        vertical-align: middle;\n",
       "    }\n",
       "\n",
       "    .dataframe tbody tr th {\n",
       "        vertical-align: top;\n",
       "    }\n",
       "\n",
       "    .dataframe thead th {\n",
       "        text-align: right;\n",
       "    }\n",
       "</style>\n",
       "<table border=\"1\" class=\"dataframe\">\n",
       "  <thead>\n",
       "    <tr style=\"text-align: right;\">\n",
       "      <th></th>\n",
       "      <th>F1</th>\n",
       "      <th>AUC</th>\n",
       "      <th>BA</th>\n",
       "      <th>MCC</th>\n",
       "    </tr>\n",
       "  </thead>\n",
       "  <tbody>\n",
       "    <tr>\n",
       "      <th>val</th>\n",
       "      <td>0.806033</td>\n",
       "      <td>0.852763</td>\n",
       "      <td>0.852763</td>\n",
       "      <td>0.720808</td>\n",
       "    </tr>\n",
       "    <tr>\n",
       "      <th>test</th>\n",
       "      <td>0.707692</td>\n",
       "      <td>0.862957</td>\n",
       "      <td>0.720915</td>\n",
       "      <td>0.411414</td>\n",
       "    </tr>\n",
       "  </tbody>\n",
       "</table>\n",
       "</div>"
      ],
      "text/plain": [
       "            F1       AUC        BA       MCC\n",
       "val   0.806033  0.852763  0.852763  0.720808\n",
       "test  0.707692  0.862957  0.720915  0.411414"
      ]
     },
     "execution_count": 29,
     "metadata": {},
     "output_type": "execute_result"
    }
   ],
   "source": [
    "rf_performance = pd.DataFrame(rf_performance_dataset,index=['val','test'])\n",
    "rf_performance"
   ]
  }
 ],
 "metadata": {
  "kernelspec": {
   "display_name": "PI3K",
   "language": "python",
   "name": "pi3k"
  },
  "language_info": {
   "codemirror_mode": {
    "name": "ipython",
    "version": 3
   },
   "file_extension": ".py",
   "mimetype": "text/x-python",
   "name": "python",
   "nbconvert_exporter": "python",
   "pygments_lexer": "ipython3",
   "version": "3.7.11"
  }
 },
 "nbformat": 4,
 "nbformat_minor": 5
}
