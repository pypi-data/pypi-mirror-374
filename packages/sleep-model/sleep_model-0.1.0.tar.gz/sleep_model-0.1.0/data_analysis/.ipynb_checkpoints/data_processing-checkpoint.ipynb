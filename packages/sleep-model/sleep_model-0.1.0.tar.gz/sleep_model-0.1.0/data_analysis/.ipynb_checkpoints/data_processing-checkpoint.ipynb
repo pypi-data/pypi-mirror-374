{
 "cells": [
  {
   "cell_type": "code",
   "execution_count": 1,
   "id": "916bdded",
   "metadata": {},
   "outputs": [],
   "source": [
    "import pandas as pd  # Import pandas for data manipulation\n",
    "from rdkit import Chem  # Import RDKit for chemical informatics\n",
    "\n",
    "from rdkit.Chem import rdMolDescriptors  # Import molecular descriptor functions from RDKit"
   ]
  },
  {
   "cell_type": "markdown",
   "id": "d26072e3",
   "metadata": {},
   "source": [
    "# GABAA_processing"
   ]
  },
  {
   "cell_type": "code",
   "execution_count": 2,
   "id": "7478aeaa",
   "metadata": {},
   "outputs": [],
   "source": [
    "# Load the 'GABAA.csv' file into a pandas DataFrame\n",
    "data = pd.read_csv('../data/GABAA.csv', encoding='gb2312')"
   ]
  },
  {
   "cell_type": "code",
   "execution_count": 4,
   "id": "c24c52e3",
   "metadata": {},
   "outputs": [],
   "source": [
    "# Function to check if a given SMILES string contains metal atoms\n",
    "def contains_metal(smiles):\n",
    "    mol = Chem.MolFromSmiles(smiles)  # Convert SMILES string to RDKit molecular object\n",
    "    if mol:  # Check if molecule conversion was successful\n",
    "        for atom in mol.GetAtoms():  # Iterate through each atom in the molecule\n",
    "            # Check if the atomic number corresponds to a metal\n",
    "            if atom.GetAtomicNum() in [3, 11, 13, 19, 20, 25, 26, 29, 30, 42, 47, 50, 73, 74, 78, 79, 80, 82, 83]:\n",
    "                return True  # Return True if a metal atom is found\n",
    "    return False  # Return False if no metal atoms are found"
   ]
  },
  {
   "cell_type": "code",
   "execution_count": 4,
   "id": "30d765cb",
   "metadata": {},
   "outputs": [],
   "source": [
    "# Filter out molecules that contain metal atoms\n",
    "filtered_df = data[~data['smiles'].apply(contains_metal)]"
   ]
  },
  {
   "cell_type": "code",
   "execution_count": 5,
   "id": "30d11551",
   "metadata": {},
   "outputs": [],
   "source": [
    "# Calculate the exact molecular weight for each molecule\n",
    "filtered_df['molecular_weight'] = filtered_df['smiles'].apply(\n",
    "    lambda x: rdMolDescriptors.CalcExactMolWt(Chem.MolFromSmiles(x)) if Chem.MolFromSmiles(x) else None\n",
    ")"
   ]
  },
  {
   "cell_type": "code",
   "execution_count": 6,
   "id": "6d1b71aa",
   "metadata": {},
   "outputs": [],
   "source": [
    "# Further filter molecules based on molecular weight (between 30 and 1000 Da)\n",
    "filtered_df_2 = filtered_df[(filtered_df['molecular_weight'] >= 30) & (filtered_df['molecular_weight'] <= 1000)]"
   ]
  },
  {
   "cell_type": "code",
   "execution_count": 7,
   "id": "16f7b634",
   "metadata": {},
   "outputs": [
    {
     "data": {
      "text/html": [
       "<div>\n",
       "<style scoped>\n",
       "    .dataframe tbody tr th:only-of-type {\n",
       "        vertical-align: middle;\n",
       "    }\n",
       "\n",
       "    .dataframe tbody tr th {\n",
       "        vertical-align: top;\n",
       "    }\n",
       "\n",
       "    .dataframe thead th {\n",
       "        text-align: right;\n",
       "    }\n",
       "</style>\n",
       "<table border=\"1\" class=\"dataframe\">\n",
       "  <thead>\n",
       "    <tr style=\"text-align: right;\">\n",
       "      <th></th>\n",
       "      <th>name</th>\n",
       "      <th>origin</th>\n",
       "      <th>label</th>\n",
       "      <th>smiles</th>\n",
       "      <th>class</th>\n",
       "      <th>molecular_weight</th>\n",
       "    </tr>\n",
       "  </thead>\n",
       "  <tbody>\n",
       "    <tr>\n",
       "      <th>0</th>\n",
       "      <td>gamma-Aminobutyric acid</td>\n",
       "      <td>10.3390/molecules24152678</td>\n",
       "      <td>GABAA agonist</td>\n",
       "      <td>C(CC(=O)O)CN</td>\n",
       "      <td>1</td>\n",
       "      <td>103.063329</td>\n",
       "    </tr>\n",
       "    <tr>\n",
       "      <th>1</th>\n",
       "      <td>Menthol</td>\n",
       "      <td>10.1111/bph.12602</td>\n",
       "      <td>GABAA agonist</td>\n",
       "      <td>CC1CCC(C(C1)O)C(C)C</td>\n",
       "      <td>1</td>\n",
       "      <td>156.151415</td>\n",
       "    </tr>\n",
       "    <tr>\n",
       "      <th>2</th>\n",
       "      <td>phenobarbital</td>\n",
       "      <td>10.1002/ana.24967</td>\n",
       "      <td>GABAA agonist</td>\n",
       "      <td>CCC1(C(=O)NC(=O)NC1=O)C2=CC=CC=C2</td>\n",
       "      <td>1</td>\n",
       "      <td>232.084792</td>\n",
       "    </tr>\n",
       "    <tr>\n",
       "      <th>3</th>\n",
       "      <td>isoguvacine oxide</td>\n",
       "      <td>10.1002/chir.530070608</td>\n",
       "      <td>GABAA agonist</td>\n",
       "      <td>C1CNCC2C1(O2)C(=O)O</td>\n",
       "      <td>1</td>\n",
       "      <td>143.058243</td>\n",
       "    </tr>\n",
       "    <tr>\n",
       "      <th>4</th>\n",
       "      <td>Clomethiazole</td>\n",
       "      <td>10.1016/s0014-2999(02)02233-1</td>\n",
       "      <td>GABAA agonist</td>\n",
       "      <td>CC1=C(CCCl)SC=N1</td>\n",
       "      <td>1</td>\n",
       "      <td>161.006598</td>\n",
       "    </tr>\n",
       "    <tr>\n",
       "      <th>...</th>\n",
       "      <td>...</td>\n",
       "      <td>...</td>\n",
       "      <td>...</td>\n",
       "      <td>...</td>\n",
       "      <td>...</td>\n",
       "      <td>...</td>\n",
       "    </tr>\n",
       "    <tr>\n",
       "      <th>483</th>\n",
       "      <td>chlorogenic acid</td>\n",
       "      <td>10.1021/jf0303971</td>\n",
       "      <td>GABAA inhibition</td>\n",
       "      <td>C1C(C(C(CC1(C(=O)O)O)OC(=O)C=CC2=CC(=C(C=C2)O)...</td>\n",
       "      <td>0</td>\n",
       "      <td>354.095082</td>\n",
       "    </tr>\n",
       "    <tr>\n",
       "      <th>484</th>\n",
       "      <td>maltol</td>\n",
       "      <td>10.1021/jf0303971</td>\n",
       "      <td>GABAA inhibition</td>\n",
       "      <td>CC1=C(C(=O)C=CO1)O</td>\n",
       "      <td>0</td>\n",
       "      <td>126.031694</td>\n",
       "    </tr>\n",
       "    <tr>\n",
       "      <th>485</th>\n",
       "      <td>Theobromine</td>\n",
       "      <td>10.1021/jf0303971</td>\n",
       "      <td>GABAA inhibition</td>\n",
       "      <td>CN1C=NC2=C1C(=O)NC(=O)N2C</td>\n",
       "      <td>0</td>\n",
       "      <td>180.064725</td>\n",
       "    </tr>\n",
       "    <tr>\n",
       "      <th>486</th>\n",
       "      <td>2,3,5-trimethylpyrazine</td>\n",
       "      <td>10.1021/jf0303971</td>\n",
       "      <td>GABAA inhibition</td>\n",
       "      <td>CN1C2=C(C(=O)N(C1=O)C)NC=N2</td>\n",
       "      <td>0</td>\n",
       "      <td>180.064725</td>\n",
       "    </tr>\n",
       "    <tr>\n",
       "      <th>487</th>\n",
       "      <td>benzothiazole</td>\n",
       "      <td>10.1021/jf0303971</td>\n",
       "      <td>GABAA inhibition</td>\n",
       "      <td>CC1=CN=C(C(=N1)C)C</td>\n",
       "      <td>0</td>\n",
       "      <td>122.084398</td>\n",
       "    </tr>\n",
       "  </tbody>\n",
       "</table>\n",
       "<p>488 rows × 6 columns</p>\n",
       "</div>"
      ],
      "text/plain": [
       "                        name                         origin             label  \\\n",
       "0    gamma-Aminobutyric acid      10.3390/molecules24152678     GABAA agonist   \n",
       "1                    Menthol              10.1111/bph.12602     GABAA agonist   \n",
       "2              phenobarbital              10.1002/ana.24967     GABAA agonist   \n",
       "3          isoguvacine oxide         10.1002/chir.530070608     GABAA agonist   \n",
       "4              Clomethiazole  10.1016/s0014-2999(02)02233-1     GABAA agonist   \n",
       "..                       ...                            ...               ...   \n",
       "483         chlorogenic acid              10.1021/jf0303971  GABAA inhibition   \n",
       "484                   maltol              10.1021/jf0303971  GABAA inhibition   \n",
       "485              Theobromine              10.1021/jf0303971  GABAA inhibition   \n",
       "486  2,3,5-trimethylpyrazine              10.1021/jf0303971  GABAA inhibition   \n",
       "487            benzothiazole              10.1021/jf0303971  GABAA inhibition   \n",
       "\n",
       "                                                smiles  class  \\\n",
       "0                                         C(CC(=O)O)CN      1   \n",
       "1                                  CC1CCC(C(C1)O)C(C)C      1   \n",
       "2                    CCC1(C(=O)NC(=O)NC1=O)C2=CC=CC=C2      1   \n",
       "3                                  C1CNCC2C1(O2)C(=O)O      1   \n",
       "4                                     CC1=C(CCCl)SC=N1      1   \n",
       "..                                                 ...    ...   \n",
       "483  C1C(C(C(CC1(C(=O)O)O)OC(=O)C=CC2=CC(=C(C=C2)O)...      0   \n",
       "484                                 CC1=C(C(=O)C=CO1)O      0   \n",
       "485                          CN1C=NC2=C1C(=O)NC(=O)N2C      0   \n",
       "486                        CN1C2=C(C(=O)N(C1=O)C)NC=N2      0   \n",
       "487                                 CC1=CN=C(C(=N1)C)C      0   \n",
       "\n",
       "     molecular_weight  \n",
       "0          103.063329  \n",
       "1          156.151415  \n",
       "2          232.084792  \n",
       "3          143.058243  \n",
       "4          161.006598  \n",
       "..                ...  \n",
       "483        354.095082  \n",
       "484        126.031694  \n",
       "485        180.064725  \n",
       "486        180.064725  \n",
       "487        122.084398  \n",
       "\n",
       "[488 rows x 6 columns]"
      ]
     },
     "execution_count": 7,
     "metadata": {},
     "output_type": "execute_result"
    }
   ],
   "source": [
    "filtered_df_2"
   ]
  },
  {
   "cell_type": "code",
   "execution_count": 16,
   "id": "489a8eb5",
   "metadata": {},
   "outputs": [],
   "source": [
    "# Save the filtered dataset back to 'GABAA.csv'\n",
    "filtered_df_2.to_csv('GABAA.csv')"
   ]
  },
  {
   "cell_type": "markdown",
   "id": "922cb203",
   "metadata": {},
   "source": [
    "# plant_processing"
   ]
  },
  {
   "cell_type": "code",
   "execution_count": 8,
   "id": "c84a26fb",
   "metadata": {},
   "outputs": [],
   "source": [
    "# Load the 'plant.xlsx' file into a pandas DataFrame\n",
    "plant = pd.read_excel('../data/plant_raw.xlsx', sheet_name = \"Delete samples without SMILES\")"
   ]
  },
  {
   "cell_type": "code",
   "execution_count": 9,
   "id": "e4d8754f",
   "metadata": {},
   "outputs": [],
   "source": [
    "# Filter out molecules that contain metal atoms in the plant dataset\n",
    "filtered_plant = plant[~plant['SMILES'].apply(contains_metal)]"
   ]
  },
  {
   "cell_type": "code",
   "execution_count": 10,
   "id": "d69ffd61",
   "metadata": {},
   "outputs": [
    {
     "name": "stderr",
     "output_type": "stream",
     "text": [
      "D:\\temp\\ipykernel_11160\\4122759375.py:2: SettingWithCopyWarning: \n",
      "A value is trying to be set on a copy of a slice from a DataFrame.\n",
      "Try using .loc[row_indexer,col_indexer] = value instead\n",
      "\n",
      "See the caveats in the documentation: https://pandas.pydata.org/pandas-docs/stable/user_guide/indexing.html#returning-a-view-versus-a-copy\n",
      "  filtered_plant['molecular_weight'] = filtered_plant['SMILES'].apply(\n"
     ]
    }
   ],
   "source": [
    "# Calculate the exact molecular weight for each molecule in the plant dataset\n",
    "filtered_plant['molecular_weight'] = filtered_plant['SMILES'].apply(\n",
    "    lambda x: rdMolDescriptors.CalcExactMolWt(Chem.MolFromSmiles(x)) if Chem.MolFromSmiles(x) else None\n",
    ")"
   ]
  },
  {
   "cell_type": "code",
   "execution_count": 12,
   "id": "9c002d6d",
   "metadata": {},
   "outputs": [],
   "source": [
    "# Further filter plant molecules based on molecular weight (between 30 and 1000 Da)\n",
    "filtered_plant_2 = filtered_plant[(filtered_plant['molecular_weight'] >= 30) & (filtered_plant['molecular_weight'] <= 1000)]"
   ]
  },
  {
   "cell_type": "code",
   "execution_count": 14,
   "id": "3227be34",
   "metadata": {},
   "outputs": [],
   "source": [
    "filtered_plant_2.to_excel('../data/processed_plant.xlsx')"
   ]
  },
  {
   "cell_type": "code",
   "execution_count": null,
   "id": "88e9dee9",
   "metadata": {},
   "outputs": [],
   "source": []
  }
 ],
 "metadata": {
  "kernelspec": {
   "display_name": "bittersweet",
   "language": "python",
   "name": "bittersweet"
  },
  "language_info": {
   "codemirror_mode": {
    "name": "ipython",
    "version": 3
   },
   "file_extension": ".py",
   "mimetype": "text/x-python",
   "name": "python",
   "nbconvert_exporter": "python",
   "pygments_lexer": "ipython3",
   "version": "3.8.16"
  }
 },
 "nbformat": 4,
 "nbformat_minor": 5
}
