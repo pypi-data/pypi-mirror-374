{
 "cells": [
  {
   "cell_type": "code",
   "execution_count": 1,
   "id": "03efb660",
   "metadata": {},
   "outputs": [
    {
     "name": "stderr",
     "output_type": "stream",
     "text": [
      "Skipped loading modules with pytorch-lightning dependency, missing a dependency. No module named 'pytorch_lightning'\n",
      "Skipped loading some Jax models, missing a dependency. No module named 'jax'\n"
     ]
    }
   ],
   "source": [
    "import numpy as np\n",
    "import pandas as pd\n",
    "\n",
    "import deepchem as dc\n",
    "\n",
    "import sklearn\n",
    "from sklearn.svm import SVC\n",
    "from sklearn.ensemble import RandomForestClassifier\n",
    "from sklearn.svm import SVC\n",
    "\n",
    "from sklearn.model_selection import GridSearchCV\n",
    "from sklearn.model_selection import KFold\n",
    "\n",
    "from sklearn import metrics\n",
    "from sklearn.metrics import make_scorer\n",
    "from sklearn.metrics import confusion_matrix\n",
    "from sklearn.metrics import roc_auc_score\n",
    "from sklearn.metrics import accuracy_score\n",
    "from sklearn.metrics import precision_score\n",
    "from sklearn.metrics import recall_score\n",
    "\n",
    "from functools import reduce\n",
    "\n",
    "import warnings\n",
    "warnings.filterwarnings('ignore')\n",
    "\n",
    "import pickle\n",
    "from sklearn.feature_selection import VarianceThreshold\n",
    "import matplotlib.pyplot as plt\n",
    "import seaborn as sns"
   ]
  },
  {
   "cell_type": "code",
   "execution_count": 2,
   "id": "004a896b",
   "metadata": {},
   "outputs": [],
   "source": [
    "data = pd.read_csv('../data/GABAA.csv',encoding='gb18030')"
   ]
  },
  {
   "cell_type": "code",
   "execution_count": 3,
   "id": "78e071d6",
   "metadata": {},
   "outputs": [
    {
     "data": {
      "text/html": [
       "<div>\n",
       "<style scoped>\n",
       "    .dataframe tbody tr th:only-of-type {\n",
       "        vertical-align: middle;\n",
       "    }\n",
       "\n",
       "    .dataframe tbody tr th {\n",
       "        vertical-align: top;\n",
       "    }\n",
       "\n",
       "    .dataframe thead th {\n",
       "        text-align: right;\n",
       "    }\n",
       "</style>\n",
       "<table border=\"1\" class=\"dataframe\">\n",
       "  <thead>\n",
       "    <tr style=\"text-align: right;\">\n",
       "      <th></th>\n",
       "      <th>name</th>\n",
       "      <th>origin</th>\n",
       "      <th>label</th>\n",
       "      <th>smiles</th>\n",
       "      <th>class</th>\n",
       "    </tr>\n",
       "  </thead>\n",
       "  <tbody>\n",
       "    <tr>\n",
       "      <th>0</th>\n",
       "      <td>gamma-Aminobutyric acid</td>\n",
       "      <td>10.3390/molecules24152678</td>\n",
       "      <td>GABAA agonist</td>\n",
       "      <td>C(CC(=O)O)CN</td>\n",
       "      <td>1</td>\n",
       "    </tr>\n",
       "    <tr>\n",
       "      <th>1</th>\n",
       "      <td>Menthol</td>\n",
       "      <td>10.1111/bph.12602</td>\n",
       "      <td>GABAA agonist</td>\n",
       "      <td>CC1CCC(C(C1)O)C(C)C</td>\n",
       "      <td>1</td>\n",
       "    </tr>\n",
       "    <tr>\n",
       "      <th>2</th>\n",
       "      <td>phenobarbital</td>\n",
       "      <td>10.1002/ana.24967</td>\n",
       "      <td>GABAA agonist</td>\n",
       "      <td>CCC1(C(=O)NC(=O)NC1=O)C2=CC=CC=C2</td>\n",
       "      <td>1</td>\n",
       "    </tr>\n",
       "    <tr>\n",
       "      <th>3</th>\n",
       "      <td>isoguvacine oxide</td>\n",
       "      <td>10.1002/chir.530070608</td>\n",
       "      <td>GABAA agonist</td>\n",
       "      <td>C1CNCC2C1(O2)C(=O)O</td>\n",
       "      <td>1</td>\n",
       "    </tr>\n",
       "    <tr>\n",
       "      <th>4</th>\n",
       "      <td>Clomethiazole</td>\n",
       "      <td>10.1016/s0014-2999(02)02233-1</td>\n",
       "      <td>GABAA agonist</td>\n",
       "      <td>CC1=C(CCCl)SC=N1</td>\n",
       "      <td>1</td>\n",
       "    </tr>\n",
       "    <tr>\n",
       "      <th>...</th>\n",
       "      <td>...</td>\n",
       "      <td>...</td>\n",
       "      <td>...</td>\n",
       "      <td>...</td>\n",
       "      <td>...</td>\n",
       "    </tr>\n",
       "    <tr>\n",
       "      <th>483</th>\n",
       "      <td>chlorogenic acid</td>\n",
       "      <td>10.1021/jf0303971</td>\n",
       "      <td>GABAA inhibition</td>\n",
       "      <td>C1C(C(C(CC1(C(=O)O)O)OC(=O)C=CC2=CC(=C(C=C2)O)...</td>\n",
       "      <td>0</td>\n",
       "    </tr>\n",
       "    <tr>\n",
       "      <th>484</th>\n",
       "      <td>maltol</td>\n",
       "      <td>10.1021/jf0303971</td>\n",
       "      <td>GABAA inhibition</td>\n",
       "      <td>CC1=C(C(=O)C=CO1)O</td>\n",
       "      <td>0</td>\n",
       "    </tr>\n",
       "    <tr>\n",
       "      <th>485</th>\n",
       "      <td>Theobromine</td>\n",
       "      <td>10.1021/jf0303971</td>\n",
       "      <td>GABAA inhibition</td>\n",
       "      <td>CN1C=NC2=C1C(=O)NC(=O)N2C</td>\n",
       "      <td>0</td>\n",
       "    </tr>\n",
       "    <tr>\n",
       "      <th>486</th>\n",
       "      <td>2,3,5-trimethylpyrazine</td>\n",
       "      <td>10.1021/jf0303971</td>\n",
       "      <td>GABAA inhibition</td>\n",
       "      <td>CN1C2=C(C(=O)N(C1=O)C)NC=N2</td>\n",
       "      <td>0</td>\n",
       "    </tr>\n",
       "    <tr>\n",
       "      <th>487</th>\n",
       "      <td>benzothiazole</td>\n",
       "      <td>10.1021/jf0303971</td>\n",
       "      <td>GABAA inhibition</td>\n",
       "      <td>CC1=CN=C(C(=N1)C)C</td>\n",
       "      <td>0</td>\n",
       "    </tr>\n",
       "  </tbody>\n",
       "</table>\n",
       "<p>488 rows × 5 columns</p>\n",
       "</div>"
      ],
      "text/plain": [
       "                        name                         origin             label  \\\n",
       "0    gamma-Aminobutyric acid      10.3390/molecules24152678     GABAA agonist   \n",
       "1                    Menthol              10.1111/bph.12602     GABAA agonist   \n",
       "2              phenobarbital              10.1002/ana.24967     GABAA agonist   \n",
       "3          isoguvacine oxide         10.1002/chir.530070608     GABAA agonist   \n",
       "4              Clomethiazole  10.1016/s0014-2999(02)02233-1     GABAA agonist   \n",
       "..                       ...                            ...               ...   \n",
       "483         chlorogenic acid              10.1021/jf0303971  GABAA inhibition   \n",
       "484                   maltol              10.1021/jf0303971  GABAA inhibition   \n",
       "485              Theobromine              10.1021/jf0303971  GABAA inhibition   \n",
       "486  2,3,5-trimethylpyrazine              10.1021/jf0303971  GABAA inhibition   \n",
       "487            benzothiazole              10.1021/jf0303971  GABAA inhibition   \n",
       "\n",
       "                                                smiles  class  \n",
       "0                                         C(CC(=O)O)CN      1  \n",
       "1                                  CC1CCC(C(C1)O)C(C)C      1  \n",
       "2                    CCC1(C(=O)NC(=O)NC1=O)C2=CC=CC=C2      1  \n",
       "3                                  C1CNCC2C1(O2)C(=O)O      1  \n",
       "4                                     CC1=C(CCCl)SC=N1      1  \n",
       "..                                                 ...    ...  \n",
       "483  C1C(C(C(CC1(C(=O)O)O)OC(=O)C=CC2=CC(=C(C=C2)O)...      0  \n",
       "484                                 CC1=C(C(=O)C=CO1)O      0  \n",
       "485                          CN1C=NC2=C1C(=O)NC(=O)N2C      0  \n",
       "486                        CN1C2=C(C(=O)N(C1=O)C)NC=N2      0  \n",
       "487                                 CC1=CN=C(C(=N1)C)C      0  \n",
       "\n",
       "[488 rows x 5 columns]"
      ]
     },
     "execution_count": 3,
     "metadata": {},
     "output_type": "execute_result"
    }
   ],
   "source": [
    "data"
   ]
  },
  {
   "cell_type": "markdown",
   "id": "19d50649",
   "metadata": {},
   "source": [
    "#  Load pre-trained models"
   ]
  },
  {
   "cell_type": "code",
   "execution_count": 4,
   "id": "618e7af9",
   "metadata": {},
   "outputs": [],
   "source": [
    "with open('rf_maccs_model.pkl', 'rb') as f:\n",
    "    rf_maccs_model = pickle.load(f)"
   ]
  },
  {
   "cell_type": "code",
   "execution_count": 5,
   "id": "d4bbf67a",
   "metadata": {},
   "outputs": [
    {
     "data": {
      "text/plain": [
       "{'bootstrap': True,\n",
       " 'ccp_alpha': 0.0,\n",
       " 'class_weight': None,\n",
       " 'criterion': 'gini',\n",
       " 'max_depth': 8,\n",
       " 'max_features': 'auto',\n",
       " 'max_leaf_nodes': None,\n",
       " 'max_samples': None,\n",
       " 'min_impurity_decrease': 0.0,\n",
       " 'min_samples_leaf': 1,\n",
       " 'min_samples_split': 2,\n",
       " 'min_weight_fraction_leaf': 0.0,\n",
       " 'n_estimators': 60,\n",
       " 'n_jobs': None,\n",
       " 'oob_score': False,\n",
       " 'random_state': 42,\n",
       " 'verbose': 0,\n",
       " 'warm_start': False}"
      ]
     },
     "execution_count": 5,
     "metadata": {},
     "output_type": "execute_result"
    }
   ],
   "source": [
    "rf_maccs_model.get_params()"
   ]
  },
  {
   "cell_type": "code",
   "execution_count": 6,
   "id": "f524d1cd",
   "metadata": {},
   "outputs": [],
   "source": [
    "with open('rf_rdkit_model.pkl', 'rb') as f:\n",
    "    rf_rdkit_model = pickle.load(f)"
   ]
  },
  {
   "cell_type": "code",
   "execution_count": 7,
   "id": "c2df3fe3",
   "metadata": {},
   "outputs": [
    {
     "data": {
      "text/plain": [
       "{'bootstrap': True,\n",
       " 'ccp_alpha': 0.0,\n",
       " 'class_weight': None,\n",
       " 'criterion': 'gini',\n",
       " 'max_depth': 8,\n",
       " 'max_features': 'auto',\n",
       " 'max_leaf_nodes': None,\n",
       " 'max_samples': None,\n",
       " 'min_impurity_decrease': 0.0,\n",
       " 'min_samples_leaf': 1,\n",
       " 'min_samples_split': 2,\n",
       " 'min_weight_fraction_leaf': 0.0,\n",
       " 'n_estimators': 260,\n",
       " 'n_jobs': None,\n",
       " 'oob_score': False,\n",
       " 'random_state': 42,\n",
       " 'verbose': 0,\n",
       " 'warm_start': False}"
      ]
     },
     "execution_count": 7,
     "metadata": {},
     "output_type": "execute_result"
    }
   ],
   "source": [
    "rf_rdkit_model.get_params()"
   ]
  },
  {
   "cell_type": "code",
   "execution_count": 8,
   "id": "0c85d6d4",
   "metadata": {},
   "outputs": [],
   "source": [
    "with open('svm_maccs_model.pkl', 'rb') as f:\n",
    "    svm_maccs_model = pickle.load(f)"
   ]
  },
  {
   "cell_type": "code",
   "execution_count": 9,
   "id": "04a44a1b",
   "metadata": {},
   "outputs": [
    {
     "data": {
      "text/plain": [
       "{'C': 1,\n",
       " 'break_ties': False,\n",
       " 'cache_size': 200,\n",
       " 'class_weight': None,\n",
       " 'coef0': 0.0,\n",
       " 'decision_function_shape': 'ovr',\n",
       " 'degree': 3,\n",
       " 'gamma': 0.1,\n",
       " 'kernel': 'rbf',\n",
       " 'max_iter': -1,\n",
       " 'probability': True,\n",
       " 'random_state': None,\n",
       " 'shrinking': True,\n",
       " 'tol': 0.001,\n",
       " 'verbose': False}"
      ]
     },
     "execution_count": 9,
     "metadata": {},
     "output_type": "execute_result"
    }
   ],
   "source": [
    "svm_maccs_model.get_params()"
   ]
  },
  {
   "cell_type": "code",
   "execution_count": 10,
   "id": "d4d1acec",
   "metadata": {},
   "outputs": [
    {
     "name": "stdout",
     "output_type": "stream",
     "text": [
      "[00:35:19] WARNING: C:\\buildkite-agent\\builds\\buildkite-windows-cpu-autoscaling-group-i-0fdc6d574b9c0d168-1\\xgboost\\xgboost-ci-windows\\src\\learner.cc:553: \n",
      "  If you are loading a serialized model (like pickle in Python, RDS in R) generated by\n",
      "  older XGBoost, please export the model by calling `Booster.save_model` from that version\n",
      "  first, then load it back in current version. See:\n",
      "\n",
      "    https://xgboost.readthedocs.io/en/latest/tutorials/saving_model.html\n",
      "\n",
      "  for more details about differences between saving model and serializing.\n",
      "\n"
     ]
    }
   ],
   "source": [
    "with open('xgb_maccs_model.pkl', 'rb') as f:\n",
    "    xgb_maccs_model = pickle.load(f)"
   ]
  },
  {
   "cell_type": "code",
   "execution_count": 11,
   "id": "880d9aa0",
   "metadata": {},
   "outputs": [
    {
     "data": {
      "text/plain": [
       "{'objective': 'binary:logistic',\n",
       " 'use_label_encoder': None,\n",
       " 'base_score': None,\n",
       " 'booster': None,\n",
       " 'callbacks': None,\n",
       " 'colsample_bylevel': None,\n",
       " 'colsample_bynode': None,\n",
       " 'colsample_bytree': 0.5,\n",
       " 'early_stopping_rounds': None,\n",
       " 'enable_categorical': False,\n",
       " 'eval_metric': None,\n",
       " 'feature_types': None,\n",
       " 'gamma': None,\n",
       " 'gpu_id': None,\n",
       " 'grow_policy': None,\n",
       " 'importance_type': None,\n",
       " 'interaction_constraints': None,\n",
       " 'learning_rate': 0.01,\n",
       " 'max_bin': None,\n",
       " 'max_cat_threshold': None,\n",
       " 'max_cat_to_onehot': None,\n",
       " 'max_delta_step': None,\n",
       " 'max_depth': 9,\n",
       " 'max_leaves': None,\n",
       " 'min_child_weight': None,\n",
       " 'missing': nan,\n",
       " 'monotone_constraints': None,\n",
       " 'n_estimators': 200,\n",
       " 'n_jobs': None,\n",
       " 'num_parallel_tree': None,\n",
       " 'predictor': None,\n",
       " 'random_state': None,\n",
       " 'reg_alpha': None,\n",
       " 'reg_lambda': None,\n",
       " 'sampling_method': None,\n",
       " 'scale_pos_weight': None,\n",
       " 'subsample': None,\n",
       " 'tree_method': None,\n",
       " 'validate_parameters': None,\n",
       " 'verbosity': None}"
      ]
     },
     "execution_count": 11,
     "metadata": {},
     "output_type": "execute_result"
    }
   ],
   "source": [
    "xgb_maccs_model.get_params()"
   ]
  },
  {
   "cell_type": "markdown",
   "id": "ca5f8fee",
   "metadata": {},
   "source": [
    "# Feature extraction function"
   ]
  },
  {
   "cell_type": "code",
   "execution_count": 12,
   "id": "a48533b3",
   "metadata": {},
   "outputs": [],
   "source": [
    "def featurizer(featname,data):\n",
    "    \n",
    "    if featname ==\"MACCS\":\n",
    "        featurizer = dc.feat.MACCSKeysFingerprint()\n",
    "        features = featurizer.featurize(data['smiles'])\n",
    "        \n",
    "        vt = VarianceThreshold(threshold = (.98 * (1 - .98)))\n",
    "\n",
    "        \n",
    "        X_new = vt.fit_transform(features)\n",
    "        dataset = dc.data.NumpyDataset(X_new,data['class'])\n",
    "        splitter = dc.splits.RandomSplitter()\n",
    "        train_dataset, test_dataset = splitter.train_test_split(dataset=dataset,frac_train=0.8,seed=100)\n",
    "        \n",
    "        data_train = train_dataset.X\n",
    "        data_test = test_dataset.X\n",
    "        label_train = train_dataset.y\n",
    "        label_test = test_dataset.y\n",
    "    \n",
    "    elif featname ==\"RDkit\":\n",
    "        featurizer = dc.feat.RDKitDescriptors()\n",
    "        features = featurizer.featurize(data['smiles'])\n",
    "        \n",
    "        vt = VarianceThreshold(threshold = (.98 * (1 - .98)))\n",
    "\n",
    "        \n",
    "        X_new = vt.fit_transform(features)\n",
    "        dataset = dc.data.NumpyDataset(X_new,data['class'])\n",
    "        splitter = dc.splits.RandomSplitter()\n",
    "        train_dataset, test_dataset = splitter.train_test_split(dataset=dataset,frac_train=0.8,seed=100)\n",
    "        \n",
    "        data_train = train_dataset.X\n",
    "        data_test = test_dataset.X\n",
    "        label_train = train_dataset.y\n",
    "        label_test = test_dataset.y\n",
    "     \n",
    "    else:\n",
    "        pass\n",
    "    return  data_train, data_test, label_train, label_test"
   ]
  },
  {
   "cell_type": "markdown",
   "id": "ab077ffd",
   "metadata": {},
   "source": [
    "# Select the model"
   ]
  },
  {
   "cell_type": "code",
   "execution_count": 13,
   "id": "72c81c0c",
   "metadata": {},
   "outputs": [],
   "source": [
    "def SelectModel(modelname):\n",
    "\n",
    "    if modelname == \"rf_maccs\":\n",
    "        model = rf_maccs_model\n",
    "\n",
    "    elif modelname == \"rf_rdkit\":\n",
    "        model = rf_rdkit_model\n",
    "        \n",
    "    elif modelname == \"svm_maccs\":\n",
    "        model = svm_maccs_model\n",
    "\n",
    "    elif modelname == \"xgb_maccs\":\n",
    "        model = xgb_maccs_model\n",
    "\n",
    "    else:\n",
    "        pass\n",
    "    \n",
    "    return model"
   ]
  },
  {
   "cell_type": "code",
   "execution_count": 14,
   "id": "36d67d6b",
   "metadata": {},
   "outputs": [],
   "source": [
    "# Function to perform k-fold cross-validation and obtain out-of-fold predictions\n",
    "def get_oof(clf,n_folds,X_train,y_train,X_test):\n",
    "    ntrain = X_train.shape[0]\n",
    "    ntest =  X_test.shape[0]\n",
    "    classnum = len(np.unique(y_train))\n",
    "    kf = KFold(n_splits=n_folds,random_state=42,shuffle=True)\n",
    "    oof_train = np.zeros((ntrain,classnum))\n",
    "    oof_test = np.zeros((ntest,classnum))\n",
    "\n",
    "    for i,(train_index, test_index) in enumerate(kf.split(X_train)):\n",
    "        kf_X_train = X_train[train_index] \n",
    "        kf_y_train = y_train[train_index] \n",
    "\n",
    "        kf_X_test = X_train[test_index]  \n",
    "        print(len(kf_X_train),\n",
    "             len(kf_y_train),\n",
    "             len(kf_X_test))\n",
    "        #clf.fit(kf_X_train, kf_y_train)\n",
    "        oof_train[test_index] = clf.predict_proba(kf_X_test)\n",
    "\n",
    "        oof_test += clf.predict_proba(X_test)\n",
    "    oof_test = oof_test/float(n_folds)\n",
    "    \n",
    "    return oof_train, oof_test"
   ]
  },
  {
   "cell_type": "code",
   "execution_count": 15,
   "id": "ce044c57",
   "metadata": {},
   "outputs": [
    {
     "name": "stdout",
     "output_type": "stream",
     "text": [
      "312 312 78\n",
      "312 312 78\n",
      "312 312 78\n",
      "312 312 78\n",
      "312 312 78\n",
      "312 312 78\n",
      "312 312 78\n",
      "312 312 78\n",
      "312 312 78\n",
      "312 312 78\n",
      "312 312 78\n",
      "312 312 78\n",
      "312 312 78\n",
      "312 312 78\n",
      "312 312 78\n",
      "312 312 78\n",
      "312 312 78\n",
      "312 312 78\n",
      "312 312 78\n",
      "312 312 78\n"
     ]
    }
   ],
   "source": [
    "# First level stacking (feature transformation for second-level model)\n",
    "modelist = ['rf_maccs','rf_rdkit','svm_maccs','xgb_maccs']\n",
    "newfeature_list = []\n",
    "newtestdata_list = []\n",
    "\n",
    "for modelname in modelist:\n",
    "    clf_first = SelectModel(modelname)\n",
    "    \n",
    "    if modelname == 'rf_maccs':\n",
    "        data_train, data_test, label_train, label_test = featurizer('MACCS',data)\n",
    "    elif modelname == 'rf_rdkit':\n",
    "        data_train, data_test, label_train, label_test = featurizer('RDkit',data)\n",
    "    elif modelname == 'svm_maccs':\n",
    "        data_train, data_test, label_train, label_test = featurizer('MACCS',data)\n",
    "    elif modelname == 'xgb_maccs':\n",
    "        data_train, data_test, label_train, label_test = featurizer('MACCS',data)\n",
    "    else:\n",
    "        pass\n",
    "        \n",
    "    \n",
    "    oof_train_ ,oof_test_= get_oof(clf=clf_first,n_folds=5,X_train=data_train,y_train=label_train,X_test=data_test)\n",
    "    newfeature_list.append(oof_train_)\n",
    "    newtestdata_list.append(oof_test_)"
   ]
  },
  {
   "cell_type": "code",
   "execution_count": 16,
   "id": "2f63a681",
   "metadata": {
    "scrolled": true
   },
   "outputs": [],
   "source": [
    "# Combine features from all models\n",
    "newfeature = reduce(lambda x,y:np.concatenate((x,y),axis=1),newfeature_list)    \n",
    "newtestdata = reduce(lambda x,y:np.concatenate((x,y),axis=1),newtestdata_list)"
   ]
  },
  {
   "cell_type": "code",
   "execution_count": 17,
   "id": "0d704d0f",
   "metadata": {},
   "outputs": [
    {
     "data": {
      "text/plain": [
       "array([0.0743776 , 0.9256224 , 0.08153563, 0.91846437, 0.0963335 ,\n",
       "       0.9036665 , 0.12558389, 0.87441611])"
      ]
     },
     "execution_count": 17,
     "metadata": {},
     "output_type": "execute_result"
    }
   ],
   "source": [
    "newfeature[0]"
   ]
  },
  {
   "cell_type": "code",
   "execution_count": 27,
   "id": "8e193a30",
   "metadata": {},
   "outputs": [
    {
     "data": {
      "text/plain": [
       "RandomForestClassifier()"
      ]
     },
     "execution_count": 27,
     "metadata": {},
     "output_type": "execute_result"
    }
   ],
   "source": [
    "\n",
    "# Second level stacking model training\n",
    "clf_second1 = RandomForestClassifier()\n",
    "clf_second1.fit(newfeature, label_train)"
   ]
  },
  {
   "cell_type": "markdown",
   "id": "39fa4b89",
   "metadata": {},
   "source": [
    "# seed=100"
   ]
  },
  {
   "cell_type": "code",
   "execution_count": 16,
   "id": "e0b8edb6",
   "metadata": {},
   "outputs": [],
   "source": [
    "# Make predictions\n",
    "pred_proba = clf_second1.predict_proba(newtestdata)\n",
    "y_test_pred = clf_second1.predict(newtestdata)"
   ]
  },
  {
   "cell_type": "code",
   "execution_count": 17,
   "id": "235fdb6a",
   "metadata": {},
   "outputs": [
    {
     "data": {
      "image/png": "[encoded data removed]",
      "text/plain": [
       "<Figure size 600x400 with 2 Axes>"
      ]
     },
     "metadata": {},
     "output_type": "display_data"
    }
   ],
   "source": [
    "# Confusion matrix visualization\n",
    "confusion_mat_1 = confusion_matrix(label_test, y_test_pred)\n",
    "plt.figure(figsize=(6, 4))\n",
    "sns.heatmap(confusion_mat_1, annot=True, fmt=\"d\", cmap=\"Blues\")\n",
    "plt.xlabel(\"Predicted labels\")\n",
    "plt.ylabel(\"True labels\")\n",
    "plt.title(\"Confusion Matrix\")\n",
    "plt.show()"
   ]
  },
  {
   "cell_type": "code",
   "execution_count": 18,
   "id": "f8ab4ed0",
   "metadata": {},
   "outputs": [],
   "source": [
    "# Compute performance metrics\n",
    "test_pred_list = []\n",
    "for test_score in pred_proba:\n",
    "    test_score = test_score[1]\n",
    "    test_pred_list.append(test_score)"
   ]
  },
  {
   "cell_type": "code",
   "execution_count": 19,
   "id": "55375cb1",
   "metadata": {},
   "outputs": [],
   "source": [
    "test_pred_array = np.array(test_pred_list)"
   ]
  },
  {
   "cell_type": "code",
   "execution_count": 20,
   "id": "5a7bbf2c",
   "metadata": {},
   "outputs": [
    {
     "name": "stdout",
     "output_type": "stream",
     "text": [
      "0.9795833333333333 0.9183673469387755 0.9 0.9375\n"
     ]
    }
   ],
   "source": [
    "auc = roc_auc_score(label_test, test_pred_array)\n",
    "acc = accuracy_score(label_test, np.round(test_pred_array))\n",
    "pre = precision_score(label_test, np.round(test_pred_array))\n",
    "rec = recall_score(label_test, np.round(test_pred_array))\n",
    "\n",
    "print(auc,acc,pre,rec)"
   ]
  },
  {
   "cell_type": "markdown",
   "id": "46c7aac2",
   "metadata": {},
   "source": [
    "# seed=200"
   ]
  },
  {
   "cell_type": "code",
   "execution_count": 13,
   "id": "51f2f3af",
   "metadata": {},
   "outputs": [],
   "source": [
    "# Make predictions\n",
    "pred_proba = clf_second1.predict_proba(newtestdata)\n",
    "y_test_pred = clf_second1.predict(newtestdata)"
   ]
  },
  {
   "cell_type": "code",
   "execution_count": 21,
   "id": "f474ab0e",
   "metadata": {},
   "outputs": [
    {
     "data": {
      "image/png": "[encoded data removed]",
      "text/plain": [
       "<Figure size 600x400 with 2 Axes>"
      ]
     },
     "metadata": {},
     "output_type": "display_data"
    }
   ],
   "source": [
    "# Confusion matrix visualization\n",
    "confusion_mat_2 = confusion_matrix(label_test, y_test_pred)\n",
    "plt.figure(figsize=(6, 4))\n",
    "sns.heatmap(confusion_mat_2, annot=True, fmt=\"d\", cmap=\"Blues\")\n",
    "plt.xlabel(\"Predicted labels\")\n",
    "plt.ylabel(\"True labels\")\n",
    "plt.title(\"Confusion Matrix\")\n",
    "plt.show()"
   ]
  },
  {
   "cell_type": "code",
   "execution_count": 22,
   "id": "8a60df57",
   "metadata": {},
   "outputs": [],
   "source": [
    "# Compute performance metrics\n",
    "test_pred_list = []\n",
    "for test_score in pred_proba:\n",
    "    test_score = test_score[1]\n",
    "    test_pred_list.append(test_score)"
   ]
  },
  {
   "cell_type": "code",
   "execution_count": 23,
   "id": "9ff94195",
   "metadata": {},
   "outputs": [],
   "source": [
    "test_pred_array = np.array(test_pred_list)"
   ]
  },
  {
   "cell_type": "code",
   "execution_count": 24,
   "id": "533b0881",
   "metadata": {},
   "outputs": [
    {
     "name": "stdout",
     "output_type": "stream",
     "text": [
      "0.9993729096989966 0.9795918367346939 0.9629629629629629 1.0\n"
     ]
    }
   ],
   "source": [
    "auc = roc_auc_score(label_test, test_pred_array)\n",
    "acc = accuracy_score(label_test, np.round(test_pred_array))\n",
    "pre = precision_score(label_test, np.round(test_pred_array))\n",
    "rec = recall_score(label_test, np.round(test_pred_array))\n",
    "\n",
    "print(auc,acc,pre,rec)"
   ]
  },
  {
   "cell_type": "markdown",
   "id": "df512a44",
   "metadata": {},
   "source": [
    "# seed=300"
   ]
  },
  {
   "cell_type": "code",
   "execution_count": 31,
   "id": "d01723bb",
   "metadata": {},
   "outputs": [],
   "source": [
    "# Make predictions\n",
    "pred_proba = clf_second1.predict_proba(newtestdata)\n",
    "y_test_pred = clf_second1.predict(newtestdata)"
   ]
  },
  {
   "cell_type": "code",
   "execution_count": 32,
   "id": "4666a3b7",
   "metadata": {},
   "outputs": [
    {
     "data": {
      "image/png": "[encoded data removed]",
      "text/plain": [
       "<Figure size 600x400 with 2 Axes>"
      ]
     },
     "metadata": {},
     "output_type": "display_data"
    }
   ],
   "source": [
    "# Confusion matrix visualization\n",
    "confusion_mat_3 = confusion_matrix(label_test, y_test_pred)\n",
    "plt.figure(figsize=(6, 4))\n",
    "sns.heatmap(confusion_mat, annot=True, fmt=\"d\", cmap=\"Blues\")\n",
    "plt.xlabel(\"Predicted labels\")\n",
    "plt.ylabel(\"True labels\")\n",
    "plt.title(\"Confusion Matrix\")\n",
    "plt.show()"
   ]
  },
  {
   "cell_type": "code",
   "execution_count": 33,
   "id": "6ebd5ede",
   "metadata": {},
   "outputs": [],
   "source": [
    "# Compute performance metrics\n",
    "test_pred_list = []\n",
    "for test_score in pred_proba:\n",
    "    test_score = test_score[1]\n",
    "    test_pred_list.append(test_score)"
   ]
  },
  {
   "cell_type": "code",
   "execution_count": 34,
   "id": "7ea36ca2",
   "metadata": {},
   "outputs": [],
   "source": [
    "test_pred_array = np.array(test_pred_list)"
   ]
  },
  {
   "cell_type": "code",
   "execution_count": 35,
   "id": "637de9f3",
   "metadata": {},
   "outputs": [
    {
     "name": "stdout",
     "output_type": "stream",
     "text": [
      "0.9983086680761099 0.9693877551020408 0.9814814814814815 0.9636363636363636\n"
     ]
    }
   ],
   "source": [
    "auc = roc_auc_score(label_test, test_pred_array)\n",
    "acc = accuracy_score(label_test, np.round(test_pred_array))\n",
    "pre = precision_score(label_test, np.round(test_pred_array))\n",
    "rec = recall_score(label_test, np.round(test_pred_array))\n",
    "\n",
    "print(auc,acc,pre,rec)"
   ]
  },
  {
   "cell_type": "markdown",
   "id": "64b0c523",
   "metadata": {},
   "source": [
    "# seed=400"
   ]
  },
  {
   "cell_type": "code",
   "execution_count": 114,
   "id": "5f2fff79",
   "metadata": {},
   "outputs": [],
   "source": [
    "# Make predictions\n",
    "pred_proba = clf_second1.predict_proba(newtestdata)\n",
    "y_test_pred = clf_second1.predict(newtestdata)"
   ]
  },
  {
   "cell_type": "code",
   "execution_count": 115,
   "id": "b6c2af4c",
   "metadata": {},
   "outputs": [
    {
     "data": {
      "image/png": "[encoded data removed]",
      "text/plain": [
       "<Figure size 600x400 with 2 Axes>"
      ]
     },
     "metadata": {},
     "output_type": "display_data"
    }
   ],
   "source": [
    "# Confusion matrix visualization\n",
    "confusion_mat_4 = confusion_matrix(label_test, y_test_pred)\n",
    "plt.figure(figsize=(6, 4))\n",
    "sns.heatmap(confusion_mat, annot=True, fmt=\"d\", cmap=\"Blues\")\n",
    "plt.xlabel(\"Predicted labels\")\n",
    "plt.ylabel(\"True labels\")\n",
    "plt.title(\"Confusion Matrix\")\n",
    "plt.show()"
   ]
  },
  {
   "cell_type": "code",
   "execution_count": 116,
   "id": "b367c6b7",
   "metadata": {},
   "outputs": [],
   "source": [
    "# Compute performance metrics\n",
    "test_pred_list = []\n",
    "for test_score in pred_proba:\n",
    "    test_score = test_score[1]\n",
    "    test_pred_list.append(test_score)"
   ]
  },
  {
   "cell_type": "code",
   "execution_count": 117,
   "id": "458fa7aa",
   "metadata": {},
   "outputs": [],
   "source": [
    "test_pred_array = np.array(test_pred_list)"
   ]
  },
  {
   "cell_type": "code",
   "execution_count": 118,
   "id": "d95473a8",
   "metadata": {},
   "outputs": [
    {
     "name": "stdout",
     "output_type": "stream",
     "text": [
      "0.9978858350951374 0.9693877551020408 0.9761904761904762 0.9534883720930233\n"
     ]
    }
   ],
   "source": [
    "auc = roc_auc_score(label_test, test_pred_array)\n",
    "acc = accuracy_score(label_test, np.round(test_pred_array))\n",
    "pre = precision_score(label_test, np.round(test_pred_array))\n",
    "rec = recall_score(label_test, np.round(test_pred_array))\n",
    "\n",
    "print(auc,acc,pre,rec)"
   ]
  },
  {
   "cell_type": "code",
   "execution_count": null,
   "id": "aba0d05e",
   "metadata": {},
   "outputs": [],
   "source": []
  },
  {
   "cell_type": "markdown",
   "id": "0cbbbc06",
   "metadata": {},
   "source": [
    "# seed=500"
   ]
  },
  {
   "cell_type": "code",
   "execution_count": 20,
   "id": "ec8d8254",
   "metadata": {},
   "outputs": [],
   "source": [
    "# Make predictions\n",
    "pred_proba = clf_second1.predict_proba(newtestdata)\n",
    "y_test_pred = clf_second1.predict(newtestdata)"
   ]
  },
  {
   "cell_type": "code",
   "execution_count": 21,
   "id": "e9638646",
   "metadata": {},
   "outputs": [
    {
     "data": {
      "image/png": "[encoded data removed]",
      "text/plain": [
       "<Figure size 600x400 with 2 Axes>"
      ]
     },
     "metadata": {},
     "output_type": "display_data"
    }
   ],
   "source": [
    "# Confusion matrix visualization\n",
    "confusion_mat_5 = confusion_matrix(label_test, y_test_pred)\n",
    "plt.figure(figsize=(6, 4))\n",
    "sns.heatmap(confusion_mat_5, annot=True, fmt=\"d\", cmap=\"Blues\")\n",
    "plt.xlabel(\"Predicted labels\")\n",
    "plt.ylabel(\"True labels\")\n",
    "plt.title(\"Confusion Matrix\")\n",
    "plt.show()"
   ]
  },
  {
   "cell_type": "code",
   "execution_count": 22,
   "id": "01f7e88c",
   "metadata": {},
   "outputs": [],
   "source": [
    "# Compute performance metrics\n",
    "test_pred_list = []\n",
    "for test_score in pred_proba:\n",
    "    test_score = test_score[1]\n",
    "    test_pred_list.append(test_score)"
   ]
  },
  {
   "cell_type": "code",
   "execution_count": 23,
   "id": "0b572fc7",
   "metadata": {},
   "outputs": [],
   "source": [
    "test_pred_array = np.array(test_pred_list)"
   ]
  },
  {
   "cell_type": "code",
   "execution_count": 24,
   "id": "752a92c9",
   "metadata": {},
   "outputs": [
    {
     "name": "stdout",
     "output_type": "stream",
     "text": [
      "0.9795833333333333 0.9183673469387755 0.9 0.9375\n"
     ]
    }
   ],
   "source": [
    "auc = roc_auc_score(label_test, test_pred_array)\n",
    "acc = accuracy_score(label_test, np.round(test_pred_array))\n",
    "pre = precision_score(label_test, np.round(test_pred_array))\n",
    "rec = recall_score(label_test, np.round(test_pred_array))\n",
    "\n",
    "print(auc,acc,pre,rec)"
   ]
  },
  {
   "cell_type": "code",
   "execution_count": 28,
   "id": "19a7c721",
   "metadata": {},
   "outputs": [],
   "source": [
    "import pickle\n",
    "\n",
    "# 保存第二层随机森林模型\n",
    "with open('stacking_model.pkl', 'wb') as f:\n",
    "    pickle.dump(clf_second1, f)"
   ]
  },
  {
   "cell_type": "markdown",
   "id": "93e29f13",
   "metadata": {},
   "source": [
    "# Ave_confusion_matrix"
   ]
  },
  {
   "cell_type": "code",
   "execution_count": 2,
   "id": "e5ad69a7",
   "metadata": {},
   "outputs": [],
   "source": [
    "confusion_mat_ave = np.array([[45,2.2],[1.6,49.2]])"
   ]
  },
  {
   "cell_type": "code",
   "execution_count": 5,
   "id": "efc24d6e",
   "metadata": {},
   "outputs": [
    {
     "data": {
      "image/png": "[encoded data removed]",
      "text/plain": [
       "<Figure size 1800x1200 with 2 Axes>"
      ]
     },
     "metadata": {},
     "output_type": "display_data"
    }
   ],
   "source": [
    "plt.rcParams['figure.dpi'] = 300\n",
    "plt.figure(figsize=(6, 4))\n",
    "sns.heatmap(confusion_mat_ave, annot=True, fmt=\".1f\", cmap=\"Blues\")\n",
    "plt.xlabel(\"Predicted labels\")\n",
    "plt.ylabel(\"True labels\")\n",
    "plt.title(\"Confusion Matrix\")\n",
    "plt.show()"
   ]
  },
  {
   "cell_type": "code",
   "execution_count": null,
   "id": "96e9c51e",
   "metadata": {},
   "outputs": [],
   "source": []
  }
 ],
 "metadata": {
  "kernelspec": {
   "display_name": "bittersweet",
   "language": "python",
   "name": "bittersweet"
  },
  "language_info": {
   "codemirror_mode": {
    "name": "ipython",
    "version": 3
   },
   "file_extension": ".py",
   "mimetype": "text/x-python",
   "name": "python",
   "nbconvert_exporter": "python",
   "pygments_lexer": "ipython3",
   "version": "3.8.16"
  }
 },
 "nbformat": 4,
 "nbformat_minor": 5
}
