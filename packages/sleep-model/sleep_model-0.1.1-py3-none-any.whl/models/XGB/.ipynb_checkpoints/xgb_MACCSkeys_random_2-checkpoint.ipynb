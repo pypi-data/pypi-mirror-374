{
 "cells": [
  {
   "cell_type": "code",
   "execution_count": 1,
   "id": "2a0a27da",
   "metadata": {},
   "outputs": [
    {
     "name": "stderr",
     "output_type": "stream",
     "text": [
      "Skipped loading some Tensorflow models, missing a dependency. No module named 'tensorflow'\n",
      "Skipped loading modules with pytorch-lightning dependency, missing a dependency. No module named 'pytorch_lightning'\n",
      "Skipped loading some Jax models, missing a dependency. No module named 'jax'\n"
     ]
    }
   ],
   "source": [
    "import deepchem as dc\n",
    "import pandas as pd\n",
    "import numpy as np\n",
    "\n",
    "import xgboost as xgb\n",
    "from sklearn.model_selection import GridSearchCV,KFold\n",
    "\n",
    "from sklearn.metrics import make_scorer\n",
    "from sklearn.metrics import confusion_matrix\n",
    "from sklearn.metrics import roc_auc_score\n",
    "from sklearn.metrics import accuracy_score\n",
    "from sklearn.metrics import precision_score\n",
    "from sklearn.metrics import recall_score\n",
    "\n",
    "import matplotlib.pyplot as plt\n",
    "import seaborn as sns\n",
    "from sklearn.metrics import confusion_matrix"
   ]
  },
  {
   "cell_type": "code",
   "execution_count": 2,
   "id": "5e6492a6",
   "metadata": {},
   "outputs": [],
   "source": [
    "data = pd.read_csv('../../data/GABAA.csv',encoding='gb18030')"
   ]
  },
  {
   "cell_type": "markdown",
   "id": "063bec23",
   "metadata": {},
   "source": [
    "# Feature extraction & Data splitting"
   ]
  },
  {
   "cell_type": "code",
   "execution_count": 3,
   "id": "ecbce57c",
   "metadata": {},
   "outputs": [],
   "source": [
    "featurizer = dc.feat.MACCSKeysFingerprint()\n",
    "features = featurizer.featurize(data['smiles'])\n",
    "#dataset = dc.data.NumpyDataset(features,data['class'])"
   ]
  },
  {
   "cell_type": "code",
   "execution_count": 4,
   "id": "c85b6e87",
   "metadata": {},
   "outputs": [],
   "source": [
    "from sklearn.feature_selection import VarianceThreshold\n",
    "\n",
    "\n",
    "vt = VarianceThreshold(threshold = (.98 * (1 - .98)))\n",
    "\n",
    "\n",
    "X_new = vt.fit_transform(features)\n",
    "dataset = dc.data.NumpyDataset(X_new,data['class'])"
   ]
  },
  {
   "cell_type": "code",
   "execution_count": 5,
   "id": "060cc0b3",
   "metadata": {},
   "outputs": [],
   "source": [
    "splitter = dc.splits.RandomSplitter()\n",
    "train_dataset, test_dataset = splitter.train_test_split(dataset=dataset,frac_train=0.8,seed=300)"
   ]
  },
  {
   "cell_type": "markdown",
   "id": "800fd18a",
   "metadata": {},
   "source": [
    "# GridSearchCV"
   ]
  },
  {
   "cell_type": "code",
   "execution_count": 6,
   "id": "7a1acca0",
   "metadata": {},
   "outputs": [
    {
     "name": "stderr",
     "output_type": "stream",
     "text": [
      "D:\\anaconda\\envs\\PI3K\\lib\\site-packages\\xgboost\\sklearn.py:1224: UserWarning: The use of label encoder in XGBClassifier is deprecated and will be removed in a future release. To remove this warning, do the following: 1) Pass option use_label_encoder=False when constructing XGBClassifier object; and 2) Encode your labels (y) as integers starting with 0, i.e. 0, 1, 2, ..., [num_class - 1].\n",
      "  warnings.warn(label_encoder_deprecation_msg, UserWarning)\n"
     ]
    },
    {
     "name": "stdout",
     "output_type": "stream",
     "text": [
      "[17:54:00] WARNING: ..\\src\\learner.cc:1115: Starting in XGBoost 1.3.0, the default evaluation metric used with the objective 'binary:logistic' was changed from 'error' to 'logloss'. Explicitly set eval_metric if you'd like to restore the old behavior.\n"
     ]
    }
   ],
   "source": [
    "scoring = {\n",
    "         'AUC':make_scorer(roc_auc_score, needs_proba=True),\n",
    "          'ACC':make_scorer(accuracy_score),\n",
    "           'PRE':make_scorer(precision_score),\n",
    "           'REC':make_scorer(recall_score),\n",
    "            \n",
    "}\n",
    "\n",
    "param_grid = {'n_estimators':[200],\n",
    "                  'max_depth':[3,5,7,9],\n",
    "                  'colsample_bytree':[0.5,0.7,0.9],\n",
    "                 'learning_rate':[0.01,0.05, 0.1,0.15,0.2]\n",
    "                 }\n",
    "    \n",
    "xgb_classifier = xgb.XGBClassifier()\n",
    "\n",
    "\n",
    "gs = GridSearchCV(\n",
    "                   xgb_classifier,\n",
    "                   param_grid,\n",
    "                 scoring = scoring,\n",
    "                  cv = KFold(n_splits=5, shuffle=True, random_state=300),\n",
    "                 n_jobs = -1,\n",
    "               refit = 'AUC',\n",
    "               return_train_score = True)\n",
    "\n",
    "gs_fit = gs.fit(train_dataset.X, train_dataset.y.ravel())"
   ]
  },
  {
   "cell_type": "code",
   "execution_count": 7,
   "id": "9c585fe6",
   "metadata": {},
   "outputs": [],
   "source": [
    "val_AUC = gs.best_score_\n",
    "val_ACC = gs.cv_results_['mean_test_ACC'][gs.best_index_]\n",
    "val_PRE = gs.cv_results_['mean_test_PRE'][gs.best_index_]\n",
    "val_REC = gs.cv_results_['mean_test_REC'][gs.best_index_]"
   ]
  },
  {
   "cell_type": "markdown",
   "id": "56cfe7bf",
   "metadata": {},
   "source": [
    "# GridSearchCV_Result"
   ]
  },
  {
   "cell_type": "code",
   "execution_count": 11,
   "id": "d5f26011",
   "metadata": {},
   "outputs": [
    {
     "name": "stdout",
     "output_type": "stream",
     "text": [
      "Best parameters:  {'colsample_bytree': 0.5, 'learning_rate': 0.05, 'max_depth': 9, 'n_estimators': 200}\n",
      "Best score (AUC):  0.9367633244537391\n",
      "ACC:  0.8615384615384615\n",
      "PRE:  0.8674998558496224\n",
      "REC:  0.8610218812636194\n"
     ]
    }
   ],
   "source": [
    "print('Best parameters: ', gs.best_params_)\n",
    "print('Best score (AUC): ', gs.best_score_)\n",
    "print('ACC: ',gs.cv_results_['mean_test_ACC'][gs.best_index_])\n",
    "print('PRE: ',gs.cv_results_['mean_test_PRE'][gs.best_index_])\n",
    "print('REC: ',gs.cv_results_['mean_test_REC'][gs.best_index_])"
   ]
  },
  {
   "cell_type": "code",
   "execution_count": 12,
   "id": "2f24a515",
   "metadata": {},
   "outputs": [
    {
     "data": {
      "text/plain": [
       "XGBClassifier(base_score=0.5, booster='gbtree', colsample_bylevel=1,\n",
       "              colsample_bynode=1, colsample_bytree=0.5,\n",
       "              enable_categorical=False, gamma=0, gpu_id=-1,\n",
       "              importance_type=None, interaction_constraints='',\n",
       "              learning_rate=0.05, max_delta_step=0, max_depth=9,\n",
       "              min_child_weight=1, missing=nan, monotone_constraints='()',\n",
       "              n_estimators=200, n_jobs=8, num_parallel_tree=1, predictor='auto',\n",
       "              random_state=0, reg_alpha=0, reg_lambda=1, scale_pos_weight=1,\n",
       "              subsample=1, tree_method='exact', validate_parameters=1,\n",
       "              verbosity=None)"
      ]
     },
     "execution_count": 12,
     "metadata": {},
     "output_type": "execute_result"
    }
   ],
   "source": [
    "xgb_model = gs_fit.best_estimator_\n",
    "xgb_model"
   ]
  },
  {
   "cell_type": "markdown",
   "id": "e3cd8054",
   "metadata": {},
   "source": [
    "# Evaluate model"
   ]
  },
  {
   "cell_type": "code",
   "execution_count": 13,
   "id": "9dcba450",
   "metadata": {},
   "outputs": [],
   "source": [
    "y_test_pred_proba = xgb_model.predict_proba(test_dataset.X)\n",
    "y_test_pred = xgb_model.predict(test_dataset.X)"
   ]
  },
  {
   "cell_type": "code",
   "execution_count": 14,
   "id": "34166222",
   "metadata": {},
   "outputs": [
    {
     "data": {
      "image/png": "[encoded data removed]",
      "text/plain": [
       "<Figure size 1800x1200 with 2 Axes>"
      ]
     },
     "metadata": {
      "needs_background": "light"
     },
     "output_type": "display_data"
    }
   ],
   "source": [
    "confusion_mat = confusion_matrix(test_dataset.y, y_test_pred)\n",
    "plt.rcParams['figure.dpi'] = 300\n",
    "plt.figure(figsize=(6, 4))\n",
    "sns.heatmap(confusion_mat, annot=True, fmt=\"d\", cmap=\"Blues\")\n",
    "plt.xlabel(\"Predicted labels\")\n",
    "plt.ylabel(\"True labels\")\n",
    "plt.title(\"Confusion Matrix\")\n",
    "plt.show()"
   ]
  },
  {
   "cell_type": "code",
   "execution_count": 15,
   "id": "fa82273c",
   "metadata": {},
   "outputs": [],
   "source": [
    "test_pred_list = []\n",
    "for test_score in y_test_pred_proba:\n",
    "    test_score = test_score[1]\n",
    "    test_pred_list.append(test_score)"
   ]
  },
  {
   "cell_type": "code",
   "execution_count": 16,
   "id": "8a954594",
   "metadata": {},
   "outputs": [],
   "source": [
    "test_pred_array = np.array(test_pred_list)"
   ]
  },
  {
   "cell_type": "code",
   "execution_count": 17,
   "id": "90a5607c",
   "metadata": {},
   "outputs": [],
   "source": [
    "test_AUC = roc_auc_score(test_dataset.y,test_pred_list)\n",
    "test_ACC = accuracy_score(test_dataset.y,np.round(test_pred_array))\n",
    "test_PRE = precision_score(test_dataset.y,np.round(test_pred_array))\n",
    "test_REC = recall_score(test_dataset.y,np.round(test_pred_array))"
   ]
  },
  {
   "cell_type": "markdown",
   "id": "99b1cf60",
   "metadata": {},
   "source": [
    "# Finall result"
   ]
  },
  {
   "cell_type": "code",
   "execution_count": 18,
   "id": "a6d410f4",
   "metadata": {},
   "outputs": [],
   "source": [
    "performance_dataset = {\n",
    "    'AUC':[val_AUC,test_AUC],\n",
    "    'ACC':[val_ACC,test_ACC],\n",
    "    'PRE':[val_PRE,test_PRE],\n",
    "    'REC':[val_REC,test_REC]\n",
    "}"
   ]
  },
  {
   "cell_type": "code",
   "execution_count": 19,
   "id": "5d21117f",
   "metadata": {},
   "outputs": [
    {
     "data": {
      "text/html": [
       "<div>\n",
       "<style scoped>\n",
       "    .dataframe tbody tr th:only-of-type {\n",
       "        vertical-align: middle;\n",
       "    }\n",
       "\n",
       "    .dataframe tbody tr th {\n",
       "        vertical-align: top;\n",
       "    }\n",
       "\n",
       "    .dataframe thead th {\n",
       "        text-align: right;\n",
       "    }\n",
       "</style>\n",
       "<table border=\"1\" class=\"dataframe\">\n",
       "  <thead>\n",
       "    <tr style=\"text-align: right;\">\n",
       "      <th></th>\n",
       "      <th>AUC</th>\n",
       "      <th>ACC</th>\n",
       "      <th>PRE</th>\n",
       "      <th>REC</th>\n",
       "    </tr>\n",
       "  </thead>\n",
       "  <tbody>\n",
       "    <tr>\n",
       "      <th>val</th>\n",
       "      <td>0.936763</td>\n",
       "      <td>0.861538</td>\n",
       "      <td>0.8675</td>\n",
       "      <td>0.861022</td>\n",
       "    </tr>\n",
       "    <tr>\n",
       "      <th>test</th>\n",
       "      <td>0.950951</td>\n",
       "      <td>0.867347</td>\n",
       "      <td>0.9200</td>\n",
       "      <td>0.836364</td>\n",
       "    </tr>\n",
       "  </tbody>\n",
       "</table>\n",
       "</div>"
      ],
      "text/plain": [
       "           AUC       ACC     PRE       REC\n",
       "val   0.936763  0.861538  0.8675  0.861022\n",
       "test  0.950951  0.867347  0.9200  0.836364"
      ]
     },
     "execution_count": 19,
     "metadata": {},
     "output_type": "execute_result"
    }
   ],
   "source": [
    "performance = pd.DataFrame(performance_dataset,index=['val','test'])\n",
    "performance"
   ]
  },
  {
   "cell_type": "code",
   "execution_count": null,
   "id": "8ac45fc5",
   "metadata": {},
   "outputs": [],
   "source": []
  }
 ],
 "metadata": {
  "kernelspec": {
   "display_name": "Pi3k",
   "language": "python",
   "name": "pi3k"
  },
  "language_info": {
   "codemirror_mode": {
    "name": "ipython",
    "version": 3
   },
   "file_extension": ".py",
   "mimetype": "text/x-python",
   "name": "python",
   "nbconvert_exporter": "python",
   "pygments_lexer": "ipython3",
   "version": "3.7.11"
  }
 },
 "nbformat": 4,
 "nbformat_minor": 5
}
