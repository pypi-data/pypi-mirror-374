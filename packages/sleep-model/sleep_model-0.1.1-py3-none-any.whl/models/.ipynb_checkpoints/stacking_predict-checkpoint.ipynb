{
 "cells": [
  {
   "cell_type": "code",
   "execution_count": 2,
   "id": "afb207f4",
   "metadata": {
    "scrolled": true
   },
   "outputs": [
    {
     "name": "stderr",
     "output_type": "stream",
     "text": [
      "Skipped loading modules with pytorch-lightning dependency, missing a dependency. No module named 'pytorch_lightning'\n",
      "Skipped loading some Jax models, missing a dependency. No module named 'jax'\n"
     ]
    }
   ],
   "source": [
    "import pickle\n",
    "import numpy as np\n",
    "import deepchem as dc\n",
    "from sklearn.feature_selection import VarianceThreshold\n",
    "import pandas as pd\n",
    "import seaborn as sns\n",
    "import matplotlib.pyplot as plt"
   ]
  },
  {
   "cell_type": "code",
   "execution_count": 2,
   "id": "6b2cbc77",
   "metadata": {},
   "outputs": [],
   "source": [
    "def featurizer(featname, data, plant):\n",
    "    if featname == \"MACCS\":\n",
    "        featurizer_maccs = dc.feat.MACCSKeysFingerprint()\n",
    "        data_features = featurizer_maccs.featurize(data['smiles'])\n",
    "        plant_features = featurizer_maccs.featurize(plant['SMILES'])\n",
    "\n",
    "        vt = VarianceThreshold(threshold=(.98 * (1 - .98)))\n",
    "        data_selected = vt.fit_transform(data_features)\n",
    "        mask = vt.get_support(indices=True)\n",
    "        plant_selected = plant_features[:, mask]\n",
    "        dataset = dc.data.NumpyDataset(data_selected, data['class'])\n",
    "    \n",
    "    elif featname == \"RDkit\":\n",
    "        featurizer_rdkit = dc.feat.RDKitDescriptors()\n",
    "        data_features = featurizer_rdkit.featurize(data['smiles'])\n",
    "        plant_features = featurizer_rdkit.featurize(plant['SMILES'])\n",
    "\n",
    "        vt = VarianceThreshold(threshold=(.98 * (1 - .98)))\n",
    "        data_selected = vt.fit_transform(data_features)\n",
    "        mask = vt.get_support(indices=True)\n",
    "        plant_selected = plant_features[:, mask]\n",
    "        dataset = dc.data.NumpyDataset(data_selected, data['class'])\n",
    "    \n",
    "    else:\n",
    "        raise ValueError(\"Unsupported feature type\")\n",
    "\n",
    "    return dataset, plant_selected"
   ]
  },
  {
   "cell_type": "code",
   "execution_count": 7,
   "id": "6ae64748",
   "metadata": {},
   "outputs": [],
   "source": [
    "data = pd.read_csv('../data/GABAA.csv',encoding='gb18030')\n",
    "new_data = pd.read_excel('../data/application_domain.xlsx',sheet_name='Removes rdkit error SMILES')\n",
    "\n",
    "new_maccs, plant_maccs = featurizer('MACCS', data, new_data)\n",
    "new_rdkit, plant_rdkit = featurizer('RDkit', data, new_data)"
   ]
  },
  {
   "cell_type": "code",
   "execution_count": 8,
   "id": "16e53575",
   "metadata": {},
   "outputs": [],
   "source": [
    "nan_mask = np.isnan(plant_rdkit).any(axis=1)"
   ]
  },
  {
   "cell_type": "code",
   "execution_count": 9,
   "id": "27212da1",
   "metadata": {},
   "outputs": [],
   "source": [
    "nan_row_indices = np.where(nan_mask)[0]"
   ]
  },
  {
   "cell_type": "code",
   "execution_count": 10,
   "id": "3dce5b83",
   "metadata": {},
   "outputs": [
    {
     "data": {
      "text/plain": [
       "array([], dtype=int64)"
      ]
     },
     "execution_count": 10,
     "metadata": {},
     "output_type": "execute_result"
    }
   ],
   "source": [
    "nan_row_indices"
   ]
  },
  {
   "cell_type": "code",
   "execution_count": 6,
   "id": "dfeb1096",
   "metadata": {},
   "outputs": [
    {
     "data": {
      "text/plain": [
       "array([4973, 9214], dtype=int64)"
      ]
     },
     "execution_count": 6,
     "metadata": {},
     "output_type": "execute_result"
    }
   ],
   "source": [
    "nan_row_indices"
   ]
  },
  {
   "cell_type": "code",
   "execution_count": 11,
   "id": "1f357662",
   "metadata": {},
   "outputs": [
    {
     "name": "stderr",
     "output_type": "stream",
     "text": [
      "D:\\Miniconda\\envs\\bittersweet\\lib\\site-packages\\sklearn\\base.py:329: UserWarning: Trying to unpickle estimator DecisionTreeClassifier from version 1.2.2 when using version 1.0.2. This might lead to breaking code or invalid results. Use at your own risk. For more info please refer to:\n",
      "https://scikit-learn.org/stable/modules/model_persistence.html#security-maintainability-limitations\n",
      "  warnings.warn(\n",
      "D:\\Miniconda\\envs\\bittersweet\\lib\\site-packages\\sklearn\\base.py:329: UserWarning: Trying to unpickle estimator RandomForestClassifier from version 1.2.2 when using version 1.0.2. This might lead to breaking code or invalid results. Use at your own risk. For more info please refer to:\n",
      "https://scikit-learn.org/stable/modules/model_persistence.html#security-maintainability-limitations\n",
      "  warnings.warn(\n"
     ]
    },
    {
     "name": "stdout",
     "output_type": "stream",
     "text": [
      "[10:05:09] WARNING: C:\\buildkite-agent\\builds\\buildkite-windows-cpu-autoscaling-group-i-0fdc6d574b9c0d168-1\\xgboost\\xgboost-ci-windows\\src\\learner.cc:553: \n",
      "  If you are loading a serialized model (like pickle in Python, RDS in R) generated by\n",
      "  older XGBoost, please export the model by calling `Booster.save_model` from that version\n",
      "  first, then load it back in current version. See:\n",
      "\n",
      "    https://xgboost.readthedocs.io/en/latest/tutorials/saving_model.html\n",
      "\n",
      "  for more details about differences between saving model and serializing.\n",
      "\n"
     ]
    }
   ],
   "source": [
    "# Load the first-level models from saved pickle files.\n",
    "with open('rf_maccs_model.pkl', 'rb') as f:\n",
    "    rf_maccs_model = pickle.load(f)\n",
    "\n",
    "with open('rf_rdkit_model.pkl', 'rb') as f:\n",
    "    rf_rdkit_model = pickle.load(f)\n",
    "\n",
    "with open('svm_maccs_model.pkl', 'rb') as f:\n",
    "    svm_maccs_model = pickle.load(f)\n",
    "\n",
    "with open('xgb_maccs_model.pkl', 'rb') as f:\n",
    "    xgb_maccs_model = pickle.load(f)\n",
    "\n",
    "# Predict probabilities using the first-level models.\n",
    "rf_maccs_pred = rf_maccs_model.predict_proba(plant_maccs)\n",
    "rf_rdkit_pred = rf_rdkit_model.predict_proba(plant_rdkit)\n",
    "svm_maccs_pred = svm_maccs_model.predict_proba(plant_maccs)\n",
    "xgb_maccs_pred = xgb_maccs_model.predict_proba(plant_maccs)\n"
   ]
  },
  {
   "cell_type": "code",
   "execution_count": 12,
   "id": "134db56e",
   "metadata": {},
   "outputs": [],
   "source": [
    "# Merge the output of the first-level models (feature concatenation).\n",
    "# This step combines the prediction probabilities from multiple models into a single feature matrix.\n",
    "stacking_input = np.concatenate(\n",
    "    (rf_maccs_pred, rf_rdkit_pred, svm_maccs_pred, xgb_maccs_pred),\n",
    "    axis=1\n",
    ")"
   ]
  },
  {
   "cell_type": "code",
   "execution_count": 13,
   "id": "31b6f541",
   "metadata": {},
   "outputs": [],
   "source": [
    "# Load the second-level stacking model from a saved pickle file.\n",
    "with open('stacking_model.pkl', 'rb') as f:\n",
    "    stacking_model = pickle.load(f)\n",
    "\n",
    "\n",
    "# Make predictions using the second-level stacking model.\n",
    "stacking_pred = stacking_model.predict(stacking_input)\n",
    "stacking_proba = stacking_model.predict_proba(stacking_input)"
   ]
  },
  {
   "cell_type": "code",
   "execution_count": 14,
   "id": "e3df44c0",
   "metadata": {},
   "outputs": [],
   "source": [
    "test_pred_list = []\n",
    "for test_score in stacking_proba:\n",
    "    test_score = test_score[1]\n",
    "    test_pred_list.append(test_score)"
   ]
  },
  {
   "cell_type": "code",
   "execution_count": 15,
   "id": "ddf20a87",
   "metadata": {},
   "outputs": [],
   "source": [
    "test_pred_array = np.array(test_pred_list)"
   ]
  },
  {
   "cell_type": "code",
   "execution_count": 16,
   "id": "bb965250",
   "metadata": {},
   "outputs": [],
   "source": [
    "df = pd.DataFrame({\n",
    "    'Scientific_name':new_data['Scientific_name'],\n",
    "    'Chinese_name':new_data['Chinese_name'],\n",
    "    'Extraction_site':new_data['Extraction_site'],\n",
    "    'Volatile_compounds':new_data['Volatile_compounds'],\n",
    "    'Compound_content':new_data['Compound_content'],\n",
    "    'Analysis_method':new_data['Analysis_method'],\n",
    "    'Cite':new_data['Cite'],\n",
    "    'SMILES':new_data['SMILES'],\n",
    "    'pred':test_pred_array\n",
    "})"
   ]
  },
  {
   "cell_type": "code",
   "execution_count": 17,
   "id": "dd6f53e7",
   "metadata": {
    "scrolled": true
   },
   "outputs": [
    {
     "data": {
      "text/html": [
       "<div>\n",
       "<style scoped>\n",
       "    .dataframe tbody tr th:only-of-type {\n",
       "        vertical-align: middle;\n",
       "    }\n",
       "\n",
       "    .dataframe tbody tr th {\n",
       "        vertical-align: top;\n",
       "    }\n",
       "\n",
       "    .dataframe thead th {\n",
       "        text-align: right;\n",
       "    }\n",
       "</style>\n",
       "<table border=\"1\" class=\"dataframe\">\n",
       "  <thead>\n",
       "    <tr style=\"text-align: right;\">\n",
       "      <th></th>\n",
       "      <th>Scientific_name</th>\n",
       "      <th>Chinese_name</th>\n",
       "      <th>Extraction_site</th>\n",
       "      <th>Volatile_compounds</th>\n",
       "      <th>Compound_content</th>\n",
       "      <th>Analysis_method</th>\n",
       "      <th>Cite</th>\n",
       "      <th>SMILES</th>\n",
       "      <th>pred</th>\n",
       "    </tr>\n",
       "  </thead>\n",
       "  <tbody>\n",
       "    <tr>\n",
       "      <th>0</th>\n",
       "      <td>Lamium album</td>\n",
       "      <td>短柄野芝麻</td>\n",
       "      <td>flower</td>\n",
       "      <td>6,10,14-Trimethylpentadecan-2-one</td>\n",
       "      <td>0.102</td>\n",
       "      <td>GC-MS</td>\n",
       "      <td>Morteza-Semnani K, Saeedi M, Akbarzadeh M. Che...</td>\n",
       "      <td>CC(C)CCCC(C)CCCC(C)CCCC(=O)C</td>\n",
       "      <td>1.000000</td>\n",
       "    </tr>\n",
       "    <tr>\n",
       "      <th>1</th>\n",
       "      <td>Lamium album</td>\n",
       "      <td>短柄野芝麻</td>\n",
       "      <td>flower</td>\n",
       "      <td>Diacetone alcohol</td>\n",
       "      <td>0.091</td>\n",
       "      <td>GC-MS</td>\n",
       "      <td>Morteza-Semnani K, Saeedi M, Akbarzadeh M. Che...</td>\n",
       "      <td>CC(=O)CC(C)(C)O</td>\n",
       "      <td>1.000000</td>\n",
       "    </tr>\n",
       "    <tr>\n",
       "      <th>2</th>\n",
       "      <td>Lamium album</td>\n",
       "      <td>短柄野芝麻</td>\n",
       "      <td>flower</td>\n",
       "      <td>1-Pentanol</td>\n",
       "      <td>0.041</td>\n",
       "      <td>GC-MS</td>\n",
       "      <td>Morteza-Semnani K, Saeedi M, Akbarzadeh M. Che...</td>\n",
       "      <td>CCCCCO</td>\n",
       "      <td>1.000000</td>\n",
       "    </tr>\n",
       "    <tr>\n",
       "      <th>3</th>\n",
       "      <td>Lamium album</td>\n",
       "      <td>短柄野芝麻</td>\n",
       "      <td>flower</td>\n",
       "      <td>Tetracosane</td>\n",
       "      <td>0.039</td>\n",
       "      <td>GC-MS</td>\n",
       "      <td>Morteza-Semnani K, Saeedi M, Akbarzadeh M. Che...</td>\n",
       "      <td>CCCCCCCCCCCCCCCCCCCCCCCC</td>\n",
       "      <td>0.990000</td>\n",
       "    </tr>\n",
       "    <tr>\n",
       "      <th>4</th>\n",
       "      <td>Lamium album</td>\n",
       "      <td>短柄野芝麻</td>\n",
       "      <td>flower</td>\n",
       "      <td>Tricosane</td>\n",
       "      <td>0.037</td>\n",
       "      <td>GC-MS</td>\n",
       "      <td>Morteza-Semnani K, Saeedi M, Akbarzadeh M. Che...</td>\n",
       "      <td>CCCCCCCCCCCCCCCCCCCCCCC</td>\n",
       "      <td>0.990000</td>\n",
       "    </tr>\n",
       "    <tr>\n",
       "      <th>...</th>\n",
       "      <td>...</td>\n",
       "      <td>...</td>\n",
       "      <td>...</td>\n",
       "      <td>...</td>\n",
       "      <td>...</td>\n",
       "      <td>...</td>\n",
       "      <td>...</td>\n",
       "      <td>...</td>\n",
       "      <td>...</td>\n",
       "    </tr>\n",
       "    <tr>\n",
       "      <th>15443</th>\n",
       "      <td>Hyssopus officinalis</td>\n",
       "      <td>神香草</td>\n",
       "      <td>leaf</td>\n",
       "      <td>Myrtenyl acetate</td>\n",
       "      <td>0.0098</td>\n",
       "      <td>GC-MS</td>\n",
       "      <td>KIZIL S, HAŞİMİ N, Tolan V, et al. Chemical co...</td>\n",
       "      <td>CC(=O)OCC1=CCC2CC1C2(C)C</td>\n",
       "      <td>0.990000</td>\n",
       "    </tr>\n",
       "    <tr>\n",
       "      <th>15444</th>\n",
       "      <td>Hyssopus officinalis</td>\n",
       "      <td>神香草</td>\n",
       "      <td>leaf</td>\n",
       "      <td>cis-Pinonic acid</td>\n",
       "      <td>0.0063</td>\n",
       "      <td>GC-MS</td>\n",
       "      <td>KIZIL S, HAŞİMİ N, Tolan V, et al. Chemical co...</td>\n",
       "      <td>CC(=O)C1CC(C1(C)C)CC(=O)O</td>\n",
       "      <td>1.000000</td>\n",
       "    </tr>\n",
       "    <tr>\n",
       "      <th>15445</th>\n",
       "      <td>Hyssopus officinalis</td>\n",
       "      <td>神香草</td>\n",
       "      <td>leaf</td>\n",
       "      <td>beta-bisabolene</td>\n",
       "      <td>0.0057</td>\n",
       "      <td>GC-MS</td>\n",
       "      <td>KIZIL S, HAŞİMİ N, Tolan V, et al. Chemical co...</td>\n",
       "      <td>CC1=CCC(CC1)C(=C)CCC=C(C)C</td>\n",
       "      <td>1.000000</td>\n",
       "    </tr>\n",
       "    <tr>\n",
       "      <th>15446</th>\n",
       "      <td>Hyssopus officinalis</td>\n",
       "      <td>神香草</td>\n",
       "      <td>leaf</td>\n",
       "      <td>Elemol</td>\n",
       "      <td>0.0055</td>\n",
       "      <td>GC-MS</td>\n",
       "      <td>KIZIL S, HAŞİMİ N, Tolan V, et al. Chemical co...</td>\n",
       "      <td>CC(=C)C1CC(CCC1(C)C=C)C(C)(C)O</td>\n",
       "      <td>1.000000</td>\n",
       "    </tr>\n",
       "    <tr>\n",
       "      <th>15447</th>\n",
       "      <td>Hyssopus officinalis</td>\n",
       "      <td>神香草</td>\n",
       "      <td>leaf</td>\n",
       "      <td>Spathulenol</td>\n",
       "      <td>0.0059</td>\n",
       "      <td>GC-MS</td>\n",
       "      <td>KIZIL S, HAŞİMİ N, Tolan V, et al. Chemical co...</td>\n",
       "      <td>CC1(C2C1C3C(CCC3(C)O)C(=C)CC2)C</td>\n",
       "      <td>0.808333</td>\n",
       "    </tr>\n",
       "  </tbody>\n",
       "</table>\n",
       "<p>15448 rows × 9 columns</p>\n",
       "</div>"
      ],
      "text/plain": [
       "            Scientific_name Chinese_name Extraction_site  \\\n",
       "0              Lamium album        短柄野芝麻          flower   \n",
       "1              Lamium album        短柄野芝麻          flower   \n",
       "2              Lamium album        短柄野芝麻          flower   \n",
       "3              Lamium album        短柄野芝麻          flower   \n",
       "4              Lamium album        短柄野芝麻          flower   \n",
       "...                     ...          ...             ...   \n",
       "15443  Hyssopus officinalis          神香草            leaf   \n",
       "15444  Hyssopus officinalis          神香草            leaf   \n",
       "15445  Hyssopus officinalis          神香草            leaf   \n",
       "15446  Hyssopus officinalis          神香草            leaf   \n",
       "15447  Hyssopus officinalis          神香草            leaf   \n",
       "\n",
       "                      Volatile_compounds Compound_content Analysis_method  \\\n",
       "0      6,10,14-Trimethylpentadecan-2-one            0.102           GC-MS   \n",
       "1                      Diacetone alcohol            0.091           GC-MS   \n",
       "2                             1-Pentanol            0.041           GC-MS   \n",
       "3                            Tetracosane            0.039           GC-MS   \n",
       "4                              Tricosane            0.037           GC-MS   \n",
       "...                                  ...              ...             ...   \n",
       "15443                   Myrtenyl acetate           0.0098           GC-MS   \n",
       "15444                   cis-Pinonic acid           0.0063           GC-MS   \n",
       "15445                    beta-bisabolene           0.0057           GC-MS   \n",
       "15446                             Elemol           0.0055           GC-MS   \n",
       "15447                        Spathulenol           0.0059           GC-MS   \n",
       "\n",
       "                                                    Cite  \\\n",
       "0      Morteza-Semnani K, Saeedi M, Akbarzadeh M. Che...   \n",
       "1      Morteza-Semnani K, Saeedi M, Akbarzadeh M. Che...   \n",
       "2      Morteza-Semnani K, Saeedi M, Akbarzadeh M. Che...   \n",
       "3      Morteza-Semnani K, Saeedi M, Akbarzadeh M. Che...   \n",
       "4      Morteza-Semnani K, Saeedi M, Akbarzadeh M. Che...   \n",
       "...                                                  ...   \n",
       "15443  KIZIL S, HAŞİMİ N, Tolan V, et al. Chemical co...   \n",
       "15444  KIZIL S, HAŞİMİ N, Tolan V, et al. Chemical co...   \n",
       "15445  KIZIL S, HAŞİMİ N, Tolan V, et al. Chemical co...   \n",
       "15446  KIZIL S, HAŞİMİ N, Tolan V, et al. Chemical co...   \n",
       "15447  KIZIL S, HAŞİMİ N, Tolan V, et al. Chemical co...   \n",
       "\n",
       "                                SMILES      pred  \n",
       "0         CC(C)CCCC(C)CCCC(C)CCCC(=O)C  1.000000  \n",
       "1                      CC(=O)CC(C)(C)O  1.000000  \n",
       "2                               CCCCCO  1.000000  \n",
       "3             CCCCCCCCCCCCCCCCCCCCCCCC  0.990000  \n",
       "4              CCCCCCCCCCCCCCCCCCCCCCC  0.990000  \n",
       "...                                ...       ...  \n",
       "15443         CC(=O)OCC1=CCC2CC1C2(C)C  0.990000  \n",
       "15444        CC(=O)C1CC(C1(C)C)CC(=O)O  1.000000  \n",
       "15445       CC1=CCC(CC1)C(=C)CCC=C(C)C  1.000000  \n",
       "15446   CC(=C)C1CC(CCC1(C)C=C)C(C)(C)O  1.000000  \n",
       "15447  CC1(C2C1C3C(CCC3(C)O)C(=C)CC2)C  0.808333  \n",
       "\n",
       "[15448 rows x 9 columns]"
      ]
     },
     "execution_count": 17,
     "metadata": {},
     "output_type": "execute_result"
    }
   ],
   "source": [
    "df"
   ]
  },
  {
   "cell_type": "code",
   "execution_count": 18,
   "id": "c98d2628",
   "metadata": {},
   "outputs": [
    {
     "data": {
      "image/png": "[encoded data removed]",
      "text/plain": [
       "<Figure size 1000x600 with 1 Axes>"
      ]
     },
     "metadata": {},
     "output_type": "display_data"
    }
   ],
   "source": [
    "plt.figure(figsize=(10, 6))\n",
    "sns.histplot(df['pred'], bins=30, kde=False, color='skyblue', edgecolor='black')\n",
    "plt.title('Distribution of Prediction scores')\n",
    "plt.xlabel('pred')\n",
    "plt.ylabel('Count')\n",
    "plt.grid(axis='y', linestyle='--', alpha=0.7)\n",
    "plt.show()"
   ]
  },
  {
   "cell_type": "code",
   "execution_count": 19,
   "id": "93246e9c",
   "metadata": {},
   "outputs": [
    {
     "name": "stdout",
     "output_type": "stream",
     "text": [
      "Number of probabilities above 0.5: 15158\n",
      "Number of probabilities above 0.9: 12995\n",
      "Number of probabilities above 0.95: 12290\n"
     ]
    }
   ],
   "source": [
    "count_above_0_5 = df[df['pred'] >= 0.5].shape[0]\n",
    "count_above_0_9 = df[df['pred'] >= 0.9].shape[0]\n",
    "count_above_0_95 = df[df['pred'] >= 0.95].shape[0]\n",
    "\n",
    "# Output the results\n",
    "print(f\"Number of probabilities above 0.5: {count_above_0_5}\")\n",
    "print(f\"Number of probabilities above 0.9: {count_above_0_9}\")\n",
    "print(f\"Number of probabilities above 0.95: {count_above_0_95}\")"
   ]
  },
  {
   "cell_type": "code",
   "execution_count": 20,
   "id": "c1246817",
   "metadata": {},
   "outputs": [],
   "source": [
    "df.to_excel('../data/predict_plant.xlsx')"
   ]
  },
  {
   "cell_type": "markdown",
   "id": "02597a87",
   "metadata": {},
   "source": [
    "Delete duplicate value"
   ]
  },
  {
   "cell_type": "code",
   "execution_count": 3,
   "id": "e7454ea4",
   "metadata": {},
   "outputs": [],
   "source": [
    "def featurizer(featname, data, plant):\n",
    "    if featname == \"MACCS\":\n",
    "        featurizer_maccs = dc.feat.MACCSKeysFingerprint()\n",
    "        data_features = featurizer_maccs.featurize(data['smiles'])\n",
    "        plant_features = featurizer_maccs.featurize(plant['SMILES'])\n",
    "\n",
    "        vt = VarianceThreshold(threshold=(.98 * (1 - .98)))\n",
    "        data_selected = vt.fit_transform(data_features)\n",
    "        mask = vt.get_support(indices=True)\n",
    "        plant_selected = plant_features[:, mask]\n",
    "        dataset = dc.data.NumpyDataset(data_selected, data['class'])\n",
    "    \n",
    "    elif featname == \"RDkit\":\n",
    "        featurizer_rdkit = dc.feat.RDKitDescriptors()\n",
    "        data_features = featurizer_rdkit.featurize(data['smiles'])\n",
    "        plant_features = featurizer_rdkit.featurize(plant['SMILES'])\n",
    "\n",
    "        vt = VarianceThreshold(threshold=(.98 * (1 - .98)))\n",
    "        data_selected = vt.fit_transform(data_features)\n",
    "        mask = vt.get_support(indices=True)\n",
    "        plant_selected = plant_features[:, mask]\n",
    "        dataset = dc.data.NumpyDataset(data_selected, data['class'])\n",
    "    \n",
    "    else:\n",
    "        raise ValueError(\"Unsupported feature type\")\n",
    "\n",
    "    return dataset, plant_selected"
   ]
  },
  {
   "cell_type": "code",
   "execution_count": 5,
   "id": "4ef1c93f",
   "metadata": {},
   "outputs": [],
   "source": [
    "data = pd.read_csv('../data/GABAA.csv',encoding='gb18030')\n",
    "new_data = pd.read_excel('../data/application_domain.xlsx',sheet_name='Remove duplicate samples based on SMILES')\n",
    "\n",
    "new_maccs, plant_maccs = featurizer('MACCS', data, new_data)\n",
    "new_rdkit, plant_rdkit = featurizer('RDkit', data, new_data)"
   ]
  },
  {
   "cell_type": "code",
   "execution_count": 6,
   "id": "bb1f73c0",
   "metadata": {},
   "outputs": [],
   "source": [
    "nan_mask = np.isnan(plant_rdkit).any(axis=1)"
   ]
  },
  {
   "cell_type": "code",
   "execution_count": 7,
   "id": "505e8ecd",
   "metadata": {},
   "outputs": [],
   "source": [
    "nan_row_indices = np.where(nan_mask)[0]"
   ]
  },
  {
   "cell_type": "code",
   "execution_count": 8,
   "id": "ecf361d7",
   "metadata": {},
   "outputs": [
    {
     "data": {
      "text/plain": [
       "array([], dtype=int64)"
      ]
     },
     "execution_count": 8,
     "metadata": {},
     "output_type": "execute_result"
    }
   ],
   "source": [
    "nan_row_indices"
   ]
  },
  {
   "cell_type": "code",
   "execution_count": 9,
   "id": "311be50e",
   "metadata": {},
   "outputs": [
    {
     "data": {
      "text/plain": [
       "array([], dtype=int64)"
      ]
     },
     "execution_count": 9,
     "metadata": {},
     "output_type": "execute_result"
    }
   ],
   "source": [
    "nan_row_indices"
   ]
  },
  {
   "cell_type": "code",
   "execution_count": 10,
   "id": "1b8722ea",
   "metadata": {},
   "outputs": [
    {
     "name": "stderr",
     "output_type": "stream",
     "text": [
      "D:\\Miniconda\\envs\\bittersweet\\lib\\site-packages\\sklearn\\base.py:329: UserWarning: Trying to unpickle estimator DecisionTreeClassifier from version 1.2.2 when using version 1.0.2. This might lead to breaking code or invalid results. Use at your own risk. For more info please refer to:\n",
      "https://scikit-learn.org/stable/modules/model_persistence.html#security-maintainability-limitations\n",
      "  warnings.warn(\n",
      "D:\\Miniconda\\envs\\bittersweet\\lib\\site-packages\\sklearn\\base.py:329: UserWarning: Trying to unpickle estimator RandomForestClassifier from version 1.2.2 when using version 1.0.2. This might lead to breaking code or invalid results. Use at your own risk. For more info please refer to:\n",
      "https://scikit-learn.org/stable/modules/model_persistence.html#security-maintainability-limitations\n",
      "  warnings.warn(\n"
     ]
    },
    {
     "name": "stdout",
     "output_type": "stream",
     "text": [
      "[11:31:31] WARNING: C:\\buildkite-agent\\builds\\buildkite-windows-cpu-autoscaling-group-i-0fdc6d574b9c0d168-1\\xgboost\\xgboost-ci-windows\\src\\learner.cc:553: \n",
      "  If you are loading a serialized model (like pickle in Python, RDS in R) generated by\n",
      "  older XGBoost, please export the model by calling `Booster.save_model` from that version\n",
      "  first, then load it back in current version. See:\n",
      "\n",
      "    https://xgboost.readthedocs.io/en/latest/tutorials/saving_model.html\n",
      "\n",
      "  for more details about differences between saving model and serializing.\n",
      "\n"
     ]
    }
   ],
   "source": [
    "# Load the first-level models from saved pickle files.\n",
    "with open('rf_maccs_model.pkl', 'rb') as f:\n",
    "    rf_maccs_model = pickle.load(f)\n",
    "\n",
    "with open('rf_rdkit_model.pkl', 'rb') as f:\n",
    "    rf_rdkit_model = pickle.load(f)\n",
    "\n",
    "with open('svm_maccs_model.pkl', 'rb') as f:\n",
    "    svm_maccs_model = pickle.load(f)\n",
    "\n",
    "with open('xgb_maccs_model.pkl', 'rb') as f:\n",
    "    xgb_maccs_model = pickle.load(f)\n",
    "\n",
    "# Predict probabilities using the first-level models.\n",
    "rf_maccs_pred = rf_maccs_model.predict_proba(plant_maccs)\n",
    "rf_rdkit_pred = rf_rdkit_model.predict_proba(plant_rdkit)\n",
    "svm_maccs_pred = svm_maccs_model.predict_proba(plant_maccs)\n",
    "xgb_maccs_pred = xgb_maccs_model.predict_proba(plant_maccs)\n"
   ]
  },
  {
   "cell_type": "code",
   "execution_count": 11,
   "id": "20818cce",
   "metadata": {},
   "outputs": [],
   "source": [
    "# Merge the output of the first-level models (feature concatenation).\n",
    "# This step combines the prediction probabilities from multiple models into a single feature matrix.\n",
    "stacking_input = np.concatenate(\n",
    "    (rf_maccs_pred, rf_rdkit_pred, svm_maccs_pred, xgb_maccs_pred),\n",
    "    axis=1\n",
    ")"
   ]
  },
  {
   "cell_type": "code",
   "execution_count": 12,
   "id": "8235fb43",
   "metadata": {},
   "outputs": [],
   "source": [
    "# Load the second-level stacking model from a saved pickle file.\n",
    "with open('stacking_model.pkl', 'rb') as f:\n",
    "    stacking_model = pickle.load(f)\n",
    "\n",
    "\n",
    "# Make predictions using the second-level stacking model.\n",
    "stacking_pred = stacking_model.predict(stacking_input)\n",
    "stacking_proba = stacking_model.predict_proba(stacking_input)"
   ]
  },
  {
   "cell_type": "code",
   "execution_count": 13,
   "id": "00b2c67f",
   "metadata": {},
   "outputs": [],
   "source": [
    "test_pred_list = []\n",
    "for test_score in stacking_proba:\n",
    "    test_score = test_score[1]\n",
    "    test_pred_list.append(test_score)"
   ]
  },
  {
   "cell_type": "code",
   "execution_count": 14,
   "id": "f8b13e61",
   "metadata": {},
   "outputs": [],
   "source": [
    "test_pred_array = np.array(test_pred_list)"
   ]
  },
  {
   "cell_type": "code",
   "execution_count": 15,
   "id": "120e23eb",
   "metadata": {},
   "outputs": [],
   "source": [
    "df = pd.DataFrame({\n",
    "    'Scientific_name':new_data['Scientific_name'],\n",
    "    'Chinese_name':new_data['Chinese_name'],\n",
    "    'Extraction_site':new_data['Extraction_site'],\n",
    "    'Volatile_compounds':new_data['Volatile_compounds'],\n",
    "    'Compound_content':new_data['Compound_content'],\n",
    "    'Analysis_method':new_data['Analysis_method'],\n",
    "    'Cite':new_data['Cite'],\n",
    "    'SMILES':new_data['SMILES'],\n",
    "    'pred':test_pred_array\n",
    "})"
   ]
  },
  {
   "cell_type": "code",
   "execution_count": 16,
   "id": "2916ab93",
   "metadata": {
    "scrolled": true
   },
   "outputs": [
    {
     "data": {
      "text/html": [
       "<div>\n",
       "<style scoped>\n",
       "    .dataframe tbody tr th:only-of-type {\n",
       "        vertical-align: middle;\n",
       "    }\n",
       "\n",
       "    .dataframe tbody tr th {\n",
       "        vertical-align: top;\n",
       "    }\n",
       "\n",
       "    .dataframe thead th {\n",
       "        text-align: right;\n",
       "    }\n",
       "</style>\n",
       "<table border=\"1\" class=\"dataframe\">\n",
       "  <thead>\n",
       "    <tr style=\"text-align: right;\">\n",
       "      <th></th>\n",
       "      <th>Scientific_name</th>\n",
       "      <th>Chinese_name</th>\n",
       "      <th>Extraction_site</th>\n",
       "      <th>Volatile_compounds</th>\n",
       "      <th>Compound_content</th>\n",
       "      <th>Analysis_method</th>\n",
       "      <th>Cite</th>\n",
       "      <th>SMILES</th>\n",
       "      <th>pred</th>\n",
       "    </tr>\n",
       "  </thead>\n",
       "  <tbody>\n",
       "    <tr>\n",
       "      <th>0</th>\n",
       "      <td>Lamium album</td>\n",
       "      <td>短柄野芝麻</td>\n",
       "      <td>flower</td>\n",
       "      <td>6,10,14-Trimethylpentadecan-2-one</td>\n",
       "      <td>0.102</td>\n",
       "      <td>GC-MS</td>\n",
       "      <td>Morteza-Semnani K, Saeedi M, Akbarzadeh M. Che...</td>\n",
       "      <td>CC(C)CCCC(C)CCCC(C)CCCC(=O)C</td>\n",
       "      <td>1.0000</td>\n",
       "    </tr>\n",
       "    <tr>\n",
       "      <th>1</th>\n",
       "      <td>Lamium album</td>\n",
       "      <td>短柄野芝麻</td>\n",
       "      <td>flower</td>\n",
       "      <td>Diacetone alcohol</td>\n",
       "      <td>0.091</td>\n",
       "      <td>GC-MS</td>\n",
       "      <td>Morteza-Semnani K, Saeedi M, Akbarzadeh M. Che...</td>\n",
       "      <td>CC(=O)CC(C)(C)O</td>\n",
       "      <td>1.0000</td>\n",
       "    </tr>\n",
       "    <tr>\n",
       "      <th>2</th>\n",
       "      <td>Lamium album</td>\n",
       "      <td>短柄野芝麻</td>\n",
       "      <td>flower</td>\n",
       "      <td>1-Pentanol</td>\n",
       "      <td>0.041</td>\n",
       "      <td>GC-MS</td>\n",
       "      <td>Morteza-Semnani K, Saeedi M, Akbarzadeh M. Che...</td>\n",
       "      <td>CCCCCO</td>\n",
       "      <td>1.0000</td>\n",
       "    </tr>\n",
       "    <tr>\n",
       "      <th>3</th>\n",
       "      <td>Lamium album</td>\n",
       "      <td>短柄野芝麻</td>\n",
       "      <td>flower</td>\n",
       "      <td>Tetracosane</td>\n",
       "      <td>0.039</td>\n",
       "      <td>GC-MS</td>\n",
       "      <td>Morteza-Semnani K, Saeedi M, Akbarzadeh M. Che...</td>\n",
       "      <td>CCCCCCCCCCCCCCCCCCCCCCCC</td>\n",
       "      <td>0.9900</td>\n",
       "    </tr>\n",
       "    <tr>\n",
       "      <th>4</th>\n",
       "      <td>Lamium album</td>\n",
       "      <td>短柄野芝麻</td>\n",
       "      <td>flower</td>\n",
       "      <td>Tricosane</td>\n",
       "      <td>0.037</td>\n",
       "      <td>GC-MS</td>\n",
       "      <td>Morteza-Semnani K, Saeedi M, Akbarzadeh M. Che...</td>\n",
       "      <td>CCCCCCCCCCCCCCCCCCCCCCC</td>\n",
       "      <td>0.9900</td>\n",
       "    </tr>\n",
       "    <tr>\n",
       "      <th>...</th>\n",
       "      <td>...</td>\n",
       "      <td>...</td>\n",
       "      <td>...</td>\n",
       "      <td>...</td>\n",
       "      <td>...</td>\n",
       "      <td>...</td>\n",
       "      <td>...</td>\n",
       "      <td>...</td>\n",
       "      <td>...</td>\n",
       "    </tr>\n",
       "    <tr>\n",
       "      <th>2366</th>\n",
       "      <td>Glechoma hederacea</td>\n",
       "      <td>欧活血丹</td>\n",
       "      <td>overground part</td>\n",
       "      <td>2-Butanone, 4-(2,6,6-trimethyl-2-cyclohexen-1-...</td>\n",
       "      <td>0.0121</td>\n",
       "      <td>GC-MS</td>\n",
       "      <td>Chou S T, Lai C C, Lai C P, et al. Chemical co...</td>\n",
       "      <td>CC1=CCCC(C1=CCC(=O)C)(C)C</td>\n",
       "      <td>0.9600</td>\n",
       "    </tr>\n",
       "    <tr>\n",
       "      <th>2367</th>\n",
       "      <td>Glechoma hederacea</td>\n",
       "      <td>欧活血丹</td>\n",
       "      <td>overground part</td>\n",
       "      <td>Nopol</td>\n",
       "      <td>0.0283</td>\n",
       "      <td>GC-MS</td>\n",
       "      <td>Chou S T, Lai C C, Lai C P, et al. Chemical co...</td>\n",
       "      <td>CC1(C2CC=C(C1C2)CCO)C</td>\n",
       "      <td>1.0000</td>\n",
       "    </tr>\n",
       "    <tr>\n",
       "      <th>2368</th>\n",
       "      <td>Glechoma hederacea</td>\n",
       "      <td>欧活血丹</td>\n",
       "      <td>overground part</td>\n",
       "      <td>6,6-Dimethylbicyclo[3.1.1]heptan-2-one</td>\n",
       "      <td>0.0209</td>\n",
       "      <td>GC-MS</td>\n",
       "      <td>Chou S T, Lai C C, Lai C P, et al. Chemical co...</td>\n",
       "      <td>CC1(C2CCC(=O)C1C2)C</td>\n",
       "      <td>0.7635</td>\n",
       "    </tr>\n",
       "    <tr>\n",
       "      <th>2369</th>\n",
       "      <td>Hyssopus officinalis</td>\n",
       "      <td>神香草</td>\n",
       "      <td>leaf</td>\n",
       "      <td>3,5,5-Trimethylbicyclo[2.2.1]heptan-2-one</td>\n",
       "      <td>0.5727</td>\n",
       "      <td>GC-MS</td>\n",
       "      <td>KIZIL S, HAŞİMİ N, Tolan V, et al. Chemical co...</td>\n",
       "      <td>CC1C2CC(C1=O)CC2(C)C</td>\n",
       "      <td>0.6900</td>\n",
       "    </tr>\n",
       "    <tr>\n",
       "      <th>2370</th>\n",
       "      <td>Hyssopus officinalis</td>\n",
       "      <td>神香草</td>\n",
       "      <td>leaf</td>\n",
       "      <td>cis-Pinonic acid</td>\n",
       "      <td>0.0063</td>\n",
       "      <td>GC-MS</td>\n",
       "      <td>KIZIL S, HAŞİMİ N, Tolan V, et al. Chemical co...</td>\n",
       "      <td>CC(=O)C1CC(C1(C)C)CC(=O)O</td>\n",
       "      <td>1.0000</td>\n",
       "    </tr>\n",
       "  </tbody>\n",
       "</table>\n",
       "<p>2371 rows × 9 columns</p>\n",
       "</div>"
      ],
      "text/plain": [
       "           Scientific_name Chinese_name  Extraction_site  \\\n",
       "0             Lamium album        短柄野芝麻           flower   \n",
       "1             Lamium album        短柄野芝麻           flower   \n",
       "2             Lamium album        短柄野芝麻           flower   \n",
       "3             Lamium album        短柄野芝麻           flower   \n",
       "4             Lamium album        短柄野芝麻           flower   \n",
       "...                    ...          ...              ...   \n",
       "2366    Glechoma hederacea         欧活血丹  overground part   \n",
       "2367    Glechoma hederacea         欧活血丹  overground part   \n",
       "2368    Glechoma hederacea         欧活血丹  overground part   \n",
       "2369  Hyssopus officinalis          神香草             leaf   \n",
       "2370  Hyssopus officinalis          神香草             leaf   \n",
       "\n",
       "                                     Volatile_compounds Compound_content  \\\n",
       "0                     6,10,14-Trimethylpentadecan-2-one            0.102   \n",
       "1                                     Diacetone alcohol            0.091   \n",
       "2                                            1-Pentanol            0.041   \n",
       "3                                           Tetracosane            0.039   \n",
       "4                                             Tricosane            0.037   \n",
       "...                                                 ...              ...   \n",
       "2366  2-Butanone, 4-(2,6,6-trimethyl-2-cyclohexen-1-...           0.0121   \n",
       "2367                                             Nopol            0.0283   \n",
       "2368             6,6-Dimethylbicyclo[3.1.1]heptan-2-one           0.0209   \n",
       "2369          3,5,5-Trimethylbicyclo[2.2.1]heptan-2-one           0.5727   \n",
       "2370                                   cis-Pinonic acid           0.0063   \n",
       "\n",
       "     Analysis_method                                               Cite  \\\n",
       "0              GC-MS  Morteza-Semnani K, Saeedi M, Akbarzadeh M. Che...   \n",
       "1              GC-MS  Morteza-Semnani K, Saeedi M, Akbarzadeh M. Che...   \n",
       "2              GC-MS  Morteza-Semnani K, Saeedi M, Akbarzadeh M. Che...   \n",
       "3              GC-MS  Morteza-Semnani K, Saeedi M, Akbarzadeh M. Che...   \n",
       "4              GC-MS  Morteza-Semnani K, Saeedi M, Akbarzadeh M. Che...   \n",
       "...              ...                                                ...   \n",
       "2366           GC-MS  Chou S T, Lai C C, Lai C P, et al. Chemical co...   \n",
       "2367           GC-MS  Chou S T, Lai C C, Lai C P, et al. Chemical co...   \n",
       "2368           GC-MS  Chou S T, Lai C C, Lai C P, et al. Chemical co...   \n",
       "2369           GC-MS  KIZIL S, HAŞİMİ N, Tolan V, et al. Chemical co...   \n",
       "2370           GC-MS  KIZIL S, HAŞİMİ N, Tolan V, et al. Chemical co...   \n",
       "\n",
       "                            SMILES    pred  \n",
       "0     CC(C)CCCC(C)CCCC(C)CCCC(=O)C  1.0000  \n",
       "1                  CC(=O)CC(C)(C)O  1.0000  \n",
       "2                           CCCCCO  1.0000  \n",
       "3         CCCCCCCCCCCCCCCCCCCCCCCC  0.9900  \n",
       "4          CCCCCCCCCCCCCCCCCCCCCCC  0.9900  \n",
       "...                            ...     ...  \n",
       "2366     CC1=CCCC(C1=CCC(=O)C)(C)C  0.9600  \n",
       "2367         CC1(C2CC=C(C1C2)CCO)C  1.0000  \n",
       "2368           CC1(C2CCC(=O)C1C2)C  0.7635  \n",
       "2369          CC1C2CC(C1=O)CC2(C)C  0.6900  \n",
       "2370     CC(=O)C1CC(C1(C)C)CC(=O)O  1.0000  \n",
       "\n",
       "[2371 rows x 9 columns]"
      ]
     },
     "execution_count": 16,
     "metadata": {},
     "output_type": "execute_result"
    }
   ],
   "source": [
    "df"
   ]
  },
  {
   "cell_type": "code",
   "execution_count": 27,
   "id": "a14e82e5",
   "metadata": {
    "scrolled": false
   },
   "outputs": [
    {
     "data": {
      "image/png": "[encoded data removed]",
      "text/plain": [
       "<Figure size 1000x600 with 1 Axes>"
      ]
     },
     "metadata": {},
     "output_type": "display_data"
    }
   ],
   "source": [
    "plt.figure(figsize=(10, 6))\n",
    "sns.histplot(df['pred'], bins=30, kde=False, color='#90EE90', edgecolor='black')\n",
    "plt.title('Distribution of Prediction scores')\n",
    "plt.xlabel('Prediction scores')\n",
    "plt.ylabel('Count')\n",
    "#plt.grid(axis='y', linestyle='--', alpha=0.7)\n",
    "plt.show()"
   ]
  },
  {
   "cell_type": "code",
   "execution_count": 21,
   "id": "161ad8d1",
   "metadata": {},
   "outputs": [
    {
     "name": "stdout",
     "output_type": "stream",
     "text": [
      "Number of probabilities above 0.5: 2216\n",
      "Number of probabilities above 0.9: 1772\n",
      "Number of probabilities above 0.95: 1647\n"
     ]
    }
   ],
   "source": [
    "count_above_0_5 = df[df['pred'] >= 0.5].shape[0]\n",
    "count_above_0_9 = df[df['pred'] >= 0.9].shape[0]\n",
    "count_above_0_95 = df[df['pred'] >= 0.95].shape[0]\n",
    "\n",
    "# Output the results\n",
    "print(f\"Number of probabilities above 0.5: {count_above_0_5}\")\n",
    "print(f\"Number of probabilities above 0.9: {count_above_0_9}\")\n",
    "print(f\"Number of probabilities above 0.95: {count_above_0_95}\")"
   ]
  },
  {
   "cell_type": "code",
   "execution_count": 20,
   "id": "fc21a126",
   "metadata": {},
   "outputs": [],
   "source": [
    "df.to_excel('../data/plant_prediction.xlsx')"
   ]
  },
  {
   "cell_type": "code",
   "execution_count": null,
   "id": "d1eaa100",
   "metadata": {},
   "outputs": [],
   "source": []
  }
 ],
 "metadata": {
  "kernelspec": {
   "display_name": "bittersweet",
   "language": "python",
   "name": "bittersweet"
  },
  "language_info": {
   "codemirror_mode": {
    "name": "ipython",
    "version": 3
   },
   "file_extension": ".py",
   "mimetype": "text/x-python",
   "name": "python",
   "nbconvert_exporter": "python",
   "pygments_lexer": "ipython3",
   "version": "3.8.16"
  }
 },
 "nbformat": 4,
 "nbformat_minor": 5
}
