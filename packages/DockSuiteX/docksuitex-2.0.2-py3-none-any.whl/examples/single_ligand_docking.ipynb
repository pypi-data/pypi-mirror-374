{
 "cells": [
  {
   "cell_type": "code",
   "execution_count": null,
   "id": "8f219035",
   "metadata": {},
   "outputs": [],
   "source": [
    "from docksuitex import Protein, Ligand, PocketFinder, VinaDocking, AD4Docking\n",
    "from docksuitex.utils import fetch_pdb, fetch_sdf, parse_vina_log_to_csv, parse_ad4_dlg_to_csv, clean_temp_folder\n",
    "clean_temp_folder()"
   ]
  },
  {
   "cell_type": "code",
   "execution_count": null,
   "id": "6f4879f9",
   "metadata": {},
   "outputs": [],
   "source": [
    "# Fetch and prepare protein\n",
    "Protein_path = fetch_pdb(pdbid = \"1HVR\")\n",
    "prot = Protein(Protein_path)\n",
    "prot.prepare(fix_pdb =True, remove_heterogens=True, add_hydrogens=True, remove_water=True, add_charges=True, preserve_charge_types=None) #Default parameters\n",
    "# prot.save_pdbqt(save_to=\"1HVR.pdbqt\")\n",
    "prot.view_molecule()"
   ]
  },
  {
   "cell_type": "code",
   "execution_count": null,
   "id": "c1101386",
   "metadata": {},
   "outputs": [],
   "source": [
    "# Find pockets using p2rank\n",
    "pf = PocketFinder(prot)\n",
    "pockets = pf.run()\n",
    "# pf.save_report(save_to=\"p2rank_report\")\n",
    "pockets"
   ]
  },
  {
   "cell_type": "code",
   "execution_count": null,
   "id": "afd3f19b",
   "metadata": {},
   "outputs": [],
   "source": [
    "# Fetch and prepare ligand\n",
    "Ligand_path = fetch_sdf(cid = \"338\")\n",
    "lig = Ligand(Ligand_path)\n",
    "lig.prepare(minimize=None,  remove_water=True, add_hydrogens=True, add_charges=True, preserve_charge_types=None) #Default parameters\n",
    "# lig.save_pdbqt(save_to=\"338.pdbqt\")\n",
    "lig.view_molecule()"
   ]
  },
  {
   "cell_type": "markdown",
   "id": "cbb56899",
   "metadata": {},
   "source": [
    "## Perform protein ligand docking at the first pocket"
   ]
  },
  {
   "cell_type": "markdown",
   "id": "cd572d83",
   "metadata": {},
   "source": [
    "#### Using AutoDock Vina\n"
   ]
  },
  {
   "cell_type": "code",
   "execution_count": null,
   "id": "ab75325f",
   "metadata": {},
   "outputs": [],
   "source": [
    "center = pockets[0]['center']\n",
    "\n",
    "vina = VinaDocking(\n",
    "    receptor=prot,\n",
    "    ligand=lig,\n",
    "    grid_center=center,\n",
    "    \n",
    "    # Default Parameters\n",
    "    grid_size=(20,20,20),\n",
    "    exhaustiveness=8,\n",
    "    num_modes=9\n",
    ")\n",
    "vina.run()\n",
    "vina.view_results()\n",
    "vina.save_results(save_to=\"vina_results\")\n",
    "\n",
    "# Parse Vina results\n",
    "parse_vina_log_to_csv(results_dir=\"vina_results\", output_csv=\"vina_results/vina_summary.csv\")\n"
   ]
  },
  {
   "cell_type": "markdown",
   "id": "72d41cd3",
   "metadata": {},
   "source": [
    "#### Using AutoDock4"
   ]
  },
  {
   "cell_type": "code",
   "execution_count": null,
   "id": "2629ad1a",
   "metadata": {},
   "outputs": [],
   "source": [
    "# Perform docking with the first pocket\n",
    "# Using AutoDock4\n",
    "ad4 = AD4Docking(\n",
    "    receptor=prot,\n",
    "    ligand=lig,\n",
    "    grid_center=pockets[0]['center'],\n",
    "\n",
    "    #Default Parameters\n",
    "    grid_size=(60,60,60),\n",
    "    spacing=0.375,     \n",
    "    dielectric=-0.1465, \n",
    "    smooth=0.5,          \n",
    "    ga_pop_size=150,\n",
    "    ga_num_evals=2500000,\n",
    "    ga_num_generations=27000,\n",
    "    ga_elitism=1,\n",
    "    ga_mutation_rate=0.02,\n",
    "    ga_crossover_rate=0.8,\n",
    "    ga_run=10,\n",
    "    rmstol=2.0,\n",
    ")\n",
    "\n",
    "ad4.run()\n",
    "ad4.view_results()\n",
    "ad4.save_results(save_to=\"ad4_results\")\n",
    "\n",
    "# Parse AD4 results\n",
    "parse_ad4_dlg_to_csv(results_dir=\"ad4_results\", output_csv=\"ad4_results/ad4_summary.csv\")"
   ]
  }
 ],
 "metadata": {
  "kernelspec": {
   "display_name": "Python 3",
   "language": "python",
   "name": "python3"
  },
  "language_info": {
   "codemirror_mode": {
    "name": "ipython",
    "version": 3
   },
   "file_extension": ".py",
   "mimetype": "text/x-python",
   "name": "python",
   "nbconvert_exporter": "python",
   "pygments_lexer": "ipython3",
   "version": "3.13.2"
  }
 },
 "nbformat": 4,
 "nbformat_minor": 5
}
