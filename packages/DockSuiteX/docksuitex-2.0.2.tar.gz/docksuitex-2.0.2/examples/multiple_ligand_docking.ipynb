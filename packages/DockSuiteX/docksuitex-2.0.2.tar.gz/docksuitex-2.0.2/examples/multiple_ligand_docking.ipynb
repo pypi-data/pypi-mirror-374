{
 "cells": [
  {
   "cell_type": "code",
   "execution_count": null,
   "id": "e8ecb700",
   "metadata": {},
   "outputs": [],
   "source": [
    "from docksuitex import Protein, Ligand, PocketFinder, BatchVinaDocking, BatchAD4Docking\n",
    "from docksuitex.utils import fetch_pdb, fetch_sdf, view_molecule, parse_vina_log_to_csv, parse_ad4_dlg_to_csv, clean_temp_folder\n",
    "clean_temp_folder()\n",
    "from pathlib import Path"
   ]
  },
  {
   "cell_type": "code",
   "execution_count": null,
   "id": "2a418b6e",
   "metadata": {},
   "outputs": [],
   "source": [
    "# Fetch and prepare protein\n",
    "fetch_pdb(pdbid = \"1HVR\")\n",
    "\n",
    "prot = Protein(\"1HVR.pdb\")\n",
    "prot.prepare()\n",
    "prot.save_pdbqt(\"1HVR.pdbqt\")"
   ]
  },
  {
   "cell_type": "code",
   "execution_count": null,
   "id": "8f684020",
   "metadata": {},
   "outputs": [],
   "source": [
    "# Find pockets using p2rank\n",
    "pf = PocketFinder(\"1HVR.pdbqt\")\n",
    "pockets = pf.run()\n",
    "# pf.save_report()\n",
    "pockets"
   ]
  },
  {
   "cell_type": "code",
   "execution_count": null,
   "id": "d5b29b3c",
   "metadata": {},
   "outputs": [],
   "source": [
    "# Fetch and prepare ligands\n",
    "cid_list = [\"228\", \"338\", \"339\", \"340\"]\n",
    "for cid in cid_list:\n",
    "    fetch_sdf(cid=cid, save_to=\"ligands\")"
   ]
  },
  {
   "cell_type": "code",
   "execution_count": null,
   "id": "a6ed7c31",
   "metadata": {},
   "outputs": [],
   "source": [
    "for ligand in Path(\"ligands\").glob(\"*.sdf\"):\n",
    "    lig = Ligand(str(ligand))\n",
    "    lig.prepare(minimize=\"UFF\")\n",
    "    lig.save_pdbqt(Path(\"prepared_ligands\") / (ligand.stem + \".pdbqt\"))\n",
    "    lig.view_molecule()"
   ]
  },
  {
   "cell_type": "markdown",
   "id": "78a95992",
   "metadata": {},
   "source": [
    "### Dock each ligand against a single receptor at all the predicted protein pockets\n"
   ]
  },
  {
   "cell_type": "markdown",
   "id": "1e76c937",
   "metadata": {},
   "source": [
    "##### Using Vina"
   ]
  },
  {
   "cell_type": "code",
   "execution_count": null,
   "id": "520d0d99",
   "metadata": {},
   "outputs": [],
   "source": [
    "protein = \"1HVR.pdbqt\"\n",
    "ligands = list(Path(\"prepared_ligands\").glob(\"*.pdbqt\"))\n",
    "centers = [item[\"center\"] for item in pockets]  # Replace pockets with pockets[:3], for top 3 pockets\n",
    "\n",
    "batch = BatchVinaDocking(\n",
    "    receptor=protein,\n",
    "    ligand_list=ligands,\n",
    "    center_list=centers,\n",
    ")\n",
    "\n",
    "results_vina = batch.run_all(save_to=\"vina_batch_results\")\n",
    "\n",
    "for (lig, center), res in results_vina.items():\n",
    "    print(f\"Ligand {lig} at center {center} → results in {res}\")\n",
    "\n",
    "parse_vina_log_to_csv(results_dir=\"vina_batch_results\", output_csv=\"vina_batch_results/vina_summary.csv\")\n"
   ]
  },
  {
   "cell_type": "markdown",
   "id": "7bd2ab5d",
   "metadata": {},
   "source": [
    "##### Using AutoDock4"
   ]
  },
  {
   "cell_type": "code",
   "execution_count": null,
   "id": "0b2641f7",
   "metadata": {},
   "outputs": [],
   "source": [
    "protein = \"1HVR.pdbqt\"\n",
    "ligands = list(Path(\"prepared_ligands\").glob(\"*.pdbqt\"))\n",
    "centers = [item[\"center\"] for item in pockets]  # Replace pockets with pockets[:3], for top 3 pockets\n",
    "\n",
    "batch_ad4 = BatchAD4Docking(\n",
    "    receptor=protein,\n",
    "    ligand_list=ligands,\n",
    "    center_list=centers,\n",
    ")\n",
    "\n",
    "results_ad4 = batch_ad4.run_all(save_to=\"ad4_batch_results\")\n",
    "\n",
    "for (lig, center), res in results_ad4.items():\n",
    "    print(f\"Ligand {lig} at center {center} → results in {res}\")\n",
    "\n",
    "parse_ad4_dlg_to_csv(results_dir=\"ad4_batch_results\", output_csv=\"ad4_batch_results/ad4_summary.csv\")\n"
   ]
  }
 ],
 "metadata": {
  "kernelspec": {
   "display_name": "Python 3",
   "language": "python",
   "name": "python3"
  },
  "language_info": {
   "codemirror_mode": {
    "name": "ipython",
    "version": 3
   },
   "file_extension": ".py",
   "mimetype": "text/x-python",
   "name": "python",
   "nbconvert_exporter": "python",
   "pygments_lexer": "ipython3",
   "version": "3.13.2"
  }
 },
 "nbformat": 4,
 "nbformat_minor": 5
}
