{
 "cells": [
  {
   "cell_type": "markdown",
   "metadata": {},
   "source": [
    "## Spectroscopic simulations:\n",
    "`PTO` allows the user to simulate observations with select spectrographs. This is achieved by using a grid of expected SNR from the spectrograph at specific magnitudes and exposure times, which are then scaled based on user specification. The stellar template is selected by the specific target.\n",
    "\n",
    "Lets first define the target. In this case, lets look at WASP-76b observations, as these are thoroughly studied by plethora of instruments, and this planet is not aligned. This means we do not have to significantly worry about RM (Rossiter-McLaughlin effect) + CLV (Center-to-Limb Variations) contamination. "
   ]
  },
  {
   "cell_type": "code",
   "execution_count": null,
   "metadata": {},
   "outputs": [],
   "source": [
    "from PTO.database.NASA_exoplanet_archive import NASA_Exoplanet_Archive_CompositeDefault\n",
    "Target = NASA_Exoplanet_Archive_CompositeDefault()\n",
    "Target.load_API_table(force_load=False)\n",
    "Target.table = Target.table[Target.table['Planet.Name'] == 'WASP-76 b']\n",
    "from PTO.transits.windows import define_baseline\n",
    "Target.table = define_baseline(Target.table)"
   ]
  },
  {
   "cell_type": "markdown",
   "metadata": {},
   "source": [
    "Now lets select instrument to use"
   ]
  },
  {
   "cell_type": "code",
   "execution_count": null,
   "metadata": {},
   "outputs": [],
   "source": [
    "    from PTO.telescopes.instruments import ESPRESSO\n",
    "    from PTO.\n",
    "    Simulation = Simulator()\n",
    "    Simulation.define_target(Target.table.iloc[0])\n",
    "    Simulation.define_instrument_mode(ESPRESSO.modes[0])"
   ]
  }
 ],
 "metadata": {
  "kernelspec": {
   "display_name": ".venv",
   "language": "python",
   "name": "python3"
  },
  "language_info": {
   "name": "python",
   "version": "3.10.12"
  }
 },
 "nbformat": 4,
 "nbformat_minor": 2
}
