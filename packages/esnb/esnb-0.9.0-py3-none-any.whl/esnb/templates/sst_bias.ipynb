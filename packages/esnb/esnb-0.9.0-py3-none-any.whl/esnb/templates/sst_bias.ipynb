{
 "cells": [
  {
   "cell_type": "markdown",
   "id": "e4a43ed7-7624-4da9-b213-32f892574a65",
   "metadata": {},
   "source": [
    "# Sea Surface Temperature Bias\n",
    "\n",
    "Instructions: Run this notebook on the GFDL system using the shared O-div Python environment.  \n",
    "\n",
    "For more details on getting started, see the [Unified Notebook Template Documentation](https://docs.google.com/document/d/1cY-yWoEOANqsDICZWNFNkxbwUHjEXBL63mL6aBbVyyM/edit?tab=t.0#heading=h.hoyr4umbujp6)"
   ]
  },
  {
   "cell_type": "code",
   "execution_count": null,
   "id": "bc7f61a3-dfc0-44e9-9170-ffc50f8d66e2",
   "metadata": {},
   "outputs": [],
   "source": [
    "# required by the esnb notebook framework\n",
    "import esnb\n",
    "from esnb import CaseGroup2, NotebookDiagnostic, RequestedVariable, nbtools\n",
    "from esnb.sites.gfdl import call_dmget, convert_to_momgrid"
   ]
  },
  {
   "cell_type": "code",
   "execution_count": null,
   "id": "4168ea13-0a51-4f50-b0ae-8cccbd75161b",
   "metadata": {
    "editable": true,
    "slideshow": {
     "slide_type": ""
    },
    "tags": []
   },
   "outputs": [],
   "source": [
    "# required by the diagnostic\n",
    "import os\n",
    "\n",
    "import cartopy.crs as ccrs\n",
    "import matplotlib.pyplot as plt\n",
    "import momgrid\n",
    "import momlevel as ml\n",
    "import numpy as np\n",
    "import pandas as pd\n",
    "import xarray as xr\n",
    "import xesmf as xe\n",
    "from matplotlib.colors import BoundaryNorm, ListedColormap\n",
    "from momgrid.geoslice import geoslice\n",
    "\n",
    "# Add the environment variable for MOMGrid weights\n",
    "os.environ[\"MOMGRID_WEIGHTS_DIR\"] = \"/nbhome/jpk/grid_weights\""
   ]
  },
  {
   "cell_type": "code",
   "execution_count": null,
   "id": "fd0ec65e-611a-4c9f-9816-0553b11c5c5c",
   "metadata": {},
   "outputs": [],
   "source": [
    "# define requested variables\n",
    "\n",
    "variables = [\n",
    "    RequestedVariable(\"tos\", \"ocean_month\"),\n",
    "]"
   ]
  },
  {
   "cell_type": "code",
   "execution_count": null,
   "id": "32c671c9-8b7a-41a5-a967-b38d68caffcf",
   "metadata": {},
   "outputs": [],
   "source": [
    "# setup the diagnostic\n",
    "mode = \"prod\"\n",
    "verbose = True\n",
    "diag_name = \"SST_bias_NOAA_OISSTv2\"\n",
    "diag_desc = \"Sea surface termperature bias analysis\"\n",
    "user_options = {\"plot_region\": [\"global\"], \"plot\": \"documentation\"}\n",
    "\n",
    "diag = NotebookDiagnostic(diag_name, diag_desc, variables=variables, **user_options)"
   ]
  },
  {
   "cell_type": "code",
   "execution_count": null,
   "id": "3e84a97e-27d9-48bd-836e-e72a0ff5b397",
   "metadata": {},
   "outputs": [],
   "source": [
    "# define dora ids for experiments to analyze\n",
    "# ids = [\"odiv-516\", \"odiv-384\", \"odiv-319\", \"odiv-290\"]\n",
    "ids = [\"odiv-516\", \"odiv-290\"]\n",
    "\n",
    "# initialize CaseGroup objects\n",
    "groups = [CaseGroup2(x, date_range=(\"1991-01-01\", \"2020-12-31\")) for x in ids]\n",
    "\n",
    "# set experiment names (mostly for labelling)\n",
    "# names = [x.name for x in groups]\n",
    "# names = [\"b11\", \"b05\", \"b03\", \"b01\"]\n",
    "names = [\"b11\", \"b01\"]"
   ]
  },
  {
   "cell_type": "code",
   "execution_count": null,
   "id": "c9fb6b4e-9eaa-4cb9-94f5-9514c536d8a8",
   "metadata": {},
   "outputs": [],
   "source": [
    "# determine what files to load\n",
    "diag.resolve(groups)"
   ]
  },
  {
   "cell_type": "code",
   "execution_count": null,
   "id": "375fbdd0-422c-4b93-b6e8-644a282d63b7",
   "metadata": {
    "editable": true,
    "slideshow": {
     "slide_type": ""
    },
    "tags": []
   },
   "outputs": [],
   "source": [
    "# Print a list of file paths\n",
    "# This cell and the markdown cell that follows are necessary to run this notebook\n",
    "# Interactively on Dora\n",
    "_ = [print(x) for x in diag.files]"
   ]
  },
  {
   "cell_type": "markdown",
   "id": "37ecd8b9-d851-4b9b-8032-ac8b77deb511",
   "metadata": {
    "editable": true,
    "slideshow": {
     "slide_type": ""
    },
    "tags": [
     "stop_here"
    ]
   },
   "source": [
    "<i>(The files above are necessary to run the diagnostic.)</i>"
   ]
  },
  {
   "cell_type": "code",
   "execution_count": null,
   "id": "337fb74f-f81c-49e4-9014-69c1c33bc220",
   "metadata": {},
   "outputs": [],
   "source": [
    "# Check to see the dmget status before calling \"open\"\n",
    "call_dmget(diag.files, status=True)\n",
    "call_dmget(diag.files)"
   ]
  },
  {
   "cell_type": "code",
   "execution_count": null,
   "id": "0e173eb4-5c69-40b7-87a6-2c62d1111162",
   "metadata": {
    "editable": true,
    "slideshow": {
     "slide_type": ""
    },
    "tags": []
   },
   "outputs": [],
   "source": [
    "# Load the data as xarray datasets\n",
    "diag.open()"
   ]
  },
  {
   "cell_type": "markdown",
   "id": "5a49ef3c-0646-45ce-8d9e-90e70983ca37",
   "metadata": {},
   "source": [
    "## Main Diagnostic"
   ]
  },
  {
   "cell_type": "code",
   "execution_count": null,
   "id": "5d2b6dca-0696-4d88-831c-64d9cb0eb356",
   "metadata": {},
   "outputs": [],
   "source": [
    "# make an empty list to house all of the figures that are generated\n",
    "all_figs = []"
   ]
  },
  {
   "cell_type": "code",
   "execution_count": null,
   "id": "be43c4b5-e03b-46e4-9281-789c0da2a0be",
   "metadata": {
    "scrolled": true
   },
   "outputs": [],
   "source": [
    "# Load matplotlib settings for figures\n",
    "nbtools.setup_plots()"
   ]
  },
  {
   "cell_type": "code",
   "execution_count": null,
   "id": "eeac4ed7-a8e8-4db2-a2fb-0869fa4e4c06",
   "metadata": {},
   "outputs": [],
   "source": [
    "# Load SST observations\n",
    "time_coder = xr.coders.CFDatetimeCoder(use_cftime=True)\n",
    "dsobs = {\n",
    "    \"om4\": momgrid.Gridset(\n",
    "        xr.open_dataset(\n",
    "            \"/archive/jpk/datasets/observations/NOAA-OISST/processed/NOAA_OISST_v2_climo_199101_202012_v20250722_OM4.nc\",\n",
    "            decode_times=time_coder,\n",
    "        )\n",
    "    ).data,\n",
    "    \"om5\": momgrid.Gridset(\n",
    "        xr.open_dataset(\n",
    "            \"/archive/jpk/datasets/observations/NOAA-OISST/processed/NOAA_OISST_v2_climo_199101_202012_v20250722_OM5.nc\",\n",
    "            decode_times=time_coder,\n",
    "        )\n",
    "    ).data,\n",
    "}\n",
    "\n",
    "obs_om5 = dsobs[\"om5\"].tos\n",
    "obs_om4 = dsobs[\"om4\"].tos"
   ]
  },
  {
   "cell_type": "code",
   "execution_count": null,
   "id": "725d83ab-cf8d-4bec-9ebe-27337556c515",
   "metadata": {},
   "outputs": [],
   "source": [
    "# Convert to momgrid and make a dict of names for conveinence\n",
    "convert_to_momgrid(diag)\n",
    "exps = dict(zip(names, diag.groups))"
   ]
  },
  {
   "cell_type": "code",
   "execution_count": null,
   "id": "1173f723-9c67-4c63-91d8-a1fd049da7a8",
   "metadata": {},
   "outputs": [],
   "source": [
    "# loop over experiments and make the annual mean\n",
    "annual = {}\n",
    "for k, v in exps.items():\n",
    "    ds = v.datasets[variables[0]]\n",
    "    arr = ds[\"tos\"]\n",
    "    arr = ml.util.annual_average(arr).load().mean(\"time\")\n",
    "    arr.attrs[\"model\"] = ds.model\n",
    "    annual[k] = arr"
   ]
  },
  {
   "cell_type": "code",
   "execution_count": null,
   "id": "c210b695-0456-49b9-ade6-d0199bb66525",
   "metadata": {},
   "outputs": [],
   "source": [
    "# A function to plot an individual map panel\n",
    "\n",
    "def plot_map_panel(ax, arr, obs=None, cmap=None, norm=None, label=\"\", stats=True):\n",
    "    if obs is not None:\n",
    "        plotvar = arr - obs\n",
    "    else:\n",
    "        plotvar = arr\n",
    "\n",
    "    cb = ax.pcolormesh(\n",
    "        plotvar.geolon,\n",
    "        plotvar.geolat,\n",
    "        plotvar,\n",
    "        transform=ccrs.PlateCarree(),\n",
    "        cmap=cmap,\n",
    "        norm=norm,\n",
    "    )\n",
    "    ax.set_title(f\"{label} SST Bias (Model minus NOAA OISSTv2)\", fontsize=6)\n",
    "\n",
    "    if stats:\n",
    "        orig_stats, stats_str = nbtools.calculate_stats(arr, obs, arr.areacello)\n",
    "        stats = {k: f\"{round(float(v),2)}\" for k, v in orig_stats.items()}\n",
    "        del [stats[\"rsquared\"]]\n",
    "        stats_str = str(\"  \").join([f\"{k}={v}\" for k, v in stats.items()])\n",
    "        ax.text(\n",
    "            0.5, -0.1, stats_str, ha=\"center\", style=\"italic\", transform=ax.transAxes\n",
    "        )\n",
    "    else:\n",
    "        stats = {}\n",
    "\n",
    "    return (ax, cb, stats)"
   ]
  },
  {
   "cell_type": "code",
   "execution_count": null,
   "id": "7120623e-339f-45a2-b50c-b3c00c5a3308",
   "metadata": {},
   "outputs": [],
   "source": [
    "reg_settings = {\n",
    "    \"global\": {\n",
    "        \"projection\": ccrs.Robinson(central_longitude=-160),\n",
    "        \"levels\": (-4.0, 4.25, 0.25),\n",
    "        \"xrange\": None,\n",
    "        \"yrange\": None,\n",
    "        \"hspace\": -0.4,\n",
    "    },\n",
    "    \"arctic\": {\n",
    "        \"projection\": ccrs.NorthPolarStereo(),\n",
    "        \"levels\": (-2.0, 2.125, 0.125),\n",
    "        \"xrange\": (-298, 61),\n",
    "        \"yrange\": (60.0, 91.0),\n",
    "        \"hspace\": 0.2,\n",
    "    },\n",
    "    \"southern_ocean\": {\n",
    "        \"projection\": ccrs.SouthPolarStereo(),\n",
    "        \"levels\": (-2.0, 2.125, 0.125),\n",
    "        \"xrange\": (-300, 60),\n",
    "        \"yrange\": (-60.0, -91.0),\n",
    "        \"hspace\": 0.2,\n",
    "    },\n",
    "    \"nw_pacific\": {\n",
    "        \"projection\": ccrs.Miller(central_longitude=-200),\n",
    "        \"levels\": (-4.5, 4.75, 0.25),\n",
    "        \"xrange\": (-250, -150),\n",
    "        \"yrange\": (25, 60),\n",
    "        \"hspace\": 0.0,\n",
    "    },\n",
    "    \"trop_indopac\": {\n",
    "        \"projection\": ccrs.Miller(central_longitude=-180),\n",
    "        \"levels\": (-4.5, 4.75, 0.25),\n",
    "        \"xrange\": (-280, -80),\n",
    "        \"yrange\": (-23, 23),\n",
    "        \"hspace\": -0.4,\n",
    "    },\n",
    "    \"australia\": {\n",
    "        \"projection\": ccrs.Miller(central_longitude=-180),\n",
    "        \"levels\": (-4.5, 4.75, 0.25),\n",
    "        \"xrange\": (-300, -170),\n",
    "        \"yrange\": (0, -60),\n",
    "        \"hspace\": -0.4,\n",
    "    },\n",
    "    \"north_atlantic\": {\n",
    "        \"projection\": ccrs.Miller(central_longitude=-60),\n",
    "        \"levels\": (-4.5, 4.75, 0.25),\n",
    "        \"xrange\": (-80, 0),\n",
    "        \"yrange\": (30, 75),\n",
    "        \"hspace\": -0.3,\n",
    "    },\n",
    "    \"south_atlantic\": {\n",
    "        \"projection\": ccrs.Miller(central_longitude=-25),\n",
    "        \"levels\": (-4.5, 4.75, 0.25),\n",
    "        \"xrange\": (-75, 25),\n",
    "        \"yrange\": (-20, -60),\n",
    "        \"hspace\": -0.4,\n",
    "    },\n",
    "    \"california\": {\n",
    "        \"projection\": ccrs.Miller(central_longitude=-115),\n",
    "        \"levels\": (-4.5, 4.75, 0.25),\n",
    "        \"xrange\": (-130, -100),\n",
    "        \"yrange\": (18, 46),\n",
    "        \"hspace\": 0.2,\n",
    "    },\n",
    "    \"bengula\": {\n",
    "        \"projection\": ccrs.Miller(central_longitude=5),\n",
    "        \"levels\": (-4.5, 4.75, 0.25),\n",
    "        \"xrange\": (-10, 20),\n",
    "        \"yrange\": (35, -30),\n",
    "        \"hspace\": 0.2,\n",
    "    },\n",
    "    \"peru\": {\n",
    "        \"projection\": ccrs.Miller(central_longitude=-85),\n",
    "        \"levels\": (-4.5, 4.75, 0.25),\n",
    "        \"xrange\": (-110, -60),\n",
    "        \"yrange\": (0, -40),\n",
    "        \"hspace\": 0.2,\n",
    "    },\n",
    "    \"caribbean\": {\n",
    "        \"projection\": ccrs.Miller(central_longitude=-80),\n",
    "        \"levels\": (-4.5, 4.75, 0.25),\n",
    "        \"xrange\": (-110, -60),\n",
    "        \"yrange\": (5, 35),\n",
    "        \"hspace\": -0.3,\n",
    "    },\n",
    "}"
   ]
  },
  {
   "cell_type": "code",
   "execution_count": null,
   "id": "fc7449fd-8207-4833-9536-02bb80c2b93b",
   "metadata": {},
   "outputs": [],
   "source": [
    "# Loop over regions and make maps\n",
    "\n",
    "for reg in reg_settings.keys():\n",
    "\n",
    "    print(f\"Processing region: {reg}\")\n",
    "    settings = reg_settings[reg]\n",
    "\n",
    "    # make plots for regions\n",
    "    if reg in diag.diag_vars[\"plot_region\"]:\n",
    "        nexps = len(diag.groups)\n",
    "        figsize, subplot = nbtools.get_figsize_subplots(nexps)\n",
    "\n",
    "        results = []\n",
    "        fig = plt.figure(figsize=figsize, dpi=200)\n",
    "        cmap, norm, boundaries = nbtools.gen_levs_and_cmap(*settings[\"levels\"])\n",
    "        projection = settings[\"projection\"]\n",
    "\n",
    "        for n, k in enumerate(annual.keys()):\n",
    "            arr = annual[k]\n",
    "            obs = obs_om4 if \"om4\" in arr.model else obs_om5\n",
    "            if settings[\"xrange\"] is not None or settings[\"yrange\"] is not None:\n",
    "                arr = momgrid.geoslice.geoslice(\n",
    "                    arr, x=settings[\"xrange\"], y=settings[\"yrange\"]\n",
    "                )\n",
    "                obs = momgrid.geoslice.geoslice(\n",
    "                    obs, x=settings[\"xrange\"], y=settings[\"yrange\"]\n",
    "                )\n",
    "            ax = plt.subplot(*subplot, n + 1, projection=projection, facecolor=\"gray\")\n",
    "            res = plot_map_panel(ax, arr, obs, cmap, norm, label=k.upper())\n",
    "            results.append(res)\n",
    "\n",
    "        axes, cbs, stats = zip(*results)\n",
    "\n",
    "        plt.subplots_adjust(hspace=settings[\"hspace\"])\n",
    "\n",
    "        cbar = nbtools.bottom_colorbar(\n",
    "            fig, cbs[0], orientation=\"horizontal\", extend=\"both\"\n",
    "        )\n",
    "        cbar.set_label(\"Sea Surface Temperature Bias [degC]\")\n",
    "\n",
    "        # add letter labels for each panel\n",
    "        nbtools.panel_letters(axes, -0.12, 1.17)\n",
    "\n",
    "        # append figure to the complete list of figures\n",
    "        all_figs.append(fig)\n",
    "\n",
    "    # for regions that are not plotted, still calculate the statistics\n",
    "    else:\n",
    "        results = []\n",
    "        for n, k in enumerate(annual.keys()):\n",
    "            arr = annual[k]\n",
    "            obs = obs_om4 if \"om4\" in arr.model else obs_om5\n",
    "            if settings[\"xrange\"] is not None or settings[\"yrange\"] is not None:\n",
    "                arr = momgrid.geoslice.geoslice(\n",
    "                    arr, x=settings[\"xrange\"], y=settings[\"yrange\"]\n",
    "                )\n",
    "                obs = momgrid.geoslice.geoslice(\n",
    "                    obs, x=settings[\"xrange\"], y=settings[\"yrange\"]\n",
    "                )\n",
    "\n",
    "            res = nbtools.calculate_stats(arr, obs, arr.areacello)\n",
    "            results.append(res)\n",
    "\n",
    "        stats, _ = zip(*results)\n",
    "\n",
    "    # register statistics\n",
    "    for n, grp in enumerate(diag.groups):\n",
    "        for k, v in stats[n].items():\n",
    "            metric = (k, float(v))\n",
    "            grp.add_metric(reg, metric)"
   ]
  },
  {
   "cell_type": "markdown",
   "id": "f27f8868-6323-4e5a-a333-48b2fc96ee37",
   "metadata": {},
   "source": [
    "### Seasonal Cycle"
   ]
  },
  {
   "cell_type": "code",
   "execution_count": null,
   "id": "e917b56d-bd6e-400e-8b08-e2a8f4bae7d9",
   "metadata": {},
   "outputs": [],
   "source": [
    "# Load SST observations\n",
    "time_coder = xr.coders.CFDatetimeCoder(use_cftime=True)\n",
    "dsobs = {\n",
    "    \"om4\": momgrid.Gridset(\n",
    "        xr.open_dataset(\n",
    "            \"/archive/jpk/datasets/observations/NOAA-OISST/processed/NOAA_OISST_v2_anncycle_199101_202012_v20250722_OM4.nc\",\n",
    "            decode_times=time_coder,\n",
    "        )\n",
    "    ).data,\n",
    "    \"om5\": momgrid.Gridset(\n",
    "        xr.open_dataset(\n",
    "            \"/archive/jpk/datasets/observations/NOAA-OISST/processed/NOAA_OISST_v2_anncycle_199101_202012_v20250722_OM5.nc\",\n",
    "            decode_times=time_coder,\n",
    "        )\n",
    "    ).data,\n",
    "}\n",
    "\n",
    "obs_om5 = dsobs[\"om5\"].tos\n",
    "obs_om4 = dsobs[\"om4\"].tos"
   ]
  },
  {
   "cell_type": "code",
   "execution_count": null,
   "id": "535c4568-75c3-4546-b59c-9fd7c99c1344",
   "metadata": {},
   "outputs": [],
   "source": [
    "# loop over experiments and make the annual cycle\n",
    "anncyc = {}\n",
    "for k, v in exps.items():\n",
    "    ds = v.datasets[variables[0]]\n",
    "    arr = ds[\"tos\"]\n",
    "    arr = ml.util.annual_cycle(arr).load()\n",
    "    arr.attrs[\"model\"] = ds.model\n",
    "    anncyc[k] = arr"
   ]
  },
  {
   "cell_type": "code",
   "execution_count": null,
   "id": "bc85bcb8-abe4-4b1d-81d9-829927ee43de",
   "metadata": {},
   "outputs": [],
   "source": [
    "# function to plot a single seasonal cycle panel\n",
    "\n",
    "\n",
    "def plot_panel(ax, arr, obs, vmin=-1, vmax=1, label=\"\"):\n",
    "    time = np.arange(1, 13)\n",
    "    area = arr.areacello\n",
    "    lat = arr.geolat.mean(\"xh\")\n",
    "\n",
    "    arr = arr.assign_coords({\"time\": time})\n",
    "    arr = arr.weighted(area).mean(\"xh\")\n",
    "\n",
    "    obs = obs.assign_coords({\"time\": time})\n",
    "    obs = obs.weighted(area).mean(\"xh\")\n",
    "\n",
    "    diff = arr - obs\n",
    "\n",
    "    dpm = np.array(\n",
    "        [31.0, 28, 31.0, 30.0, 31.0, 30.0, 31.0, 31.0, 30.0, 31.0, 30.0, 31.0]\n",
    "    )\n",
    "    coslat = np.cos(np.deg2rad(lat))\n",
    "    x, y = np.meshgrid(dpm, coslat)\n",
    "    wgt = (diff * 0.0) + (x * y).T\n",
    "    wgt = wgt.fillna(0.0)\n",
    "\n",
    "    levels = np.arange(-1, 1.1, 0.1)\n",
    "    cb = ax.contourf(\n",
    "        diff.time, lat, diff.T, levels=levels, cmap=\"RdBu_r\", extend=\"both\"\n",
    "    )\n",
    "    ax.set_title(f\"{label} SST Bias (Model minus NOAA OISSTv2)\")\n",
    "\n",
    "    ax.set_xticks(np.arange(1, 13))\n",
    "    ax.set_xticklabels([\"J\", \"F\", \"M\", \"A\", \"M\", \"J\", \"J\", \"A\", \"S\", \"O\", \"N\", \"D\"])\n",
    "\n",
    "    orig_stats, stats_str = nbtools.calculate_stats(arr, obs, wgt)\n",
    "    stats = {k: f\"{round(float(v),2)}\" for k, v in orig_stats.items()}\n",
    "    del [stats[\"rsquared\"]]\n",
    "    stats_str = str(\"  \").join([f\"{k}={v}\" for k, v in stats.items()])\n",
    "    ax.text(0.5, -0.15, stats_str, ha=\"center\", style=\"italic\", transform=ax.transAxes)\n",
    "    ax.grid(True, color=\"k\", linestyle=\":\", linewidth=0.5)\n",
    "\n",
    "    ax.set_ylim(-78, None)\n",
    "\n",
    "    return (ax, cb, stats)"
   ]
  },
  {
   "cell_type": "code",
   "execution_count": null,
   "id": "57f52645-b715-491b-9afe-1c118dcd8287",
   "metadata": {},
   "outputs": [],
   "source": [
    "nexps = len(diag.groups)\n",
    "figsize, subplot = nbtools.get_figsize_subplots(nexps)\n",
    "\n",
    "results = []\n",
    "fig = plt.figure(figsize=figsize, dpi=200)\n",
    "\n",
    "for n, k in enumerate(annual.keys()):\n",
    "    arr = anncyc[k]\n",
    "    obs = obs_om4 if \"om4\" in arr.model else obs_om5\n",
    "    ax = plt.subplot(*subplot, n + 1, facecolor=\"gray\")\n",
    "    res = plot_panel(ax, arr, obs, label=k.upper())\n",
    "    results.append(res)\n",
    "\n",
    "plt.subplots_adjust(hspace=0.3)\n",
    "\n",
    "axes, cbs, stats = zip(*results)\n",
    "\n",
    "cbar = nbtools.bottom_colorbar(fig, cbs[0], orientation=\"horizontal\", extend=\"both\")\n",
    "cbar.set_label(\"Sea Surface Temperature Bias [degC]\")\n",
    "\n",
    "# add letter labels for each panel\n",
    "nbtools.panel_letters(axes)\n",
    "\n",
    "# register statistics\n",
    "for n, grp in enumerate(diag.groups):\n",
    "    for k, v in stats[n].items():\n",
    "        metric = (k, float(v))\n",
    "        grp.add_metric(\"zonal_seas_cycle\", metric)\n",
    "\n",
    "all_figs.append(fig)"
   ]
  },
  {
   "cell_type": "markdown",
   "id": "5e745a5f-1a5a-4b31-996c-fbc72f8e4247",
   "metadata": {},
   "source": [
    "### Maps by Season"
   ]
  },
  {
   "cell_type": "code",
   "execution_count": null,
   "id": "77185f3d-15e5-42cd-aff3-707340424d4c",
   "metadata": {},
   "outputs": [],
   "source": [
    "seasons = {\n",
    "    \"DJF\": [11, 0, 1],\n",
    "    \"MAM\": [2, 3, 4],\n",
    "    \"JJA\": [5, 6, 7],\n",
    "    \"SON\": [8, 9, 10],\n",
    "}"
   ]
  },
  {
   "cell_type": "code",
   "execution_count": null,
   "id": "f6787b4e-ad33-4e45-9d97-23ce586a595a",
   "metadata": {},
   "outputs": [],
   "source": [
    "for season in seasons.keys():\n",
    "\n",
    "    nexps = len(diag.groups)\n",
    "    figsize, subplot = nbtools.get_figsize_subplots(nexps)\n",
    "\n",
    "    results = []\n",
    "    fig = plt.figure(figsize=figsize, dpi=200)\n",
    "\n",
    "    cmap, norm, boundaries = nbtools.gen_levs_and_cmap(-7, 7.5, 0.5)\n",
    "    projection = ccrs.Robinson(central_longitude=-160)\n",
    "\n",
    "    for n, k in enumerate(anncyc.keys()):\n",
    "        arr = anncyc[k]\n",
    "        obs = obs_om4 if \"om4\" in arr.model else obs_om5\n",
    "        arr = arr.isel(time=seasons[season]).mean(\"time\")\n",
    "        obs = obs.isel(time=seasons[season]).mean(\"time\")\n",
    "        ax = plt.subplot(*subplot, n + 1, projection=projection, facecolor=\"gray\")\n",
    "        res = plot_map_panel(ax, arr, obs, cmap, norm, label=f\"{k.upper()} {season}\")\n",
    "        results.append(res)\n",
    "\n",
    "    axes, cbs, stats = zip(*results)\n",
    "\n",
    "    cbar = nbtools.bottom_colorbar(fig, cbs[0], orientation=\"horizontal\", extend=\"both\")\n",
    "    cbar.set_label(\"Sea Surface Temperature Bias [degC]\")\n",
    "\n",
    "    # add letter labels for each panel\n",
    "    nbtools.panel_letters(axes)\n",
    "\n",
    "    # register statistics\n",
    "    for n, grp in enumerate(diag.groups):\n",
    "        for k, v in stats[n].items():\n",
    "            metric = (k, float(v))\n",
    "            grp.add_metric(f\"{str(season).lower()}_bias\", metric)\n",
    "\n",
    "    all_figs.append(fig)"
   ]
  },
  {
   "cell_type": "markdown",
   "id": "15d84130-899f-406f-90e2-6ac898c886f0",
   "metadata": {},
   "source": [
    "### SST Trend"
   ]
  },
  {
   "cell_type": "code",
   "execution_count": null,
   "id": "8f396599-2b94-49b7-be2c-8323a8697a98",
   "metadata": {},
   "outputs": [],
   "source": [
    "# Load SST observations\n",
    "time_coder = xr.coders.CFDatetimeCoder(use_cftime=True)\n",
    "dsobs = {\n",
    "    \"om4\": momgrid.Gridset(\n",
    "        xr.open_dataset(\n",
    "            \"/archive/jpk/datasets/observations/NOAA-OISST/processed/NOAA_OISST_v2_annual_199101_202012_v20250722_OM4.nc\",\n",
    "            decode_times=time_coder,\n",
    "        )\n",
    "    ).data,\n",
    "    \"om5\": momgrid.Gridset(\n",
    "        xr.open_dataset(\n",
    "            \"/archive/jpk/datasets/observations/NOAA-OISST/processed/NOAA_OISST_v2_annual_199101_202012_v20250722_OM5.nc\",\n",
    "            decode_times=time_coder,\n",
    "        )\n",
    "    ).data,\n",
    "}\n",
    "\n",
    "obs_om5 = dsobs[\"om5\"].tos\n",
    "obs_om4 = dsobs[\"om4\"].tos"
   ]
  },
  {
   "cell_type": "code",
   "execution_count": null,
   "id": "5dc4524d-0c4b-4124-9173-933e21c95cdb",
   "metadata": {},
   "outputs": [],
   "source": [
    "obs_slope_om5 = ml.trend.calc_linear_trend(obs_om5, time_units=\"yr\")[\"tos_slope\"].load()"
   ]
  },
  {
   "cell_type": "code",
   "execution_count": null,
   "id": "f32d0ef7-6769-4f33-876b-5b8078914ddc",
   "metadata": {},
   "outputs": [],
   "source": [
    "# plot observed trend\n",
    "\n",
    "fig = plt.figure(figsize=(nbtools.SINGLE_COLUMN, nbtools.SINGLE_COLUMN), dpi=200)\n",
    "ax = plt.subplot(\n",
    "    1, 1, 1, projection=ccrs.Robinson(central_longitude=-160), facecolor=\"gray\"\n",
    ")\n",
    "cmap, norm, boundaries = nbtools.gen_levs_and_cmap(-0.1, 0.11, 0.01)\n",
    "cb = ax.pcolormesh(\n",
    "    obs_om5.geolon,\n",
    "    obs_om5.geolat,\n",
    "    obs_slope_om5,\n",
    "    transform=ccrs.PlateCarree(),\n",
    "    cmap=cmap,\n",
    "    norm=norm,\n",
    ")\n",
    "ax.set_title(\"NOAA OISSTv2 1991-2020\")\n",
    "cbar = nbtools.bottom_colorbar(fig, cb, orientation=\"horizontal\", extend=\"both\")\n",
    "cbar.set_label(\"Sea Surface Temperature Trend [degC yr-1]\")\n",
    "\n",
    "all_figs.append(fig)"
   ]
  },
  {
   "cell_type": "code",
   "execution_count": null,
   "id": "cca5f5b2-b8e0-4838-aeda-20c1ad917667",
   "metadata": {},
   "outputs": [],
   "source": [
    "# loop over experiments and make the annual cycle\n",
    "modtrend = {}\n",
    "for k, v in exps.items():\n",
    "    ds = v.datasets[variables[0]]\n",
    "    arr = ml.util.annual_average(ds[\"tos\"])\n",
    "    trend = ml.trend.calc_linear_trend(arr, time_units=\"yr\")[\"tos_slope\"].load()\n",
    "    trend.attrs[\"model\"] = ds.model\n",
    "    trend = trend.assign_coords(\n",
    "        {\"geolon\": ds.geolon, \"geolat\": ds.geolat, \"areacello\": ds.areacello}\n",
    "    )\n",
    "    modtrend[k] = trend"
   ]
  },
  {
   "cell_type": "code",
   "execution_count": null,
   "id": "d550958e-8384-458b-9798-5183d059e7f1",
   "metadata": {},
   "outputs": [],
   "source": [
    "for reg in reg_settings.keys():\n",
    "\n",
    "    print(f\"Processing region: {reg}\")\n",
    "    settings = reg_settings[reg]\n",
    "\n",
    "    # make plots for regions\n",
    "    if reg in diag.diag_vars[\"plot_region\"]:\n",
    "        nexps = len(diag.groups)\n",
    "        figsize, subplot = nbtools.get_figsize_subplots(nexps)\n",
    "\n",
    "        results = []\n",
    "        fig = plt.figure(figsize=figsize, dpi=200)\n",
    "        cmap, norm, boundaries = nbtools.gen_levs_and_cmap(-0.1, 0.11, 0.01)\n",
    "        projection = settings[\"projection\"]\n",
    "\n",
    "        for n, k in enumerate(annual.keys()):\n",
    "            arr = modtrend[k]\n",
    "            if settings[\"xrange\"] is not None or settings[\"yrange\"] is not None:\n",
    "                arr = momgrid.geoslice.geoslice(\n",
    "                    arr, x=settings[\"xrange\"], y=settings[\"yrange\"]\n",
    "                )\n",
    "            ax = plt.subplot(*subplot, n + 1, projection=projection, facecolor=\"gray\")\n",
    "            ax, cb, _ = plot_map_panel(\n",
    "                ax, arr, cmap=cmap, norm=norm, label=k.upper(), stats=False\n",
    "            )\n",
    "            ax.set_title(f\"{k.upper()} SST Trend 1991-2020\")\n",
    "            avg_trend = arr.weighted(arr.areacello).mean((\"yh\", \"xh\"))\n",
    "            stat = {\"trend\": float(avg_trend)}\n",
    "            results.append((ax, cb, stat))\n",
    "\n",
    "        axes, cbs, stats = zip(*results)\n",
    "\n",
    "        cbar = nbtools.bottom_colorbar(fig, cb, orientation=\"horizontal\", extend=\"both\")\n",
    "        cbar.set_label(\"Sea Surface Temperature Trend [degC yr-1]\")\n",
    "\n",
    "        all_figs.append(fig)\n",
    "\n",
    "    # for regions that are not plotted, still calculate the statistics\n",
    "    else:\n",
    "        stats = []\n",
    "        for n, k in enumerate(annual.keys()):\n",
    "            arr = modtrend[k]\n",
    "            if settings[\"xrange\"] is not None or settings[\"yrange\"] is not None:\n",
    "                arr = momgrid.geoslice.geoslice(\n",
    "                    arr, x=settings[\"xrange\"], y=settings[\"yrange\"]\n",
    "                )\n",
    "            avg_trend = arr.weighted(arr.areacello).mean((\"yh\", \"xh\"))\n",
    "            stats.append({\"trend\": float(avg_trend)})\n",
    "\n",
    "    # register statistics\n",
    "    for n, grp in enumerate(diag.groups):\n",
    "        for k, v in stats[n].items():\n",
    "            metric = (k, float(v))\n",
    "            grp.add_metric(f\"{reg}_trend\", metric)"
   ]
  },
  {
   "cell_type": "markdown",
   "id": "9a0e7c0f-d67f-4476-acad-d48783112c8f",
   "metadata": {},
   "source": [
    "### Process and synthesize metrics"
   ]
  },
  {
   "cell_type": "code",
   "execution_count": null,
   "id": "0c290de6-6443-461e-b798-96bb27e2b30d",
   "metadata": {},
   "outputs": [],
   "source": [
    "data = diag.metrics\n",
    "exps = list(data[\"RESULTS\"][\"Global\"].keys())\n",
    "metrics = list(data[\"RESULTS\"][\"Global\"][exps[0]].keys())\n",
    "trends = set([x for x in metrics if \"_trend\" in x])\n",
    "seasonal = set(\n",
    "    [x for x in metrics if \"_bias\" in x] + [x for x in metrics if \"_seas_cycle\" in x]\n",
    ")\n",
    "regions = set(metrics) - trends - seasonal"
   ]
  },
  {
   "cell_type": "code",
   "execution_count": null,
   "id": "7a78d9bf-9055-4b77-9141-d004f6b52386",
   "metadata": {},
   "outputs": [],
   "source": [
    "results = {}\n",
    "for exp in exps:\n",
    "    results[exp] = {}\n",
    "    for reg in regions:\n",
    "        x = data[\"RESULTS\"][\"Global\"][exp][reg][\"bias\"]\n",
    "        results[exp][reg] = x\n",
    "\n",
    "pd.DataFrame(results)"
   ]
  },
  {
   "cell_type": "code",
   "execution_count": null,
   "id": "3f492316-1e04-4a0d-91cb-c95aa5d674bb",
   "metadata": {},
   "outputs": [],
   "source": [
    "results = {}\n",
    "for exp in exps:\n",
    "    results[exp] = {}\n",
    "    for trend in trends:\n",
    "        results[exp][trend] = data[\"RESULTS\"][\"Global\"][exp][trend][\"trend\"]\n",
    "\n",
    "pd.DataFrame(results)"
   ]
  },
  {
   "cell_type": "code",
   "execution_count": null,
   "id": "2593dbcd-e4d1-41c0-921a-71c62ea72391",
   "metadata": {},
   "outputs": [],
   "source": [
    "results = {}\n",
    "for exp in exps:\n",
    "    results[exp] = {}\n",
    "    for seas in seasonal:\n",
    "        results[exp][seas] = data[\"RESULTS\"][\"Global\"][exp][seas][\"bias\"]\n",
    "\n",
    "pd.DataFrame(results)"
   ]
  },
  {
   "cell_type": "markdown",
   "id": "9a0b8391-4e99-421c-b5be-5bea4accf78f",
   "metadata": {},
   "source": [
    "### Write Metrics to File"
   ]
  },
  {
   "cell_type": "code",
   "execution_count": null,
   "id": "3b7f964c-a259-40e8-bd6d-6c5d3829b536",
   "metadata": {},
   "outputs": [],
   "source": [
    "diag.write_metrics(\"SST_metrics.json\")"
   ]
  },
  {
   "cell_type": "markdown",
   "id": "5ff124a2-aa57-410b-ab8d-9fa7cc8abdb5",
   "metadata": {},
   "source": [
    "### Make a PowerPoint Presentation of Figures"
   ]
  },
  {
   "cell_type": "code",
   "execution_count": null,
   "id": "070c41e6-ac65-4d16-b0a5-5730819a9ee6",
   "metadata": {},
   "outputs": [],
   "source": [
    "nbtools.save_pptx(all_figs,\"SST_bias.pptx\")"
   ]
  }
 ],
 "metadata": {
  "kernelspec": {
   "display_name": "Python 3 (ipykernel)",
   "language": "python",
   "name": "python3"
  },
  "language_info": {
   "codemirror_mode": {
    "name": "ipython",
    "version": 3
   },
   "file_extension": ".py",
   "mimetype": "text/x-python",
   "name": "python",
   "nbconvert_exporter": "python",
   "pygments_lexer": "ipython3",
   "version": "3.12.11"
  }
 },
 "nbformat": 4,
 "nbformat_minor": 5
}
