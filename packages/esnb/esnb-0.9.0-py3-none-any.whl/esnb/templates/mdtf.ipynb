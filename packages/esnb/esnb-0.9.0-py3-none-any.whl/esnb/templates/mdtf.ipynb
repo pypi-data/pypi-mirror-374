{
 "cells": [
  {
   "cell_type": "markdown",
   "id": "e4a43ed7-7624-4da9-b213-32f892574a65",
   "metadata": {},
   "source": [
    "# Unified MDTF/GFDL/NCAR Analysis Notebook Template\n",
    "\n",
    "More details on the development process:\n",
    "[MDTF Planning Document](https://docs.google.com/document/d/1P8HqL8O5304qwR3ik9RmgFDwSWwlkPgOjnp39PIkLfY/edit?usp=sharing)"
   ]
  },
  {
   "cell_type": "code",
   "execution_count": 1,
   "id": "e67185bc-4731-4c89-b63a-ca8953428f07",
   "metadata": {
    "editable": true,
    "slideshow": {
     "slide_type": ""
    },
    "tags": []
   },
   "outputs": [],
   "source": [
    "# Development mode: constantly refreshes module code\n",
    "%load_ext autoreload\n",
    "%autoreload 2"
   ]
  },
  {
   "cell_type": "markdown",
   "id": "6898886b-b5e1-4de0-939a-f715748be915",
   "metadata": {
    "editable": true,
    "slideshow": {
     "slide_type": ""
    },
    "tags": []
   },
   "source": [
    "## Framework Code and Diagnostic Setup"
   ]
  },
  {
   "cell_type": "code",
   "execution_count": 2,
   "id": "4168ea13-0a51-4f50-b0ae-8cccbd75161b",
   "metadata": {
    "editable": true,
    "slideshow": {
     "slide_type": ""
    },
    "tags": []
   },
   "outputs": [],
   "source": [
    "import esnb\n",
    "from esnb import NotebookDiagnostic, RequestedVariable, CaseGroup2"
   ]
  },
  {
   "cell_type": "code",
   "execution_count": 3,
   "id": "9db7b4dc-01a6-454b-8bd7-18eb0691978a",
   "metadata": {},
   "outputs": [],
   "source": [
    "# Define a mode (leave \"prod\" for now)\n",
    "mode = \"prod\"\n",
    "\n",
    "# Verbosity\n",
    "verbose = True"
   ]
  },
  {
   "cell_type": "code",
   "execution_count": null,
   "id": "45d4094d-b51c-4d4e-806a-b623ed456cc8",
   "metadata": {},
   "outputs": [],
   "source": [
    "# Initialize the diagnostic from an existing MDTF settings file\n",
    "diag = NotebookDiagnostic(\"/path/to/mdtf/settings.jsonc\")"
   ]
  },
  {
   "cell_type": "code",
   "execution_count": null,
   "id": "e4a214d0-5c36-42d4-bc69-d51d5e18188d",
   "metadata": {},
   "outputs": [],
   "source": [
    "# Define a dictionary of variable name mappings.\n",
    "# These will be used to rename the variables, but this is not required.\n",
    "mapping = {\n",
    "    \"zg\": \"Z500\",\n",
    "}"
   ]
  },
  {
   "cell_type": "code",
   "execution_count": null,
   "id": "0dd92ddb-cbb3-4eca-b1a4-7e830aac24c0",
   "metadata": {},
   "outputs": [],
   "source": [
    "# Provide an MDTF case settings file\n",
    "groups = [\n",
    "    CaseGroup2(\n",
    "        \"/path/to/mdtf/case/settings/input_timeslice_test.yml\",\n",
    "        date_range=(\"1998-01-01\", \"2004-12-31\"),\n",
    "        mapping=mapping,\n",
    "    )\n",
    "]"
   ]
  },
  {
   "cell_type": "code",
   "execution_count": null,
   "id": "bbe30580-d4c6-4c1d-8c32-3d6b9fc121e5",
   "metadata": {},
   "outputs": [],
   "source": [
    "# Combine the experiments with the diag request and determine what files need to be loaded:\n",
    "diag.resolve(groups)"
   ]
  },
  {
   "cell_type": "code",
   "execution_count": null,
   "id": "0898a3dc-1b76-4bed-82f1-b0087f0c67a2",
   "metadata": {},
   "outputs": [],
   "source": [
    "# List the files that will be loaded\n",
    "diag.files"
   ]
  },
  {
   "cell_type": "code",
   "execution_count": null,
   "id": "f1cb1771-4fa6-435c-b405-270b51bd0703",
   "metadata": {},
   "outputs": [],
   "source": [
    "# Open the files as xarray datasets\n",
    "diag.open()"
   ]
  },
  {
   "cell_type": "markdown",
   "id": "126f0f2f-40b9-473c-b386-ae83cdebfb81",
   "metadata": {},
   "source": [
    "## Exploring Datasets by Looping Over Variables"
   ]
  },
  {
   "cell_type": "code",
   "execution_count": null,
   "id": "d165113e-f6e2-4eb8-b874-54a885492684",
   "metadata": {},
   "outputs": [],
   "source": [
    "# First loop over variables, and then over groups\n",
    "\n",
    "for variable in diag.variables:\n",
    "    for group in variable.datasets.keys():\n",
    "        ds = variable.datasets[group]\n",
    "        print(\"\\n\")\n",
    "        print(f\"Variable={variable}, Group={group}\")\n",
    "        print(ds)"
   ]
  },
  {
   "cell_type": "markdown",
   "id": "2014a755-2efc-4cd5-a7e3-76cb93d22ca2",
   "metadata": {},
   "source": [
    "## Exploring Datasets by Looping over Groups"
   ]
  },
  {
   "cell_type": "code",
   "execution_count": null,
   "id": "09d1a39d-34e3-4ea3-8c85-4570881b8f32",
   "metadata": {},
   "outputs": [],
   "source": [
    "# First loop over groups, and then over variables\n",
    "\n",
    "for group in diag.groups:\n",
    "    for variable in group.datasets.keys():\n",
    "        ds = group.datasets[variable]\n",
    "        print(\"\\n\")\n",
    "        print(f\"Variable={variable}, Group={group}\")\n",
    "        print(ds)"
   ]
  }
 ],
 "metadata": {
  "kernelspec": {
   "display_name": "Python 3 (ipykernel)",
   "language": "python",
   "name": "python3"
  },
  "language_info": {
   "codemirror_mode": {
    "name": "ipython",
    "version": 3
   },
   "file_extension": ".py",
   "mimetype": "text/x-python",
   "name": "python",
   "nbconvert_exporter": "python",
   "pygments_lexer": "ipython3",
   "version": "3.12.11"
  }
 },
 "nbformat": 4,
 "nbformat_minor": 5
}
