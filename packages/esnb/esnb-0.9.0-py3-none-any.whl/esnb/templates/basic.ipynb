{
 "cells": [
  {
   "cell_type": "markdown",
   "id": "e4a43ed7-7624-4da9-b213-32f892574a65",
   "metadata": {},
   "source": [
    "# Unified MDTF/GFDL/NCAR Analysis Notebook Template\n",
    "\n",
    "More details on the development process:\n",
    "[MDTF Planning Document](https://docs.google.com/document/d/1P8HqL8O5304qwR3ik9RmgFDwSWwlkPgOjnp39PIkLfY/edit?usp=sharing)"
   ]
  },
  {
   "cell_type": "code",
   "execution_count": null,
   "id": "e67185bc-4731-4c89-b63a-ca8953428f07",
   "metadata": {
    "editable": true,
    "slideshow": {
     "slide_type": ""
    },
    "tags": []
   },
   "outputs": [],
   "source": [
    "# Development mode: constantly refreshes module code\n",
    "%load_ext autoreload\n",
    "%autoreload 2"
   ]
  },
  {
   "cell_type": "markdown",
   "id": "6898886b-b5e1-4de0-939a-f715748be915",
   "metadata": {
    "editable": true,
    "slideshow": {
     "slide_type": ""
    },
    "tags": []
   },
   "source": [
    "## Framework Code and Diagnostic Setup"
   ]
  },
  {
   "cell_type": "code",
   "execution_count": null,
   "id": "4168ea13-0a51-4f50-b0ae-8cccbd75161b",
   "metadata": {
    "editable": true,
    "slideshow": {
     "slide_type": ""
    },
    "tags": []
   },
   "outputs": [],
   "source": [
    "import esnb\n",
    "from esnb import NotebookDiagnostic, RequestedVariable, CaseGroup2\n",
    "from esnb.sites.gfdl import call_dmget"
   ]
  },
  {
   "cell_type": "code",
   "execution_count": null,
   "id": "aa1a552a-083f-4019-8d41-815bb2611c61",
   "metadata": {
    "editable": true,
    "slideshow": {
     "slide_type": ""
    },
    "tags": []
   },
   "outputs": [],
   "source": [
    "%%time\n",
    "\n",
    "# Define a mode (leave \"prod\" for now)\n",
    "mode = \"prod\"\n",
    "\n",
    "# Verbosity\n",
    "verbose = True\n",
    "\n",
    "# Give your diagnostic a name and a short description\n",
    "diag_name = \"Example Notebook-based Diagnostic\"\n",
    "diag_desc = \"This example demonstrates how to use the notebook template\"\n",
    "\n",
    "# Define what variables you would like to analyze. The first entry is the\n",
    "# variable name and the second entry is the realm (post-processing dir).\n",
    "#   (By default, monthly timeseries data will be loaded. TODO: add documentation\n",
    "#    on how to select different frequencies, multiple realms to search, etc.)\n",
    "variables = [\n",
    "    RequestedVariable(\"zos\", \"ocean_month\"),\n",
    "    RequestedVariable(\"tos\", \"ocean_month\"),\n",
    "    RequestedVariable(\"tas\", \"atmos_cmip\"),\n",
    "]\n",
    "\n",
    "# Optional: define runtime settings or options for your diagnostic\n",
    "user_options = {\"enso_region\": [\"nino34\"]}\n",
    "\n",
    "# Initialize the diagnostic with its name, description, vars, and options\n",
    "diag = NotebookDiagnostic(diag_name, diag_desc, variables=variables, **user_options)\n",
    "\n",
    "# Define the groups of experiments to analyze. Provide a single dora id for one experiment\n",
    "# or a list of IDs to aggregate multiple experiments into one; e.g. historical+future runs\n",
    "groups = [\n",
    "    CaseGroup2(\"cm5-9\", date_range=(\"0041-01-01\", \"0060-12-31\")),\n",
    "    CaseGroup2(\n",
    "        [1188, 1243],\n",
    "        \"time\",\n",
    "        name=\"ESM4 Historical + Future\",\n",
    "        date_range=(\"1993-01-01\", \"2022-12-31\"),\n",
    "    ),\n",
    "]\n",
    "\n",
    "# Combine the experiments with the diag request and determine what files need to be loaded:\n",
    "diag.resolve(groups)"
   ]
  },
  {
   "cell_type": "code",
   "execution_count": null,
   "id": "375fbdd0-422c-4b93-b6e8-644a282d63b7",
   "metadata": {
    "editable": true,
    "slideshow": {
     "slide_type": ""
    },
    "tags": []
   },
   "outputs": [],
   "source": [
    "# Print a list of file paths\n",
    "# This cell and the markdown cell that follows are necessary to run this notebook\n",
    "# Interactively on Dora\n",
    "_ = [print(x) for x in diag.files]"
   ]
  },
  {
   "cell_type": "markdown",
   "id": "37ecd8b9-d851-4b9b-8032-ac8b77deb511",
   "metadata": {
    "editable": true,
    "slideshow": {
     "slide_type": ""
    },
    "tags": [
     "stop_here"
    ]
   },
   "source": [
    "<i>(The files above are necessary to run the diagnostic.)</i>"
   ]
  },
  {
   "cell_type": "code",
   "execution_count": null,
   "id": "337fb74f-f81c-49e4-9014-69c1c33bc220",
   "metadata": {},
   "outputs": [],
   "source": [
    "# Check to see the dmget status before calling \"open\"\n",
    "call_dmget(diag.files,status=True)"
   ]
  },
  {
   "cell_type": "code",
   "execution_count": null,
   "id": "0e173eb4-5c69-40b7-87a6-2c62d1111162",
   "metadata": {
    "editable": true,
    "slideshow": {
     "slide_type": ""
    },
    "tags": []
   },
   "outputs": [],
   "source": [
    "# Load the data as xarray datasets\n",
    "diag.open()"
   ]
  },
  {
   "cell_type": "code",
   "execution_count": null,
   "id": "2ee75978-a366-4490-9d61-83302b6c1f14",
   "metadata": {},
   "outputs": [],
   "source": [
    "diag.variables[0]"
   ]
  },
  {
   "cell_type": "markdown",
   "id": "126f0f2f-40b9-473c-b386-ae83cdebfb81",
   "metadata": {},
   "source": [
    "## Exploring Datasets by Looping Over Variables"
   ]
  },
  {
   "cell_type": "code",
   "execution_count": null,
   "id": "d165113e-f6e2-4eb8-b874-54a885492684",
   "metadata": {},
   "outputs": [],
   "source": [
    "# First loop over variables, and then over groups\n",
    "\n",
    "for variable in diag.variables:\n",
    "    for group in variable.datasets.keys():\n",
    "        ds = variable.datasets[group]\n",
    "        print(\"\\n\")\n",
    "        print(f\"Variable={variable}, Group={group}\")\n",
    "        print(ds)"
   ]
  },
  {
   "cell_type": "markdown",
   "id": "2014a755-2efc-4cd5-a7e3-76cb93d22ca2",
   "metadata": {},
   "source": [
    "## Exploring Datasets by Looping over Groups"
   ]
  },
  {
   "cell_type": "code",
   "execution_count": null,
   "id": "09d1a39d-34e3-4ea3-8c85-4570881b8f32",
   "metadata": {},
   "outputs": [],
   "source": [
    "# First loop over groups, and then over variables\n",
    "\n",
    "for group in diag.groups:\n",
    "    for variable in group.datasets.keys():\n",
    "        ds = group.datasets[variable]\n",
    "        print(\"\\n\")\n",
    "        print(f\"Variable={variable}, Group={group}\")\n",
    "        print(ds)"
   ]
  }
 ],
 "metadata": {
  "kernelspec": {
   "display_name": "Python 3 (ipykernel)",
   "language": "python",
   "name": "python3"
  },
  "language_info": {
   "codemirror_mode": {
    "name": "ipython",
    "version": 3
   },
   "file_extension": ".py",
   "mimetype": "text/x-python",
   "name": "python",
   "nbconvert_exporter": "python",
   "pygments_lexer": "ipython3",
   "version": "3.12.11"
  }
 },
 "nbformat": 4,
 "nbformat_minor": 5
}
