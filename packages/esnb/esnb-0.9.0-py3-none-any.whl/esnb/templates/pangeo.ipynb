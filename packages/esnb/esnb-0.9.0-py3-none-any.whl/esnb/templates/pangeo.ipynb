{
 "cells": [
  {
   "cell_type": "markdown",
   "id": "e4a43ed7-7624-4da9-b213-32f892574a65",
   "metadata": {},
   "source": [
    "# Unified MDTF/GFDL/NCAR Analysis Notebook Template\n",
    "\n",
    "More details on the development process:\n",
    "[MDTF Planning Document](https://docs.google.com/document/d/1P8HqL8O5304qwR3ik9RmgFDwSWwlkPgOjnp39PIkLfY/edit?usp=sharing)"
   ]
  },
  {
   "cell_type": "code",
   "execution_count": null,
   "id": "e67185bc-4731-4c89-b63a-ca8953428f07",
   "metadata": {
    "editable": true,
    "slideshow": {
     "slide_type": ""
    },
    "tags": []
   },
   "outputs": [],
   "source": [
    "# Development mode: constantly refreshes module code\n",
    "%load_ext autoreload\n",
    "%autoreload 2"
   ]
  },
  {
   "cell_type": "markdown",
   "id": "6898886b-b5e1-4de0-939a-f715748be915",
   "metadata": {
    "editable": true,
    "slideshow": {
     "slide_type": ""
    },
    "tags": []
   },
   "source": [
    "## Framework Code and Diagnostic Setup"
   ]
  },
  {
   "cell_type": "code",
   "execution_count": null,
   "id": "80fa6acd-9d69-4a73-8a81-ad100295b546",
   "metadata": {},
   "outputs": [],
   "source": [
    "import os\n",
    "os.environ[\"ESNB_LOG_LEVEL\"] = \"DEBUG\""
   ]
  },
  {
   "cell_type": "code",
   "execution_count": null,
   "id": "4168ea13-0a51-4f50-b0ae-8cccbd75161b",
   "metadata": {
    "editable": true,
    "slideshow": {
     "slide_type": ""
    },
    "tags": []
   },
   "outputs": [],
   "source": [
    "import esnb\n",
    "from esnb import NotebookDiagnostic, RequestedVariable, CaseGroup2\n",
    "\n",
    "import intake\n",
    "import intake_esm"
   ]
  },
  {
   "cell_type": "code",
   "execution_count": null,
   "id": "dbb86b9f-f4fb-4bd0-a95d-10677dad464a",
   "metadata": {},
   "outputs": [],
   "source": [
    "# Define a mode (leave \"prod\" for now)\n",
    "mode = \"prod\"\n",
    "\n",
    "# Verbosity\n",
    "verbose = True\n",
    "\n",
    "# Give your diagnostic a name and a short description\n",
    "diag_name = \"Example Pangeo Notebook\"\n",
    "diag_desc = \"Demonstration of loading Pangeo datasets\"\n",
    "\n",
    "# Define what variables you would like to analyze. The first entry is the\n",
    "# variable name and the second entry is the realm (post-processing dir).\n",
    "#   (By default, monthly timeseries data will be loaded. TODO: add documentation\n",
    "#    on how to select different frequencies, multiple realms to search, etc.)\n",
    "variables = [\n",
    "    RequestedVariable(\"tas\", \"Amon\"),\n",
    "    RequestedVariable(\"prw\", \"Amon\"),\n",
    "]\n",
    "\n",
    "# Optional: define runtime settings or options for your diagnostic\n",
    "user_options = {\"regrid_to_common\": True}\n",
    "\n",
    "# Initialize the diagnostic with its name, description, vars, and options\n",
    "diag = NotebookDiagnostic(diag_name, diag_desc, variables=variables, **user_options)"
   ]
  },
  {
   "cell_type": "code",
   "execution_count": null,
   "id": "38d1d2ac-7cf5-405e-b100-7d399a67e6ed",
   "metadata": {},
   "outputs": [],
   "source": [
    "# Manually search the pangeo catalog for each case\n",
    "pangeo_catalog = intake.open_esm_datastore(esnb.datasources.cmip6_pangeo)\n",
    "\n",
    "mpi = pangeo_catalog.search(\n",
    "    experiment_id=\"historical\", \n",
    "    table_id=\"Amon\", \n",
    "    source_id=\"MPI-ESM1-2-LR\", \n",
    "    member_id=\"r1i1p1f1\"\n",
    ")\n",
    "\n",
    "canesm5 = pangeo_catalog.search(\n",
    "    experiment_id=\"historical\", \n",
    "    table_id=\"Amon\", \n",
    "    source_id=\"CanESM5\", \n",
    "    member_id=\"r1i1p1f1\",\n",
    ")"
   ]
  },
  {
   "cell_type": "code",
   "execution_count": null,
   "id": "b29bd5b0-ce42-491e-a460-cec797646d46",
   "metadata": {},
   "outputs": [],
   "source": [
    "# Convert the panego-style catalogs to GFDL Catalog Builder format\n",
    "mpi = esnb.core.util_catalog.convert_pangeo_catalog_to_catalogbuilder(mpi)\n",
    "canesm5 = esnb.core.util_catalog.convert_pangeo_catalog_to_catalogbuilder(canesm5)"
   ]
  },
  {
   "cell_type": "code",
   "execution_count": null,
   "id": "8312296d-c0de-4bc9-a480-154d4382f815",
   "metadata": {},
   "outputs": [],
   "source": [
    "groups = [\n",
    "    CaseGroup2(mpi, date_range=(\"1981-01-01\", \"2010-12-31\"), name=\"MPI-ESM1-2-LR\"),\n",
    "    CaseGroup2(canesm5, date_range=(\"1981-01-01\", \"2010-12-31\"), name=\"CanESM5\")\n",
    "]"
   ]
  },
  {
   "cell_type": "code",
   "execution_count": null,
   "id": "11387e05-4fb6-4485-a6db-2a4861e7b631",
   "metadata": {},
   "outputs": [],
   "source": [
    "# Combine the experiments with the diag request and determine what files need to be loaded:\n",
    "diag.resolve(groups)"
   ]
  },
  {
   "cell_type": "code",
   "execution_count": null,
   "id": "375fbdd0-422c-4b93-b6e8-644a282d63b7",
   "metadata": {
    "editable": true,
    "slideshow": {
     "slide_type": ""
    },
    "tags": []
   },
   "outputs": [],
   "source": [
    "# Print a list of file paths\n",
    "# This cell and the markdown cell that follows are necessary to run this notebook\n",
    "# Interactively on Dora\n",
    "_ = [print(x) for x in diag.files]"
   ]
  },
  {
   "cell_type": "markdown",
   "id": "37ecd8b9-d851-4b9b-8032-ac8b77deb511",
   "metadata": {
    "editable": true,
    "slideshow": {
     "slide_type": ""
    },
    "tags": [
     "stop_here"
    ]
   },
   "source": [
    "<i>(The files above are necessary to run the diagnostic.)</i>"
   ]
  },
  {
   "cell_type": "code",
   "execution_count": null,
   "id": "0e173eb4-5c69-40b7-87a6-2c62d1111162",
   "metadata": {
    "editable": true,
    "slideshow": {
     "slide_type": ""
    },
    "tags": []
   },
   "outputs": [],
   "source": [
    "# Load the data as xarray datasets\n",
    "diag.open()"
   ]
  },
  {
   "cell_type": "markdown",
   "id": "126f0f2f-40b9-473c-b386-ae83cdebfb81",
   "metadata": {},
   "source": [
    "## Exploring Datasets by Looping Over Variables"
   ]
  },
  {
   "cell_type": "code",
   "execution_count": null,
   "id": "d165113e-f6e2-4eb8-b874-54a885492684",
   "metadata": {},
   "outputs": [],
   "source": [
    "# First loop over variables, and then over groups\n",
    "\n",
    "for variable in diag.variables:\n",
    "    for group in variable.datasets.keys():\n",
    "        ds = variable.datasets[group]\n",
    "        print(\"\\n\")\n",
    "        print(f\"Variable={variable}, Group={group}\")\n",
    "        print(ds)"
   ]
  },
  {
   "cell_type": "markdown",
   "id": "2014a755-2efc-4cd5-a7e3-76cb93d22ca2",
   "metadata": {},
   "source": [
    "## Exploring Datasets by Looping over Groups"
   ]
  },
  {
   "cell_type": "code",
   "execution_count": null,
   "id": "09d1a39d-34e3-4ea3-8c85-4570881b8f32",
   "metadata": {},
   "outputs": [],
   "source": [
    "# First loop over groups, and then over variables\n",
    "\n",
    "for group in diag.groups:\n",
    "    for variable in group.datasets.keys():\n",
    "        ds = group.datasets[variable]\n",
    "        print(\"\\n\")\n",
    "        print(f\"Variable={variable}, Group={group}\")\n",
    "        print(ds)"
   ]
  }
 ],
 "metadata": {
  "kernelspec": {
   "display_name": "Python 3 (ipykernel)",
   "language": "python",
   "name": "python3"
  },
  "language_info": {
   "codemirror_mode": {
    "name": "ipython",
    "version": 3
   },
   "file_extension": ".py",
   "mimetype": "text/x-python",
   "name": "python",
   "nbconvert_exporter": "python",
   "pygments_lexer": "ipython3",
   "version": "3.12.10"
  }
 },
 "nbformat": 4,
 "nbformat_minor": 5
}
