{
 "cells": [
  {
   "cell_type": "markdown",
   "id": "e4a43ed7-7624-4da9-b213-32f892574a65",
   "metadata": {},
   "source": [
    "# Meridional Overturning Circulation Notebook (rho-space)\n",
    "\n",
    "This notebook plots the global MOC in isopycnal (rho2) space.\n",
    "\n",
    "Authors: Jan-Erik Tesdal and John Krasting"
   ]
  },
  {
   "cell_type": "markdown",
   "id": "6898886b-b5e1-4de0-939a-f715748be915",
   "metadata": {
    "editable": true,
    "slideshow": {
     "slide_type": ""
    },
    "tags": []
   },
   "source": [
    "## Framework Code and Diagnostic Setup"
   ]
  },
  {
   "cell_type": "code",
   "execution_count": null,
   "id": "4168ea13-0a51-4f50-b0ae-8cccbd75161b",
   "metadata": {
    "editable": true,
    "slideshow": {
     "slide_type": ""
    },
    "tags": []
   },
   "outputs": [],
   "source": [
    "import esnb\n",
    "from esnb import CaseGroup2, NotebookDiagnostic, RequestedVariable, nbtools\n",
    "from esnb.sites.gfdl import call_dmget"
   ]
  },
  {
   "cell_type": "code",
   "execution_count": null,
   "id": "a418bf87-ce1d-4161-933d-ce33023853ec",
   "metadata": {},
   "outputs": [],
   "source": [
    "# Define a mode (leave \"prod\" for now)\n",
    "mode = \"prod\"\n",
    "\n",
    "# Verbosity\n",
    "verbose = True\n",
    "\n",
    "# Give your diagnostic a name and a short description\n",
    "diag_name = \"MOC rho-space\"\n",
    "diag_desc = \"Meridional Overturning Circulation in rho-space\"\n",
    "\n",
    "# Define what variables you would like to analyze. The first entry is the\n",
    "# variable name and the second entry is the realm (post-processing dir).\n",
    "#   (By default, monthly timeseries data will be loaded. TODO: add documentation\n",
    "#    on how to select different frequencies, multiple realms to search, etc.)\n",
    "variables = [\n",
    "    RequestedVariable(\"vmo\", \"ocean_annual_rho2\", frequency=\"yearly\"),\n",
    "]\n",
    "\n",
    "# Optional: define runtime settings or options for your diagnostic\n",
    "user_options = {\"regions\": [\"global\"]}\n",
    "\n",
    "# Initialize the diagnostic with its name, description, vars, and options\n",
    "diag = NotebookDiagnostic(diag_name, diag_desc, variables=variables, **user_options)"
   ]
  },
  {
   "cell_type": "code",
   "execution_count": null,
   "id": "c5ec6425-305d-45b2-9a2e-76be3a8cb129",
   "metadata": {},
   "outputs": [],
   "source": [
    "# Define the groups of experiments to analyze. Provide a single dora id for one experiment\n",
    "# or a list of IDs to aggregate multiple experiments into one; e.g. historical+future runs\n",
    "groups = [\n",
    "    CaseGroup2(\"odiv-516\", date_range=(\"1993-01-01\", \"2017-12-31\"), name=\"OM5 B11 NB\"),\n",
    "    CaseGroup2(\n",
    "        \"odiv-290\", date_range=(\"1993-01-01\", \"2017-12-31\"), name=\"OM5 B01 (OM4-like)\"\n",
    "    ),\n",
    "    CaseGroup2(\n",
    "        \"odiv-554\", date_range=(\"0041-01-01\", \"0060-12-31\"), name=\"CM4.0 + OM5 B11\"\n",
    "    ),\n",
    "    CaseGroup2(\"odiv-558\", date_range=(\"0041-01-01\", \"0060-12-31\"), name=\"CM4.0\"),\n",
    "]"
   ]
  },
  {
   "cell_type": "code",
   "execution_count": null,
   "id": "aa1a552a-083f-4019-8d41-815bb2611c61",
   "metadata": {
    "editable": true,
    "slideshow": {
     "slide_type": ""
    },
    "tags": []
   },
   "outputs": [],
   "source": [
    "# Combine the experiments with the diag request and determine what files need to be loaded:\n",
    "diag.resolve(groups)"
   ]
  },
  {
   "cell_type": "code",
   "execution_count": null,
   "id": "375fbdd0-422c-4b93-b6e8-644a282d63b7",
   "metadata": {
    "editable": true,
    "slideshow": {
     "slide_type": ""
    },
    "tags": []
   },
   "outputs": [],
   "source": [
    "# Print a list of file paths\n",
    "# This cell and the markdown cell that follows are necessary to run this notebook\n",
    "# Interactively on Dora\n",
    "_ = [print(x) for x in diag.files]"
   ]
  },
  {
   "cell_type": "markdown",
   "id": "37ecd8b9-d851-4b9b-8032-ac8b77deb511",
   "metadata": {
    "editable": true,
    "slideshow": {
     "slide_type": ""
    },
    "tags": [
     "stop_here"
    ]
   },
   "source": [
    "<i>(The files above are necessary to run the diagnostic.)</i>"
   ]
  },
  {
   "cell_type": "code",
   "execution_count": null,
   "id": "337fb74f-f81c-49e4-9014-69c1c33bc220",
   "metadata": {},
   "outputs": [],
   "source": [
    "# Check to see the dmget status before calling \"open\"\n",
    "call_dmget(diag.files,status=True)\n",
    "call_dmget(diag.files)"
   ]
  },
  {
   "cell_type": "code",
   "execution_count": null,
   "id": "0e173eb4-5c69-40b7-87a6-2c62d1111162",
   "metadata": {
    "editable": true,
    "slideshow": {
     "slide_type": ""
    },
    "tags": []
   },
   "outputs": [],
   "source": [
    "# Load the data as xarray datasets\n",
    "diag.open()"
   ]
  },
  {
   "cell_type": "markdown",
   "id": "2014a755-2efc-4cd5-a7e3-76cb93d22ca2",
   "metadata": {},
   "source": [
    "## Main Diagnostic"
   ]
  },
  {
   "cell_type": "code",
   "execution_count": null,
   "id": "980c3699-e785-46bc-82e4-4a7a3308ed58",
   "metadata": {},
   "outputs": [],
   "source": [
    "import cmip_basins\n",
    "import matplotlib.pyplot as plt\n",
    "import momgrid as mg\n",
    "import numpy as np\n",
    "import xarray as xr"
   ]
  },
  {
   "cell_type": "code",
   "execution_count": null,
   "id": "562f348f-fc48-495e-9fc8-8dc5dc99e8e9",
   "metadata": {},
   "outputs": [],
   "source": [
    "# Capture interfaces to use later\n",
    "interfaces = [xr.DataArray(x[\"rho2_i\"]) for x in diag.datasets]"
   ]
  },
  {
   "cell_type": "code",
   "execution_count": null,
   "id": "f24d6003-cec9-40d2-9b4d-6a5b9ae40f3f",
   "metadata": {},
   "outputs": [],
   "source": [
    "esnb.sites.gfdl.convert_to_momgrid(diag)"
   ]
  },
  {
   "cell_type": "code",
   "execution_count": null,
   "id": "fb4383ab-25bc-49c8-90c7-20ae6dee1341",
   "metadata": {},
   "outputs": [],
   "source": [
    "def calc_moc_rho(\n",
    "    ds,\n",
    "    varname,\n",
    "    interfaces,\n",
    "    mask=1.0,\n",
    "    xdim=\"xh\",\n",
    "    tdim=\"time\",\n",
    "    ydim=\"yq\",\n",
    "    zdim=\"rho2_l\",\n",
    "    rho0=1035.0,\n",
    "):\n",
    "    arr = ds[varname]\n",
    "    arr = arr.where(arr < 1.0e14)\n",
    "    arr = arr.mean(tdim) * mask\n",
    "    integ_layers = (arr.sum(xdim).cumsum(zdim) - arr.sum(xdim).sum(zdim)) / rho0 / 1.0e6\n",
    "    bottom_condition = xr.zeros_like(integ_layers.isel({zdim: 0}))\n",
    "    psi_raw = xr.concat([bottom_condition, integ_layers], dim=zdim)\n",
    "    psi = psi_raw.rename({zdim: interfaces.name}).transpose(interfaces.name, ydim)\n",
    "    psi[interfaces.name] = interfaces  # psi.name = \"psi\"\n",
    "\n",
    "    y = (ds.geolat_v * mask).mean(xdim)\n",
    "    y = xr.DataArray(y.values, dims=(\"y\"), coords={\"y\": y.values})\n",
    "\n",
    "    return (psi, y)"
   ]
  },
  {
   "cell_type": "code",
   "execution_count": null,
   "id": "5b33c6a2-83fe-4d1a-b829-25f9be7f4359",
   "metadata": {},
   "outputs": [],
   "source": [
    "moc_rho_data = {}\n",
    "varname = \"vmo\"\n",
    "varobj = diag.varmap[varname]\n",
    "xdim = \"xh\"\n",
    "ydim = \"yq\"\n",
    "zdim = \"rho2_l\"\n",
    "tdim = \"time\"\n",
    "\n",
    "moc_rho_data = {}\n",
    "\n",
    "for region in diag.settings[\"diag_vars\"][\"regions\"]:\n",
    "    moc_rho_data[region] = {}\n",
    "    for n, group in enumerate(diag.groups):\n",
    "        print(f\"Calculating {region} moc rho for {group.name}\")\n",
    "        ds = group.datasets[varobj]\n",
    "        mask = 1.0\n",
    "        psi, y = calc_moc_rho(ds, varname, interfaces[n], mask=mask)\n",
    "        psi = psi.load()\n",
    "        moc_rho_data[region][group] = (psi, y)"
   ]
  },
  {
   "cell_type": "code",
   "execution_count": null,
   "id": "cd49ff07-1dd3-4e7d-b404-059d26eb8182",
   "metadata": {},
   "outputs": [],
   "source": [
    "all_figs = []\n",
    "\n",
    "esnb.nbtools.setup_plots()\n",
    "\n",
    "for region in diag.settings[\"diag_vars\"][\"regions\"]:\n",
    "    nexps = len(diag.groups)\n",
    "    figsize, subplot = esnb.nbtools.get_figsize_subplots(nexps)\n",
    "    fig = plt.figure(figsize=figsize, dpi=200)\n",
    "\n",
    "    axes = []\n",
    "\n",
    "    for n, group in enumerate(diag.groups):\n",
    "        ax = plt.subplot(*subplot, n + 1)\n",
    "        stats = {}\n",
    "\n",
    "        psi, y = moc_rho_data[region][group]\n",
    "        levels = np.arange(-40, 42, 2)\n",
    "\n",
    "        cb = ax.contourf(y, psi.rho2_i, psi, levels=levels, cmap=\"RdBu_r\")\n",
    "        cs = ax.contour(y, psi.rho2_i, psi, levels=levels, colors=\"k\", linewidths=0.3)\n",
    "\n",
    "        r = psi.rho2_i\n",
    "        Y, R = np.meshgrid(y, r)\n",
    "        mask = (Y >= -75) & (Y <= -50) & (R >= 1036.8) & (R <= 1037.4)\n",
    "        _psi = psi.values\n",
    "        min_psi = np.min(_psi[mask])\n",
    "        min_index = np.unravel_index(np.argmin(_psi[mask]), _psi[mask].shape)\n",
    "        min_y = Y[mask][min_index]\n",
    "        min_r = R[mask][min_index]\n",
    "\n",
    "        stats = {\n",
    "            \"min_psi\": round(float(min_psi), 2),\n",
    "            \"min_lat\": round(float(min_y), 2),\n",
    "            \"min_rho\": round(float(min_r), 2),\n",
    "        }\n",
    "\n",
    "        square_size = 10\n",
    "        ax.plot(\n",
    "            min_y,\n",
    "            min_r,\n",
    "            marker=\"s\",\n",
    "            color=\"magenta\",\n",
    "            markersize=square_size + 5,\n",
    "            markeredgewidth=2,\n",
    "            markeredgecolor=\"magenta\",\n",
    "            markerfacecolor=\"none\",\n",
    "        )\n",
    "        ax.annotate(\n",
    "            f\"{min_psi:.1f} Sv\",\n",
    "            xy=(min_y, min_r),\n",
    "            xytext=(10, 10),\n",
    "            textcoords=\"offset points\",\n",
    "            arrowprops=dict(arrowstyle=\"->\", color=\"black\"),\n",
    "            bbox=dict(\n",
    "                facecolor=\"white\",\n",
    "                edgecolor=\"black\",\n",
    "                boxstyle=\"round,pad=0.2\",\n",
    "                linewidth=0.5,\n",
    "                alpha=0.7,\n",
    "            ),\n",
    "        )\n",
    "\n",
    "        ax.set_yscale(\"splitscale\", zval=[1037.25, 1036.5, 1028.8])\n",
    "        ax.set_title(group.name)\n",
    "        axes.append(ax)\n",
    "\n",
    "        if len(stats) > 0:\n",
    "            for k, v in stats.items():\n",
    "                group.add_metric(region, (k, float(v)))\n",
    "\n",
    "        if region == \"global\":\n",
    "            for ax in axes:\n",
    "                ax.set_xlim(-78, None)\n",
    "\n",
    "    plt.subplots_adjust(wspace=0.3)\n",
    "\n",
    "    cbar = esnb.nbtools.bottom_colorbar(\n",
    "        fig, cb, orientation=\"horizontal\", extend=\"both\"\n",
    "    )\n",
    "    cbar.set_label(f\"{str(region).capitalize()} Meridional Streamfunction [Sv]\")\n",
    "\n",
    "    # add letter labels for each panel\n",
    "    esnb.nbtools.panel_letters(axes, -0.12, 1.05)"
   ]
  },
  {
   "cell_type": "code",
   "execution_count": null,
   "id": "6b639275-e96d-43af-a999-5eb799aca5a8",
   "metadata": {},
   "outputs": [],
   "source": []
  },
  {
   "cell_type": "code",
   "execution_count": null,
   "id": "491784a2-d3d0-4252-9a51-5d346890c006",
   "metadata": {},
   "outputs": [],
   "source": [
    "all_figs = []\n",
    "\n",
    "esnb.nbtools.setup_plots()\n",
    "\n",
    "for region in diag.settings[\"diag_vars\"][\"regions\"]:\n",
    "    nexps = len(diag.groups)\n",
    "    figsize, subplot = esnb.nbtools.get_figsize_subplots(nexps)\n",
    "    figsize = (5.41 * 1.25, 3.35 * 0.75 * 2)\n",
    "    fig = plt.figure(figsize=figsize, dpi=200)\n",
    "\n",
    "    axes = []\n",
    "    for n, group in enumerate(diag.groups):\n",
    "        ax = plt.subplot(*subplot, n + 1)\n",
    "        stats, cb = plot_panel(ax, *moc_z_data[region][group])\n",
    "        ax.set_title(group.name)\n",
    "        axes.append(ax)\n",
    "\n",
    "        if len(stats) > 0:\n",
    "            for k, v in stats.items():\n",
    "                group.add_metric(region, (k, float(v)))\n",
    "\n",
    "    if region == \"global\":\n",
    "        for ax in axes:\n",
    "            ax.set_xlim(-78, None)\n",
    "\n",
    "    plt.subplots_adjust(wspace=0.3)\n",
    "\n",
    "    cbar = esnb.nbtools.bottom_colorbar(\n",
    "        fig, cb, orientation=\"horizontal\", extend=\"both\"\n",
    "    )\n",
    "    cbar.set_label(f\"{str(region).capitalize()} Meridional Streamfunction [Sv]\")\n",
    "\n",
    "    # add letter labels for each panel\n",
    "    esnb.nbtools.panel_letters(axes, -0.12, 1.05)"
   ]
  },
  {
   "cell_type": "code",
   "execution_count": null,
   "id": "14a1cf16-e012-49ae-adc5-6e3dc5eb4db2",
   "metadata": {},
   "outputs": [],
   "source": [
    "diag.write_metrics(\"MOC_rho_metrics.json\")"
   ]
  },
  {
   "cell_type": "code",
   "execution_count": null,
   "id": "2ad6c4d9-777b-4748-902c-cfb236c1162b",
   "metadata": {},
   "outputs": [],
   "source": []
  }
 ],
 "metadata": {
  "kernelspec": {
   "display_name": "Python 3 (ipykernel)",
   "language": "python",
   "name": "python3"
  },
  "language_info": {
   "codemirror_mode": {
    "name": "ipython",
    "version": 3
   },
   "file_extension": ".py",
   "mimetype": "text/x-python",
   "name": "python",
   "nbconvert_exporter": "python",
   "pygments_lexer": "ipython3",
   "version": "3.12.11"
  }
 },
 "nbformat": 4,
 "nbformat_minor": 5
}
