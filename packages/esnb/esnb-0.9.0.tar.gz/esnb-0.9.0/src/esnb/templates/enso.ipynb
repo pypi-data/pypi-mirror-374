{
 "cells": [
  {
   "cell_type": "markdown",
   "id": "e4a43ed7-7624-4da9-b213-32f892574a65",
   "metadata": {},
   "source": [
    "# ENSO Monitoring Notebook\n",
    "\n",
    "J. Krasting -- NOAA/GFDL"
   ]
  },
  {
   "cell_type": "code",
   "execution_count": null,
   "id": "e67185bc-4731-4c89-b63a-ca8953428f07",
   "metadata": {},
   "outputs": [],
   "source": [
    "# Development mode: constantly refreshes module code\n",
    "%load_ext autoreload\n",
    "%autoreload 2"
   ]
  },
  {
   "cell_type": "markdown",
   "id": "6898886b-b5e1-4de0-939a-f715748be915",
   "metadata": {},
   "source": [
    "## Framework Code and Diagnostic Setup"
   ]
  },
  {
   "cell_type": "code",
   "execution_count": null,
   "id": "4168ea13-0a51-4f50-b0ae-8cccbd75161b",
   "metadata": {
    "editable": true,
    "slideshow": {
     "slide_type": ""
    },
    "tags": []
   },
   "outputs": [],
   "source": [
    "import esnb\n",
    "from esnb import NotebookDiagnostic, RequestedVariable, CaseGroup2\n",
    "from esnb.sites.gfdl import call_dmget"
   ]
  },
  {
   "cell_type": "code",
   "execution_count": null,
   "id": "aa1a552a-083f-4019-8d41-815bb2611c61",
   "metadata": {
    "editable": true,
    "slideshow": {
     "slide_type": ""
    },
    "tags": []
   },
   "outputs": [],
   "source": [
    "%%time\n",
    "\n",
    "# Define a mode (leave \"prod\" for now)\n",
    "mode = \"prod\"\n",
    "\n",
    "# Verbosity\n",
    "verbose = True\n",
    "\n",
    "# Give your diagnostic a name and a short description\n",
    "diag_name = \"ENSO Monitoring\"\n",
    "diag_desc = \"Basic diagnostics of ENSO / tropical SST variability\"\n",
    "\n",
    "# Define what variables you would like to analyze. The first entry is the\n",
    "# variable name and the second entry is the realm (post-processing dir).\n",
    "#   (By default, monthly timeseries data will be loaded. TODO: add documentation\n",
    "#    on how to select different frequencies, multiple realms to search, etc.)\n",
    "variables = [\n",
    "    RequestedVariable(\"tos\", \"ocean_month\"),\n",
    "]\n",
    "\n",
    "# Optional: define runtime settings or options for your diagnostic\n",
    "user_options = {\"enso_region\": [\"nino12\", \"nino3\", \"nino34\", \"nino4\"]}\n",
    "\n",
    "# Initialize the diagnostic with its name, description, vars, and options\n",
    "diag = NotebookDiagnostic(diag_name, diag_desc, variables=variables, **user_options)\n",
    "\n",
    "# Define the groups of experiments to analyze. Provide a single dora id for one experiment\n",
    "# or a list of IDs to aggregate multiple experiments into one; e.g. historical+future runs\n",
    "groups = [\n",
    "    CaseGroup2(\"cm5-9\", date_range=(\"0041-01-01\", \"0060-12-31\")),\n",
    "    CaseGroup2(\"odiv-1\", date_range=(\"0041-01-01\", \"0060-12-31\")),\n",
    "    CaseGroup2(\n",
    "        [1188, 1243],\n",
    "        \"time\",\n",
    "        name=\"ESM4 Historical + Future\",\n",
    "        date_range=(\"1993-01-01\", \"2022-12-31\"),\n",
    "    ),\n",
    "]\n",
    "\n",
    "# Combine the experiments with the diag request and determine what files need to be loaded:\n",
    "diag.resolve(groups)"
   ]
  },
  {
   "cell_type": "code",
   "execution_count": null,
   "id": "375fbdd0-422c-4b93-b6e8-644a282d63b7",
   "metadata": {
    "editable": true,
    "slideshow": {
     "slide_type": ""
    },
    "tags": []
   },
   "outputs": [],
   "source": [
    "# Print a list of file paths\n",
    "# This cell and the markdown cell that follows are necessary to run this notebook\n",
    "# Interactively on Dora\n",
    "_ = [print(x) for x in diag.files]"
   ]
  },
  {
   "cell_type": "markdown",
   "id": "8ffcf26b-4030-404e-b924-da22c05b05fd",
   "metadata": {
    "editable": true,
    "slideshow": {
     "slide_type": ""
    },
    "tags": [
     "stop_here"
    ]
   },
   "source": [
    "<i>(The files above are necessary to run the diagnostic.)</i>"
   ]
  },
  {
   "cell_type": "code",
   "execution_count": null,
   "id": "36f3dd75-be00-43bf-a8f4-30f732a2c496",
   "metadata": {},
   "outputs": [],
   "source": [
    "# Check to see the dmget status before calling \"open\"\n",
    "call_dmget(diag.files,status=True)"
   ]
  },
  {
   "cell_type": "code",
   "execution_count": null,
   "id": "64ca6e9c-130a-40fd-95c0-a412891749a5",
   "metadata": {
    "editable": true,
    "slideshow": {
     "slide_type": ""
    },
    "tags": []
   },
   "outputs": [],
   "source": [
    "# Load the data as xarray datasets\n",
    "diag.open()"
   ]
  },
  {
   "cell_type": "markdown",
   "id": "b621a130-a8ec-4f9f-9b1c-e462180fc22b",
   "metadata": {},
   "source": [
    "## Begin the User Diagnostic Code"
   ]
  },
  {
   "cell_type": "markdown",
   "id": "644824d1-2dcf-4369-b468-e2830b563ab0",
   "metadata": {},
   "source": [
    "#### Load Modules"
   ]
  },
  {
   "cell_type": "code",
   "execution_count": null,
   "id": "aafa7a0a-61ed-4106-a5c7-a352529f65c6",
   "metadata": {},
   "outputs": [],
   "source": [
    "import os\n",
    "\n",
    "import cftime\n",
    "import matplotlib.pyplot as plt\n",
    "import numpy as np\n",
    "import xarray as xr"
   ]
  },
  {
   "cell_type": "code",
   "execution_count": null,
   "id": "957dba00-3c28-4e9d-a0a8-3626729d7427",
   "metadata": {},
   "outputs": [],
   "source": [
    "# Ocean trick - call momgrid on ocean model data to get the static info\n",
    "\n",
    "import momgrid as mg\n",
    "from momgrid.geoslice import geoslice\n",
    "\n",
    "os.environ[\"MOMGRID_WEIGHTS_DIR\"] = \"/nbhome/jpk/grid_weights\"\n",
    "\n",
    "for ds in diag._datasets:\n",
    "    ds.replace(mg.Gridset(ds.dataset).data)"
   ]
  },
  {
   "cell_type": "markdown",
   "id": "e4be64f7-54b1-42bb-8da6-ab2577a52966",
   "metadata": {},
   "source": [
    "#### Custom functions"
   ]
  },
  {
   "cell_type": "code",
   "execution_count": null,
   "id": "dde1f708-ef4e-4c14-a47a-ef17c284c944",
   "metadata": {},
   "outputs": [],
   "source": [
    "def is_overlap_time(x, y, tdim=\"time\"):\n",
    "    start_x, end_x = (x[tdim].values[0], x[tdim].values[-1])\n",
    "    start_y, end_y = (y[tdim].values[0], y[tdim].values[-1])\n",
    "    return (end_x > start_y) | (end_y < start_x)"
   ]
  },
  {
   "cell_type": "markdown",
   "id": "f25eba56-c14d-4264-b000-3b99bd16c70a",
   "metadata": {},
   "source": [
    "### Part 1: Timeseries plots\n",
    "\n",
    "In this section, we will make timeseries plots of monthly SST in each of the ENSO regions."
   ]
  },
  {
   "cell_type": "code",
   "execution_count": null,
   "id": "ae675e94-6d92-446e-9552-0333180f9c72",
   "metadata": {},
   "outputs": [],
   "source": [
    "# abstract out the dimension names here\n",
    "xdim = \"xh\"\n",
    "ydim = \"yh\"\n",
    "tvar = \"tos\"\n",
    "areavar = \"areacello\""
   ]
  },
  {
   "cell_type": "code",
   "execution_count": null,
   "id": "e6583696-7f2f-40e0-b7f2-92df88e2a5cf",
   "metadata": {},
   "outputs": [],
   "source": [
    "# get the custom variable from the diagnostic settings\n",
    "enso_region = diag.diag_vars.get(\"enso_region\", None)"
   ]
  },
  {
   "cell_type": "code",
   "execution_count": null,
   "id": "c9393629-91f8-4c10-b912-b1060a2bb907",
   "metadata": {},
   "outputs": [],
   "source": [
    "# setup a local dictionary to average SST for\n",
    "variable = diag.variables[0]   # first RequestedVariable object\n",
    "varname = variable.varname  # varname resolves to \"tos\"\n",
    "my_data_dict = {}\n",
    "\n",
    "for group in diag.groups:\n",
    "    ds = group.datasets[variable]\n",
    "    tos_by_region = {}\n",
    "    enso_region = [] if enso_region is None else enso_region\n",
    "    for region in enso_region:\n",
    "        if region == \"nino12\":\n",
    "            tos = geoslice(ds[varname], x=(-90, -80), y=(-10, 0))\n",
    "            area = geoslice(ds[areavar], x=(-90, -80), y=(-10, 0))\n",
    "        elif region == \"nino3\":\n",
    "            tos = geoslice(ds[varname], x=(-150, -90), y=(-5, 5))\n",
    "            area = geoslice(ds[areavar], x=(-150, -90), y=(-5, 5))\n",
    "        elif region == \"nino34\":\n",
    "            tos = geoslice(ds[varname], x=(-170, -120), y=(-5, 5))\n",
    "            area = geoslice(ds[areavar], x=(-170, -120), y=(-5, 5))\n",
    "        elif region == \"nino4\":\n",
    "            tos = geoslice(ds[varname], x=(-190, -150), y=(-5, 5))\n",
    "            area = geoslice(ds[areavar], x=(-190, -150), y=(-5, 5))\n",
    "        else:\n",
    "            print(f\"Unknown region: {region}\")\n",
    "        tos = tos.weighted(area).mean((xdim, ydim))\n",
    "        tos_by_region[region] = tos.load()\n",
    "    my_data_dict[group.name] = tos_by_region"
   ]
  },
  {
   "cell_type": "code",
   "execution_count": null,
   "id": "00b24f0c-ec58-4528-93fc-515eac504d5b",
   "metadata": {},
   "outputs": [],
   "source": [
    "for region in enso_region:\n",
    "    fig = plt.figure(figsize=(6, 3), dpi=150)\n",
    "    ax = plt.subplot(1, 1, 1)\n",
    "\n",
    "    # dict to save plotted arrays\n",
    "    plotted = {}\n",
    "\n",
    "    varname = \"tos\"\n",
    "    for n, group in enumerate(groups):\n",
    "        da = my_data_dict[group.name][region]\n",
    "\n",
    "        if n == 0:\n",
    "            ax.plot(da.time, da, color=f\"C{n}\", label=group.name)\n",
    "            plotted[ax] = da\n",
    "        else:\n",
    "            for ax, v in list(plotted.items()):\n",
    "                if is_overlap_time(v, da):\n",
    "                    ax.plot(da.time, da, color=f\"C{n}\", label=group.name)\n",
    "                else:\n",
    "                    _ax = ax.twiny()\n",
    "                    _ax.plot(da.time, da, color=f\"C{n}\", label=group.name)\n",
    "                    plotted[_ax] = da\n",
    "\n",
    "                    # Adjust the position of the second x-axis to be below the main plot\n",
    "                    _ax.spines[\"bottom\"].set_position((\"outward\", 25))\n",
    "                    _ax.xaxis.set_ticks_position(\"bottom\")\n",
    "                    _ax.xaxis.set_label_position(\"bottom\")\n",
    "                    _ax.spines[\"bottom\"].set_visible(True)\n",
    "                    _ax.spines[\"top\"].set_visible(False)\n",
    "\n",
    "                # save scalar metrics\n",
    "                group.add_metric(f\"{region}_timeseries\", (\"mean\", float(da.mean())))\n",
    "                group.add_metric(f\"{region}_timeseries\", (\"stddev\", float(da.std())))\n",
    "\n",
    "    for ax in plotted.keys():\n",
    "        ax.grid(True)\n",
    "        #ax.legend()\n",
    "\n",
    "    ax.text(0, 1.02, f\"Monthly SST Nino Region: {region}\", transform=ax.transAxes)"
   ]
  },
  {
   "cell_type": "code",
   "execution_count": null,
   "id": "452e8b8c-e7c2-4b40-af1f-f1c84ed278aa",
   "metadata": {},
   "outputs": [],
   "source": [
    "diag.metrics"
   ]
  },
  {
   "cell_type": "markdown",
   "id": "d8cb083f-17be-4b48-88b0-0c5d2b948a4b",
   "metadata": {},
   "source": [
    "### Part 2: Maps "
   ]
  },
  {
   "cell_type": "code",
   "execution_count": null,
   "id": "a63e5ecb-5c85-4380-a239-2f2c7d653f05",
   "metadata": {},
   "outputs": [],
   "source": [
    "import cartopy.crs as ccrs\n",
    "\n",
    "# import momlevel.utils for calendar tools\n",
    "from momlevel import util"
   ]
  },
  {
   "cell_type": "code",
   "execution_count": null,
   "id": "0e0cc192-351a-47c7-8ea8-e3d83e93edf8",
   "metadata": {},
   "outputs": [],
   "source": [
    "import cartopy.crs as ccrs\n",
    "import matplotlib.patches as mpatches\n",
    "\n",
    "\n",
    "def add_nino_boxes(ax):\n",
    "    nino_regions = {\n",
    "        \"Nino 1+2\": {\"lon\": (-90, -80), \"lat\": (-10, 0)},\n",
    "        \"Nino 3\": {\"lon\": (-150, -90), \"lat\": (-5, 5)},\n",
    "        \"Nino 3.4\": {\"lon\": (-170, -120), \"lat\": (-5, 5)},\n",
    "        \"Nino 4\": {\"lon\": (-160, -150), \"lat\": (-5, 5)},\n",
    "    }\n",
    "\n",
    "    # Loop through Niño regions and add boxes\n",
    "    for name, bounds in nino_regions.items():\n",
    "        lon_min, lon_max = bounds[\"lon\"]\n",
    "        lat_min, lat_max = bounds[\"lat\"]\n",
    "        width = lon_max - lon_min\n",
    "        height = lat_max - lat_min\n",
    "        rect = mpatches.Rectangle(\n",
    "            (lon_min, lat_min),\n",
    "            width,\n",
    "            height,\n",
    "            linewidth=0.5,\n",
    "            edgecolor=\"red\",\n",
    "            facecolor=\"none\",\n",
    "            transform=ccrs.PlateCarree(),\n",
    "        )\n",
    "        ax.add_patch(rect)"
   ]
  },
  {
   "cell_type": "code",
   "execution_count": null,
   "id": "296e8980-67fa-4c89-b361-6fbf27bbc89c",
   "metadata": {},
   "outputs": [],
   "source": [
    "tropical_sst_dict = {}\n",
    "\n",
    "title = \"Annual Mean Climatology\"\n",
    "\n",
    "vmin = 16\n",
    "vmax = 32\n",
    "\n",
    "# cartopy map projection\n",
    "projection = ccrs.PlateCarree(central_longitude=-160)\n",
    "\n",
    "for group in groups:\n",
    "    ds = group.datasets[variable]\n",
    "    ds = geoslice(ds, x=(-270, -70), y=(-25, 25))\n",
    "\n",
    "    fig = plt.figure(figsize=(6, 2.5), dpi=200)\n",
    "    ax = plt.subplot(1, 1, 1, projection=projection, facecolor=\"gray\")\n",
    "    da = util.annual_average(ds.tos).mean(\"time\", keep_attrs=True)\n",
    "    cb = da.plot.pcolormesh(\n",
    "        ax=ax,\n",
    "        x=\"geolon\",\n",
    "        y=\"geolat\",\n",
    "        transform=ccrs.PlateCarree(),\n",
    "        add_colorbar=False,\n",
    "        vmin=vmin,\n",
    "        vmax=vmax,\n",
    "    )\n",
    "    ax.set_title(None)\n",
    "\n",
    "    label = da.attrs.get(\"long_name\", \"\")  # default to empty string if missing\n",
    "    units = da.attrs.get(\"units\", \"\")\n",
    "    if units:\n",
    "        label = f\"{label} [{units}]\"\n",
    "\n",
    "    # add horizontal colorbar\n",
    "    cbar = fig.colorbar(cb, ax=ax, orientation=\"horizontal\", pad=0.1, shrink=0.5)\n",
    "    cbar.set_label(label, fontsize=8)\n",
    "    cbar.ax.tick_params(labelsize=7)\n",
    "\n",
    "    add_nino_boxes(ax)\n",
    "\n",
    "    # get name from the first case in each group\n",
    "    name = group.name\n",
    "    ax.text(0.0, 1.05, name, fontsize=7, transform=ax.transAxes)\n",
    "    ax.text(\n",
    "        1.0, 1.05, title, ha=\"right\", style=\"italic\", fontsize=5, transform=ax.transAxes\n",
    "    )"
   ]
  },
  {
   "cell_type": "code",
   "execution_count": null,
   "id": "70746279-162a-4c58-91aa-5e587d21ef56",
   "metadata": {},
   "outputs": [],
   "source": [
    "# Regress the tropical SST anomalies on the global SST anomalies\n",
    "\n",
    "from momlevel import trend\n",
    "\n",
    "def regress(y, x):\n",
    "    x_mean = x.mean()\n",
    "    y_mean = y.mean()\n",
    "    slope = ((x - x_mean) * (y - y_mean)).sum() / ((x - x_mean) ** 2).sum()\n",
    "    return slope    "
   ]
  },
  {
   "cell_type": "code",
   "execution_count": null,
   "id": "ba53cb43-0ef3-469b-b963-fe115d57a119",
   "metadata": {},
   "outputs": [],
   "source": [
    "# plotting options\n",
    "\n",
    "vmin = -1.5\n",
    "vmax = 1.5\n",
    "cmap = \"RdBu_r\"\n",
    "title = \"Linear Regressions (Local + Nino3.4) of Annual Anomalies\"\n",
    "\n",
    "for group in diag.groups:\n",
    "    ds = group.datasets[variable]\n",
    "    da = ds[varname]\n",
    "    da = trend.linear_detrend(da)\n",
    "    da_clim = da.mean(\"time\")\n",
    "    da_anom = da - da_clim\n",
    "\n",
    "    da_trop = ds[varname]\n",
    "    da_trop = geoslice(da_trop, x=(-170, -120), y=(-5, 5))\n",
    "    da_trop = da_trop.weighted(da_trop.coords[areavar]).mean((xdim, ydim))\n",
    "    da_trop_clim = da_trop.mean(\"time\")\n",
    "    da_trop = da_trop - da_trop_clim\n",
    "\n",
    "    regression_map = xr.apply_ufunc(\n",
    "        regress,\n",
    "        da_anom,\n",
    "        da_trop,\n",
    "        input_core_dims=[[\"time\"], [\"time\"]],\n",
    "        vectorize=True,\n",
    "        dask=\"parallelized\",\n",
    "        output_dtypes=[float],\n",
    "        dask_gufunc_kwargs={\"allow_rechunk\": True},\n",
    "    )\n",
    "\n",
    "    fig = plt.figure(dpi=200)\n",
    "    ax = plt.subplot(1, 1, 1, projection=ccrs.Orthographic(-100, 20), facecolor=\"gray\")\n",
    "    cb = regression_map.plot.pcolormesh(\n",
    "        ax=ax,\n",
    "        x=\"geolon\",\n",
    "        y=\"geolat\",\n",
    "        transform=ccrs.PlateCarree(),\n",
    "        add_colorbar=False,\n",
    "        vmin=vmin,\n",
    "        vmax=vmax,\n",
    "        cmap=cmap,\n",
    "    )\n",
    "\n",
    "    # add horizontal colorbar\n",
    "    cbar = fig.colorbar(cb, ax=ax, orientation=\"horizontal\", pad=0.1, shrink=0.5)\n",
    "    cbar.set_label(label, fontsize=8)\n",
    "    cbar.ax.tick_params(labelsize=7)\n",
    "\n",
    "    # get name from the first case in each group\n",
    "    name = group.name\n",
    "    ax.text(0.0, 1.07, name, fontsize=7, transform=ax.transAxes)\n",
    "    ax.text(\n",
    "        0.0, 1.03, title, ha=\"left\", style=\"italic\", fontsize=5, transform=ax.transAxes\n",
    "    )"
   ]
  },
  {
   "cell_type": "markdown",
   "id": "81ba3cc1-f4f4-40ea-84ed-ce57bfd53e6d",
   "metadata": {},
   "source": [
    "### Part 3:  Seasonal / Annual Cycle Plots"
   ]
  },
  {
   "cell_type": "code",
   "execution_count": null,
   "id": "7b4bca80-ce4a-4949-8123-2b63fc62d769",
   "metadata": {},
   "outputs": [],
   "source": [
    "vmin = -2\n",
    "vmax = 2\n",
    "\n",
    "title = \"Anomaly Relative to the Annual Mean (5S to 5N)\"\n",
    "\n",
    "for group in diag.groups:\n",
    "    fig = plt.figure(figsize=(4, 4), dpi=150)\n",
    "    ax = plt.subplot(1, 1, 1)\n",
    "    ds = group.datasets[variable]\n",
    "    ds = geoslice(ds, x=(-270, -70), y=(-5, 5))\n",
    "    da = ds[varname]\n",
    "    da = da.weighted(da.coords[areavar]).mean(ydim)\n",
    "    lon = ds.geolon.mean(ydim)\n",
    "    da = util.annual_cycle(da)\n",
    "    da = da - da.mean(\"time\")\n",
    "    cb = ax.pcolormesh(lon, np.arange(1, 13), da, cmap=\"RdBu_r\", vmin=vmin, vmax=vmax)\n",
    "    ax.set_yticks(np.arange(1, 13))\n",
    "    ax.set_yticklabels([\"J\", \"F\", \"M\", \"A\", \"M\", \"J\", \"J\", \"A\", \"S\", \"O\", \"N\", \"D\"])\n",
    "\n",
    "    # add horizontal colorbar\n",
    "    cbar = fig.colorbar(cb, ax=ax, orientation=\"horizontal\", pad=0.1, shrink=0.5)\n",
    "    cbar.set_label(label, fontsize=8)\n",
    "    cbar.ax.tick_params(labelsize=7)\n",
    "\n",
    "    # get name from the first case in each group\n",
    "    ax.text(0.0, 1.07, group.name, fontsize=7, transform=ax.transAxes)\n",
    "    ax.text(\n",
    "        0.0, 1.03, title, ha=\"left\", style=\"italic\", fontsize=5, transform=ax.transAxes\n",
    "    )"
   ]
  },
  {
   "cell_type": "markdown",
   "id": "7d61f10f-5fde-4733-a31a-90fd399667ad",
   "metadata": {},
   "source": [
    "### Part 4: Write metrics file"
   ]
  },
  {
   "cell_type": "code",
   "execution_count": null,
   "id": "8db94dba-389f-4410-89eb-9d4c8761a09f",
   "metadata": {},
   "outputs": [],
   "source": [
    "diag.write_metrics()"
   ]
  }
 ],
 "metadata": {
  "kernelspec": {
   "display_name": "Python 3 (ipykernel)",
   "language": "python",
   "name": "python3"
  },
  "language_info": {
   "codemirror_mode": {
    "name": "ipython",
    "version": 3
   },
   "file_extension": ".py",
   "mimetype": "text/x-python",
   "name": "python",
   "nbconvert_exporter": "python",
   "pygments_lexer": "ipython3",
   "version": "3.12.11"
  }
 },
 "nbformat": 4,
 "nbformat_minor": 5
}
