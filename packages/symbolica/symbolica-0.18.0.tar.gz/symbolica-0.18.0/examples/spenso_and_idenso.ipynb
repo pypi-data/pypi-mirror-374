{
 "cells": [
  {
   "cell_type": "markdown",
   "id": "c14257d9",
   "metadata": {},
   "source": []
  },
  {
   "cell_type": "code",
   "execution_count": 1,
   "id": "43ffc099",
   "metadata": {},
   "outputs": [],
   "source": [
    "from symbolica import Expression, S,E\n",
    "from symbolica.community.spenso import TensorName as N,LibraryTensor,TensorNetwork,Representation,TensorStructure,TensorIndices,Tensor,Slot,TensorLibrary\n",
    "\n",
    "# import symbolica.community.spenso as tensors\n",
    "import random"
   ]
  },
  {
   "cell_type": "markdown",
   "id": "baffdd51",
   "metadata": {},
   "source": [
    "# Tensor structures and representations:\n",
    "\n",
    "The starting point for defining a tensor is to define its structure. This is done by defining the indices that the tensor has. Each index is in fact a slot, built from an index and a representation\n",
    "\n",
    "Representations are defined by their name and dimension. They can be self-dual or not.\n"
   ]
  },
  {
   "cell_type": "code",
   "execution_count": 2,
   "id": "4fa29c55",
   "metadata": {},
   "outputs": [
    {
     "name": "stdout",
     "output_type": "stream",
     "text": [
      "custom(4)\n"
     ]
    }
   ],
   "source": [
    "mink = Representation.mink(4)\n",
    "bis = Representation.bis(4)\n",
    "custom = Representation(\"custom\",4,is_self_dual=False)\n",
    "print(custom)"
   ]
  },
  {
   "cell_type": "markdown",
   "id": "271f38d2",
   "metadata": {},
   "source": [
    "Slots are created from a representation and an index"
   ]
  },
  {
   "cell_type": "code",
   "execution_count": 3,
   "id": "5d2b8ef3",
   "metadata": {},
   "outputs": [
    {
     "name": "stdout",
     "output_type": "stream",
     "text": [
      "mink(4,mu)\n"
     ]
    },
    {
     "data": {
      "text/plain": [
       "Slot { rep: Representation { rep: InlineMetric(0), dim: Concrete(4) }, aind: Symbol(SerializableSymbol { symbol: 79 }) }"
      ]
     },
     "execution_count": 3,
     "metadata": {},
     "output_type": "execute_result"
    }
   ],
   "source": [
    "mu = mink(\"mu\")\n",
    "print(mu)\n",
    "mu"
   ]
  },
  {
   "cell_type": "markdown",
   "id": "5c4d1899",
   "metadata": {},
   "source": [
    "They can be converted to symbolica expressions"
   ]
  },
  {
   "cell_type": "code",
   "execution_count": 4,
   "id": "14e34c0b",
   "metadata": {},
   "outputs": [
    {
     "data": {
      "text/plain": [
       "spenso::mink(4,spynso3::mu)"
      ]
     },
     "execution_count": 4,
     "metadata": {},
     "output_type": "execute_result"
    }
   ],
   "source": [
    "mue = mu.to_expression()\n",
    "mue\n"
   ]
  },
  {
   "cell_type": "code",
   "execution_count": 5,
   "id": "273571bb",
   "metadata": {},
   "outputs": [],
   "source": [
    "nu = Slot(\"mink\",4,\"nu\")"
   ]
  },
  {
   "cell_type": "code",
   "execution_count": 6,
   "id": "c5fb3f81",
   "metadata": {},
   "outputs": [
    {
     "name": "stdout",
     "output_type": "stream",
     "text": [
      "bis(4,k)\n"
     ]
    },
    {
     "data": {
      "text/plain": [
       "Slot { rep: Representation { rep: SelfDual(1), dim: Concrete(4) }, aind: Symbol(SerializableSymbol { symbol: 82 }) }"
      ]
     },
     "execution_count": 6,
     "metadata": {},
     "output_type": "execute_result"
    }
   ],
   "source": [
    "# The index can be a string (that could be parsed into a symbolica symbol)\n",
    "i = bis(\"i\")\n",
    "# The index can also be an integer\n",
    "j = bis(2)\n",
    "\n",
    "k = S(\"k\")\n",
    "# The index can also directly a symbolica expression\n",
    "k = bis(k)\n",
    "print(k)\n",
    "k"
   ]
  },
  {
   "cell_type": "code",
   "execution_count": 7,
   "id": "51604f06",
   "metadata": {},
   "outputs": [],
   "source": [
    "gamma = N.gamma\n",
    "p = N(\"P\")\n",
    "w = N(\"w\")\n",
    "g = N.g\n",
    "mq = S(\"mq\")"
   ]
  },
  {
   "cell_type": "markdown",
   "id": "476eaaf9",
   "metadata": {},
   "source": [
    "Tensor structures are essentially a list of slots, with a name (symbolica symbol)\n",
    "It can be turned into a symbolica expression\n"
   ]
  },
  {
   "cell_type": "code",
   "execution_count": 8,
   "id": "f2a0643d",
   "metadata": {},
   "outputs": [
    {
     "name": "stdout",
     "output_type": "stream",
     "text": [
      "gamma(bis(4,i),bis(4,k),mink(4,mu))\n",
      "gamma(bis(4,i),bis(4,k),mink(4,mu))\n"
     ]
    }
   ],
   "source": [
    "\n",
    "other_g = gamma(i,k,mu)\n",
    "g_muik = TensorIndices(i,k,mu,name=gamma)\n",
    "print(g_muik)\n",
    "print(other_g)\n",
    "# g_muik"
   ]
  },
  {
   "cell_type": "code",
   "execution_count": 9,
   "id": "dc455dbd",
   "metadata": {},
   "outputs": [
    {
     "data": {
      "text/plain": [
       "[0, 0, 2]"
      ]
     },
     "execution_count": 9,
     "metadata": {},
     "output_type": "execute_result"
    }
   ],
   "source": [
    "g_muik[2]"
   ]
  },
  {
   "cell_type": "code",
   "execution_count": 10,
   "id": "c2978af6-043d-4108-8f55-aeb5dbda2386",
   "metadata": {},
   "outputs": [
    {
     "name": "stdout",
     "output_type": "stream",
     "text": [
      "gamma(bis(4,k),bis(4,2),mink(4,mu))\n"
     ]
    }
   ],
   "source": [
    "print(gamma(k,j,mu).to_expression())"
   ]
  },
  {
   "cell_type": "code",
   "execution_count": 11,
   "id": "e2712044",
   "metadata": {},
   "outputs": [
    {
     "data": {
      "text/plain": [
       "[[2, 3, 1], [3, 0, 0], [3, 0, 3], [3, 1, 2], [3, 2, 1], [3, 3, 0]]"
      ]
     },
     "execution_count": 11,
     "metadata": {},
     "output_type": "execute_result"
    }
   ],
   "source": [
    "\n",
    "g_muik[45:63:3]\n"
   ]
  },
  {
   "cell_type": "code",
   "execution_count": 12,
   "id": "c40f5948",
   "metadata": {},
   "outputs": [
    {
     "data": {
      "text/plain": [
       "42"
      ]
     },
     "execution_count": 12,
     "metadata": {},
     "output_type": "execute_result"
    }
   ],
   "source": [
    "g_muik[[2,2,2]]"
   ]
  },
  {
   "cell_type": "code",
   "execution_count": 13,
   "id": "daae9669",
   "metadata": {},
   "outputs": [
    {
     "name": "stdout",
     "output_type": "stream",
     "text": [
      "(python::mq*spenso::g(spenso::bis(4,2),spenso::bis(4,python::k))+spenso::gamma(spenso::bis(4,python::k),spenso::bis(4,2),spenso::mink(4,spynso3::nu))*spenso_python::P(2,spenso::mink(4,spynso3::nu)))*spenso::gamma(spenso::bis(4,spynso3::i),spenso::bis(4,python::k),spenso::mink(4,spynso3::mu))*spenso_python::w(1,spenso::bis(4,spynso3::i))*spenso_python::w(3,spenso::mink(4,spynso3::mu))\n"
     ]
    }
   ],
   "source": [
    "x = g_muik*(p(2,nu)*gamma(k,j,nu)+mq*g(k,j))*w(1,i)*w(3,mu)\n",
    "\n",
    "print(x.to_canonical_string())"
   ]
  },
  {
   "cell_type": "code",
   "execution_count": 14,
   "id": "ade8f702",
   "metadata": {},
   "outputs": [
    {
     "name": "stdout",
     "output_type": "stream",
     "text": [
      "digraph {\n",
      "  node\t [shape=circle,height=0.1,label=\"\"];\n",
      "  overlap = \"scale\";\n",
      "  layout = \"neato\";\n",
      "\n",
      "  0\t [label = \"∏\"];\n",
      "  1\t [label = \"∑\"];\n",
      "  2\t [label = \"∏\"];\n",
      "  3\t [label = \"S:0:mq\"];\n",
      "  4\t [label= \"L:g()\"];\n",
      "  5\t [label = \"∏\"];\n",
      "  6\t [label= \"L:gamma()\"];\n",
      "  7\t [label = \"T:P(2)\"];\n",
      "  8\t [label= \"L:gamma()\"];\n",
      "  9\t [label = \"T:w(1)\"];\n",
      "  10\t [label = \"T:w(3)\"];\n",
      "  ext0\t [style=invis];\n",
      "  0:0:s\t-> ext0\t [id=0 color=\"red\"];\n",
      "  8:33:s\t-> 10:37:s\t [id=1 dir=none  color=\"red:blue;0.5\" label=\"mink4|mu\"];\n",
      "  8:31:s\t-> 9:35:s\t [id=2 dir=none  color=\"red:blue;0.5\" label=\"bis4|i\"];\n",
      "  1:11:s\t-> 8:32:s\t [id=3 dir=none  color=\"red:blue;0.5\" label=\"bis4|k\"];\n",
      "  5:21:s\t-> 1:6:s\t [id=4  color=\"red:blue;0.5\"];\n",
      "  6:27:s\t-> 7:29:s\t [id=5 dir=none  color=\"red:blue;0.5\" label=\"mink4|nu\"];\n",
      "  6:25:s\t-> 1:9:s\t [id=6 dir=none  color=\"red:blue;0.5\" label=\"bis4|2\"];\n",
      "  4:19:s\t-> 1:10:s\t [id=7 dir=none  color=\"red:blue;0.5\" label=\"bis4|2\"];\n",
      "  ext8\t [style=invis];\n",
      "  1:8:s\t-> ext8\t [id=8 dir=none color=\"red\" label=\"bis4|2\"];\n",
      "  6:26:s\t-> 1:12:s\t [id=9 dir=none  color=\"red:blue;0.5\" label=\"bis4|k\"];\n",
      "  4:20:s\t-> 1:13:s\t [id=10 dir=none  color=\"red:blue;0.5\" label=\"bis4|k\"];\n",
      "  9:34:s\t-> 0:2:s\t [id=11  color=\"red:blue;0.5\"];\n",
      "  7:28:s\t-> 5:22:s\t [id=12  color=\"red:blue;0.5\"];\n",
      "  4:18:s\t-> 2:15:s\t [id=13  color=\"red:blue;0.5\"];\n",
      "  3:17:s\t-> 2:16:s\t [id=14  color=\"red:blue;0.5\"];\n",
      "  2:14:s\t-> 1:7:s\t [id=15  color=\"red:blue;0.5\"];\n",
      "  6:24:s\t-> 5:23:s\t [id=16  color=\"red:blue;0.5\"];\n",
      "  1:5:s\t-> 0:4:s\t [id=17  color=\"red:blue;0.5\"];\n",
      "  8:30:s\t-> 0:3:s\t [id=18  color=\"red:blue;0.5\"];\n",
      "  10:36:s\t-> 0:1:s\t [id=19  color=\"red:blue;0.5\"];\n",
      "}\n",
      "\n"
     ]
    }
   ],
   "source": [
    "tn = TensorNetwork(x)\n",
    "# prints the rich graph associated to the network\n",
    "print(tn)"
   ]
  },
  {
   "cell_type": "markdown",
   "id": "afa29549",
   "metadata": {},
   "source": [
    "As you can see when parsed, the network isn't contracted yet, so it's just a graph of the expression\n",
    "To contract it, you can call the contract method. You can specify the contraction procedure with optional arguments. \n"
   ]
  },
  {
   "cell_type": "code",
   "execution_count": 15,
   "id": "19f7aea4",
   "metadata": {},
   "outputs": [],
   "source": [
    "from symbolica.community.spenso import ExecutionMode\n",
    "tn.execute(n_steps=2,mode=ExecutionMode.Scalar)\n"
   ]
  },
  {
   "cell_type": "code",
   "execution_count": 16,
   "id": "b13a9851-e12a-470e-8bb2-c4c7393860ba",
   "metadata": {},
   "outputs": [
    {
     "name": "stdout",
     "output_type": "stream",
     "text": [
      "digraph {\n",
      "  node\t [shape=circle,height=0.1,label=\"\"];\n",
      "  overlap = \"scale\";\n",
      "  layout = \"neato\";\n",
      "\n",
      "  0\t [label = \"∑\"];\n",
      "  1\t [label = \"∏\"];\n",
      "  2\t [label = \"∑\"];\n",
      "  3\t [label = \"∏\"];\n",
      "  4\t [label = \"∏\"];\n",
      "  5\t [label = \"∑\"];\n",
      "  6\t [label = \"∏\"];\n",
      "  ext0\t [style=invis];\n",
      "  0:0:s\t-> ext0\t [id=0 color=\"red\"];\n",
      "  6:12:s\t-> 4:9:s\t [id=1  color=\"red:blue;0.5\"];\n",
      "  3:7:s\t-> 1:4:s\t [id=2  color=\"red:blue;0.5\"];\n",
      "  2:6:s\t-> 1:5:s\t [id=3  color=\"red:blue;0.5\"];\n",
      "  1:3:s\t-> 0:2:s\t [id=4  color=\"red:blue;0.5\"];\n",
      "  5:11:s\t-> 4:10:s\t [id=5  color=\"red:blue;0.5\"];\n",
      "  4:8:s\t-> 0:1:s\t [id=6  color=\"red:blue;0.5\"];\n",
      "}\n",
      "\n",
      "digraph {\n",
      "  node\t [shape=circle,height=0.1,label=\"\"];\n",
      "  overlap = \"scale\";\n",
      "  layout = \"neato\";\n",
      "\n",
      "  0\t [label = \"∑\"];\n",
      "  3\t [label = \"∏\"];\n",
      "  1\t [label = \"∑\"];\n",
      "  2\t [label = \"∑\"];\n",
      "  4\t [label = \"∏\"];\n",
      "  ext0\t [style=invis];\n",
      "  0:0:s\t-> ext0\t [id=0 color=\"red\"];\n",
      "  4:8:s\t-> 0:1:s\t [id=1  color=\"red:blue;0.5\"];\n",
      "  1:4:s\t-> 4:7:s\t [id=2  color=\"red:blue;0.5\"];\n",
      "  2:6:s\t-> 3:5:s\t [id=3  color=\"red:blue;0.5\"];\n",
      "  3:3:s\t-> 0:2:s\t [id=4  color=\"red:blue;0.5\"];\n",
      "}\n",
      "\n"
     ]
    }
   ],
   "source": [
    "t = TensorNetwork.one()*TensorNetwork.zero() + TensorNetwork.one()*TensorNetwork.zero()\n",
    "print(t)\n",
    "t.execute()\n",
    "print(t)"
   ]
  },
  {
   "cell_type": "markdown",
   "id": "4d6e11a7",
   "metadata": {},
   "source": [
    "The graph has now reduced in size"
   ]
  },
  {
   "cell_type": "code",
   "execution_count": 17,
   "id": "e512f1de",
   "metadata": {},
   "outputs": [
    {
     "name": "stdout",
     "output_type": "stream",
     "text": [
      "digraph {\n",
      "  node\t [shape=circle,height=0.1,label=\"\"];\n",
      "  overlap = \"scale\";\n",
      "  layout = \"neato\";\n",
      "\n",
      "  0\t [label = \"∏\"];\n",
      "  1\t [label = \"∑\"];\n",
      "  2\t [label = \"∏\"];\n",
      "  3\t [label = \"S:0:mq\"];\n",
      "  4\t [label= \"L:g()\"];\n",
      "  5\t [label = \"T:w(3)\"];\n",
      "  6\t [label = \"T:w(1)\"];\n",
      "  7\t [label= \"L:gamma()\"];\n",
      "  8\t [label = \"T:P(2)\"];\n",
      "  9\t [label= \"L:gamma()\"];\n",
      "  10\t [label = \"∏\"];\n",
      "  ext0\t [style=invis];\n",
      "  0:0:s\t-> ext0\t [id=0 color=\"red\"];\n",
      "  1:5:s\t-> 0:4:s\t [id=1  color=\"red:blue;0.5\"];\n",
      "  9:33:s\t-> 1:9:s\t [id=2 dir=none  color=\"red:blue;0.5\" label=\"bis4|2\"];\n",
      "  ext3\t [style=invis];\n",
      "  1:8:s\t-> ext3\t [id=3 dir=none color=\"red\" label=\"bis4|2\"];\n",
      "  9:32:s\t-> 1:12:s\t [id=4 dir=none  color=\"red:blue;0.5\" label=\"bis4|k\"];\n",
      "  1:11:s\t-> 7:26:s\t [id=5 dir=none  color=\"red:blue;0.5\" label=\"bis4|k\"];\n",
      "  9:34:s\t-> 10:35:s\t [id=6  color=\"red:blue;0.5\"];\n",
      "  2:14:s\t-> 1:7:s\t [id=7  color=\"red:blue;0.5\"];\n",
      "  3:17:s\t-> 2:16:s\t [id=8  color=\"red:blue;0.5\"];\n",
      "  4:18:s\t-> 2:15:s\t [id=9  color=\"red:blue;0.5\"];\n",
      "  4:19:s\t-> 1:10:s\t [id=10 dir=none  color=\"red:blue;0.5\" label=\"bis4|2\"];\n",
      "  4:20:s\t-> 1:13:s\t [id=11 dir=none  color=\"red:blue;0.5\" label=\"bis4|k\"];\n",
      "  5:22:s\t-> 0:1:s\t [id=12  color=\"red:blue;0.5\"];\n",
      "  6:24:s\t-> 0:2:s\t [id=13  color=\"red:blue;0.5\"];\n",
      "  7:25:s\t-> 5:21:s\t [id=14 dir=none  color=\"red:blue;0.5\" label=\"mink4|mu\"];\n",
      "  7:27:s\t-> 6:23:s\t [id=15 dir=none  color=\"red:blue;0.5\" label=\"bis4|i\"];\n",
      "  7:28:s\t-> 0:3:s\t [id=16  color=\"red:blue;0.5\"];\n",
      "  8:30:s\t-> 10:36:s\t [id=17  color=\"red:blue;0.5\"];\n",
      "  9:31:s\t-> 8:29:s\t [id=18 dir=none  color=\"red:blue;0.5\" label=\"mink4|nu\"];\n",
      "  10:37:s\t-> 1:6:s\t [id=19  color=\"red:blue;0.5\"];\n",
      "}\n",
      "\n"
     ]
    }
   ],
   "source": [
    "print(tn)\n"
   ]
  },
  {
   "cell_type": "markdown",
   "id": "87ea6a76",
   "metadata": {},
   "source": [
    "We can now extract the resulting tensor, by fully executing the network\n"
   ]
  },
  {
   "cell_type": "code",
   "execution_count": 18,
   "id": "c23f4b00",
   "metadata": {},
   "outputs": [],
   "source": [
    "tn.execute()\n",
    "t = tn.result_tensor()\n"
   ]
  },
  {
   "cell_type": "markdown",
   "id": "9ab3f81c",
   "metadata": {},
   "source": [
    "The tensor is a tensor object\n"
   ]
  },
  {
   "cell_type": "code",
   "execution_count": 19,
   "id": "6055f8f4",
   "metadata": {},
   "outputs": [
    {
     "data": {
      "text/plain": [
       "Spensor(\n",
       "() [0]() [0][0]: ((-w(3,cind(1))-1\u001b[35m𝑖\u001b[0m*w(3,cind(2)))*(P(2,cind(0))+P(2,cind(3)))+(P(2,cind(1))+1\u001b[35m𝑖\u001b[0m*P(2,cind(2)))*(w(3,cind(0))+w(3,cind(3))))*w(1,cind(1))\u001b[33m+\u001b[0m((-w(3,cind(1))+1\u001b[35m𝑖\u001b[0m*w(3,cind(2)))*(P(2,cind(1))+1\u001b[35m𝑖\u001b[0m*P(2,cind(2)))+(P(2,cind(0))+P(2,cind(3)))*(w(3,cind(0))-w(3,cind(3))))*w(1,cind(0))\u001b[33m+\u001b[0mmq*(w(3,cind(0))+w(3,cind(3)))*w(1,cind(2))\u001b[33m+\u001b[0mmq*(w(3,cind(1))+1\u001b[35m𝑖\u001b[0m*w(3,cind(2)))*w(1,cind(3))\n",
       "[1]: ((-w(3,cind(1))-1\u001b[35m𝑖\u001b[0m*w(3,cind(2)))*(P(2,cind(1))-1\u001b[35m𝑖\u001b[0m*P(2,cind(2)))+(P(2,cind(0))-P(2,cind(3)))*(w(3,cind(0))+w(3,cind(3))))*w(1,cind(1))\u001b[33m+\u001b[0m((-w(3,cind(1))+1\u001b[35m𝑖\u001b[0m*w(3,cind(2)))*(P(2,cind(0))-P(2,cind(3)))+(P(2,cind(1))-1\u001b[35m𝑖\u001b[0m*P(2,cind(2)))*(w(3,cind(0))-w(3,cind(3))))*w(1,cind(0))\u001b[33m+\u001b[0mmq*(w(3,cind(0))-w(3,cind(3)))*w(1,cind(3))\u001b[33m+\u001b[0mmq*(w(3,cind(1))-1\u001b[35m𝑖\u001b[0m*w(3,cind(2)))*w(1,cind(2))\n",
       "[2]: ((-P(2,cind(1))-1\u001b[35m𝑖\u001b[0m*P(2,cind(2)))*(w(3,cind(0))-w(3,cind(3)))+(P(2,cind(0))-P(2,cind(3)))*(w(3,cind(1))+1\u001b[35m𝑖\u001b[0m*w(3,cind(2))))*w(1,cind(3))\u001b[33m+\u001b[0m((-P(2,cind(1))-1\u001b[35m𝑖\u001b[0m*P(2,cind(2)))*(w(3,cind(1))-1\u001b[35m𝑖\u001b[0m*w(3,cind(2)))+(P(2,cind(0))-P(2,cind(3)))*(w(3,cind(0))+w(3,cind(3))))*w(1,cind(2))\u001b[33m+\u001b[0mmq*(-w(3,cind(1))-1\u001b[35m𝑖\u001b[0m*w(3,cind(2)))*w(1,cind(1))\u001b[33m+\u001b[0mmq*(w(3,cind(0))-w(3,cind(3)))*w(1,cind(0))\n",
       "[3]: ((-P(2,cind(1))+1\u001b[35m𝑖\u001b[0m*P(2,cind(2)))*(w(3,cind(0))+w(3,cind(3)))+(P(2,cind(0))+P(2,cind(3)))*(w(3,cind(1))-1\u001b[35m𝑖\u001b[0m*w(3,cind(2))))*w(1,cind(2))\u001b[33m+\u001b[0m((-P(2,cind(1))+1\u001b[35m𝑖\u001b[0m*P(2,cind(2)))*(w(3,cind(1))+1\u001b[35m𝑖\u001b[0m*w(3,cind(2)))+(P(2,cind(0))+P(2,cind(3)))*(w(3,cind(0))-w(3,cind(3))))*w(1,cind(3))\u001b[33m+\u001b[0mmq*(-w(3,cind(1))+1\u001b[35m𝑖\u001b[0m*w(3,cind(2)))*w(1,cind(0))\u001b[33m+\u001b[0mmq*(w(3,cind(0))+w(3,cind(3)))*w(1,cind(1))\n",
       ")"
      ]
     },
     "execution_count": 19,
     "metadata": {},
     "output_type": "execute_result"
    }
   ],
   "source": [
    "t\n"
   ]
  },
  {
   "cell_type": "markdown",
   "id": "57559a22",
   "metadata": {},
   "source": [
    " It has a structure\n"
   ]
  },
  {
   "cell_type": "code",
   "execution_count": 20,
   "id": "951b923f",
   "metadata": {},
   "outputs": [
    {
     "name": "stdout",
     "output_type": "stream",
     "text": [
      "(bis(4,2))\n"
     ]
    }
   ],
   "source": [
    "print(t.structure())\n"
   ]
  },
  {
   "cell_type": "markdown",
   "id": "8ea5186c",
   "metadata": {},
   "source": [
    "# Evaluation of the tensor\n",
    "\n",
    " You may have noticed that the resulting tensor is a set of expressions with certain functions that label the 'concrete' values of the tensor. What if we want to evaluate the tensor for a given set of parameters?\n"
   ]
  },
  {
   "cell_type": "code",
   "execution_count": 21,
   "id": "e1c588aa",
   "metadata": {},
   "outputs": [
    {
     "name": "stdout",
     "output_type": "stream",
     "text": [
      "[0]: (26.691751661999817+282.1430839021581i)\n",
      "[1]: (133.61773361329213+131.40687432939498i)\n",
      "[2]: (191.02246134986044+-136.9589355210573i)\n",
      "[3]: (-130.2734351522607+108.68819064880141i)\n",
      "\n",
      "(bis(4,2))\n"
     ]
    }
   ],
   "source": [
    "\n",
    "params = [Expression.I]\n",
    "params += TensorNetwork(w(1,i)).result_tensor() # tensors implement the sequence protocol, so can be treated just like lists\n",
    "params += TensorNetwork(w(3,mu)).result_tensor()\n",
    "params += TensorNetwork(p(2,nu)).result_tensor()\n",
    "constants = {mq: E(\"173\")}\n",
    "\n",
    "# Much like the expressions, tensors have the same evaluation api, just that they return a tensor instead of an expression\n",
    "e=t.evaluator(constants=constants, params=params, funs={})\n",
    "# The evaluator can be compiled to a shared library\n",
    "c = e.compile(function_name=\"f\", filename=\"test_expression.cpp\",\n",
    "              library_name=\"test_expression.so\", inline_asm=\"none\")\n",
    "\n",
    "\n",
    "e_params = [random.random()+1j*random.random() for i in range(len(params))]\n",
    "eval_res = e.evaluate_complex([e_params])[0]\n",
    "\n",
    "print(eval_res)\n",
    "print(eval_res.structure())\n"
   ]
  },
  {
   "cell_type": "markdown",
   "id": "5c92b316",
   "metadata": {},
   "source": [
    "\n",
    "# Tensor building:\n",
    " Tensors have two storage modes. Hashmap backed sparse tensors and dense tensors. Sparse tensors are built from a structure and then assigned values:\n"
   ]
  },
  {
   "cell_type": "code",
   "execution_count": 22,
   "id": "0e151533",
   "metadata": {},
   "outputs": [
    {
     "name": "stdout",
     "output_type": "stream",
     "text": [
      "[custom(4),custom(4)]\n"
     ]
    }
   ],
   "source": [
    "\n",
    "\n",
    "t = LibraryTensor.sparse([custom,custom],type(mq))\n",
    "# Note that the structure is a list of representations, not slots\n",
    "# In this case the tensor structure is a `TensorStructure` object\n",
    "print(t.structure())\n"
   ]
  },
  {
   "cell_type": "markdown",
   "id": "2ea85518",
   "metadata": {},
   "source": [
    "It does not have indices, just a shape. This makes sense if you just want to register this tensor (see later), or if you just want to use it for storage and iteration.\n",
    "The tensor can store expressions,floats or complex numbers (homogeneously)\n",
    "values are accessed by flattened index: (and slices are supported)\n"
   ]
  },
  {
   "cell_type": "code",
   "execution_count": 23,
   "id": "ba108905",
   "metadata": {},
   "outputs": [
    {
     "data": {
      "text/plain": [
       "Spensor(\n",
       "() [0 1]() [0 1][1, 2]: (y+1)*f(x)\n",
       ")"
      ]
     },
     "execution_count": 23,
     "metadata": {},
     "output_type": "execute_result"
    }
   ],
   "source": [
    "t[6]=E(\"f(x)*(1+y)\")\n",
    "t"
   ]
  },
  {
   "cell_type": "markdown",
   "id": "c719fe33",
   "metadata": {},
   "source": [
    "Or by multi-index:\n"
   ]
  },
  {
   "cell_type": "code",
   "execution_count": 24,
   "id": "aaaa5141",
   "metadata": {},
   "outputs": [
    {
     "data": {
      "text/plain": [
       "Spensor(\n",
       "() [0 1]() [0 1][1, 2]: (y+1)*f(x)\n",
       "[3, 2]: \u001b[35msin\u001b[0m(alpha)\n",
       ")"
      ]
     },
     "execution_count": 24,
     "metadata": {},
     "output_type": "execute_result"
    }
   ],
   "source": [
    "t[[3,2]]=E(\"sin(alpha)\")\n",
    "t\n"
   ]
  },
  {
   "cell_type": "markdown",
   "id": "ce378e00",
   "metadata": {},
   "source": [
    "Currently printing makes more sense when the data is dense"
   ]
  },
  {
   "cell_type": "code",
   "execution_count": 25,
   "id": "fcf94ee8",
   "metadata": {},
   "outputs": [
    {
     "data": {
      "text/plain": [
       "Spensor(\n",
       "() [0 1]() [0 1][0, 0]: 0\n",
       "[0, 1]: 0\n",
       "[0, 2]: 0\n",
       "[0, 3]: 0\n",
       "[1, 0]: 0\n",
       "[1, 1]: 0\n",
       "[1, 2]: (y+1)*f(x)\n",
       "[1, 3]: 0\n",
       "[2, 0]: 0\n",
       "[2, 1]: 0\n",
       "[2, 2]: 0\n",
       "[2, 3]: 0\n",
       "[3, 0]: 0\n",
       "[3, 1]: 0\n",
       "[3, 2]: \u001b[35msin\u001b[0m(alpha)\n",
       "[3, 3]: 0\n",
       ")"
      ]
     },
     "execution_count": 25,
     "metadata": {},
     "output_type": "execute_result"
    }
   ],
   "source": [
    "t.to_dense()\n",
    "t\n"
   ]
  },
  {
   "cell_type": "markdown",
   "id": "783d1771",
   "metadata": {},
   "source": [
    "# Registering to a library"
   ]
  },
  {
   "cell_type": "code",
   "execution_count": 26,
   "id": "5eaecc35",
   "metadata": {},
   "outputs": [
    {
     "name": "stdout",
     "output_type": "stream",
     "text": [
      "() [0 1]() [0 1][0, 0]: 0\n",
      "[0, 1]: 0\n",
      "[0, 2]: 123\n",
      "[1, 0]: 11\n",
      "[1, 1]: 3\n",
      "[1, 2]: 0.08823529411764706\n",
      "[2, 0]: 234\n",
      "[2, 1]: 23\n",
      "[2, 2]: 44\n",
      "\n",
      "test[newrep(3),newrep(3)]\n",
      "[]: 3978078.147058823\n",
      "\n"
     ]
    }
   ],
   "source": [
    "\n",
    "d = Representation(\"newrep\",3)\n",
    "tname = S(\"test\")\n",
    "#  Dense tensors are built from a list of values in row-major order.\n",
    "t = LibraryTensor.dense(TensorStructure(d,d,name=tname),[0,0,123,\n",
    "                        11,3,234,\n",
    "                        234,23,44,])\n",
    "# If the structure is just a list of integers, it is assumed to be a list of dimensions, and the representation is assumed to be the default representation: euclidean.\n",
    "t[[1,2]]=3/34\n",
    "print(t)\n",
    "print(t.structure())\n",
    "\n",
    "lib = TensorLibrary.hep_lib()\n",
    "\n",
    "lib.register(t)\n",
    "\n",
    "new_t = t.structure()\n",
    "\n",
    "\n",
    "x=(new_t(1,2)*new_t(2,3)*new_t(3,1))\n",
    "n =  TensorNetwork(x,library=lib)\n",
    "n.execute(library=lib)\n",
    "t = n.result_tensor(library=lib)\n",
    "print(t)\n"
   ]
  },
  {
   "cell_type": "markdown",
   "id": "104bd96e",
   "metadata": {},
   "source": [
    "# Algebraic simplification"
   ]
  },
  {
   "cell_type": "code",
   "execution_count": 27,
   "id": "30963dbb",
   "metadata": {},
   "outputs": [],
   "source": [
    "ag = S(\"spenso::gamma\")\n",
    "minkd = Representation(\"mink\",\"D\")\n",
    "fc = S(\"spenso::f\")\n",
    "ps = S(\"p\")\n",
    "coad = Representation(\"coad\",8)\n",
    "\n",
    "def to_expression(t: Expression | Slot) -> Expression:\n",
    "    if isinstance(t,Expression):\n",
    "        return t\n",
    "    elif isinstance(t,Slot):\n",
    "        return t.to_expression()\n",
    "    else:\n",
    "        raise TypeError(f\"Expected Expression or Slot, got {type(t)}\")\n",
    "\n",
    "gam = lib[\"spenso::gamma\"]\n",
    "def p(i):\n",
    "    m  = to_expression(minkd(i))\n",
    "    return ps(m,)\n",
    "\n",
    "def f(i,j,k):\n",
    "    return fc(to_expression(coad(i)),to_expression(coad(j)),to_expression(coad(k)))\n"
   ]
  },
  {
   "cell_type": "code",
   "execution_count": 28,
   "id": "3cb890ea",
   "metadata": {},
   "outputs": [
    {
     "name": "stdout",
     "output_type": "stream",
     "text": [
      "gamma(bis(4,4),bis(4,3),mink(4,1))\n"
     ]
    }
   ],
   "source": [
    "from symbolica.community.idenso import simplify_color, simplify_metrics, simplify_gamma, to_dots\n",
    "\n",
    "print(simplify_metrics(bis.g(4,2)*gam(2,3,1)))"
   ]
  },
  {
   "cell_type": "code",
   "execution_count": 29,
   "id": "24b9e0b7",
   "metadata": {},
   "outputs": [
    {
     "data": {
      "text/plain": [
       "4"
      ]
     },
     "execution_count": 29,
     "metadata": {},
     "output_type": "execute_result"
    }
   ],
   "source": [
    "simplify_metrics(bis.g(1,1).to_expression())"
   ]
  },
  {
   "cell_type": "code",
   "execution_count": 30,
   "id": "44f035bc",
   "metadata": {},
   "outputs": [
    {
     "data": {
      "text/plain": [
       "spenso_python::d"
      ]
     },
     "execution_count": 30,
     "metadata": {},
     "output_type": "execute_result"
    }
   ],
   "source": [
    "simplify_metrics(Representation.euc(\"d\").g(1,1).to_expression())"
   ]
  },
  {
   "cell_type": "code",
   "execution_count": 31,
   "id": "550bdfa6",
   "metadata": {},
   "outputs": [],
   "source": [
    "a = simplify_gamma(gam(1,2,1)*gam(2,3,\"mu\")*gam(3,4,1)*gam(4,1,2)*p(\"mu\")*p(2))"
   ]
  },
  {
   "cell_type": "code",
   "execution_count": 32,
   "id": "5631d7b2",
   "metadata": {},
   "outputs": [
    {
     "name": "stdout",
     "output_type": "stream",
     "text": [
      "-8*g(mink(4,2),mink(4,mu))*p(mink(D,2))*p(mink(D,mu))\n"
     ]
    }
   ],
   "source": [
    "print(to_dots(a))"
   ]
  },
  {
   "cell_type": "code",
   "execution_count": null,
   "id": "ec781c83",
   "metadata": {},
   "outputs": [
    {
     "data": {
      "text/plain": [
       "-16*spenso::TR*spenso::Nc"
      ]
     },
     "execution_count": 33,
     "metadata": {},
     "output_type": "execute_result"
    }
   ],
   "source": [
    "simplify_color(f(1,2,3)*f(3,2,1))"
   ]
  },
  {
   "cell_type": "code",
   "execution_count": null,
   "id": "15a49da5-e1be-45ee-b71c-66bb70e8300e",
   "metadata": {},
   "outputs": [],
   "source": []
  }
 ],
 "metadata": {
  "kernelspec": {
   "display_name": ".env",
   "language": "python",
   "name": "python3"
  },
  "language_info": {
   "codemirror_mode": {
    "name": "ipython",
    "version": 3
   },
   "file_extension": ".py",
   "mimetype": "text/x-python",
   "name": "python",
   "nbconvert_exporter": "python",
   "pygments_lexer": "ipython3",
   "version": "3.13.7"
  }
 },
 "nbformat": 4,
 "nbformat_minor": 5
}
