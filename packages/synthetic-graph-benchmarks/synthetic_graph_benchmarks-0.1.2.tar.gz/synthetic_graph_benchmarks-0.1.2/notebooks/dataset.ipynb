{
 "cells": [
  {
   "cell_type": "code",
   "execution_count": 1,
   "id": "82c456e9",
   "metadata": {},
   "outputs": [],
   "source": [
    "%load_ext autoreload\n",
    "%autoreload 2"
   ]
  },
  {
   "cell_type": "code",
   "execution_count": 2,
   "id": "2300b31f",
   "metadata": {},
   "outputs": [],
   "source": [
    "from synthetic_graph_benchmarks.dataset import Dataset\n",
    "\n",
    "ds_planar = Dataset.load_planar()"
   ]
  },
  {
   "cell_type": "code",
   "execution_count": 8,
   "id": "c6854ac2",
   "metadata": {},
   "outputs": [
    {
     "data": {
      "text/plain": [
       "64"
      ]
     },
     "execution_count": 8,
     "metadata": {},
     "output_type": "execute_result"
    }
   ],
   "source": [
    "ds_planar.train_graphs[1].number_of_nodes()"
   ]
  }
 ],
 "metadata": {
  "kernelspec": {
   "display_name": "synthetic-graph-benchmarks (3.12.4)",
   "language": "python",
   "name": "python3"
  },
  "language_info": {
   "codemirror_mode": {
    "name": "ipython",
    "version": 3
   },
   "file_extension": ".py",
   "mimetype": "text/x-python",
   "name": "python",
   "nbconvert_exporter": "python",
   "pygments_lexer": "ipython3",
   "version": "3.12.4"
  }
 },
 "nbformat": 4,
 "nbformat_minor": 5
}
