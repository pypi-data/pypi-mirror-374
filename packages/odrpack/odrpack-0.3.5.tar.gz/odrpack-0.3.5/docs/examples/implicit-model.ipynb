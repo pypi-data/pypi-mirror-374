{
 "cells": [
  {
   "cell_type": "markdown",
   "metadata": {
    "vscode": {
     "languageId": "plaintext"
    }
   },
   "source": [
    "# Implicit orthogonal regression"
   ]
  },
  {
   "cell_type": "markdown",
   "metadata": {},
   "source": [
    "Estimate the parameters of an ellipse from a set of coordinates.\n",
    "\n",
    "$$\\begin{align*}\n",
    "f(\\bm{X}, \\bm{\\beta}) & = \\frac{\\left[(x-x_0)\\cos\\theta + (y-y_0)\\sin\\theta\\right]^2}{a^2} \\\\\n",
    "& + \\frac{\\left[(y-y_0)\\cos\\theta -(x-x_0)\\sin\\theta\\right]^2}{b^2} - 1 = 0\n",
    "\\end{align*}$$\n",
    "\n",
    "$$ \\bm{X} = (x,y) $$\n",
    "\n",
    "$$ \\bm{\\beta} = (x_0, y_0, a, b, \\theta) $$"
   ]
  },
  {
   "cell_type": "code",
   "execution_count": 1,
   "metadata": {},
   "outputs": [],
   "source": [
    "import matplotlib.pyplot as plt\n",
    "import numpy as np\n",
    "from matplotlib.patches import Ellipse\n",
    "\n",
    "from odrpack import odr_fit"
   ]
  },
  {
   "cell_type": "markdown",
   "metadata": {},
   "source": [
    "First, we define the observed data and the model function. "
   ]
  },
  {
   "cell_type": "code",
   "execution_count": 2,
   "metadata": {},
   "outputs": [],
   "source": [
    "# Each row represents a point (x, y) of the ellipse\n",
    "X = [[0.50, -0.12],\n",
    "     [1.20, -0.60],\n",
    "     [1.60, -1.00],\n",
    "     [1.86, -1.40],\n",
    "     [2.12, -2.54],\n",
    "     [2.36, -3.36],\n",
    "     [2.44, -4.00],\n",
    "     [2.36, -4.75],\n",
    "     [2.06, -5.25],\n",
    "     [1.74, -5.64],\n",
    "     [1.34, -5.97],\n",
    "     [0.90, -6.32],\n",
    "     [-0.28, -6.44],\n",
    "     [-0.78, -6.44],\n",
    "     [-1.36, -6.41],\n",
    "     [-1.90, -6.25],\n",
    "     [-2.50, -5.88],\n",
    "     [-2.88, -5.50],\n",
    "     [-3.18, -5.24],\n",
    "     [-3.44, -4.86]]\n",
    "\n",
    "# We need shape (2, n)\n",
    "Xdata = np.array(X).T\n",
    "\n",
    "# Ydata is not used, but is required\n",
    "Ydata = np.zeros(Xdata.shape[-1])"
   ]
  },
  {
   "cell_type": "code",
   "execution_count": 3,
   "metadata": {},
   "outputs": [],
   "source": [
    "def f(X: np.ndarray, beta: np.ndarray) -> np.ndarray:\n",
    "    x0, y0, a, b, theta = beta\n",
    "    x, y = X\n",
    "    return ((x - x0)*np.cos(theta) + (y - y0)*np.sin(theta))**2 / a**2 \\\n",
    "         + ((y - y0)*np.cos(theta) - (x - x0)*np.sin(theta))**2 / b**2 \\\n",
    "         - 1"
   ]
  },
  {
   "cell_type": "markdown",
   "metadata": {},
   "source": [
    "Then, we define a plausible initial guess $\\bm{\\beta_0}$ for the model parameters, as well as the corresponding bounds."
   ]
  },
  {
   "cell_type": "code",
   "execution_count": 4,
   "metadata": {},
   "outputs": [],
   "source": [
    "beta0 = np.array([0.0, 0.0, 1.0, 1.0, 0.0])\n",
    "\n",
    "lower = np.array([-1e2, -1e2, 0e0, 0e0, -np.pi/2])\n",
    "upper = np.array([+1e2, +1e2, 1e2, 1e2, +np.pi/2])"
   ]
  },
  {
   "cell_type": "markdown",
   "metadata": {},
   "source": [
    "Here, we expect the measurement error to be the same across both $\\bm{X}$ coordinates, so a special weighting scheme is unnecessary."
   ]
  },
  {
   "cell_type": "code",
   "execution_count": 5,
   "metadata": {},
   "outputs": [],
   "source": [
    "weight_x = 1.0"
   ]
  },
  {
   "cell_type": "markdown",
   "metadata": {},
   "source": [
    "We can now launch the regression! As the problem is implicit, we set `task='implicit-ODR'`. If you want to see a brief computation report, set `report=short`."
   ]
  },
  {
   "cell_type": "code",
   "execution_count": 6,
   "metadata": {},
   "outputs": [],
   "source": [
    "sol = odr_fit(f, Xdata, Ydata, beta0,\n",
    "              bounds=(lower, upper),\n",
    "              weight_x=weight_x,\n",
    "              task='implicit-ODR')"
   ]
  },
  {
   "cell_type": "markdown",
   "metadata": {},
   "source": [
    "The result is packed in a `OdrResult` dataclass. Let's check the solution convergence and the estimated model parameters."
   ]
  },
  {
   "cell_type": "code",
   "execution_count": 7,
   "metadata": {},
   "outputs": [
    {
     "data": {
      "text/plain": [
       "'Parameter convergence.'"
      ]
     },
     "execution_count": 7,
     "metadata": {},
     "output_type": "execute_result"
    }
   ],
   "source": [
    "sol.stopreason"
   ]
  },
  {
   "cell_type": "code",
   "execution_count": 8,
   "metadata": {},
   "outputs": [
    {
     "data": {
      "text/plain": [
       "array([-0.99938103, -2.93104802,  3.86422581,  3.15663797, -0.90359144])"
      ]
     },
     "execution_count": 8,
     "metadata": {},
     "output_type": "execute_result"
    }
   ],
   "source": [
    "sol.beta"
   ]
  },
  {
   "cell_type": "markdown",
   "metadata": {},
   "source": [
    "All fine! Let's plot the solution."
   ]
  },
  {
   "cell_type": "code",
   "execution_count": 9,
   "metadata": {},
   "outputs": [
    {
     "data": {
      "text/plain": [
       "Text(0, 0.5, 'y')"
      ]
     },
     "execution_count": 9,
     "metadata": {},
     "output_type": "execute_result"
    },
    {
     "data": {
      "image/png": "[encoded data removed]",
      "text/plain": [
       "<Figure size 640x480 with 1 Axes>"
      ]
     },
     "metadata": {},
     "output_type": "display_data"
    }
   ],
   "source": [
    "fig, ax = plt.subplots()\n",
    "\n",
    "# Plot observed data\n",
    "ax.plot(*Xdata, 'o')\n",
    "\n",
    "# Plot fitted ellipse\n",
    "x0, y0, a, b, theta = sol.beta\n",
    "ellipse = Ellipse((x0, y0), width=2*a, height=2*b, angle=np.degrees(theta),\n",
    "                  facecolor='none', edgecolor='orange', linewidth=2)\n",
    "ax.add_patch(ellipse)\n",
    "ax.set_xlabel('x')\n",
    "ax.set_ylabel('y')"
   ]
  }
 ],
 "metadata": {
  "kernelspec": {
   "display_name": ".venv",
   "language": "python",
   "name": "python3"
  },
  "language_info": {
   "codemirror_mode": {
    "name": "ipython",
    "version": 3
   },
   "file_extension": ".py",
   "mimetype": "text/x-python",
   "name": "python",
   "nbconvert_exporter": "python",
   "pygments_lexer": "ipython3",
   "version": "3.10.12"
  }
 },
 "nbformat": 4,
 "nbformat_minor": 2
}
