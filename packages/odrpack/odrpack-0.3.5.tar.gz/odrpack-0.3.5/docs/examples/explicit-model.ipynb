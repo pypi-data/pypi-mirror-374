{
 "cells": [
  {
   "cell_type": "markdown",
   "metadata": {
    "vscode": {
     "languageId": "plaintext"
    }
   },
   "source": [
    "# Explicit orthogonal regression"
   ]
  },
  {
   "cell_type": "markdown",
   "metadata": {},
   "source": [
    "Estimate the parameters of a scalar non-linear model from experimental data.\n",
    "\n",
    "$$ y = f(x, \\bm{\\beta}) =  \\frac{\\beta_1 x^2 + x (1-x)}{\\beta_1 x^2 + 2 x (1-x) + \\beta_2 (1-x)^2} $$"
   ]
  },
  {
   "cell_type": "code",
   "execution_count": 1,
   "metadata": {},
   "outputs": [],
   "source": [
    "import matplotlib.pyplot as plt\n",
    "import numpy as np\n",
    "\n",
    "from odrpack import odr_fit"
   ]
  },
  {
   "cell_type": "markdown",
   "metadata": {},
   "source": [
    "First, we define the experimental data and the model function. "
   ]
  },
  {
   "cell_type": "code",
   "execution_count": 2,
   "metadata": {},
   "outputs": [],
   "source": [
    "xdata = np.array([0.100, 0.300, 0.400, 0.500, 0.600, 0.700, 0.800])\n",
    "ydata = np.array([0.059, 0.243, 0.364, 0.486, 0.583, 0.721, 0.824])"
   ]
  },
  {
   "cell_type": "code",
   "execution_count": 3,
   "metadata": {},
   "outputs": [],
   "source": [
    "def f(x: np.ndarray, beta: np.ndarray) -> np.ndarray:\n",
    "    b1, b2 = beta\n",
    "    return (b1*x**2 + x*(1 - x))/(b1*x**2 + 2*x*(1 - x) + b2*(1 - x)**2)"
   ]
  },
  {
   "cell_type": "markdown",
   "metadata": {},
   "source": [
    "Then, we define an initial guess for the model parameters `beta` and, optionally, also the corresponding bounds."
   ]
  },
  {
   "cell_type": "code",
   "execution_count": 4,
   "metadata": {},
   "outputs": [],
   "source": [
    "beta0 = np.array([1.0, 1.0])\n",
    "\n",
    "lower = np.array([0.0, 0.0])\n",
    "upper = np.array([2.0, 2.0])"
   ]
  },
  {
   "cell_type": "markdown",
   "metadata": {},
   "source": [
    "Lastly, we define the weights for `x` and `y` based on a suitable rationale, such as the estimated uncertainty of each variable."
   ]
  },
  {
   "cell_type": "code",
   "execution_count": 5,
   "metadata": {},
   "outputs": [],
   "source": [
    "sigma_x = 0.01\n",
    "sigma_y = 0.05\n",
    "\n",
    "weight_x = 1/sigma_x**2\n",
    "weight_y = 1/sigma_y**2"
   ]
  },
  {
   "cell_type": "markdown",
   "metadata": {},
   "source": [
    "We can now launch the regression! If you want to see a brief computation report, set `report='short'`."
   ]
  },
  {
   "cell_type": "code",
   "execution_count": 6,
   "metadata": {},
   "outputs": [],
   "source": [
    "sol = odr_fit(f, xdata, ydata, beta0,\n",
    "              bounds=(lower, upper),\n",
    "              weight_x=weight_x, weight_y=weight_y)"
   ]
  },
  {
   "cell_type": "markdown",
   "metadata": {},
   "source": [
    "The result is packed in a `OdrResult` dataclass. Let's check the solution convergence and the estimated model parameters."
   ]
  },
  {
   "cell_type": "code",
   "execution_count": 7,
   "metadata": {},
   "outputs": [
    {
     "data": {
      "text/plain": [
       "'Sum of squares convergence.'"
      ]
     },
     "execution_count": 7,
     "metadata": {},
     "output_type": "execute_result"
    }
   ],
   "source": [
    "sol.stopreason"
   ]
  },
  {
   "cell_type": "code",
   "execution_count": 8,
   "metadata": {},
   "outputs": [
    {
     "data": {
      "text/plain": [
       "array([1.4291868 , 1.67473433])"
      ]
     },
     "execution_count": 8,
     "metadata": {},
     "output_type": "execute_result"
    }
   ],
   "source": [
    "sol.beta"
   ]
  },
  {
   "cell_type": "markdown",
   "metadata": {},
   "source": [
    "All fine! Let's plot the solution."
   ]
  },
  {
   "cell_type": "code",
   "execution_count": 9,
   "metadata": {},
   "outputs": [
    {
     "data": {
      "text/plain": [
       "Text(0, 0.5, 'y')"
      ]
     },
     "execution_count": 9,
     "metadata": {},
     "output_type": "execute_result"
    },
    {
     "data": {
      "image/png": "[encoded data removed]",
      "text/plain": [
       "<Figure size 640x480 with 1 Axes>"
      ]
     },
     "metadata": {},
     "output_type": "display_data"
    }
   ],
   "source": [
    "_, ax = plt.subplots()\n",
    "\n",
    "# Plot experimental data\n",
    "ax.plot(xdata, ydata, 'o')\n",
    "\n",
    "# Plot fitted model\n",
    "xm = np.linspace(0.0, 1.0, 100)\n",
    "ym = f(xm, sol.beta)\n",
    "ax.plot(xm, ym)\n",
    "ax.set_xlabel('x')\n",
    "ax.set_ylabel('y')"
   ]
  }
 ],
 "metadata": {
  "kernelspec": {
   "display_name": ".venv",
   "language": "python",
   "name": "python3"
  },
  "language_info": {
   "codemirror_mode": {
    "name": "ipython",
    "version": 3
   },
   "file_extension": ".py",
   "mimetype": "text/x-python",
   "name": "python",
   "nbconvert_exporter": "python",
   "pygments_lexer": "ipython3",
   "version": "3.10.12"
  }
 },
 "nbformat": 4,
 "nbformat_minor": 2
}
