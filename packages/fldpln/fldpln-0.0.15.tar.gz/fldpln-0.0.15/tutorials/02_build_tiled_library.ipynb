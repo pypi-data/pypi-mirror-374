{
 "cells": [
  {
   "cell_type": "markdown",
   "metadata": {},
   "source": [
    "# Build Tiled Library\n",
    "\n",
    "To speed up mapping, we will tile segment-based library where the FSP-FPP relations are organized by tiles. This task includes the following main steps:\n",
    "\n",
    "* Tile segment-based library\n",
    "* Calculate FSP and segment downstream distance\n",
    "* Assign stream order to segments and FSPs"
   ]
  },
  {
   "cell_type": "markdown",
   "metadata": {},
   "source": [
    "## Import Python Packages"
   ]
  },
  {
   "cell_type": "code",
   "execution_count": 7,
   "metadata": {},
   "outputs": [],
   "source": [
    "import os\n",
    "\n",
    "# import the tile module from the fldpln package\n",
    "from fldpln.tile import *"
   ]
  },
  {
   "cell_type": "markdown",
   "metadata": {},
   "source": [
    "## Tile Library\n",
    "\n",
    "Here we spatially divide a segment-based library into tiles. Note that tile size is the number of cells to avoid partial cells within a tile and can be used for both PCS and GCS. \n",
    "\n",
    "This process also copies the FSP and segment info CSV files to the tiled library and creates a metadata file (TileCellSizeSpatialReference.json) which stores library tile and cell sizes and spatial reference in a JSON file.\n",
    "\n",
    "**Note that this is the most time consuming process and may take hours for large libraries.**"
   ]
  },
  {
   "cell_type": "code",
   "execution_count": null,
   "metadata": {},
   "outputs": [],
   "source": [
    "# Segment-based library\n",
    "segLibFolder = 'E:/fldpln/sites/wildcat_10m_3dep/seglib'\n",
    "\n",
    "# tiled library folder\n",
    "tiledLibFolder = 'E:/fldpln/sites/wildcat_10m_3dep/tiledlib' \n",
    "\n",
    "# define tile size (number of cells) and format\n",
    "cellSize = 10\n",
    "tileSize = 500 # number of cells\n",
    "tileFileFormat = 'snappy' # 'snappy' or 'mat'\n",
    "\n",
    "# tile the library\n",
    "print(f'Tile library: {segLibFolder} ...')\n",
    "TileLibrary(segLibFolder, cellSize, tiledLibFolder,tileSize,tileFileFormat) "
   ]
  },
  {
   "cell_type": "markdown",
   "metadata": {},
   "source": [
    "## Calculate FSP and Segment Downstream Distance\n",
    "\n",
    "Here we calculate downstream distance for both FSPs and segments for use in inundation mapping. It involves the following major sub-tasks:\n",
    "* Clean up segments \n",
    "    * removes segments from the segment table if they are not in the FSP table. \n",
    "    * If a removed segment is the downstream segment of another segment in the segment table, the upstream segment ID is set to 0 (i.e., watershed outlet). \n",
    "    * Those removed segments are usually close to or in waterbodies. By removing those segments, a library may have several separate watersheds/outlets! For example, neosho has 3 separate watersheds (segment 13, 104, 186 as the outlet segments). \n",
    "* Calculate FSP and segment downstream distance (i.e., distance from outlet) using in interpolating FSP depth of water from gauges\n",
    "\n",
    "At the end, this step updates the fsp_info and segment_info CSV files by adding additional columns. "
   ]
  },
  {
   "cell_type": "code",
   "execution_count": null,
   "metadata": {},
   "outputs": [],
   "source": [
    "# tiled library folder\n",
    "tiledLibFolder = 'E:/fldpln/sites/wildcat_10m_3dep/tiledlib' \n",
    "\n",
    "print(f'Calculate FSP and segment downstream distance for tiled library: {tiledLibFolder} ...')\n",
    "CalculateFspSegmentDownstreamDistance(tiledLibFolder)"
   ]
  },
  {
   "cell_type": "markdown",
   "metadata": {},
   "source": [
    "## Assign Stream Orders to FSP and Segment CSV Files\n",
    "\n",
    "This step gets stream orders from a segment shapefile, where each segment is assigned an order automatically or manually, and add the stream orders to their FSPs and segments in the fsp_info and segment_info CSV files. \n",
    "\n",
    "It also creates a new text file, stream_order_info.csv, which stores the connectivity among stream orders with columns: [‘StrOrd’, ‘DsStrOrd’, ‘JunctionFspX’, ‘JunctionFspY’]. This information is used in DOF interpolation."
   ]
  },
  {
   "cell_type": "code",
   "execution_count": null,
   "metadata": {},
   "outputs": [],
   "source": [
    "# tiled library folder to add stream order\n",
    "tiledLibFolder= 'E:/fldpln/sites/wildcat_10m_3dep/tiledlib'\n",
    "\n",
    "# FSP and segment info CSV files\n",
    "segInfoFile = os.path.join(tiledLibFolder,segInfoFileName)\n",
    "fspInfoFile = os.path.join(tiledLibFolder,fspInfoFileName)\n",
    "\n",
    "# # segment shapefile which has the stream order manually assigned\n",
    "# shpFile = 'E:/fldpln/sites/wildcat_10m_3dep/segment_shapefiles/wildcat_segments.shp'\n",
    "# shpSegIdColName = 'grid_code'\n",
    "# shpOrdColName = 'str_ord'\n",
    "# segment shapefile which has the stream order automatically assigned\n",
    "shpFile = 'E:/fldpln/sites/wildcat_10m_3dep/segs/wildcat_segments_ord4map.shp'\n",
    "shpSegIdColName = 'segid' # or 'grid_code'\n",
    "shpOrdColName = 'strord' # strord = 'subnetwork' * 1000 + 'snetstrord'\n",
    "\n",
    "print(f'Get stream order and generate stream order network info for : {tiledLibFolder} ...')\n",
    "GetStreamOrdersForFspsSegments(tiledLibFolder,shpFile,shpSegIdColName,shpOrdColName)"
   ]
  },
  {
   "cell_type": "markdown",
   "metadata": {},
   "source": [
    "## Additional Utilities"
   ]
  },
  {
   "cell_type": "markdown",
   "metadata": {},
   "source": [
    "### Generate Segment Shapefile\n",
    "\n",
    "Create a segment shapefile from segment_info.csv file. Note that the shapefile gets its CRS from the library metadata file and has all the attributes in the segment_info CSV file."
   ]
  },
  {
   "cell_type": "code",
   "execution_count": null,
   "metadata": {},
   "outputs": [],
   "source": [
    "# import CRS from pyproj for reading WKT\n",
    "from pyproj import CRS\n",
    "\n",
    "# tiled library folder to generate segment shapefile\n",
    "tiledLibFolder= 'E:/fldpln/sites/wildcat_10m_3dep/tiledlib'\n",
    "\n",
    "# FSP and segment info CSV files\n",
    "segInfoFile = os.path.join(tiledLibFolder,segInfoFileName)\n",
    "fspInfoFile = os.path.join(tiledLibFolder,fspInfoFileName)\n",
    "\n",
    "# Read lib CRS from metadata file\n",
    "metaDataFile = os.path.join(tiledLibFolder,metaDataFileName)\n",
    "with open(metaDataFile,'r') as jf:\n",
    "    md = json.load(jf)\n",
    "srText = md['SpatialReference']\n",
    "libCrs = CRS.from_wkt(srText)\n",
    "\n",
    "# segment shapefile folder\n",
    "shpFolder = 'E:/fldpln/sites/wildcat_10m_3dep/segment_shapefiles'\n",
    "shpName = \"py_segments.shp\"\n",
    "outShpFile =  os.path.join(shpFolder,shpName)\n",
    "\n",
    "# generate segment shapefile \n",
    "print(f'Generate segment shapefile for libraries ...')\n",
    "# GenerateSegmentShapefiles(tiledLibFolder,libNames,shpFolder,shpName)\n",
    "GenerateSegmentShapefilesFromFspSegmentInfoFiles(segInfoFile, fspInfoFile, libCrs, outShpFile)"
   ]
  },
  {
   "cell_type": "markdown",
   "metadata": {},
   "source": []
  }
 ],
 "metadata": {
  "kernelspec": {
   "display_name": "base",
   "language": "python",
   "name": "python3"
  },
  "language_info": {
   "codemirror_mode": {
    "name": "ipython",
    "version": 3
   },
   "file_extension": ".py",
   "mimetype": "text/x-python",
   "name": "python",
   "nbconvert_exporter": "python",
   "pygments_lexer": "ipython3",
   "version": "3.11.9"
  }
 },
 "nbformat": 4,
 "nbformat_minor": 2
}
