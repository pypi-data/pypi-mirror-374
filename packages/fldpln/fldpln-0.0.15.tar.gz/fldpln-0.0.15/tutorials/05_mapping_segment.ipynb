{
 "cells": [
  {
   "attachments": {},
   "cell_type": "markdown",
   "metadata": {},
   "source": [
    "# Flood Inundation Mapping by Segments\n",
    "\n",
    "This notebook uses the Wildcat Creek (near Manhattan, KS) to demonstarte how to create segment-by-segment inundation map for developing FLDPLN-based synthetic rating curve (SRC) for converting the discharge into stage."
   ]
  },
  {
   "attachments": {},
   "cell_type": "markdown",
   "metadata": {},
   "source": [
    "## Import Modules and Packages\n"
   ]
  },
  {
   "cell_type": "code",
   "execution_count": 1,
   "metadata": {},
   "outputs": [],
   "source": [
    "import os\n",
    "import time\n",
    "\n",
    "# import the DASK library\n",
    "from dask.distributed import Client, LocalCluster\n",
    "from dask import visualize\n",
    "\n",
    "# import the mapping module in the fldpln package\n",
    "from fldpln.mapping import *"
   ]
  },
  {
   "cell_type": "markdown",
   "metadata": {},
   "source": [
    "## Setup Input Tiled Library and Output Folders\n",
    "\n",
    "Here we setup the folder under which tiled libraries (organized as folders) are located. We also setup the output folder under which a map sub-folder and a 'scratch' sub-folder are created. The map folder, which is specified later, contains all inundation depth maps. The scratch folder stores temporary files."
   ]
  },
  {
   "cell_type": "code",
   "execution_count": 2,
   "metadata": {},
   "outputs": [],
   "source": [
    "# tiled library folder\n",
    "libFolder =  'E:/fldpln/sites/wildcat_10m_3dep' # Wildcat\n",
    "# libFolder =  'E:/fldpln/sites/verdigris_10m/tiled_snz_library' # Cerdigris\n",
    "# library to map inundation\n",
    "libName = 'tiledlib'\n",
    "\n",
    "# Set output folder\n",
    "outputFolder = 'E:/fldpln/sites/wildcat_10m_3dep/maps'\n",
    "# outputFolder = 'E:/fldpln/sites/verdigris_10m/maps'"
   ]
  },
  {
   "cell_type": "markdown",
   "metadata": {},
   "source": [
    "## Specify Segment and Stage/DOF\n",
    "\n",
    "Based on the segment ID provided, we retrieve the FSPs on the segment and assign the FSPs with a constant stage as specified."
   ]
  },
  {
   "cell_type": "code",
   "execution_count": 3,
   "metadata": {},
   "outputs": [
    {
     "name": "stdout",
     "output_type": "stream",
     "text": [
      "     LibName  FspId  Dof\n",
      "0   tiledlib      1   10\n",
      "1   tiledlib      2   10\n",
      "2   tiledlib      3   10\n",
      "3   tiledlib      4   10\n",
      "4   tiledlib      5   10\n",
      "5   tiledlib      6   10\n",
      "6   tiledlib      7   10\n",
      "7   tiledlib      8   10\n",
      "8   tiledlib      9   10\n",
      "9   tiledlib     10   10\n",
      "10  tiledlib     11   10\n",
      "11  tiledlib     12   10\n",
      "12  tiledlib     13   10\n",
      "13  tiledlib     14   10\n",
      "14  tiledlib     15   10\n",
      "15  tiledlib     16   10\n",
      "16  tiledlib     17   10\n",
      "17  tiledlib     18   10\n",
      "18  tiledlib     19   10\n"
     ]
    },
    {
     "name": "stderr",
     "output_type": "stream",
     "text": [
      "C:\\Users\\lixi\\AppData\\Local\\Temp\\ipykernel_33240\\1554732525.py:16: SettingWithCopyWarning: \n",
      "A value is trying to be set on a copy of a slice from a DataFrame.\n",
      "Try using .loc[row_indexer,col_indexer] = value instead\n",
      "\n",
      "See the caveats in the documentation: https://pandas.pydata.org/pandas-docs/stable/user_guide/indexing.html#returning-a-view-versus-a-copy\n",
      "  segFsps.loc[:,'LibName'] = libName\n",
      "C:\\Users\\lixi\\AppData\\Local\\Temp\\ipykernel_33240\\1554732525.py:17: SettingWithCopyWarning: \n",
      "A value is trying to be set on a copy of a slice from a DataFrame.\n",
      "Try using .loc[row_indexer,col_indexer] = value instead\n",
      "\n",
      "See the caveats in the documentation: https://pandas.pydata.org/pandas-docs/stable/user_guide/indexing.html#returning-a-view-versus-a-copy\n",
      "  segFsps.loc[:,'Dof'] = dof\n"
     ]
    }
   ],
   "source": [
    "# specify segment ID and the stage/DOF\n",
    "segId=1; dof=10 # WIldcat 2-mile segment\n",
    "# segId=337; dof=25 # verdigris 2-mile segments\n",
    "# segId=135; dof=20 # verdigris 5-mile segments\n",
    "\n",
    "# Read in library FSP info CSV file\n",
    "fspFile = os.path.join(libFolder, libName, fspInfoFileName)\n",
    "fspDf = pd.read_csv(fspFile) \n",
    "# print(fspDf)\n",
    "\n",
    "# select the FSPs on the segment\n",
    "segFsps = fspDf[fspDf['SegId']==segId]\n",
    "# print(segFsps)\n",
    "\n",
    "# prepare the FSPs for mapping\n",
    "segFsps.loc[:,'LibName'] = libName\n",
    "segFsps.loc[:,'Dof'] = dof\n",
    "fspDof = segFsps[['LibName','FspId','Dof']]\n",
    "print(fspDof)"
   ]
  },
  {
   "attachments": {},
   "cell_type": "markdown",
   "metadata": {},
   "source": [
    "## Map Flood Inundation Depth\n"
   ]
  },
  {
   "cell_type": "markdown",
   "metadata": {},
   "source": [
    "### Set Mapping Parameters\n",
    "\n",
    "Setup the map folder which is under the output folder and contains all inundation depth maps. Additional settings include whether to mosaic tile maps as single COG GeoTIFF file and whether to use a Dask local cluster to speed up the mapping."
   ]
  },
  {
   "cell_type": "code",
   "execution_count": 4,
   "metadata": {},
   "outputs": [],
   "source": [
    "# set up map folder\n",
    "outMapFolderName = 'segment_' + str(segId) + '_dof_' + str(dof)\n",
    "\n",
    "# Create folders for storing temp and output map files\n",
    "outMapFolder,scratchFolder = CreateFolders(outputFolder,'scratch',outMapFolderName)\n",
    "\n",
    "# whether mosaic tiles as a single COG\n",
    "mosaicTiles = True #True #False\n",
    "\n",
    "# Using LocalCluster by default\n",
    "useLocalCluster = False # This doesn't work on my office desktop though it works fine on KBS server\n",
    "# numOfWorkers = round(0.8*os.cpu_count())\n",
    "# numOfWorkers = 6\n",
    "# print(f'Number of workers: {numOfWorkers}')"
   ]
  },
  {
   "cell_type": "markdown",
   "metadata": {},
   "source": [
    "### Map Inundation Depth\n",
    "\n",
    "Now we will generate inundation depth map for the selected segment."
   ]
  },
  {
   "cell_type": "code",
   "execution_count": 5,
   "metadata": {},
   "outputs": [
    {
     "name": "stdout",
     "output_type": "stream",
     "text": [
      "Tiled FLDPLN library folder: E:/fldpln/sites/wildcat_10m_3dep\n",
      "Map folder: E:/fldpln/sites/wildcat_10m_3dep/maps\\segment_1_dof_10\n",
      "Libraries to map: ['tiledlib']\n",
      "Map tiledlib ...\n",
      "Tiles need to be mapped: [2, 6, 7, 10]\n",
      "Actual mapped tiles: ['E:/fldpln/sites/wildcat_10m_3dep/maps\\\\segment_1_dof_10\\\\tiledlib_tile_2.tif', 'E:/fldpln/sites/wildcat_10m_3dep/maps\\\\segment_1_dof_10\\\\tiledlib_tile_6.tif', 'E:/fldpln/sites/wildcat_10m_3dep/maps\\\\segment_1_dof_10\\\\tiledlib_tile_7.tif', 'E:/fldpln/sites/wildcat_10m_3dep/maps\\\\segment_1_dof_10\\\\tiledlib_tile_10.tif']\n",
      "Mosaic tile maps ...\n",
      "Individual library mapping time: {'tiledlib': 0.023}\n",
      "Total processing time (minutes): 0.023\n"
     ]
    }
   ],
   "source": [
    "# show mapping info\n",
    "print(f'Tiled FLDPLN library folder: {libFolder}')\n",
    "print(f'Map folder: {outMapFolder}')\n",
    "# Find libs needs mapping\n",
    "libs2Map = fspDof['LibName'].drop_duplicates().tolist()\n",
    "print(f'Libraries to map: {libs2Map}')\n",
    "\n",
    "# check running time\n",
    "startTimeAllLibs = time.time()\n",
    "\n",
    "# create a local cluster to speed up the mapping. Must be run inside \"if __name__ == '__main__'\"!!!\n",
    "if useLocalCluster:\n",
    "    # cluster = LocalCluster(n_workers=4,processes=False)\n",
    "    try:\n",
    "        print('Start a LocalCluster ...')\n",
    "        # NOTE: set worker space (i.e., local_dir) to a folder that the LocalCluster can access. When run the script through a scheduled task, \n",
    "        # the system uses C:\\Windows\\system32 by default, which a typical user doesn't have the access!\n",
    "        # cluster = LocalCluster(n_workers=numOfWorkers,memory_limit='32GB',local_dir=\"D:/projects_new/fldpln/tools\") # for KARS production server (192G RAM & 8 cores)\n",
    "        # cluster = LocalCluster(n_workers=numOfWorkers,processes=False) # for KARS production server (192G RAM & 8 cores)\n",
    "        cluster = LocalCluster(n_workers=numOfWorkers,memory_limit='8GB',local_dir=\"E:\\temp\") # for office desktop (64G RAM & 8 cores)\n",
    "        # print('Watch workers at: ',cluster.dashboard_link)\n",
    "        print(f'Number of workers: {numOfWorkers}')\n",
    "        client = Client(cluster)\n",
    "        # print scheduler info\n",
    "        # print(client.scheduler_info())\n",
    "    except:\n",
    "        print('Cannot create a LocalCLuster!')\n",
    "        useLocalCluster = False\n",
    "\n",
    "# dict to store lib processing time\n",
    "libTime={}\n",
    "\n",
    "# map each library\n",
    "for libName in libs2Map:\n",
    "    # check running time\n",
    "    startTime = time.time()\n",
    "    \n",
    "    # select the FSPs within the lib\n",
    "    fspIdDof = fspDof[fspDof['LibName']==libName][['FspId','Dof']]\n",
    "\n",
    "    # mapping flood depth\n",
    "    if useLocalCluster:\n",
    "        print(f'Map [{libName}] using LocalCLuster ...')\n",
    "        # generate a DAG\n",
    "        dag,dagRoot=MapFloodDepthWithTilesAsDag(libFolder,libName,'snappy',outMapFolder,fspIdDof,aoiExtent=None)\n",
    "        if dag is None:\n",
    "            tileTifs = None\n",
    "        else:\n",
    "            # visualize DAG\n",
    "            # visualize(dag)\n",
    "            # Compute DAG\n",
    "            tileTifs = client.get(dag, dagRoot)\n",
    "            if not tileTifs: # list is empty\n",
    "                tileTifs =  None\n",
    "    else:\n",
    "        print(f'Map {libName} ...')\n",
    "        tileTifs = MapFloodDepthWithTiles(libFolder,libName,'snappy',outMapFolder,fspIdDof,aoiExtent=None)\n",
    "    print(f'Actual mapped tiles: {tileTifs}')\n",
    "\n",
    "    # Mosaic all the tiles from a library into one tif file\n",
    "    if mosaicTiles and not(tileTifs is None):\n",
    "        print('Mosaic tile maps ...')\n",
    "        mosaicTifName = libName+'_'+outMapFolderName+'.tif'\n",
    "        # Simplest implementation, may crash with very large raster\n",
    "        MosaicGtifs(outMapFolder,tileTifs,mosaicTifName,keepTifs=False)\n",
    "    \n",
    "    # check time\n",
    "    endTime = time.time()\n",
    "    usedTime = round((endTime-startTime)/60,3)\n",
    "    libTime[libName] = usedTime\n",
    "    # print(f'{libName} processing time (minutes):', usedTime)\n",
    "\n",
    "# Show processing time\n",
    "# Individual lib processing time\n",
    "print('Individual library mapping time:', libTime)\n",
    "# total time\n",
    "endTimeAllLibs = time.time()\n",
    "print('Total processing time (minutes):', round((endTimeAllLibs-startTimeAllLibs)/60,3))\n",
    "\n",
    "#\n",
    "# Shutdown local clusters\n",
    "#\n",
    "if useLocalCluster:\n",
    "    print('Shutdown LocalCluster ...')\n",
    "    cluster.close()\n",
    "    client.shutdown()\n",
    "    client.close()\n",
    "    useLocalCluster = False"
   ]
  }
 ],
 "metadata": {
  "kernelspec": {
   "display_name": "fldpln",
   "language": "python",
   "name": "python3"
  },
  "language_info": {
   "codemirror_mode": {
    "name": "ipython",
    "version": 3
   },
   "file_extension": ".py",
   "mimetype": "text/x-python",
   "name": "python",
   "nbconvert_exporter": "python",
   "pygments_lexer": "ipython3",
   "version": "3.11.9"
  }
 },
 "nbformat": 4,
 "nbformat_minor": 4
}
