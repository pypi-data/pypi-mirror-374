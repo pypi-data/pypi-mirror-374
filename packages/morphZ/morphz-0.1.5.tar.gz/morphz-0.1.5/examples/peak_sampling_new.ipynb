{
 "cells": [
  {
   "cell_type": "code",
   "execution_count": 1,
   "metadata": {},
   "outputs": [],
   "source": [
    "import numpy as np\n",
    "import matplotlib.pyplot as plt\n",
    "from scipy.stats import beta\n",
    "from scipy.special import logsumexp\n",
    "\n",
    "from scipy.special import logsumexp\n",
    "from scipy.signal import correlate\n",
    "from statsmodels.tsa.stattools import acf\n",
    "import morphZ\n",
    "import corner"
   ]
  },
  {
   "cell_type": "code",
   "execution_count": 2,
   "metadata": {},
   "outputs": [],
   "source": [
    "\n",
    "def log_plus(x,y):\n",
    "    \n",
    "    if x > y:\n",
    "      summ = x + np.log(1+np.exp(y-x))\n",
    "    else:\n",
    "        summ = y + np.log(1+np.exp(x-y))\n",
    "    return summ\n",
    "\n",
    "def log_sum(vec): \n",
    "    r = -np.Inf\n",
    "    for i in range(len(vec)):\n",
    "       #print('element:',vec[i])\n",
    "       r =log_plus(r, vec[i])\n",
    "       #print(r)\n",
    "    return r\n",
    "\n"
   ]
  },
  {
   "cell_type": "code",
   "execution_count": 3,
   "metadata": {},
   "outputs": [],
   "source": [
    "\n",
    "def lnlikefn(x):\n",
    "        u = 0.01\n",
    "        v = 0.1\n",
    "        x1 = np.sum(-(x**2)/(2*v**2))-len(x)*np.log(np.sqrt(2*np.pi)*v)\n",
    "        #print(x1)\n",
    "        x2 = np.sum(-((x-0)**2)/(2*u**2))-len(x)*np.log(np.sqrt(2*np.pi)*u)#+np.log(100)\n",
    "        #print(x2)\n",
    "        return log_plus(x1,x2)\n",
    "\n",
    "def lnpriorfn(x):\n",
    "\n",
    "    if np.any((x < -0.5) | (x > 0.5)):  # Check if x is outside the cube\n",
    "        return -np.inf \n",
    "\n",
    "    return 0.0 \n",
    "\n",
    "def lnprobfn(x):\n",
    "    return lnlikefn(x) + lnpriorfn(x)\n",
    "\n"
   ]
  },
  {
   "cell_type": "code",
   "execution_count": 4,
   "metadata": {},
   "outputs": [
    {
     "name": "stderr",
     "output_type": "stream",
     "text": [
      "15314it [00:24, 626.64it/s, +260 | bound: 370 | nc: 1 | ncall: 483039 | eff(%):  3.226 | loglstar:   -inf < 47.735 <    inf | logz:  0.463 +/-  0.313 | dlogz:  0.000 >  0.000]\n"
     ]
    }
   ],
   "source": [
    "import numpy as np\n",
    "import dynesty\n",
    "from dynesty import utils as dyfunc\n",
    "\n",
    "ndim = 13  # number of parameters/dimensions\n",
    "nlive = 20 * ndim  # number of live points (analogous to nwalkers)\n",
    "\n",
    "\n",
    "\n",
    "# Define the prior transform: maps a unit cube (0,1) to the prior volume.\n",
    "# For a uniform prior between -0.5 and 0.5 for each parameter:\n",
    "def prior_transform(u):\n",
    "    # u is a 1D array of ndim values in [0, 1]\n",
    "    return -0.5 + u  # scales u to [-0.5, 0.5]\n",
    "\n",
    "# Create the nested sampler instance.\n",
    "\n",
    "# Run the nested sampling.\n",
    "# Note: print_progress=True shows the progress.\n",
    "NN = 1\n",
    "\n",
    "log_z_NS = np.zeros(NN)\n",
    "log_z_NS_err = np.zeros(NN)\n",
    "\n",
    "for i in range(NN):\n",
    "    sampler = dynesty.NestedSampler(lnlikefn, prior_transform, ndim, nlive=nlive)\n",
    "    sampler.run_nested(dlogz=0.00001, maxiter=2000000,print_progress=True)\n",
    "    res = sampler.results\n",
    "    log_z_NS[i] = res.logz[-1]\n",
    "    log_z_NS_err[i] = res.logzerr[-1]\n",
    "\n",
    "\n",
    "# Get posterior samples.\n",
    "# dynesty provides weighted samples; here we compute equal-weight samples.\n",
    "samples, weights = res.samples, np.exp(res.logwt - res.logz[-1])\n",
    "posterior_samples = dyfunc.resample_equal(samples, weights)\n",
    "\n"
   ]
  },
  {
   "cell_type": "code",
   "execution_count": 5,
   "metadata": {},
   "outputs": [
    {
     "name": "stdout",
     "output_type": "stream",
     "text": [
      "Posterior samples shape: (15574, 13)\n",
      "NS log(z): 0.4632904969462222 +/- 0.31332332355612275\n"
     ]
    },
    {
     "data": {
      "image/png": "[encoded data removed]",
      "text/plain": [
       "<Figure size 640x480 with 1 Axes>"
      ]
     },
     "metadata": {},
     "output_type": "display_data"
    }
   ],
   "source": [
    "print(\"Posterior samples shape:\", posterior_samples.shape)\n",
    "plt.hist(posterior_samples[:,4],color='black',density=True ,bins=100,label='NS samples')\n",
    "plt.hist(samples[:,4],color='red',density=True ,bins=100,alpha=0.5,label='thinned samples')\n",
    "# plt.hist(tree_samples[:,2],color='blue',density=True ,bins=100,alpha=0.5,label='tree samples')\n",
    "\n",
    "plt.legend()\n",
    "print(f'NS log(z): {res.logz[-1]} +/- {res.logzerr[-1]}')\n"
   ]
  },
  {
   "cell_type": "code",
   "execution_count": 11,
   "metadata": {},
   "outputs": [
    {
     "name": "stdout",
     "output_type": "stream",
     "text": [
      "Total samples: 3894 Dimensions: 13\n",
      "\n",
      "Using independent KDE for proposal distribution.\n",
      "BW file not found at ./morphZ_peak_sampling_new/bw_cv_iso_1D.json. Running Bw with cv_iso...\n",
      "Bandwidths saved to ./morphZ_peak_sampling_new/bw_cv_iso_1D.json\n",
      "\n",
      "Estimation 1/5\n",
      "Evaluating target distribution: 5000/5000\n",
      "Filtered proposal samples: 5000 valid samples out of 5000 total samples.\n",
      " iteration: 3 log(z) old: 0.6828180241127733 log(z) New: 0.6827823108569933\n",
      "Converged in 3 iterations. log(z): 0.6828 +/-: 0.0651\n",
      "Estimation 2/5\n",
      "Evaluating target distribution: 5000/5000\n",
      "Filtered proposal samples: 5000 valid samples out of 5000 total samples.\n",
      " iteration: 4 log(z) old: 0.6405765742047853 log(z) New: 0.6405727232054446\n",
      "Converged in 4 iterations. log(z): 0.6406 +/-: 0.0663\n",
      "Estimation 3/5\n",
      "Evaluating target distribution: 5000/5000\n",
      "Filtered proposal samples: 5000 valid samples out of 5000 total samples.\n",
      " iteration: 3 log(z) old: 0.6349666463993318 log(z) New: 0.6349717607062759\n",
      "Converged in 3 iterations. log(z): 0.6350 +/-: 0.0651\n",
      "Estimation 4/5\n",
      "Evaluating target distribution: 5000/5000\n",
      "Filtered proposal samples: 5000 valid samples out of 5000 total samples.\n",
      " iteration: 4 log(z) old: 0.544416098060065 log(z) New: 0.54443220503860524\n",
      "Converged in 4 iterations. log(z): 0.5444 +/-: 0.0657\n",
      "Estimation 5/5\n",
      "Evaluating target distribution: 5000/5000\n",
      "Filtered proposal samples: 5000 valid samples out of 5000 total samples.\n",
      " iteration: 3 log(z) old: 0.6305200105691586 log(z) New: 0.6305015759644492\n",
      "Converged in 3 iterations. log(z): 0.6305 +/-: 0.0659\n",
      "Saved log(z) to ./morphZ_peak_sampling_new/logz_morph_z_indep_cv_iso.txt\n",
      "True for 1 amp peak: 0.6931471805599453\n"
     ]
    }
   ],
   "source": [
    "samples = posterior_samples[::4,:]  # total_samples[::20,:]\n",
    "tot_len , ndim = samples.shape\n",
    "print('Total samples:', tot_len, 'Dimensions:', ndim)\n",
    "log_prob = np.zeros(tot_len)\n",
    "\n",
    "for i in range(tot_len):\n",
    "    log_prob[i] = lnprobfn(samples[i,:])\n",
    "\n",
    "log_p_estimate = morphZ.evidence(\n",
    "samples,\n",
    "log_prob,\n",
    "lnprobfn,\n",
    "n_resamples=5000,\n",
    "thin=1,n_estimations=5,morph_type=\"indep\",kde_bw=\"cv_iso\" ,output_path='./morphZ_peak_sampling_new')\n",
    "#print('True:', np.log(2))\n",
    "print('True for 1 amp peak:', np.log(2))\n"
   ]
  },
  {
   "cell_type": "code",
   "execution_count": 7,
   "metadata": {},
   "outputs": [
    {
     "data": {
      "text/plain": [
       "8385"
      ]
     },
     "execution_count": 7,
     "metadata": {},
     "output_type": "execute_result"
    }
   ],
   "source": [
    "from math import comb\n",
    "\n",
    "comb(130,2)"
   ]
  },
  {
   "cell_type": "code",
   "execution_count": 8,
   "metadata": {},
   "outputs": [
    {
     "data": {
      "text/plain": [
       "<matplotlib.legend.Legend at 0x772478a16630>"
      ]
     },
     "execution_count": 8,
     "metadata": {},
     "output_type": "execute_result"
    },
    {
     "data": {
      "image/png": "[encoded data removed]",
      "text/plain": [
       "<Figure size 1000x700 with 1 Axes>"
      ]
     },
     "metadata": {},
     "output_type": "display_data"
    }
   ],
   "source": [
    "fig = plt.figure(figsize =(10, 7))\n",
    "ax = fig.add_subplot(111)\n",
    "\n",
    "log_p_estimate = np.array(log_p_estimate)\n",
    "true_z = np.log(2)\n",
    "plt.hlines(y=true_z,colors='grey',linestyle='dotted',xmin=0.5, xmax=5.5,label='True log(z)')\n",
    "\n",
    "x1= [1,2,3,4]\n",
    "#median = [np.mean(z_GSS_mcmc),res.logz[-1],np.mean(log_p_estimate)]\n",
    "#error = [np.std(z_GSS_mcmc),res.logzerr[-1],np.std(log_p_estimate)]\n",
    "median = [np.mean(log_z_NS),np.mean(log_z_NS),np.mean(log_p_estimate[:,0]),np.mean(log_p_estimate[:,0])]\n",
    "error = [np.mean(log_z_NS),np.mean(log_z_NS_err),np.std(log_p_estimate[:,0]),np.mean(log_p_estimate[:,1])]\n",
    "ax.errorbar(x1, median, yerr=error, fmt='+', color='black', capsize=5)\n",
    "\n",
    "\n",
    "ax.set_xticks(x1,labels=[r'NS$_{Emp}$',r'NS$_{Theo}$', r'Morph$_{Emp}$',r'Morph$_{RMSE}$'],fontsize=10)\n",
    "ax.set_ylabel('log(z)')\n",
    "ax.legend()"
   ]
  },
  {
   "cell_type": "code",
   "execution_count": 9,
   "metadata": {},
   "outputs": [
    {
     "name": "stdout",
     "output_type": "stream",
     "text": [
      "Ncal 3115 Ndim 13, log prob 3115\n"
     ]
    },
    {
     "ename": "NameError",
     "evalue": "name 'KDE_approx' is not defined",
     "output_type": "error",
     "traceback": [
      "\u001b[0;31m---------------------------------------------------------------------------\u001b[0m",
      "\u001b[0;31mNameError\u001b[0m                                 Traceback (most recent call last)",
      "Cell \u001b[0;32mIn[9], line 14\u001b[0m\n\u001b[1;32m     12\u001b[0m \u001b[38;5;28mprint\u001b[39m(\u001b[38;5;124mf\u001b[39m\u001b[38;5;124m'\u001b[39m\u001b[38;5;124mNcal \u001b[39m\u001b[38;5;132;01m{\u001b[39;00mtot_len\u001b[38;5;132;01m}\u001b[39;00m\u001b[38;5;124m Ndim \u001b[39m\u001b[38;5;132;01m{\u001b[39;00mndim\u001b[38;5;132;01m}\u001b[39;00m\u001b[38;5;124m, log prob \u001b[39m\u001b[38;5;132;01m{\u001b[39;00m\u001b[38;5;28mlen\u001b[39m(log_prob)\u001b[38;5;132;01m}\u001b[39;00m\u001b[38;5;124m'\u001b[39m)\n\u001b[1;32m     13\u001b[0m N_new \u001b[38;5;241m=\u001b[39m \u001b[38;5;241m10000\u001b[39m\n\u001b[0;32m---> 14\u001b[0m target_kde \u001b[38;5;241m=\u001b[39m KDE_approx(samples[:\u001b[38;5;28mint\u001b[39m(tot_len\u001b[38;5;241m/\u001b[39m\u001b[38;5;241m2\u001b[39m),:])\n\u001b[1;32m     16\u001b[0m NN \u001b[38;5;241m=\u001b[39m \u001b[38;5;241m25\u001b[39m\n\u001b[1;32m     17\u001b[0m log_p_estimate \u001b[38;5;241m=\u001b[39m np\u001b[38;5;241m.\u001b[39mzeros((NN,\u001b[38;5;241m3\u001b[39m))\n",
      "\u001b[0;31mNameError\u001b[0m: name 'KDE_approx' is not defined"
     ]
    }
   ],
   "source": [
    "\n",
    "# for row in total_samples: \n",
    "#     np.random.shuffle(row)\n",
    "    \n",
    "samples = posterior_samples[::5,:]  # total_samples[::20,:]\n",
    "tot_len , ndim = samples.shape\n",
    "log_prob = np.zeros(tot_len)\n",
    "\n",
    "for i in range(tot_len):\n",
    "    log_prob[i] = lnprobfn(samples[i,:])\n",
    "\n",
    "\n",
    "print(f'Ncal {tot_len} Ndim {ndim}, log prob {len(log_prob)}')\n",
    "N_new = 10000\n",
    "target_kde = KDE_approx(samples[:int(tot_len/2),:])\n",
    "\n",
    "NN = 25\n",
    "log_p_estimate = np.zeros((NN,3))\n",
    "samples_mor = samples[int(tot_len/2):,:]\n",
    "log_post = log_prob[int(tot_len/2):]\n",
    "print(samples_mor.shape)\n",
    "\n",
    "for gg in range(NN):\n",
    "    print(f\"Iteration : {gg+1}\\n\",end=\"\")\n",
    "    samples_prop = target_kde.resample(N_new)\n",
    "    log_prop = target_kde.logpdf_kde(samples_prop)\n",
    "\n",
    "    log_p_estimate[gg,:] , log_z = bridge_sampling_ln(lnprobfn, target_kde.logpdf_kde, samples_mor,log_post, samples_prop)\n",
    "\n",
    "print(f'\\n true:{np.log(2)}' )"
   ]
  }
 ],
 "metadata": {
  "kernelspec": {
   "display_name": "pta",
   "language": "python",
   "name": "python3"
  },
  "language_info": {
   "codemirror_mode": {
    "name": "ipython",
    "version": 3
   },
   "file_extension": ".py",
   "mimetype": "text/x-python",
   "name": "python",
   "nbconvert_exporter": "python",
   "pygments_lexer": "ipython3",
   "version": "3.12.2"
  }
 },
 "nbformat": 4,
 "nbformat_minor": 2
}
