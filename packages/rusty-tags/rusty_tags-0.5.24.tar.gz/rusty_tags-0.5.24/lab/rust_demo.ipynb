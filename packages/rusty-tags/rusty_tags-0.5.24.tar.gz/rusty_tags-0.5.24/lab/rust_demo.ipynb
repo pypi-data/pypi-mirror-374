{
  "cells": [
    {
      "cell_type": "raw",
      "metadata": {
        "vscode": {
          "languageId": "raw"
        }
      },
      "source": [
        "# 🚀 Rust HTML Tags Demo\n",
        "\n",
        "Testing our Rust-based HTML generation system with a complex, realistic webpage structure.\n",
        "\n",
        "This notebook demonstrates the power and performance of our Rust implementation with deeply nested HTML structures.\n"
      ]
    },
    {
      "cell_type": "code",
      "execution_count": 1,
      "metadata": {},
      "outputs": [
        {
          "name": "stdout",
          "output_type": "stream",
          "text": [
            "Generated HTML (3513 characters):\n",
            "==================================================\n",
            "<div id=\"app\" class=\"page-wrapper\"><div id=\"header\" class=\"header\"><div class=\"container header-content\"><h1 class=\"logo\">🚀 Rust HTML Generator</h1><ul class=\"nav-list\"><li><a class=\"nav-link\" href=\"#home\">Home</a></li><li><a href=\"#features\" class=\"nav-link\">Features</a></li><li><a href=\"#performance\" class=\"nav-link\">Performance</a></li><li><a href=\"#contact\" class=\"nav-link\">Contact</a></li></ul></div></div><div class=\"hero\" id=\"home\"><div class=\"container hero-content\"><h1 class=\"hero-title\">Lightning Fast HTML Generation</h1><p class=\"hero-subtitle\">Built with <strong>Rust</strong> and <em>PyO3</em> for maximum performance and safety.</p><div class=\"hero-buttons\"><button class=\"btn btn-primary\" type=\"button\">Get Started</button><button class=\"btn btn-secondary\" type=\"button\">View Source</button></div></div></div><div id=\"features\" class=\"features section\"><div class=\"container\"><h2 class=\"section-title\">✨ Features</h2><div class=\"features-grid\"><div class=\"card\"><div class=\"card-body\"><h3 class=\"card-title\">⚡ Performance</h3><p class=\"card-text\">10-100x faster than pure Python implementations</p><ul><li>Zero-cost abstractions</li><li>Memory efficient</li><li>Parallel processing ready</li></ul></div></div><div class=\"card\"><div class=\"card-body\"><h3 class=\"card-title\">🛡️ Safety</h3><p class=\"card-text\">Compile-time guarantees and memory safety</p><ul><li>No runtime errors</li><li>Type safety</li><li>Memory leak prevention</li></ul></div></div><div class=\"card\"><div class=\"card-body\"><h3 class=\"card-title\">🔧 Compatibility</h3><p class=\"card-text\">Drop-in replacement for existing Python HTML generators</p><ul><li>Python-compatible API</li><li>Same attribute mapping</li><li>Identical output format</li></ul></div></div></div></div></div><div class=\"performance section\" id=\"performance\"><div class=\"container\"><h2 class=\"section-title\">📊 Performance Metrics</h2><table border=\"1\" class=\"performance-table\"><tr class=\"table-header\"><th>Operation</th><th>Python Time</th><th>Rust Time</th><th>Speedup</th></tr><tr><td>1000 Simple Tags</td><td>45.2ms</td><td><strong class=\"highlight\">2.1ms</strong></td><td class=\"speedup\">21.5x</td></tr><tr><td>Complex Nested Structure</td><td>123.7ms</td><td><strong class=\"highlight\">8.4ms</strong></td><td class=\"speedup\">14.7x</td></tr><tr><td>Attribute Processing</td><td>28.9ms</td><td><strong class=\"highlight\">0.9ms</strong></td><td class=\"speedup\">32.1x</td></tr></table></div></div><div id=\"contact\" class=\"contact section\"><div class=\"container\"><h2 class=\"section-title\">📧 Get In Touch</h2><form class=\"contact-form\" method=\"post\" action=\"/contact\"><div class=\"form-group\"><label for=\"name\" class=\"form-label\">Name:</label><input name=\"name\" type=\"text\" id=\"name\" required=\"true\" class=\"form-input\"></input></div><div class=\"form-group\"><label class=\"form-label\" for=\"email\">Email:</label><input required=\"true\" type=\"email\" id=\"email\" name=\"email\" class=\"form-input\"></input></div><div class=\"form-group\"><label for=\"message\" class=\"form-label\">Message:</label><input name=\"message\" placeholder=\"Your message here...\" id=\"message\" type=\"text\" class=\"form-input\"></input></div><div class=\"form-actions\"><button type=\"submit\" class=\"btn btn-primary\">Send Message</button></div></form></div></div><div class=\"footer\"><div class=\"container footer-content\"><p>Built with ❤️ using <a target=\"_blank\" href=\"https://rust-lang.org\">Rust</a> and <a href=\"https://pyo3.rs\" target=\"_blank\">PyO3</a>. © 2024 Rust HTML Generator.</p></div></div></div>\n",
            "==================================================\n",
            "\n",
            "Structure Analysis:\n",
            "• Total characters: 3513\n",
            "• HTML elements: ~195 tags\n",
            "• Nested depth: 8-10 levels deep\n",
            "• Tags used: Div, H1-H3, P, Ul, Li, A, Strong, Em, Button, Table, Tr, Th, Td, Form, Label, Input\n",
            "• Features: Navigation, Hero section, Feature cards, Performance table, Contact form\n"
          ]
        }
      ],
      "source": [
        "# Import the Rust HTML generation system\n",
        "from rusty_tags import *\n",
        "\n",
        "# Create a complex, deeply nested webpage structure\n",
        "webpage = Div(\n",
        "    # Header section\n",
        "    Div(\n",
        "        Div(\n",
        "            H1(\"🚀 Rust HTML Generator\", cls=\"logo\"),\n",
        "            Ul(\n",
        "                Li(A(\"Home\", href=\"#home\", cls=\"nav-link\")),\n",
        "                Li(A(\"Features\", href=\"#features\", cls=\"nav-link\")),\n",
        "                Li(A(\"Performance\", href=\"#performance\", cls=\"nav-link\")),\n",
        "                Li(A(\"Contact\", href=\"#contact\", cls=\"nav-link\")),\n",
        "                cls=\"nav-list\"\n",
        "            ),\n",
        "            cls=\"container header-content\"\n",
        "        ),\n",
        "        cls=\"header\",\n",
        "        id=\"header\"\n",
        "    ),\n",
        "    \n",
        "    # Hero section\n",
        "    Div(\n",
        "        Div(\n",
        "            H1(\"Lightning Fast HTML Generation\", cls=\"hero-title\"),\n",
        "            P(\n",
        "                \"Built with \",\n",
        "                Strong(\"Rust\"),\n",
        "                \" and \",\n",
        "                Em(\"PyO3\"),\n",
        "                \" for maximum performance and safety.\",\n",
        "                cls=\"hero-subtitle\"\n",
        "            ),\n",
        "            Div(\n",
        "                Button(\"Get Started\", cls=\"btn btn-primary\", type=\"button\"),\n",
        "                Button(\"View Source\", cls=\"btn btn-secondary\", type=\"button\"),\n",
        "                cls=\"hero-buttons\"\n",
        "            ),\n",
        "            cls=\"container hero-content\"\n",
        "        ),\n",
        "        cls=\"hero\",\n",
        "        id=\"home\"\n",
        "    ),\n",
        "    \n",
        "    # Features section\n",
        "    Div(\n",
        "        Div(\n",
        "            H2(\"✨ Features\", cls=\"section-title\"),\n",
        "            Div(\n",
        "                # Feature cards\n",
        "                Div(\n",
        "                    Div(\n",
        "                        H3(\"⚡ Performance\", cls=\"card-title\"),\n",
        "                        P(\"10-100x faster than pure Python implementations\", cls=\"card-text\"),\n",
        "                        Ul(\n",
        "                            Li(\"Zero-cost abstractions\"),\n",
        "                            Li(\"Memory efficient\"),\n",
        "                            Li(\"Parallel processing ready\")\n",
        "                        ),\n",
        "                        cls=\"card-body\"\n",
        "                    ),\n",
        "                    cls=\"card\"\n",
        "                ),\n",
        "                Div(\n",
        "                    Div(\n",
        "                        H3(\"🛡️ Safety\", cls=\"card-title\"),\n",
        "                        P(\"Compile-time guarantees and memory safety\", cls=\"card-text\"),\n",
        "                        Ul(\n",
        "                            Li(\"No runtime errors\"),\n",
        "                            Li(\"Type safety\"),\n",
        "                            Li(\"Memory leak prevention\")\n",
        "                        ),\n",
        "                        cls=\"card-body\"\n",
        "                    ),\n",
        "                    cls=\"card\"\n",
        "                ),\n",
        "                Div(\n",
        "                    Div(\n",
        "                        H3(\"🔧 Compatibility\", cls=\"card-title\"),\n",
        "                        P(\"Drop-in replacement for existing Python HTML generators\", cls=\"card-text\"),\n",
        "                        Ul(\n",
        "                            Li(\"Python-compatible API\"),\n",
        "                            Li(\"Same attribute mapping\"),\n",
        "                            Li(\"Identical output format\")\n",
        "                        ),\n",
        "                        cls=\"card-body\"\n",
        "                    ),\n",
        "                    cls=\"card\"\n",
        "                ),\n",
        "                cls=\"features-grid\"\n",
        "            ),\n",
        "            cls=\"container\"\n",
        "        ),\n",
        "        cls=\"features section\",\n",
        "        id=\"features\"\n",
        "    ),\n",
        "    \n",
        "    # Performance metrics table\n",
        "    Div(\n",
        "        Div(\n",
        "            H2(\"📊 Performance Metrics\", cls=\"section-title\"),\n",
        "            Table(\n",
        "                # Table header\n",
        "                Tr(\n",
        "                    Th(\"Operation\"),\n",
        "                    Th(\"Python Time\"),\n",
        "                    Th(\"Rust Time\"),\n",
        "                    Th(\"Speedup\"),\n",
        "                    cls=\"table-header\"\n",
        "                ),\n",
        "                # Table rows\n",
        "                Tr(\n",
        "                    Td(\"1000 Simple Tags\"),\n",
        "                    Td(\"45.2ms\"),\n",
        "                    Td(Strong(\"2.1ms\", cls=\"highlight\")),\n",
        "                    Td(\"21.5x\", cls=\"speedup\")\n",
        "                ),\n",
        "                Tr(\n",
        "                    Td(\"Complex Nested Structure\"),\n",
        "                    Td(\"123.7ms\"),\n",
        "                    Td(Strong(\"8.4ms\", cls=\"highlight\")),\n",
        "                    Td(\"14.7x\", cls=\"speedup\")\n",
        "                ),\n",
        "                Tr(\n",
        "                    Td(\"Attribute Processing\"),\n",
        "                    Td(\"28.9ms\"),\n",
        "                    Td(Strong(\"0.9ms\", cls=\"highlight\")),\n",
        "                    Td(\"32.1x\", cls=\"speedup\")\n",
        "                ),\n",
        "                cls=\"performance-table\",\n",
        "                border=\"1\"\n",
        "            ),\n",
        "            cls=\"container\"\n",
        "        ),\n",
        "        cls=\"performance section\",\n",
        "        id=\"performance\"\n",
        "    ),\n",
        "    \n",
        "    # Contact form\n",
        "    Div(\n",
        "        Div(\n",
        "            H2(\"📧 Get In Touch\", cls=\"section-title\"),\n",
        "            Form(\n",
        "                Div(\n",
        "                    Label(\"Name:\", _for=\"name\", cls=\"form-label\"),\n",
        "                    Input(type=\"text\", id=\"name\", name=\"name\", cls=\"form-input\", required=\"true\"),\n",
        "                    cls=\"form-group\"\n",
        "                ),\n",
        "                Div(\n",
        "                    Label(\"Email:\", _for=\"email\", cls=\"form-label\"),\n",
        "                    Input(type=\"email\", id=\"email\", name=\"email\", cls=\"form-input\", required=\"true\"),\n",
        "                    cls=\"form-group\"\n",
        "                ),\n",
        "                Div(\n",
        "                    Label(\"Message:\", _for=\"message\", cls=\"form-label\"),\n",
        "                    Input(type=\"text\", id=\"message\", name=\"message\", cls=\"form-input\", placeholder=\"Your message here...\"),\n",
        "                    cls=\"form-group\"\n",
        "                ),\n",
        "                Div(\n",
        "                    Button(\"Send Message\", type=\"submit\", cls=\"btn btn-primary\"),\n",
        "                    cls=\"form-actions\"\n",
        "                ),\n",
        "                action=\"/contact\",\n",
        "                method=\"post\",\n",
        "                cls=\"contact-form\"\n",
        "            ),\n",
        "            cls=\"container\"\n",
        "        ),\n",
        "        cls=\"contact section\",\n",
        "        id=\"contact\"\n",
        "    ),\n",
        "    \n",
        "    # Footer\n",
        "    Div(\n",
        "        Div(\n",
        "            P(\n",
        "                \"Built with ❤️ using \",\n",
        "                A(\"Rust\", href=\"https://rust-lang.org\", target=\"_blank\"),\n",
        "                \" and \",\n",
        "                A(\"PyO3\", href=\"https://pyo3.rs\", target=\"_blank\"),\n",
        "                \". © 2024 Rust HTML Generator.\"\n",
        "            ),\n",
        "            cls=\"container footer-content\"\n",
        "        ),\n",
        "        cls=\"footer\"\n",
        "    ),\n",
        "    \n",
        "    cls=\"page-wrapper\",\n",
        "    id=\"app\"\n",
        ")\n",
        "\n",
        "# Render and display the complete webpage\n",
        "html_output = webpage.render()\n",
        "print(f\"Generated HTML ({len(html_output)} characters):\")\n",
        "print(\"=\" * 50)\n",
        "print(html_output)\n",
        "print(\"=\" * 50)\n",
        "print(f\"\\nStructure Analysis:\")\n",
        "print(f\"• Total characters: {len(html_output)}\")\n",
        "print(f\"• HTML elements: ~{len(html_output.split('<'))} tags\")\n",
        "print(f\"• Nested depth: 8-10 levels deep\")\n",
        "print(f\"• Tags used: Div, H1-H3, P, Ul, Li, A, Strong, Em, Button, Table, Tr, Th, Td, Form, Label, Input\")\n",
        "print(f\"• Features: Navigation, Hero section, Feature cards, Performance table, Contact form\")\n"
      ]
    },
    {
      "cell_type": "code",
      "execution_count": 2,
      "metadata": {},
      "outputs": [
        {
          "data": {
            "text/plain": [
              "'<span class=\"text-blue-500 text-2xl\" open data-text=\"$count % 2 === 0\" data-on-click.debounce.500ms=\"$count++\">Hello, world!</span>'"
            ]
          },
          "execution_count": 2,
          "metadata": {},
          "output_type": "execute_result"
        }
      ],
      "source": [
        "Span(\n",
        "    \"Hello, world!\",text=\"$count % 2 === 0\", on_click__debounce_500ms=\"$count++\",cls=\"text-blue-500 text-2xl\", open=True\n",
        ").render()"
      ]
    },
    {
      "cell_type": "code",
      "execution_count": 3,
      "metadata": {},
      "outputs": [
        {
          "data": {
            "text/plain": [
              "'<span class=\"text-blue-500 text-2xl\" open data-show=\"true\" data-text=\"$count % 2 === 0\">Hello, world!</span>'"
            ]
          },
          "execution_count": 3,
          "metadata": {},
          "output_type": "execute_result"
        }
      ],
      "source": [
        "Span(\n",
        "    \"Hello, world!\",text=\"$count % 2 === 0\", show=True, cls=\"text-blue-500 text-2xl\", open=True\n",
        ").render()"
      ]
    },
    {
      "cell_type": "code",
      "execution_count": 4,
      "metadata": {},
      "outputs": [
        {
          "data": {
            "text/plain": [
              "'<!doctype html><html class=\"bg-background text-foreground font-sans antialiased\"><head><title>Hello, world!</title><script src=\"https://cdn.jsdelivr.net/gh/starfederation/datastar@main/bundles/datastar.js\" type=\"module\"></script><link rel=\"stylesheet\" href=\"https://cdn.jsdelivr.net/npm/franken-ui@2.1.0-next.18/dist/css/core.min.css\"></link><link rel=\"stylesheet\" href=\"https://cdn.jsdelivr.net/npm/franken-ui@2.1.0-next.18/dist/css/utilities.min.css\"></link><script src=\"https://cdn.jsdelivr.net/npm/franken-ui@2.1.0-next.18/dist/js/core.iife.js\" type=\"module\"></script><script type=\"module\" src=\"https://cdn.jsdelivr.net/npm/franken-ui@2.1.0-next.18/dist/js/icon.iife.js\"></script><script src=\"https://cdn.jsdelivr.net/gh/starfederation/datastar@main/bundles/datastar.js\" type=\"module\"></script></head><body class=\"h-screen p-16 bg-white text-foreground font-sans antialiased\"><div><h1 class=\"uk-h1\">Hello, world!</h1></div></body></html>'"
            ]
          },
          "execution_count": 4,
          "metadata": {},
          "output_type": "execute_result"
        }
      ],
      "source": [
        "from rusty_tags.utils import create_template, page_template\n",
        "\n",
        "hdrs = (\n",
        "    Script(src=\"https://cdn.jsdelivr.net/gh/starfederation/datastar@main/bundles/datastar.js\", type=\"module\"),\n",
        "    Link(rel='stylesheet', href='https://cdn.jsdelivr.net/npm/franken-ui@2.1.0-next.18/dist/css/core.min.css'),\n",
        "    Link(rel='stylesheet', href='https://cdn.jsdelivr.net/npm/franken-ui@2.1.0-next.18/dist/css/utilities.min.css'),\n",
        "    Script(src='https://cdn.jsdelivr.net/npm/franken-ui@2.1.0-next.18/dist/js/core.iife.js', type='module'),\n",
        "    Script(src='https://cdn.jsdelivr.net/npm/franken-ui@2.1.0-next.18/dist/js/icon.iife.js', type='module')\n",
        ")\n",
        "htmlkws = dict(cls=\"bg-background text-foreground font-sans antialiased\")\n",
        "\n",
        "bodykws = dict(cls=\"h-screen p-16 bg-white text-foreground font-sans antialiased\")\n",
        "page = create_template(hdrs=hdrs, htmlkw=htmlkws, bodykw=bodykws)\n",
        "template = page_template(hdrs=hdrs, htmlkw=htmlkws, bodykw=bodykws)\n",
        "\n",
        "@page(title=\"Hello, world!\")\n",
        "def index():\n",
        "    return Div(\n",
        "        H1(\"Hello, world!\", cls=\"uk-h1\"),\n",
        "    )\n",
        "\n",
        "indexPage = index()\n",
        "indexPage.render()"
      ]
    },
    {
      "cell_type": "code",
      "execution_count": 5,
      "metadata": {},
      "outputs": [],
      "source": [
        "from IPython.display import HTML\n",
        "def show(html: HtmlString):\n",
        "    return HTML(html.render())\n"
      ]
    },
    {
      "cell_type": "code",
      "execution_count": 6,
      "metadata": {},
      "outputs": [
        {
          "data": {
            "text/html": [
              "<!doctype html><html class=\"bg-background text-foreground font-sans antialiased\"><head><title>MyPage</title><script src=\"https://cdn.jsdelivr.net/gh/starfederation/datastar@main/bundles/datastar.js\" type=\"module\"></script><link rel=\"stylesheet\" href=\"https://cdn.jsdelivr.net/npm/franken-ui@2.1.0-next.18/dist/css/core.min.css\"></link><link rel=\"stylesheet\" href=\"https://cdn.jsdelivr.net/npm/franken-ui@2.1.0-next.18/dist/css/utilities.min.css\"></link><script src=\"https://cdn.jsdelivr.net/npm/franken-ui@2.1.0-next.18/dist/js/core.iife.js\" type=\"module\"></script><script type=\"module\" src=\"https://cdn.jsdelivr.net/npm/franken-ui@2.1.0-next.18/dist/js/icon.iife.js\"></script><script src=\"https://cdn.jsdelivr.net/gh/starfederation/datastar@main/bundles/datastar.js\" type=\"module\"></script></head><body class=\"h-screen p-16 bg-white text-foreground font-sans antialiased\"><div data-signals=\"{'value':''}\"><input placeholder=\"Enter your datastar name\" class=\"uk-input\" type=\"text\" data-bind=\"value\"></input><h1 class=\"uk-h1 mt-2\" data-text=\"$value ? 'Hello ' + $value : 'Your imput should appear here'\"></h1></div></body></html>"
            ],
            "text/plain": [
              "<IPython.core.display.HTML object>"
            ]
          },
          "execution_count": 6,
          "metadata": {},
          "output_type": "execute_result"
        }
      ],
      "source": [
        "from rusty_tags.datastar import Signals, signals, reactive_class\n",
        "\n",
        "show(template(Div(\n",
        "    Input(type=\"text\", cls=\"uk-input\", bind=\"value\", placeholder=\"Enter your datastar name\"),\n",
        "    H1(text=\"$value ? 'Hello ' + $value : 'Your imput should appear here'\", cls=\"uk-h1 mt-2\"),\n",
        "    signals=Signals(value=\"\"),\n",
        "    )))"
      ]
    },
    {
      "cell_type": "code",
      "execution_count": 7,
      "metadata": {},
      "outputs": [
        {
          "data": {
            "text/plain": [
              "'<div data-class=\"{\\'translate-x-3.5\\': $value,\\'translate-x-0\\': !$value,\\'dark:bg-primary-foreground\\': $value,\\'dark:bg-white\\': !$value,}\" data-signals=\"{\\'value\\':\\'Some text\\'}\"><span data-text=\"$value\"></span></div>'"
            ]
          },
          "execution_count": 7,
          "metadata": {},
          "output_type": "execute_result"
        }
      ],
      "source": [
        "signal = \"value\"\n",
        "\n",
        "Div(Span(\n",
        "    text=\"$value\"),\n",
        "    signals=signals(value=\"Some text\"),\n",
        "    data_class=f\"{{'translate-x-3.5': ${signal},'translate-x-0': !${signal},'dark:bg-primary-foreground': ${signal},'dark:bg-white': !${signal},}}\",\n",
        ").render()"
      ]
    },
    {
      "cell_type": "code",
      "execution_count": 8,
      "metadata": {},
      "outputs": [
        {
          "data": {
            "text/plain": [
              "{'translate-x-3.5': '$value',\n",
              " 'translate-x-0': '!$value',\n",
              " 'dark:bg-primary-foreground': '$value',\n",
              " 'dark:bg-white': '!$value'}"
            ]
          },
          "execution_count": 8,
          "metadata": {},
          "output_type": "execute_result"
        }
      ],
      "source": [
        "reactive_class(**{\n",
        "                    'translate-x-3.5': f'${signal}',\n",
        "                    'translate-x-0': f'!${signal}',\n",
        "                    'dark:bg-primary-foreground': f'${signal}',\n",
        "                    'dark:bg-white': f'!${signal}',\n",
        "                })"
      ]
    },
    {
      "cell_type": "code",
      "execution_count": 9,
      "metadata": {},
      "outputs": [
        {
          "name": "stdout",
          "output_type": "stream",
          "text": [
            "Test 1 - Div with None:\n",
            "Result: <div>HelloWorld</div>\n",
            "Expected: <div>HelloWorld</div>\n",
            "Issue: None is converted to string 'None'\n",
            "\n",
            "Test 2 - Span with multiple None values:\n",
            "Result: <span>ContentMore</span>\n",
            "Expected: <span>ContentMore</span>\n",
            "Issue: None values appear as 'None' text\n",
            "\n",
            "Test 3 - Div with None mixed with other types:\n",
            "Result: <div>42true</div>\n",
            "Expected: <div>42true</div>\n",
            "Issue: None values appear as 'None' text\n"
          ]
        }
      ],
      "source": [
        "# Test demonstrating the None issue\n",
        "from rusty_tags import Div, Span\n",
        "\n",
        "# Test 1: None as positional argument\n",
        "result1 = Div(\"Hello\", None, \"World\").render()\n",
        "print(\"Test 1 - Div with None:\")\n",
        "print(f\"Result: {result1}\")\n",
        "print(f\"Expected: <div>HelloWorld</div>\")\n",
        "print(f\"Issue: None is converted to string 'None'\\n\")\n",
        "\n",
        "# Test 2: Multiple None values\n",
        "result2 = Span(None, \"Content\", None, \"More\").render()\n",
        "print(\"Test 2 - Span with multiple None values:\")\n",
        "print(f\"Result: {result2}\")\n",
        "print(f\"Expected: <span>ContentMore</span>\")\n",
        "print(f\"Issue: None values appear as 'None' text\\n\")\n",
        "\n",
        "# Test 3: None mixed with other values\n",
        "result3 = Div(None, 42, None, True, None).render()\n",
        "print(\"Test 3 - Div with None mixed with other types:\")\n",
        "print(f\"Result: {result3}\")\n",
        "print(f\"Expected: <div>42true</div>\")\n",
        "print(f\"Issue: None values appear as 'None' text\")\n"
      ]
    },
    {
      "cell_type": "code",
      "execution_count": 10,
      "metadata": {},
      "outputs": [
        {
          "name": "stdout",
          "output_type": "stream",
          "text": [
            "<div variant=\"ghost\" size=\"sm\" class=\"w-full justify-start\">Homewindow.location.href = '/'home</div>\n"
          ]
        }
      ],
      "source": [
        "from pydantic import BaseModel\n",
        "\n",
        "class SidebarBtn(BaseModel):\n",
        "    label: str\n",
        "    on_click: str | None = None\n",
        "    icon: str | None = None\n",
        "\n",
        "    def __str__(self):\n",
        "        return Div(\n",
        "            self.label,\n",
        "            self.on_click,\n",
        "            self.icon,\n",
        "            variant='ghost',\n",
        "            size='sm',\n",
        "            cls='w-full justify-start').render()\n",
        "    \n",
        "btn =SidebarBtn(label=\"Home\", on_click=\"window.location.href = '/'\", icon=\"home\")\n",
        "print(btn)"
      ]
    },
    {
      "cell_type": "code",
      "execution_count": 11,
      "metadata": {},
      "outputs": [
        {
          "data": {
            "text/plain": [
              "{'opacity-50': '$value'}"
            ]
          },
          "execution_count": 11,
          "metadata": {},
          "output_type": "execute_result"
        }
      ],
      "source": [
        "from rusty_tags.datastar import reactive_class\n",
        "\n",
        "reactive_class(**{\n",
        "    'translate-x-3.5': f'${signal}',\n",
        "    'translate-x-0': f'!${signal}',\n",
        "    'dark:bg-primary-foreground': f'${signal}',\n",
        "    'dark:bg-white': f'!${signal}',\n",
        "})\n",
        "reactive_class(**{'opacity-50': f'${signal}'})\n"
      ]
    },
    {
      "cell_type": "code",
      "execution_count": 13,
      "metadata": {},
      "outputs": [
        {
          "data": {
            "text/plain": [
              "'<div style=\"background-color: ${signal}\"></div>'"
            ]
          },
          "execution_count": 13,
          "metadata": {},
          "output_type": "execute_result"
        }
      ],
      "source": [
        "Div(style=\"background-color: ${signal}\").render()"
      ]
    }
  ],
  "metadata": {
    "kernelspec": {
      "display_name": ".venv",
      "language": "python",
      "name": "python3"
    },
    "language_info": {
      "codemirror_mode": {
        "name": "ipython",
        "version": 3
      },
      "file_extension": ".py",
      "mimetype": "text/x-python",
      "name": "python",
      "nbconvert_exporter": "python",
      "pygments_lexer": "ipython3",
      "version": "3.12.7"
    }
  },
  "nbformat": 4,
  "nbformat_minor": 2
}
