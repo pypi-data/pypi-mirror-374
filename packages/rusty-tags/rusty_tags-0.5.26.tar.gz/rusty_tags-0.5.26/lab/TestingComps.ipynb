{
 "cells": [
  {
   "cell_type": "code",
   "execution_count": null,
   "id": "4f2f8f75",
   "metadata": {},
   "outputs": [
    {
     "data": {
      "text/html": [
       "<!doctype html><html class=\"bg-background text-foreground font-sans antialiased\"><head><title>MyPage</title><script src=\"https://cdn.jsdelivr.net/gh/starfederation/datastar@main/bundles/datastar.js\" type=\"module\"></script><link rel=\"stylesheet\" href=\"https://cdn.jsdelivr.net/npm/franken-ui@2.1.0-next.18/dist/css/core.min.css\"></link><link href=\"https://cdn.jsdelivr.net/npm/franken-ui@2.1.0-next.18/dist/css/utilities.min.css\" rel=\"stylesheet\"></link><script type=\"module\" src=\"https://cdn.jsdelivr.net/npm/franken-ui@2.1.0-next.18/dist/js/core.iife.js\"></script><script type=\"module\" src=\"https://cdn.jsdelivr.net/npm/franken-ui@2.1.0-next.18/dist/js/icon.iife.js\"></script></head><body class=\"h-screen p-16 bg-white text-foreground font-sans antialiased\"><div><h1 class=\"uk-h1\">Hello, world!</h1></div></body></html>"
      ],
      "text/plain": [
       "<IPython.core.display.HTML object>"
      ]
     },
     "execution_count": 187,
     "metadata": {},
     "output_type": "execute_result"
    }
   ],
   "source": [
    "from rusty_tags import *\n",
    "from rusty_tags.utils import create_template, page_template, show\n",
    "\n",
    "hdrs = (\n",
    "    Script(src=\"https://cdn.jsdelivr.net/gh/starfederation/datastar@main/bundles/datastar.js\", type=\"module\"),\n",
    "    Link(rel='stylesheet', href='https://cdn.jsdelivr.net/npm/franken-ui@2.1.0-next.18/dist/css/core.min.css'),\n",
    "    Link(rel='stylesheet', href='https://cdn.jsdelivr.net/npm/franken-ui@2.1.0-next.18/dist/css/utilities.min.css'),\n",
    "    Script(src='https://cdn.jsdelivr.net/npm/franken-ui@2.1.0-next.18/dist/js/core.iife.js', type='module'),\n",
    "    Script(src='https://cdn.jsdelivr.net/npm/franken-ui@2.1.0-next.18/dist/js/icon.iife.js', type='module')\n",
    ")\n",
    "htmlkws = dict(cls=\"bg-background text-foreground font-sans antialiased\")\n",
    "\n",
    "bodykws = dict(cls=\"h-screen p-16 bg-white text-foreground font-sans antialiased\")\n",
    "page = create_template(hdrs=hdrs, htmlkw=htmlkws, bodykw=bodykws)\n",
    "template = page_template(hdrs=hdrs, htmlkw=htmlkws, bodykw=bodykws)\n",
    "\n",
    "@page\n",
    "def index():\n",
    "    return Div(\n",
    "        H1(\"Hello, world!\", cls=\"uk-h1\"),\n",
    "    )\n",
    "\n",
    "indexPage = index()\n",
    "show(indexPage)"
   ]
  },
  {
   "cell_type": "code",
   "execution_count": 188,
   "id": "7a644763",
   "metadata": {},
   "outputs": [
    {
     "name": "stdout",
     "output_type": "stream",
     "text": [
      "Id: The unique identifier for the user - Default: PydanticUndefined\n",
      "Name: The name of the user - Default: PydanticUndefined\n",
      "Email: The email address of the user - Default: PydanticUndefined\n",
      "Age: None - Default: 100\n"
     ]
    }
   ],
   "source": [
    "from pydantic import BaseModel, Field\n",
    "from typing import Optional\n",
    "\n",
    "class User(BaseModel):\n",
    "    id: int = Field(description=\"The unique identifier for the user\")\n",
    "    name: str = Field(description=\"The name of the user\")\n",
    "    email: Optional[str] = Field(description=\"The email address of the user\")\n",
    "    age: Optional[int] = 100\n",
    "\n",
    "for field, field_info in User.model_fields.items():\n",
    "    print(f\"{field.capitalize()}: {field_info.description} - Default: {field_info.default}\")\n",
    "\n"
   ]
  },
  {
   "cell_type": "code",
   "execution_count": 189,
   "id": "33a0221a",
   "metadata": {},
   "outputs": [],
   "source": [
    "def display(component):\n",
    "    return show(template(component))\n"
   ]
  },
  {
   "cell_type": "code",
   "execution_count": 190,
   "id": "66c7405a",
   "metadata": {},
   "outputs": [
    {
     "data": {
      "text/html": [
       "<!doctype html><html class=\"bg-background text-foreground font-sans antialiased\"><head><title>StarModel</title><script src=\"https://cdn.jsdelivr.net/gh/starfederation/datastar@main/bundles/datastar.js\" type=\"module\"></script><link rel=\"stylesheet\" href=\"https://cdn.jsdelivr.net/npm/franken-ui@2.1.0-next.18/dist/css/core.min.css\"></link><link href=\"https://cdn.jsdelivr.net/npm/franken-ui@2.1.0-next.18/dist/css/utilities.min.css\" rel=\"stylesheet\"></link><script type=\"module\" src=\"https://cdn.jsdelivr.net/npm/franken-ui@2.1.0-next.18/dist/js/core.iife.js\"></script><script type=\"module\" src=\"https://cdn.jsdelivr.net/npm/franken-ui@2.1.0-next.18/dist/js/icon.iife.js\"></script></head><body class=\"h-screen p-16 bg-white text-foreground font-sans antialiased\"><div><div class=\"border rounded-md mb-2 p-1\"><label class=\"uk-label text-md\">Id :</label><span title=\"The unique identifier for the user\" class=\"text-md\">1</span></div><div class=\"border rounded-md mb-2 p-1\"><label class=\"uk-label text-md\">Name :</label><span title=\"The name of the user\" class=\"text-md\">John Doe</span></div><div class=\"border rounded-md mb-2 p-1\"><label class=\"uk-label text-md\">Email :</label><span title=\"The email address of the user\" class=\"text-md\">john.doe@example.com</span></div><div class=\"border rounded-md mb-2 p-1\"><label class=\"uk-label text-md\">Age :</label><span title class=\"text-md\">100</span></div></div></body></html>"
      ],
      "text/plain": [
       "<IPython.core.display.HTML object>"
      ]
     },
     "execution_count": 190,
     "metadata": {},
     "output_type": "execute_result"
    }
   ],
   "source": [
    "def render_view(instance: BaseModel):\n",
    "    components = []\n",
    "    for field_name, field_info in instance.__class__.model_fields.items():\n",
    "        value = getattr(instance, field_name)\n",
    "        components.append(\n",
    "            Div(\n",
    "                Label(f\"{field_info.title or field_name.capitalize()} :\", cls=\"uk-label text-md\"),\n",
    "                Span(str(value), title=field_info.description or \"\", cls=\"text-md\"),\n",
    "                cls=\"border rounded-md mb-2 p-1\"\n",
    "            )\n",
    "        )\n",
    "    return Div(*components)\n",
    "\n",
    "user = User(id=1, name=\"John Doe\", email=\"john.doe@example.com\")\n",
    "display(render_view(user))"
   ]
  },
  {
   "cell_type": "code",
   "execution_count": 191,
   "id": "752c2dc2",
   "metadata": {},
   "outputs": [
    {
     "name": "stdout",
     "output_type": "stream",
     "text": [
      "$name age\n"
     ]
    }
   ],
   "source": [
    "from pydantic import BaseModel, Field, ConfigDict\n",
    "from typing import Any\n",
    "\n",
    "class SignalDescriptor:\n",
    "    \"\"\"Return `$Model.field` on the class, real value on an instance.\"\"\"\n",
    "\n",
    "    def __init__(self, field_name: str) -> None:\n",
    "        self.field_name = field_name\n",
    "\n",
    "    def __get__(self, instance, owner):\n",
    "        #  class access  →  owner is the model class, instance is None\n",
    "        if instance is None:\n",
    "            ns = owner._namespace\n",
    "            use_ns = owner._use_namespace\n",
    "            return f\"${ns}.{self.field_name}\" if use_ns else f\"${self.field_name}\"\n",
    "\n",
    "        #  instance access  →  behave like a normal attribute\n",
    "        return instance.__dict__[self.field_name]\n",
    "    \n",
    "class Signals(BaseModel):\n",
    "    model_config = ConfigDict(extra=\"allow\")\n",
    "    _namespace = \"signals\"\n",
    "    _use_namespace = False\n",
    "\n",
    "    def __init__(self, **kwargs: Any) -> None:\n",
    "        super().__init__(**kwargs)\n",
    "        for k, v in kwargs.items():\n",
    "            setattr(self, f\"_{k}\", k)\n",
    "            setattr(self, f\"_S{k}\", f\"${k}\")\n",
    "\n",
    "    @classmethod\n",
    "    def __pydantic_init_subclass__(cls, **kwargs: Any) -> None:\n",
    "        super().__pydantic_init_subclass__(**kwargs)\n",
    "        # Create signal descriptors for all model fields\n",
    "        for field_name in cls.model_fields:\n",
    "            setattr(cls, f\"S{field_name}\", SignalDescriptor(field_name))\n",
    "        for field_name in cls.model_computed_fields:\n",
    "            setattr(cls, f\"S{field_name}\", SignalDescriptor(field_name))\n",
    "\n",
    "sigs = Signals(name=\"John Doe\", age=100)\n",
    "print(sigs._Sname, sigs._age)\n"
   ]
  },
  {
   "cell_type": "code",
   "execution_count": 192,
   "id": "d2e1b10a",
   "metadata": {},
   "outputs": [
    {
     "name": "stdout",
     "output_type": "stream",
     "text": [
      "$name name John Doe\n"
     ]
    },
    {
     "data": {
      "text/plain": [
       "\"$default='signals'.name\""
      ]
     },
     "execution_count": 192,
     "metadata": {},
     "output_type": "execute_result"
    }
   ],
   "source": [
    "class User(Signals):\n",
    "    name: str\n",
    "    age: int\n",
    "\n",
    "user = User(name=\"John Doe\", age=100)\n",
    "print(user._Sname, user._name, user.name)\n",
    "User.Sname"
   ]
  }
 ],
 "metadata": {
  "kernelspec": {
   "display_name": ".venv",
   "language": "python",
   "name": "python3"
  },
  "language_info": {
   "codemirror_mode": {
    "name": "ipython",
    "version": 3
   },
   "file_extension": ".py",
   "mimetype": "text/x-python",
   "name": "python",
   "nbconvert_exporter": "python",
   "pygments_lexer": "ipython3",
   "version": "3.12.7"
  }
 },
 "nbformat": 4,
 "nbformat_minor": 5
}
