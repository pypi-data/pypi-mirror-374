{
 "cells": [
  {
   "cell_type": "raw",
   "metadata": {
    "vscode": {
     "languageId": "raw"
    }
   },
   "source": [
    "# Testing Rust Implementation\n",
    "\n",
    "Let's test our new Rust-based Tag system and compare it with the Python version.\n"
   ]
  },
  {
   "cell_type": "code",
   "execution_count": 1,
   "metadata": {},
   "outputs": [
    {
     "name": "stdout",
     "output_type": "stream",
     "text": [
      "Rust Tag: <tag class=\"greeting\" id=\"rust-tag\">Hello from Rust!</tag>\n",
      "Name: tag\n",
      "Attrs:  class=\"greeting\" id=\"rust-tag\"\n"
     ]
    }
   ],
   "source": [
    "# Import the Rust implementation\n",
    "from rusty_tags import *\n",
    "\n",
    "# Test basic tag creation\n",
    "rust_tag = Tag(\"Hello from Rust!\", cls=\"greeting\", id=\"rust-tag\")\n",
    "print(\"Rust Tag:\", rust_tag.render())\n",
    "print(\"Name:\", rust_tag.name)\n",
    "print(\"Attrs:\", rust_tag.attrs)\n"
   ]
  },
  {
   "cell_type": "code",
   "execution_count": 2,
   "metadata": {},
   "outputs": [
    {
     "name": "stdout",
     "output_type": "stream",
     "text": [
      "Rust Nested: <div style=\"color: blue\">Outer text<span class=\"inner\">Inner content</span> more text</div>\n"
     ]
    },
    {
     "data": {
      "text/plain": [
       "'<div style=\"color: blue\">Outer text<span class=\"inner\">Inner content</span> more text</div>'"
      ]
     },
     "execution_count": 2,
     "metadata": {},
     "output_type": "execute_result"
    }
   ],
   "source": [
    "# Test nested tags in Rust\n",
    "rust_nested = Div(\n",
    "    \"Outer text\",\n",
    "    Span(\"Inner content\", cls=\"inner\"),\n",
    "    \" more text\",\n",
    "    style=\"color: blue\"\n",
    ")\n",
    "print(\"Rust Nested:\", rust_nested)\n",
    "rust_nested\n"
   ]
  },
  {
   "cell_type": "code",
   "execution_count": 3,
   "metadata": {},
   "outputs": [
    {
     "name": "stdout",
     "output_type": "stream",
     "text": [
      "Mixed children: <div data-value=\"test\">String423.14<div>Another tag</div></div>\n"
     ]
    }
   ],
   "source": [
    "# Test different child types\n",
    "rust_mixed = Div(\n",
    "    \"String\",\n",
    "    42,\n",
    "    3.14,\n",
    "    Div(\"Another tag\"),\n",
    "    data_value=\"test\"\n",
    ")\n",
    "print(\"Mixed children:\", rust_mixed)\n"
   ]
  },
  {
   "cell_type": "code",
   "execution_count": 4,
   "metadata": {},
   "outputs": [
    {
     "name": "stdout",
     "output_type": "stream",
     "text": [
      "Attribute mapping: <div class=\"other-class\" for=\"input-id\" data-test=\"value\">Content</div>\n"
     ]
    }
   ],
   "source": [
    "# Test attribute mapping\n",
    "rust_attrs = Div(\n",
    "    \"Content\",\n",
    "    cls=\"my-class\",          # Should become class\n",
    "    _class=\"other-class\",    # Should become class\n",
    "    _for=\"input-id\",         # Should become for\n",
    "    data_test=\"value\"        # Should become data-test\n",
    ")\n",
    "print(\"Attribute mapping:\", rust_attrs)\n"
   ]
  },
  {
   "cell_type": "code",
   "execution_count": 5,
   "metadata": {},
   "outputs": [
    {
     "name": "stdout",
     "output_type": "stream",
     "text": [
      "Available Rust tags: ['A', 'B', 'H1', 'H2', 'H3', 'H4', 'H5', 'H6', 'I', 'P']\n",
      "\n",
      "Form demo:\n",
      "<form method=\"post\" action=\"/submit\"><label for=\"email\">Email:</label><input name=\"email\" type=\"email\" id=\"email\"></input><button type=\"submit\">Submit</button></form>\n"
     ]
    }
   ],
   "source": [
    "# Test all available HTML tags\n",
    "import rusty_tags\n",
    "print(\"Available Rust tags:\", [name for name in dir(rusty_tags) if not name.startswith('_') and name.isupper()])\n",
    "\n",
    "# Test form elements\n",
    "form_demo = Form(\n",
    "    Label(\"Email:\", _for=\"email\"),\n",
    "    Input(type=\"email\", id=\"email\", name=\"email\"),\n",
    "    Button(\"Submit\", type=\"submit\"),\n",
    "    action=\"/submit\",\n",
    "    method=\"post\"\n",
    ")\n",
    "print(\"\\nForm demo:\")\n",
    "print(form_demo)\n"
   ]
  },
  {
   "cell_type": "code",
   "execution_count": 12,
   "metadata": {},
   "outputs": [
    {
     "name": "stdout",
     "output_type": "stream",
     "text": [
      "Rust time: 0.0016s\n",
      "Python time: 0.0010s\n",
      "Speedup: 0.7x faster\n"
     ]
    }
   ],
   "source": [
    "# Performance comparison setup\n",
    "import time\n",
    "import rusty_tags as rt\n",
    "from air import Div as PyDiv, Span as PySpan, H1 as PyH1, P as PyP\n",
    "\n",
    "def test_rust_performance(iterations=1000):\n",
    "    start = time.time()\n",
    "    for i in range(iterations):\n",
    "        content = rt.Div(\n",
    "            rt.H1(f\"Title {i}\"),\n",
    "            rt.P(\"Some content here\", cls=\"content\"),\n",
    "            rt.Span(f\"Item {i}\", data_index=str(i)),\n",
    "            cls=\"container\"\n",
    "        )\n",
    "        _ = content\n",
    "    return time.time() - start\n",
    "\n",
    "def test_python_performance(iterations=1000):\n",
    "    start = time.time()\n",
    "    for i in range(iterations):\n",
    "        content = PyDiv(\n",
    "            PyH1(f\"Title {i}\"),\n",
    "            PyP(\"Some content here\", cls=\"content\"),\n",
    "            PySpan(f\"Item {i}\", data_index=str(i)),\n",
    "            cls=\"container\"\n",
    "        )\n",
    "        _ = content\n",
    "    return time.time() - start\n",
    "\n",
    "rust_time = test_rust_performance()\n",
    "python_time = test_python_performance()\n",
    "\n",
    "print(f\"Rust time: {rust_time:.4f}s\")\n",
    "print(f\"Python time: {python_time:.4f}s\") \n",
    "print(f\"Speedup: {python_time/rust_time:.1f}x faster\")\n"
   ]
  },
  {
   "cell_type": "code",
   "execution_count": 13,
   "metadata": {},
   "outputs": [
    {
     "name": "stdout",
     "output_type": "stream",
     "text": [
      "1.84 ms ± 60.5 μs per loop (mean ± std. dev. of 7 runs, 100 loops each)\n"
     ]
    }
   ],
   "source": [
    "%%timeit\n",
    "rust_time = test_rust_performance()"
   ]
  },
  {
   "cell_type": "code",
   "execution_count": 14,
   "metadata": {},
   "outputs": [
    {
     "name": "stdout",
     "output_type": "stream",
     "text": [
      "1.4 ms ± 47.4 μs per loop (mean ± std. dev. of 7 runs, 1,000 loops each)\n"
     ]
    }
   ],
   "source": [
    "%%timeit\n",
    "python_time = test_python_performance()"
   ]
  },
  {
   "cell_type": "code",
   "execution_count": 15,
   "metadata": {},
   "outputs": [],
   "source": [
    "import air as air"
   ]
  },
  {
   "cell_type": "code",
   "execution_count": 16,
   "metadata": {},
   "outputs": [],
   "source": [
    "def table_generation_rusty():\n",
    "    \"\"\"RustyTags: Generate a table with 50 rows.\"\"\"\n",
    "    return rt.Table(\n",
    "        rt.Thead(\n",
    "            rt.Tr(\n",
    "                rt.Th(\"ID\"),\n",
    "                rt.Th(\"Name\"),\n",
    "                rt.Th(\"Email\"),\n",
    "                rt.Th(\"Status\")\n",
    "            )\n",
    "        ),\n",
    "        rt.Tbody(\n",
    "            *[rt.Tr(\n",
    "                rt.Td(str(i)),\n",
    "                rt.Td(f\"User {i}\"),\n",
    "                rt.Td(f\"user{i}@example.com\"),\n",
    "                rt.Td(\"Active\" if i % 2 == 0 else \"Inactive\"),\n",
    "                class_=\"row-\" + (\"even\" if i % 2 == 0 else \"odd\")\n",
    "            ) for i in range(50)]\n",
    "        ),\n",
    "        class_=\"data-table\"\n",
    "    )\n",
    "\n",
    "def table_generation_air():\n",
    "    \"\"\"Air: Generate a table with 50 rows.\"\"\"\n",
    "    return air.Table(\n",
    "        air.Thead(\n",
    "            air.Tr(\n",
    "                air.Th(\"ID\"),\n",
    "                air.Th(\"Name\"),\n",
    "                air.Th(\"Email\"),\n",
    "                air.Th(\"Status\")\n",
    "            )\n",
    "        ),\n",
    "        air.Tbody(\n",
    "            *[air.Tr(\n",
    "                air.Td(str(i)),\n",
    "                air.Td(f\"User {i}\"),\n",
    "                air.Td(f\"user{i}@example.com\"),\n",
    "                air.Td(\"Active\" if i % 2 == 0 else \"Inactive\"),\n",
    "                cls=\"row-\" + (\"even\" if i % 2 == 0 else \"odd\")\n",
    "            ) for i in range(50)]\n",
    "        ),\n",
    "        cls=\"data-table\"\n",
    "    ).render()"
   ]
  },
  {
   "cell_type": "code",
   "execution_count": 17,
   "metadata": {},
   "outputs": [
    {
     "name": "stdout",
     "output_type": "stream",
     "text": [
      "281 μs ± 5.91 μs per loop (mean ± std. dev. of 7 runs, 1,000 loops each)\n"
     ]
    }
   ],
   "source": [
    "%%timeit\n",
    "table_generation_air()"
   ]
  },
  {
   "cell_type": "code",
   "execution_count": 18,
   "metadata": {},
   "outputs": [
    {
     "name": "stdout",
     "output_type": "stream",
     "text": [
      "105 μs ± 9.16 μs per loop (mean ± std. dev. of 7 runs, 10,000 loops each)\n"
     ]
    }
   ],
   "source": [
    "%%timeit\n",
    "table_generation_rusty()"
   ]
  }
 ],
 "metadata": {
  "kernelspec": {
   "display_name": ".venv",
   "language": "python",
   "name": "python3"
  },
  "language_info": {
   "codemirror_mode": {
    "name": "ipython",
    "version": 3
   },
   "file_extension": ".py",
   "mimetype": "text/x-python",
   "name": "python",
   "nbconvert_exporter": "python",
   "pygments_lexer": "ipython3",
   "version": "3.12.9"
  }
 },
 "nbformat": 4,
 "nbformat_minor": 2
}
