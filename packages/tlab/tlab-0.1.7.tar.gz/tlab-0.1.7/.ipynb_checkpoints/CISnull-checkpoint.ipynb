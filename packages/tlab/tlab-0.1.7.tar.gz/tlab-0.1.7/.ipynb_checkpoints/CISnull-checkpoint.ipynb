{
 "cells": [
  {
   "cell_type": "code",
   "execution_count": 8,
   "id": "5fcd4503-0f09-4d71-9c4c-caf680c50d46",
   "metadata": {},
   "outputs": [],
   "source": [
    "from tlab import *\n",
    "import numpy as np"
   ]
  },
  {
   "cell_type": "code",
   "execution_count": 22,
   "id": "f7c5f723-f3b8-49d6-8c99-242f6f78bfa0",
   "metadata": {},
   "outputs": [
    {
     "name": "stdout",
     "output_type": "stream",
     "text": [
      "Matrix \"Hmat\" found. shape=(81, 81)\n",
      "Matrix \"Smat\" found. shape=(81, 81)\n",
      "Matrix \"Full Aug\" found. shape=(243, 243)\n",
      "Matrix \"Grad(CP)\" found. shape=(242, 1)\n"
     ]
    }
   ],
   "source": [
    "H = getmat('a', 'Hmat')\n",
    "S = getmat('a', 'Smat')\n",
    "AH = getmat('a', 'Full Aug')\n",
    "g = getmat('a', 'Grad(CP)')"
   ]
  },
  {
   "cell_type": "code",
   "execution_count": 23,
   "id": "8a2fe9bd-c306-4d17-ac42-32fcd547cc78",
   "metadata": {},
   "outputs": [],
   "source": [
    "AH = AH[1:,1:]"
   ]
  },
  {
   "cell_type": "code",
   "execution_count": 7,
   "id": "b3d22b99-4a54-4417-8d78-b89130ede551",
   "metadata": {},
   "outputs": [
    {
     "name": "stdout",
     "output_type": "stream",
     "text": [
      "Dimension of H: (81, 81)\n",
      "Dimension of S: (81, 81)\n",
      "Initial guess estimated as: 0, 9\n",
      "Cycle  State       Energy      Grad\n",
      "[ 0]      0:  +0.0000000000   6.53e-01  \n",
      "          1:  +0.8305924414   5.52e-01  \n",
      "[ 1]      0:  -0.1942434458   1.52e-01  \n",
      "          1:  +0.3154180683   3.24e-01  \n",
      "[ 2]      0:  -0.2060240908   6.37e-02  \n",
      "          1:  +0.2347476621   1.44e-01  \n",
      "[ 3]      0:  -0.2083982260   3.55e-02  \n",
      "          1:  +0.2250163773   4.49e-02  \n",
      "[ 4]      0:  -0.2093243460   2.06e-02  \n",
      "          1:  +0.2238084928   4.36e-02  \n",
      "[ 5]      0:  -0.2096952223   1.83e-02  \n",
      "          1:  +0.2227125993   2.93e-02  \n",
      "[ 6]      0:  -0.2098102015   9.49e-03  \n",
      "          1:  +0.2224267213   1.98e-02  \n",
      "[ 7]      0:  -0.2098558351   5.77e-03  \n",
      "          1:  +0.2220183608   3.73e-02  \n",
      "[ 8]      0:  -0.2098781771   3.36e-03  \n",
      "          1:  +0.1764916385   2.97e-01  \n",
      "[ 9]      0:  -0.2098813701   1.33e-03  \n",
      "          1:  +0.1423407496   1.55e-01  \n",
      "[10]      0:  -0.2098832900   1.16e-03  \n",
      "          1:  +0.1289615263   6.12e-02  \n",
      "[11]      0:  -0.2098838130   3.39e-04  \n",
      "          1:  +0.1272380874   2.83e-02  \n",
      "[12]      0:  -0.2098838579   2.30e-04  \n",
      "          1:  +0.1266023483   2.50e-02  \n",
      "[13]      0:  -0.2098838941   1.29e-04  \n",
      "          1:  +0.1263767339   7.03e-03  \n",
      "[14]      0:  -0.2098838993   5.12e-05  \n",
      "          1:  +0.1263541227   4.96e-03  \n",
      "[15]      0:  -0.2098839003   4.90e-05  \n",
      "          1:  +0.1263399156   2.69e-03  \n",
      "[16]      0:  -0.2098839009   1.55e-05  \n",
      "          1:  +0.1263366645   1.27e-03  \n",
      "[17]      0:  -0.2098839011   9.25e-06  converged\n",
      "          1:  +0.1263355124   1.22e-03  \n",
      "[18]      0:  -0.2098839011   8.42e-06  converged\n",
      "          1:  +0.1263350898   3.29e-04  \n",
      "[19]      0:  -0.2098839011   8.68e-06  converged\n",
      "          1:  +0.1263350063   2.70e-04  \n",
      "[20]      0:  -0.2098839011   8.47e-06  converged\n",
      "          1:  +0.1263349817   1.13e-04  \n",
      "[21]      0:  -0.2098839011   5.97e-06  converged\n",
      "          1:  +0.1263349768   5.18e-05  \n",
      "[22]      0:  -0.2098839011   5.52e-06  converged\n",
      "          1:  +0.1263349752   2.81e-05  \n",
      "[23]      0:  -0.2098839011   5.14e-06  converged\n",
      "          1:  +0.1263349746   9.81e-06  converged\n"
     ]
    }
   ],
   "source": [
    "result = davidson(H, S, nroots=2)"
   ]
  },
  {
   "cell_type": "code",
   "execution_count": 25,
   "id": "ca4f49d9-76e0-424e-a9c2-2f1c586abe92",
   "metadata": {},
   "outputs": [],
   "source": [
    "C = result.M\n",
    "C0 = C.T[0]\n",
    "C1 = C.T[1]\n",
    "C0 = C0.reshape(81,1)\n",
    "C1 = C1.reshape(81,1)"
   ]
  },
  {
   "cell_type": "code",
   "execution_count": 32,
   "id": "a19c16fa-e48d-4987-af3f-851e09376d10",
   "metadata": {},
   "outputs": [],
   "source": [
    "S0 = S @ C0\n",
    "S1 = S @ C1\n",
    "S00 = S0 @ S0.T\n",
    "S11 = S1 @ S1.T\n",
    "calS = S - S00 - S11"
   ]
  },
  {
   "cell_type": "code",
   "execution_count": 28,
   "id": "42f59db8-b9e3-4d1c-acc9-dd3f600efae3",
   "metadata": {},
   "outputs": [],
   "source": [
    "zerosC = np.zeros(81).reshape(81,1)\n",
    "zerosO = np.zeros(80).reshape(80,1)\n",
    "\n",
    "y0 = np.block([[zerosO], [C0], [zerosC]])"
   ]
  },
  {
   "cell_type": "code",
   "execution_count": 75,
   "id": "32ead0a6-e225-4d88-9eb7-befc76b0bb2f",
   "metadata": {},
   "outputs": [],
   "source": [
    "Hc1c1 = AH[80:161, 80:161]\n",
    "Hc2c2 = AH[161:, 161:]\n",
    "#sns.heatmap(AH[80:161,161:])"
   ]
  },
  {
   "cell_type": "code",
   "execution_count": 76,
   "id": "9b1110d0-a4a8-4e46-9899-51b7ae98f16f",
   "metadata": {},
   "outputs": [
    {
     "name": "stdout",
     "output_type": "stream",
     "text": [
      "Dimension of H: (81, 81)\n",
      "Initial guess estimated as: 0, 10\n",
      "Cycle  State       Energy      Grad\n",
      "[ 0]      0:  +0.2034294619   6.38e-01  \n",
      "          1:  +0.5749982381   6.32e-01  \n",
      "[ 1]      0:  +0.0160320993   1.42e-01  \n",
      "          1:  +0.2556375440   1.04e-01  \n",
      "[ 2]      0:  +0.0042827583   6.66e-02  \n",
      "          1:  +0.2330783604   1.62e-01  \n",
      "[ 3]      0:  +0.0013917823   3.81e-02  \n",
      "          1:  +0.1754992050   1.39e-01  \n",
      "[ 4]      0:  +0.0004717276   2.16e-02  \n",
      "          1:  +0.1485748688   2.01e-01  \n",
      "[ 5]      0:  +0.0001385125   1.86e-02  \n",
      "          1:  +0.1013199959   2.49e-01  \n",
      "[ 6]      0:  +0.0000359494   8.81e-03  \n",
      "          1:  +0.0458846253   2.29e-01  \n",
      "[ 7]      0:  +0.0000101312   4.07e-03  \n",
      "          1:  +0.0081264305   1.51e-01  \n",
      "[ 8]      0:  +0.0000014281   2.97e-03  \n",
      "          1:  +0.0023155833   4.88e-02  \n",
      "[ 9]      0:  +0.0000004444   7.13e-04  \n",
      "          1:  +0.0003583136   3.87e-02  \n",
      "[10]      0:  +0.0000000840   7.25e-04  \n",
      "          1:  +0.0001129494   1.23e-02  \n",
      "[11]      0:  +0.0000000221   1.90e-04  \n",
      "          1:  +0.0000291743   7.76e-03  \n",
      "[12]      0:  +0.0000000007   1.36e-04  \n",
      "          1:  +0.0000033962   2.87e-03  \n",
      "[13]      0:  -0.0000000070   6.52e-05  \n",
      "          1:  +0.0000018173   1.85e-03  \n",
      "[14]      0:  -0.0000000173   1.37e-04  \n",
      "          1:  +0.0000001696   5.50e-04  \n",
      "[15]      0:  -0.0000000263   1.97e-04  \n",
      "          1:  +0.0000000898   4.42e-04  \n",
      "[16]      0:  -0.0000000462   5.72e-05  \n",
      "          1:  +0.0000000423   6.28e-05  \n",
      "[17]      0:  -0.0000000479   2.07e-05  \n",
      "          1:  +0.0000000404   2.28e-05  \n",
      "[18]      0:  -0.0000000485   1.12e-05  \n",
      "          1:  +0.0000000397   1.16e-05  \n",
      "[19]      0:  -0.0000000485   5.53e-06  converged\n",
      "          1:  +0.0000000397   5.70e-06  converged\n"
     ]
    },
    {
     "data": {
      "text/plain": [
       "array([[ 6.69035894e-01,  6.54794108e-01],\n",
       "       [ 3.40064289e-09, -4.67529826e-09],\n",
       "       [-8.90439353e-04,  2.55253402e-03],\n",
       "       [-9.09289096e-04, -2.61832485e-03],\n",
       "       [ 1.53923596e-03, -1.56267198e-03],\n",
       "       [ 9.21766396e-06, -8.48540484e-04],\n",
       "       [-1.47633639e-08,  1.50512707e-08],\n",
       "       [-2.32771111e-04,  3.08945358e-04],\n",
       "       [ 3.22549432e-08, -3.29707104e-08],\n",
       "       [-1.58695190e-07,  2.04655059e-07],\n",
       "       [ 2.43313944e-01, -2.70547501e-01],\n",
       "       [-1.07787392e-01,  1.20633532e-01],\n",
       "       [-1.71545452e-01,  2.70537804e-01],\n",
       "       [-5.41877426e-02,  4.73818778e-02],\n",
       "       [-7.74085882e-08, -1.10367147e-07],\n",
       "       [ 1.42029958e-01, -6.46934922e-02],\n",
       "       [-1.40854370e-07,  1.40768552e-07],\n",
       "       [-3.78256367e-09,  4.32868898e-08],\n",
       "       [ 6.98708918e-02, -7.20367749e-02],\n",
       "       [ 1.65765280e-02,  7.32998959e-02],\n",
       "       [-5.32009331e-02,  7.10434854e-02],\n",
       "       [-2.34685953e-02,  1.42359120e-02],\n",
       "       [-1.69361077e-07,  1.04112156e-07],\n",
       "       [ 3.65520896e-02, -2.33798478e-02],\n",
       "       [ 1.99400686e-07, -2.03222251e-07],\n",
       "       [ 9.22828429e-08,  8.39086425e-09],\n",
       "       [ 2.31027862e-02,  1.78483353e-01],\n",
       "       [ 3.43422793e-02, -3.98535289e-02],\n",
       "       [ 2.53496017e-02, -1.00727934e-01],\n",
       "       [-1.02203150e-02, -4.30342270e-02],\n",
       "       [ 1.48835728e-08, -1.90746429e-07],\n",
       "       [-3.28857124e-02,  3.61651785e-02],\n",
       "       [-1.77984204e-07,  1.88671324e-07],\n",
       "       [ 1.01971615e-01,  8.21024072e-02],\n",
       "       [-1.68224134e-08, -1.10688127e-08],\n",
       "       [-1.88519745e-08,  6.21421831e-08],\n",
       "       [ 2.62365043e-08, -1.41987594e-08],\n",
       "       [ 2.75215529e-08,  1.95009639e-08],\n",
       "       [-3.40368506e-02, -1.87973401e-02],\n",
       "       [-6.54316571e-09, -7.56244395e-09],\n",
       "       [ 1.17850585e-02,  1.61349608e-02],\n",
       "       [ 3.00262294e-09, -5.70066256e-09],\n",
       "       [ 2.31520662e-04,  3.22639852e-03],\n",
       "       [-1.40445803e-03, -3.01547605e-03],\n",
       "       [ 9.15174499e-04, -2.30430318e-03],\n",
       "       [-4.94971374e-04,  4.14101798e-04],\n",
       "       [-1.50727441e-08,  1.75733831e-08],\n",
       "       [-1.50321864e-03,  3.47894768e-04],\n",
       "       [ 3.14505435e-08, -3.14677575e-08],\n",
       "       [-1.83289854e-07,  2.78119607e-07],\n",
       "       [ 3.69945118e-01, -3.04588936e-01],\n",
       "       [-2.11472941e-01,  1.89368318e-01],\n",
       "       [-2.58355592e-01,  3.40594837e-01],\n",
       "       [ 2.92237140e-02, -5.31895292e-02],\n",
       "       [ 1.06005369e-07, -3.16717190e-07],\n",
       "       [ 3.46611797e-01, -8.78514837e-02],\n",
       "       [ 4.40914495e-08, -5.39428606e-08],\n",
       "       [-4.12122536e-08,  2.77259226e-08],\n",
       "       [ 9.67028834e-02, -8.40586773e-02],\n",
       "       [-1.45577917e-02,  9.37753723e-02],\n",
       "       [-6.55731485e-02,  9.70174732e-02],\n",
       "       [ 2.25073943e-02, -1.22736575e-02],\n",
       "       [-9.21724980e-08,  4.75603137e-08],\n",
       "       [ 8.63361780e-02, -1.67562989e-02],\n",
       "       [ 2.42618373e-07, -2.60711065e-07],\n",
       "       [-1.03437379e-07, -1.60365510e-07],\n",
       "       [-1.14101153e-02,  1.64050426e-01],\n",
       "       [ 4.15446522e-02, -6.54967863e-02],\n",
       "       [ 4.61182935e-02, -1.25503996e-01],\n",
       "       [-1.42440608e-02,  1.34918159e-02],\n",
       "       [ 8.53378204e-08, -2.66224840e-08],\n",
       "       [-7.75685646e-02,  4.01290917e-02],\n",
       "       [-1.85981004e-07,  2.67567322e-07],\n",
       "       [ 4.92790944e-02,  5.61381146e-02],\n",
       "       [-1.61687215e-08, -7.33184061e-09],\n",
       "       [-1.16014810e-08,  2.06984843e-08],\n",
       "       [ 4.75891793e-08, -4.76452661e-08],\n",
       "       [-1.70712634e-08,  9.18541268e-08],\n",
       "       [-8.18415934e-03, -2.07866659e-02],\n",
       "       [-4.19243789e-08, -6.64875876e-11],\n",
       "       [-8.39115507e-03, -1.22538839e-02]])"
      ]
     },
     "execution_count": 76,
     "metadata": {},
     "output_type": "execute_result"
    }
   ],
   "source": [
    "result_c1 = davidson(Hc1c1, nroots=2)\n",
    "result_c1.M"
   ]
  },
  {
   "cell_type": "code",
   "execution_count": 34,
   "id": "9475cbd0-05be-450c-ae48-c221584fd789",
   "metadata": {},
   "outputs": [],
   "source": [
    "E, V = np.linalg.eigh(AH)"
   ]
  },
  {
   "cell_type": "code",
   "execution_count": 103,
   "id": "5b700e05-a0b4-4341-97c2-7855130ebe24",
   "metadata": {},
   "outputs": [],
   "source": [
    "# null: 4 null vectors of AH \n",
    "null0 = V.T[0]\n",
    "null1 = V.T[3]\n",
    "null2 = V.T[2]\n",
    "null3 = V.T[1]\n",
    "null0 = null0.reshape(242,1)\n",
    "null1 = null1.reshape(242,1)\n",
    "null2 = null2.reshape(242,1)\n",
    "null3 = null3.reshape(242,1)\n",
    "null, range = nullspace(AH, eps=1e-6)"
   ]
  },
  {
   "cell_type": "code",
   "execution_count": 80,
   "id": "28b8521a-3e57-469c-a5d1-5ea38337ae64",
   "metadata": {},
   "outputs": [
    {
     "data": {
      "text/plain": [
       "<Axes: >"
      ]
     },
     "execution_count": 80,
     "metadata": {},
     "output_type": "execute_result"
    },
    {
     "data": {
      "image/png": "[encoded data removed]",
      "text/plain": [
       "<Figure size 640x480 with 2 Axes>"
      ]
     },
     "metadata": {},
     "output_type": "display_data"
    }
   ],
   "source": [
    "import seaborn as sns\n",
    "sns.heatmap(abs(n0), cmap='Purples')\n"
   ]
  },
  {
   "cell_type": "code",
   "execution_count": 104,
   "id": "10ae5838-48c7-4cf6-ba12-0ee7b414b9ff",
   "metadata": {},
   "outputs": [],
   "source": [
    "# block 4 null vectors of AH \n",
    "n0 = null0[80:161] #Hc1c1\n",
    "n1 = null1[80:161] #Hc1c1\n",
    "n2 = null2[161:]   #Hc2c2\n",
    "n3 = null3[161:]   #Hc2c2"
   ]
  },
  {
   "cell_type": "code",
   "execution_count": 105,
   "id": "5b6d5c7f-1d52-43dd-a905-3060f2a7e7d3",
   "metadata": {},
   "outputs": [
    {
     "data": {
      "text/plain": [
       "np.float64(0.9999999999438166)"
      ]
     },
     "execution_count": 105,
     "metadata": {},
     "output_type": "execute_result"
    }
   ],
   "source": [
    "np.linalg.norm(n0)"
   ]
  },
  {
   "cell_type": "code",
   "execution_count": 106,
   "id": "21ad779e-5b5e-46a2-98ed-0ba7173963b5",
   "metadata": {},
   "outputs": [
    {
     "name": "stdout",
     "output_type": "stream",
     "text": [
      "1.8503804674236036e-06\n",
      "2.4445418847589703e-06\n",
      "1.7412841633074107e-06\n",
      "5.874067717182319e-07\n",
      "1.5114469117878398e-06\n",
      "1.931594516970035e-06\n",
      "1.239741232105121e-06\n",
      "2.0402698441915462e-07\n"
     ]
    }
   ],
   "source": [
    "\n",
    "print(np.linalg.norm(Hc1c1@n0))\n",
    "print(np.linalg.norm(Hc1c1@n1))\n",
    "print(np.linalg.norm(Hc1c1@n2))\n",
    "print(np.linalg.norm(Hc1c1@n3))\n",
    "\n",
    "print(np.linalg.norm(Hc2c2@n0))\n",
    "print(np.linalg.norm(Hc2c2@n1))\n",
    "print(np.linalg.norm(Hc2c2@n2))\n",
    "print(np.linalg.norm(Hc2c2@n3))"
   ]
  },
  {
   "cell_type": "code",
   "execution_count": 109,
   "id": "928d6885-c1fe-41a7-a891-f31642eac572",
   "metadata": {},
   "outputs": [
    {
     "data": {
      "text/plain": [
       "[[array([[1.01124605]]), array([[-0.02357285]])],\n",
       " [array([[-0.02357285]]), array([[1.01392578]])]]"
      ]
     },
     "execution_count": 109,
     "metadata": {},
     "output_type": "execute_result"
    }
   ],
   "source": [
    "[[n0.T @ S @ n0, n0.T @ S @ n1], [n0.T @ S @ n1, n1.T@ S @ n1]]"
   ]
  },
  {
   "cell_type": "code",
   "execution_count": 147,
   "id": "9c345ec2-7f7d-4ffb-a769-ab89ec210975",
   "metadata": {},
   "outputs": [],
   "source": [
    "n0n1, _ = nullspace(Hc1c1,1e-6)\n",
    "n2n3, _ = nullspace(Hc2c2,1e-6)"
   ]
  },
  {
   "cell_type": "code",
   "execution_count": 163,
   "id": "a173c326-9543-4551-867c-5d314e75d5db",
   "metadata": {},
   "outputs": [
    {
     "data": {
      "text/plain": [
       "np.float64(0.9999999999999999)"
      ]
     },
     "execution_count": 163,
     "metadata": {},
     "output_type": "execute_result"
    }
   ],
   "source": [
    "np.linalg.det(C0C1.T @  C0C1)"
   ]
  },
  {
   "cell_type": "code",
   "execution_count": 159,
   "id": "900d5204-ea17-4853-ab82-ec72d997aaf2",
   "metadata": {},
   "outputs": [],
   "source": [
    "C0 = C0 / np.linalg.norm(C0)\n",
    "C1 = C1 / np.linalg.norm(C1)\n",
    "C1 = C1 - C0 @ C0.T @ C1\n",
    "C1 = C1 / np.linalg.norm(C1)"
   ]
  },
  {
   "cell_type": "code",
   "execution_count": 164,
   "id": "2d91c860-3f69-4190-a230-e4e59ef6a90b",
   "metadata": {},
   "outputs": [
    {
     "data": {
      "text/plain": [
       "array([[-9.35193608e-01,  4.21563594e-02],\n",
       "       [ 8.02246815e-08, -5.20662139e-07],\n",
       "       [-1.03764478e-03,  2.49683247e-03],\n",
       "       [ 2.42269549e-03, -1.34612548e-03],\n",
       "       [-1.06678667e-04, -2.19099659e-03],\n",
       "       [ 5.58595038e-04, -6.38499536e-04],\n",
       "       [ 1.90811859e-05, -2.35303085e-04],\n",
       "       [-1.71895872e-05,  2.03491407e-04],\n",
       "       [ 1.93487069e-05, -2.30701276e-04],\n",
       "       [-2.80819952e-07,  7.03778449e-08],\n",
       "       [-1.03963614e-03, -3.63866086e-01],\n",
       "       [-6.26941336e-05,  1.61773835e-01],\n",
       "       [-5.24549035e-02,  3.16013502e-01],\n",
       "       [ 8.81089193e-03,  7.14389355e-02],\n",
       "       [ 3.79945655e-02,  8.65198860e-02],\n",
       "       [-3.28798785e-02, -7.48763936e-02],\n",
       "       [ 3.75928588e-02,  8.56082174e-02],\n",
       "       [-7.02319049e-07, -9.12671139e-07],\n",
       "       [-4.06732050e-03, -1.00272942e-01],\n",
       "       [-6.12141645e-02,  4.35876745e-02],\n",
       "       [-7.69702966e-03,  8.84219384e-02],\n",
       "       [ 8.00332764e-03,  2.62563912e-02],\n",
       "       [ 7.06277648e-03,  2.53022540e-02],\n",
       "       [-6.11273956e-03, -2.18994031e-02],\n",
       "       [ 6.98665724e-03,  2.50343681e-02],\n",
       "       [ 3.33433304e-08,  9.80833030e-07],\n",
       "       [-1.36193715e-01,  1.17652319e-01],\n",
       "       [ 9.63113464e-04, -5.26030852e-02],\n",
       "       [ 4.82450718e-02, -9.19834135e-02],\n",
       "       [ 3.63032675e-02, -2.52661401e-02],\n",
       "       [-2.45991102e-04, -2.95971209e-02],\n",
       "       [ 2.13176781e-04,  2.56121962e-02],\n",
       "       [-2.43292566e-04, -2.92809965e-02],\n",
       "       [-1.30740880e-01, -6.76833150e-03],\n",
       "       [ 1.00124718e-06, -6.64443107e-08],\n",
       "       [-9.69727207e-07, -5.45375759e-07],\n",
       "       [-2.15563402e-06, -1.44384931e-06],\n",
       "       [-4.04771109e-07, -5.73590230e-07],\n",
       "       [ 1.45938707e-02,  7.50429458e-03],\n",
       "       [-2.16724972e-02,  2.30207233e-03],\n",
       "       [-3.37010946e-02, -5.57092447e-03],\n",
       "       [-8.11798513e-08,  4.86333419e-07],\n",
       "       [-2.32319811e-03,  2.25022179e-03],\n",
       "       [ 3.05738857e-03, -1.31147025e-03],\n",
       "       [ 8.54669984e-04, -2.32780260e-03],\n",
       "       [ 9.31821464e-05,  6.38349262e-04],\n",
       "       [-5.37564581e-04, -7.61674879e-04],\n",
       "       [ 4.65846834e-04,  6.59609094e-04],\n",
       "       [-5.32268589e-04, -7.56037638e-04],\n",
       "       [ 3.86928156e-07,  7.11099333e-07],\n",
       "       [-7.27447935e-02, -4.73645714e-01],\n",
       "       [ 3.14176369e-02,  2.82123113e-01],\n",
       "       [-3.44382724e-02,  4.26111824e-01],\n",
       "       [ 1.36691799e-02, -5.91262653e-02],\n",
       "       [ 1.20983231e-01,  1.79533495e-01],\n",
       "       [-1.04699294e-01, -1.55366471e-01],\n",
       "       [ 1.19707205e-01,  1.77638492e-01],\n",
       "       [ 9.84120415e-07,  6.43333939e-07],\n",
       "       [-1.60559541e-02, -1.27122994e-01],\n",
       "       [-5.16575044e-02,  7.96129026e-02],\n",
       "       [-1.57874305e-02,  1.16030561e-01],\n",
       "       [-8.59459849e-03, -2.41527390e-02],\n",
       "       [ 3.22028189e-02,  4.24085110e-02],\n",
       "       [-2.78678553e-02, -3.66965484e-02],\n",
       "       [ 3.18649166e-02,  4.19605962e-02],\n",
       "       [ 4.03827873e-07, -1.19360057e-06],\n",
       "       [-1.00843844e-01,  1.29891379e-01],\n",
       "       [ 1.26897826e-02, -7.65123809e-02],\n",
       "       [ 4.92780942e-02, -1.24297720e-01],\n",
       "       [ 1.62607952e-03,  1.95495054e-02],\n",
       "       [-1.88155135e-02, -4.94129648e-02],\n",
       "       [ 1.62823874e-02,  4.27643473e-02],\n",
       "       [-1.86165401e-02, -4.88968144e-02],\n",
       "       [-7.41544006e-02,  9.00062721e-03],\n",
       "       [ 4.51878457e-07, -7.33870125e-07],\n",
       "       [-2.67029816e-08,  6.80170636e-08],\n",
       "       [ 3.97186725e-07,  2.23654000e-06],\n",
       "       [-7.00148377e-08,  5.93947252e-07],\n",
       "       [ 1.95895851e-02, -8.06521699e-03],\n",
       "       [ 9.35920703e-03, -1.58331884e-03],\n",
       "       [-1.16172617e-02,  6.76485130e-03]])"
      ]
     },
     "execution_count": 164,
     "metadata": {},
     "output_type": "execute_result"
    }
   ],
   "source": [
    "C0C1"
   ]
  },
  {
   "cell_type": "code",
   "execution_count": 160,
   "id": "ed837af9-9fe4-4c47-868c-1088d0a73193",
   "metadata": {},
   "outputs": [],
   "source": [
    "C0C1 = np.block([C0,C1])\n",
    "n0n1 = np.block([n0,n1])\n",
    "n2n3 = np.block([n2,n3])"
   ]
  },
  {
   "cell_type": "code",
   "execution_count": 143,
   "id": "dc1b29de-43cf-40db-9364-5ad862313dec",
   "metadata": {},
   "outputs": [
    {
     "data": {
      "text/plain": [
       "array([[1.00000000e+00, 4.29670203e-11],\n",
       "       [4.29670203e-11, 9.99999997e-01]])"
      ]
     },
     "execution_count": 143,
     "metadata": {},
     "output_type": "execute_result"
    }
   ],
   "source": [
    "n0n1.T @ n0n1"
   ]
  },
  {
   "cell_type": "code",
   "execution_count": 138,
   "id": "27eead40-19a4-4edc-895d-cbd2df661d34",
   "metadata": {},
   "outputs": [
    {
     "data": {
      "text/plain": [
       "EighResult(eigenvalues=array([1.61659955e-08, 3.40026527e-08, 9.33623321e-02, 1.10103379e-01,\n",
       "       1.16721169e-01, 1.26989680e-01, 1.38676362e-01, 1.56304270e-01,\n",
       "       1.81035340e-01, 1.83020184e-01, 1.96148955e-01, 2.03166428e-01,\n",
       "       2.04291386e-01, 2.04754559e-01, 2.24425333e-01, 2.31110819e-01,\n",
       "       2.41511798e-01, 2.43541690e-01, 2.51085325e-01, 2.52524911e-01,\n",
       "       2.56670258e-01, 2.70081952e-01, 2.88617019e-01, 2.89543815e-01,\n",
       "       3.04527080e-01, 3.09150300e-01, 3.13433718e-01, 3.20495550e-01,\n",
       "       3.20989385e-01, 3.25650235e-01, 3.39871517e-01, 3.40614436e-01,\n",
       "       3.65079927e-01, 3.88135536e-01, 3.97031120e-01, 4.06609373e-01,\n",
       "       4.27917219e-01, 4.51727381e-01, 5.70879599e-01, 8.30732554e-01,\n",
       "       9.21184695e-01, 9.25940375e-01, 9.58837706e-01, 9.95298424e-01,\n",
       "       1.00248163e+00, 1.00937606e+00, 1.06087178e+00, 1.06723213e+00,\n",
       "       1.13218321e+00, 1.25500291e+00, 1.29230864e+00, 1.30536486e+00,\n",
       "       1.35639481e+00, 1.36034667e+00, 1.43435236e+00, 1.43744946e+00,\n",
       "       1.60412837e+00, 1.75907886e+00, 1.81340530e+00, 1.82185211e+00,\n",
       "       1.88455787e+00, 1.91800936e+00, 2.08056596e+00, 2.13368186e+00,\n",
       "       2.20376548e+00, 2.21061956e+00, 2.23319579e+00, 2.24407994e+00,\n",
       "       2.26748239e+00, 2.37532041e+00, 2.59574718e+00, 2.73448169e+00,\n",
       "       2.94390903e+00, 1.99618443e+01, 2.01071256e+01, 2.03169094e+01,\n",
       "       2.05112131e+01, 2.05958642e+01, 2.10328135e+01, 2.10923853e+01,\n",
       "       2.13927085e+01]), eigenvectors=array([[ 2.86026318e-01, -8.91377168e-01, -6.27717191e-07, ...,\n",
       "         1.79712420e-03, -1.38612368e-03,  1.19073109e-09],\n",
       "       [ 1.57166821e-09,  3.84130283e-09, -2.21867412e-03, ...,\n",
       "         4.46738134e-08, -2.46276884e-07, -6.76428382e-01],\n",
       "       [-1.97967608e-03, -1.84198559e-03,  3.47170846e-09, ...,\n",
       "         7.21127217e-02,  6.58649429e-01, -2.33768453e-07],\n",
       "       ...,\n",
       "       [ 2.46556105e-03,  2.22035555e-02,  6.44424345e-08, ...,\n",
       "        -3.16498450e-04,  4.19753469e-04, -2.49059253e-09],\n",
       "       [-4.68238675e-08,  3.06409729e-08, -4.05243388e-03, ...,\n",
       "         1.11394747e-09, -1.29361178e-09, -2.95927540e-05],\n",
       "       [-1.70188540e-03,  1.47535834e-02,  3.85615019e-08, ...,\n",
       "        -8.86795774e-04, -7.72791689e-05, -1.10194075e-09]]))"
      ]
     },
     "execution_count": 138,
     "metadata": {},
     "output_type": "execute_result"
    }
   ],
   "source": [
    "np.linalg.eigh(Hc2c2)"
   ]
  },
  {
   "cell_type": "code",
   "execution_count": null,
   "id": "499ab39d-9f78-41b1-842f-97449afeba93",
   "metadata": {},
   "outputs": [],
   "source": []
  }
 ],
 "metadata": {
  "kernelspec": {
   "display_name": "Python 3 (ipykernel)",
   "language": "python",
   "name": "python3"
  },
  "language_info": {
   "codemirror_mode": {
    "name": "ipython",
    "version": 3
   },
   "file_extension": ".py",
   "mimetype": "text/x-python",
   "name": "python",
   "nbconvert_exporter": "python",
   "pygments_lexer": "ipython3",
   "version": "3.10.13"
  }
 },
 "nbformat": 4,
 "nbformat_minor": 5
}
