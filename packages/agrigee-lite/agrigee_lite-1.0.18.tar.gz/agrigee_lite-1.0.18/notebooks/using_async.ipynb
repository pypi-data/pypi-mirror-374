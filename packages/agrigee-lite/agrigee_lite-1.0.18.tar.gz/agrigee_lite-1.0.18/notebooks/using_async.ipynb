{
 "cells": [
  {
   "cell_type": "code",
   "execution_count": 1,
   "id": "b957b9e4",
   "metadata": {},
   "outputs": [],
   "source": [
    "import agrigee_lite as agl\n",
    "import ee\n",
    "import geopandas as gpd"
   ]
  },
  {
   "cell_type": "code",
   "execution_count": 2,
   "id": "9951543e",
   "metadata": {},
   "outputs": [],
   "source": [
    "gdf = gpd.read_parquet(\"data/varda_brazil/MG.parquet\")"
   ]
  },
  {
   "cell_type": "code",
   "execution_count": 4,
   "id": "b15eba6e",
   "metadata": {},
   "outputs": [
    {
     "data": {
      "text/plain": [
       "np.int64(2020)"
      ]
     },
     "execution_count": 4,
     "metadata": {},
     "output_type": "execute_result"
    }
   ],
   "source": [
    "gdf.year.min()"
   ]
  },
  {
   "cell_type": "code",
   "execution_count": null,
   "id": "5530c583",
   "metadata": {},
   "outputs": [],
   "source": [
    "ee.Initialize(opt_url=\"https://earthengine-highvolume.googleapis.com\", project=\"ee-mateuspsilva\")"
   ]
  },
  {
   "cell_type": "code",
   "execution_count": null,
   "id": "ca3ffb77",
   "metadata": {},
   "outputs": [],
   "source": [
    "# sat = agl.sat.SatelliteEmbedding()\n",
    "sat = agl.sat.Sentinel2(use_sr=False, indices=[\"evi2\"])\n",
    "\n",
    "gdf = gpd.read_parquet(\"data/varda_brazil/MG.parquet\")\n",
    "gdf = gdf[gdf.start_date>=sat.startDate].reset_index(drop=True)\n",
    "\n",
    "gdf = gdf.sample(20000, random_state=42).reset_index(drop=True)"
   ]
  },
  {
   "cell_type": "code",
   "execution_count": null,
   "id": "27762746",
   "metadata": {},
   "outputs": [],
   "source": [
    "agl.get.multiple_sits_gdrive(gdf, sat)"
   ]
  },
  {
   "cell_type": "code",
   "execution_count": null,
   "id": "2a927473",
   "metadata": {},
   "outputs": [],
   "source": [
    "from agrigee_lite.get.sits import __download_multiple_sits_async"
   ]
  },
  {
   "cell_type": "code",
   "execution_count": null,
   "id": "f6d793fb",
   "metadata": {},
   "outputs": [],
   "source": [
    "await __download_multiple_sits_async(gdf, sat)"
   ]
  }
 ],
 "metadata": {
  "kernelspec": {
   "display_name": ".venv",
   "language": "python",
   "name": "python3"
  },
  "language_info": {
   "codemirror_mode": {
    "name": "ipython",
    "version": 3
   },
   "file_extension": ".py",
   "mimetype": "text/x-python",
   "name": "python",
   "nbconvert_exporter": "python",
   "pygments_lexer": "ipython3",
   "version": "3.11.10"
  }
 },
 "nbformat": 4,
 "nbformat_minor": 5
}
