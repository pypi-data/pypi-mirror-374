{
 "cells": [
  {
   "cell_type": "code",
   "execution_count": 8,
   "id": "e7f6f82d",
   "metadata": {},
   "outputs": [
    {
     "name": "stdout",
     "output_type": "stream",
     "text": [
      "Earth Engine initialized successfully using AgriGEE.lite for academic usage (project=ee-mateuspsilva).\n"
     ]
    }
   ],
   "source": [
    "import agrigee_lite as agl\n",
    "import ee\n",
    "import os"
   ]
  },
  {
   "cell_type": "code",
   "execution_count": 6,
   "id": "37b4e87c",
   "metadata": {},
   "outputs": [
    {
     "name": "stdout",
     "output_type": "stream",
     "text": [
      "Terminated\n"
     ]
    }
   ],
   "source": [
    "!killall aria2c & aria2c --daemon=true --enable-rpc -j50 -x1 -s1 --max-tries=3 --retry-wait=10 --continue=true\n",
    "! # --auto-file-renaming=false"
   ]
  },
  {
   "cell_type": "code",
   "execution_count": 15,
   "id": "077e935c",
   "metadata": {},
   "outputs": [],
   "source": [
    "!aria2c --daemon=true --enable-rpc -j50 -x1 -s1 --max-tries=3 --retry-wait=10 --continue=true"
   ]
  },
  {
   "cell_type": "code",
   "execution_count": 1,
   "id": "1824062e",
   "metadata": {},
   "outputs": [],
   "source": [
    "import aria2p\n",
    "\n",
    "aria2 = aria2p.API(aria2p.Client(host=\"http://localhost\", port=6800, secret=\"\"))"
   ]
  },
  {
   "cell_type": "code",
   "execution_count": 6,
   "id": "550617af",
   "metadata": {},
   "outputs": [
    {
     "data": {
      "text/plain": [
       "'error'"
      ]
     },
     "execution_count": 6,
     "metadata": {},
     "output_type": "execute_result"
    }
   ],
   "source": [
    "aria2.get_downloads()[-1].status"
   ]
  },
  {
   "cell_type": "code",
   "execution_count": 9,
   "id": "2729425e",
   "metadata": {},
   "outputs": [
    {
     "name": "stdout",
     "output_type": "stream",
     "text": [
      "URL for downloading FeatureCollection as CSV: https://earthengine-highvolume.googleapis.com/v1/projects/ee-mateuspsilva/tables/802d0af813bc5f9299fa142878374990-70ec37c81c5325a69662889d9e31ac00:getFeatures\n"
     ]
    }
   ],
   "source": [
    "# FeatureCollection of power plants in Belgium.\n",
    "fc = ee.FeatureCollection(\"WRI/GPPD/power_plants\")\n",
    "\n",
    "# Get a download URL for the FeatureCollection.\n",
    "download_url = fc.getDownloadURL(**{\n",
    "    \"filetype\": \"CSV\",\n",
    "    # 'selectors': ['capacitymw', 'fuel1'],\n",
    "    \"filename\": \"aaa\",\n",
    "})\n",
    "print(\"URL for downloading FeatureCollection as CSV:\", download_url)"
   ]
  },
  {
   "cell_type": "code",
   "execution_count": 17,
   "id": "cd0ed160",
   "metadata": {},
   "outputs": [
    {
     "data": {
      "text/plain": [
       "[]"
      ]
     },
     "execution_count": 17,
     "metadata": {},
     "output_type": "execute_result"
    }
   ],
   "source": [
    "aria2.get_downloads()"
   ]
  },
  {
   "cell_type": "code",
   "execution_count": null,
   "id": "3d36a222",
   "metadata": {},
   "outputs": [],
   "source": []
  },
  {
   "cell_type": "code",
   "execution_count": null,
   "id": "19c29493",
   "metadata": {},
   "outputs": [],
   "source": [
    "aria2p.stats.Stats"
   ]
  },
  {
   "cell_type": "code",
   "execution_count": 10,
   "id": "e78764b1",
   "metadata": {},
   "outputs": [],
   "source": [
    "download_a = aria2.add_uris([download_url], options={\"dir\": \"/home/mateus/git/AgriGEE.lite/aatesturl\"})"
   ]
  },
  {
   "cell_type": "code",
   "execution_count": 11,
   "id": "3622c577",
   "metadata": {},
   "outputs": [
    {
     "data": {
      "text/plain": [
       "'active'"
      ]
     },
     "execution_count": 11,
     "metadata": {},
     "output_type": "execute_result"
    }
   ],
   "source": [
    "download_a.status"
   ]
  },
  {
   "cell_type": "code",
   "execution_count": null,
   "id": "ddc48cad",
   "metadata": {},
   "outputs": [],
   "source": [
    "os.makedirs(\"aatesturl\")"
   ]
  },
  {
   "cell_type": "code",
   "execution_count": null,
   "id": "d57f85ed",
   "metadata": {},
   "outputs": [],
   "source": [
    "!aria2c --daemon=true --enable-rpc -j10 -x1 -s1 --max-tries=5 --max-file-not-found=5 --retry-wait=10 --continue=true --auto-file-renaming=false"
   ]
  },
  {
   "cell_type": "code",
   "execution_count": 5,
   "id": "d9c26565",
   "metadata": {},
   "outputs": [
    {
     "data": {
      "text/plain": [
       "{'downloadSpeed': '0',\n",
       " 'numActive': '0',\n",
       " 'numStopped': '667',\n",
       " 'numStoppedTotal': '667',\n",
       " 'numWaiting': '0',\n",
       " 'uploadSpeed': '0'}"
      ]
     },
     "execution_count": 5,
     "metadata": {},
     "output_type": "execute_result"
    }
   ],
   "source": [
    "aria2.get_stats()._struct"
   ]
  },
  {
   "cell_type": "code",
   "execution_count": null,
   "id": "11c25f1a",
   "metadata": {},
   "outputs": [],
   "source": [
    "import concurrent.futures\n",
    "import getpass\n",
    "import json\n",
    "import logging\n",
    "import logging.handlers\n",
    "import pathlib\n",
    "import queue\n",
    "import time\n",
    "from functools import partial\n",
    "\n",
    "import ee\n",
    "import geopandas as gpd\n",
    "import numpy as np\n",
    "import pandas as pd\n",
    "import pandera as pa\n",
    "from shapely import Polygon\n",
    "from smart_open import open  # noqa: A004\n",
    "from tqdm.std import tqdm\n",
    "\n",
    "from agrigee_lite.ee_utils import ee_gdf_to_feature_collection, ee_get_tasks_status\n",
    "from agrigee_lite.misc import (\n",
    "    add_indexnum_column,\n",
    "    create_gdf_hash,\n",
    "    log_dict_function_call_summary,\n",
    "    quadtree_clustering,\n",
    "    remove_underscore_in_df,\n",
    ")\n",
    "from agrigee_lite.sat.abstract_satellite import AbstractSatellite\n",
    "from agrigee_lite.task_manager import GEETaskManager\n",
    "\n",
    "\n",
    "def build_chunk_download_urls(\n",
    "    gdf,\n",
    "    satellite,\n",
    "    reducers: list[str] | None = None,\n",
    "    subsampling_max_pixels: float = 1_000,\n",
    "    chunksize: int = 100,\n",
    "    max_parallel_downloads: int = 50,\n",
    ") -> list[str]:\n",
    "\n",
    "    schema = pa.DataFrameSchema({\n",
    "        \"geometry\": pa.Column(\"geometry\", nullable=False),\n",
    "        \"start_date\": pa.Column(\n",
    "            pa.DateTime,\n",
    "            nullable=False,\n",
    "        ),\n",
    "        \"end_date\": pa.Column(\n",
    "            pa.DateTime,\n",
    "            nullable=False,\n",
    "        ),\n",
    "    })\n",
    "    schema.validate(gdf, lazy=True)\n",
    "\n",
    "    if len(gdf) == 0:\n",
    "        return []\n",
    "\n",
    "    gdf = gdf.copy()\n",
    "    add_indexnum_column(gdf)\n",
    "    gdf = quadtree_clustering(gdf, max_size=1000)\n",
    "    hashname = create_gdf_hash(gdf)\n",
    "\n",
    "    output_path = pathlib.Path(\"data/temp\") / \"aria2\" / f\"{satellite.shortName}_{hashname}_{chunksize}\"\n",
    "    output_path.mkdir(parents=True, exist_ok=True)\n",
    "\n",
    "    num_chunks = (len(gdf) + chunksize - 1) // chunksize\n",
    "\n",
    "    total_rows = len(gdf)\n",
    "    pbar = tqdm(total=total_rows, desc=\"Building download URLs\", unit=\"feature\", smoothing=0)\n",
    "\n",
    "    for i in range(num_chunks):\n",
    "\n",
    "        if not (output_path / f\"{i}.csv\").exists():\n",
    "\n",
    "            while (int(aria2.get_stats()._struct['numActive']) + int(aria2.get_stats()._struct['numWaiting'])) >= max_parallel_downloads:\n",
    "                time.sleep(5)\n",
    "\n",
    "            sub = gdf.iloc[i * chunksize : (i + 1) * chunksize]\n",
    "\n",
    "            fc = ee_gdf_to_feature_collection(sub)\n",
    "            ee_expression = ee.FeatureCollection(\n",
    "                fc.map(\n",
    "                    partial(\n",
    "                        satellite.compute,\n",
    "                        reducers=reducers,\n",
    "                        subsampling_max_pixels=subsampling_max_pixels,\n",
    "                    )\n",
    "                )\n",
    "            ).flatten()\n",
    "\n",
    "\n",
    "            url = ee_expression.getDownloadURL(\n",
    "                filetype=\"csv\",\n",
    "                selectors=[\n",
    "                    \"00_indexnum\",\n",
    "                    \"01_timestamp\",\n",
    "                    *[numeral_band_name for _, numeral_band_name in satellite.selectedBands],\n",
    "                    *[numeral_indice_name for _, _, numeral_indice_name in satellite.selectedIndices],\n",
    "                    \"99_validPixelsCount\",\n",
    "                ],\n",
    "                filename=f\"{i}\",\n",
    "            )\n",
    "            aria2.add_uris([url], options={\"dir\": str(output_path.absolute()) + \"/\"})\n",
    "\n",
    "        stopped = int(aria2.get_stats()._struct.get(\"numStopped\", \"0\"))\n",
    "        pbar.set_postfix(error_downloads=stopped)\n",
    "        pbar.update(min(chunksize, total_rows - i * chunksize))\n",
    "\n",
    "    pbar.close()"
   ]
  },
  {
   "cell_type": "code",
   "execution_count": 8,
   "id": "a6268095",
   "metadata": {},
   "outputs": [],
   "source": [
    "gdf = gpd.read_parquet(\"data/mt_crops.parquet\")\n",
    "\n",
    "gdf[\"start_date\"] = pd.to_datetime(gdf.year.apply(lambda x: f\"{x - 1}-10-01\"))\n",
    "gdf[\"end_date\"] = pd.to_datetime(gdf.year.apply(lambda x: f\"{x}-10-01\"))"
   ]
  },
  {
   "cell_type": "code",
   "execution_count": 9,
   "id": "e48c3f16",
   "metadata": {},
   "outputs": [],
   "source": [
    "gdf = gdf.sample(20000, random_state=13).reset_index(drop=True)"
   ]
  },
  {
   "cell_type": "code",
   "execution_count": 10,
   "id": "355c7e0f",
   "metadata": {},
   "outputs": [],
   "source": [
    "s2_sat = agl.sat.Sentinel2(use_sr=False)"
   ]
  },
  {
   "cell_type": "code",
   "execution_count": 18,
   "id": "8e58c161",
   "metadata": {},
   "outputs": [
    {
     "name": "stderr",
     "output_type": "stream",
     "text": [
      "Building download URLs:   0%|          | 0/20000 [00:40<?, ?feature/s]\n",
      "Simplifying clusters: 100%|██████████| 32/32 [00:02<00:00, 14.74it/s]\n",
      "Building download URLs: 100%|██████████| 20000/20000 [31:51<00:00, 10.46feature/s]\n"
     ]
    }
   ],
   "source": [
    "build_chunk_download_urls(gdf, s2_sat, chunksize=10)"
   ]
  },
  {
   "cell_type": "code",
   "execution_count": null,
   "id": "dbd857b3",
   "metadata": {},
   "outputs": [],
   "source": [
    "urls"
   ]
  },
  {
   "cell_type": "code",
   "execution_count": null,
   "id": "f89f287f",
   "metadata": {},
   "outputs": [],
   "source": [
    "def salvar_urls_txt(urls: list[str], caminho_arquivo: str = \"urls.txt\") -> str:\n",
    "    \"\"\"\n",
    "    Salva uma lista de URLs em um arquivo de texto para ser usado no aria2.\n",
    "\n",
    "    Args:\n",
    "        urls (list[str]): Lista de URLs de download.\n",
    "        caminho_arquivo (str): Caminho do arquivo de saída.\n",
    "\n",
    "    Returns:\n",
    "        str: Caminho do arquivo gerado.\n",
    "    \"\"\"\n",
    "    with open(caminho_arquivo, \"w\", encoding=\"utf-8\") as f:\n",
    "        for url in urls:\n",
    "            f.write(url.strip() + \"\\n\")\n",
    "    return caminho_arquivo"
   ]
  },
  {
   "cell_type": "code",
   "execution_count": null,
   "id": "66b82090",
   "metadata": {},
   "outputs": [],
   "source": [
    "salvar_urls_txt(urls)"
   ]
  },
  {
   "cell_type": "code",
   "execution_count": null,
   "id": "0a42d12f",
   "metadata": {},
   "outputs": [],
   "source": [
    "agl.get.multiple_sits(gdf, s2_sat, force_redownload=True)"
   ]
  },
  {
   "cell_type": "code",
   "execution_count": null,
   "id": "84259436",
   "metadata": {},
   "outputs": [],
   "source": [
    "# FeatureCollection of power plants in Belgium.\n",
    "fc = ee.FeatureCollection(\"WRI/GPPD/power_plants\")\n",
    "\n",
    "# Get a download URL for the FeatureCollection.\n",
    "download_url = fc.getDownloadURL(**{\n",
    "    \"filetype\": \"kmz\",\n",
    "    \"selectors\": [\"capacitymw\", \"fuel1\"],\n",
    "    \"filename\": \"belgian_power_plants_sel\",\n",
    "})\n",
    "print(\"URL for downloading FeatureCollection as KMZ:\", download_url)"
   ]
  },
  {
   "cell_type": "code",
   "execution_count": null,
   "id": "73cde2b9",
   "metadata": {},
   "outputs": [],
   "source": [
    "df = pd.read_parquet(\"data/temp/s2sr_d0d42d6ccada0d6fefe7e383eb9b58d53a971efb_10000/1.parquet\")"
   ]
  },
  {
   "cell_type": "code",
   "execution_count": null,
   "id": "29123f59",
   "metadata": {},
   "outputs": [],
   "source": [
    "df"
   ]
  }
 ],
 "metadata": {
  "kernelspec": {
   "display_name": ".venv",
   "language": "python",
   "name": "python3"
  },
  "language_info": {
   "codemirror_mode": {
    "name": "ipython",
    "version": 3
   },
   "file_extension": ".py",
   "mimetype": "text/x-python",
   "name": "python",
   "nbconvert_exporter": "python",
   "pygments_lexer": "ipython3",
   "version": "3.11.10"
  }
 },
 "nbformat": 4,
 "nbformat_minor": 5
}
