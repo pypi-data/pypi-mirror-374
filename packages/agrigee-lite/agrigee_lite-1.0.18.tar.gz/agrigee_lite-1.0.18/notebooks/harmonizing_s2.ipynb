{
 "cells": [
  {
   "cell_type": "code",
   "execution_count": 1,
   "id": "422adc32",
   "metadata": {},
   "outputs": [],
   "source": [
    "import ee"
   ]
  },
  {
   "cell_type": "code",
   "execution_count": 2,
   "id": "952f7119",
   "metadata": {},
   "outputs": [],
   "source": [
    "from agrigee_lite.ee_utils import ee_filter_img_collection_invalid_pixels"
   ]
  },
  {
   "cell_type": "code",
   "execution_count": 3,
   "id": "97fc9bd7",
   "metadata": {},
   "outputs": [],
   "source": [
    "ee.Initialize(opt_url=\"https://earthengine-highvolume.googleapis.com\", project=\"ee-mateuspsilva\")"
   ]
  },
  {
   "cell_type": "code",
   "execution_count": null,
   "id": "0070a5f2",
   "metadata": {},
   "outputs": [],
   "source": [
    "def intersect_lists(list1, list2):\n",
    "    return list1.map(lambda el: ee.Algorithms.If(list2.contains(el), el, None)).removeAll([None])"
   ]
  },
  {
   "cell_type": "code",
   "execution_count": null,
   "id": "c85c5d31",
   "metadata": {},
   "outputs": [],
   "source": [
    "# Define aoi e intervalo de datas\n",
    "aoi = ee.Geometry.Polygon([\n",
    "    [\n",
    "        [-45.75383264123897, -11.695413119483494],\n",
    "        [-45.74318963586788, -11.695413119483494],\n",
    "        [-45.74318963586788, -11.6879326786798],\n",
    "        [-45.75383264123897, -11.6879326786798],\n",
    "        [-45.75383264123897, -11.695413119483494],\n",
    "    ]\n",
    "])\n",
    "start_date = '2022-01-01'\n",
    "end_date = '2022-12-31'\n",
    "pixel_size = 10  # ou 30, dependendo do satélite\n",
    "\n",
    "# Carrega coleções\n",
    "l8_raw = ee.ImageCollection('LANDSAT/LC08/C02/T1_L2').filterBounds(aoi).filterDate(start_date, end_date)\n",
    "s2_raw = ee.ImageCollection('COPERNICUS/S2_SR_HARMONIZED').filterBounds(aoi).filterDate(start_date, end_date)\n",
    "\n",
    "# Aplica filtro de pixels válidos e adiciona ZZ_USER_TIME_DUMMY\n",
    "l8 = ee_filter_img_collection_invalid_pixels(l8_raw, ee_geometry=aoi, pixel_size=30, min_valid_pixels=5)\n",
    "s2 = ee_filter_img_collection_invalid_pixels(s2_raw, ee_geometry=aoi, pixel_size=10)\n",
    "\n",
    "# Extrai datas únicas com base em ZZ_USER_TIME_DUMMY\n",
    "def extract_dates(imgcol):\n",
    "    return imgcol.aggregate_array('ZZ_USER_TIME_DUMMY').distinct()\n",
    "\n",
    "l8_dates = extract_dates(l8)\n",
    "s2_dates = extract_dates(s2)\n",
    "\n",
    "common_dates = intersect_lists(l8_dates, s2_dates)\n",
    "\n",
    "# Filtra coleções apenas para as datas em comum (comparando com ZZ_USER_TIME_DUMMY)\n",
    "def filter_by_common_dates(ic, dates):\n",
    "    return ic.filter(ee.Filter.inList('ZZ_USER_TIME_DUMMY', dates))\n",
    "\n",
    "l8_filtered = filter_by_common_dates(l8, common_dates)\n",
    "s2_filtered = filter_by_common_dates(s2, common_dates)\n"
   ]
  },
  {
   "cell_type": "code",
   "execution_count": null,
   "id": "8c97fc45",
   "metadata": {},
   "outputs": [],
   "source": [
    "l8_filtered"
   ]
  },
  {
   "cell_type": "code",
   "execution_count": null,
   "id": "c0c0b60e",
   "metadata": {},
   "outputs": [],
   "source": [
    "s2_filtered"
   ]
  },
  {
   "cell_type": "code",
   "execution_count": null,
   "id": "32800e1a",
   "metadata": {},
   "outputs": [],
   "source": [
    "l8_filtered"
   ]
  },
  {
   "cell_type": "code",
   "execution_count": null,
   "id": "000910b9",
   "metadata": {},
   "outputs": [],
   "source": [
    "s2_filtered"
   ]
  },
  {
   "cell_type": "code",
   "execution_count": null,
   "id": "47c3f6a8",
   "metadata": {},
   "outputs": [],
   "source": [
    "import geemap"
   ]
  },
  {
   "cell_type": "code",
   "execution_count": null,
   "id": "928286e0",
   "metadata": {},
   "outputs": [],
   "source": [
    "l8_filtered"
   ]
  },
  {
   "cell_type": "code",
   "execution_count": null,
   "id": "47bb4281",
   "metadata": {},
   "outputs": [],
   "source": [
    "# Define aoi e intervalo de datas\n",
    "aoi = ee.Geometry.BBox(-50, -15, -49, -14)\n",
    "start_date = '2022-01-01'\n",
    "end_date = '2022-12-31'\n",
    "\n",
    "# Coleções\n",
    "l8 = ee.ImageCollection('LANDSAT/LC08/C02/T1_L2') \\\n",
    "    .filterBounds(aoi) \\\n",
    "    .filterDate(start_date, end_date)\n",
    "\n",
    "s2 = ee.ImageCollection('COPERNICUS/S2_SR_HARMONIZED') \\\n",
    "    .filterBounds(aoi) \\\n",
    "    .filterDate(start_date, end_date)\n",
    "\n",
    "# Extrai datas únicas (formato yyyy-mm-dd)\n",
    "def extract_dates(ic, date_property='DATE'):\n",
    "    return ic.map(lambda img: img.set(date_property, ee.Date(img.get('system:time_start')).format('yyyy-MM-dd'))) \\\n",
    "             .aggregate_array(date_property) \\\n",
    "             .distinct()\n",
    "\n",
    "l8_dates = extract_dates(l8)\n",
    "s2_dates = extract_dates(s2)\n",
    "\n",
    "# Interseção de datas\n",
    "common_dates = intersect_lists(l8_dates, s2_dates)\n",
    "\n",
    "# Adiciona campo DATE (yyyy-MM-dd) para cada imagem\n",
    "def add_date_string(img):\n",
    "    return img.set('DATE', ee.Date(img.get('system:time_start')).format('YYYY-MM-dd'))\n",
    "\n",
    "# Aplica isso nas duas coleções\n",
    "l8 = l8.map(add_date_string)\n",
    "s2 = s2.map(add_date_string)\n",
    "\n",
    "def filter_by_dates(ic, dates):\n",
    "    return ic.filter(ee.Filter.inList('DATE', dates))\n",
    "\n",
    "l8_filtered = filter_by_dates(l8, common_dates)\n",
    "s2_filtered = filter_by_dates(s2, common_dates)"
   ]
  },
  {
   "cell_type": "code",
   "execution_count": null,
   "id": "d663e410",
   "metadata": {},
   "outputs": [],
   "source": [
    "l8_filtered"
   ]
  },
  {
   "cell_type": "code",
   "execution_count": null,
   "id": "4a0b9ab8",
   "metadata": {},
   "outputs": [],
   "source": [
    "import geemap"
   ]
  },
  {
   "cell_type": "code",
   "execution_count": null,
   "id": "cc935728",
   "metadata": {},
   "outputs": [],
   "source": [
    "l8_filtered"
   ]
  },
  {
   "cell_type": "code",
   "execution_count": null,
   "id": "442cebd5",
   "metadata": {},
   "outputs": [],
   "source": [
    "s2_filtered"
   ]
  },
  {
   "cell_type": "code",
   "execution_count": null,
   "id": "11019b6d",
   "metadata": {},
   "outputs": [],
   "source": [
    "for x in l8_dates.getInfo():\n",
    "    print(x, end=\" \")"
   ]
  },
  {
   "cell_type": "code",
   "execution_count": null,
   "id": "831872ea",
   "metadata": {},
   "outputs": [],
   "source": [
    "for x in s2_dates.getInfo():\n",
    "    print(x, end=\" \")"
   ]
  },
  {
   "cell_type": "code",
   "execution_count": null,
   "id": "7635ea91",
   "metadata": {},
   "outputs": [],
   "source": [
    "for x in common_dates.getInfo():\n",
    "    print(x, end=\" \")"
   ]
  },
  {
   "cell_type": "code",
   "execution_count": null,
   "id": "f18e90c2",
   "metadata": {},
   "outputs": [],
   "source": [
    "l8_filtered = filter_by_dates(l8, l8_dates)"
   ]
  },
  {
   "cell_type": "code",
   "execution_count": null,
   "id": "232b4479",
   "metadata": {},
   "outputs": [],
   "source": [
    "s2_filtered.size().getInfo()"
   ]
  },
  {
   "cell_type": "code",
   "execution_count": null,
   "id": "35789d17",
   "metadata": {},
   "outputs": [],
   "source": [
    "import geemap"
   ]
  },
  {
   "cell_type": "code",
   "execution_count": null,
   "id": "846c9ca2",
   "metadata": {},
   "outputs": [],
   "source": [
    "s2_filtered.getInfo()"
   ]
  },
  {
   "cell_type": "code",
   "execution_count": null,
   "id": "936031bd",
   "metadata": {},
   "outputs": [],
   "source": [
    "print()"
   ]
  },
  {
   "cell_type": "code",
   "execution_count": null,
   "id": "d47c32d3",
   "metadata": {},
   "outputs": [],
   "source": [
    "l8_filtered.size().getInfo()"
   ]
  },
  {
   "cell_type": "code",
   "execution_count": null,
   "id": "24c5978d",
   "metadata": {},
   "outputs": [],
   "source": [
    "import agrigee_lite as agl"
   ]
  },
  {
   "cell_type": "code",
   "execution_count": null,
   "id": "d7a585a6",
   "metadata": {},
   "outputs": [],
   "source": [
    "s2_sat = agl.sat.Sentinel2()\n",
    "l8_sat = agl.sat.Landsat8()"
   ]
  },
  {
   "cell_type": "code",
   "execution_count": null,
   "id": "846e7da4",
   "metadata": {},
   "outputs": [],
   "source": []
  },
  {
   "cell_type": "code",
   "execution_count": null,
   "id": "462f8fae",
   "metadata": {},
   "outputs": [],
   "source": []
  },
  {
   "cell_type": "code",
   "execution_count": 13,
   "id": "39d4db88",
   "metadata": {},
   "outputs": [],
   "source": [
    "def extract_dates(imgcol):\n",
    "    return imgcol.aggregate_array('ZZ_USER_TIME_DUMMY').distinct()\n",
    "\n",
    "def filter_by_common_dates(ic, dates):\n",
    "    return ic.filter(ee.Filter.inList('ZZ_USER_TIME_DUMMY', dates))\n",
    "\n",
    "def intersect_lists(list1, list2):\n",
    "    return list1.map(lambda el: ee.Algorithms.If(list2.contains(el), el, None)).removeAll([None])\n",
    "\n",
    "def rename_bands(collection: ee.ImageCollection, prefix: str, postfix: str):\n",
    "    def rename(image):\n",
    "        image = ee.Image(image)\n",
    "        band_names = image.bandNames()\n",
    "        new_names = band_names.map(lambda name: ee.String(prefix).cat(name).cat(ee.String(postfix)))\n",
    "        return image.select(band_names, new_names)\n",
    "    return collection.map(rename)"
   ]
  },
  {
   "cell_type": "code",
   "execution_count": 4,
   "id": "d6bfc3f6",
   "metadata": {},
   "outputs": [],
   "source": [
    "from agrigee_lite.sat.abstract_satellite import OpticalSatellite\n",
    "\n",
    "from functools import partial\n",
    "\n",
    "from agrigee_lite.ee_utils import (\n",
    "    ee_add_indexes_to_image,\n",
    "    ee_cloud_probability_mask,\n",
    "    ee_filter_img_collection_invalid_pixels,\n",
    "    ee_get_number_of_pixels,\n",
    "    ee_get_reducers,\n",
    "    ee_map_bands_and_doy,\n",
    "    ee_safe_remove_borders,\n",
    ")"
   ]
  },
  {
   "cell_type": "code",
   "execution_count": 22,
   "id": "2d70eb9c",
   "metadata": {},
   "outputs": [],
   "source": [
    "class UnifiedSatellite(OpticalSatellite):\n",
    "    def __init__(self, satellite_a, satellite_b):\n",
    "        super().__init__()\n",
    "        self.sat_a = satellite_a\n",
    "        self.sat_b = satellite_b\n",
    "\n",
    "        self.startDate = satellite_a.startDate\n",
    "        self.endDate = satellite_b.endDate\n",
    "        self.pixelSize = min(satellite_a.pixelSize, satellite_b.pixelSize)\n",
    "\n",
    "    def imageCollection(self, ee_feature: ee.Feature) -> ee.ImageCollection:\n",
    "        sat_a = self.sat_a.imageCollection(ee_feature)\n",
    "        sat_b = self.sat_b.imageCollection(ee_feature)\n",
    "\n",
    "        sat_a_dates = extract_dates(sat_a)\n",
    "        sat_b_dates = extract_dates(sat_b)\n",
    "\n",
    "        common_dates = intersect_lists(sat_a_dates, sat_b_dates)\n",
    "\n",
    "        sat_a_filtered = filter_by_common_dates(sat_a, common_dates)\n",
    "        sat_b_filtered = filter_by_common_dates(sat_b, common_dates)\n",
    "\n",
    "        sat_a_filtered = rename_bands(sat_a_filtered, \"8\", \"sat_a\")\n",
    "        sat_b_filtered = rename_bands(sat_b_filtered, \"7\", \"sat_b\")\n",
    "\n",
    "        merged = sat_a_filtered.linkCollection(sat_b_filtered, matchPropertyName=\"ZZ_USER_TIME_DUMMY\", linkedBands=sat_b_filtered.first().bandNames())\n",
    "\n",
    "        return merged\n",
    "\n",
    "    def compute(\n",
    "        self,\n",
    "        ee_feature: ee.Feature,\n",
    "        subsampling_max_pixels: float,\n",
    "        reducers: list[str] | None = None,\n",
    "    ) -> ee.FeatureCollection:\n",
    "        ee_geometry = ee_feature.geometry()\n",
    "        ee_geometry = ee_safe_remove_borders(ee_geometry, self.pixelSize, 35000)\n",
    "        ee_feature = ee_feature.setGeometry(ee_geometry)\n",
    "\n",
    "        s2_img = self.imageCollection(ee_feature)\n",
    "\n",
    "        features = s2_img.map(\n",
    "            partial(\n",
    "                ee_map_bands_and_doy,\n",
    "                ee_feature=ee_feature,\n",
    "                pixel_size=self.pixelSize,\n",
    "                subsampling_max_pixels=ee_get_number_of_pixels(ee_geometry, subsampling_max_pixels, self.pixelSize),\n",
    "                reducer=ee_get_reducers(reducers),\n",
    "            )\n",
    "        )\n",
    "\n",
    "        return features\n"
   ]
  },
  {
   "cell_type": "code",
   "execution_count": 6,
   "id": "88fc0968",
   "metadata": {},
   "outputs": [],
   "source": [
    "import geopandas as gpd"
   ]
  },
  {
   "cell_type": "code",
   "execution_count": 10,
   "id": "f9657224",
   "metadata": {},
   "outputs": [],
   "source": [
    "import agrigee_lite as agl"
   ]
  },
  {
   "cell_type": "code",
   "execution_count": 7,
   "id": "3ed749ed",
   "metadata": {},
   "outputs": [],
   "source": [
    "gdf = gpd.read_parquet(\"data/sample.parquet\")"
   ]
  },
  {
   "cell_type": "code",
   "execution_count": 8,
   "id": "aedc784d",
   "metadata": {},
   "outputs": [],
   "source": [
    "row = gdf.iloc[3]"
   ]
  },
  {
   "cell_type": "code",
   "execution_count": 23,
   "id": "7d35ed8e",
   "metadata": {},
   "outputs": [],
   "source": [
    "s2_sat = agl.sat.Sentinel2()\n",
    "l8_sat = agl.sat.Landsat8()\n",
    "merged_sat = UnifiedSatellite(s2_sat, l8_sat)"
   ]
  },
  {
   "cell_type": "code",
   "execution_count": 24,
   "id": "4f61fc36",
   "metadata": {},
   "outputs": [
    {
     "data": {
      "text/html": [
       "<div>\n",
       "<style scoped>\n",
       "    .dataframe tbody tr th:only-of-type {\n",
       "        vertical-align: middle;\n",
       "    }\n",
       "\n",
       "    .dataframe tbody tr th {\n",
       "        vertical-align: top;\n",
       "    }\n",
       "\n",
       "    .dataframe thead th {\n",
       "        text-align: right;\n",
       "    }\n",
       "</style>\n",
       "<table border=\"1\" class=\"dataframe\">\n",
       "  <thead>\n",
       "    <tr style=\"text-align: right;\">\n",
       "      <th></th>\n",
       "      <th>indexnum</th>\n",
       "      <th>timestamp</th>\n",
       "      <th>bluesat_b</th>\n",
       "      <th>greensat_b</th>\n",
       "      <th>redsat_b</th>\n",
       "      <th>nirsat_b</th>\n",
       "      <th>swir1sat_b</th>\n",
       "      <th>swir2sat_b</th>\n",
       "      <th>bluesat_a</th>\n",
       "      <th>greensat_a</th>\n",
       "      <th>redsat_a</th>\n",
       "      <th>re1sat_a</th>\n",
       "      <th>re2sat_a</th>\n",
       "      <th>re3sat_a</th>\n",
       "      <th>nirsat_a</th>\n",
       "      <th>re4sat_a</th>\n",
       "      <th>swir1sat_a</th>\n",
       "      <th>swir2sat_a</th>\n",
       "      <th>validPixelsCount</th>\n",
       "    </tr>\n",
       "  </thead>\n",
       "  <tbody>\n",
       "    <tr>\n",
       "      <th>0</th>\n",
       "      <td>0</td>\n",
       "      <td>2020-12-17</td>\n",
       "      <td>0.035950</td>\n",
       "      <td>0.053742</td>\n",
       "      <td>0.031292</td>\n",
       "      <td>0.603083</td>\n",
       "      <td>0.227289</td>\n",
       "      <td>0.089713</td>\n",
       "      <td>0.032334</td>\n",
       "      <td>0.056738</td>\n",
       "      <td>0.030345</td>\n",
       "      <td>0.091900</td>\n",
       "      <td>0.450771</td>\n",
       "      <td>0.598475</td>\n",
       "      <td>0.577234</td>\n",
       "      <td>0.629825</td>\n",
       "      <td>0.266430</td>\n",
       "      <td>0.118397</td>\n",
       "      <td>48842</td>\n",
       "    </tr>\n",
       "    <tr>\n",
       "      <th>1</th>\n",
       "      <td>0</td>\n",
       "      <td>2021-03-07</td>\n",
       "      <td>0.059654</td>\n",
       "      <td>0.099062</td>\n",
       "      <td>0.127204</td>\n",
       "      <td>0.254190</td>\n",
       "      <td>0.325549</td>\n",
       "      <td>0.188960</td>\n",
       "      <td>0.115700</td>\n",
       "      <td>0.147400</td>\n",
       "      <td>0.175200</td>\n",
       "      <td>0.213200</td>\n",
       "      <td>0.251700</td>\n",
       "      <td>0.272700</td>\n",
       "      <td>0.270400</td>\n",
       "      <td>0.300700</td>\n",
       "      <td>0.389200</td>\n",
       "      <td>0.262200</td>\n",
       "      <td>38554</td>\n",
       "    </tr>\n",
       "    <tr>\n",
       "      <th>2</th>\n",
       "      <td>0</td>\n",
       "      <td>2021-05-26</td>\n",
       "      <td>0.025473</td>\n",
       "      <td>0.044736</td>\n",
       "      <td>0.027040</td>\n",
       "      <td>0.546154</td>\n",
       "      <td>0.183446</td>\n",
       "      <td>0.065595</td>\n",
       "      <td>0.029827</td>\n",
       "      <td>0.051100</td>\n",
       "      <td>0.029435</td>\n",
       "      <td>0.080226</td>\n",
       "      <td>0.416200</td>\n",
       "      <td>0.542706</td>\n",
       "      <td>0.534259</td>\n",
       "      <td>0.563078</td>\n",
       "      <td>0.205100</td>\n",
       "      <td>0.079200</td>\n",
       "      <td>49015</td>\n",
       "    </tr>\n",
       "    <tr>\n",
       "      <th>3</th>\n",
       "      <td>0</td>\n",
       "      <td>2021-08-14</td>\n",
       "      <td>0.070509</td>\n",
       "      <td>0.102001</td>\n",
       "      <td>0.160413</td>\n",
       "      <td>0.344087</td>\n",
       "      <td>0.412720</td>\n",
       "      <td>0.245085</td>\n",
       "      <td>0.073700</td>\n",
       "      <td>0.106821</td>\n",
       "      <td>0.180490</td>\n",
       "      <td>0.229582</td>\n",
       "      <td>0.264500</td>\n",
       "      <td>0.301636</td>\n",
       "      <td>0.326300</td>\n",
       "      <td>0.357551</td>\n",
       "      <td>0.455915</td>\n",
       "      <td>0.288263</td>\n",
       "      <td>49015</td>\n",
       "    </tr>\n",
       "  </tbody>\n",
       "</table>\n",
       "</div>"
      ],
      "text/plain": [
       "   indexnum   timestamp  bluesat_b  greensat_b  redsat_b  nirsat_b  \\\n",
       "0         0  2020-12-17   0.035950    0.053742  0.031292  0.603083   \n",
       "1         0  2021-03-07   0.059654    0.099062  0.127204  0.254190   \n",
       "2         0  2021-05-26   0.025473    0.044736  0.027040  0.546154   \n",
       "3         0  2021-08-14   0.070509    0.102001  0.160413  0.344087   \n",
       "\n",
       "   swir1sat_b  swir2sat_b  bluesat_a  greensat_a  redsat_a  re1sat_a  \\\n",
       "0    0.227289    0.089713   0.032334    0.056738  0.030345  0.091900   \n",
       "1    0.325549    0.188960   0.115700    0.147400  0.175200  0.213200   \n",
       "2    0.183446    0.065595   0.029827    0.051100  0.029435  0.080226   \n",
       "3    0.412720    0.245085   0.073700    0.106821  0.180490  0.229582   \n",
       "\n",
       "   re2sat_a  re3sat_a  nirsat_a  re4sat_a  swir1sat_a  swir2sat_a  \\\n",
       "0  0.450771  0.598475  0.577234  0.629825    0.266430    0.118397   \n",
       "1  0.251700  0.272700  0.270400  0.300700    0.389200    0.262200   \n",
       "2  0.416200  0.542706  0.534259  0.563078    0.205100    0.079200   \n",
       "3  0.264500  0.301636  0.326300  0.357551    0.455915    0.288263   \n",
       "\n",
       "   validPixelsCount  \n",
       "0             48842  \n",
       "1             38554  \n",
       "2             49015  \n",
       "3             49015  "
      ]
     },
     "execution_count": 24,
     "metadata": {},
     "output_type": "execute_result"
    }
   ],
   "source": [
    "agl.get.sits(row.geometry, row.start_date, row.end_date, merged_sat)"
   ]
  },
  {
   "cell_type": "code",
   "execution_count": 19,
   "id": "05f15215",
   "metadata": {},
   "outputs": [],
   "source": [
    "feature = ee.Feature(\n",
    "    ee.Geometry.Polygon([\n",
    "        [\n",
    "            [-45.75383264123897, -11.695413119483494],\n",
    "            [-45.74318963586788, -11.695413119483494],\n",
    "            [-45.74318963586788, -11.6879326786798],\n",
    "            [-45.75383264123897, -11.6879326786798],\n",
    "            [-45.75383264123897, -11.695413119483494],\n",
    "        ]\n",
    "    ]),\n",
    "    {\"s\": ee.Date('2022-01-01'), \"e\": ee.Date('2023-01-01'), \"0\": 0},\n",
    ")\n",
    "\n",
    "s2 = s2_sat.imageCollection(feature)\n",
    "l8 = l8_sat.imageCollection(feature)\n",
    "\n",
    "l8_dates = extract_dates(l8)\n",
    "s2_dates = extract_dates(s2)\n",
    "\n",
    "common_dates = intersect_lists(l8_dates, s2_dates)\n",
    "\n",
    "l8_filtered = filter_by_common_dates(l8, common_dates)\n",
    "s2_filtered = filter_by_common_dates(s2, common_dates)\n",
    "\n",
    "l8_filtered = rename_bands(l8_filtered, \"7\", \"l8\")\n",
    "s2_filtered = rename_bands(s2_filtered, \"8\", \"s2\")"
   ]
  },
  {
   "cell_type": "code",
   "execution_count": 20,
   "id": "f0131b31",
   "metadata": {},
   "outputs": [],
   "source": [
    "merged = s2_filtered.linkCollection(l8_filtered, matchPropertyName=\"ZZ_USER_TIME_DUMMY\", linkedBands=l8_filtered.first().bandNames())"
   ]
  },
  {
   "cell_type": "code",
   "execution_count": null,
   "id": "697168b6",
   "metadata": {},
   "outputs": [],
   "source": []
  },
  {
   "cell_type": "code",
   "execution_count": null,
   "id": "bae8c296",
   "metadata": {},
   "outputs": [],
   "source": [
    "agl.ee_utils.ee_map_bands_and_doy?"
   ]
  },
  {
   "cell_type": "code",
   "execution_count": 21,
   "id": "df8c887e",
   "metadata": {},
   "outputs": [],
   "source": [
    "features = merged.map(\n",
    "    partial(\n",
    "        agl.ee_utils.ee_map_bands_and_doy,\n",
    "        ee_feature=feature,\n",
    "        pixel_size=10,\n",
    "        subsampling_max_pixels=100,\n",
    "        reducer=agl.ee_utils.ee_get_reducers([\"median\"]),\n",
    "    )\n",
    ")"
   ]
  },
  {
   "cell_type": "code",
   "execution_count": null,
   "id": "26f99582",
   "metadata": {},
   "outputs": [],
   "source": [
    "features.getInfo()"
   ]
  },
  {
   "cell_type": "code",
   "execution_count": null,
   "id": "75d06354",
   "metadata": {},
   "outputs": [],
   "source": [
    "import geemap"
   ]
  },
  {
   "cell_type": "code",
   "execution_count": null,
   "id": "80f42a13",
   "metadata": {},
   "outputs": [],
   "source": [
    "rename_bands(l8_filtered, \"7\", \"l8\")"
   ]
  },
  {
   "cell_type": "code",
   "execution_count": null,
   "id": "d2845e4f",
   "metadata": {},
   "outputs": [],
   "source": [
    "l8_filtered.size().getInfo()"
   ]
  }
 ],
 "metadata": {
  "kernelspec": {
   "display_name": ".venv",
   "language": "python",
   "name": "python3"
  },
  "language_info": {
   "codemirror_mode": {
    "name": "ipython",
    "version": 3
   },
   "file_extension": ".py",
   "mimetype": "text/x-python",
   "name": "python",
   "nbconvert_exporter": "python",
   "pygments_lexer": "ipython3",
   "version": "3.11.10"
  }
 },
 "nbformat": 4,
 "nbformat_minor": 5
}
