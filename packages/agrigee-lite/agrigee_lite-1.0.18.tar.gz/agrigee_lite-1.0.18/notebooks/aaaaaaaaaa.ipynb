{
 "cells": [
  {
   "cell_type": "code",
   "execution_count": 2,
   "id": "1910da43",
   "metadata": {},
   "outputs": [
    {
     "name": "stdout",
     "output_type": "stream",
     "text": [
      "Earth Engine initialized successfully using AgriGEE.lite for academic usage (project=ee-mateuspsilva).\n"
     ]
    }
   ],
   "source": [
    "import pathlib\n",
    "import time\n",
    "from functools import partial\n",
    "\n",
    "import aria2p\n",
    "import ee\n",
    "import geopandas as gpd\n",
    "import numpy as np\n",
    "import pandas as pd\n",
    "import pandera as pa\n",
    "from tqdm.std import tqdm\n",
    "\n",
    "import agrigee_lite as agl\n",
    "from agrigee_lite.ee_utils import ee_gdf_to_feature_collection\n",
    "from agrigee_lite.misc import (\n",
    "    add_indexnum_column,\n",
    "    create_gdf_hash,\n",
    "    quadtree_clustering,\n",
    ")"
   ]
  },
  {
   "cell_type": "code",
   "execution_count": 1,
   "id": "9e241a09",
   "metadata": {},
   "outputs": [],
   "source": [
    "# reload code jupyter\n",
    "%load_ext autoreload\n",
    "%autoreload 2"
   ]
  },
  {
   "cell_type": "code",
   "execution_count": 3,
   "id": "a5d4f889",
   "metadata": {},
   "outputs": [],
   "source": [
    "gdf = gpd.read_parquet(\"data/varda_brazil/TO.parquet\")"
   ]
  },
  {
   "cell_type": "code",
   "execution_count": 5,
   "id": "522add16",
   "metadata": {},
   "outputs": [],
   "source": [
    "gdf[\"start_date\"] = pd.to_datetime(gdf.year.apply(lambda x: f\"{x - 1}-10-01\"))\n",
    "gdf[\"end_date\"] = pd.to_datetime(gdf.year.apply(lambda x: f\"{x}-10-01\"))"
   ]
  },
  {
   "cell_type": "code",
   "execution_count": 4,
   "id": "3e082580",
   "metadata": {},
   "outputs": [],
   "source": [
    "s2_sat = agl.sat.Sentinel2(use_sr=False)"
   ]
  },
  {
   "cell_type": "code",
   "execution_count": 6,
   "id": "98bfc89f",
   "metadata": {},
   "outputs": [
    {
     "name": "stderr",
     "output_type": "stream",
     "text": [
      "Simplifying clusters: 100%|██████████| 4096/4096 [00:27<00:00, 149.51it/s]\n",
      "100%|██████████| 4096/4096 [00:01<00:00, 2445.38it/s]\n",
      "Waiting for tasks:  19%|█▉        | 4/21 [1:02:28<4:25:31, 937.16s/it]\n"
     ]
    },
    {
     "ename": "EEException",
     "evalue": "Too Many Requests: Request was rejected because the request rate or concurrency limit was exceeded.",
     "output_type": "error",
     "traceback": [
      "\u001b[31m---------------------------------------------------------------------------\u001b[39m",
      "\u001b[31mHttpError\u001b[39m                                 Traceback (most recent call last)",
      "\u001b[36mFile \u001b[39m\u001b[32m~/git/AgriGEE.lite/.venv/lib/python3.11/site-packages/ee/data.py:408\u001b[39m, in \u001b[36m_execute_cloud_call\u001b[39m\u001b[34m(call, num_retries)\u001b[39m\n\u001b[32m    407\u001b[39m \u001b[38;5;28;01mtry\u001b[39;00m:\n\u001b[32m--> \u001b[39m\u001b[32m408\u001b[39m   \u001b[38;5;28;01mreturn\u001b[39;00m \u001b[43mcall\u001b[49m\u001b[43m.\u001b[49m\u001b[43mexecute\u001b[49m\u001b[43m(\u001b[49m\u001b[43mnum_retries\u001b[49m\u001b[43m=\u001b[49m\u001b[43mnum_retries\u001b[49m\u001b[43m)\u001b[49m\n\u001b[32m    409\u001b[39m \u001b[38;5;28;01mexcept\u001b[39;00m googleapiclient.errors.HttpError \u001b[38;5;28;01mas\u001b[39;00m e:\n",
      "\u001b[36mFile \u001b[39m\u001b[32m~/git/AgriGEE.lite/.venv/lib/python3.11/site-packages/googleapiclient/_helpers.py:130\u001b[39m, in \u001b[36mpositional.<locals>.positional_decorator.<locals>.positional_wrapper\u001b[39m\u001b[34m(*args, **kwargs)\u001b[39m\n\u001b[32m    129\u001b[39m         logger.warning(message)\n\u001b[32m--> \u001b[39m\u001b[32m130\u001b[39m \u001b[38;5;28;01mreturn\u001b[39;00m \u001b[43mwrapped\u001b[49m\u001b[43m(\u001b[49m\u001b[43m*\u001b[49m\u001b[43margs\u001b[49m\u001b[43m,\u001b[49m\u001b[43m \u001b[49m\u001b[43m*\u001b[49m\u001b[43m*\u001b[49m\u001b[43mkwargs\u001b[49m\u001b[43m)\u001b[49m\n",
      "\u001b[36mFile \u001b[39m\u001b[32m~/git/AgriGEE.lite/.venv/lib/python3.11/site-packages/googleapiclient/http.py:938\u001b[39m, in \u001b[36mHttpRequest.execute\u001b[39m\u001b[34m(self, http, num_retries)\u001b[39m\n\u001b[32m    937\u001b[39m \u001b[38;5;28;01mif\u001b[39;00m resp.status >= \u001b[32m300\u001b[39m:\n\u001b[32m--> \u001b[39m\u001b[32m938\u001b[39m     \u001b[38;5;28;01mraise\u001b[39;00m HttpError(resp, content, uri=\u001b[38;5;28mself\u001b[39m.uri)\n\u001b[32m    939\u001b[39m \u001b[38;5;28;01mreturn\u001b[39;00m \u001b[38;5;28mself\u001b[39m.postproc(resp, content)\n",
      "\u001b[31mHttpError\u001b[39m: <HttpError 429 when requesting https://earthengine-highvolume.googleapis.com/v1/projects/ee-mateuspsilva/operations/RVD3X4SKUVESKFALTPFWOI5E?alt=json returned \"Too Many Requests: Request was rejected because the request rate or concurrency limit was exceeded.\". Details: \"Too Many Requests: Request was rejected because the request rate or concurrency limit was exceeded.\">",
      "\nDuring handling of the above exception, another exception occurred:\n",
      "\u001b[31mEEException\u001b[39m                               Traceback (most recent call last)",
      "\u001b[36mCell\u001b[39m\u001b[36m \u001b[39m\u001b[32mIn[6]\u001b[39m\u001b[32m, line 1\u001b[39m\n\u001b[32m----> \u001b[39m\u001b[32m1\u001b[39m \u001b[43magl\u001b[49m\u001b[43m.\u001b[49m\u001b[43mget\u001b[49m\u001b[43m.\u001b[49m\u001b[43mmultiple_sits_gdrive\u001b[49m\u001b[43m(\u001b[49m\u001b[43mgdf\u001b[49m\u001b[43m,\u001b[49m\u001b[43m \u001b[49m\u001b[43ms2_sat\u001b[49m\u001b[43m)\u001b[49m\n",
      "\u001b[36mFile \u001b[39m\u001b[32m<string>:24\u001b[39m, in \u001b[36mdownload_multiple_sits_chunks_gdrive\u001b[39m\u001b[34m(gdf, satellite, reducers, subsampling_max_pixels, cluster_size, gee_save_folder, force_redownload, wait)\u001b[39m\n",
      "\u001b[36mFile \u001b[39m\u001b[32m~/git/AgriGEE.lite/agrigee_lite/task_manager.py:32\u001b[39m, in \u001b[36mGEETaskManager.wait\u001b[39m\u001b[34m(self)\u001b[39m\n\u001b[32m     30\u001b[39m \u001b[38;5;28;01mwhile\u001b[39;00m \u001b[38;5;28mself\u001b[39m.started_tasks:\n\u001b[32m     31\u001b[39m     \u001b[38;5;28;01mfor\u001b[39;00m task \u001b[38;5;129;01min\u001b[39;00m \u001b[38;5;28mself\u001b[39m.started_tasks:\n\u001b[32m---> \u001b[39m\u001b[32m32\u001b[39m         task_status = \u001b[43mtask\u001b[49m\u001b[43m.\u001b[49m\u001b[43mstatus\u001b[49m\u001b[43m(\u001b[49m\u001b[43m)\u001b[49m\n\u001b[32m     33\u001b[39m         \u001b[38;5;28;01mif\u001b[39;00m task_status[\u001b[33m\"\u001b[39m\u001b[33mstate\u001b[39m\u001b[33m\"\u001b[39m] == \u001b[33m\"\u001b[39m\u001b[33mCOMPLETED\u001b[39m\u001b[33m\"\u001b[39m:\n\u001b[32m     34\u001b[39m             \u001b[38;5;28mself\u001b[39m.started_tasks.remove(task)\n",
      "\u001b[36mFile \u001b[39m\u001b[32m~/git/AgriGEE.lite/.venv/lib/python3.11/site-packages/ee/batch.py:176\u001b[39m, in \u001b[36mTask.status\u001b[39m\u001b[34m(self)\u001b[39m\n\u001b[32m    163\u001b[39m \u001b[38;5;250m\u001b[39m\u001b[33;03m\"\"\"Fetches the current status of the task.\u001b[39;00m\n\u001b[32m    164\u001b[39m \n\u001b[32m    165\u001b[39m \u001b[33;03mReturns:\u001b[39;00m\n\u001b[32m   (...)\u001b[39m\u001b[32m    173\u001b[39m \u001b[33;03m  May also include other fields.\u001b[39;00m\n\u001b[32m    174\u001b[39m \u001b[33;03m\"\"\"\u001b[39;00m\n\u001b[32m    175\u001b[39m \u001b[38;5;28;01mif\u001b[39;00m \u001b[38;5;28mself\u001b[39m.operation_name:\n\u001b[32m--> \u001b[39m\u001b[32m176\u001b[39m   operation = \u001b[43mdata\u001b[49m\u001b[43m.\u001b[49m\u001b[43mgetOperation\u001b[49m\u001b[43m(\u001b[49m\u001b[38;5;28;43mself\u001b[39;49m\u001b[43m.\u001b[49m\u001b[43moperation_name\u001b[49m\u001b[43m)\u001b[49m\n\u001b[32m    177\u001b[39m   result = _cloud_api_utils.convert_operation_to_task(operation)\n\u001b[32m    178\u001b[39m   \u001b[38;5;28;01mif\u001b[39;00m result[\u001b[33m'\u001b[39m\u001b[33mstate\u001b[39m\u001b[33m'\u001b[39m] == \u001b[33m'\u001b[39m\u001b[33mUNKNOWN\u001b[39m\u001b[33m'\u001b[39m:\n",
      "\u001b[36mFile \u001b[39m\u001b[32m~/git/AgriGEE.lite/.venv/lib/python3.11/site-packages/ee/data.py:1726\u001b[39m, in \u001b[36mgetOperation\u001b[39m\u001b[34m(operation_name)\u001b[39m\n\u001b[32m   1716\u001b[39m \u001b[38;5;28;01mdef\u001b[39;00m\u001b[38;5;250m \u001b[39m\u001b[34mgetOperation\u001b[39m(operation_name: \u001b[38;5;28mstr\u001b[39m) -> Any:\n\u001b[32m   1717\u001b[39m \u001b[38;5;250m  \u001b[39m\u001b[33;03m\"\"\"Retrieves the status of a long-running operation.\u001b[39;00m\n\u001b[32m   1718\u001b[39m \n\u001b[32m   1719\u001b[39m \u001b[33;03m  Args:\u001b[39;00m\n\u001b[32m   (...)\u001b[39m\u001b[32m   1724\u001b[39m \u001b[33;03m    An Operation status dictionary for the requested operation.\u001b[39;00m\n\u001b[32m   1725\u001b[39m \u001b[33;03m  \"\"\"\u001b[39;00m\n\u001b[32m-> \u001b[39m\u001b[32m1726\u001b[39m   \u001b[38;5;28;01mreturn\u001b[39;00m \u001b[43m_execute_cloud_call\u001b[49m\u001b[43m(\u001b[49m\n\u001b[32m   1727\u001b[39m \u001b[43m      \u001b[49m\u001b[43m_get_cloud_projects\u001b[49m\u001b[43m(\u001b[49m\u001b[43m)\u001b[49m\u001b[43m.\u001b[49m\u001b[43moperations\u001b[49m\u001b[43m(\u001b[49m\u001b[43m)\u001b[49m\u001b[43m.\u001b[49m\u001b[43mget\u001b[49m\u001b[43m(\u001b[49m\u001b[43mname\u001b[49m\u001b[43m=\u001b[49m\u001b[43moperation_name\u001b[49m\u001b[43m)\u001b[49m\n\u001b[32m   1728\u001b[39m \u001b[43m  \u001b[49m\u001b[43m)\u001b[49m\n",
      "\u001b[36mFile \u001b[39m\u001b[32m~/git/AgriGEE.lite/.venv/lib/python3.11/site-packages/ee/data.py:410\u001b[39m, in \u001b[36m_execute_cloud_call\u001b[39m\u001b[34m(call, num_retries)\u001b[39m\n\u001b[32m    408\u001b[39m   \u001b[38;5;28;01mreturn\u001b[39;00m call.execute(num_retries=num_retries)\n\u001b[32m    409\u001b[39m \u001b[38;5;28;01mexcept\u001b[39;00m googleapiclient.errors.HttpError \u001b[38;5;28;01mas\u001b[39;00m e:\n\u001b[32m--> \u001b[39m\u001b[32m410\u001b[39m   \u001b[38;5;28;01mraise\u001b[39;00m _translate_cloud_exception(e)\n",
      "\u001b[31mEEException\u001b[39m: Too Many Requests: Request was rejected because the request rate or concurrency limit was exceeded."
     ]
    }
   ],
   "source": [
    "agl.get.multiple_sits_gdrive(gdf, s2_sat)"
   ]
  }
 ],
 "metadata": {
  "kernelspec": {
   "display_name": ".venv",
   "language": "python",
   "name": "python3"
  },
  "language_info": {
   "codemirror_mode": {
    "name": "ipython",
    "version": 3
   },
   "file_extension": ".py",
   "mimetype": "text/x-python",
   "name": "python",
   "nbconvert_exporter": "python",
   "pygments_lexer": "ipython3",
   "version": "3.11.10"
  }
 },
 "nbformat": 4,
 "nbformat_minor": 5
}
