{
 "cells": [
  {
   "cell_type": "code",
   "execution_count": 2,
   "id": "a9416407",
   "metadata": {},
   "outputs": [
    {
     "name": "stdout",
     "output_type": "stream",
     "text": [
      "Earth Engine initialized successfully using AgriGEE.lite for academic usage (project=ee-mateuspsilva).\n"
     ]
    }
   ],
   "source": [
    "import geopandas as gpd\n",
    "\n",
    "import agrigee_lite as agl"
   ]
  },
  {
   "cell_type": "code",
   "execution_count": 3,
   "id": "3c0a85dd",
   "metadata": {},
   "outputs": [],
   "source": [
    "%load_ext autoreload\n",
    "%autoreload 2"
   ]
  },
  {
   "cell_type": "code",
   "execution_count": null,
   "id": "6883fcfd",
   "metadata": {},
   "outputs": [],
   "source": []
  },
  {
   "cell_type": "code",
   "execution_count": 4,
   "id": "88c70a41",
   "metadata": {},
   "outputs": [],
   "source": [
    "gdf = gpd.read_parquet(\"data/mt_crops.parquet\")"
   ]
  },
  {
   "cell_type": "code",
   "execution_count": 5,
   "id": "c5340836",
   "metadata": {},
   "outputs": [],
   "source": [
    "gdf = gdf.groupby(\"geometry\").first().reset_index().sample(250).reset_index(drop=True)"
   ]
  },
  {
   "cell_type": "code",
   "execution_count": 6,
   "id": "36b23b46",
   "metadata": {},
   "outputs": [],
   "source": [
    "import pandas as pd"
   ]
  },
  {
   "cell_type": "code",
   "execution_count": 7,
   "id": "0826100b",
   "metadata": {},
   "outputs": [],
   "source": [
    "gdf[\"start_date\"] = pd.to_datetime(gdf.year.apply(lambda x: f\"{x-1}-10-01\"))\n",
    "gdf[\"end_date\"] = pd.to_datetime(gdf.year.apply(lambda x: f\"{x}-10-01\"))"
   ]
  },
  {
   "cell_type": "code",
   "execution_count": 8,
   "id": "ae05ac0f",
   "metadata": {},
   "outputs": [],
   "source": [
    "gdf = gpd.GeoDataFrame(gdf)"
   ]
  },
  {
   "cell_type": "code",
   "execution_count": 9,
   "id": "bcaa39d9",
   "metadata": {},
   "outputs": [],
   "source": [
    "dem = agl.sat.WRBSoilClasses()\n",
    "\n",
    "# dem_gdf = agl.get.multiple_sits(gdf, dem)"
   ]
  },
  {
   "cell_type": "code",
   "execution_count": 10,
   "id": "ac0bc46b",
   "metadata": {},
   "outputs": [],
   "source": [
    "row = gdf.iloc[0]"
   ]
  },
  {
   "cell_type": "code",
   "execution_count": 11,
   "id": "7a8c6913",
   "metadata": {},
   "outputs": [
    {
     "data": {
      "text/html": [
       "<div>\n",
       "<style scoped>\n",
       "    .dataframe tbody tr th:only-of-type {\n",
       "        vertical-align: middle;\n",
       "    }\n",
       "\n",
       "    .dataframe tbody tr th {\n",
       "        vertical-align: top;\n",
       "    }\n",
       "\n",
       "    .dataframe thead th {\n",
       "        text-align: right;\n",
       "    }\n",
       "</style>\n",
       "<table border=\"1\" class=\"dataframe\">\n",
       "  <thead>\n",
       "    <tr style=\"text-align: right;\">\n",
       "      <th></th>\n",
       "      <th>indexnum</th>\n",
       "      <th>soil_acrisols</th>\n",
       "      <th>soil_albeluvisols</th>\n",
       "      <th>soil_alisols</th>\n",
       "      <th>soil_andosols</th>\n",
       "      <th>soil_arenosols</th>\n",
       "      <th>soil_calcisols</th>\n",
       "      <th>soil_cambisols</th>\n",
       "      <th>soil_chernozems</th>\n",
       "      <th>soil_cryosols</th>\n",
       "      <th>...</th>\n",
       "      <th>soil_phaeozems</th>\n",
       "      <th>soil_planosols</th>\n",
       "      <th>soil_plinthosols</th>\n",
       "      <th>soil_podzols</th>\n",
       "      <th>soil_regosols</th>\n",
       "      <th>soil_solonchaks</th>\n",
       "      <th>soil_solonetz</th>\n",
       "      <th>soil_stagnosols</th>\n",
       "      <th>soil_umbrisols</th>\n",
       "      <th>soil_vertisols</th>\n",
       "    </tr>\n",
       "  </thead>\n",
       "  <tbody>\n",
       "    <tr>\n",
       "      <th>0</th>\n",
       "      <td>0</td>\n",
       "      <td>0</td>\n",
       "      <td>0</td>\n",
       "      <td>0</td>\n",
       "      <td>0</td>\n",
       "      <td>0</td>\n",
       "      <td>0</td>\n",
       "      <td>0</td>\n",
       "      <td>0</td>\n",
       "      <td>0</td>\n",
       "      <td>...</td>\n",
       "      <td>0</td>\n",
       "      <td>0</td>\n",
       "      <td>0</td>\n",
       "      <td>0</td>\n",
       "      <td>0</td>\n",
       "      <td>0</td>\n",
       "      <td>0</td>\n",
       "      <td>0</td>\n",
       "      <td>0</td>\n",
       "      <td>0</td>\n",
       "    </tr>\n",
       "  </tbody>\n",
       "</table>\n",
       "<p>1 rows × 31 columns</p>\n",
       "</div>"
      ],
      "text/plain": [
       "   indexnum  soil_acrisols  soil_albeluvisols  soil_alisols  soil_andosols  \\\n",
       "0         0              0                  0             0              0   \n",
       "\n",
       "   soil_arenosols  soil_calcisols  soil_cambisols  soil_chernozems  \\\n",
       "0               0               0               0                0   \n",
       "\n",
       "   soil_cryosols  ...  soil_phaeozems  soil_planosols  soil_plinthosols  \\\n",
       "0              0  ...               0               0                 0   \n",
       "\n",
       "   soil_podzols  soil_regosols  soil_solonchaks  soil_solonetz  \\\n",
       "0             0              0                0              0   \n",
       "\n",
       "   soil_stagnosols  soil_umbrisols  soil_vertisols  \n",
       "0                0               0               0  \n",
       "\n",
       "[1 rows x 31 columns]"
      ]
     },
     "execution_count": 11,
     "metadata": {},
     "output_type": "execute_result"
    }
   ],
   "source": [
    "agl.get.sits(row.geometry, row.start_date, row.end_date, dem)"
   ]
  },
  {
   "cell_type": "code",
   "execution_count": 12,
   "id": "46e3b50c",
   "metadata": {},
   "outputs": [
    {
     "name": "stderr",
     "output_type": "stream",
     "text": [
      "Simplifying clusters: 100%|██████████| 1/1 [00:00<00:00,  4.40it/s]\n",
      "Downloading multiple sits: 100%|██████████| 250/250 [00:11<00:00, 21.30it/s]\n"
     ]
    }
   ],
   "source": [
    "soils_gdf = agl.get.multiple_sits(gdf, dem)"
   ]
  },
  {
   "cell_type": "code",
   "execution_count": 13,
   "id": "730c5862",
   "metadata": {},
   "outputs": [
    {
     "data": {
      "text/html": [
       "<div>\n",
       "<style scoped>\n",
       "    .dataframe tbody tr th:only-of-type {\n",
       "        vertical-align: middle;\n",
       "    }\n",
       "\n",
       "    .dataframe tbody tr th {\n",
       "        vertical-align: top;\n",
       "    }\n",
       "\n",
       "    .dataframe thead th {\n",
       "        text-align: right;\n",
       "    }\n",
       "</style>\n",
       "<table border=\"1\" class=\"dataframe\">\n",
       "  <thead>\n",
       "    <tr style=\"text-align: right;\">\n",
       "      <th></th>\n",
       "      <th>indexnum</th>\n",
       "      <th>soil_acrisols</th>\n",
       "      <th>soil_albeluvisols</th>\n",
       "      <th>soil_alisols</th>\n",
       "      <th>soil_andosols</th>\n",
       "      <th>soil_arenosols</th>\n",
       "      <th>soil_calcisols</th>\n",
       "      <th>soil_cambisols</th>\n",
       "      <th>soil_chernozems</th>\n",
       "      <th>soil_cryosols</th>\n",
       "      <th>...</th>\n",
       "      <th>soil_phaeozems</th>\n",
       "      <th>soil_planosols</th>\n",
       "      <th>soil_plinthosols</th>\n",
       "      <th>soil_podzols</th>\n",
       "      <th>soil_regosols</th>\n",
       "      <th>soil_solonchaks</th>\n",
       "      <th>soil_solonetz</th>\n",
       "      <th>soil_stagnosols</th>\n",
       "      <th>soil_umbrisols</th>\n",
       "      <th>soil_vertisols</th>\n",
       "    </tr>\n",
       "  </thead>\n",
       "  <tbody>\n",
       "    <tr>\n",
       "      <th>count</th>\n",
       "      <td>250.000000</td>\n",
       "      <td>250.000000</td>\n",
       "      <td>250.0</td>\n",
       "      <td>250.0</td>\n",
       "      <td>250.0</td>\n",
       "      <td>250.000000</td>\n",
       "      <td>250.0</td>\n",
       "      <td>250.0</td>\n",
       "      <td>250.0</td>\n",
       "      <td>250.0</td>\n",
       "      <td>...</td>\n",
       "      <td>250.0</td>\n",
       "      <td>250.0</td>\n",
       "      <td>250.0</td>\n",
       "      <td>250.0</td>\n",
       "      <td>250.0</td>\n",
       "      <td>250.0</td>\n",
       "      <td>250.0</td>\n",
       "      <td>250.0</td>\n",
       "      <td>250.0</td>\n",
       "      <td>250.0</td>\n",
       "    </tr>\n",
       "    <tr>\n",
       "      <th>mean</th>\n",
       "      <td>124.500000</td>\n",
       "      <td>0.037323</td>\n",
       "      <td>0.0</td>\n",
       "      <td>0.0</td>\n",
       "      <td>0.0</td>\n",
       "      <td>0.000667</td>\n",
       "      <td>0.0</td>\n",
       "      <td>0.0</td>\n",
       "      <td>0.0</td>\n",
       "      <td>0.0</td>\n",
       "      <td>...</td>\n",
       "      <td>0.0</td>\n",
       "      <td>0.0</td>\n",
       "      <td>0.0</td>\n",
       "      <td>0.0</td>\n",
       "      <td>0.0</td>\n",
       "      <td>0.0</td>\n",
       "      <td>0.0</td>\n",
       "      <td>0.0</td>\n",
       "      <td>0.0</td>\n",
       "      <td>0.0</td>\n",
       "    </tr>\n",
       "    <tr>\n",
       "      <th>std</th>\n",
       "      <td>72.312977</td>\n",
       "      <td>0.179565</td>\n",
       "      <td>0.0</td>\n",
       "      <td>0.0</td>\n",
       "      <td>0.0</td>\n",
       "      <td>0.010536</td>\n",
       "      <td>0.0</td>\n",
       "      <td>0.0</td>\n",
       "      <td>0.0</td>\n",
       "      <td>0.0</td>\n",
       "      <td>...</td>\n",
       "      <td>0.0</td>\n",
       "      <td>0.0</td>\n",
       "      <td>0.0</td>\n",
       "      <td>0.0</td>\n",
       "      <td>0.0</td>\n",
       "      <td>0.0</td>\n",
       "      <td>0.0</td>\n",
       "      <td>0.0</td>\n",
       "      <td>0.0</td>\n",
       "      <td>0.0</td>\n",
       "    </tr>\n",
       "    <tr>\n",
       "      <th>min</th>\n",
       "      <td>0.000000</td>\n",
       "      <td>0.000000</td>\n",
       "      <td>0.0</td>\n",
       "      <td>0.0</td>\n",
       "      <td>0.0</td>\n",
       "      <td>0.000000</td>\n",
       "      <td>0.0</td>\n",
       "      <td>0.0</td>\n",
       "      <td>0.0</td>\n",
       "      <td>0.0</td>\n",
       "      <td>...</td>\n",
       "      <td>0.0</td>\n",
       "      <td>0.0</td>\n",
       "      <td>0.0</td>\n",
       "      <td>0.0</td>\n",
       "      <td>0.0</td>\n",
       "      <td>0.0</td>\n",
       "      <td>0.0</td>\n",
       "      <td>0.0</td>\n",
       "      <td>0.0</td>\n",
       "      <td>0.0</td>\n",
       "    </tr>\n",
       "    <tr>\n",
       "      <th>25%</th>\n",
       "      <td>62.250000</td>\n",
       "      <td>0.000000</td>\n",
       "      <td>0.0</td>\n",
       "      <td>0.0</td>\n",
       "      <td>0.0</td>\n",
       "      <td>0.000000</td>\n",
       "      <td>0.0</td>\n",
       "      <td>0.0</td>\n",
       "      <td>0.0</td>\n",
       "      <td>0.0</td>\n",
       "      <td>...</td>\n",
       "      <td>0.0</td>\n",
       "      <td>0.0</td>\n",
       "      <td>0.0</td>\n",
       "      <td>0.0</td>\n",
       "      <td>0.0</td>\n",
       "      <td>0.0</td>\n",
       "      <td>0.0</td>\n",
       "      <td>0.0</td>\n",
       "      <td>0.0</td>\n",
       "      <td>0.0</td>\n",
       "    </tr>\n",
       "    <tr>\n",
       "      <th>50%</th>\n",
       "      <td>124.500000</td>\n",
       "      <td>0.000000</td>\n",
       "      <td>0.0</td>\n",
       "      <td>0.0</td>\n",
       "      <td>0.0</td>\n",
       "      <td>0.000000</td>\n",
       "      <td>0.0</td>\n",
       "      <td>0.0</td>\n",
       "      <td>0.0</td>\n",
       "      <td>0.0</td>\n",
       "      <td>...</td>\n",
       "      <td>0.0</td>\n",
       "      <td>0.0</td>\n",
       "      <td>0.0</td>\n",
       "      <td>0.0</td>\n",
       "      <td>0.0</td>\n",
       "      <td>0.0</td>\n",
       "      <td>0.0</td>\n",
       "      <td>0.0</td>\n",
       "      <td>0.0</td>\n",
       "      <td>0.0</td>\n",
       "    </tr>\n",
       "    <tr>\n",
       "      <th>75%</th>\n",
       "      <td>186.750000</td>\n",
       "      <td>0.000000</td>\n",
       "      <td>0.0</td>\n",
       "      <td>0.0</td>\n",
       "      <td>0.0</td>\n",
       "      <td>0.000000</td>\n",
       "      <td>0.0</td>\n",
       "      <td>0.0</td>\n",
       "      <td>0.0</td>\n",
       "      <td>0.0</td>\n",
       "      <td>...</td>\n",
       "      <td>0.0</td>\n",
       "      <td>0.0</td>\n",
       "      <td>0.0</td>\n",
       "      <td>0.0</td>\n",
       "      <td>0.0</td>\n",
       "      <td>0.0</td>\n",
       "      <td>0.0</td>\n",
       "      <td>0.0</td>\n",
       "      <td>0.0</td>\n",
       "      <td>0.0</td>\n",
       "    </tr>\n",
       "    <tr>\n",
       "      <th>max</th>\n",
       "      <td>249.000000</td>\n",
       "      <td>1.000000</td>\n",
       "      <td>0.0</td>\n",
       "      <td>0.0</td>\n",
       "      <td>0.0</td>\n",
       "      <td>0.166626</td>\n",
       "      <td>0.0</td>\n",
       "      <td>0.0</td>\n",
       "      <td>0.0</td>\n",
       "      <td>0.0</td>\n",
       "      <td>...</td>\n",
       "      <td>0.0</td>\n",
       "      <td>0.0</td>\n",
       "      <td>0.0</td>\n",
       "      <td>0.0</td>\n",
       "      <td>0.0</td>\n",
       "      <td>0.0</td>\n",
       "      <td>0.0</td>\n",
       "      <td>0.0</td>\n",
       "      <td>0.0</td>\n",
       "      <td>0.0</td>\n",
       "    </tr>\n",
       "  </tbody>\n",
       "</table>\n",
       "<p>8 rows × 31 columns</p>\n",
       "</div>"
      ],
      "text/plain": [
       "         indexnum  soil_acrisols  soil_albeluvisols  soil_alisols  \\\n",
       "count  250.000000     250.000000              250.0         250.0   \n",
       "mean   124.500000       0.037323                0.0           0.0   \n",
       "std     72.312977       0.179565                0.0           0.0   \n",
       "min      0.000000       0.000000                0.0           0.0   \n",
       "25%     62.250000       0.000000                0.0           0.0   \n",
       "50%    124.500000       0.000000                0.0           0.0   \n",
       "75%    186.750000       0.000000                0.0           0.0   \n",
       "max    249.000000       1.000000                0.0           0.0   \n",
       "\n",
       "       soil_andosols  soil_arenosols  soil_calcisols  soil_cambisols  \\\n",
       "count          250.0      250.000000           250.0           250.0   \n",
       "mean             0.0        0.000667             0.0             0.0   \n",
       "std              0.0        0.010536             0.0             0.0   \n",
       "min              0.0        0.000000             0.0             0.0   \n",
       "25%              0.0        0.000000             0.0             0.0   \n",
       "50%              0.0        0.000000             0.0             0.0   \n",
       "75%              0.0        0.000000             0.0             0.0   \n",
       "max              0.0        0.166626             0.0             0.0   \n",
       "\n",
       "       soil_chernozems  soil_cryosols  ...  soil_phaeozems  soil_planosols  \\\n",
       "count            250.0          250.0  ...           250.0           250.0   \n",
       "mean               0.0            0.0  ...             0.0             0.0   \n",
       "std                0.0            0.0  ...             0.0             0.0   \n",
       "min                0.0            0.0  ...             0.0             0.0   \n",
       "25%                0.0            0.0  ...             0.0             0.0   \n",
       "50%                0.0            0.0  ...             0.0             0.0   \n",
       "75%                0.0            0.0  ...             0.0             0.0   \n",
       "max                0.0            0.0  ...             0.0             0.0   \n",
       "\n",
       "       soil_plinthosols  soil_podzols  soil_regosols  soil_solonchaks  \\\n",
       "count             250.0         250.0          250.0            250.0   \n",
       "mean                0.0           0.0            0.0              0.0   \n",
       "std                 0.0           0.0            0.0              0.0   \n",
       "min                 0.0           0.0            0.0              0.0   \n",
       "25%                 0.0           0.0            0.0              0.0   \n",
       "50%                 0.0           0.0            0.0              0.0   \n",
       "75%                 0.0           0.0            0.0              0.0   \n",
       "max                 0.0           0.0            0.0              0.0   \n",
       "\n",
       "       soil_solonetz  soil_stagnosols  soil_umbrisols  soil_vertisols  \n",
       "count          250.0            250.0           250.0           250.0  \n",
       "mean             0.0              0.0             0.0             0.0  \n",
       "std              0.0              0.0             0.0             0.0  \n",
       "min              0.0              0.0             0.0             0.0  \n",
       "25%              0.0              0.0             0.0             0.0  \n",
       "50%              0.0              0.0             0.0             0.0  \n",
       "75%              0.0              0.0             0.0             0.0  \n",
       "max              0.0              0.0             0.0             0.0  \n",
       "\n",
       "[8 rows x 31 columns]"
      ]
     },
     "execution_count": 13,
     "metadata": {},
     "output_type": "execute_result"
    }
   ],
   "source": [
    "soils_gdf.describe()"
   ]
  },
  {
   "cell_type": "code",
   "execution_count": 24,
   "id": "6bfbc630",
   "metadata": {},
   "outputs": [],
   "source": [
    "# pandas always displays all the columns\n",
    "pd.set_option(\"display.max_columns\", None)"
   ]
  },
  {
   "cell_type": "code",
   "execution_count": 16,
   "id": "d04374d1",
   "metadata": {},
   "outputs": [
    {
     "data": {
      "text/plain": [
       "array([[[10.],\n",
       "        [10.],\n",
       "        [10.],\n",
       "        [10.],\n",
       "        [10.],\n",
       "        [10.]],\n",
       "\n",
       "       [[10.],\n",
       "        [10.],\n",
       "        [10.],\n",
       "        [10.],\n",
       "        [10.],\n",
       "        [10.]],\n",
       "\n",
       "       [[10.],\n",
       "        [10.],\n",
       "        [10.],\n",
       "        [10.],\n",
       "        [10.],\n",
       "        [10.]],\n",
       "\n",
       "       [[10.],\n",
       "        [10.],\n",
       "        [10.],\n",
       "        [10.],\n",
       "        [10.],\n",
       "        [10.]],\n",
       "\n",
       "       [[10.],\n",
       "        [10.],\n",
       "        [10.],\n",
       "        [10.],\n",
       "        [10.],\n",
       "        [10.]],\n",
       "\n",
       "       [[10.],\n",
       "        [10.],\n",
       "        [10.],\n",
       "        [10.],\n",
       "        [10.],\n",
       "        [10.]]], dtype=float32)"
      ]
     },
     "execution_count": 16,
     "metadata": {},
     "output_type": "execute_result"
    }
   ],
   "source": [
    "agl.get.image(row.geometry, dem)"
   ]
  },
  {
   "cell_type": "code",
   "execution_count": null,
   "id": "16299dc3",
   "metadata": {},
   "outputs": [],
   "source": [
    "dem_gdf"
   ]
  },
  {
   "cell_type": "code",
   "execution_count": null,
   "id": "c227b001",
   "metadata": {},
   "outputs": [],
   "source": [
    "row = gdf.iloc[0]\n",
    "print(row)\n",
    "\n",
    "dem = agl.sat.ANADEM()\n",
    "\n",
    "agl.get.sits(row.geometry, row.start_date, row.end_date, dem)"
   ]
  },
  {
   "cell_type": "code",
   "execution_count": null,
   "id": "1fd6b922",
   "metadata": {},
   "outputs": [],
   "source": [
    "agl.get.sits(row.geometry, row.start_date, row.end_date, dem)"
   ]
  },
  {
   "cell_type": "code",
   "execution_count": null,
   "id": "b0e0d552",
   "metadata": {},
   "outputs": [],
   "source": [
    "dem_sits = agl.get.multiple_sits(gdf, dem, reducers=[\"median\", \"mean\", \"std\", \"min\", \"max\"], force_redownload=True)"
   ]
  },
  {
   "cell_type": "code",
   "execution_count": null,
   "id": "b65c6212",
   "metadata": {},
   "outputs": [],
   "source": [
    "dem_sits.slope_min.min(), dem_sits.slope_max.max()"
   ]
  },
  {
   "cell_type": "code",
   "execution_count": null,
   "id": "14e03a03",
   "metadata": {},
   "outputs": [],
   "source": [
    "dem_sits.sort_values(\"slope_stdDev\", ascending=False)"
   ]
  },
  {
   "cell_type": "code",
   "execution_count": null,
   "id": "d0b65ea5",
   "metadata": {},
   "outputs": [],
   "source": []
  },
  {
   "cell_type": "code",
   "execution_count": null,
   "id": "9d88f46e",
   "metadata": {},
   "outputs": [],
   "source": []
  },
  {
   "cell_type": "code",
   "execution_count": null,
   "id": "1054066b",
   "metadata": {},
   "outputs": [],
   "source": [
    "import matplotlib.pyplot as plt"
   ]
  },
  {
   "cell_type": "code",
   "execution_count": null,
   "id": "5bf7dcc2",
   "metadata": {},
   "outputs": [],
   "source": [
    "import plotly.express as px"
   ]
  },
  {
   "cell_type": "code",
   "execution_count": null,
   "id": "8e85ea74",
   "metadata": {},
   "outputs": [],
   "source": [
    "!uv pip list | grep plotly"
   ]
  },
  {
   "cell_type": "code",
   "execution_count": null,
   "id": "8830f38b",
   "metadata": {},
   "outputs": [],
   "source": [
    "row.geometry"
   ]
  },
  {
   "cell_type": "code",
   "execution_count": null,
   "id": "2aa7d3e9",
   "metadata": {},
   "outputs": [],
   "source": [
    "dem = agl.sat.ANADEM(bands=[\"slope\"])\n",
    "\n",
    "row = gdf.iloc[32]\n",
    "\n",
    "np_img = agl.get.image(row.geometry, dem)\n",
    "\n",
    "fig = px.imshow(np_img[:, :, 0], color_continuous_scale='viridis')\n",
    "\n",
    "fig.update_layout(\n",
    "    title='Slope',\n",
    "    # coloraxis_colorbar={\"title\": 'm'},\n",
    "    width=600,   # Largura menor\n",
    "    height=500   # Altura opcional, ajuste conforme desejar\n",
    ")\n",
    "\n",
    "fig.show()"
   ]
  },
  {
   "cell_type": "code",
   "execution_count": null,
   "id": "a58fa22e",
   "metadata": {},
   "outputs": [],
   "source": []
  },
  {
   "cell_type": "code",
   "execution_count": null,
   "id": "8d205e43",
   "metadata": {},
   "outputs": [],
   "source": [
    "import numpy as np"
   ]
  },
  {
   "cell_type": "code",
   "execution_count": null,
   "id": "0bac3e46",
   "metadata": {},
   "outputs": [],
   "source": [
    "np_img[np_img == 0] = np.nan"
   ]
  },
  {
   "cell_type": "code",
   "execution_count": null,
   "id": "7dd86460",
   "metadata": {},
   "outputs": [],
   "source": [
    "plt.imshow(np_img[:,:,2])"
   ]
  },
  {
   "cell_type": "code",
   "execution_count": null,
   "id": "3d67e262",
   "metadata": {},
   "outputs": [],
   "source": [
    "len(gdf)"
   ]
  },
  {
   "cell_type": "code",
   "execution_count": null,
   "id": "e38a8121",
   "metadata": {},
   "outputs": [],
   "source": [
    "row = gdf.iloc[0]"
   ]
  },
  {
   "cell_type": "code",
   "execution_count": null,
   "id": "bb5b6f75",
   "metadata": {},
   "outputs": [],
   "source": [
    "agl.get.sits(row.geometry, row.start_date, row.end_date, dem)"
   ]
  },
  {
   "cell_type": "code",
   "execution_count": null,
   "id": "8de53ff4",
   "metadata": {},
   "outputs": [],
   "source": [
    "agl.get.sits(row.geometry, row.start_date, row.end_date, dem).dtypes"
   ]
  }
 ],
 "metadata": {
  "kernelspec": {
   "display_name": ".venv",
   "language": "python",
   "name": "python3"
  },
  "language_info": {
   "codemirror_mode": {
    "name": "ipython",
    "version": 3
   },
   "file_extension": ".py",
   "mimetype": "text/x-python",
   "name": "python",
   "nbconvert_exporter": "python",
   "pygments_lexer": "ipython3",
   "version": "3.11.10"
  }
 },
 "nbformat": 4,
 "nbformat_minor": 5
}
