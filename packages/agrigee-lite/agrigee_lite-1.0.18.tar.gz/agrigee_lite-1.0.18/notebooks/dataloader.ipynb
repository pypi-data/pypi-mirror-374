{
 "cells": [
  {
   "cell_type": "code",
   "execution_count": 1,
   "id": "0846ffbc",
   "metadata": {},
   "outputs": [],
   "source": [
    "import re\n",
    "\n",
    "import ee\n",
    "import geopandas as gpd\n",
    "import numpy as np\n",
    "import pandas as pd\n",
    "\n",
    "import agrigee_lite as agl\n",
    "\n",
    "%load_ext autoreload\n",
    "%autoreload 2\n",
    "\n",
    "# Disable numpy scientific notation\n",
    "np.set_printoptions(suppress=True, precision=3)"
   ]
  },
  {
   "cell_type": "code",
   "execution_count": 2,
   "id": "eb3fa969",
   "metadata": {},
   "outputs": [],
   "source": [
    "ee.Initialize(opt_url=\"https://earthengine-highvolume.googleapis.com\", project=\"ee-paulagibrim\")"
   ]
  },
  {
   "cell_type": "code",
   "execution_count": null,
   "id": "2208148b",
   "metadata": {},
   "outputs": [],
   "source": [
    "# gdf = gpd.read_parquet(\"data_new/BA.parquet\")\n",
    "\n",
    "# gdf[\"y_true\"] = gdf.crop_class.map({\"Mosaic of Uses\": 0,\n",
    "# \"Forest Plantation\": 1,\n",
    "# \"Soybean\": 2,\n",
    "# \"Other Temporary Crops\": 3,\n",
    "# \"Other Perennial Crops\": 4,\n",
    "# \"Sugar Cane\": 5,\n",
    "# \"Coffee\": 6,\n",
    "# \"Cotton\": 7})\n",
    "\n",
    "# from sklearn.model_selection import StratifiedShuffleSplit\n",
    "\n",
    "# def split_stratified_gdf(gdf: gpd.GeoDataFrame, label_col: str = \"y_true\", seed: int = 42):\n",
    "#     gdf = gdf.copy()\n",
    "\n",
    "#     # Primeiro split: 70% train, 30% restante\n",
    "#     split1 = StratifiedShuffleSplit(n_splits=1, test_size=0.3, random_state=seed)\n",
    "#     train_idx, temp_idx = next(split1.split(gdf, gdf[label_col]))\n",
    "\n",
    "#     # Criação da coluna set com valores iniciais\n",
    "#     gdf[\"set\"] = \"\"\n",
    "\n",
    "#     gdf.loc[train_idx, \"set\"] = \"train\"\n",
    "\n",
    "#     # Segundo split: 50% validate, 50% test dos 30% restantes\n",
    "#     temp_gdf = gdf.iloc[temp_idx]\n",
    "#     split2 = StratifiedShuffleSplit(n_splits=1, test_size=0.5, random_state=seed)\n",
    "#     val_idx, test_idx = next(split2.split(temp_gdf, temp_gdf[label_col]))\n",
    "\n",
    "#     gdf.loc[temp_gdf.iloc[val_idx].index, \"set\"] = \"validate\"\n",
    "#     gdf.loc[temp_gdf.iloc[test_idx].index, \"set\"] = \"test\"\n",
    "\n",
    "#     return gdf\n",
    "\n",
    "# gdf = split_stratified_gdf(gdf)"
   ]
  },
  {
   "cell_type": "code",
   "execution_count": 3,
   "id": "23471511",
   "metadata": {},
   "outputs": [],
   "source": [
    "gdf = gpd.read_parquet(\"BA_agl_ready.parquet\")"
   ]
  },
  {
   "cell_type": "code",
   "execution_count": null,
   "id": "937d38d1",
   "metadata": {},
   "outputs": [],
   "source": [
    "# gdf = gdf.sample(1000, random_state=42)\n",
    "# gdf = gdf.reset_index(drop=True)"
   ]
  },
  {
   "cell_type": "code",
   "execution_count": null,
   "id": "9e0bc493",
   "metadata": {},
   "outputs": [],
   "source": [
    "class AGLSitsDatasetPreCalc():\n",
    "    def __init__(self, gdf: str | gpd.GeoDataFrame, use_split: str | None = None, transform = None, max_observations: int = 75):\n",
    "        if isinstance(gdf, str):\n",
    "            self.gdf = gpd.read_parquet(gdf)\n",
    "        elif isinstance(gdf, gpd.GeoDataFrame):\n",
    "            self.gdf = gdf\n",
    "        else:\n",
    "            raise TypeError(\"gdf must be a string (file path) or a GeoDataFrame\")  # noqa: TRY003\n",
    "\n",
    "        if use_split is not None:\n",
    "            self.gdf = self.gdf[self.gdf[\"set\"] == use_split].reset_index(drop=True)\n",
    "\n",
    "        self.removed_timestamps = gpd.GeoDataFrame(columns=self.gdf.columns, crs=self.gdf.crs)\n",
    "        self.satellites = self.gdf.filter(regex=r'_observations$').columns.str.replace('_observations', '', regex=False).tolist()\n",
    "        self.bands_order = [\"blue\", \"green\", \"red\", \"re1\", \"re2\", \"re3\", \"nir\", \"re4\", \"swir1\", \"swir2\", \"vv\", \"vh\"]\n",
    "\n",
    "        self.transform = transform\n",
    "\n",
    "        self.num_classes = self.gdf.y_true.nunique()"
   ]
  },
  {
   "cell_type": "code",
   "execution_count": 10,
   "id": "5ff55511",
   "metadata": {},
   "outputs": [],
   "source": [
    "from tqdm.std import tqdm\n",
    "\n",
    "class AGLS2Dataset():\n",
    "    def __init__(self, gdf: str | gpd.GeoDataFrame, use_split: str | None = None, transform = None, max_observations: int = 75):\n",
    "        if isinstance(gdf, str):\n",
    "            self.gdf = gpd.read_parquet(gdf)\n",
    "        elif isinstance(gdf, gpd.GeoDataFrame):\n",
    "            self.gdf = gdf\n",
    "        else:\n",
    "            raise TypeError(\"gdf must be a string (file path) or a GeoDataFrame\")  # noqa: TRY003\n",
    "\n",
    "        if use_split is not None:\n",
    "            self.gdf = self.gdf[self.gdf[\"set\"] == use_split].reset_index(drop=True)\n",
    "\n",
    "        self.removed_timestamps = gpd.GeoDataFrame(columns=self.gdf.columns, crs=self.gdf.crs)\n",
    "        self.transform = transform\n",
    "        self.max_observations = max_observations\n",
    "\n",
    "    def filter_observations(self, min_observations: int = 1):\n",
    "        self.removed_timestamps = self.gdf[self.gdf[\"s2sr_observations\"] < min_observations].copy()\n",
    "        self.gdf = self.gdf[self.gdf[\"s2sr_observations\"] >= min_observations].reset_index(drop=True)\n",
    "\n",
    "        self.bands = np.zeros((len(gdf), self.max_observations, 10), dtype=np.float16)\n",
    "        self.doys = np.zeros((len(gdf), self.max_observations), dtype=np.uint16)\n",
    "\n",
    "        for idx in tqdm(range(len(self.gdf))):\n",
    "            long_sits = agl.misc.wide_to_long_dataframe(self.gdf[sorted(filter(lambda x: x.startswith(\"s2sr_\"), self.gdf.columns.tolist()))].iloc[idx:idx+1])\n",
    "            print(long_sits.columns.tolist())\n",
    "            single_bands = long_sits[[\"blue\", \"green\", \"red\", \"re1\", \"re2\", \"re3\", \"nir\", \"re4\", \"swir1\", \"swir2\"]].to_numpy(dtype=np.float16)\n",
    "            single_doys = long_sits.doy.to_numpy()\n",
    "\n",
    "            self.bands[idx, :len(single_bands), :] = single_bands\n",
    "            self.doys[idx, :len(single_doys)] = single_doys\n"
   ]
  },
  {
   "cell_type": "code",
   "execution_count": 11,
   "id": "fcc46732",
   "metadata": {},
   "outputs": [
    {
     "name": "stderr",
     "output_type": "stream",
     "text": [
      "  0%|          | 1/292114 [00:06<503:07:56,  6.20s/it]"
     ]
    },
    {
     "name": "stdout",
     "output_type": "stream",
     "text": [
      "['indexnum', 'blue', 'doy', 'green', 'nir', 're1', 're2', 're3', 're4', 'red', 'swir1', 'swir2']\n"
     ]
    },
    {
     "name": "stderr",
     "output_type": "stream",
     "text": [
      "  0%|          | 2/292114 [00:15<636:42:49,  7.85s/it]"
     ]
    },
    {
     "name": "stdout",
     "output_type": "stream",
     "text": [
      "['indexnum', 'blue', 'doy', 'green', 'nir', 're1', 're2', 're3', 're4', 'red', 'swir1', 'swir2']\n"
     ]
    },
    {
     "name": "stderr",
     "output_type": "stream",
     "text": [
      "  0%|          | 3/292114 [00:19<516:05:56,  6.36s/it]"
     ]
    },
    {
     "name": "stdout",
     "output_type": "stream",
     "text": [
      "['indexnum', 'blue', 'doy', 'green', 'nir', 're1', 're2', 're3', 're4', 'red', 'swir1', 'swir2']\n"
     ]
    },
    {
     "name": "stderr",
     "output_type": "stream",
     "text": [
      "  0%|          | 4/292114 [00:25<496:40:27,  6.12s/it]"
     ]
    },
    {
     "name": "stdout",
     "output_type": "stream",
     "text": [
      "['indexnum', 'blue', 'doy', 'green', 'nir', 're1', 're2', 're3', 're4', 'red', 'swir1', 'swir2']\n"
     ]
    },
    {
     "name": "stderr",
     "output_type": "stream",
     "text": [
      "  0%|          | 5/292114 [00:30<456:55:33,  5.63s/it]"
     ]
    },
    {
     "name": "stdout",
     "output_type": "stream",
     "text": [
      "['indexnum', 'blue', 'doy', 'green', 'nir', 're1', 're2', 're3', 're4', 'red', 'swir1', 'swir2']\n"
     ]
    },
    {
     "name": "stderr",
     "output_type": "stream",
     "text": [
      "  0%|          | 6/292114 [00:34<408:56:42,  5.04s/it]"
     ]
    },
    {
     "name": "stdout",
     "output_type": "stream",
     "text": [
      "['indexnum', 'blue', 'doy', 'green', 'nir', 're1', 're2', 're3', 're4', 'red', 'swir1', 'swir2']\n"
     ]
    },
    {
     "name": "stderr",
     "output_type": "stream",
     "text": [
      "  0%|          | 7/292114 [00:37<359:16:54,  4.43s/it]"
     ]
    },
    {
     "name": "stdout",
     "output_type": "stream",
     "text": [
      "['indexnum', 'blue', 'doy', 'green', 'nir', 're1', 're2', 're3', 're4', 'red', 'swir1', 'swir2']\n"
     ]
    },
    {
     "name": "stderr",
     "output_type": "stream",
     "text": [
      "  0%|          | 8/292114 [00:40<334:03:27,  4.12s/it]"
     ]
    },
    {
     "name": "stdout",
     "output_type": "stream",
     "text": [
      "['indexnum', 'blue', 'doy', 'green', 'nir', 're1', 're2', 're3', 're4', 'red', 'swir1', 'swir2']\n"
     ]
    },
    {
     "name": "stderr",
     "output_type": "stream",
     "text": [
      "  0%|          | 9/292114 [00:45<339:01:03,  4.18s/it]"
     ]
    },
    {
     "name": "stdout",
     "output_type": "stream",
     "text": [
      "['indexnum', 'blue', 'doy', 'green', 'nir', 're1', 're2', 're3', 're4', 'red', 'swir1', 'swir2']\n"
     ]
    },
    {
     "name": "stderr",
     "output_type": "stream",
     "text": [
      "  0%|          | 10/292114 [00:49<339:37:30,  4.19s/it]"
     ]
    },
    {
     "name": "stdout",
     "output_type": "stream",
     "text": [
      "['indexnum', 'blue', 'doy', 'green', 'nir', 're1', 're2', 're3', 're4', 'red', 'swir1', 'swir2']\n"
     ]
    },
    {
     "name": "stderr",
     "output_type": "stream",
     "text": [
      "  0%|          | 11/292114 [00:53<346:42:59,  4.27s/it]"
     ]
    },
    {
     "name": "stdout",
     "output_type": "stream",
     "text": [
      "['indexnum', 'blue', 'doy', 'green', 'nir', 're1', 're2', 're3', 're4', 'red', 'swir1', 'swir2']\n"
     ]
    },
    {
     "name": "stderr",
     "output_type": "stream",
     "text": [
      "  0%|          | 12/292114 [00:58<361:32:30,  4.46s/it]"
     ]
    },
    {
     "name": "stdout",
     "output_type": "stream",
     "text": [
      "['indexnum', 'blue', 'doy', 'green', 'nir', 're1', 're2', 're3', 're4', 'red', 'swir1', 'swir2']\n"
     ]
    },
    {
     "name": "stderr",
     "output_type": "stream",
     "text": [
      "  0%|          | 12/292114 [01:04<435:45:11,  5.37s/it]\n"
     ]
    },
    {
     "ename": "KeyboardInterrupt",
     "evalue": "",
     "output_type": "error",
     "traceback": [
      "\u001b[31m---------------------------------------------------------------------------\u001b[39m",
      "\u001b[31mKeyboardInterrupt\u001b[39m                         Traceback (most recent call last)",
      "\u001b[36mCell\u001b[39m\u001b[36m \u001b[39m\u001b[32mIn[11]\u001b[39m\u001b[32m, line 2\u001b[39m\n\u001b[32m      1\u001b[39m new_dataset = AGLS2Dataset(gdf)\n\u001b[32m----> \u001b[39m\u001b[32m2\u001b[39m \u001b[43mnew_dataset\u001b[49m\u001b[43m.\u001b[49m\u001b[43mfilter_observations\u001b[49m\u001b[43m(\u001b[49m\u001b[43m)\u001b[49m\n",
      "\u001b[36mCell\u001b[39m\u001b[36m \u001b[39m\u001b[32mIn[10]\u001b[39m\u001b[32m, line 27\u001b[39m, in \u001b[36mAGLS2Dataset.filter_observations\u001b[39m\u001b[34m(self, min_observations)\u001b[39m\n\u001b[32m     24\u001b[39m \u001b[38;5;28mself\u001b[39m.doys = np.zeros((\u001b[38;5;28mlen\u001b[39m(gdf), \u001b[38;5;28mself\u001b[39m.max_observations), dtype=np.uint16)\n\u001b[32m     26\u001b[39m \u001b[38;5;28;01mfor\u001b[39;00m idx \u001b[38;5;129;01min\u001b[39;00m tqdm(\u001b[38;5;28mrange\u001b[39m(\u001b[38;5;28mlen\u001b[39m(\u001b[38;5;28mself\u001b[39m.gdf))):\n\u001b[32m---> \u001b[39m\u001b[32m27\u001b[39m     long_sits = agl.misc.wide_to_long_dataframe(\u001b[38;5;28;43mself\u001b[39;49m\u001b[43m.\u001b[49m\u001b[43mgdf\u001b[49m\u001b[43m[\u001b[49m\u001b[38;5;28;43msorted\u001b[39;49m\u001b[43m(\u001b[49m\u001b[38;5;28;43mfilter\u001b[39;49m\u001b[43m(\u001b[49m\u001b[38;5;28;43;01mlambda\u001b[39;49;00m\u001b[43m \u001b[49m\u001b[43mx\u001b[49m\u001b[43m:\u001b[49m\u001b[43m \u001b[49m\u001b[43mx\u001b[49m\u001b[43m.\u001b[49m\u001b[43mstartswith\u001b[49m\u001b[43m(\u001b[49m\u001b[33;43m\"\u001b[39;49m\u001b[33;43ms2sr_\u001b[39;49m\u001b[33;43m\"\u001b[39;49m\u001b[43m)\u001b[49m\u001b[43m,\u001b[49m\u001b[43m \u001b[49m\u001b[38;5;28;43mself\u001b[39;49m\u001b[43m.\u001b[49m\u001b[43mgdf\u001b[49m\u001b[43m.\u001b[49m\u001b[43mcolumns\u001b[49m\u001b[43m.\u001b[49m\u001b[43mtolist\u001b[49m\u001b[43m(\u001b[49m\u001b[43m)\u001b[49m\u001b[43m)\u001b[49m\u001b[43m)\u001b[49m\u001b[43m]\u001b[49m.iloc[idx:idx+\u001b[32m1\u001b[39m])\n\u001b[32m     28\u001b[39m     \u001b[38;5;28mprint\u001b[39m(long_sits.columns.tolist())\n\u001b[32m     29\u001b[39m     single_bands = long_sits[[\u001b[33m\"\u001b[39m\u001b[33mblue\u001b[39m\u001b[33m\"\u001b[39m, \u001b[33m\"\u001b[39m\u001b[33mgreen\u001b[39m\u001b[33m\"\u001b[39m, \u001b[33m\"\u001b[39m\u001b[33mred\u001b[39m\u001b[33m\"\u001b[39m, \u001b[33m\"\u001b[39m\u001b[33mre1\u001b[39m\u001b[33m\"\u001b[39m, \u001b[33m\"\u001b[39m\u001b[33mre2\u001b[39m\u001b[33m\"\u001b[39m, \u001b[33m\"\u001b[39m\u001b[33mre3\u001b[39m\u001b[33m\"\u001b[39m, \u001b[33m\"\u001b[39m\u001b[33mnir\u001b[39m\u001b[33m\"\u001b[39m, \u001b[33m\"\u001b[39m\u001b[33mre4\u001b[39m\u001b[33m\"\u001b[39m, \u001b[33m\"\u001b[39m\u001b[33mswir1\u001b[39m\u001b[33m\"\u001b[39m, \u001b[33m\"\u001b[39m\u001b[33mswir2\u001b[39m\u001b[33m\"\u001b[39m]].to_numpy(dtype=np.float16)\n",
      "\u001b[36mFile \u001b[39m\u001b[32m~/git/AgriGEE.lite/.venv/lib/python3.11/site-packages/geopandas/geodataframe.py:1750\u001b[39m, in \u001b[36mGeoDataFrame.__getitem__\u001b[39m\u001b[34m(self, key)\u001b[39m\n\u001b[32m   1744\u001b[39m \u001b[38;5;28;01mdef\u001b[39;00m\u001b[38;5;250m \u001b[39m\u001b[34m__getitem__\u001b[39m(\u001b[38;5;28mself\u001b[39m, key):\n\u001b[32m   1745\u001b[39m \u001b[38;5;250m    \u001b[39m\u001b[33;03m\"\"\"\u001b[39;00m\n\u001b[32m   1746\u001b[39m \u001b[33;03m    If the result is a column containing only 'geometry', return a\u001b[39;00m\n\u001b[32m   1747\u001b[39m \u001b[33;03m    GeoSeries. If it's a DataFrame with any columns of GeometryDtype,\u001b[39;00m\n\u001b[32m   1748\u001b[39m \u001b[33;03m    return a GeoDataFrame.\u001b[39;00m\n\u001b[32m   1749\u001b[39m \u001b[33;03m    \"\"\"\u001b[39;00m\n\u001b[32m-> \u001b[39m\u001b[32m1750\u001b[39m     result = \u001b[38;5;28;43msuper\u001b[39;49m\u001b[43m(\u001b[49m\u001b[43m)\u001b[49m\u001b[43m.\u001b[49m\u001b[34;43m__getitem__\u001b[39;49m\u001b[43m(\u001b[49m\u001b[43mkey\u001b[49m\u001b[43m)\u001b[49m\n\u001b[32m   1751\u001b[39m     \u001b[38;5;66;03m# Custom logic to avoid waiting for pandas GH51895\u001b[39;00m\n\u001b[32m   1752\u001b[39m     \u001b[38;5;66;03m# result is not geometry dtype for multi-indexes\u001b[39;00m\n\u001b[32m   1753\u001b[39m     \u001b[38;5;28;01mif\u001b[39;00m (\n\u001b[32m   1754\u001b[39m         pd.api.types.is_scalar(key)\n\u001b[32m   1755\u001b[39m         \u001b[38;5;129;01mand\u001b[39;00m key == \u001b[33m\"\u001b[39m\u001b[33m\"\u001b[39m\n\u001b[32m   (...)\u001b[39m\u001b[32m   1758\u001b[39m         \u001b[38;5;129;01mand\u001b[39;00m \u001b[38;5;129;01mnot\u001b[39;00m is_geometry_type(result)\n\u001b[32m   1759\u001b[39m     ):\n",
      "\u001b[36mFile \u001b[39m\u001b[32m~/git/AgriGEE.lite/.venv/lib/python3.11/site-packages/pandas/core/frame.py:4117\u001b[39m, in \u001b[36mDataFrame.__getitem__\u001b[39m\u001b[34m(self, key)\u001b[39m\n\u001b[32m   4114\u001b[39m \u001b[38;5;28;01mif\u001b[39;00m \u001b[38;5;28misinstance\u001b[39m(indexer, \u001b[38;5;28mslice\u001b[39m):\n\u001b[32m   4115\u001b[39m     \u001b[38;5;28;01mreturn\u001b[39;00m \u001b[38;5;28mself\u001b[39m._slice(indexer, axis=\u001b[32m1\u001b[39m)\n\u001b[32m-> \u001b[39m\u001b[32m4117\u001b[39m data = \u001b[38;5;28;43mself\u001b[39;49m\u001b[43m.\u001b[49m\u001b[43m_take_with_is_copy\u001b[49m\u001b[43m(\u001b[49m\u001b[43mindexer\u001b[49m\u001b[43m,\u001b[49m\u001b[43m \u001b[49m\u001b[43maxis\u001b[49m\u001b[43m=\u001b[49m\u001b[32;43m1\u001b[39;49m\u001b[43m)\u001b[49m\n\u001b[32m   4119\u001b[39m \u001b[38;5;28;01mif\u001b[39;00m is_single_key:\n\u001b[32m   4120\u001b[39m     \u001b[38;5;66;03m# What does looking for a single key in a non-unique index return?\u001b[39;00m\n\u001b[32m   4121\u001b[39m     \u001b[38;5;66;03m# The behavior is inconsistent. It returns a Series, except when\u001b[39;00m\n\u001b[32m   4122\u001b[39m     \u001b[38;5;66;03m# - the key itself is repeated (test on data.shape, #9519), or\u001b[39;00m\n\u001b[32m   4123\u001b[39m     \u001b[38;5;66;03m# - we have a MultiIndex on columns (test on self.columns, #21309)\u001b[39;00m\n\u001b[32m   4124\u001b[39m     \u001b[38;5;28;01mif\u001b[39;00m data.shape[\u001b[32m1\u001b[39m] == \u001b[32m1\u001b[39m \u001b[38;5;129;01mand\u001b[39;00m \u001b[38;5;129;01mnot\u001b[39;00m \u001b[38;5;28misinstance\u001b[39m(\u001b[38;5;28mself\u001b[39m.columns, MultiIndex):\n\u001b[32m   4125\u001b[39m         \u001b[38;5;66;03m# GH#26490 using data[key] can cause RecursionError\u001b[39;00m\n",
      "\u001b[36mFile \u001b[39m\u001b[32m~/git/AgriGEE.lite/.venv/lib/python3.11/site-packages/pandas/core/generic.py:4153\u001b[39m, in \u001b[36mNDFrame._take_with_is_copy\u001b[39m\u001b[34m(self, indices, axis)\u001b[39m\n\u001b[32m   4142\u001b[39m \u001b[38;5;129m@final\u001b[39m\n\u001b[32m   4143\u001b[39m \u001b[38;5;28;01mdef\u001b[39;00m\u001b[38;5;250m \u001b[39m\u001b[34m_take_with_is_copy\u001b[39m(\u001b[38;5;28mself\u001b[39m, indices, axis: Axis = \u001b[32m0\u001b[39m) -> Self:\n\u001b[32m   4144\u001b[39m \u001b[38;5;250m    \u001b[39m\u001b[33;03m\"\"\"\u001b[39;00m\n\u001b[32m   4145\u001b[39m \u001b[33;03m    Internal version of the `take` method that sets the `_is_copy`\u001b[39;00m\n\u001b[32m   4146\u001b[39m \u001b[33;03m    attribute to keep track of the parent dataframe (using in indexing\u001b[39;00m\n\u001b[32m   (...)\u001b[39m\u001b[32m   4151\u001b[39m \u001b[33;03m    See the docstring of `take` for full explanation of the parameters.\u001b[39;00m\n\u001b[32m   4152\u001b[39m \u001b[33;03m    \"\"\"\u001b[39;00m\n\u001b[32m-> \u001b[39m\u001b[32m4153\u001b[39m     result = \u001b[38;5;28;43mself\u001b[39;49m\u001b[43m.\u001b[49m\u001b[43mtake\u001b[49m\u001b[43m(\u001b[49m\u001b[43mindices\u001b[49m\u001b[43m=\u001b[49m\u001b[43mindices\u001b[49m\u001b[43m,\u001b[49m\u001b[43m \u001b[49m\u001b[43maxis\u001b[49m\u001b[43m=\u001b[49m\u001b[43maxis\u001b[49m\u001b[43m)\u001b[49m\n\u001b[32m   4154\u001b[39m     \u001b[38;5;66;03m# Maybe set copy if we didn't actually change the index.\u001b[39;00m\n\u001b[32m   4155\u001b[39m     \u001b[38;5;28;01mif\u001b[39;00m \u001b[38;5;28mself\u001b[39m.ndim == \u001b[32m2\u001b[39m \u001b[38;5;129;01mand\u001b[39;00m \u001b[38;5;129;01mnot\u001b[39;00m result._get_axis(axis).equals(\u001b[38;5;28mself\u001b[39m._get_axis(axis)):\n",
      "\u001b[36mFile \u001b[39m\u001b[32m~/git/AgriGEE.lite/.venv/lib/python3.11/site-packages/pandas/core/generic.py:4133\u001b[39m, in \u001b[36mNDFrame.take\u001b[39m\u001b[34m(self, indices, axis, **kwargs)\u001b[39m\n\u001b[32m   4128\u001b[39m     \u001b[38;5;66;03m# We can get here with a slice via DataFrame.__getitem__\u001b[39;00m\n\u001b[32m   4129\u001b[39m     indices = np.arange(\n\u001b[32m   4130\u001b[39m         indices.start, indices.stop, indices.step, dtype=np.intp\n\u001b[32m   4131\u001b[39m     )\n\u001b[32m-> \u001b[39m\u001b[32m4133\u001b[39m new_data = \u001b[38;5;28;43mself\u001b[39;49m\u001b[43m.\u001b[49m\u001b[43m_mgr\u001b[49m\u001b[43m.\u001b[49m\u001b[43mtake\u001b[49m\u001b[43m(\u001b[49m\n\u001b[32m   4134\u001b[39m \u001b[43m    \u001b[49m\u001b[43mindices\u001b[49m\u001b[43m,\u001b[49m\n\u001b[32m   4135\u001b[39m \u001b[43m    \u001b[49m\u001b[43maxis\u001b[49m\u001b[43m=\u001b[49m\u001b[38;5;28;43mself\u001b[39;49m\u001b[43m.\u001b[49m\u001b[43m_get_block_manager_axis\u001b[49m\u001b[43m(\u001b[49m\u001b[43maxis\u001b[49m\u001b[43m)\u001b[49m\u001b[43m,\u001b[49m\n\u001b[32m   4136\u001b[39m \u001b[43m    \u001b[49m\u001b[43mverify\u001b[49m\u001b[43m=\u001b[49m\u001b[38;5;28;43;01mTrue\u001b[39;49;00m\u001b[43m,\u001b[49m\n\u001b[32m   4137\u001b[39m \u001b[43m\u001b[49m\u001b[43m)\u001b[49m\n\u001b[32m   4138\u001b[39m \u001b[38;5;28;01mreturn\u001b[39;00m \u001b[38;5;28mself\u001b[39m._constructor_from_mgr(new_data, axes=new_data.axes).__finalize__(\n\u001b[32m   4139\u001b[39m     \u001b[38;5;28mself\u001b[39m, method=\u001b[33m\"\u001b[39m\u001b[33mtake\u001b[39m\u001b[33m\"\u001b[39m\n\u001b[32m   4140\u001b[39m )\n",
      "\u001b[36mFile \u001b[39m\u001b[32m~/git/AgriGEE.lite/.venv/lib/python3.11/site-packages/pandas/core/internals/managers.py:894\u001b[39m, in \u001b[36mBaseBlockManager.take\u001b[39m\u001b[34m(self, indexer, axis, verify)\u001b[39m\n\u001b[32m    891\u001b[39m indexer = maybe_convert_indices(indexer, n, verify=verify)\n\u001b[32m    893\u001b[39m new_labels = \u001b[38;5;28mself\u001b[39m.axes[axis].take(indexer)\n\u001b[32m--> \u001b[39m\u001b[32m894\u001b[39m \u001b[38;5;28;01mreturn\u001b[39;00m \u001b[38;5;28;43mself\u001b[39;49m\u001b[43m.\u001b[49m\u001b[43mreindex_indexer\u001b[49m\u001b[43m(\u001b[49m\n\u001b[32m    895\u001b[39m \u001b[43m    \u001b[49m\u001b[43mnew_axis\u001b[49m\u001b[43m=\u001b[49m\u001b[43mnew_labels\u001b[49m\u001b[43m,\u001b[49m\n\u001b[32m    896\u001b[39m \u001b[43m    \u001b[49m\u001b[43mindexer\u001b[49m\u001b[43m=\u001b[49m\u001b[43mindexer\u001b[49m\u001b[43m,\u001b[49m\n\u001b[32m    897\u001b[39m \u001b[43m    \u001b[49m\u001b[43maxis\u001b[49m\u001b[43m=\u001b[49m\u001b[43maxis\u001b[49m\u001b[43m,\u001b[49m\n\u001b[32m    898\u001b[39m \u001b[43m    \u001b[49m\u001b[43mallow_dups\u001b[49m\u001b[43m=\u001b[49m\u001b[38;5;28;43;01mTrue\u001b[39;49;00m\u001b[43m,\u001b[49m\n\u001b[32m    899\u001b[39m \u001b[43m    \u001b[49m\u001b[43mcopy\u001b[49m\u001b[43m=\u001b[49m\u001b[38;5;28;43;01mNone\u001b[39;49;00m\u001b[43m,\u001b[49m\n\u001b[32m    900\u001b[39m \u001b[43m\u001b[49m\u001b[43m)\u001b[49m\n",
      "\u001b[36mFile \u001b[39m\u001b[32m~/git/AgriGEE.lite/.venv/lib/python3.11/site-packages/pandas/core/internals/managers.py:680\u001b[39m, in \u001b[36mBaseBlockManager.reindex_indexer\u001b[39m\u001b[34m(self, new_axis, indexer, axis, fill_value, allow_dups, copy, only_slice, use_na_proxy)\u001b[39m\n\u001b[32m    677\u001b[39m     \u001b[38;5;28;01mraise\u001b[39;00m \u001b[38;5;167;01mIndexError\u001b[39;00m(\u001b[33m\"\u001b[39m\u001b[33mRequested axis not found in manager\u001b[39m\u001b[33m\"\u001b[39m)\n\u001b[32m    679\u001b[39m \u001b[38;5;28;01mif\u001b[39;00m axis == \u001b[32m0\u001b[39m:\n\u001b[32m--> \u001b[39m\u001b[32m680\u001b[39m     new_blocks = \u001b[38;5;28;43mself\u001b[39;49m\u001b[43m.\u001b[49m\u001b[43m_slice_take_blocks_ax0\u001b[49m\u001b[43m(\u001b[49m\n\u001b[32m    681\u001b[39m \u001b[43m        \u001b[49m\u001b[43mindexer\u001b[49m\u001b[43m,\u001b[49m\n\u001b[32m    682\u001b[39m \u001b[43m        \u001b[49m\u001b[43mfill_value\u001b[49m\u001b[43m=\u001b[49m\u001b[43mfill_value\u001b[49m\u001b[43m,\u001b[49m\n\u001b[32m    683\u001b[39m \u001b[43m        \u001b[49m\u001b[43monly_slice\u001b[49m\u001b[43m=\u001b[49m\u001b[43monly_slice\u001b[49m\u001b[43m,\u001b[49m\n\u001b[32m    684\u001b[39m \u001b[43m        \u001b[49m\u001b[43muse_na_proxy\u001b[49m\u001b[43m=\u001b[49m\u001b[43muse_na_proxy\u001b[49m\u001b[43m,\u001b[49m\n\u001b[32m    685\u001b[39m \u001b[43m    \u001b[49m\u001b[43m)\u001b[49m\n\u001b[32m    686\u001b[39m \u001b[38;5;28;01melse\u001b[39;00m:\n\u001b[32m    687\u001b[39m     new_blocks = [\n\u001b[32m    688\u001b[39m         blk.take_nd(\n\u001b[32m    689\u001b[39m             indexer,\n\u001b[32m   (...)\u001b[39m\u001b[32m    695\u001b[39m         \u001b[38;5;28;01mfor\u001b[39;00m blk \u001b[38;5;129;01min\u001b[39;00m \u001b[38;5;28mself\u001b[39m.blocks\n\u001b[32m    696\u001b[39m     ]\n",
      "\u001b[36mFile \u001b[39m\u001b[32m~/git/AgriGEE.lite/.venv/lib/python3.11/site-packages/pandas/core/internals/managers.py:843\u001b[39m, in \u001b[36mBaseBlockManager._slice_take_blocks_ax0\u001b[39m\u001b[34m(self, slice_or_indexer, fill_value, only_slice, use_na_proxy, ref_inplace_op)\u001b[39m\n\u001b[32m    841\u001b[39m                     blocks.append(nb)\n\u001b[32m    842\u001b[39m             \u001b[38;5;28;01melse\u001b[39;00m:\n\u001b[32m--> \u001b[39m\u001b[32m843\u001b[39m                 nb = \u001b[43mblk\u001b[49m\u001b[43m.\u001b[49m\u001b[43mtake_nd\u001b[49m\u001b[43m(\u001b[49m\u001b[43mtaker\u001b[49m\u001b[43m,\u001b[49m\u001b[43m \u001b[49m\u001b[43maxis\u001b[49m\u001b[43m=\u001b[49m\u001b[32;43m0\u001b[39;49m\u001b[43m,\u001b[49m\u001b[43m \u001b[49m\u001b[43mnew_mgr_locs\u001b[49m\u001b[43m=\u001b[49m\u001b[43mmgr_locs\u001b[49m\u001b[43m)\u001b[49m\n\u001b[32m    844\u001b[39m                 blocks.append(nb)\n\u001b[32m    846\u001b[39m \u001b[38;5;28;01mreturn\u001b[39;00m blocks\n",
      "\u001b[36mFile \u001b[39m\u001b[32m~/git/AgriGEE.lite/.venv/lib/python3.11/site-packages/pandas/core/internals/blocks.py:1307\u001b[39m, in \u001b[36mBlock.take_nd\u001b[39m\u001b[34m(self, indexer, axis, new_mgr_locs, fill_value)\u001b[39m\n\u001b[32m   1304\u001b[39m     allow_fill = \u001b[38;5;28;01mTrue\u001b[39;00m\n\u001b[32m   1306\u001b[39m \u001b[38;5;66;03m# Note: algos.take_nd has upcast logic similar to coerce_to_target_dtype\u001b[39;00m\n\u001b[32m-> \u001b[39m\u001b[32m1307\u001b[39m new_values = \u001b[43malgos\u001b[49m\u001b[43m.\u001b[49m\u001b[43mtake_nd\u001b[49m\u001b[43m(\u001b[49m\n\u001b[32m   1308\u001b[39m \u001b[43m    \u001b[49m\u001b[43mvalues\u001b[49m\u001b[43m,\u001b[49m\u001b[43m \u001b[49m\u001b[43mindexer\u001b[49m\u001b[43m,\u001b[49m\u001b[43m \u001b[49m\u001b[43maxis\u001b[49m\u001b[43m=\u001b[49m\u001b[43maxis\u001b[49m\u001b[43m,\u001b[49m\u001b[43m \u001b[49m\u001b[43mallow_fill\u001b[49m\u001b[43m=\u001b[49m\u001b[43mallow_fill\u001b[49m\u001b[43m,\u001b[49m\u001b[43m \u001b[49m\u001b[43mfill_value\u001b[49m\u001b[43m=\u001b[49m\u001b[43mfill_value\u001b[49m\n\u001b[32m   1309\u001b[39m \u001b[43m\u001b[49m\u001b[43m)\u001b[49m\n\u001b[32m   1311\u001b[39m \u001b[38;5;66;03m# Called from three places in managers, all of which satisfy\u001b[39;00m\n\u001b[32m   1312\u001b[39m \u001b[38;5;66;03m#  these assertions\u001b[39;00m\n\u001b[32m   1313\u001b[39m \u001b[38;5;28;01mif\u001b[39;00m \u001b[38;5;28misinstance\u001b[39m(\u001b[38;5;28mself\u001b[39m, ExtensionBlock):\n\u001b[32m   1314\u001b[39m     \u001b[38;5;66;03m# NB: in this case, the 'axis' kwarg will be ignored in the\u001b[39;00m\n\u001b[32m   1315\u001b[39m     \u001b[38;5;66;03m#  algos.take_nd call above.\u001b[39;00m\n",
      "\u001b[36mFile \u001b[39m\u001b[32m~/git/AgriGEE.lite/.venv/lib/python3.11/site-packages/pandas/core/array_algos/take.py:117\u001b[39m, in \u001b[36mtake_nd\u001b[39m\u001b[34m(arr, indexer, axis, fill_value, allow_fill)\u001b[39m\n\u001b[32m    114\u001b[39m     \u001b[38;5;28;01mreturn\u001b[39;00m arr.take(indexer, fill_value=fill_value, allow_fill=allow_fill)\n\u001b[32m    116\u001b[39m arr = np.asarray(arr)\n\u001b[32m--> \u001b[39m\u001b[32m117\u001b[39m \u001b[38;5;28;01mreturn\u001b[39;00m \u001b[43m_take_nd_ndarray\u001b[49m\u001b[43m(\u001b[49m\u001b[43marr\u001b[49m\u001b[43m,\u001b[49m\u001b[43m \u001b[49m\u001b[43mindexer\u001b[49m\u001b[43m,\u001b[49m\u001b[43m \u001b[49m\u001b[43maxis\u001b[49m\u001b[43m,\u001b[49m\u001b[43m \u001b[49m\u001b[43mfill_value\u001b[49m\u001b[43m,\u001b[49m\u001b[43m \u001b[49m\u001b[43mallow_fill\u001b[49m\u001b[43m)\u001b[49m\n",
      "\u001b[36mFile \u001b[39m\u001b[32m~/git/AgriGEE.lite/.venv/lib/python3.11/site-packages/pandas/core/array_algos/take.py:162\u001b[39m, in \u001b[36m_take_nd_ndarray\u001b[39m\u001b[34m(arr, indexer, axis, fill_value, allow_fill)\u001b[39m\n\u001b[32m    157\u001b[39m     out = np.empty(out_shape, dtype=dtype)\n\u001b[32m    159\u001b[39m func = _get_take_nd_function(\n\u001b[32m    160\u001b[39m     arr.ndim, arr.dtype, out.dtype, axis=axis, mask_info=mask_info\n\u001b[32m    161\u001b[39m )\n\u001b[32m--> \u001b[39m\u001b[32m162\u001b[39m \u001b[43mfunc\u001b[49m\u001b[43m(\u001b[49m\u001b[43marr\u001b[49m\u001b[43m,\u001b[49m\u001b[43m \u001b[49m\u001b[43mindexer\u001b[49m\u001b[43m,\u001b[49m\u001b[43m \u001b[49m\u001b[43mout\u001b[49m\u001b[43m,\u001b[49m\u001b[43m \u001b[49m\u001b[43mfill_value\u001b[49m\u001b[43m)\u001b[49m\n\u001b[32m    164\u001b[39m \u001b[38;5;28;01mif\u001b[39;00m flip_order:\n\u001b[32m    165\u001b[39m     out = out.T\n",
      "\u001b[36mFile \u001b[39m\u001b[32m~/git/AgriGEE.lite/.venv/lib/python3.11/site-packages/pandas/core/array_algos/take.py:345\u001b[39m, in \u001b[36m_get_take_nd_function.<locals>.func\u001b[39m\u001b[34m(arr, indexer, out, fill_value)\u001b[39m\n\u001b[32m    343\u001b[39m \u001b[38;5;28;01mdef\u001b[39;00m\u001b[38;5;250m \u001b[39m\u001b[34mfunc\u001b[39m(arr, indexer, out, fill_value=np.nan) -> \u001b[38;5;28;01mNone\u001b[39;00m:\n\u001b[32m    344\u001b[39m     indexer = ensure_platform_int(indexer)\n\u001b[32m--> \u001b[39m\u001b[32m345\u001b[39m     \u001b[43m_take_nd_object\u001b[49m\u001b[43m(\u001b[49m\n\u001b[32m    346\u001b[39m \u001b[43m        \u001b[49m\u001b[43marr\u001b[49m\u001b[43m,\u001b[49m\u001b[43m \u001b[49m\u001b[43mindexer\u001b[49m\u001b[43m,\u001b[49m\u001b[43m \u001b[49m\u001b[43mout\u001b[49m\u001b[43m,\u001b[49m\u001b[43m \u001b[49m\u001b[43maxis\u001b[49m\u001b[43m=\u001b[49m\u001b[43maxis\u001b[49m\u001b[43m,\u001b[49m\u001b[43m \u001b[49m\u001b[43mfill_value\u001b[49m\u001b[43m=\u001b[49m\u001b[43mfill_value\u001b[49m\u001b[43m,\u001b[49m\u001b[43m \u001b[49m\u001b[43mmask_info\u001b[49m\u001b[43m=\u001b[49m\u001b[43mmask_info\u001b[49m\n\u001b[32m    347\u001b[39m \u001b[43m    \u001b[49m\u001b[43m)\u001b[49m\n",
      "\u001b[36mFile \u001b[39m\u001b[32m~/git/AgriGEE.lite/.venv/lib/python3.11/site-packages/pandas/core/array_algos/take.py:528\u001b[39m, in \u001b[36m_take_nd_object\u001b[39m\u001b[34m(arr, indexer, out, axis, fill_value, mask_info)\u001b[39m\n\u001b[32m    526\u001b[39m     arr = arr.astype(out.dtype)\n\u001b[32m    527\u001b[39m \u001b[38;5;28;01mif\u001b[39;00m arr.shape[axis] > \u001b[32m0\u001b[39m:\n\u001b[32m--> \u001b[39m\u001b[32m528\u001b[39m     \u001b[43marr\u001b[49m\u001b[43m.\u001b[49m\u001b[43mtake\u001b[49m\u001b[43m(\u001b[49m\u001b[43mindexer\u001b[49m\u001b[43m,\u001b[49m\u001b[43m \u001b[49m\u001b[43maxis\u001b[49m\u001b[43m=\u001b[49m\u001b[43maxis\u001b[49m\u001b[43m,\u001b[49m\u001b[43m \u001b[49m\u001b[43mout\u001b[49m\u001b[43m=\u001b[49m\u001b[43mout\u001b[49m\u001b[43m)\u001b[49m\n\u001b[32m    529\u001b[39m \u001b[38;5;28;01mif\u001b[39;00m needs_masking:\n\u001b[32m    530\u001b[39m     outindexer = [\u001b[38;5;28mslice\u001b[39m(\u001b[38;5;28;01mNone\u001b[39;00m)] * arr.ndim\n",
      "\u001b[31mKeyboardInterrupt\u001b[39m: "
     ]
    }
   ],
   "source": [
    "new_dataset = AGLS2Dataset(gdf)\n",
    "new_dataset.filter_observations()"
   ]
  },
  {
   "cell_type": "code",
   "execution_count": null,
   "id": "55f183d2",
   "metadata": {},
   "outputs": [],
   "source": []
  },
  {
   "cell_type": "code",
   "execution_count": 3,
   "id": "fc4e564b",
   "metadata": {},
   "outputs": [],
   "source": [
    "pattern = rf'^{re.escape(\"s2sr\")}_'\n",
    "filtered_columns = gdf.filter(regex=pattern).columns"
   ]
  },
  {
   "cell_type": "code",
   "execution_count": 6,
   "id": "7d4de4e8",
   "metadata": {},
   "outputs": [
    {
     "data": {
      "text/plain": [
       "np.int64(88390)"
      ]
     },
     "execution_count": 6,
     "metadata": {},
     "output_type": "execute_result"
    }
   ],
   "source": [
    "gdf.s2sr_observations.argmax()"
   ]
  },
  {
   "cell_type": "code",
   "execution_count": 12,
   "id": "5a80a350",
   "metadata": {},
   "outputs": [],
   "source": [
    "bands = np.zeros((len(gdf), 120, 10), dtype=np.float16)\n",
    "doys = np.zeros((len(gdf), 120), dtype=np.uint16)"
   ]
  },
  {
   "cell_type": "code",
   "execution_count": null,
   "id": "954141a5",
   "metadata": {},
   "outputs": [],
   "source": [
    "agl.misc.wide_to_long_dataframe(gdf[filtered_columns])"
   ]
  },
  {
   "cell_type": "code",
   "execution_count": null,
   "id": "7ce34b88",
   "metadata": {},
   "outputs": [],
   "source": [
    "# results = agl.get.multiple_sits(gdf, agl.sat.Landsat8(), force_redownload=True)\n",
    "# gdf = pd.concat([gdf, results], axis=1)"
   ]
  },
  {
   "cell_type": "code",
   "execution_count": 7,
   "id": "af5ca8bd",
   "metadata": {},
   "outputs": [],
   "source": [
    "class AGLSitsDataset():\n",
    "    def __init__(self, gdf: str | gpd.GeoDataFrame, use_split: str | None = None, transform = None):\n",
    "        if isinstance(gdf, str):\n",
    "            self.gdf = gpd.read_parquet(gdf)\n",
    "        elif isinstance(gdf, gpd.GeoDataFrame):\n",
    "            self.gdf = gdf\n",
    "        else:\n",
    "            raise TypeError(\"gdf must be a string (file path) or a GeoDataFrame\")  # noqa: TRY003\n",
    "\n",
    "        if use_split is not None:\n",
    "            self.gdf = self.gdf[self.gdf[\"set\"] == use_split].reset_index(drop=True)\n",
    "\n",
    "        self.removed_timestamps = gpd.GeoDataFrame(columns=self.gdf.columns, crs=self.gdf.crs)\n",
    "        self.satellites = self.gdf.filter(regex=r'_observations$').columns.str.replace('_observations', '', regex=False).tolist()\n",
    "        self.bands_order = [\"blue\", \"green\", \"red\", \"re1\", \"re2\", \"re3\", \"nir\", \"re4\", \"swir1\", \"swir2\", \"vv\", \"vh\"]\n",
    "\n",
    "        self.transform = transform\n",
    "        self.num_classes = self.gdf.y_true.nunique()\n",
    "\n",
    "    def filter_observations(self, satellites: list[str] | None = None, min_observations: int = 1):\n",
    "        if satellites is None:\n",
    "            satellites = self.satellites\n",
    "        elif not set(satellites).issubset(set(self.satellites)):\n",
    "            raise ValueError(\"Some satellites are not available in the dataset\")  # noqa: TRY003\n",
    "\n",
    "        pattern = r'^(?:' + '|'.join([re.escape(sat) + r'_observations$' for sat in satellites]) + r')'\n",
    "        filtered_columns = self.gdf.filter(regex=pattern).columns\n",
    "        keep_gdf = self.gdf[self.gdf[filtered_columns].min(axis=1) >= min_observations].reset_index(drop=True)\n",
    "        remove_gdf = self.gdf[self.gdf[filtered_columns].min(axis=1) < min_observations].reset_index(drop=True)\n",
    "        if keep_gdf.empty:\n",
    "            raise ValueError(\"No observations found for the specified satellites with the given minimum observations\")  # noqa: TRY003\n",
    "        self.gdf = keep_gdf\n",
    "        self.removed_timestamps = pd.concat([self.removed_timestamps, remove_gdf], ignore_index=True)\n",
    "\n",
    "    def __getitem__(self, idx: int):\n",
    "        result = {}\n",
    "\n",
    "        for satellite in self.satellites:\n",
    "            pattern = rf'^{re.escape(satellite)}_'\n",
    "            filtered_columns = self.gdf.filter(regex=pattern).columns\n",
    "\n",
    "            long_sits = agl.misc.wide_to_long_dataframe(self.gdf[filtered_columns].iloc[idx:idx+1]).drop(columns=[\"indexnum\"])\n",
    "            long_sits = long_sits.dropna().reset_index(drop=True)\n",
    "\n",
    "            if len(long_sits) == 0:\n",
    "                result[f\"{satellite}_doys\"] = np.array([], dtype=np.uint16)\n",
    "                result[f\"{satellite}_bands\"] = np.array([], dtype=np.float32)\n",
    "                continue\n",
    "\n",
    "            long_sits = long_sits.loc[~long_sits.duplicated(\"doy\")].reset_index(drop=True)\n",
    "\n",
    "            ordered_bands = [\n",
    "                band for band in self.bands_order\n",
    "                if band in long_sits.columns\n",
    "            ]\n",
    "\n",
    "            doys = long_sits[\"doy\"].to_numpy().astype(np.uint16)\n",
    "            bands = long_sits[ordered_bands].to_numpy().astype(np.float32)\n",
    "\n",
    "            result[f\"{satellite}_doys\"] = doys\n",
    "            result[f\"{satellite}_bands\"] = bands\n",
    "\n",
    "        if self.transform:\n",
    "            result = self.transform(result)\n",
    "\n",
    "        return result\n",
    "\n",
    "    def get_idx_metadata(self, idx: int):\n",
    "        if idx < 0 or idx >= len(self.gdf):\n",
    "            raise IndexError(\"Index out of bounds of DataFrame\")  # noqa: TRY003\n",
    "\n",
    "        satellite_prefixes = [re.escape(s) + \"_\" for s in self.satellites]\n",
    "        pattern = r'^(?:' + '|'.join(satellite_prefixes) + ')'\n",
    "\n",
    "        metadata_columns = [col for col in self.gdf.columns if not re.match(pattern, col)]\n",
    "\n",
    "        metadata = self.gdf.loc[idx, metadata_columns]\n",
    "        return metadata"
   ]
  },
  {
   "cell_type": "code",
   "execution_count": null,
   "id": "5783a50a",
   "metadata": {},
   "outputs": [],
   "source": [
    "gdf.crop_class.unique()"
   ]
  },
  {
   "cell_type": "code",
   "execution_count": 8,
   "id": "2d9e7da8",
   "metadata": {},
   "outputs": [],
   "source": [
    "dataset = AGLSitsDataset(gdf)"
   ]
  },
  {
   "cell_type": "code",
   "execution_count": 11,
   "id": "5b274710",
   "metadata": {},
   "outputs": [
    {
     "data": {
      "text/plain": [
       "(116,)"
      ]
     },
     "execution_count": 11,
     "metadata": {},
     "output_type": "execute_result"
    }
   ],
   "source": [
    "dataset[88390]['s2sr_doys'].shape"
   ]
  },
  {
   "cell_type": "code",
   "execution_count": null,
   "id": "638d3eb6",
   "metadata": {},
   "outputs": [],
   "source": [
    "dataset.filter_observations(min_observations=12)"
   ]
  },
  {
   "cell_type": "code",
   "execution_count": null,
   "id": "4b98ea00",
   "metadata": {},
   "outputs": [],
   "source": [
    "dataset.removed_timestamps"
   ]
  },
  {
   "cell_type": "code",
   "execution_count": null,
   "id": "7c162d14",
   "metadata": {},
   "outputs": [],
   "source": [
    "gdf.l8sr_observations.min()"
   ]
  },
  {
   "cell_type": "code",
   "execution_count": null,
   "id": "7ffc7244",
   "metadata": {},
   "outputs": [],
   "source": [
    "dataset.get_idx_metadata(0)"
   ]
  },
  {
   "cell_type": "code",
   "execution_count": null,
   "id": "e5362242",
   "metadata": {},
   "outputs": [],
   "source": [
    "dataset[6]"
   ]
  },
  {
   "cell_type": "code",
   "execution_count": null,
   "id": "93c01fe6",
   "metadata": {},
   "outputs": [],
   "source": [
    "gdf[gdf.l8sr_observations>0]"
   ]
  }
 ],
 "metadata": {
  "kernelspec": {
   "display_name": ".venv",
   "language": "python",
   "name": "python3"
  },
  "language_info": {
   "codemirror_mode": {
    "name": "ipython",
    "version": 3
   },
   "file_extension": ".py",
   "mimetype": "text/x-python",
   "name": "python",
   "nbconvert_exporter": "python",
   "pygments_lexer": "ipython3",
   "version": "3.11.10"
  }
 },
 "nbformat": 4,
 "nbformat_minor": 5
}
