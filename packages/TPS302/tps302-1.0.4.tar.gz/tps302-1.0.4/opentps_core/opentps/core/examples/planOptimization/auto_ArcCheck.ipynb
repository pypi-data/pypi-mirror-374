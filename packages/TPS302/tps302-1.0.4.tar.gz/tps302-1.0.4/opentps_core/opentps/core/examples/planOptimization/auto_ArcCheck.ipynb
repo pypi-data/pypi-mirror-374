{
 "cells": [
  {
   "cell_type": "code",
   "execution_count": 2,
   "metadata": {},
   "outputs": [],
   "source": [
    "import subprocess\n",
    "import shutil\n",
    "import os\n",
    "\n",
    "\n",
    "def run_python_script(script_path):\n",
    "    \"\"\"\n",
    "    运行指定的 Python 脚本，并捕获输出和错误。\n",
    "    如果脚本运行失败，捕获异常但不中断主程序。\n",
    "    \"\"\"\n",
    "    try:\n",
    "        print(f\"正在运行脚本: {script_path}\")\n",
    "        # 运行脚本并实时显示输出\n",
    "        result = subprocess.run(\n",
    "            ['python', script_path],\n",
    "            check=True,\n",
    "            text=True,\n",
    "            capture_output=True  # 捕获输出\n",
    "        )\n",
    "        # 输出脚本运行结果\n",
    "        print(f\"脚本 {script_path} 运行成功！\")\n",
    "        print(\"脚本输出：\")\n",
    "        print(result.stdout)  # 打印标准输出\n",
    "    except subprocess.CalledProcessError as e:\n",
    "        # 捕获子进程错误，并打印详细信息\n",
    "        print(f\"运行脚本 {script_path} 时发生错误！\")\n",
    "        print(f\"错误信息：{e.stderr}\")\n",
    "    except FileNotFoundError:\n",
    "        # 捕获脚本路径不存在的错误\n",
    "        print(f\"找不到指定的脚本文件: {script_path}\")\n",
    "    except Exception as e:\n",
    "        # 捕获其他未知异常\n",
    "        print(f\"运行脚本 {script_path} 时遇到未知错误: {e}\")\n",
    "    finally:\n",
    "        print(\"脚本运行结束。\\n\")\n",
    "\n",
    "# 2. 复制文件到指定路径并运行 `.bat` 文件\n",
    "def copy_and_run_bat(src_file, dest_dir, bat_file_path):\n",
    "    try:\n",
    "        # 复制文件\n",
    "        shutil.copy(src_file, dest_dir)\n",
    "        print(f\"文件 {src_file} 已复制到 {dest_dir}\")\n",
    "\n",
    "        #subprocess.run(f\"cmd.exe /c {bat_file_path}\", shell=True, cwd=dest_dir)\n",
    "\n",
    "\n",
    "    except Exception as e:\n",
    "        print(f\"复制文件或运行 .bat 文件时发生错误: {e}\")\n",
    "        raise\n",
    "\n",
    "# 3. 重命名并复制新文件（复制两个文件）\n",
    "def rename_and_copy_files(src_files, dest_files):\n",
    "    try:\n",
    "        # 遍历复制和重命名每个文件\n",
    "        for src_file, dest_file in zip(src_files, dest_files):\n",
    "            shutil.copy(src_file, dest_file)\n",
    "            print(f\"文件 {src_file} 已复制并重命名为 {dest_file}\")\n",
    "    except Exception as e:\n",
    "        print(f\"重命名或复制文件时发生错误: {e}\")\n",
    "        raise\n",
    "# 4. 运行另一个 Python 脚本\n",
    "def run_second_python_script(script_path):\n",
    "    try:\n",
    "        subprocess.run(['python', script_path], check=True)\n",
    "        print(f\"第二个 Python 脚本 {script_path} 运行成功！\")\n",
    "    except subprocess.CalledProcessError:\n",
    "        print(f\"运行第二个 Python 脚本 {script_path} 时出错，但程序继续执行。\")\n",
    "        # 错误捕获后程序继续执行，不抛出异常\n",
    "# 主控制函数\n",
    "def automate_process():\n",
    "    # 第一步：运行指定的 Python 脚本\n",
    "   # script_path = 'E:/OpenTPS/opentps-master/opentps_core/opentps/core/examples/planOptimization/DynamicAngleCalculation.py'\n",
    "   # run_python_script(script_path)\n",
    "\n",
    "    # 第二步：复制文件到指定路径并运行 .bat 文件\n",
    "    src_file = 'C:/Users/gcyyy/openTPS_workspace/Simulations/MCsquare_simulation/PlanPencil.txt'\n",
    "    dest_dir = 'E:/mc2/MCsquare-master'\n",
    "    bat_file_path = 'E:/mc2/MCsquare-master/MCsquare.bat'\n",
    "    copy_and_run_bat(src_file, dest_dir, bat_file_path) # 手动运行\n",
    "\n",
    "    # 第三步：重命名并复制两个新文件\n",
    "    src_files = ['E:/mc2/MCsquare-master/Outputs/Dose.mhd', 'E:/mc2/MCsquare-master/Outputs/Dose.raw']  # 需要复制的两个文件\n",
    "    dest_files = ['C:/Users/gcyyy/Desktop/Arc_MHD/Dose.mhd', 'C:/Users/gcyyy/Desktop/Arc_MHD/Dose.raw']\n",
    "    rename_and_copy_files(src_files, dest_files)\n",
    "\n",
    "    # 第四步：运行第二个 Python 脚本\n",
    "    script_path_2 = 'E:/OpenTPS/opentps-master/opentps_core/opentps/core/examples/planOptimization/CompareMHD.py'\n",
    "    run_second_python_script(script_path_2)\n",
    "\n",
    "#if __name__ == \"__main__\":\n",
    "    #automate_process()\n"
   ]
  },
  {
   "cell_type": "code",
   "execution_count": 3,
   "metadata": {},
   "outputs": [],
   "source": [
    "import re\n",
    "\n",
    "def modify_variable(file_path, variable_name, new_value):\n",
    "    with open(file_path, 'r') as file:\n",
    "        content = file.read()\n",
    "\n",
    "    # 使用正则表达式替换变量值\n",
    "    pattern = rf'{variable_name}\\s*=\\s*\".*?\"'\n",
    "    replacement = f'{variable_name} = \"{new_value}\"'\n",
    "    updated_content = re.sub(pattern, replacement, content)\n",
    "\n",
    "    with open(file_path, 'w') as file:\n",
    "        file.write(updated_content)"
   ]
  },
  {
   "cell_type": "code",
   "execution_count": 4,
   "metadata": {},
   "outputs": [],
   "source": [
    "planname=\"Arcplan_CSS_new_90GA_Opti_SpotReduction-layer_redistribution\"\n",
    "modify_variable('E:/OpenTPS/opentps-master/opentps_core/opentps/core/examples/planOptimization/DynamicAngleCalculation.py', 'plan_name', planname+\".tps\")"
   ]
  },
  {
   "cell_type": "code",
   "execution_count": 5,
   "metadata": {},
   "outputs": [
    {
     "name": "stdout",
     "output_type": "stream",
     "text": [
      "正在运行脚本: E:/OpenTPS/opentps-master/opentps_core/opentps/core/examples/planOptimization/DynamicAngleCalculation.py\n",
      "运行脚本 E:/OpenTPS/opentps-master/opentps_core/opentps/core/examples/planOptimization/DynamicAngleCalculation.py 时发生错误！\n",
      "错误信息：Traceback (most recent call last):\n",
      "  File \"E:\\OpenTPS\\opentps-master\\opentps_core\\opentps\\core\\examples\\planOptimization\\DynamicAngleCalculation.py\", line 223, in <module>\n",
      "    doseImage2 = mc2.computeDose(ct, plan_with_diff_angle)\n",
      "  File \"E:\\OpenTPS\\opentps-master\\opentps_core\\opentps\\core\\processing\\doseCalculation\\mcsquareDoseCalculator.py\", line 172, in computeDose\n",
      "    mhdDose = self._importDose(plan)\n",
      "  File \"E:\\OpenTPS\\opentps-master\\opentps_core\\opentps\\core\\processing\\doseCalculation\\mcsquareDoseCalculator.py\", line 366, in _importDose\n",
      "    dose = mcsquareIO.readDose(self._doseFilePath)\n",
      "  File \"E:\\OpenTPS\\opentps-master\\opentps_core\\opentps\\core\\io\\mcsquareIO.py\", line 214, in readDose\n",
      "    doseMHD = readMCsquareMHD(filePath)\n",
      "  File \"E:\\OpenTPS\\opentps-master\\opentps_core\\opentps\\core\\io\\mcsquareIO.py\", line 221, in readMCsquareMHD\n",
      "    image = importImageMHD(filePath)\n",
      "  File \"E:\\OpenTPS\\opentps-master\\opentps_core\\opentps\\core\\io\\mhdIO.py\", line 29, in importImageMHD\n",
      "    metaData = readHeaderMHD(headerFile)\n",
      "  File \"E:\\OpenTPS\\opentps-master\\opentps_core\\opentps\\core\\io\\mhdIO.py\", line 135, in readHeaderMHD\n",
      "    with open(headerFile, 'r') as fid:\n",
      "FileNotFoundError: [Errno 2] No such file or directory: 'C:\\\\Users\\\\gcyyy\\\\openTPS_workspace\\\\Simulations\\\\MCsquare_simulation\\\\Outputs\\\\Dose.mhd'\n",
      "\n",
      "脚本运行结束。\n",
      "\n",
      "文件 C:/Users/gcyyy/openTPS_workspace/Simulations/MCsquare_simulation/PlanPencil.txt 已复制到 E:/mc2/MCsquare-master\n"
     ]
    }
   ],
   "source": [
    "   # 第一步：运行指定的 Python 脚本\n",
    "script_path = 'E:/OpenTPS/opentps-master/opentps_core/opentps/core/examples/planOptimization/DynamicAngleCalculation.py'\n",
    "run_python_script(script_path)\n",
    "   # 第二步：复制文件到指定路径并运行 .bat 文件\n",
    "src_file = 'C:/Users/gcyyy/openTPS_workspace/Simulations/MCsquare_simulation/PlanPencil.txt'\n",
    "dest_dir = 'E:/mc2/MCsquare-master'\n",
    "bat_file_path = 'E:/mc2/MCsquare-master/MCsquare.bat'\n",
    "copy_and_run_bat(src_file, dest_dir, bat_file_path)\n"
   ]
  },
  {
   "cell_type": "code",
   "execution_count": 6,
   "metadata": {},
   "outputs": [
    {
     "name": "stdout",
     "output_type": "stream",
     "text": [
      "文件 E:/mc2/MCsquare-master/Outputs/Dose.mhd 已复制并重命名为 C:/Users/gcyyy/Desktop/Arc_MHD/Dose.mhd\n",
      "文件 E:/mc2/MCsquare-master/Outputs/Dose.raw 已复制并重命名为 C:/Users/gcyyy/Desktop/Arc_MHD/Dose.raw\n",
      "第二个 Python 脚本 E:/OpenTPS/opentps-master/opentps_core/opentps/core/examples/planOptimization/CompareMHD.py 运行成功！\n"
     ]
    }
   ],
   "source": [
    "    # 第三步：重命名并复制两个新文件\n",
    "src_files = ['E:/mc2/MCsquare-master/Outputs/Dose.mhd', 'E:/mc2/MCsquare-master/Outputs/Dose.raw']  # 需要复制的两个文件\n",
    "dest_files = ['C:/Users/gcyyy/Desktop/Arc_MHD/Dose.mhd', 'C:/Users/gcyyy/Desktop/Arc_MHD/Dose.raw']\n",
    "rename_and_copy_files(src_files, dest_files)\n",
    "\n",
    "    # 第四步：运行第二个 Python 脚本\n",
    "modify_variable('E:/OpenTPS/opentps-master/opentps_core/opentps/core/examples/planOptimization/CompareMHD.py', 'RTdosename', planname)\n",
    "script_path_2 = 'E:/OpenTPS/opentps-master/opentps_core/opentps/core/examples/planOptimization/CompareMHD.py'\n",
    "run_second_python_script(script_path_2)"
   ]
  }
 ],
 "metadata": {
  "kernelspec": {
   "display_name": "OpenTPS",
   "language": "python",
   "name": "python3"
  },
  "language_info": {
   "codemirror_mode": {
    "name": "ipython",
    "version": 3
   },
   "file_extension": ".py",
   "mimetype": "text/x-python",
   "name": "python",
   "nbconvert_exporter": "python",
   "pygments_lexer": "ipython3",
   "version": "3.9.18"
  }
 },
 "nbformat": 4,
 "nbformat_minor": 2
}
