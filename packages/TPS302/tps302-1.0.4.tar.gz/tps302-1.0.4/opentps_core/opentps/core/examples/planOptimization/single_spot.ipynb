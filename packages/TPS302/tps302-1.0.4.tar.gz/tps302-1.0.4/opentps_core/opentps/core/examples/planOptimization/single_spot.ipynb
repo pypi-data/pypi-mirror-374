{
 "cells": [
  {
   "cell_type": "code",
   "execution_count": 2,
   "metadata": {},
   "outputs": [
    {
     "name": "stdout",
     "output_type": "stream",
     "text": [
      "\n",
      "RT Struct UID: 1.2.246.352.71.2.6115.77836.20080227145521\n",
      "  [0]  BODY\n",
      "  [1]  PTV\n",
      "  [2]  Prostate\n",
      "  [3]  Urinary bladder\n",
      "  [4]  Rectum\n"
     ]
    }
   ],
   "source": [
    "from opentps.core.io.dataLoader import readData\n",
    "ImagePath = \"TG119_prostate\" \n",
    "data = readData(ImagePath)\n",
    "rt_struct = data[0]\n",
    "ct = data[1]\n",
    "rt_struct.print_ROINames()\n",
    "target_name = \"PTV\"\n",
    "target = rt_struct.getContourByName(target_name).getBinaryMask(origin=ct.origin,gridSize=ct.gridSize,spacing=ct.spacing)\n",
    "roi=target"
   ]
  },
  {
   "cell_type": "code",
   "execution_count": null,
   "metadata": {},
   "outputs": [
    {
     "name": "stdout",
     "output_type": "stream",
     "text": [
      "08/04/2025 11:42:04 AM - opentps.core.data.plan._planDesign - INFO - Building plan ...\n",
      "08/04/2025 11:42:04 AM - opentps.core.processing.planOptimization.planInitializer - INFO - Target is dilated using a margin of 3.0 mm. This process might take some time.\n",
      "08/04/2025 11:42:04 AM - opentps.core.processing.imageProcessing.roiMasksProcessing - INFO - Using SITK to dilate mask.\n",
      "08/04/2025 11:42:19 AM - opentps.core.processing.C_libraries.libRayTracing_wrapper - WARNING - dll found\n",
      "08/04/2025 11:42:19 AM - opentps.core.processing.C_libraries.libRayTracing_wrapper - WARNING - ready for prepare\n",
      "08/04/2025 11:42:19 AM - opentps.core.processing.C_libraries.libRayTracing_wrapper - WARNING - ready for call\n",
      "08/04/2025 11:42:21 AM - opentps.core.data.plan._planDesign - INFO - New plan created in 16.768150568008423 sec\n",
      "08/04/2025 11:42:21 AM - opentps.core.data.plan._planDesign - INFO - Number of spots: 1378\n"
     ]
    }
   ],
   "source": [
    "import copy\n",
    "\n",
    "import numpy as np\n",
    "from matplotlib import pyplot as plt\n",
    "#Import the needed opentps.core packages\n",
    "import time\n",
    "import os\n",
    "import logging\n",
    "import math\n",
    "import numpy as np\n",
    "from matplotlib import pyplot as plt\n",
    "import sys\n",
    "from opentps.core.io.dicomIO import writeRTPlan\n",
    "from opentps.core.processing.planOptimization.tools import evaluateClinical\n",
    "from opentps.core.data.images import CTImage\n",
    "from opentps.core.data.images import ROIMask\n",
    "from opentps.core.data.plan import ObjectivesList\n",
    "from opentps.core.data.plan import PlanDesign\n",
    "from opentps.core.data import DVH\n",
    "from opentps.core.data import Patient\n",
    "from opentps.core.data.plan import FidObjective\n",
    "from opentps.core.io.scannerReader import readScanner\n",
    "from opentps.core.io.serializedObjectIO import saveRTPlan, loadRTPlan\n",
    "from opentps.core.processing.doseCalculation.doseCalculationConfig import DoseCalculationConfig\n",
    "from opentps.core.processing.doseCalculation.mcsquareDoseCalculator import MCsquareDoseCalculator\n",
    "from opentps.core.processing.imageProcessing.resampler3D import resampleImage3DOnImage3D, resampleImage3D\n",
    "from opentps.core.processing.C_libraries.libRayTracing_wrapper import WET_raytracing\n",
    "from opentps.core.processing.planOptimization.planOptimization import IMPTPlanOptimizer\n",
    "from opentps.core.data.plan import PlanDesign\n",
    "from opentps.core.data import DVH\n",
    "from opentps.core.io import mcsquareIO\n",
    "from opentps.core.io.mcsquareIO import _dicomIsocenterToMCsquare\n",
    "from opentps.core.io.scannerReader import readScanner\n",
    "from opentps.core.processing.doseCalculation.doseCalculationConfig import DoseCalculationConfig\n",
    "from opentps.core.processing.doseCalculation.mcsquareDoseCalculator import MCsquareDoseCalculator\n",
    "from opentps.core.io.dataLoader import readData\n",
    "from opentps.core.data.plan import ObjectivesList\n",
    "from opentps.core.data.plan import FidObjective\n",
    "from opentps.core.io.serializedObjectIO import saveBeamlets, saveRTPlan, loadBeamlets, loadRTPlan\n",
    "ctCalibration = readScanner(DoseCalculationConfig().scannerFolder)\n",
    "bdl = mcsquareIO.readBDL(DoseCalculationConfig().bdlFile)\n",
    "gantryAngles = [90] ##修改Gantry角度\n",
    "couchAngles = [0]\n",
    "beamNames = ['beam1']\n",
    "planDesign = PlanDesign()\n",
    "planDesign.ct = ct\n",
    "planDesign.gantryAngles = gantryAngles\n",
    "planDesign.targetMask = roi\n",
    "planDesign.beamNames = beamNames\n",
    "planDesign.couchAngles = couchAngles\n",
    "planDesign.calibration = ctCalibration\n",
    "planDesign.spotSpacing = 5.0\n",
    "planDesign.layerSpacing = 5.0\n",
    "planDesign.targetMargin = 3.0\n",
    "\n",
    "plan = planDesign.buildPlan()  # Spot placement\n",
    "plan.PlanName = \"NewPlan\""
   ]
  },
  {
   "cell_type": "code",
   "execution_count": 20,
   "metadata": {},
   "outputs": [
    {
     "name": "stdout",
     "output_type": "stream",
     "text": [
      "16\n",
      "layer removed\n",
      "layer removed\n",
      "layer removed\n",
      "layer removed\n",
      "layer removed\n",
      "layer removed\n",
      "layer removed\n",
      "layer removed\n",
      "layer removed\n",
      "layer removed\n",
      "layer removed\n",
      "layer removed\n",
      "layer removed\n",
      "layer removed\n",
      "layer removed\n",
      "layer removed\n"
     ]
    }
   ],
   "source": [
    "\n",
    "plan_original=copy.deepcopy(plan)\n",
    "print(len(plan.beams[0]))\n",
    "for j in range(len(plan.beams[0])):\n",
    "    print(\"layer removed\")\n",
    "    if len(plan.beams[0])==1:\n",
    "        break\n",
    "    plan.beams[0].removeLayer(plan.beams[0].layers[0])\n"
   ]
  },
  {
   "cell_type": "code",
   "execution_count": null,
   "metadata": {},
   "outputs": [
    {
     "name": "stdout",
     "output_type": "stream",
     "text": [
      "1\n"
     ]
    }
   ],
   "source": [
    "print(len(plan.beams[0])) #确保只有一个层"
   ]
  },
  {
   "cell_type": "code",
   "execution_count": null,
   "metadata": {},
   "outputs": [],
   "source": []
  },
  {
   "cell_type": "code",
   "execution_count": null,
   "metadata": {},
   "outputs": [
    {
     "data": {
      "text/plain": [
       "array([[0., 0.]])"
      ]
     },
     "execution_count": 27,
     "metadata": {},
     "output_type": "execute_result"
    }
   ],
   "source": [
    "plan.beams[0].layers[0].nominalEnergy= 150 ###修改nominalEnergy\n",
    "plan.beams[0].layers[0]._x = [0.0]\n",
    "plan.beams[0].layers[0]._y = [0.0]\n",
    "plan.beams[0].layers[0]._mu = [1.0]\n",
    "plan.beams[0].layers[0].spotXY"
   ]
  },
  {
   "cell_type": "code",
   "execution_count": 28,
   "metadata": {},
   "outputs": [
    {
     "name": "stdout",
     "output_type": "stream",
     "text": [
      "Beam\n",
      "Layer\n",
      "NominalEnergy: 150\n",
      "Spots ((x, y), MU): \n",
      "(array([0., 0.]), 1.0)\n"
     ]
    }
   ],
   "source": [
    "print(plan)"
   ]
  },
  {
   "cell_type": "code",
   "execution_count": 29,
   "metadata": {},
   "outputs": [
    {
     "name": "stdout",
     "output_type": "stream",
     "text": [
      "08/04/2025 11:47:22 AM - opentps.core.processing.doseCalculation.mcsquareDoseCalculator - INFO - Prepare MCsquare Dose calculation\n",
      "08/04/2025 11:47:22 AM - opentps.core.io.mhdIO - INFO - Write MHD file: C:\\Users\\gcyyy\\openTPS_workspace\\Simulations\\MCsquare_simulation\\CT.mhd\n",
      "08/04/2025 11:47:22 AM - opentps.core.io.mcsquareIO - INFO - Write plan: C:\\Users\\gcyyy\\openTPS_workspace\\Simulations\\MCsquare_simulation\\PlanPencil.txt\n",
      "08/04/2025 11:47:23 AM - opentps.core.processing.doseCalculation.mcsquareDoseCalculator - INFO - Start MCsquare simulation\n"
     ]
    }
   ],
   "source": [
    "mc2 = MCsquareDoseCalculator()\n",
    "mc2.beamModel = bdl\n",
    "mc2.ctCalibration = ctCalibration\n",
    "mc2.nbPrimaries = 1e6\n",
    "doseImage = mc2.computeDose(ct,plan)"
   ]
  },
  {
   "cell_type": "code",
   "execution_count": null,
   "metadata": {},
   "outputs": [
    {
     "ename": "",
     "evalue": "",
     "output_type": "error",
     "traceback": [
      "\u001b[1;31m无法执行代码，已释放会话。请尝试重新启动内核。"
     ]
    },
    {
     "ename": "",
     "evalue": "",
     "output_type": "error",
     "traceback": [
      "\u001b[1;31m无法执行代码，已释放会话。请尝试重新启动内核。. \n",
      "\u001b[1;31m有关更多详细信息，请查看 Jupyter <a href='command:jupyter.viewOutput'>log</a>。"
     ]
    }
   ],
   "source": [
    "from ipywidgets import interact, IntSlider\n",
    "import matplotlib.pyplot as plt\n",
    "import numpy as np\n",
    "def plot_Zslice(z_index):\n",
    "    if not (0 <= z_index < doseImage.imageArray.shape[2]):\n",
    "     raise ValueError(\"z_index 超出范围\")\n",
    "    #plt.clf()\n",
    "    plt.figure(figsize=(8, 6))\n",
    "    x_size=doseImage.imageArray.shape[0]\n",
    "    y_size=doseImage.imageArray.shape[1]\n",
    "    X=np.linspace(0,x_size-1,x_size)\n",
    "    Y=np.linspace(0,y_size-1,y_size)\n",
    "    X, Y = np.meshgrid(X, Y)\n",
    "    #plt.contourf(X, Y, doseImage[:,:,z_index], cmap='jet',levels=10,vmin=0,vmax=np.max(doseImage),alpha=0.6)\n",
    "    plt.imshow(ct.imageArray[:,:,z_index].transpose(1, 0), cmap='gray', interpolation='nearest', alpha=0.6)\n",
    "    plt.imshow(doseImage.imageArray[:,:,z_index].transpose(1, 0), cmap='jet', interpolation='nearest', alpha=0.6)\n",
    "    plt.colorbar()\n",
    "    #plt.imshow(contourTargetMask.imageArray[:,:,z_index].transpose(1, 0), cmap='binary', alpha=0.3)\n",
    "\n",
    "    plt.plot()\n",
    "    plt.show()   \n",
    "interact(plot_Zslice, z_index=IntSlider(min=0, max=doseImage.imageArray.shape[2]-1, step=1))     "
   ]
  },
  {
   "cell_type": "code",
   "execution_count": null,
   "metadata": {},
   "outputs": [],
   "source": []
  }
 ],
 "metadata": {
  "kernelspec": {
   "display_name": "OpenTPS_new",
   "language": "python",
   "name": "python3"
  },
  "language_info": {
   "codemirror_mode": {
    "name": "ipython",
    "version": 3
   },
   "file_extension": ".py",
   "mimetype": "text/x-python",
   "name": "python",
   "nbconvert_exporter": "python",
   "pygments_lexer": "ipython3",
   "version": "3.9.21"
  }
 },
 "nbformat": 4,
 "nbformat_minor": 2
}
