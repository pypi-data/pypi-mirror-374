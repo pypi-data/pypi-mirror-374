{
 "cells": [
  {
   "cell_type": "code",
   "execution_count": null,
   "metadata": {},
   "outputs": [
    {
     "name": "stdout",
     "output_type": "stream",
     "text": [
      "09/04/2025 02:40:33 PM - root - INFO - INFO: cannot recognize file format of E:\\OpenTPS\\opentps-master\\opentps_core\\opentps\\core\\examples\\planOptimization\\AOCHANGJIAN\\Thumbs.db\n",
      "09/04/2025 02:40:33 PM - root - INFO - INFO: cannot recognize file format of E:\\OpenTPS\\opentps-master\\opentps_core\\opentps\\core\\examples\\planOptimization\\AOCHANGJIAN\\Thumbs.db\n",
      "Image3D 98 x 117 x 113\n",
      "\n"
     ]
    }
   ],
   "source": [
    "import copy\n",
    "\n",
    "import numpy as np\n",
    "from matplotlib import pyplot as plt\n",
    "#Import the needed opentps.core packages\n",
    "import time\n",
    "import os\n",
    "import logging\n",
    "import math\n",
    "import numpy as np\n",
    "from matplotlib import pyplot as plt\n",
    "import sys\n",
    "from opentps.core.io.dicomIO import writeRTPlan\n",
    "from opentps.core.processing.planOptimization.tools import evaluateClinical\n",
    "from opentps.core.data.images import CTImage\n",
    "from opentps.core.data.images import ROIMask\n",
    "from opentps.core.data.plan import ObjectivesList\n",
    "from opentps.core.data.plan import PlanDesign\n",
    "from opentps.core.data import DVH\n",
    "from opentps.core.data import Patient\n",
    "from opentps.core.data.plan import FidObjective\n",
    "from opentps.core.io.scannerReader import readScanner\n",
    "from opentps.core.io.serializedObjectIO import saveRTPlan, loadRTPlan\n",
    "from opentps.core.processing.doseCalculation.doseCalculationConfig import DoseCalculationConfig\n",
    "from opentps.core.processing.doseCalculation.mcsquareDoseCalculator import MCsquareDoseCalculator\n",
    "from opentps.core.processing.imageProcessing.resampler3D import resampleImage3DOnImage3D, resampleImage3D\n",
    "from opentps.core.processing.C_libraries.libRayTracing_wrapper import WET_raytracing\n",
    "from opentps.core.processing.planOptimization.planOptimization import IMPTPlanOptimizer\n",
    "from opentps.core.data.plan import PlanDesign\n",
    "from opentps.core.data import DVH\n",
    "from opentps.core.io import mcsquareIO\n",
    "from opentps.core.io.mcsquareIO import _dicomIsocenterToMCsquare\n",
    "from opentps.core.io.scannerReader import readScanner\n",
    "from opentps.core.processing.doseCalculation.doseCalculationConfig import DoseCalculationConfig\n",
    "from opentps.core.processing.doseCalculation.mcsquareDoseCalculator import MCsquareDoseCalculator\n",
    "from opentps.core.io.dataLoader import readData\n",
    "from opentps.core.data.plan import ObjectivesList\n",
    "from opentps.core.data.plan import FidObjective\n",
    "from opentps.core.io.serializedObjectIO import saveBeamlets, saveRTPlan, loadBeamlets, loadRTPlan\n",
    "\n",
    "############################################### 0604 TG119 TEST ##############################################\n",
    "ctCalibration = readScanner(DoseCalculationConfig().scannerFolder)\n",
    "bdl = mcsquareIO.readBDL(DoseCalculationConfig().bdlFile)\n",
    "ctImagePath = \"E:\\OpenTPS\\opentps-master\\opentps_core\\opentps\\core\\examples\\planOptimization\\AOCHANGJIAN\"\n",
    "data = readData(ctImagePath)\n",
    "print(data[0])\n",
    "# RD RT RS CT\n",
    "# RD RD RD RD RD RP RS CT\n"
   ]
  },
  {
   "cell_type": "code",
   "execution_count": 3,
   "metadata": {},
   "outputs": [
    {
     "name": "stdout",
     "output_type": "stream",
     "text": [
      "[<opentps.core.data.images._doseImage.DoseImage object at 0x000001A90436EEE0>, <opentps.core.data.images._doseImage.DoseImage object at 0x000001A90527DEE0>, <opentps.core.data.images._doseImage.DoseImage object at 0x000001A905287EB0>, <opentps.core.data.images._doseImage.DoseImage object at 0x000001A90528FE80>, <opentps.core.data.images._doseImage.DoseImage object at 0x000001A905299E50>, <opentps.core.data.images._doseImage.DoseImage object at 0x000001A9052A2E20>, <opentps.core.data.plan._rtPlan.RTPlan object at 0x000001A90528A0D0>, <opentps.core.data._rtStruct.RTStruct object at 0x000001A904409F10>, <opentps.core.data.images._ctImage.CTImage object at 0x000001A905CD34F0>]\n"
     ]
    }
   ],
   "source": [
    "print(data)"
   ]
  },
  {
   "cell_type": "code",
   "execution_count": 4,
   "metadata": {},
   "outputs": [
    {
     "name": "stdout",
     "output_type": "stream",
     "text": [
      "\n",
      "RT Struct UID: 1.2.752.243.1.1.20240805160157479.8700.15173.1\n",
      "  [0]  GTV\n",
      "  [1]  Lens_L\n",
      "  [2]  Lens_R\n",
      "  [3]  Temporal_Lobe_L\n",
      "  [4]  Temporal_Lobe_R\n",
      "  [5]  Brain_Stem\n",
      "  [6]  Brain_Stem_PRV\n",
      "  [7]  PTV\n",
      "  [8]  Lens_L_PRV\n",
      "  [9]  Lens_R_PRV\n",
      "  [10]  Lens_all_PRV\n",
      "  [11]  BODY\n",
      "  [12]  NTPTV\n",
      "  [13]  External\n",
      "  [14]  PTV_plan\n",
      "  [15]  Ring1PTV\n",
      "  [16]  Ring2PTV\n",
      "  [17]  Ring3PTV\n",
      "  [18]  Ring4PTV\n",
      "  [19]  Fan\n",
      "  [20]  MID\n",
      "  [21]  3000\n",
      "  [22]  3001\n",
      "  [23]  5700\n",
      "  [24]  30\n",
      "  [25]  Brain\n",
      "  [26]  brian-PTV\n",
      "  [27]  60\n",
      "  [28]  30-3pr\n",
      "  [29]  60-3pr\n",
      "  [30]  30_3Robust\n",
      "  [31]  60_3Robust\n",
      "  [32]  30_5Robust\n",
      "  [33]  60_5Robust\n",
      "  [34]  locref\n",
      "  [35]  iso\n",
      "CT spacing= [0.976563 0.976563 1.      ]\n",
      "CT grid size [512 512 222]\n"
     ]
    }
   ],
   "source": [
    "plan=data[-3]\n",
    "rt_struct = data[-2]\n",
    "ct = data[-1]\n",
    "rt_struct.print_ROINames()\n",
    "print(\"CT spacing=\",ct.spacing)\n",
    "print(\"CT grid size\",ct.gridSize)\n",
    "target_name = \"PTV\"\n"
   ]
  },
  {
   "cell_type": "code",
   "execution_count": null,
   "metadata": {},
   "outputs": [],
   "source": []
  },
  {
   "cell_type": "code",
   "execution_count": 5,
   "metadata": {},
   "outputs": [
    {
     "name": "stdout",
     "output_type": "stream",
     "text": [
      "09/04/2025 02:40:36 PM - opentps.core.processing.doseCalculation.mcsquareDoseCalculator - INFO - Prepare MCsquare Dose calculation\n",
      "09/04/2025 02:40:36 PM - opentps.core.io.mhdIO - INFO - Write MHD file: C:\\Users\\gcyyy\\openTPS_workspace\\Simulations\\MCsquare_simulation\\CT.mhd\n",
      "09/04/2025 02:40:36 PM - opentps.core.io.mcsquareIO - INFO - Write plan: C:\\Users\\gcyyy\\openTPS_workspace\\Simulations\\MCsquare_simulation\\PlanPencil.txt\n",
      "09/04/2025 02:40:37 PM - opentps.core.processing.doseCalculation.mcsquareDoseCalculator - INFO - Start MCsquare simulation\n"
     ]
    }
   ],
   "source": [
    "#MCsquare simulation\n",
    "mc2 = MCsquareDoseCalculator()\n",
    "mc2.beamModel = bdl\n",
    "mc2.ctCalibration = ctCalibration\n",
    "mc2.nbPrimaries = 1e7\n",
    "doseImage = mc2.computeDose(ct, plan)"
   ]
  },
  {
   "cell_type": "code",
   "execution_count": 6,
   "metadata": {},
   "outputs": [
    {
     "data": {
      "application/vnd.jupyter.widget-view+json": {
       "model_id": "711e9fd63505447393e1176c0c3c6426",
       "version_major": 2,
       "version_minor": 0
      },
      "text/plain": [
       "interactive(children=(IntSlider(value=0, description='z_index', max=221), Output()), _dom_classes=('widget-int…"
      ]
     },
     "metadata": {},
     "output_type": "display_data"
    },
    {
     "data": {
      "text/plain": [
       "<function __main__.plot_Zslice(z_index)>"
      ]
     },
     "execution_count": 6,
     "metadata": {},
     "output_type": "execute_result"
    }
   ],
   "source": [
    "from ipywidgets import interact, IntSlider\n",
    "import matplotlib.pyplot as plt\n",
    "import numpy as np\n",
    "def plot_Zslice(z_index):\n",
    "    #plt.clf()\n",
    "    plt.figure(figsize=(8, 6))\n",
    "    x_size=doseImage.imageArray.shape[0]\n",
    "    y_size=doseImage.imageArray.shape[1]\n",
    "    X=np.linspace(0,x_size-1,x_size)\n",
    "    Y=np.linspace(0,y_size-1,y_size)\n",
    "    X, Y = np.meshgrid(X, Y)\n",
    "    #plt.contourf(X, Y, covered_count[:,:,z_index], cmap='jet',levels=10,vmin=0,vmax=np.max(covered_count),alpha=0.6)\n",
    "    plt.imshow(doseImage.imageArray[:,:,z_index].transpose(1,0), cmap='jet', interpolation='nearest', alpha=0.6)\n",
    "    plt.colorbar()\n",
    "    #绘制边界\n",
    "    #plt.contour(X, Y, expanded_image[:,:,z_index], colors='k',linewidths=2,levels=[0.5])\n",
    "    plt.plot()\n",
    "    plt.show()   \n",
    "interact(plot_Zslice, z_index=IntSlider(min=0, max=doseImage.imageArray.shape[2]-1, step=1))     "
   ]
  },
  {
   "cell_type": "code",
   "execution_count": null,
   "metadata": {},
   "outputs": [
    {
     "name": "stdout",
     "output_type": "stream",
     "text": [
      "09/04/2025 02:45:43 PM - opentps.core.io.dicomIO - INFO - Export dicom RTDOSE: RD1.2.826.0.1.3680043.8.498.13788487360005424824957731664625185789.dcm in e:\\opentps-v1.1.1\\opentps_core\\opentps\\core\\examples\\planOptimization\n"
     ]
    },
    {
     "name": "stderr",
     "output_type": "stream",
     "text": [
      "d:\\Anaconda\\envs\\OpenTPS_new\\lib\\site-packages\\pydicom\\dataset.py:2231: UserWarning: Camel case attribute 'SoftwareVersion' used which is not in the element keyword data dictionary\n",
      "  warnings.warn(msg)\n",
      "d:\\Anaconda\\envs\\OpenTPS_new\\lib\\site-packages\\pydicom\\dataset.py:2231: UserWarning: Camel case attribute 'OperatorName' used which is not in the element keyword data dictionary\n",
      "  warnings.warn(msg)\n",
      "d:\\Anaconda\\envs\\OpenTPS_new\\lib\\site-packages\\pydicom\\dataset.py:2231: UserWarning: Camel case attribute 'Width' used which is not in the element keyword data dictionary\n",
      "  warnings.warn(msg)\n",
      "d:\\Anaconda\\envs\\OpenTPS_new\\lib\\site-packages\\pydicom\\valuerep.py:443: UserWarning: A value of type 'int32' cannot be assigned to a tag with VR US.\n",
      "  warnings.warn(msg)\n",
      "d:\\Anaconda\\envs\\OpenTPS_new\\lib\\site-packages\\pydicom\\dataset.py:2231: UserWarning: Camel case attribute 'Height' used which is not in the element keyword data dictionary\n",
      "  warnings.warn(msg)\n",
      "d:\\Anaconda\\envs\\OpenTPS_new\\lib\\site-packages\\pydicom\\dataset.py:2231: UserWarning: Camel case attribute 'ColorType' used which is not in the element keyword data dictionary\n",
      "  warnings.warn(msg)\n",
      "d:\\Anaconda\\envs\\OpenTPS_new\\lib\\site-packages\\pydicom\\dataset.py:2231: UserWarning: Camel case attribute 'BitDepth' used which is not in the element keyword data dictionary\n",
      "  warnings.warn(msg)\n"
     ]
    }
   ],
   "source": [
    "from opentps.core.io.dicomIO import writeRTDose\n",
    "output_folder = os.getcwd()\n",
    "writeRTDose(plan,output_folder,\"opentps_SFRT_250116.dcm\")\n",
    "\n",
    "# import pydicom\n",
    "# import datetime\n",
    "# # Don't delete it\n",
    "# # ++++Don't delete UIDs to build the simple study+++++++++++++++++++\n",
    "# studyInstanceUID = pydicom.uid.generate_uid()\n",
    "# doseSeriesInstanceUID = pydicom.uid.generate_uid()\n",
    "# planSeriesInstanceUID = pydicom.uid.generate_uid()\n",
    "# ctSeriesInstanceUID =  pydicom.uid.generate_uid()\n",
    "# frameOfReferenceUID = pydicom.uid.generate_uid()\n",
    "# # structSeriesInstanceUID = pydicom.uid.generate_uid()\n",
    "# dt = datetime.datetime.now()\n",
    "# # CT\n",
    "# patient = Patient()\n",
    "# patient.name = 'Simple_Patient'\n",
    "# Patient.id = 'Simple_Patient'\n",
    "# Patient.birthDate = dt.strftime('%Y%m%d')\n",
    "# patient.sex = \"\"\n",
    "\n",
    "# doseImage.referencePlan = plan\n",
    "# doseImage.referenceCT = ct\n",
    "# doseImage.patient = patient\n",
    "# doseImage.studyInstanceUID = studyInstanceUID\n",
    "# doseImage.frameOfReferenceUID = frameOfReferenceUID \n",
    "# doseImage.sopClassUID = '1.2.840.10008.5.1.4.1.1.481.2'\n",
    "# doseImage.mediaStorageSOPClassUID = '1.2.840.10008.5.1.4.1.1.481.2'\n",
    "# doseImage.sopInstanceUID = pydicom.uid.generate_uid()\n",
    "# doseImage.studyTime = dt.strftime('%H%M%S.%f')\n",
    "# doseImage.studyDate = dt.strftime('%Y%m%d')\n",
    "\n",
    "# writeRTDose(doseImage,output_folder)"
   ]
  }
 ],
 "metadata": {
  "kernelspec": {
   "display_name": "OpenTPS_new",
   "language": "python",
   "name": "python3"
  },
  "language_info": {
   "codemirror_mode": {
    "name": "ipython",
    "version": 3
   },
   "file_extension": ".py",
   "mimetype": "text/x-python",
   "name": "python",
   "nbconvert_exporter": "python",
   "pygments_lexer": "ipython3",
   "version": "3.9.21"
  }
 },
 "nbformat": 4,
 "nbformat_minor": 2
}
