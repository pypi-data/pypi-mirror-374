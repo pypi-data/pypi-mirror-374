{
 "cells": [
  {
   "cell_type": "markdown",
   "metadata": {},
   "source": [
    "## RT Plan and dose calculation\n",
    "#### author: Schyns Romain\n",
    "\n",
    "# NOT FINISHED YET"
   ]
  },
  {
   "cell_type": "code",
   "execution_count": 1,
   "metadata": {
    "ExecuteTime": {
     "end_time": "2023-08-08T12:14:16.811063100Z",
     "start_time": "2023-08-08T12:14:15.773661200Z"
    }
   },
   "outputs": [
    {
     "name": "stdout",
     "output_type": "stream",
     "text": [
      "08/08/2023 02:14:17 PM - root - INFO - Loading logging configuration: /home/romain/opentps/opentps_core/opentps/core/config/logger/logging_config.json\n",
      "08/08/2023 02:14:17 PM - opentps.core._loggingConfig - INFO - Log level set: INFO\n",
      "08/08/2023 02:14:17 PM - opentps.core.processing.imageProcessing.cupyImageProcessing - WARNING - Cannot import Cupy module\n",
      "08/08/2023 02:14:17 PM - opentps.core.processing.registration.registrationMorphons - WARNING - cupy not found.\n",
      "08/08/2023 02:14:17 PM - opentps.core.processing.C_libraries.libInterp3_wrapper - WARNING - cupy not found.\n"
     ]
    }
   ],
   "source": [
    "import os\n",
    "import matplotlib.pyplot as plt\n",
    "from opentps.core.data.plan._rtPlan import RTPlan\n",
    "from opentps.core.io.scannerReader import readScanner\n",
    "from opentps.core.io.serializedObjectIO import loadRTPlan, saveRTPlan\n",
    "from opentps.core.io.dicomIO import readDicomPlan\n",
    "from opentps.core.io.dataLoader import readData\n",
    "from opentps.core.data.CTCalibrations.MCsquareCalibration._mcsquareCTCalibration import MCsquareCTCalibration\n",
    "from opentps.core.io import mcsquareIO\n",
    "from opentps.core.data._dvh import DVH\n",
    "from opentps.core.processing.doseCalculation.doseCalculationConfig import DoseCalculationConfig\n",
    "from opentps.core.processing.doseCalculation.mcsquareDoseCalculator import MCsquareDoseCalculator\n",
    "from opentps.core.io.mhdIO import exportImageMHD, importImageMHD\n",
    "from opentps.core.data.plan._planIonBeam import PlanIonBeam\n",
    "from opentps.core.data.plan._planIonLayer import PlanIonLayer\n",
    "from opentps.core.data.images._ctImage import CTImage\n",
    "from opentps.core.data._rtStruct import RTStruct"
   ]
  },
  {
   "cell_type": "markdown",
   "metadata": {},
   "source": [
    "### Create plan from scratch"
   ]
  },
  {
   "cell_type": "code",
   "execution_count": 2,
   "metadata": {
    "ExecuteTime": {
     "end_time": "2023-08-08T12:14:16.822819200Z",
     "start_time": "2023-08-08T12:14:16.818585600Z"
    }
   },
   "outputs": [],
   "source": [
    "plan = RTPlan()\n",
    "plan.appendBeam(PlanIonBeam())\n",
    "plan.appendBeam(PlanIonBeam())\n",
    "plan.beams[1].gantryAngle = 120.\n",
    "plan.beams[0].appendLayer(PlanIonLayer(100))\n",
    "plan.beams[0].appendLayer(PlanIonLayer(90))\n",
    "plan.beams[1].appendLayer(PlanIonLayer(80))\n",
    "plan[0].layers[0].appendSpot([-1,0,1], [1,2,3], [0.1,0.2,0.3])\n",
    "plan[0].layers[1].appendSpot([0,1], [2,3], [0.2,0.3])\n",
    "plan[1].layers[0].appendSpot(1, 1, 0.5)\n",
    "# Save plan\n",
    "saveRTPlan(plan,'test_plan.tps')"
   ]
  },
  {
   "cell_type": "markdown",
   "metadata": {},
   "source": [
    "Load plan in OpenTPS format (serialized)"
   ]
  },
  {
   "cell_type": "code",
   "execution_count": 3,
   "metadata": {
    "ExecuteTime": {
     "end_time": "2023-08-08T12:14:18.170369800Z",
     "start_time": "2023-08-08T12:14:16.823825400Z"
    }
   },
   "outputs": [
    {
     "name": "stdout",
     "output_type": "stream",
     "text": [
      "[0.2 0.3]\n",
      "[0.2 0.3]\n",
      "RS_ID = RS40\n",
      "RS_type = binary\n",
      "RS_density = 1.0\n",
      "RS_WET = 40.0\n"
     ]
    }
   ],
   "source": [
    "plan2 = loadRTPlan('test_plan.tps')\n",
    "print(plan2[0].layers[1].spotWeights)\n",
    "print(plan[0].layers[1].spotWeights)\n",
    "plan_path = r\"/home/romain/dataset_testing/ANON104_HAN_ORO/RP1.2.752.243.1.1.20201215163404059.2000.47734.dcm\"\n",
    "plan3 = readDicomPlan(plan_path)\n",
    "\n",
    "print(plan3.beams[0].rangeShifter)"
   ]
  },
  {
   "cell_type": "markdown",
   "metadata": {},
   "source": [
    "### Dose computation from plan\n",
    "\n",
    "choosing default scanner and BDL"
   ]
  },
  {
   "cell_type": "code",
   "execution_count": 4,
   "metadata": {
    "ExecuteTime": {
     "end_time": "2023-08-08T12:14:26.194703600Z",
     "start_time": "2023-08-08T12:14:18.162547800Z"
    }
   },
   "outputs": [
    {
     "name": "stdout",
     "output_type": "stream",
     "text": [
      "/home/romain/dataset_testing/ANON104_HAN_ORO/CT1.2.826.0.1.3680043.2.135.736991.38856790.7.1596614875.808.5.dcm\n",
      "/home/romain/dataset_testing\n",
      "/home/romain/dataset_testing/ANON104_HAN_ORO/CT1.2.826.0.1.3680043.2.135.736991.38856790.7.1596614876.104.25.dcm\n",
      "/home/romain/dataset_testing\n",
      "/home/romain/dataset_testing/ANON104_HAN_ORO/CT1.2.826.0.1.3680043.2.135.736991.38856790.7.1596614876.104.26.dcm\n",
      "/home/romain/dataset_testing\n",
      "/home/romain/dataset_testing/ANON104_HAN_ORO/CT1.2.826.0.1.3680043.2.135.736991.38856790.7.1596614876.11.14.dcm\n",
      "/home/romain/dataset_testing\n",
      "/home/romain/dataset_testing/ANON104_HAN_ORO/CT1.2.826.0.1.3680043.2.135.736991.38856790.7.1596614876.11.15.dcm\n",
      "/home/romain/dataset_testing\n",
      "/home/romain/dataset_testing/ANON104_HAN_ORO/CT1.2.826.0.1.3680043.2.135.736991.38856790.7.1596614876.120.27.dcm\n",
      "/home/romain/dataset_testing\n",
      "/home/romain/dataset_testing/ANON104_HAN_ORO/CT1.2.826.0.1.3680043.2.135.736991.38856790.7.1596614876.136.28.dcm\n",
      "/home/romain/dataset_testing\n",
      "/home/romain/dataset_testing/ANON104_HAN_ORO/CT1.2.826.0.1.3680043.2.135.736991.38856790.7.1596614876.136.29.dcm\n",
      "/home/romain/dataset_testing\n",
      "/home/romain/dataset_testing/ANON104_HAN_ORO/CT1.2.826.0.1.3680043.2.135.736991.38856790.7.1596614876.151.30.dcm\n",
      "/home/romain/dataset_testing\n",
      "/home/romain/dataset_testing/ANON104_HAN_ORO/CT1.2.826.0.1.3680043.2.135.736991.38856790.7.1596614876.151.31.dcm\n",
      "/home/romain/dataset_testing\n",
      "/home/romain/dataset_testing/ANON104_HAN_ORO/CT1.2.826.0.1.3680043.2.135.736991.38856790.7.1596614876.167.32.dcm\n",
      "/home/romain/dataset_testing\n",
      "/home/romain/dataset_testing/ANON104_HAN_ORO/CT1.2.826.0.1.3680043.2.135.736991.38856790.7.1596614876.182.33.dcm\n",
      "/home/romain/dataset_testing\n",
      "/home/romain/dataset_testing/ANON104_HAN_ORO/CT1.2.826.0.1.3680043.2.135.736991.38856790.7.1596614876.182.34.dcm\n",
      "/home/romain/dataset_testing\n",
      "/home/romain/dataset_testing/ANON104_HAN_ORO/CT1.2.826.0.1.3680043.2.135.736991.38856790.7.1596614876.198.35.dcm\n",
      "/home/romain/dataset_testing\n",
      "/home/romain/dataset_testing/ANON104_HAN_ORO/CT1.2.826.0.1.3680043.2.135.736991.38856790.7.1596614876.198.36.dcm\n",
      "/home/romain/dataset_testing\n",
      "/home/romain/dataset_testing/ANON104_HAN_ORO/CT1.2.826.0.1.3680043.2.135.736991.38856790.7.1596614876.214.37.dcm\n",
      "/home/romain/dataset_testing\n",
      "/home/romain/dataset_testing/ANON104_HAN_ORO/CT1.2.826.0.1.3680043.2.135.736991.38856790.7.1596614876.229.38.dcm\n",
      "/home/romain/dataset_testing\n",
      "/home/romain/dataset_testing/ANON104_HAN_ORO/CT1.2.826.0.1.3680043.2.135.736991.38856790.7.1596614876.229.39.dcm\n",
      "/home/romain/dataset_testing\n",
      "/home/romain/dataset_testing/ANON104_HAN_ORO/CT1.2.826.0.1.3680043.2.135.736991.38856790.7.1596614876.245.40.dcm\n",
      "/home/romain/dataset_testing\n",
      "/home/romain/dataset_testing/ANON104_HAN_ORO/CT1.2.826.0.1.3680043.2.135.736991.38856790.7.1596614876.26.16.dcm\n",
      "/home/romain/dataset_testing\n",
      "/home/romain/dataset_testing/ANON104_HAN_ORO/CT1.2.826.0.1.3680043.2.135.736991.38856790.7.1596614876.26.17.dcm\n",
      "/home/romain/dataset_testing\n",
      "/home/romain/dataset_testing/ANON104_HAN_ORO/CT1.2.826.0.1.3680043.2.135.736991.38856790.7.1596614876.260.41.dcm\n",
      "/home/romain/dataset_testing\n",
      "/home/romain/dataset_testing/ANON104_HAN_ORO/CT1.2.826.0.1.3680043.2.135.736991.38856790.7.1596614876.260.42.dcm\n",
      "/home/romain/dataset_testing\n",
      "/home/romain/dataset_testing/ANON104_HAN_ORO/CT1.2.826.0.1.3680043.2.135.736991.38856790.7.1596614876.276.43.dcm\n",
      "/home/romain/dataset_testing\n",
      "/home/romain/dataset_testing/ANON104_HAN_ORO/CT1.2.826.0.1.3680043.2.135.736991.38856790.7.1596614876.276.44.dcm\n",
      "/home/romain/dataset_testing\n",
      "/home/romain/dataset_testing/ANON104_HAN_ORO/CT1.2.826.0.1.3680043.2.135.736991.38856790.7.1596614876.292.45.dcm\n",
      "/home/romain/dataset_testing\n",
      "/home/romain/dataset_testing/ANON104_HAN_ORO/CT1.2.826.0.1.3680043.2.135.736991.38856790.7.1596614876.307.46.dcm\n",
      "/home/romain/dataset_testing\n",
      "/home/romain/dataset_testing/ANON104_HAN_ORO/CT1.2.826.0.1.3680043.2.135.736991.38856790.7.1596614876.307.47.dcm\n",
      "/home/romain/dataset_testing\n",
      "/home/romain/dataset_testing/ANON104_HAN_ORO/CT1.2.826.0.1.3680043.2.135.736991.38856790.7.1596614876.323.48.dcm\n",
      "/home/romain/dataset_testing\n",
      "/home/romain/dataset_testing/ANON104_HAN_ORO/CT1.2.826.0.1.3680043.2.135.736991.38856790.7.1596614876.323.49.dcm\n",
      "/home/romain/dataset_testing\n",
      "/home/romain/dataset_testing/ANON104_HAN_ORO/CT1.2.826.0.1.3680043.2.135.736991.38856790.7.1596614876.338.50.dcm\n",
      "/home/romain/dataset_testing\n",
      "/home/romain/dataset_testing/ANON104_HAN_ORO/CT1.2.826.0.1.3680043.2.135.736991.38856790.7.1596614876.338.51.dcm\n",
      "/home/romain/dataset_testing\n",
      "/home/romain/dataset_testing/ANON104_HAN_ORO/CT1.2.826.0.1.3680043.2.135.736991.38856790.7.1596614876.354.52.dcm\n",
      "/home/romain/dataset_testing\n",
      "/home/romain/dataset_testing/ANON104_HAN_ORO/CT1.2.826.0.1.3680043.2.135.736991.38856790.7.1596614876.370.53.dcm\n",
      "/home/romain/dataset_testing\n",
      "/home/romain/dataset_testing/ANON104_HAN_ORO/CT1.2.826.0.1.3680043.2.135.736991.38856790.7.1596614876.370.54.dcm\n",
      "/home/romain/dataset_testing\n",
      "/home/romain/dataset_testing/ANON104_HAN_ORO/CT1.2.826.0.1.3680043.2.135.736991.38856790.7.1596614876.385.55.dcm\n",
      "/home/romain/dataset_testing\n",
      "/home/romain/dataset_testing/ANON104_HAN_ORO/CT1.2.826.0.1.3680043.2.135.736991.38856790.7.1596614876.385.56.dcm\n",
      "/home/romain/dataset_testing\n",
      "/home/romain/dataset_testing/ANON104_HAN_ORO/CT1.2.826.0.1.3680043.2.135.736991.38856790.7.1596614876.401.57.dcm\n",
      "/home/romain/dataset_testing\n",
      "/home/romain/dataset_testing/ANON104_HAN_ORO/CT1.2.826.0.1.3680043.2.135.736991.38856790.7.1596614876.401.58.dcm\n",
      "/home/romain/dataset_testing\n",
      "/home/romain/dataset_testing/ANON104_HAN_ORO/CT1.2.826.0.1.3680043.2.135.736991.38856790.7.1596614876.416.59.dcm\n",
      "/home/romain/dataset_testing\n",
      "/home/romain/dataset_testing/ANON104_HAN_ORO/CT1.2.826.0.1.3680043.2.135.736991.38856790.7.1596614876.42.18.dcm\n",
      "/home/romain/dataset_testing\n",
      "/home/romain/dataset_testing/ANON104_HAN_ORO/CT1.2.826.0.1.3680043.2.135.736991.38856790.7.1596614876.432.60.dcm\n",
      "/home/romain/dataset_testing\n",
      "/home/romain/dataset_testing/ANON104_HAN_ORO/CT1.2.826.0.1.3680043.2.135.736991.38856790.7.1596614876.432.61.dcm\n",
      "/home/romain/dataset_testing\n",
      "/home/romain/dataset_testing/ANON104_HAN_ORO/CT1.2.826.0.1.3680043.2.135.736991.38856790.7.1596614876.448.62.dcm\n",
      "/home/romain/dataset_testing\n",
      "/home/romain/dataset_testing/ANON104_HAN_ORO/CT1.2.826.0.1.3680043.2.135.736991.38856790.7.1596614876.448.63.dcm\n",
      "/home/romain/dataset_testing\n",
      "/home/romain/dataset_testing/ANON104_HAN_ORO/CT1.2.826.0.1.3680043.2.135.736991.38856790.7.1596614876.463.64.dcm\n",
      "/home/romain/dataset_testing\n",
      "/home/romain/dataset_testing/ANON104_HAN_ORO/CT1.2.826.0.1.3680043.2.135.736991.38856790.7.1596614876.463.65.dcm\n",
      "/home/romain/dataset_testing\n",
      "/home/romain/dataset_testing/ANON104_HAN_ORO/CT1.2.826.0.1.3680043.2.135.736991.38856790.7.1596614876.479.66.dcm\n",
      "/home/romain/dataset_testing\n",
      "/home/romain/dataset_testing/ANON104_HAN_ORO/CT1.2.826.0.1.3680043.2.135.736991.38856790.7.1596614876.479.67.dcm\n",
      "/home/romain/dataset_testing\n",
      "/home/romain/dataset_testing/ANON104_HAN_ORO/CT1.2.826.0.1.3680043.2.135.736991.38856790.7.1596614876.494.68.dcm\n",
      "/home/romain/dataset_testing\n",
      "/home/romain/dataset_testing/ANON104_HAN_ORO/CT1.2.826.0.1.3680043.2.135.736991.38856790.7.1596614876.510.69.dcm\n",
      "/home/romain/dataset_testing\n",
      "/home/romain/dataset_testing/ANON104_HAN_ORO/CT1.2.826.0.1.3680043.2.135.736991.38856790.7.1596614876.510.70.dcm\n",
      "/home/romain/dataset_testing\n",
      "/home/romain/dataset_testing/ANON104_HAN_ORO/CT1.2.826.0.1.3680043.2.135.736991.38856790.7.1596614876.526.71.dcm\n",
      "/home/romain/dataset_testing\n",
      "/home/romain/dataset_testing/ANON104_HAN_ORO/CT1.2.826.0.1.3680043.2.135.736991.38856790.7.1596614876.526.72.dcm\n",
      "/home/romain/dataset_testing\n",
      "/home/romain/dataset_testing/ANON104_HAN_ORO/CT1.2.826.0.1.3680043.2.135.736991.38856790.7.1596614876.541.73.dcm\n",
      "/home/romain/dataset_testing\n",
      "/home/romain/dataset_testing/ANON104_HAN_ORO/CT1.2.826.0.1.3680043.2.135.736991.38856790.7.1596614876.541.74.dcm\n",
      "/home/romain/dataset_testing\n",
      "/home/romain/dataset_testing/ANON104_HAN_ORO/CT1.2.826.0.1.3680043.2.135.736991.38856790.7.1596614876.557.75.dcm\n",
      "/home/romain/dataset_testing\n",
      "/home/romain/dataset_testing/ANON104_HAN_ORO/CT1.2.826.0.1.3680043.2.135.736991.38856790.7.1596614876.557.76.dcm\n",
      "/home/romain/dataset_testing\n",
      "/home/romain/dataset_testing/ANON104_HAN_ORO/CT1.2.826.0.1.3680043.2.135.736991.38856790.7.1596614876.572.77.dcm\n",
      "/home/romain/dataset_testing\n",
      "/home/romain/dataset_testing/ANON104_HAN_ORO/CT1.2.826.0.1.3680043.2.135.736991.38856790.7.1596614876.58.19.dcm\n",
      "/home/romain/dataset_testing\n",
      "/home/romain/dataset_testing/ANON104_HAN_ORO/CT1.2.826.0.1.3680043.2.135.736991.38856790.7.1596614876.58.20.dcm\n",
      "/home/romain/dataset_testing\n",
      "/home/romain/dataset_testing/ANON104_HAN_ORO/CT1.2.826.0.1.3680043.2.135.736991.38856790.7.1596614876.588.78.dcm\n",
      "/home/romain/dataset_testing\n",
      "/home/romain/dataset_testing/ANON104_HAN_ORO/CT1.2.826.0.1.3680043.2.135.736991.38856790.7.1596614876.588.79.dcm\n",
      "/home/romain/dataset_testing\n",
      "/home/romain/dataset_testing/ANON104_HAN_ORO/CT1.2.826.0.1.3680043.2.135.736991.38856790.7.1596614876.604.80.dcm\n",
      "/home/romain/dataset_testing\n",
      "/home/romain/dataset_testing/ANON104_HAN_ORO/CT1.2.826.0.1.3680043.2.135.736991.38856790.7.1596614876.619.81.dcm\n",
      "/home/romain/dataset_testing\n",
      "/home/romain/dataset_testing/ANON104_HAN_ORO/CT1.2.826.0.1.3680043.2.135.736991.38856790.7.1596614876.619.82.dcm\n",
      "/home/romain/dataset_testing\n",
      "/home/romain/dataset_testing/ANON104_HAN_ORO/CT1.2.826.0.1.3680043.2.135.736991.38856790.7.1596614876.635.83.dcm\n",
      "/home/romain/dataset_testing\n",
      "/home/romain/dataset_testing/ANON104_HAN_ORO/CT1.2.826.0.1.3680043.2.135.736991.38856790.7.1596614876.635.84.dcm\n",
      "/home/romain/dataset_testing\n",
      "/home/romain/dataset_testing/ANON104_HAN_ORO/CT1.2.826.0.1.3680043.2.135.736991.38856790.7.1596614876.650.85.dcm\n",
      "/home/romain/dataset_testing\n",
      "/home/romain/dataset_testing/ANON104_HAN_ORO/CT1.2.826.0.1.3680043.2.135.736991.38856790.7.1596614876.650.86.dcm\n",
      "/home/romain/dataset_testing\n",
      "/home/romain/dataset_testing/ANON104_HAN_ORO/CT1.2.826.0.1.3680043.2.135.736991.38856790.7.1596614876.666.87.dcm\n",
      "/home/romain/dataset_testing\n",
      "/home/romain/dataset_testing/ANON104_HAN_ORO/CT1.2.826.0.1.3680043.2.135.736991.38856790.7.1596614876.666.88.dcm\n",
      "/home/romain/dataset_testing\n",
      "/home/romain/dataset_testing/ANON104_HAN_ORO/CT1.2.826.0.1.3680043.2.135.736991.38856790.7.1596614876.682.89.dcm\n",
      "/home/romain/dataset_testing\n",
      "/home/romain/dataset_testing/ANON104_HAN_ORO/CT1.2.826.0.1.3680043.2.135.736991.38856790.7.1596614876.682.90.dcm\n",
      "/home/romain/dataset_testing\n",
      "/home/romain/dataset_testing/ANON104_HAN_ORO/CT1.2.826.0.1.3680043.2.135.736991.38856790.7.1596614876.697.91.dcm\n",
      "/home/romain/dataset_testing\n",
      "/home/romain/dataset_testing/ANON104_HAN_ORO/CT1.2.826.0.1.3680043.2.135.736991.38856790.7.1596614876.713.92.dcm\n",
      "/home/romain/dataset_testing\n",
      "/home/romain/dataset_testing/ANON104_HAN_ORO/CT1.2.826.0.1.3680043.2.135.736991.38856790.7.1596614876.713.93.dcm\n",
      "/home/romain/dataset_testing\n",
      "/home/romain/dataset_testing/ANON104_HAN_ORO/CT1.2.826.0.1.3680043.2.135.736991.38856790.7.1596614876.728.94.dcm\n",
      "/home/romain/dataset_testing\n",
      "/home/romain/dataset_testing/ANON104_HAN_ORO/CT1.2.826.0.1.3680043.2.135.736991.38856790.7.1596614876.728.95.dcm\n",
      "/home/romain/dataset_testing\n",
      "/home/romain/dataset_testing/ANON104_HAN_ORO/CT1.2.826.0.1.3680043.2.135.736991.38856790.7.1596614876.73.21.dcm\n",
      "/home/romain/dataset_testing\n",
      "/home/romain/dataset_testing/ANON104_HAN_ORO/CT1.2.826.0.1.3680043.2.135.736991.38856790.7.1596614876.73.22.dcm\n",
      "/home/romain/dataset_testing\n",
      "/home/romain/dataset_testing/ANON104_HAN_ORO/CT1.2.826.0.1.3680043.2.135.736991.38856790.7.1596614876.744.96.dcm\n",
      "/home/romain/dataset_testing\n",
      "/home/romain/dataset_testing/ANON104_HAN_ORO/CT1.2.826.0.1.3680043.2.135.736991.38856790.7.1596614876.760.97.dcm\n",
      "/home/romain/dataset_testing\n",
      "/home/romain/dataset_testing/ANON104_HAN_ORO/CT1.2.826.0.1.3680043.2.135.736991.38856790.7.1596614876.760.98.dcm\n",
      "/home/romain/dataset_testing\n",
      "/home/romain/dataset_testing/ANON104_HAN_ORO/CT1.2.826.0.1.3680043.2.135.736991.38856790.7.1596614876.775.0.dcm\n",
      "/home/romain/dataset_testing\n",
      "/home/romain/dataset_testing/ANON104_HAN_ORO/CT1.2.826.0.1.3680043.2.135.736991.38856790.7.1596614876.775.99.dcm\n",
      "/home/romain/dataset_testing\n",
      "/home/romain/dataset_testing/ANON104_HAN_ORO/CT1.2.826.0.1.3680043.2.135.736991.38856790.7.1596614876.791.1.dcm\n",
      "/home/romain/dataset_testing\n",
      "/home/romain/dataset_testing/ANON104_HAN_ORO/CT1.2.826.0.1.3680043.2.135.736991.38856790.7.1596614876.806.2.dcm\n",
      "/home/romain/dataset_testing\n",
      "/home/romain/dataset_testing/ANON104_HAN_ORO/CT1.2.826.0.1.3680043.2.135.736991.38856790.7.1596614876.806.3.dcm\n",
      "/home/romain/dataset_testing\n",
      "/home/romain/dataset_testing/ANON104_HAN_ORO/CT1.2.826.0.1.3680043.2.135.736991.38856790.7.1596614876.822.4.dcm\n",
      "/home/romain/dataset_testing\n",
      "/home/romain/dataset_testing/ANON104_HAN_ORO/CT1.2.826.0.1.3680043.2.135.736991.38856790.7.1596614876.822.5.dcm\n",
      "/home/romain/dataset_testing\n",
      "/home/romain/dataset_testing/ANON104_HAN_ORO/CT1.2.826.0.1.3680043.2.135.736991.38856790.7.1596614876.838.6.dcm\n",
      "/home/romain/dataset_testing\n",
      "/home/romain/dataset_testing/ANON104_HAN_ORO/CT1.2.826.0.1.3680043.2.135.736991.38856790.7.1596614876.853.7.dcm\n",
      "/home/romain/dataset_testing\n",
      "/home/romain/dataset_testing/ANON104_HAN_ORO/CT1.2.826.0.1.3680043.2.135.736991.38856790.7.1596614876.853.8.dcm\n",
      "/home/romain/dataset_testing\n",
      "/home/romain/dataset_testing/ANON104_HAN_ORO/CT1.2.826.0.1.3680043.2.135.736991.38856790.7.1596614876.869.9.dcm\n",
      "/home/romain/dataset_testing\n",
      "/home/romain/dataset_testing/ANON104_HAN_ORO/CT1.2.826.0.1.3680043.2.135.736991.38856790.7.1596614876.884.10.dcm\n",
      "/home/romain/dataset_testing\n",
      "/home/romain/dataset_testing/ANON104_HAN_ORO/CT1.2.826.0.1.3680043.2.135.736991.38856790.7.1596614876.884.11.dcm\n",
      "/home/romain/dataset_testing\n",
      "/home/romain/dataset_testing/ANON104_HAN_ORO/CT1.2.826.0.1.3680043.2.135.736991.38856790.7.1596614876.89.23.dcm\n",
      "/home/romain/dataset_testing\n",
      "/home/romain/dataset_testing/ANON104_HAN_ORO/CT1.2.826.0.1.3680043.2.135.736991.38856790.7.1596614876.89.24.dcm\n",
      "/home/romain/dataset_testing\n",
      "/home/romain/dataset_testing/ANON104_HAN_ORO/CT1.2.826.0.1.3680043.2.135.736991.38856790.7.1596614876.900.12.dcm\n",
      "/home/romain/dataset_testing\n",
      "/home/romain/dataset_testing/ANON104_HAN_ORO/CT1.2.826.0.1.3680043.2.135.736991.38856790.7.1596614876.900.13.dcm\n",
      "/home/romain/dataset_testing\n",
      "/home/romain/dataset_testing/ANON104_HAN_ORO/CT1.2.826.0.1.3680043.2.135.736991.38856790.7.1596614876.916.14.dcm\n",
      "/home/romain/dataset_testing\n",
      "/home/romain/dataset_testing/ANON104_HAN_ORO/CT1.2.826.0.1.3680043.2.135.736991.38856790.7.1596614876.980.11.dcm\n",
      "/home/romain/dataset_testing\n",
      "/home/romain/dataset_testing/ANON104_HAN_ORO/CT1.2.826.0.1.3680043.2.135.736991.38856790.7.1596614876.995.12.dcm\n",
      "/home/romain/dataset_testing\n",
      "/home/romain/dataset_testing/ANON104_HAN_ORO/CT1.2.826.0.1.3680043.2.135.736991.38856790.7.1596614876.995.13.dcm\n",
      "/home/romain/dataset_testing\n",
      "/home/romain/dataset_testing/ANON104_HAN_ORO/CT1.2.826.0.1.3680043.2.135.736991.38856790.7.1596614877.103.32.dcm\n",
      "/home/romain/dataset_testing\n",
      "/home/romain/dataset_testing/ANON104_HAN_ORO/CT1.2.826.0.1.3680043.2.135.736991.38856790.7.1596614877.103.33.dcm\n",
      "/home/romain/dataset_testing\n",
      "/home/romain/dataset_testing/ANON104_HAN_ORO/CT1.2.826.0.1.3680043.2.135.736991.38856790.7.1596614877.118.34.dcm\n",
      "/home/romain/dataset_testing\n",
      "/home/romain/dataset_testing/ANON104_HAN_ORO/CT1.2.826.0.1.3680043.2.135.736991.38856790.7.1596614877.118.35.dcm\n",
      "/home/romain/dataset_testing\n",
      "/home/romain/dataset_testing/ANON104_HAN_ORO/CT1.2.826.0.1.3680043.2.135.736991.38856790.7.1596614877.134.36.dcm\n",
      "/home/romain/dataset_testing\n",
      "/home/romain/dataset_testing/ANON104_HAN_ORO/CT1.2.826.0.1.3680043.2.135.736991.38856790.7.1596614877.150.37.dcm\n",
      "/home/romain/dataset_testing\n",
      "/home/romain/dataset_testing/ANON104_HAN_ORO/CT1.2.826.0.1.3680043.2.135.736991.38856790.7.1596614877.150.38.dcm\n",
      "/home/romain/dataset_testing\n",
      "/home/romain/dataset_testing/ANON104_HAN_ORO/CT1.2.826.0.1.3680043.2.135.736991.38856790.7.1596614877.165.39.dcm\n",
      "/home/romain/dataset_testing\n",
      "/home/romain/dataset_testing/ANON104_HAN_ORO/CT1.2.826.0.1.3680043.2.135.736991.38856790.7.1596614877.165.40.dcm\n",
      "/home/romain/dataset_testing\n",
      "/home/romain/dataset_testing/ANON104_HAN_ORO/CT1.2.826.0.1.3680043.2.135.736991.38856790.7.1596614877.181.41.dcm\n",
      "/home/romain/dataset_testing\n",
      "/home/romain/dataset_testing/ANON104_HAN_ORO/CT1.2.826.0.1.3680043.2.135.736991.38856790.7.1596614877.196.42.dcm\n",
      "/home/romain/dataset_testing\n",
      "/home/romain/dataset_testing/ANON104_HAN_ORO/CT1.2.826.0.1.3680043.2.135.736991.38856790.7.1596614877.196.43.dcm\n",
      "/home/romain/dataset_testing\n",
      "/home/romain/dataset_testing/ANON104_HAN_ORO/CT1.2.826.0.1.3680043.2.135.736991.38856790.7.1596614877.212.44.dcm\n",
      "/home/romain/dataset_testing\n",
      "/home/romain/dataset_testing/ANON104_HAN_ORO/CT1.2.826.0.1.3680043.2.135.736991.38856790.7.1596614877.25.24.dcm\n",
      "/home/romain/dataset_testing\n",
      "/home/romain/dataset_testing/ANON104_HAN_ORO/CT1.2.826.0.1.3680043.2.135.736991.38856790.7.1596614877.25.25.dcm\n",
      "/home/romain/dataset_testing\n",
      "/home/romain/dataset_testing/ANON104_HAN_ORO/CT1.2.826.0.1.3680043.2.135.736991.38856790.7.1596614877.40.26.dcm\n",
      "/home/romain/dataset_testing\n",
      "/home/romain/dataset_testing/ANON104_HAN_ORO/CT1.2.826.0.1.3680043.2.135.736991.38856790.7.1596614877.40.27.dcm\n",
      "/home/romain/dataset_testing\n",
      "/home/romain/dataset_testing/ANON104_HAN_ORO/CT1.2.826.0.1.3680043.2.135.736991.38856790.7.1596614877.56.28.dcm\n",
      "/home/romain/dataset_testing\n",
      "/home/romain/dataset_testing/ANON104_HAN_ORO/CT1.2.826.0.1.3680043.2.135.736991.38856790.7.1596614877.72.29.dcm\n",
      "/home/romain/dataset_testing\n",
      "/home/romain/dataset_testing/ANON104_HAN_ORO/CT1.2.826.0.1.3680043.2.135.736991.38856790.7.1596614877.72.30.dcm\n",
      "/home/romain/dataset_testing\n",
      "/home/romain/dataset_testing/ANON104_HAN_ORO/CT1.2.826.0.1.3680043.2.135.736991.38856790.7.1596614877.87.31.dcm\n",
      "/home/romain/dataset_testing\n",
      "/home/romain/dataset_testing/ANON104_HAN_ORO/CT1.2.826.0.1.3680043.2.135.736991.38856790.7.1596614877.9.23.dcm\n",
      "/home/romain/dataset_testing\n",
      "/home/romain/dataset_testing/ANON104_HAN_ORO/CT1.2.826.0.1.3680043.2.135.736991.38856790.7.1596614877.931.15.dcm\n",
      "/home/romain/dataset_testing\n",
      "/home/romain/dataset_testing/ANON104_HAN_ORO/CT1.2.826.0.1.3680043.2.135.736991.38856790.7.1596614877.931.16.dcm\n",
      "/home/romain/dataset_testing\n",
      "/home/romain/dataset_testing/ANON104_HAN_ORO/CT1.2.826.0.1.3680043.2.135.736991.38856790.7.1596614877.947.17.dcm\n",
      "/home/romain/dataset_testing\n",
      "/home/romain/dataset_testing/ANON104_HAN_ORO/CT1.2.826.0.1.3680043.2.135.736991.38856790.7.1596614877.962.18.dcm\n",
      "/home/romain/dataset_testing\n",
      "/home/romain/dataset_testing/ANON104_HAN_ORO/CT1.2.826.0.1.3680043.2.135.736991.38856790.7.1596614877.962.19.dcm\n",
      "/home/romain/dataset_testing\n",
      "/home/romain/dataset_testing/ANON104_HAN_ORO/CT1.2.826.0.1.3680043.2.135.736991.38856790.7.1596614877.978.20.dcm\n",
      "/home/romain/dataset_testing\n",
      "/home/romain/dataset_testing/ANON104_HAN_ORO/CT1.2.826.0.1.3680043.2.135.736991.38856790.7.1596614877.994.21.dcm\n",
      "/home/romain/dataset_testing\n",
      "/home/romain/dataset_testing/ANON104_HAN_ORO/CT1.2.826.0.1.3680043.2.135.736991.38856790.7.1596614877.994.22.dcm\n",
      "/home/romain/dataset_testing\n"
     ]
    }
   ],
   "source": [
    "doseCalculator = MCsquareDoseCalculator()\n",
    "doseCalculator.ctCalibration = readScanner(DoseCalculationConfig().scannerFolder)\n",
    "doseCalculator.beamModel = mcsquareIO.readBDL(DoseCalculationConfig().bdlFile)\n",
    "doseCalculator.nbPrimaries = 1e7\n",
    "ctImagePath = r'/home/romain/dataset_testing/ANON104_HAN_ORO'\n",
    "dataList = readData(ctImagePath, maxDepth=0)\n",
    "ct = [d for d in dataList if isinstance(d, CTImage)][0]\n",
    "struct = [d for d in dataList if isinstance(d, RTStruct)][0]"
   ]
  },
  {
   "cell_type": "markdown",
   "metadata": {},
   "source": [
    "If we want to crop the CT to the body contour (set everything else to -1024)"
   ]
  },
  {
   "cell_type": "code",
   "execution_count": 5,
   "metadata": {
    "ExecuteTime": {
     "end_time": "2023-08-08T12:14:26.204708800Z",
     "start_time": "2023-08-08T12:14:26.193611700Z"
    }
   },
   "outputs": [
    {
     "name": "stdout",
     "output_type": "stream",
     "text": [
      "\n",
      "RT Struct UID: 1.2.752.243.1.1.20201207111129661.2000.42135.1\n",
      "  [0]  BODY\n",
      "  [1]  SpinalCord\n",
      "  [2]  Brainstem\n",
      "  [3]  Parotid_R\n",
      "  [4]  Parotid_L\n",
      "  [5]  Mandible\n",
      "  [6]  GTV_N\n",
      "  [7]  CTVrn_70Gy\n",
      "  [8]  CTVln_54.25Gy\n",
      "  [9]  CTVrn_54.25Gy\n",
      "  [10]  GTVt\n",
      "  [11]  CTVt_70Gy\n",
      "  [12]  CTVt_54.25Gy\n",
      "  [13]  ConstrictorM\n",
      "  [14]  Esophagus\n",
      "  [15]  Trachea\n",
      "  [16]  Larynx\n",
      "  [17]  PRV_BS\n",
      "  [18]  PRV_SC\n",
      "  [19]  PTVnl_54.25Gy\n",
      "  [20]  PTVnr_54.25Gy\n",
      "  [21]  PTVnr_70Gy\n",
      "  [22]  PTVt_54.25Gy\n",
      "  [23]  PTVt_70Gy\n",
      "  [24]  tomo in 54.25\n",
      "  [25]  tomo out 54.25\n",
      "  [26]  tomo out 70\n",
      "  [27]  tomo in 70\n",
      "  [28]  skin L\n",
      "  [29]  skin R\n",
      "  [30]  CTVn_5425\n",
      "  [31]  CTVn_7000\n",
      "  [32]  CTVp_7000\n",
      "  [33]  SupraglotLarynx\n",
      "  [34]  GlotticArea\n",
      "  [35]  Esophagus_upper\n",
      "  [36]  PharConsInf\n",
      "  [37]  PharConsMid\n",
      "  [38]  PharConsSup\n",
      "  [39]  Submandibular_L\n",
      "  [40]  Submandibular_R\n",
      "  [41]  OralCavity\n",
      "  [42]  BoxDown\n",
      "  [43]  BoxLeft\n",
      "  [44]  CTV_7000\n",
      "  [45]  CTV_all\n",
      "  [46]  CTVnR_5425\n",
      "  [47]  CTVnL_5425\n",
      "  [48]  CTVnR_7000\n",
      "  [49]  CTVnL_5425_Up\n",
      "  [50]  CTVnL_5425_Down\n",
      "  [51]  CTVnR_5425_Up\n",
      "  [52]  CTVnR_5425_Down\n",
      "  [53]  CTVnR_7000_Up\n",
      "  [54]  CTVnR_7000_Down\n",
      "  [55]  CTVp_7000_Up\n",
      "  [56]  CTVnL_crop\n",
      "  [57]  CTVnR_crop\n",
      "  [58]  PTV_5425\n",
      "  [59]  PTV_7000\n",
      "  [60]  CTV_LPO\n",
      "  [61]  CTV_RPO\n",
      "  [62]  CTV_LAO\n",
      "  [63]  CTV_RAO\n",
      "  [64]  CTV_LAO_3Beams\n",
      "  [65]  CTV_7000_3cm\n",
      "  [66]  M1\n"
     ]
    }
   ],
   "source": [
    "contour_name = 'BODY'\n",
    "struct.print_ROINames()\n",
    "body_contour = struct.getContourByName(contour_name)\n",
    "doseCalculator.overwriteOutsideROI = body_contour"
   ]
  },
  {
   "cell_type": "markdown",
   "metadata": {},
   "source": [
    "MC square simulation and Dose exportation"
   ]
  },
  {
   "cell_type": "code",
   "execution_count": 6,
   "metadata": {
    "ExecuteTime": {
     "end_time": "2023-08-08T12:15:48.149107900Z",
     "start_time": "2023-08-08T12:14:26.200099900Z"
    }
   },
   "outputs": [
    {
     "name": "stdout",
     "output_type": "stream",
     "text": [
      "08/08/2023 02:14:27 PM - opentps.core.processing.doseCalculation.mcsquareDoseCalculator - INFO - Prepare MCsquare Dose calculation\n",
      "08/08/2023 02:14:27 PM - opentps.core.io.mcsquareIO - INFO - Cropping CT around BODY\n",
      "08/08/2023 02:14:28 PM - opentps.core.io.mhdIO - INFO - Write MHD file: /home/romain/openTPS_workspace/Simulations/MCsquare_simulation/CT.mhd\n",
      "08/08/2023 02:14:29 PM - opentps.core.io.mcsquareIO - INFO - Write plan: /home/romain/openTPS_workspace/Simulations/MCsquare_simulation/PlanPencil.txt\n",
      "08/08/2023 02:14:29 PM - opentps.core.processing.doseCalculation.mcsquareDoseCalculator - INFO - Start MCsquare simulation\n"
     ]
    },
    {
     "name": "stderr",
     "output_type": "stream",
     "text": [
      "MCsquare: 7: [: Linux: unexpected operator\n"
     ]
    },
    {
     "name": "stdout",
     "output_type": "stream",
     "text": [
      "\n",
      " Warning: Unknown tag \"Optimization_Mode\" in \"config.txt\"\n",
      "\n",
      "\n",
      "Initialization time: 0.735741 s \n",
      "\n",
      "\n",
      "Simulation started (2023-08-08 14:14:30) \n",
      " 10.0 % \n",
      " 20.0 % \n",
      " 30.0 % \n",
      " 40.0 % \n",
      " 50.0 % (stat uncertainty: 0.61 %) \n",
      " 60.0 % (stat uncertainty: 0.57 %) \n",
      " 70.0 % (stat uncertainty: 0.54 %) \n",
      " 80.0 % (stat uncertainty: 0.51 %) \n",
      " 90.0 % (stat uncertainty: 0.49 %) \n",
      " 100.0 % (stat uncertainty: 0.47 %) \n",
      "\n",
      "Nbr primaries simulated: 10000000 \n",
      "MC computation time: 77.978948 s \n",
      "Output computation time: 0.135290 s \n",
      "\n",
      "Total computation time: 78.875868 s \n",
      "08/08/2023 02:15:49 PM - opentps.core.io.mhdIO - INFO - Write MHD file: /home/romain/doseCal.mhd\n"
     ]
    }
   ],
   "source": [
    "doseImage = doseCalculator.computeDose(ct, plan)\n",
    "exportImageMHD(r'/home/romain/doseCal', doseImage)\n",
    "#doseImage = importImageMHD(r'/home/romain/doseCal.mhd')"
   ]
  },
  {
   "cell_type": "markdown",
   "metadata": {},
   "source": [
    "DVH"
   ]
  },
  {
   "cell_type": "code",
   "execution_count": 7,
   "metadata": {
    "ExecuteTime": {
     "end_time": "2023-08-08T12:15:54.701740600Z",
     "start_time": "2023-08-08T12:15:48.152253200Z"
    }
   },
   "outputs": [
    {
     "name": "stdout",
     "output_type": "stream",
     "text": [
      "(512, 512, 135)\n",
      "<opentps.core.data._roiContour.ROIContour object at 0x7ff5bdb69a90>\n",
      "D95 0\n",
      "D5 0\n",
      "Dmax 0.17457364\n",
      "Dmin 0.0\n"
     ]
    },
    {
     "data": {
      "text/plain": [
       "<matplotlib.image.AxesImage at 0x7ff5bcef2650>"
      ]
     },
     "execution_count": 7,
     "metadata": {},
     "output_type": "execute_result"
    },
    {
     "data": {
      "image/png": "[encoded data removed]",
      "text/plain": [
       "<Figure size 640x480 with 1 Axes>"
      ]
     },
     "metadata": {},
     "output_type": "display_data"
    }
   ],
   "source": [
    "target_names = 'OralCavity Mandible CTVt_54.25Gy CTV_all' # \n",
    "print(ct.imageArray.shape)\n",
    "target_contour = struct.make1ContourFromSeveral(target_names,ct)\n",
    "#arget_contour = struct.getContourByName(target_name)\n",
    "print(target_contour)\n",
    "dvh = DVH(target_contour, doseImage)\n",
    "print(\"D95\",dvh._D95)\n",
    "print(\"D5\",dvh._D5)\n",
    "print(\"Dmax\",dvh._Dmax)\n",
    "print(\"Dmin\",dvh._Dmin)\n",
    "sliceLoc = 65\n",
    "plt.imshow(ct.imageArray[:,:,sliceLoc],cmap='gray')\n",
    "plt.imshow(target_contour.getBinaryMask(origin= ct.origin,gridSize= ct.gridSize,spacing=ct.spacing).imageArray[:,:,sliceLoc],alpha =.4,cmap='Reds')\n",
    "plt.imshow(doseImage.imageArray[:,:,sliceLoc],alpha=0.5,cmap='jet' )"
   ]
  },
  {
   "cell_type": "code",
   "execution_count": 7,
   "metadata": {
    "ExecuteTime": {
     "end_time": "2023-08-08T12:15:54.702698400Z",
     "start_time": "2023-08-08T12:15:54.701740600Z"
    },
    "collapsed": false
   },
   "outputs": [],
   "source": []
  }
 ],
 "metadata": {
  "kernelspec": {
   "display_name": "OpenTPS",
   "language": "python",
   "name": "python3"
  },
  "language_info": {
   "codemirror_mode": {
    "name": "ipython",
    "version": 3
   },
   "file_extension": ".py",
   "mimetype": "text/x-python",
   "name": "python",
   "nbconvert_exporter": "python",
   "pygments_lexer": "ipython3",
   "version": "3.9.16"
  },
  "orig_nbformat": 4
 },
 "nbformat": 4,
 "nbformat_minor": 2
}
