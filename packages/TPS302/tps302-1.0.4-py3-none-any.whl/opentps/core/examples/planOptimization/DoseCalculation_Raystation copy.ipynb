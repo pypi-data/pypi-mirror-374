{
 "cells": [
  {
   "cell_type": "code",
   "execution_count": 1,
   "metadata": {},
   "outputs": [
    {
     "name": "stdout",
     "output_type": "stream",
     "text": [
      "24/07/2025 11:25:29 AM - root - INFO - Loading logging configuration: E:\\opentps-v1.1.1\\opentps_core\\opentps\\core\\config\\logger\\logging_config.json\n",
      "24/07/2025 11:25:29 AM - opentps.core._loggingConfig - INFO - Log level set: INFO\n"
     ]
    },
    {
     "name": "stderr",
     "output_type": "stream",
     "text": [
      "d:\\Anaconda\\envs\\OpenTPS_v1\\lib\\site-packages\\cupyx\\jit\\_interface.py:173: FutureWarning: cupyx.jit.rawkernel is experimental. The interface can change in the future.\n",
      "  cupy._util.experimental('cupyx.jit.rawkernel')\n"
     ]
    }
   ],
   "source": [
    "import copy\n",
    "\n",
    "import numpy as np\n",
    "from matplotlib import pyplot as plt\n",
    "#Import the needed opentps.core packages\n",
    "import time\n",
    "import os\n",
    "import logging\n",
    "import math\n",
    "import numpy as np\n",
    "from matplotlib import pyplot as plt\n",
    "import sys\n",
    "from opentps.core.io.dicomIO import writeRTPlan\n",
    "from opentps.core.processing.planOptimization.tools import evaluateClinical\n",
    "from opentps.core.data.images import CTImage\n",
    "from opentps.core.data.images import ROIMask\n",
    "from opentps.core.data.plan import ObjectivesList\n",
    "from opentps.core.data.plan import PlanDesign\n",
    "from opentps.core.data import DVH\n",
    "from opentps.core.data import Patient\n",
    "from opentps.core.data.plan import FidObjective\n",
    "from opentps.core.io.scannerReader import readScanner\n",
    "from opentps.core.io.serializedObjectIO import saveRTPlan, loadRTPlan\n",
    "from opentps.core.processing.doseCalculation.doseCalculationConfig import DoseCalculationConfig\n",
    "from opentps.core.processing.doseCalculation.mcsquareDoseCalculator import MCsquareDoseCalculator\n",
    "from opentps.core.processing.imageProcessing.resampler3D import resampleImage3DOnImage3D, resampleImage3D\n",
    "from opentps.core.processing.C_libraries.libRayTracing_wrapper import WET_raytracing\n",
    "from opentps.core.processing.planOptimization.planOptimization import IMPTPlanOptimizer\n",
    "from opentps.core.data.plan import PlanDesign\n",
    "from opentps.core.data import DVH\n",
    "from opentps.core.io import mcsquareIO\n",
    "from opentps.core.io.mcsquareIO import _dicomIsocenterToMCsquare\n",
    "from opentps.core.io.scannerReader import readScanner\n",
    "from opentps.core.processing.doseCalculation.doseCalculationConfig import DoseCalculationConfig\n",
    "from opentps.core.processing.doseCalculation.mcsquareDoseCalculator import MCsquareDoseCalculator\n",
    "from opentps.core.io.dataLoader import readData\n",
    "from opentps.core.data.plan import ObjectivesList\n",
    "from opentps.core.data.plan import FidObjective\n",
    "from opentps.core.io.serializedObjectIO import saveBeamlets, saveRTPlan, loadBeamlets, loadRTPlan\n",
    "\n",
    "############################################### 0604 TG119 TEST ##############################################\n",
    "\n",
    "ctImagePath = \"E:\\opentps-v1.1.1\\opentps_core\\opentps\\core\\examples\\planOptimization\\WaterBox_RStest\"\n",
    "data = readData(ctImagePath)\n",
    "#print(data[0])\n",
    "# RD RT RS CT\n",
    "# RD RD RD RD RD RP RS CT\n"
   ]
  },
  {
   "cell_type": "code",
   "execution_count": 7,
   "metadata": {},
   "outputs": [],
   "source": [
    "ctCalibration = readScanner(DoseCalculationConfig().scannerFolder)\n",
    "bdl = mcsquareIO.readBDL(\"E:\\opentps-v1.1.1\\opentps_core\\opentps\\core\\processing\\doseCalculation\\MCsquare\\BDL\\BDL_default_DN_RangeShifter.txt\")"
   ]
  },
  {
   "cell_type": "code",
   "execution_count": 13,
   "metadata": {},
   "outputs": [
    {
     "data": {
      "text/plain": [
       "array([512, 512, 483])"
      ]
     },
     "execution_count": 13,
     "metadata": {},
     "output_type": "execute_result"
    }
   ],
   "source": [
    "ct.gridSize"
   ]
  },
  {
   "cell_type": "code",
   "execution_count": 25,
   "metadata": {},
   "outputs": [
    {
     "name": "stdout",
     "output_type": "stream",
     "text": [
      "\n",
      "RT Struct UID: 1.2.246.352.221.5624734378809543997.6995646488669454524\n",
      "  [0]  zD-102%\n",
      "  [1]  CTV\n",
      "  [2]  R10M08FS20_NEW\n",
      "  [3]  Target_Line10cm\n",
      "  [4]  Target_line\n",
      "  [5]  R10M8FS20\n",
      "  [6]  R10M8FS10\n",
      "  [7]  FS10\n",
      "  [8]  R10M6FS10\n",
      "  [9]  R30M10FS10\n",
      "  [10]  R20M10FS10\n",
      "  [11]  R10M10FS10\n",
      "  [12]  BODY\n"
     ]
    }
   ],
   "source": [
    "data[0].print_ROINames()\n",
    "ct=data[1]\n",
    "body=data[0].getContourByName(\"BODY\")\n",
    "body_mask=body.getBinaryMask(gridSize=ct.gridSize, origin=ct.origin, spacing=ct.spacing)\n",
    "# body_mask_roi=body_mask.getBinaryContourMask()"
   ]
  },
  {
   "cell_type": "code",
   "execution_count": 29,
   "metadata": {},
   "outputs": [
    {
     "data": {
      "text/plain": [
       "(512, 512, 483)"
      ]
     },
     "execution_count": 29,
     "metadata": {},
     "output_type": "execute_result"
    }
   ],
   "source": [
    "body_mask.imageArray.shape"
   ]
  },
  {
   "cell_type": "code",
   "execution_count": null,
   "metadata": {},
   "outputs": [],
   "source": [
    "# body_mask_resampled = resampleImage3D(body_mask,spacing=(2.5,2.5,2.5))\n",
    "# body_mask_resampled.imageArray.shape\n",
    "# body_mask_resampled_transposed = np.transpose(body_mask_resampled.imageArray, (2, 1, 0))"
   ]
  },
  {
   "cell_type": "code",
   "execution_count": 28,
   "metadata": {},
   "outputs": [],
   "source": [
    "np.save(\"waterphatom_body_mask.npy\",body_mask.imageArray)"
   ]
  },
  {
   "cell_type": "code",
   "execution_count": 7,
   "metadata": {},
   "outputs": [
    {
     "name": "stdout",
     "output_type": "stream",
     "text": [
      "\n",
      "RT Struct UID: 1.2.246.352.221.5624734378809543997.6995646488669454524\n",
      "  [0]  zD-102%\n",
      "  [1]  CTV\n",
      "  [2]  R10M08FS20_NEW\n",
      "  [3]  Target_Line10cm\n",
      "  [4]  Target_line\n",
      "  [5]  R10M8FS20\n",
      "  [6]  R10M8FS10\n",
      "  [7]  FS10\n",
      "  [8]  R10M6FS10\n",
      "  [9]  R30M10FS10\n",
      "  [10]  R20M10FS10\n",
      "  [11]  R10M10FS10\n",
      "  [12]  BODY\n",
      "CT spacing= [1.40625 1.40625 1.     ]\n",
      "CT grid size [512 800 483]\n"
     ]
    }
   ],
   "source": [
    "plan=data[-3]\n",
    "rt_struct = data[-2]\n",
    "ct = data[-1]\n",
    "rt_struct.print_ROINames()\n",
    "print(\"CT spacing=\",ct.spacing)\n",
    "print(\"CT grid size\",ct.gridSize)\n",
    "target_name = \"CTV\"\n"
   ]
  },
  {
   "cell_type": "code",
   "execution_count": null,
   "metadata": {},
   "outputs": [
    {
     "name": "stdout",
     "output_type": "stream",
     "text": [
      "27/06/2025 03:44:59 PM - opentps.core.processing.doseCalculation.mcsquareDoseCalculator - INFO - Prepare MCsquare Dose calculation\n",
      "27/06/2025 03:44:59 PM - opentps.core.io.mhdIO - INFO - Write MHD file: C:\\Users\\gcyyy\\openTPS_workspace\\Simulations\\MCsquare_simulation\\CT.mhd\n",
      "27/06/2025 03:45:00 PM - opentps.core.io.mcsquareIO - INFO - Write plan: C:\\Users\\gcyyy\\openTPS_workspace\\Simulations\\MCsquare_simulation\\PlanPencil.txt\n",
      "27/06/2025 03:45:04 PM - opentps.core.processing.doseCalculation.mcsquareDoseCalculator - INFO - Start MCsquare simulation\n"
     ]
    }
   ],
   "source": [
    "#MCsquare simulation\n",
    "mc2 = MCsquareDoseCalculator()\n",
    "mc2.beamModel = bdl\n",
    "mc2.ctCalibration = ctCalibration\n",
    "mc2.nbPrimaries = 1e7\n",
    "doseImage = mc2.computeDose(ct, plan)"
   ]
  },
  {
   "cell_type": "code",
   "execution_count": null,
   "metadata": {},
   "outputs": [],
   "source": [
    "from ipywidgets import interact, IntSlider\n",
    "import matplotlib.pyplot as plt\n",
    "import numpy as np\n",
    "def plot_Zslice(z_index):\n",
    "    #plt.clf()\n",
    "    plt.figure(figsize=(8, 6))\n",
    "    x_size=doseImage.imageArray.shape[0]\n",
    "    y_size=doseImage.imageArray.shape[1]\n",
    "    X=np.linspace(0,x_size-1,x_size)\n",
    "    Y=np.linspace(0,y_size-1,y_size)\n",
    "    X, Y = np.meshgrid(X, Y)\n",
    "    #plt.contourf(X, Y, covered_count[:,:,z_index], cmap='jet',levels=10,vmin=0,vmax=np.max(covered_count),alpha=0.6)\n",
    "    plt.imshow(doseImage.imageArray[:,:,z_index].transpose(1,0), cmap='jet', interpolation='nearest', alpha=0.6)\n",
    "    plt.colorbar()\n",
    "    #绘制边界\n",
    "    #plt.contour(X, Y, expanded_image[:,:,z_index], colors='k',linewidths=2,levels=[0.5])\n",
    "    plt.plot()\n",
    "    plt.show()   \n",
    "interact(plot_Zslice, z_index=IntSlider(min=0, max=doseImage.imageArray.shape[2]-1, step=1))     "
   ]
  },
  {
   "cell_type": "code",
   "execution_count": null,
   "metadata": {},
   "outputs": [],
   "source": [
    "doseImage.imageArray.shape"
   ]
  },
  {
   "cell_type": "code",
   "execution_count": null,
   "metadata": {},
   "outputs": [
    {
     "name": "stdout",
     "output_type": "stream",
     "text": [
      "09/04/2025 02:45:43 PM - opentps.core.io.dicomIO - INFO - Export dicom RTDOSE: RD1.2.826.0.1.3680043.8.498.13788487360005424824957731664625185789.dcm in e:\\opentps-v1.1.1\\opentps_core\\opentps\\core\\examples\\planOptimization\n"
     ]
    },
    {
     "name": "stderr",
     "output_type": "stream",
     "text": [
      "d:\\Anaconda\\envs\\OpenTPS_new\\lib\\site-packages\\pydicom\\dataset.py:2231: UserWarning: Camel case attribute 'SoftwareVersion' used which is not in the element keyword data dictionary\n",
      "  warnings.warn(msg)\n",
      "d:\\Anaconda\\envs\\OpenTPS_new\\lib\\site-packages\\pydicom\\dataset.py:2231: UserWarning: Camel case attribute 'OperatorName' used which is not in the element keyword data dictionary\n",
      "  warnings.warn(msg)\n",
      "d:\\Anaconda\\envs\\OpenTPS_new\\lib\\site-packages\\pydicom\\dataset.py:2231: UserWarning: Camel case attribute 'Width' used which is not in the element keyword data dictionary\n",
      "  warnings.warn(msg)\n",
      "d:\\Anaconda\\envs\\OpenTPS_new\\lib\\site-packages\\pydicom\\valuerep.py:443: UserWarning: A value of type 'int32' cannot be assigned to a tag with VR US.\n",
      "  warnings.warn(msg)\n",
      "d:\\Anaconda\\envs\\OpenTPS_new\\lib\\site-packages\\pydicom\\dataset.py:2231: UserWarning: Camel case attribute 'Height' used which is not in the element keyword data dictionary\n",
      "  warnings.warn(msg)\n",
      "d:\\Anaconda\\envs\\OpenTPS_new\\lib\\site-packages\\pydicom\\dataset.py:2231: UserWarning: Camel case attribute 'ColorType' used which is not in the element keyword data dictionary\n",
      "  warnings.warn(msg)\n",
      "d:\\Anaconda\\envs\\OpenTPS_new\\lib\\site-packages\\pydicom\\dataset.py:2231: UserWarning: Camel case attribute 'BitDepth' used which is not in the element keyword data dictionary\n",
      "  warnings.warn(msg)\n"
     ]
    }
   ],
   "source": [
    "from opentps.core.io.dicomIO import writeRTDose\n",
    "output_folder = os.getcwd()\n",
    "writeRTDose(plan,output_folder,\"opentps_SFRT_250116.dcm\")\n",
    "\n",
    "# import pydicom\n",
    "# import datetime\n",
    "# # Don't delete it\n",
    "# # ++++Don't delete UIDs to build the simple study+++++++++++++++++++\n",
    "# studyInstanceUID = pydicom.uid.generate_uid()\n",
    "# doseSeriesInstanceUID = pydicom.uid.generate_uid()\n",
    "# planSeriesInstanceUID = pydicom.uid.generate_uid()\n",
    "# ctSeriesInstanceUID =  pydicom.uid.generate_uid()\n",
    "# frameOfReferenceUID = pydicom.uid.generate_uid()\n",
    "# # structSeriesInstanceUID = pydicom.uid.generate_uid()\n",
    "# dt = datetime.datetime.now()\n",
    "# # CT\n",
    "# patient = Patient()\n",
    "# patient.name = 'Simple_Patient'\n",
    "# Patient.id = 'Simple_Patient'\n",
    "# Patient.birthDate = dt.strftime('%Y%m%d')\n",
    "# patient.sex = \"\"\n",
    "\n",
    "# doseImage.referencePlan = plan\n",
    "# doseImage.referenceCT = ct\n",
    "# doseImage.patient = patient\n",
    "# doseImage.studyInstanceUID = studyInstanceUID\n",
    "# doseImage.frameOfReferenceUID = frameOfReferenceUID \n",
    "# doseImage.sopClassUID = '1.2.840.10008.5.1.4.1.1.481.2'\n",
    "# doseImage.mediaStorageSOPClassUID = '1.2.840.10008.5.1.4.1.1.481.2'\n",
    "# doseImage.sopInstanceUID = pydicom.uid.generate_uid()\n",
    "# doseImage.studyTime = dt.strftime('%H%M%S.%f')\n",
    "# doseImage.studyDate = dt.strftime('%Y%m%d')\n",
    "\n",
    "# writeRTDose(doseImage,output_folder)"
   ]
  }
 ],
 "metadata": {
  "kernelspec": {
   "display_name": "OpenTPS_v1",
   "language": "python",
   "name": "python3"
  },
  "language_info": {
   "codemirror_mode": {
    "name": "ipython",
    "version": 3
   },
   "file_extension": ".py",
   "mimetype": "text/x-python",
   "name": "python",
   "nbconvert_exporter": "python",
   "pygments_lexer": "ipython3",
   "version": "3.9.21"
  }
 },
 "nbformat": 4,
 "nbformat_minor": 2
}
