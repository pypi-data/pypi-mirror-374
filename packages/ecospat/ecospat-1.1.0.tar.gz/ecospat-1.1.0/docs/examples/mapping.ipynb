{
 "cells": [
  {
   "cell_type": "markdown",
   "metadata": {},
   "source": [
    "[![Open In Colab](https://colab.research.google.com/assets/colab-badge.svg)](https://colab.research.google.com/github/anytko/ecospat/blob/main/docs/examples/mapping.ipynb)"
   ]
  },
  {
   "cell_type": "code",
   "execution_count": null,
   "metadata": {},
   "outputs": [],
   "source": [
    "# Uncomment below to run in Google Collab\n",
    "# pip install ecospat"
   ]
  },
  {
   "cell_type": "code",
   "execution_count": null,
   "metadata": {},
   "outputs": [],
   "source": [
    "import ecospat.mapping as ecospat_ipyleaflet\n",
    "import ecospat.foliummap as ecospat_foliummap"
   ]
  },
  {
   "cell_type": "markdown",
   "metadata": {},
   "source": [
    "## Basic and advanced maps using ipyleaflet."
   ]
  },
  {
   "cell_type": "markdown",
   "metadata": {},
   "source": [
    "### A simple OpenStreetMap with ipyleaflet"
   ]
  },
  {
   "cell_type": "code",
   "execution_count": null,
   "metadata": {},
   "outputs": [],
   "source": [
    "simple_map = ecospat_ipyleaflet.Map(center=[40, -100], zoom=4, height=\"300px\")\n",
    "simple_map"
   ]
  },
  {
   "cell_type": "markdown",
   "metadata": {},
   "source": [
    "### An advanced ipyleaflet map that displays world topography and cities."
   ]
  },
  {
   "cell_type": "code",
   "execution_count": null,
   "metadata": {},
   "outputs": [],
   "source": [
    "advanced_map = ecospat_ipyleaflet.Map(center=[40, -100], zoom=4, height=\"300px\")\n",
    "advanced_map.add_basemap(\"OpenTopoMap\")\n",
    "url = (\n",
    "    \"https://github.com/opengeos/datasets/releases/download/world/world_cities.geojson\"\n",
    ")\n",
    "advanced_map.add_geojson(url, name=\"Cities\")\n",
    "advanced_map.add_layer_control()\n",
    "advanced_map"
   ]
  },
  {
   "cell_type": "markdown",
   "metadata": {},
   "source": [
    "## Basic and advanced maps using Folium"
   ]
  },
  {
   "cell_type": "markdown",
   "metadata": {},
   "source": [
    "### A simple OpenStreetMap and OpenTopoMap"
   ]
  },
  {
   "cell_type": "code",
   "execution_count": null,
   "metadata": {},
   "outputs": [],
   "source": [
    "simple_folium = ecospat_foliummap.Map(center=[20, 0], zoom=2, tiles=\"OpenStreetMap\")\n",
    "simple_folium.add_basemap(\"OpenTopoMap\")\n",
    "simple_folium.add_layer_control()\n",
    "simple_folium"
   ]
  },
  {
   "cell_type": "code",
   "execution_count": null,
   "metadata": {},
   "outputs": [],
   "source": [
    "# new_map.add_split_map(left=\"Esri.WorldImagery\", right=\"cartodbpositron\")\n",
    "\n",
    "# Add a split map with a GeoTIFF on the left and a basemap on the right\n",
    "new_map = ecospat_foliummap.Map(center=[20, 0], zoom=2)\n",
    "\n",
    "\n",
    "# Add split map with two GeoTIFFs on the left and right\n",
    "new_map.add_split_map(\n",
    "    left=\"https://raw.githubusercontent.com/kgjenkins/ophz/master/tif/ophz-us48.tif\",\n",
    "    right=\"https://raw.githubusercontent.com/kgjenkins/ophz/master/tif/ophz-us48.tif\",\n",
    "    colormap_left=\"viridis\",\n",
    "    colormap_right=\"magma\",\n",
    "    opacity_left=0.9,\n",
    "    opacity_right=0.8,\n",
    ")\n",
    "\n",
    "# Add the LayerControl to toggle layers independently\n",
    "new_map.add_layer_control()\n",
    "\n",
    "new_map"
   ]
  },
  {
   "cell_type": "markdown",
   "metadata": {},
   "source": [
    "### Advanced Folium map that displays world cartography with outlined countries."
   ]
  },
  {
   "cell_type": "code",
   "execution_count": null,
   "metadata": {},
   "outputs": [],
   "source": [
    "advanced_folium = ecospat_foliummap.Map(\n",
    "    center=[20, 0], zoom=2, tiles=\"CartoDB dark_matter\"\n",
    ")\n",
    "url = \"https://github.com/opengeos/datasets/releases/download/world/countries.geojson\"\n",
    "advanced_folium.add_geojson(url, name=\"Countries\")\n",
    "advanced_folium.add_layer_control()\n",
    "advanced_folium"
   ]
  },
  {
   "cell_type": "markdown",
   "metadata": {},
   "source": [
    "## Adding .shp data to an ipyleaflet and Folium map. "
   ]
  },
  {
   "cell_type": "markdown",
   "metadata": {},
   "source": [
    "### Rivers of Australia using ipyleaflet."
   ]
  },
  {
   "cell_type": "code",
   "execution_count": null,
   "metadata": {},
   "outputs": [],
   "source": [
    "aus_rivers_ipyleaflet = ecospat_ipyleaflet.Map(\n",
    "    center=[-25, 135], zoom=4, height=\"300px\"\n",
    ")\n",
    "aus_rivers_ipyleaflet.add_shp_from_url(\n",
    "    \"https://github.com/nvkelso/natural-earth-vector/blob/master/10m_physical/ne_10m_rivers_australia\",\n",
    "    name=\"Rivers of Australia\",\n",
    ")\n",
    "aus_rivers_ipyleaflet.add_layer_control()\n",
    "aus_rivers_ipyleaflet"
   ]
  },
  {
   "cell_type": "markdown",
   "metadata": {},
   "source": [
    "### Lakes of the world on an ESRI imagery map using Folium."
   ]
  },
  {
   "cell_type": "code",
   "execution_count": null,
   "metadata": {},
   "outputs": [],
   "source": [
    "world_lakes_folium = ecospat_foliummap.Map(\n",
    "    center=[39.8283, -98.5795], zoom=4, tiles=\"Esri.WorldImagery\"\n",
    ")\n",
    "world_lakes_folium.add_shp_from_url(\n",
    "    \"https://github.com/nvkelso/natural-earth-vector/blob/master/10m_physical/ne_10m_lakes\",\n",
    "    name=\"Lakes of Europe\",\n",
    ")\n",
    "world_lakes_folium.add_layer_control()\n",
    "world_lakes_folium"
   ]
  }
 ],
 "metadata": {
  "kernelspec": {
   "display_name": "biodiviz",
   "language": "python",
   "name": "python3"
  },
  "language_info": {
   "codemirror_mode": {
    "name": "ipython",
    "version": 3
   },
   "file_extension": ".py",
   "mimetype": "text/x-python",
   "name": "python",
   "nbconvert_exporter": "python",
   "pygments_lexer": "ipython3",
   "version": "3.12.9"
  }
 },
 "nbformat": 4,
 "nbformat_minor": 2
}
