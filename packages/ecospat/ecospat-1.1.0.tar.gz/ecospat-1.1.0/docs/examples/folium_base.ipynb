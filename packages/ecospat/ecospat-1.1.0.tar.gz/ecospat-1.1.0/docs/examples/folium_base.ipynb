{
 "cells": [
  {
   "cell_type": "markdown",
   "metadata": {},
   "source": [
    "[![Open In Colab](https://colab.research.google.com/assets/colab-badge.svg)](https://colab.research.google.com/github/anytko/ecospat/blob/main/docs/examples/folium_base.ipynb)"
   ]
  },
  {
   "cell_type": "code",
   "execution_count": null,
   "metadata": {},
   "outputs": [],
   "source": [
    "# Uncomment below to run in Google Collab\n",
    "# pip install ecospat"
   ]
  },
  {
   "cell_type": "markdown",
   "metadata": {},
   "source": [
    "## Basic static mapping functions in ecospat"
   ]
  },
  {
   "cell_type": "code",
   "execution_count": null,
   "metadata": {},
   "outputs": [],
   "source": [
    "import ecospat.foliummap as ecospat_foliummap"
   ]
  },
  {
   "cell_type": "code",
   "execution_count": null,
   "metadata": {},
   "outputs": [],
   "source": [
    "# A simple map with different basemap options and layer control\n",
    "simple_folium = ecospat_foliummap.Map(center=[20, 0], zoom=2, tiles=\"OpenStreetMap\")\n",
    "simple_folium.add_basemap(\"OpenTopoMap\")\n",
    "simple_folium.add_layer_control()\n",
    "simple_folium"
   ]
  },
  {
   "cell_type": "markdown",
   "metadata": {},
   "source": [
    "### Advanced maps that display vector and raster data "
   ]
  },
  {
   "cell_type": "markdown",
   "metadata": {},
   "source": [
    "#### Countries on a dark map"
   ]
  },
  {
   "cell_type": "code",
   "execution_count": null,
   "metadata": {},
   "outputs": [],
   "source": [
    "advanced_folium = ecospat_foliummap.Map(\n",
    "    center=[20, 0], zoom=2, tiles=\"CartoDB dark_matter\"\n",
    ")\n",
    "url = \"https://github.com/opengeos/datasets/releases/download/world/countries.geojson\"\n",
    "advanced_folium.add_geojson(url, name=\"Countries\")\n",
    "advanced_folium.add_layer_control()\n",
    "advanced_folium"
   ]
  },
  {
   "cell_type": "markdown",
   "metadata": {},
   "source": [
    "#### World lakes from .shp"
   ]
  },
  {
   "cell_type": "code",
   "execution_count": null,
   "metadata": {},
   "outputs": [],
   "source": [
    "world_lakes_folium = ecospat_foliummap.Map(\n",
    "    center=[39.8283, -98.5795], zoom=4, tiles=\"Esri.WorldImagery\"\n",
    ")\n",
    "world_lakes_folium.add_shp_from_url(\n",
    "    \"https://github.com/nvkelso/natural-earth-vector/blob/master/10m_physical/ne_10m_lakes\",\n",
    "    name=\"Lakes of Europe\",\n",
    ")\n",
    "world_lakes_folium.add_layer_control()\n",
    "world_lakes_folium"
   ]
  },
  {
   "cell_type": "markdown",
   "metadata": {},
   "source": [
    "#### Split map with raster data"
   ]
  },
  {
   "cell_type": "code",
   "execution_count": null,
   "metadata": {},
   "outputs": [],
   "source": [
    "new_map = ecospat_foliummap.Map(center=[40, -100], zoom=4)\n",
    "\n",
    "\n",
    "# Add split map with two GeoTIFFs on the left and right\n",
    "new_map.add_split_map(\n",
    "    left=\"https://raw.githubusercontent.com/kgjenkins/ophz/master/tif/ophz-us48.tif\",\n",
    "    right=\"https://raw.githubusercontent.com/kgjenkins/ophz/master/tif/ophz-us48.tif\",\n",
    "    colormap_left=\"viridis\",\n",
    "    colormap_right=\"magma\",\n",
    "    opacity_left=0.9,\n",
    "    opacity_right=0.8,\n",
    ")\n",
    "\n",
    "# Add the LayerControl to toggle layers independently\n",
    "new_map.add_layer_control()\n",
    "\n",
    "new_map"
   ]
  }
 ],
 "metadata": {
  "kernelspec": {
   "display_name": "biodiviz",
   "language": "python",
   "name": "python3"
  },
  "language_info": {
   "codemirror_mode": {
    "name": "ipython",
    "version": 3
   },
   "file_extension": ".py",
   "mimetype": "text/x-python",
   "name": "python",
   "nbconvert_exporter": "python",
   "pygments_lexer": "ipython3",
   "version": "3.12.9"
  }
 },
 "nbformat": 4,
 "nbformat_minor": 2
}
