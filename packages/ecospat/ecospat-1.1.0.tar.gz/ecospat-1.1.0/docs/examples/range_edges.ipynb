{
 "cells": [
  {
   "cell_type": "markdown",
   "metadata": {},
   "source": [
    "[![Open In Colab](https://colab.research.google.com/assets/colab-badge.svg)](https://colab.research.google.com/github/anytko/ecospat/blob/main/docs/examples/range_edges.ipynb)"
   ]
  },
  {
   "cell_type": "markdown",
   "metadata": {},
   "source": [
    "## Categorizing historical and modern range edges "
   ]
  },
  {
   "cell_type": "code",
   "execution_count": null,
   "metadata": {},
   "outputs": [],
   "source": [
    "import ecospat.ecospat as ecospat_full\n",
    "from ecospat.stand_alone_functions import (\n",
    "    get_species_code_if_exists,\n",
    "    merge_touching_groups,\n",
    "    assign_polygon_clusters,\n",
    "    classify_range_edges,\n",
    "    update_polygon_categories,\n",
    "    get_start_year_from_species,\n",
    "    fetch_gbif_data_with_historic,\n",
    "    convert_to_gdf,\n",
    "    process_gbif_data_pipeline,\n",
    "    calculate_density,\n",
    "    summarize_polygons_with_points,\n",
    "    process_species_historical_range,\n",
    "    analyze_species_distribution,\n",
    ")"
   ]
  },
  {
   "cell_type": "markdown",
   "metadata": {},
   "source": [
    "### Step-by-step historical"
   ]
  },
  {
   "cell_type": "code",
   "execution_count": null,
   "metadata": {},
   "outputs": [],
   "source": [
    "# Range maps of over 600 North American tree species were created by Elbert L. Little, Jr. from 1971-1977\n",
    "# First we need to load in the historical Little data for a tree species to an ecospat map\n",
    "\n",
    "historic_map = ecospat_full.Map()\n",
    "species_name = \"Populus angustifolia\"\n",
    "code = get_species_code_if_exists(species_name)\n",
    "historic_map.load_historic_data(species_name, add_to_map=True)\n",
    "historic_map"
   ]
  },
  {
   "cell_type": "code",
   "execution_count": null,
   "metadata": {},
   "outputs": [],
   "source": [
    "# Next we need to remove lakes and major bodies of water and merge touching polygons\n",
    "\n",
    "range_no_lakes = historic_map.remove_lakes(historic_map.gdfs[code])\n",
    "\n",
    "# We can update the buffer_distance parameter based what polygons we want to merge; 5000m is a good start\n",
    "\n",
    "merged_polygons = merge_touching_groups(range_no_lakes, buffer_distance=5000)\n",
    "\n",
    "merged_polygons.plot()"
   ]
  },
  {
   "cell_type": "code",
   "execution_count": null,
   "metadata": {},
   "outputs": [],
   "source": [
    "# Finally, we can classify the range edges of the historical range\n",
    "\n",
    "# Identifies large core polygons\n",
    "clustered_polygons, largest_polygons = assign_polygon_clusters(merged_polygons)\n",
    "\n",
    "# Classifies range edges based on latitudinal and longitudinal position to core polygons\n",
    "classified_polygons = classify_range_edges(clustered_polygons, largest_polygons)\n",
    "\n",
    "# Updates polygon categories for polygons on islands\n",
    "updated_polygon = update_polygon_categories(largest_polygons, classified_polygons)\n",
    "\n",
    "updated_polygon.plot(column=\"category\", legend=True, figsize=(10, 12))"
   ]
  },
  {
   "cell_type": "code",
   "execution_count": null,
   "metadata": {},
   "outputs": [],
   "source": [
    "# We can also plot these polygons on an ecospat map\n",
    "historical_map_poly = ecospat_full.Map()\n",
    "historical_map_poly.add_range_polygons(updated_polygon)\n",
    "historical_map_poly"
   ]
  },
  {
   "cell_type": "markdown",
   "metadata": {},
   "source": [
    "### Step-by-step modern"
   ]
  },
  {
   "cell_type": "code",
   "execution_count": null,
   "metadata": {},
   "outputs": [],
   "source": [
    "# First we need to fetch modern and historic GBIF data. Historic GBIF data will be used to calculate population density change.\n",
    "\n",
    "# Let's retrieve the year the associated little map was published for this species\n",
    "start_year = get_start_year_from_species(species_name)\n",
    "start_year = int(start_year)\n",
    "\n",
    "# Now we will pull 1000 GBIF occurrences from 2025 backwards and from 1976 (start year) backwards\n",
    "data = fetch_gbif_data_with_historic(\n",
    "    species_name,\n",
    "    limit=1000,\n",
    "    start_year=start_year,\n",
    "    end_year=2025,\n",
    "    continent=\"north_america\",\n",
    ")\n",
    "modern_data = data[\"modern\"]\n",
    "historic_data = data[\"historic\"]\n",
    "\n",
    "# Finally, we convert this raw GBIF data into a gdf\n",
    "historic_gdf = convert_to_gdf(historic_data)\n",
    "modern_gdf = convert_to_gdf(modern_data)\n",
    "\n",
    "# As an example, we will view the first few rows of the modern GBIF gdf\n",
    "modern_gdf.head()"
   ]
  },
  {
   "cell_type": "code",
   "execution_count": null,
   "metadata": {},
   "outputs": [],
   "source": [
    "import matplotlib.pyplot as plt\n",
    "\n",
    "# Now we will need to processes this raw GBIF data in order to classify range edges\n",
    "\n",
    "classified_modern = process_gbif_data_pipeline(\n",
    "    modern_gdf,\n",
    "    species_name=species_name,\n",
    "    is_modern=True,\n",
    "    end_year=2025,\n",
    "    continent=\"north_america\",\n",
    ")\n",
    "\n",
    "ax = classified_modern.plot(column=\"category\", legend=True, figsize=(10, 12))\n",
    "ax.set_title(\"Modern GBIF Range Edges\")\n",
    "\n",
    "classified_historic = process_gbif_data_pipeline(\n",
    "    historic_gdf, is_modern=False, end_year=2025, continent=\"north_america\"\n",
    ")\n",
    "\n",
    "ax_historic = classified_historic.plot(column=\"category\", legend=True, figsize=(10, 10))\n",
    "ax_historic.set_title(\"Historic GBIF Range Edges\")"
   ]
  },
  {
   "cell_type": "code",
   "execution_count": null,
   "metadata": {},
   "outputs": [],
   "source": [
    "# We then need to calculate the density of points (or unique individuals per polygon)\n",
    "\n",
    "classified_modern = calculate_density(classified_modern)\n",
    "classified_historic = calculate_density(classified_historic)\n",
    "\n",
    "summarized_modern = summarize_polygons_with_points(classified_modern)\n",
    "\n",
    "summarized_modern.head()"
   ]
  },
  {
   "cell_type": "code",
   "execution_count": null,
   "metadata": {},
   "outputs": [],
   "source": [
    "# Finally, lets add these modern polygons to an ecospat map\n",
    "\n",
    "modern_map_poly = ecospat_full.Map()\n",
    "modern_map_poly.add_range_polygons(summarized_modern)\n",
    "modern_map_poly"
   ]
  },
  {
   "cell_type": "markdown",
   "metadata": {},
   "source": [
    "## Pipeline functions "
   ]
  },
  {
   "cell_type": "markdown",
   "metadata": {},
   "source": [
    "### Historical pipeline"
   ]
  },
  {
   "cell_type": "code",
   "execution_count": null,
   "metadata": {},
   "outputs": [],
   "source": [
    "# Here we are going to generate the historic range map data\n",
    "hist_pipeline = ecospat_full.Map()\n",
    "hist_range = process_species_historical_range(\n",
    "    new_map=hist_pipeline, species_name=\"Populus angustifolia\"\n",
    ")\n",
    "hist_pipeline.add_range_polygons(hist_range)\n",
    "hist_pipeline"
   ]
  },
  {
   "cell_type": "markdown",
   "metadata": {},
   "source": [
    "### Modern GBIF pipeline"
   ]
  },
  {
   "cell_type": "code",
   "execution_count": null,
   "metadata": {},
   "outputs": [],
   "source": [
    "classified_modern, classified_historic = analyze_species_distribution(\n",
    "    \"Populus angustifolia\", record_limit=1000\n",
    ")\n",
    "classified_modern"
   ]
  },
  {
   "cell_type": "code",
   "execution_count": null,
   "metadata": {},
   "outputs": [],
   "source": [
    "modern_pipeline_summary = summarize_polygons_with_points(classified_modern)\n",
    "modern_pipeline_map = ecospat_full.Map()\n",
    "modern_pipeline_map.add_range_polygons(modern_pipeline_summary)\n",
    "modern_pipeline_map"
   ]
  }
 ],
 "metadata": {
  "kernelspec": {
   "display_name": "biodiviz",
   "language": "python",
   "name": "python3"
  },
  "language_info": {
   "codemirror_mode": {
    "name": "ipython",
    "version": 3
   },
   "file_extension": ".py",
   "mimetype": "text/x-python",
   "name": "python",
   "nbconvert_exporter": "python",
   "pygments_lexer": "ipython3",
   "version": "3.12.9"
  }
 },
 "nbformat": 4,
 "nbformat_minor": 2
}
