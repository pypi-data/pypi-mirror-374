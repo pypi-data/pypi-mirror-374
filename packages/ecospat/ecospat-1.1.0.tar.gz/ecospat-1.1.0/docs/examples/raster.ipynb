{
 "cells": [
  {
   "cell_type": "markdown",
   "metadata": {},
   "source": [
    "[![Open In Colab](https://colab.research.google.com/assets/colab-badge.svg)](https://colab.research.google.com/github/anytko/ecospat/blob/main/docs/examples/raster.ipynb)"
   ]
  },
  {
   "cell_type": "code",
   "execution_count": null,
   "metadata": {},
   "outputs": [],
   "source": [
    "# Uncomment below to run in Google Collab\n",
    "# pip install ecospat"
   ]
  },
  {
   "cell_type": "code",
   "execution_count": null,
   "metadata": {},
   "outputs": [],
   "source": [
    "import ecospat.mapping as ecospat_ipyleaflet"
   ]
  },
  {
   "cell_type": "markdown",
   "metadata": {
    "vscode": {
     "languageId": "plaintext"
    }
   },
   "source": [
    "## Adding Raster Data to a Map"
   ]
  },
  {
   "cell_type": "code",
   "execution_count": null,
   "metadata": {},
   "outputs": [],
   "source": [
    "url = \"https://github.com/opengeos/data/blob/main/landsat/2020.tif?raw=true\""
   ]
  },
  {
   "cell_type": "code",
   "execution_count": null,
   "metadata": {},
   "outputs": [],
   "source": [
    "ucayali_river_map = ecospat_ipyleaflet.Map(center=[40, -100], zoom=4, height=\"300px\")\n",
    "ucayali_river_map.add_raster(url, name=\"Ucayali River\", colormap=\"viridis\", opacity=0.7)\n",
    "ucayali_river_map"
   ]
  },
  {
   "cell_type": "code",
   "execution_count": null,
   "metadata": {},
   "outputs": [],
   "source": [
    "pucallpa_map = ecospat_ipyleaflet.Map(center=[40, -100], zoom=4, height=\"300px\")\n",
    "pucallpa_map.add_raster(url, name=\"Pucallpa Raster\", colormap=\"viridis\", opacity=0.7)\n",
    "\n",
    "coordinates = [(-8.3802, -74.5467)]\n",
    "\n",
    "pucallpa_map.add_markers(coordinates, name=\"Pucallpa\")\n",
    "\n",
    "pucallpa_map.add_layer_control()\n",
    "pucallpa_map"
   ]
  },
  {
   "cell_type": "markdown",
   "metadata": {},
   "source": [
    "### Incorporating Different Raster Bands"
   ]
  },
  {
   "cell_type": "code",
   "execution_count": null,
   "metadata": {},
   "outputs": [],
   "source": [
    "raster_bands = \"https://github.com/opengeos/data/blob/main/landsat/2020.tif?raw=true\""
   ]
  },
  {
   "cell_type": "code",
   "execution_count": null,
   "metadata": {},
   "outputs": [],
   "source": [
    "# All bands together\n",
    "all_bands_map = ecospat_ipyleaflet.Map(center=[40, -100], zoom=4, height=\"300px\")\n",
    "all_bands_map.add_raster(raster_bands, name=\"landsat\")\n",
    "all_bands_map.add_layer_control()  # Add layer control to the map\n",
    "all_bands_map"
   ]
  },
  {
   "cell_type": "code",
   "execution_count": null,
   "metadata": {},
   "outputs": [],
   "source": [
    "import rasterio\n",
    "\n",
    "src = rasterio.open(raster_bands)\n",
    "src.meta"
   ]
  },
  {
   "cell_type": "code",
   "execution_count": null,
   "metadata": {},
   "outputs": [],
   "source": [
    "# Only the infrared band (band 4) from the Landsat image\n",
    "\n",
    "one_band_map = ecospat_ipyleaflet.Map(center=[40, -100], zoom=4, height=\"300px\")\n",
    "one_band_map.add_raster(\n",
    "    raster_bands,\n",
    "    indexes=4,\n",
    "    name=\"Infrared Band\",\n",
    "    opacity=0.7,\n",
    ")\n",
    "one_band_map.add_layer_control()\n",
    "one_band_map"
   ]
  },
  {
   "cell_type": "markdown",
   "metadata": {},
   "source": [
    "## Adding an Image to a Map"
   ]
  },
  {
   "cell_type": "code",
   "execution_count": null,
   "metadata": {},
   "outputs": [],
   "source": [
    "image_map = ecospat_ipyleaflet.Map(center=[39.8283, -98.5795], zoom=4, height=\"600px\")\n",
    "image_map.add_image(\n",
    "    \"https://brand.utk.edu/wp-content/uploads/2019/02/University-CenteredLogo-RGB.png\",\n",
    "    bounds=[[30.2606, -88.5652], [38.9606, -79.2762]],\n",
    "    opacity=0.8,\n",
    "    name=\"UTK\",\n",
    ")\n",
    "image_map.add_image(\n",
    "    \"https://github.com/anytko/anytko.github.io/blob/main/website_photo.png?raw=true\",\n",
    "    bounds=[[17, -145], [30, -136]],\n",
    "    name=\"Bio\",\n",
    ")\n",
    "\n",
    "image_map.add_layer_control()\n",
    "image_map"
   ]
  },
  {
   "cell_type": "markdown",
   "metadata": {},
   "source": [
    "## Adding a Video to a Map"
   ]
  },
  {
   "cell_type": "code",
   "execution_count": null,
   "metadata": {},
   "outputs": [],
   "source": [
    "video_map = ecospat_ipyleaflet.Map(center=(-40.9006, 174.8860), zoom=5, height=\"600px\")\n",
    "video_url = \"https://github.com/rocksdanister/weather/blob/main/resources/hero.mp4\"\n",
    "\n",
    "video_map.add_image(video_url, bounds=[[-40, 178], [-45, 182]], name=\"Weather App\")\n",
    "video_map.add_layer_control()\n",
    "video_map"
   ]
  },
  {
   "cell_type": "markdown",
   "metadata": {},
   "source": [
    "## Adding a Web Mapping Service (WMS) Layer to a Map"
   ]
  },
  {
   "cell_type": "code",
   "execution_count": null,
   "metadata": {},
   "outputs": [],
   "source": [
    "wms_map = ecospat_ipyleaflet.Map(center=[40, -100], zoom=4, height=\"600px\")\n",
    "wms_url = \"https://nowcoast.noaa.gov/arcgis/services/nowcoast/radar_meteo_imagery_nexrad_time/MapServer/WMSServer?\"\n",
    "wms_map.add_wms_layer(\n",
    "    url=wms_url,\n",
    "    layers=\"NLCD_Canopy\",\n",
    "    name=\"Canopy Cover\",\n",
    "    format=\"image/png\",\n",
    "    transparent=True,\n",
    "    opacity=0.7,\n",
    ")\n",
    "wms_map.add_layer_control()\n",
    "wms_map"
   ]
  }
 ],
 "metadata": {
  "kernelspec": {
   "display_name": "biodiviz",
   "language": "python",
   "name": "python3"
  },
  "language_info": {
   "codemirror_mode": {
    "name": "ipython",
    "version": 3
   },
   "file_extension": ".py",
   "mimetype": "text/x-python",
   "name": "python",
   "nbconvert_exporter": "python",
   "pygments_lexer": "ipython3",
   "version": "3.12.9"
  }
 },
 "nbformat": 4,
 "nbformat_minor": 2
}
