{
 "cells": [
  {
   "cell_type": "markdown",
   "metadata": {},
   "source": [
    "[![Open In Colab](https://colab.research.google.com/assets/colab-badge.svg)](https://colab.research.google.com/github/anytko/ecospat/blob/main/docs/examples/range_movement.ipynb)"
   ]
  },
  {
   "cell_type": "code",
   "execution_count": null,
   "metadata": {},
   "outputs": [],
   "source": [
    "# Uncomment below to run in Google Collab\n",
    "# pip install ecospat"
   ]
  },
  {
   "cell_type": "markdown",
   "metadata": {
    "vscode": {
     "languageId": "plaintext"
    }
   },
   "source": [
    "## Classifying the range movement patterns "
   ]
  },
  {
   "cell_type": "code",
   "execution_count": null,
   "metadata": {},
   "outputs": [],
   "source": [
    "import ecospat.ecospat as ecospat_full\n",
    "from ecospat.stand_alone_functions import (\n",
    "    process_species_historical_range,\n",
    "    analyze_species_distribution,\n",
    "    analyze_northward_shift,\n",
    "    categorize_species,\n",
    "    analyze_species_distribution_south,\n",
    "    categorize_species_south,\n",
    ")"
   ]
  },
  {
   "cell_type": "markdown",
   "metadata": {
    "vscode": {
     "languageId": "plaintext"
    }
   },
   "source": [
    "### Classify historical range edges."
   ]
  },
  {
   "cell_type": "code",
   "execution_count": null,
   "metadata": {},
   "outputs": [],
   "source": [
    "hist_pipeline = ecospat_full.Map()\n",
    "hist_range = process_species_historical_range(\n",
    "    new_map=hist_pipeline, species_name=\"Populus angustifolia\"\n",
    ")\n",
    "hist_range.head()"
   ]
  },
  {
   "cell_type": "markdown",
   "metadata": {},
   "source": [
    "### Classify modern range edges."
   ]
  },
  {
   "cell_type": "code",
   "execution_count": null,
   "metadata": {},
   "outputs": [],
   "source": [
    "classified_modern, classified_historic = analyze_species_distribution(\n",
    "    \"Populus angustifolia\", record_limit=1000, continent=\"north_america\"\n",
    ")\n",
    "classified_modern.head()"
   ]
  },
  {
   "cell_type": "markdown",
   "metadata": {},
   "source": [
    "### Calculate northward rate of movement."
   ]
  },
  {
   "cell_type": "code",
   "execution_count": null,
   "metadata": {},
   "outputs": [],
   "source": [
    "# It's important to note that although relict populations are given a northward movement rate - this rate is only biologically relevant for leading, core, and trailing populations. Relict populations are not considered part of the noncontiguous, moving range.\n",
    "northward_rate_df = analyze_northward_shift(\n",
    "    gdf_hist=hist_range,\n",
    "    gdf_new=classified_modern,\n",
    "    species_name=\"Populus angustifolia\",\n",
    ")\n",
    "\n",
    "northward_rate_df"
   ]
  },
  {
   "cell_type": "markdown",
   "metadata": {},
   "source": [
    "### Classify range movement pattern"
   ]
  },
  {
   "cell_type": "code",
   "execution_count": null,
   "metadata": {},
   "outputs": [],
   "source": [
    "# If the northward rate of movement is categorized for leading, core, and trailing edges then it will be classified as one of the following: Moving together (positive or negative), Stability, Pull Apart, Reabsorption. If the northward rate of movement is only categorized for 2 of the 3 range edges then all patterns are \"likely\"."
   ]
  },
  {
   "cell_type": "code",
   "execution_count": null,
   "metadata": {},
   "outputs": [],
   "source": [
    "# Populus angustifolia's range is stable\n",
    "range_pattern = categorize_species(northward_rate_df)\n",
    "print(range_pattern)"
   ]
  },
  {
   "cell_type": "code",
   "execution_count": null,
   "metadata": {},
   "outputs": [],
   "source": [
    "# Acer rubrum's range is reabsorbing (core moving into edges or vice-versa)\n",
    "acer_map = ecospat_full.Map()\n",
    "acer_range = process_species_historical_range(\n",
    "    new_map=hist_pipeline, species_name=\"Acer saccharum\"\n",
    ")\n",
    "modern_acer, historic_acer = analyze_species_distribution(\n",
    "    \"Acer saccharum\", record_limit=1000, continent=\"north_america\"\n",
    ")\n",
    "northward_rate_acer = analyze_northward_shift(\n",
    "    gdf_hist=acer_range,\n",
    "    gdf_new=modern_acer,\n",
    "    species_name=\"Acer saccharum\",\n",
    ")\n",
    "range_pattern_acer = categorize_species(northward_rate_acer)\n",
    "print(range_pattern_acer)"
   ]
  },
  {
   "cell_type": "markdown",
   "metadata": {},
   "source": [
    "### Species in the Global South"
   ]
  },
  {
   "cell_type": "code",
   "execution_count": null,
   "metadata": {},
   "outputs": [],
   "source": [
    "# Eucalyptus globulus's range is likely reabsorption\n",
    "\n",
    "euc_modern, euc_historic = analyze_species_distribution_south(\n",
    "    \"Eucalyptus globulus\", record_limit=1000, continent=\"oceania\", user_start_year=1980\n",
    ")\n",
    "\n",
    "northward_rate_euc = analyze_northward_shift(\n",
    "    gdf_hist=euc_historic,\n",
    "    gdf_new=euc_modern,\n",
    "    species_name=\"Eucalyptus globulus\",\n",
    "    user_start_year=1980,\n",
    ")\n",
    "\n",
    "euc_range_pattern = categorize_species_south(northward_rate_euc)\n",
    "print(euc_range_pattern)"
   ]
  }
 ],
 "metadata": {
  "kernelspec": {
   "display_name": "biodiviz",
   "language": "python",
   "name": "python3"
  },
  "language_info": {
   "codemirror_mode": {
    "name": "ipython",
    "version": 3
   },
   "file_extension": ".py",
   "mimetype": "text/x-python",
   "name": "python",
   "nbconvert_exporter": "python",
   "pygments_lexer": "ipython3",
   "version": "3.12.9"
  }
 },
 "nbformat": 4,
 "nbformat_minor": 2
}
