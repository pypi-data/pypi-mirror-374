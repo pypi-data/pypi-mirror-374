{
 "cells": [
  {
   "cell_type": "markdown",
   "metadata": {},
   "source": [
    "[![Open In Colab](https://colab.research.google.com/assets/colab-badge.svg)](https://colab.research.google.com/github/anytko/ecospat/blob/main/docs/examples/leaflet_base.ipynb)"
   ]
  },
  {
   "cell_type": "code",
   "execution_count": null,
   "metadata": {},
   "outputs": [],
   "source": [
    "# Uncomment below to run in Google Collab\n",
    "# pip install ecospat"
   ]
  },
  {
   "cell_type": "markdown",
   "metadata": {},
   "source": [
    "## Basic interactive mapping functions in ecospat"
   ]
  },
  {
   "cell_type": "code",
   "execution_count": null,
   "metadata": {},
   "outputs": [],
   "source": [
    "import ecospat.mapping as ecospat_ipyleaflet"
   ]
  },
  {
   "cell_type": "markdown",
   "metadata": {},
   "source": [
    "### A simple map with basemap options and layer control"
   ]
  },
  {
   "cell_type": "code",
   "execution_count": null,
   "metadata": {},
   "outputs": [],
   "source": [
    "simple_map = ecospat_ipyleaflet.Map(center=[40, -100], zoom=4, height=\"500px\")\n",
    "simple_map.add_basemap_gui()\n",
    "simple_map.add_layer_control()\n",
    "simple_map"
   ]
  },
  {
   "cell_type": "markdown",
   "metadata": {},
   "source": [
    "### Advanced maps that display vector and raster data"
   ]
  },
  {
   "cell_type": "markdown",
   "metadata": {},
   "source": [
    "#### World city data from a .geojson"
   ]
  },
  {
   "cell_type": "code",
   "execution_count": null,
   "metadata": {},
   "outputs": [],
   "source": [
    "advanced_map = ecospat_ipyleaflet.Map(center=[40, -100], zoom=4, height=\"300px\")\n",
    "advanced_map.add_basemap(\"OpenTopoMap\")\n",
    "url = (\n",
    "    \"https://github.com/opengeos/datasets/releases/download/world/world_cities.geojson\"\n",
    ")\n",
    "advanced_map.add_geojson(url, name=\"Cities\")\n",
    "advanced_map.add_layer_control()\n",
    "advanced_map"
   ]
  },
  {
   "cell_type": "markdown",
   "metadata": {},
   "source": [
    "#### River data in Australia from a .shp "
   ]
  },
  {
   "cell_type": "code",
   "execution_count": null,
   "metadata": {},
   "outputs": [],
   "source": [
    "aus_rivers_ipyleaflet = ecospat_ipyleaflet.Map(\n",
    "    center=[-25, 135], zoom=4, height=\"300px\"\n",
    ")\n",
    "aus_rivers_ipyleaflet.add_shp_from_url(\n",
    "    \"https://github.com/nvkelso/natural-earth-vector/blob/master/10m_physical/ne_10m_rivers_australia\",\n",
    "    name=\"Rivers of Australia\",\n",
    ")\n",
    "aus_rivers_ipyleaflet.add_layer_control()\n",
    "aus_rivers_ipyleaflet"
   ]
  },
  {
   "cell_type": "markdown",
   "metadata": {},
   "source": [
    "#### Raster data for a North American tree species"
   ]
  },
  {
   "cell_type": "code",
   "execution_count": null,
   "metadata": {},
   "outputs": [],
   "source": [
    "raster_map = ecospat_ipyleaflet.Map(center=[40, -100], zoom=4, height=\"300px\")\n",
    "raster_map.add_raster(\n",
    "    \"Populus_angustifolia_persistence_raster.tif\",\n",
    "    colormap=\"viridis\",\n",
    "    name=\"Populus angustifolia persistence\",\n",
    ")\n",
    "raster_map.add_layer_control()\n",
    "raster_map"
   ]
  }
 ],
 "metadata": {
  "kernelspec": {
   "display_name": "biodiviz",
   "language": "python",
   "name": "python3"
  },
  "language_info": {
   "codemirror_mode": {
    "name": "ipython",
    "version": 3
   },
   "file_extension": ".py",
   "mimetype": "text/x-python",
   "name": "python",
   "nbconvert_exporter": "python",
   "pygments_lexer": "ipython3",
   "version": "3.12.9"
  }
 },
 "nbformat": 4,
 "nbformat_minor": 2
}
