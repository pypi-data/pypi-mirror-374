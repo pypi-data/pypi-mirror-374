{
 "cells": [
  {
   "cell_type": "markdown",
   "metadata": {},
   "source": [
    "[![Open In Colab](https://colab.research.google.com/assets/colab-badge.svg)](https://colab.research.google.com/github/anytko/ecospat/blob/main/docs/examples/interactive_leafmap.ipynb)"
   ]
  },
  {
   "cell_type": "code",
   "execution_count": null,
   "metadata": {},
   "outputs": [],
   "source": [
    "# Uncomment below to run in Google Collab\n",
    "# pip install ecospat"
   ]
  },
  {
   "cell_type": "code",
   "execution_count": null,
   "metadata": {},
   "outputs": [],
   "source": [
    "import ecospat.mapping as ecospat_ipyleaflet\n",
    "import leafmap"
   ]
  },
  {
   "cell_type": "markdown",
   "metadata": {},
   "source": [
    "### Creating an interactive map with ecospat package"
   ]
  },
  {
   "cell_type": "code",
   "execution_count": null,
   "metadata": {},
   "outputs": [],
   "source": [
    "interactive_map = ecospat_ipyleaflet.Map(center=[40, -100], zoom=4, height=\"300px\")\n",
    "\n",
    "url = \"https://nominatim.openstreetmap.org/search?format=json&q={s}\"\n",
    "interactive_map.add_search_control(url, zoom=10, position=\"topleft\")\n",
    "interactive_map"
   ]
  },
  {
   "cell_type": "markdown",
   "metadata": {},
   "source": [
    "### Adding a WMS layer with a legend"
   ]
  },
  {
   "cell_type": "code",
   "execution_count": null,
   "metadata": {},
   "outputs": [],
   "source": [
    "legend_map = leafmap.Map(center=[40, -100], zoom=4, height=\"500px\")\n",
    "wms_url = \"https://services.terrascope.be/wms/v2?\"\n",
    "wms_layer = \"WORLDCOVER_2021_MAP\"\n",
    "\n",
    "# Add the ESA WorldCover layer\n",
    "legend_map.add_wms_layer(\n",
    "    url=wms_url,\n",
    "    layers=wms_layer,\n",
    "    name=\"ESA WorldCover 2021\",\n",
    "    attribution=\"ESA/Terrascope\",\n",
    "    format=\"image/png\",\n",
    "    transparent=True,\n",
    "    shown=True,\n",
    ")\n",
    "\n",
    "legend_map.add_legend(\n",
    "    title=\"ESA WorldCover\", legend_dict=leafmap.builtin_legends[\"ESA_WorldCover\"]\n",
    ")\n",
    "\n",
    "legend_map"
   ]
  },
  {
   "cell_type": "markdown",
   "metadata": {},
   "source": [
    "### Creating cluster markers"
   ]
  },
  {
   "cell_type": "code",
   "execution_count": null,
   "metadata": {},
   "outputs": [],
   "source": [
    "import geopandas as gpd\n",
    "\n",
    "url = \"https://github.com/opengeos/datasets/releases/download/places/wa_building_centroids.geojson\"\n",
    "\n",
    "# Read the GeoJSON file\n",
    "gdf = gpd.read_file(url)\n",
    "\n",
    "# Add latitude and longitude columns from the geometry\n",
    "gdf[\"longitude\"] = gdf.geometry.x\n",
    "gdf[\"latitude\"] = gdf.geometry.y\n",
    "\n",
    "m = leafmap.Map(center=[47.654, -117.60], zoom=16)\n",
    "m.add_basemap(\"Google Satellite\")\n",
    "m.add_marker_cluster(gdf, x=\"longitude\", y=\"latitude\", layer_name=\"Buildings\")\n",
    "m"
   ]
  },
  {
   "cell_type": "markdown",
   "metadata": {},
   "source": [
    "### Creating circle markers"
   ]
  },
  {
   "cell_type": "code",
   "execution_count": null,
   "metadata": {},
   "outputs": [],
   "source": [
    "m2 = leafmap.Map(center=[47.654, -117.60], zoom=16)\n",
    "m2.add_basemap(\"Google Satellite\")\n",
    "m2.add_circle_markers_from_xy(\n",
    "    gdf,\n",
    "    x=\"longitude\",\n",
    "    y=\"latitude\",\n",
    "    layer_name=\"Buildings\",\n",
    "    radius=5,\n",
    "    fill_color=\"yellow\",\n",
    "    fill_opacity=0.8,\n",
    "    color=\"red\",\n",
    ")\n",
    "m2"
   ]
  },
  {
   "cell_type": "markdown",
   "metadata": {},
   "source": [
    "### Visualizing vector data - polygons"
   ]
  },
  {
   "cell_type": "code",
   "execution_count": null,
   "metadata": {},
   "outputs": [],
   "source": [
    "m3 = leafmap.Map(center=[47.654, -117.60], zoom=16)\n",
    "\n",
    "\n",
    "style = {\"color\": \"red\"}\n",
    "\n",
    "m3.add_basemap(\"Google Satellite\")\n",
    "m3.add_vector(\n",
    "    \"https://github.com/opengeos/datasets/releases/download/places/wa_overture_buildings.geojson\",\n",
    "    style=style,\n",
    "    layer_name=\"Building Outlines\",\n",
    ")\n",
    "m3"
   ]
  },
  {
   "cell_type": "markdown",
   "metadata": {},
   "source": [
    "### Visualizing vector data - lines"
   ]
  },
  {
   "cell_type": "code",
   "execution_count": null,
   "metadata": {},
   "outputs": [],
   "source": [
    "m4 = leafmap.Map(center=[36.121, -115.205], zoom=17)\n",
    "\n",
    "style = {\n",
    "    \"color\": \"red\",  # outline color\n",
    "    \"weight\": 2,  # outline thickness    # fully transparent\n",
    "}\n",
    "\n",
    "m4.add_basemap(\"Google Satellite\")\n",
    "m4.add_vector(\n",
    "    \"https://github.com/opengeos/datasets/releases/download/places/las_vegas_roads.geojson\",\n",
    "    style=style,\n",
    "    layer_name=\"Las Vegas Roads\",\n",
    ")\n",
    "m4"
   ]
  },
  {
   "cell_type": "markdown",
   "metadata": {},
   "source": [
    "### Visualizing vector data - data"
   ]
  },
  {
   "cell_type": "code",
   "execution_count": null,
   "metadata": {},
   "outputs": [],
   "source": [
    "m5 = leafmap.Map(center=[40, -100], zoom=4)\n",
    "\n",
    "\n",
    "url = \"https://github.com/opengeos/datasets/releases/download/us/us_counties.geojson\"\n",
    "gdf = gpd.read_file(url)\n",
    "\n",
    "# Create the choropleth map based on the CENSUSAREA column\n",
    "m5.add_data(\n",
    "    gdf,\n",
    "    column=\"CENSUSAREA\",\n",
    "    cmap=\"Blues\",\n",
    "    layer_name=\"Census Area\",\n",
    "    legend_title=\"Census Area\",\n",
    "    legend=True,\n",
    ")\n",
    "\n",
    "# Display the map\n",
    "m5"
   ]
  },
  {
   "cell_type": "markdown",
   "metadata": {},
   "source": [
    "### Creating a split map"
   ]
  },
  {
   "cell_type": "code",
   "execution_count": null,
   "metadata": {},
   "outputs": [],
   "source": [
    "m6 = leafmap.Map()\n",
    "m6.add_basemap(\"Satellite\")\n",
    "image1 = (\n",
    "    \"https://github.com/opengeos/datasets/releases/download/raster/Libya-2023-07-01.tif\"\n",
    ")\n",
    "image2 = (\n",
    "    \"https://github.com/opengeos/datasets/releases/download/raster/Libya-2023-09-13.tif\"\n",
    ")\n",
    "m6.split_map(\n",
    "    image1,\n",
    "    image2,\n",
    "    left_label=\"Pre-event\",\n",
    "    right_label=\"Post-event\",\n",
    ")\n",
    "m6"
   ]
  }
 ],
 "metadata": {
  "kernelspec": {
   "display_name": "biodiviz",
   "language": "python",
   "name": "python3"
  },
  "language_info": {
   "codemirror_mode": {
    "name": "ipython",
    "version": 3
   },
   "file_extension": ".py",
   "mimetype": "text/x-python",
   "name": "python",
   "nbconvert_exporter": "python",
   "pygments_lexer": "ipython3",
   "version": "3.12.9"
  }
 },
 "nbformat": 4,
 "nbformat_minor": 2
}
