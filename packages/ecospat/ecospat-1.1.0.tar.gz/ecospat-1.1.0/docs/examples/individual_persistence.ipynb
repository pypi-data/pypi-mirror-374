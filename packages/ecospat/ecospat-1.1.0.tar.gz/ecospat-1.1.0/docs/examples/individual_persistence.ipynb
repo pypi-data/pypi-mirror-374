{
 "cells": [
  {
   "cell_type": "markdown",
   "metadata": {},
   "source": [
    "[![Open In Colab](https://colab.research.google.com/assets/colab-badge.svg)](https://colab.research.google.com/github/anytko/ecospat/blob/main/docs/examples/individual_persistence.ipynb)"
   ]
  },
  {
   "cell_type": "code",
   "execution_count": null,
   "metadata": {},
   "outputs": [],
   "source": [
    "# Uncomment below to run in Google Collab\n",
    "# pip install ecospat"
   ]
  },
  {
   "cell_type": "markdown",
   "metadata": {},
   "source": [
    "## Categorizing and visualizing individual persistence"
   ]
  },
  {
   "cell_type": "code",
   "execution_count": null,
   "metadata": {},
   "outputs": [],
   "source": [
    "import ecospat.ecospat as ecospat_full\n",
    "from ecospat.stand_alone_functions import (\n",
    "    process_species_historical_range,\n",
    "    analyze_species_distribution,\n",
    "    analyze_northward_shift,\n",
    "    calculate_rate_of_change_first_last,\n",
    "    merge_category_dataframes,\n",
    "    prepare_gdf_for_rasterization,\n",
    "    cat_int_mapping,\n",
    "    rasterize_multiband_gdf_match,\n",
    "    compute_propagule_pressure_range,\n",
    "    compute_individual_persistence,\n",
    ")"
   ]
  },
  {
   "cell_type": "markdown",
   "metadata": {},
   "source": [
    "### Historic range edges"
   ]
  },
  {
   "cell_type": "code",
   "execution_count": null,
   "metadata": {},
   "outputs": [],
   "source": [
    "hist_pipeline = ecospat_full.Map()\n",
    "hist_range = process_species_historical_range(\n",
    "    new_map=hist_pipeline, species_name=\"Populus angustifolia\"\n",
    ")"
   ]
  },
  {
   "cell_type": "markdown",
   "metadata": {},
   "source": [
    "### Modern range edges and historical population data"
   ]
  },
  {
   "cell_type": "code",
   "execution_count": null,
   "metadata": {},
   "outputs": [],
   "source": [
    "classified_modern, classified_historic = analyze_species_distribution(\n",
    "    \"Populus angustifolia\", record_limit=1000, continent=\"north_america\"\n",
    ")"
   ]
  },
  {
   "cell_type": "markdown",
   "metadata": {},
   "source": [
    "### Northward shift"
   ]
  },
  {
   "cell_type": "code",
   "execution_count": null,
   "metadata": {},
   "outputs": [],
   "source": [
    "northward_rate_df = analyze_northward_shift(\n",
    "    gdf_hist=hist_range,\n",
    "    gdf_new=classified_modern,\n",
    "    species_name=\"Populus angustifolia\",\n",
    ")\n",
    "northward_rate_df = northward_rate_df[\n",
    "    northward_rate_df[\"category\"].isin([\"leading\", \"core\", \"trailing\"])\n",
    "]\n",
    "\n",
    "northward_rate_df[\"category\"] = northward_rate_df[\"category\"].str.title()"
   ]
  },
  {
   "cell_type": "markdown",
   "metadata": {},
   "source": [
    "### Population density change"
   ]
  },
  {
   "cell_type": "code",
   "execution_count": null,
   "metadata": {},
   "outputs": [],
   "source": [
    "change = calculate_rate_of_change_first_last(\n",
    "    classified_historic, classified_modern, \"Populus angustifolia\", custom_end_year=2025\n",
    ")\n",
    "\n",
    "\n",
    "change = change[change[\"collapsed_category\"].isin([\"leading\", \"core\", \"trailing\"])]\n",
    "change = change.rename(\n",
    "    columns={\n",
    "        \"collapsed_category\": \"Category\",\n",
    "        \"rate_of_change_first_last\": \"Rate of Change\",\n",
    "        \"start_time_period\": \"Start Years\",\n",
    "        \"end_time_period\": \"End Years\",\n",
    "    }\n",
    ")\n",
    "\n",
    "\n",
    "change[\"Category\"] = change[\"Category\"].str.title()"
   ]
  },
  {
   "cell_type": "markdown",
   "metadata": {},
   "source": [
    "### Prepare data for rasterization"
   ]
  },
  {
   "cell_type": "code",
   "execution_count": null,
   "metadata": {},
   "outputs": [],
   "source": [
    "merged = merge_category_dataframes(northward_rate_df, change)\n",
    "\n",
    "preped_gdf = prepare_gdf_for_rasterization(classified_modern, merged)\n",
    "\n",
    "preped_gdf_new = cat_int_mapping(preped_gdf)\n",
    "\n",
    "preped_gdf_new.head()"
   ]
  },
  {
   "cell_type": "code",
   "execution_count": null,
   "metadata": {},
   "outputs": [],
   "source": [
    "value_columns = [\n",
    "    \"density\",\n",
    "    \"northward_rate_km_per_year\",\n",
    "    \"Rate of Change\",\n",
    "    \"category_int\",\n",
    "]\n",
    "raster_show, transform, show_bounds = rasterize_multiband_gdf_match(\n",
    "    preped_gdf_new, value_columns\n",
    ")"
   ]
  },
  {
   "cell_type": "markdown",
   "metadata": {},
   "source": [
    "### Rasterize data and compute propagule pressure"
   ]
  },
  {
   "cell_type": "code",
   "execution_count": null,
   "metadata": {},
   "outputs": [],
   "source": [
    "pressure_show = compute_propagule_pressure_range(raster_show)"
   ]
  },
  {
   "cell_type": "markdown",
   "metadata": {},
   "source": [
    "### Compute individual persistence"
   ]
  },
  {
   "cell_type": "code",
   "execution_count": null,
   "metadata": {},
   "outputs": [],
   "source": [
    "points = compute_individual_persistence(\n",
    "    points_gdf=classified_modern,\n",
    "    raster_stack_arrays=raster_show,\n",
    "    propagule_array=pressure_show,\n",
    "    baseline_death=0.10,\n",
    "    transform=transform,\n",
    ")\n",
    "points.head()"
   ]
  },
  {
   "cell_type": "code",
   "execution_count": null,
   "metadata": {},
   "outputs": [],
   "source": [
    "point_map_new = ecospat_full.Map()\n",
    "point_map_new.add_basemap(\"GBIF.Classic\")\n",
    "point_map_new.add_point_data(points, use_gradient=True)\n",
    "point_map_new"
   ]
  }
 ],
 "metadata": {
  "kernelspec": {
   "display_name": "biodiviz",
   "language": "python",
   "name": "python3"
  },
  "language_info": {
   "codemirror_mode": {
    "name": "ipython",
    "version": 3
   },
   "file_extension": ".py",
   "mimetype": "text/x-python",
   "name": "python",
   "nbconvert_exporter": "python",
   "pygments_lexer": "ipython3",
   "version": "3.12.9"
  }
 },
 "nbformat": 4,
 "nbformat_minor": 2
}
