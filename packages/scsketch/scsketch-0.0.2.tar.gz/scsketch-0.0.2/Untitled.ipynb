{
 "cells": [
  {
   "cell_type": "code",
   "execution_count": 1,
   "id": "782a2998-0de4-4564-b220-fe35432fdeec",
   "metadata": {},
   "outputs": [
    {
     "name": "stdout",
     "output_type": "stream",
     "text": [
      "version: 0.0.0\n",
      "file: /Users/askartemirbek/anywidgets_practice/scsketch/src/scsketch/__init__.py\n",
      "has view: False\n"
     ]
    }
   ],
   "source": [
    "import scsketch, importlib\n",
    "print(\"version:\", getattr(scsketch, \"__version__\", \"unknown\"))\n",
    "print(\"file:\", scsketch.__file__)\n",
    "print(\"has view:\", hasattr(scsketch, \"view\"))"
   ]
  },
  {
   "cell_type": "code",
   "execution_count": null,
   "id": "bd567033-8d72-4909-8b43-fddaab906714",
   "metadata": {},
   "outputs": [],
   "source": []
  }
 ],
 "metadata": {
  "kernelspec": {
   "display_name": "Python 3 (ipykernel)",
   "language": "python",
   "name": "python3"
  },
  "language_info": {
   "codemirror_mode": {
    "name": "ipython",
    "version": 3
   },
   "file_extension": ".py",
   "mimetype": "text/x-python",
   "name": "python",
   "nbconvert_exporter": "python",
   "pygments_lexer": "ipython3",
   "version": "3.12.11"
  }
 },
 "nbformat": 4,
 "nbformat_minor": 5
}
